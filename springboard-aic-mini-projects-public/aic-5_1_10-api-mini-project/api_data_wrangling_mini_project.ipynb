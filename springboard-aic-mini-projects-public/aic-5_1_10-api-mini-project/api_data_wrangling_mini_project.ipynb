{
 "cells": [
  {
   "cell_type": "markdown",
   "metadata": {},
   "source": [
    "This exercise will require you to pull some data from the Qunadl API. Qaundl is currently the most widely used aggregator of financial market data."
   ]
  },
  {
   "cell_type": "markdown",
   "metadata": {},
   "source": [
    "As a first step, you will need to register a free account on the http://www.quandl.com website."
   ]
  },
  {
   "cell_type": "markdown",
   "metadata": {},
   "source": [
    "After you register, you will be provided with a unique API key, that you should store:"
   ]
  },
  {
   "cell_type": "code",
   "execution_count": 1,
   "metadata": {},
   "outputs": [],
   "source": [
    "# Store the API key as a string - according to PEP8, constants are always named in all upper case\n",
    "API_KEY = 'VsB-CihDb-vgGn4zr-yz'"
   ]
  },
  {
   "cell_type": "markdown",
   "metadata": {},
   "source": [
    "Qaundl has a large number of data sources, but, unfortunately, most of them require a Premium subscription. Still, there are also a good number of free datasets."
   ]
  },
  {
   "cell_type": "markdown",
   "metadata": {},
   "source": [
    "For this mini project, we will focus on equities data from the Frankfurt Stock Exhange (FSE), which is available for free. We'll try and analyze the stock prices of a company called Carl Zeiss Meditec, which manufactures tools for eye examinations, as well as medical lasers for laser eye surgery: https://www.zeiss.com/meditec/int/home.html. The company is listed under the stock ticker AFX_X."
   ]
  },
  {
   "cell_type": "markdown",
   "metadata": {},
   "source": [
    "You can find the detailed Quandl API instructions here: https://docs.quandl.com/docs/time-series"
   ]
  },
  {
   "cell_type": "markdown",
   "metadata": {},
   "source": [
    "While there is a dedicated Python package for connecting to the Quandl API, we would prefer that you use the *requests* package, which can be easily downloaded using *pip* or *conda*. You can find the documentation for the package here: http://docs.python-requests.org/en/master/ "
   ]
  },
  {
   "cell_type": "markdown",
   "metadata": {},
   "source": [
    "Finally, apart from the *requests* package, you are encouraged to not use any third party Python packages, such as *pandas*, and instead focus on what's available in the Python Standard Library (the *collections* module might come in handy: https://pymotw.com/3/collections/).\n",
    "Also, since you won't have access to DataFrames, you are encouraged to us Python's native data structures - preferably dictionaries, though some questions can also be answered using lists.\n",
    "You can read more on these data structures here: https://docs.python.org/3/tutorial/datastructures.html"
   ]
  },
  {
   "cell_type": "markdown",
   "metadata": {},
   "source": [
    "Keep in mind that the JSON responses you will be getting from the API map almost one-to-one to Python's dictionaries. Unfortunately, they can be very nested, so make sure you read up on indexing dictionaries in the documentation provided above."
   ]
  },
  {
   "cell_type": "code",
   "execution_count": 2,
   "metadata": {},
   "outputs": [],
   "source": [
    "# First, import the relevant modules\n",
    "import requests\n",
    "import json"
   ]
  },
  {
   "cell_type": "code",
   "execution_count": 3,
   "metadata": {},
   "outputs": [],
   "source": [
    "# Now, call the Quandl API and pull out a small sample of the data (only one day) to get a glimpse\n",
    "# into the JSON structure that will be returned\n",
    "base_url = 'https://www.quandl.com/api/v3/datasets/FSE/AFX_X.json'\n",
    "PARAMS = {'start_date':'2017-01-10', 'end_date':'2017-01-10','api_key': API_KEY}\n",
    "r = requests.get(base_url, params=PARAMS)"
   ]
  },
  {
   "cell_type": "code",
   "execution_count": 4,
   "metadata": {},
   "outputs": [
    {
     "data": {
      "text/plain": [
       "{'dataset': {'id': 10095370,\n",
       "  'dataset_code': 'AFX_X',\n",
       "  'database_code': 'FSE',\n",
       "  'name': 'Carl Zeiss Meditec (AFX_X)',\n",
       "  'description': 'Stock Prices for Carl Zeiss Meditec (AFX) from the Frankfurt Stock Exchange.<br><br>Trading System: Xetra<br><br>ISIN: DE0005313704',\n",
       "  'refreshed_at': '2019-04-24T22:38:30.525Z',\n",
       "  'newest_available_date': '2019-04-24',\n",
       "  'oldest_available_date': '2000-06-07',\n",
       "  'column_names': ['Date',\n",
       "   'Open',\n",
       "   'High',\n",
       "   'Low',\n",
       "   'Close',\n",
       "   'Change',\n",
       "   'Traded Volume',\n",
       "   'Turnover',\n",
       "   'Last Price of the Day',\n",
       "   'Daily Traded Units',\n",
       "   'Daily Turnover'],\n",
       "  'frequency': 'daily',\n",
       "  'type': 'Time Series',\n",
       "  'premium': False,\n",
       "  'limit': None,\n",
       "  'transform': None,\n",
       "  'column_index': None,\n",
       "  'start_date': '2017-01-10',\n",
       "  'end_date': '2017-01-10',\n",
       "  'data': [['2017-01-10',\n",
       "    34.8,\n",
       "    34.98,\n",
       "    34.46,\n",
       "    34.91,\n",
       "    None,\n",
       "    43976.0,\n",
       "    1528055.0,\n",
       "    None,\n",
       "    None,\n",
       "    None]],\n",
       "  'collapse': None,\n",
       "  'order': None,\n",
       "  'database_id': 6129}}"
      ]
     },
     "execution_count": 4,
     "metadata": {},
     "output_type": "execute_result"
    }
   ],
   "source": [
    "# Inspect the JSON structure of the object you created, and take note of how nested it is,\n",
    "# as well as the overall structure\n",
    "json=r.json()\n",
    "json"
   ]
  },
  {
   "cell_type": "code",
   "execution_count": 5,
   "metadata": {},
   "outputs": [
    {
     "data": {
      "text/plain": [
       "['Date',\n",
       " 'Open',\n",
       " 'High',\n",
       " 'Low',\n",
       " 'Close',\n",
       " 'Change',\n",
       " 'Traded Volume',\n",
       " 'Turnover',\n",
       " 'Last Price of the Day',\n",
       " 'Daily Traded Units',\n",
       " 'Daily Turnover']"
      ]
     },
     "execution_count": 5,
     "metadata": {},
     "output_type": "execute_result"
    }
   ],
   "source": [
    "json['dataset']['column_names']"
   ]
  },
  {
   "cell_type": "code",
   "execution_count": 6,
   "metadata": {},
   "outputs": [
    {
     "data": {
      "text/plain": [
       "[['2017-01-10',\n",
       "  34.8,\n",
       "  34.98,\n",
       "  34.46,\n",
       "  34.91,\n",
       "  None,\n",
       "  43976.0,\n",
       "  1528055.0,\n",
       "  None,\n",
       "  None,\n",
       "  None]]"
      ]
     },
     "execution_count": 6,
     "metadata": {},
     "output_type": "execute_result"
    }
   ],
   "source": [
    "json['dataset']['data']"
   ]
  },
  {
   "cell_type": "code",
   "execution_count": 7,
   "metadata": {},
   "outputs": [],
   "source": [
    "start_date='2017-01-01'\n",
    "end_date='2018-01-01'\n",
    "r = requests.get(base_url, params={'api_key': API_KEY,'start_date': start_date, 'end_date': end_date})\n",
    "json=r.json()"
   ]
  },
  {
   "cell_type": "markdown",
   "metadata": {},
   "source": [
    "These are your tasks for this mini project:\n",
    "\n",
    "1. Collect data from the Franfurt Stock Exchange, for the ticker AFX_X, for the whole year 2017 (keep in mind that the date format is YYYY-MM-DD).\n",
    "2. Convert the returned JSON object into a Python dictionary.\n",
    "3. Calculate what the highest and lowest opening prices were for the stock in this period.\n",
    "4. What was the largest change in any one day (based on High and Low price)?\n",
    "5. What was the largest change between any two days (based on Closing Price)?\n",
    "6. What was the average daily trading volume during this year?\n",
    "7. (Optional) What was the median trading volume during this year. (Note: you may need to implement your own function for calculating the median.)"
   ]
  },
  {
   "cell_type": "code",
   "execution_count": 8,
   "metadata": {},
   "outputs": [
    {
     "name": "stdout",
     "output_type": "stream",
     "text": [
      "highest opening prices:      53.11\n",
      "lowest opening prices:      34.00\n",
      "largest change in any one day:       2.81\n",
      "largest change between any two days:       2.56\n",
      "average daily trading volume: 89124.3373\n",
      "median trading volume: 76286.0000\n"
     ]
    }
   ],
   "source": [
    "dict=json['dataset']\n",
    "data = dict['data']\n",
    "\n",
    "#What was the largest change between any two days (based on Closing Price)?\n",
    "highest_opening = data[0][1]\n",
    "lowest_opening = data[0][1]\n",
    "pre_closing = data[0][4]\n",
    "closing = data[0][4]\n",
    "largest_change_day = 0.0\n",
    "largest_change_2day = abs(pre_closing - closing)\n",
    "volume = []\n",
    "for x in data:\n",
    "    if x[1] !=None:\n",
    "        highest_opening = max(x[1],highest_opening)\n",
    "        lowest_opening = min(x[1],lowest_opening)\n",
    "    if x[2] !=None and x[3] != None :\n",
    "        largest_change_day = max(abs(x[2]-x[3]), largest_change_day)\n",
    "    if x[4] !=None:\n",
    "        pre_closing = closing\n",
    "        closing = x[4]\n",
    "        largest_change_2day = max(largest_change_2day, abs(pre_closing - closing))        \n",
    "    if x[6] != None:\n",
    "        volume.append(x[6])\n",
    "volume.sort()\n",
    "print(\"highest opening prices: {:10.2f}\".format(highest_opening))\n",
    "print(\"lowest opening prices: {:10.2f}\".format(lowest_opening))\n",
    "print(\"largest change in any one day: {:10.2f}\".format(largest_change_day))\n",
    "print(\"largest change between any two days: {:10.2f}\".format(largest_change_2day))\n",
    "print(\"average daily trading volume: {:10.4f}\".format(sum(volume)/len(volume)))\n",
    "print(\"median trading volume: {:10.4f}\".format(volume[len(volume)//2]))"
   ]
  },
  {
   "cell_type": "code",
   "execution_count": 9,
   "metadata": {},
   "outputs": [
    {
     "name": "stdout",
     "output_type": "stream",
     "text": [
      "highest opening prices:      53.11\n",
      "lowest opening prices:      34.00\n",
      "largest change in any one day:       2.81\n",
      "largest change between any two days:       2.56\n",
      "average daily trading volume: 89124.3373\n",
      "median trading volume: 76286.0000\n"
     ]
    }
   ],
   "source": [
    "column_names = json['dataset']['column_names']\n",
    "values = json['dataset']['data']\n",
    "list_of_lists = values\n",
    "values.insert(0, column_names)\n",
    "data_dict = {z[0]:list(z[1:]) for z in zip(*list_of_lists)} \n",
    "highest_opening = max(filter(lambda x : x is not None, data_dict['Open']))\n",
    "lowest_opening = min(filter(lambda x : x is not None, data_dict['Open']))\n",
    "largest_change_day = max([i[0] - i[1] for i in zip(data_dict['High'], data_dict['Low'])])\n",
    "largest_change_2day = 0\n",
    "for idx, value in enumerate(data_dict['Close']):\n",
    "    if idx > 0:\n",
    "        largest_change_2day = max(largest_change_2day, abs(value - data_dict['Close'][idx - 1]))\n",
    "average_volume = sum(data_dict['Traded Volume']) / len(data_dict['Traded Volume'])\n",
    "sorted_volume = sorted(filter(lambda x : x is not None, data_dict['Traded Volume']))\n",
    "median_volume = sorted_volume[len(sorted_volume) // 2]\n",
    "print(\"highest opening prices: {:10.2f}\".format(highest_opening))\n",
    "print(\"lowest opening prices: {:10.2f}\".format(lowest_opening))\n",
    "print(\"largest change in any one day: {:10.2f}\".format(largest_change_day))\n",
    "print(\"largest change between any two days: {:10.2f}\".format(largest_change_2day))\n",
    "print(\"average daily trading volume: {:10.4f}\".format(average_volume))\n",
    "print(\"median trading volume: {:10.4f}\".format(median_volume))"
   ]
  },
  {
   "cell_type": "code",
   "execution_count": 10,
   "metadata": {},
   "outputs": [
    {
     "name": "stdout",
     "output_type": "stream",
     "text": [
      "Requirement already satisfied: quandl in /Users/yang/anaconda3/lib/python3.7/site-packages (3.4.6)\n",
      "Requirement already satisfied: requests>=2.7.0 in /Users/yang/anaconda3/lib/python3.7/site-packages (from quandl) (2.21.0)\n",
      "Requirement already satisfied: inflection>=0.3.1 in /Users/yang/anaconda3/lib/python3.7/site-packages (from quandl) (0.3.1)\n",
      "Requirement already satisfied: pandas>=0.14 in /Users/yang/anaconda3/lib/python3.7/site-packages (from quandl) (0.23.4)\n",
      "Requirement already satisfied: python-dateutil in /Users/yang/anaconda3/lib/python3.7/site-packages (from quandl) (2.7.5)\n",
      "Requirement already satisfied: numpy>=1.8 in /Users/yang/anaconda3/lib/python3.7/site-packages (from quandl) (1.15.4)\n",
      "Requirement already satisfied: more-itertools in /Users/yang/anaconda3/lib/python3.7/site-packages (from quandl) (4.3.0)\n",
      "Requirement already satisfied: six in /Users/yang/anaconda3/lib/python3.7/site-packages (from quandl) (1.12.0)\n",
      "Requirement already satisfied: idna<2.9,>=2.5 in /Users/yang/anaconda3/lib/python3.7/site-packages (from requests>=2.7.0->quandl) (2.8)\n",
      "Requirement already satisfied: urllib3<1.25,>=1.21.1 in /Users/yang/anaconda3/lib/python3.7/site-packages (from requests>=2.7.0->quandl) (1.24.1)\n",
      "Requirement already satisfied: certifi>=2017.4.17 in /Users/yang/anaconda3/lib/python3.7/site-packages (from requests>=2.7.0->quandl) (2018.11.29)\n",
      "Requirement already satisfied: chardet<3.1.0,>=3.0.2 in /Users/yang/anaconda3/lib/python3.7/site-packages (from requests>=2.7.0->quandl) (3.0.4)\n",
      "Requirement already satisfied: pytz>=2011k in /Users/yang/anaconda3/lib/python3.7/site-packages (from pandas>=0.14->quandl) (2018.7)\n"
     ]
    }
   ],
   "source": [
    "# using API\n",
    "! pip install quandl"
   ]
  },
  {
   "cell_type": "code",
   "execution_count": 11,
   "metadata": {},
   "outputs": [],
   "source": [
    "import pandas as pd\n",
    "import quandl"
   ]
  },
  {
   "cell_type": "code",
   "execution_count": 12,
   "metadata": {},
   "outputs": [],
   "source": [
    "data = quandl.get(\"FSE/AFX_X\", authtoken=API_KEY, start_date=start_date, end_date=end_date)"
   ]
  },
  {
   "cell_type": "code",
   "execution_count": 13,
   "metadata": {},
   "outputs": [
    {
     "name": "stdout",
     "output_type": "stream",
     "text": [
      "highest opening prices:      53.11\n",
      "lowest opening prices:      34.00\n",
      "largest change in any one day:       2.81\n",
      "largest change between any two days:       2.56\n",
      "average daily trading volume: 89124.3373\n",
      "median trading volume: 76286.0000\n"
     ]
    }
   ],
   "source": [
    "change_day = data['High'] - data['Low']\n",
    "\n",
    "print(\"highest opening prices: {:10.2f}\".format(data['Open'].max()))\n",
    "print(\"lowest opening prices: {:10.2f}\".format(data['Open'].min()))\n",
    "print(\"largest change in any one day: {:10.2f}\".format(change_day.max()))\n",
    "print(\"largest change between any two days: {:10.2f}\".format(data['Close'].diff().abs().max()))\n",
    "print(\"average daily trading volume: {:10.4f}\".format(data['Traded Volume'].mean()))\n",
    "print(\"median trading volume: {:10.4f}\".format(data['Traded Volume'].median()))"
   ]
  },
  {
   "cell_type": "code",
   "execution_count": null,
   "metadata": {},
   "outputs": [],
   "source": []
  }
 ],
 "metadata": {
  "kernelspec": {
   "display_name": "Python 3",
   "language": "python",
   "name": "python3"
  },
  "language_info": {
   "codemirror_mode": {
    "name": "ipython",
    "version": 3
   },
   "file_extension": ".py",
   "mimetype": "text/x-python",
   "name": "python",
   "nbconvert_exporter": "python",
   "pygments_lexer": "ipython3",
   "version": "3.7.1"
  }
 },
 "nbformat": 4,
 "nbformat_minor": 2
}
