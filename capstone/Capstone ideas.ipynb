{
 "cells": [
  {
   "cell_type": "markdown",
   "metadata": {},
   "source": [
    "# Capstone Ideas"
   ]
  },
  {
   "cell_type": "markdown",
   "metadata": {},
   "source": [
    "Inspired by my past work experience and browsing the kaggle data set, I am highly interested the “[Cdiscount’s Image Classification Challenge](https://www.kaggle.com/c/cdiscount-image-classification-challenge)”  which is an image-based product classification.  In the challenge description, they also mentioned an existing text-base auto classification model.  Unfortunately, the dataset was removed after the competition. Meanwhile, the ranking & possible click through for e-commerce product is also the topic under my radar. Nevertheless, the ideal can apply to different data set and, therefore, the followings are the three areas I like to use as capstone project initiative: "
   ]
  },
  {
   "cell_type": "markdown",
   "metadata": {},
   "source": [
    "##  Proposal 1: image-based classification\n"
   ]
  },
  {
   "cell_type": "markdown",
   "metadata": {},
   "source": [
    "Use image data to classification entries into one of the multiple categories. The categories should be predefined either via certain criterias or by field expert. Some training data with tagged categories are needed to perform this supervised machine learning. Available cases from kaggle including: \n",
    "\n",
    "- [Yelp Restaurant Photo Classification](https://www.kaggle.com/c/yelp-restaurant-photo-classification) \n",
    "- [iNaturalist Challenge at FGVC5](https://www.kaggle.com/c/inaturalist-2018)\n",
    "- [iNaturalist Challenge at FGVC 2017](https://www.kaggle.com/c/inaturalist-challenge-at-fgvc-2017)\n",
    "- [Natural Images](https://www.kaggle.com/prasunroy/natural-images)\n",
    "- [Boat types recognition](https://www.kaggle.com/clorichel/boat-types-recognition) "
   ]
  },
  {
   "cell_type": "markdown",
   "metadata": {},
   "source": [
    "## Proposal 2: text-based classification\n"
   ]
  },
  {
   "cell_type": "markdown",
   "metadata": {},
   "source": [
    "Use text data,  product name/title  and description,  to classification entries into one of the multiple categories. This is similar to the proposal 1 but switch to text processing. I found some data set in kaggle can fit into this group: \n",
    "\n",
    "- [News Category Dataset](https://www.kaggle.com/rmisra/news-category-dataset)\n",
    "- [The reddit self-post classification task](https://www.kaggle.com/mswarbrickjones/reddit-selfposts) \n",
    "- [Ten Thousand German News Articles Dataset](https://www.kaggle.com/tblock/10kgnad) \n",
    "- [Email Spam](https://www.kaggle.com/veleon/ham-and-spam-dataset) (binary classification)\n",
    "- [Quora Insincere Questions Classification](https://www.kaggle.com/c/quora-insincere-questions-classification)  (binary classification)\n",
    "- [Toxic Comment Classification Challenge](https://www.kaggle.com/c/jigsaw-toxic-comment-classification-challenge)  (6 categories)\n"
   ]
  },
  {
   "cell_type": "markdown",
   "metadata": {},
   "source": [
    "## Proposal 3: use multiple features/factors for prediction and sort \n"
   ]
  },
  {
   "cell_type": "markdown",
   "metadata": {},
   "source": [
    "This lands on traditional data science model which either to re-rank results or to predict click through according to relevant and score. Same challenges in kaggle are:  \n",
    "- [Personalized Web Search Challenge](https://www.kaggle.com/c/yandex-personalized-web-search-challenge)\n",
    "- [Home Depot Product Search Relevance](https://www.kaggle.com/c/home-depot-product-search-relevance)\n",
    "- [Crowdflower Search Results Relevance](https://www.kaggle.com/c/crowdflower-search-relevance)\n",
    "- [Outbrain Click Prediction](https://www.kaggle.com/c/outbrain-click-prediction)\n",
    "- [Predict the click-through rate of ads given the query and user information](https://www.kaggle.com/c/kddcup2012-track2)\n",
    "- [Personalize Expedia Hotel Searches](https://www.kaggle.com/c/expedia-personalized-sort)\n",
    "- [Display Advertising Challenge](https://www.kaggle.com/c/criteo-display-ad-challenge)\n"
   ]
  },
  {
   "cell_type": "markdown",
   "metadata": {},
   "source": [
    "The 1st proposed idea need tool to get the image data,  the 2nd idea (most likely) need library for NLP and the 3rd one can do some data wrangling as it involves multiple string/numerical fields."
   ]
  }
 ],
 "metadata": {
  "kernelspec": {
   "display_name": "Python 3",
   "language": "python",
   "name": "python3"
  },
  "language_info": {
   "codemirror_mode": {
    "name": "ipython",
    "version": 3
   },
   "file_extension": ".py",
   "mimetype": "text/x-python",
   "name": "python",
   "nbconvert_exporter": "python",
   "pygments_lexer": "ipython3",
   "version": "3.7.1"
  }
 },
 "nbformat": 4,
 "nbformat_minor": 2
}
