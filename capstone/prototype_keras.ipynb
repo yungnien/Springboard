{
  "nbformat": 4,
  "nbformat_minor": 0,
  "metadata": {
    "colab": {
      "name": "prototype_keras.ipynb",
      "version": "0.3.2",
      "provenance": [],
      "collapsed_sections": [],
      "include_colab_link": true
    },
    "kernelspec": {
      "name": "python3",
      "display_name": "Python 3"
    },
    "accelerator": "GPU"
  },
  "cells": [
    {
      "cell_type": "markdown",
      "metadata": {
        "id": "view-in-github",
        "colab_type": "text"
      },
      "source": [
        "<a href=\"https://colab.research.google.com/github/yungnien/Springboard/blob/master/capstone/prototype_keras.ipynb\" target=\"_parent\"><img src=\"https://colab.research.google.com/assets/colab-badge.svg\" alt=\"Open In Colab\"/></a>"
      ]
    },
    {
      "cell_type": "markdown",
      "metadata": {
        "id": "Swdr_ozWPKT9",
        "colab_type": "text"
      },
      "source": [
        "#Summary"
      ]
    },
    {
      "cell_type": "markdown",
      "metadata": {
        "id": "MrBgM87PWjQN",
        "colab_type": "text"
      },
      "source": [
        "# STEP 1 :  load Data and install Lib\n",
        "\n",
        "this section utilize the similar structure as the earlier submission, a quick data clean up has been performed and the data been saved for later reclaim"
      ]
    },
    {
      "cell_type": "code",
      "metadata": {
        "id": "DQPc0QRm-IVp",
        "colab_type": "code",
        "outputId": "ba255ce1-5226-4557-ba66-3e010b12c129",
        "colab": {
          "base_uri": "https://localhost:8080/",
          "height": 119
        }
      },
      "source": [
        "!pip install nltk\n",
        "!pip install contractions\n",
        "!pip install textsearch"
      ],
      "execution_count": 0,
      "outputs": [
        {
          "output_type": "stream",
          "text": [
            "Requirement already satisfied: nltk in /usr/local/lib/python3.6/dist-packages (3.2.5)\n",
            "Requirement already satisfied: six in /usr/local/lib/python3.6/dist-packages (from nltk) (1.12.0)\n",
            "Requirement already satisfied: contractions in /usr/local/lib/python3.6/dist-packages (0.0.21)\n",
            "Requirement already satisfied: textsearch in /usr/local/lib/python3.6/dist-packages (0.0.17)\n",
            "Requirement already satisfied: pyahocorasick in /usr/local/lib/python3.6/dist-packages (from textsearch) (1.4.0)\n",
            "Requirement already satisfied: Unidecode in /usr/local/lib/python3.6/dist-packages (from textsearch) (1.1.1)\n"
          ],
          "name": "stdout"
        }
      ]
    },
    {
      "cell_type": "code",
      "metadata": {
        "id": "qhoRkV_V4xZP",
        "colab_type": "code",
        "outputId": "93cb5327-1c8a-4751-869c-76e4d66af031",
        "colab": {
          "base_uri": "https://localhost:8080/",
          "height": 122
        }
      },
      "source": [
        "from google.colab import drive\n",
        "drive.mount('/content/gdrive')"
      ],
      "execution_count": 3,
      "outputs": [
        {
          "output_type": "stream",
          "text": [
            "Go to this URL in a browser: https://accounts.google.com/o/oauth2/auth?client_id=947318989803-6bn6qk8qdgf4n4g3pfee6491hc0brc4i.apps.googleusercontent.com&redirect_uri=urn%3Aietf%3Awg%3Aoauth%3A2.0%3Aoob&scope=email%20https%3A%2F%2Fwww.googleapis.com%2Fauth%2Fdocs.test%20https%3A%2F%2Fwww.googleapis.com%2Fauth%2Fdrive%20https%3A%2F%2Fwww.googleapis.com%2Fauth%2Fdrive.photos.readonly%20https%3A%2F%2Fwww.googleapis.com%2Fauth%2Fpeopleapi.readonly&response_type=code\n",
            "\n",
            "Enter your authorization code:\n",
            "··········\n",
            "Mounted at /content/gdrive\n"
          ],
          "name": "stdout"
        }
      ]
    },
    {
      "cell_type": "code",
      "metadata": {
        "id": "ejJwG_Pl7Mju",
        "colab_type": "code",
        "outputId": "d184794e-973e-4350-8cc0-3f85785f4289",
        "colab": {
          "base_uri": "https://localhost:8080/",
          "height": 204
        }
      },
      "source": [
        "%%time\n",
        "\n",
        "import contractions\n",
        "import re\n",
        "import nltk\n",
        "nltk.download('punkt')\n",
        "nltk.download('wordnet')\n",
        "nltk.download('averaged_perceptron_tagger')\n",
        "nltk.download('stopwords')\n",
        "\n",
        "from nltk.stem import PorterStemmer, WordNetLemmatizer  \n",
        "from nltk.tokenize import word_tokenize \n",
        "from nltk.corpus import  wordnet, stopwords \n",
        "from joblib import dump, load\n",
        "\n",
        "stop_words = set(stopwords.words('english'))\n",
        "\n",
        "def remove_non_ascii(text):\n",
        "    return ''.join(i for i in text if ord(i)<128)\n",
        "\n",
        "def remove_white_space(text):\n",
        "    return text.strip().strip('\\t\\n')\n",
        "\n",
        "def remove_special_character(text):\n",
        "    return re.sub('[^A-Za-z0-9\\s]+', '', text)\n",
        "\n",
        "def porter_stemmer(text): #PorterStemmer\n",
        "    ps = PorterStemmer()\n",
        "    text = ' '.join([ps.stem(word) for word in word_tokenize(text)])\n",
        "    return text\n",
        "\n",
        "def lemmatizer(text): \n",
        "    lemmatizer = WordNetLemmatizer()\n",
        "    text = ' '.join([lemmatizer.lemmatize(w, get_wordnet_pos(w)) for w in nltk.word_tokenize(text)])\n",
        "    return text\n",
        "\n",
        "def get_wordnet_pos(word):\n",
        "    \"\"\"Map POS tag to first character lemmatize() accepts\"\"\"\n",
        "    tag = nltk.pos_tag([word])[0][1][0].upper()\n",
        "    tag_dict = {\"J\": wordnet.ADJ,\n",
        "                \"N\": wordnet.NOUN,\n",
        "                \"V\": wordnet.VERB,\n",
        "                \"R\": wordnet.ADV}\n",
        "    return tag_dict.get(tag, wordnet.NOUN)\n",
        "    \n",
        "def remove_stop_word(text): \n",
        "    text = ' '.join([w for w in nltk.word_tokenize(text) if w not in stop_words])\n",
        "    return text\n"
      ],
      "execution_count": 0,
      "outputs": [
        {
          "output_type": "stream",
          "text": [
            "[nltk_data] Downloading package punkt to /root/nltk_data...\n",
            "[nltk_data]   Unzipping tokenizers/punkt.zip.\n",
            "[nltk_data] Downloading package wordnet to /root/nltk_data...\n",
            "[nltk_data]   Unzipping corpora/wordnet.zip.\n",
            "[nltk_data] Downloading package averaged_perceptron_tagger to\n",
            "[nltk_data]     /root/nltk_data...\n",
            "[nltk_data]   Unzipping taggers/averaged_perceptron_tagger.zip.\n",
            "[nltk_data] Downloading package stopwords to /root/nltk_data...\n",
            "[nltk_data]   Unzipping corpora/stopwords.zip.\n",
            "CPU times: user 1.1 s, sys: 216 ms, total: 1.32 s\n",
            "Wall time: 2.67 s\n"
          ],
          "name": "stdout"
        }
      ]
    },
    {
      "cell_type": "code",
      "metadata": {
        "id": "OJVikLaOfaBw",
        "colab_type": "code",
        "colab": {}
      },
      "source": [
        "from sklearn.metrics import roc_auc_score, roc_curve, auc, confusion_matrix, classification_report, accuracy_score\n",
        "import seaborn as sns\n",
        "import matplotlib.pyplot as plt\n",
        "\n",
        "def report(y, predicted):\n",
        "    target_names = ['Sincere', 'Insincere']\n",
        "        \n",
        "    #classification_report \n",
        "    report = classification_report(y, predicted, target_names = target_names)\n",
        "    print(report)\n",
        "    \n",
        "    #confusion matrix\n",
        "    matrix = confusion_matrix(y, predicted)\n",
        "    fig, ax = plt.subplots(figsize = (5,5))\n",
        "    sns.heatmap(matrix, annot = True, fmt = 'd')\n",
        "    plt.ylabel('Actual')\n",
        "    plt.xlabel('Predicted')\n",
        "    plt.show()\n",
        "    \n",
        "def plot_history(history):\n",
        "    acc = history.history['acc']\n",
        "    val_acc = history.history['val_acc']\n",
        "    loss = history.history['loss']\n",
        "    val_loss = history.history['val_loss']\n",
        "    x = range(1, len(acc) + 1)\n",
        "    plt.figure(figsize=(12, 5))\n",
        "    plt.subplot(1, 2, 1)\n",
        "    plt.plot(x, acc, 'b', label='Training acc')\n",
        "    plt.plot(x, val_acc, 'r', label='Validation acc')\n",
        "    plt.title('Training and validation accuracy')\n",
        "    plt.legend()\n",
        "    plt.subplot(1, 2, 2)\n",
        "    plt.plot(x, loss, 'b', label='Training loss')\n",
        "    plt.plot(x, val_loss, 'r', label='Validation loss')\n",
        "    plt.title('Training and validation loss')\n",
        "    plt.legend()\n",
        "    plt.show()\n",
        "    \n",
        "    \n",
        "def plot_roc(y, predicted):\n",
        "    #roc curve\n",
        "    fpr, tpr, thresholds = roc_curve(y, predicted, pos_label = 1)\n",
        "    roc_auc = auc(fpr, tpr)\n",
        "    fpr1, tpr1, thresholds1 = roc_curve(y, 1- predicted, pos_label = 0)\n",
        "    roc_auc1 = auc(fpr1, tpr1)\n",
        "\n",
        "    plt.figure()\n",
        "    plt.plot(fpr, tpr, color ='blue', lw = 1, label = 'ROC curve for sincere (area = %0.2f)' % roc_auc)\n",
        "    plt.plot(fpr1, tpr1, color ='red', lw = 1, label = 'ROC curve for insincere (area = %0.2f)' % roc_auc1)\n",
        "    plt.plot([0, 1], [0, 1], color ='black', lw = 1, linestyle = '--')\n",
        "    plt.xlim([0.0, 1.0])\n",
        "    plt.ylim([0.0, 1.05])\n",
        "    plt.xlabel('False Positive Rate')\n",
        "    plt.ylabel('True Positive Rate')\n",
        "    plt.legend(loc = \"lower right\")\n",
        "    plt.show()"
      ],
      "execution_count": 0,
      "outputs": []
    },
    {
      "cell_type": "code",
      "metadata": {
        "id": "dcXhweY67Da3",
        "colab_type": "code",
        "outputId": "e916b752-c91f-4032-c8d5-7203cce5c07f",
        "colab": {
          "base_uri": "https://localhost:8080/",
          "height": 68
        }
      },
      "source": [
        "%%time\n",
        "\n",
        "import pandas as pd\n",
        "train_path = '/content/gdrive/My Drive/data/'\n",
        "train_data = pd.read_csv(train_path+'train.csv')\n",
        "print('Training data set: ' + str(len(train_data)))"
      ],
      "execution_count": 0,
      "outputs": [
        {
          "output_type": "stream",
          "text": [
            "Training data set: 1306122\n",
            "CPU times: user 2.59 s, sys: 210 ms, total: 2.8 s\n",
            "Wall time: 2.88 s\n"
          ],
          "name": "stdout"
        }
      ]
    },
    {
      "cell_type": "code",
      "metadata": {
        "id": "3WqWCqSbi-t5",
        "colab_type": "code",
        "outputId": "059ee0ec-ff50-4b14-940d-9ebe784c2e3b",
        "colab": {
          "base_uri": "https://localhost:8080/",
          "height": 269
        }
      },
      "source": [
        "import numpy as np\n",
        "import pandas as pd\n",
        "import seaborn as sns\n",
        "import matplotlib.pyplot as plt\n",
        "\n",
        "%matplotlib inline\n",
        "\n",
        "plt.style.use('seaborn-deep')\n",
        "bins = np.linspace(0, 70, 50)\n",
        "colors = ['b','g']\n",
        "\n",
        "plt.hist([train_data['word_count'], train_data['word_count_stopword']], bins, color=colors, alpha=0.4, label=['word','word_stop'])\n",
        "plt.legend(loc='upper right')\n",
        "plt.show()"
      ],
      "execution_count": 0,
      "outputs": [
        {
          "output_type": "display_data",
          "data": {
            "image/png": "[encoded data removed]",
            "text/plain": [
              "<Figure size 432x288 with 1 Axes>"
            ]
          },
          "metadata": {
            "tags": []
          }
        }
      ]
    },
    {
      "cell_type": "code",
      "metadata": {
        "id": "vs7NbIVijRIm",
        "colab_type": "code",
        "outputId": "f75a3753-fe24-4663-b904-67ae549fecf2",
        "colab": {
          "base_uri": "https://localhost:8080/",
          "height": 301
        }
      },
      "source": [
        "sns.distplot(train_data['word_count_stopword'], bins=20, kde=True, rug=True)"
      ],
      "execution_count": 0,
      "outputs": [
        {
          "output_type": "execute_result",
          "data": {
            "text/plain": [
              "<matplotlib.axes._subplots.AxesSubplot at 0x7fd738913e80>"
            ]
          },
          "metadata": {
            "tags": []
          },
          "execution_count": 48
        },
        {
          "output_type": "display_data",
          "data": {
            "image/png": "[encoded data removed]",
            "text/plain": [
              "<Figure size 432x288 with 1 Axes>"
            ]
          },
          "metadata": {
            "tags": []
          }
        }
      ]
    },
    {
      "cell_type": "code",
      "metadata": {
        "id": "f_QT2qYojUGN",
        "colab_type": "code",
        "outputId": "4a5133d6-70eb-4b7f-ff01-3763e211b28a",
        "colab": {
          "base_uri": "https://localhost:8080/",
          "height": 301
        }
      },
      "source": [
        "sns.distplot(train_data['word_count'], bins=20, kde=True, rug=True)"
      ],
      "execution_count": 0,
      "outputs": [
        {
          "output_type": "execute_result",
          "data": {
            "text/plain": [
              "<matplotlib.axes._subplots.AxesSubplot at 0x7fd6eb830a90>"
            ]
          },
          "metadata": {
            "tags": []
          },
          "execution_count": 49
        },
        {
          "output_type": "display_data",
          "data": {
            "image/png": "[encoded data removed]",
            "text/plain": [
              "<Figure size 432x288 with 1 Axes>"
            ]
          },
          "metadata": {
            "tags": []
          }
        }
      ]
    },
    {
      "cell_type": "code",
      "metadata": {
        "id": "NzprngiJ7TrO",
        "colab_type": "code",
        "outputId": "c0dc4164-ea99-4864-9959-76644473cb13",
        "colab": {
          "base_uri": "https://localhost:8080/",
          "height": 204
        }
      },
      "source": [
        "%%time\n",
        "\n",
        "train_data['origin'] = train_data['question_text']\n",
        "train_data['question_text_stopword'] = train_data['question_text'].str.normalize('NFKD')\\\n",
        ".apply(remove_non_ascii).apply(remove_white_space).apply(contractions.fix).str.lower()\\\n",
        ".apply(remove_special_character)\n",
        "train_data['question_text'] = train_data['question_text_stopword'].apply(remove_stop_word)\n",
        "\n",
        "train_data['question_text_stem'] = train_data['question_text'].apply(porter_stemmer)\n",
        "train_data['question_text_lemma'] = train_data['question_text'].apply(lemmatizer)\n",
        "train_data['question_text_lemma_stopword'] = train_data['question_text_stopword'].apply(lemmatizer)\n",
        "train_data['word_count'] = train_data['question_text'].apply(lambda x: len(str(x).split()))\n",
        "train_data['word_count_stopword'] = train_data['question_text_lemma_stopword'].apply(lambda x: len(str(x).split()))\n",
        "\n",
        "train_data = train_data.loc[(train_data.word_count > 0)]\n",
        "train_data= train_data.reset_index()\n",
        "\n",
        "print('Training data set: ' + str(len(train_data)))\n",
        "print(train_data.head())\n",
        "\n",
        "dump(train_data, train_path+'train_data.sav')"
      ],
      "execution_count": 0,
      "outputs": [
        {
          "output_type": "stream",
          "text": [
            "Training data set: 1306020\n",
            "   index                   qid  ... word_count  word_count_stopword\n",
            "0      0  00002165364db923c7e6  ...          6                   13\n",
            "1      1  000032939017120e6e44  ...          7                   16\n",
            "2      2  0000412ca6e4628ce2cf  ...          7                   10\n",
            "3      3  000042bf85aa498cd78e  ...          6                    9\n",
            "4      4  0000455dfa3e01eae3af  ...          7                   15\n",
            "\n",
            "[5 rows x 11 columns]\n",
            "CPU times: user 1h 12min 21s, sys: 2min 39s, total: 1h 15min\n",
            "Wall time: 1h 15min 7s\n"
          ],
          "name": "stdout"
        }
      ]
    },
    {
      "cell_type": "markdown",
      "metadata": {
        "id": "1hPq6VeOkSYf",
        "colab_type": "text"
      },
      "source": [
        "#STEP 2 : DNN Model Using Keras API\n",
        "for DNN algorithm, using the general data to prepare data and create model"
      ]
    },
    {
      "cell_type": "markdown",
      "metadata": {
        "id": "2Gb1OGtLyaL9",
        "colab_type": "text"
      },
      "source": [
        "###STEP 2.1  Data Preparation"
      ]
    },
    {
      "cell_type": "code",
      "metadata": {
        "id": "k1069sHnx9YY",
        "colab_type": "code",
        "colab": {}
      },
      "source": [
        "%matplotlib inline\n",
        "import matplotlib.pyplot as plt\n",
        "import tensorflow as tf\n",
        "import numpy as np\n",
        "from tensorflow.python.keras.models import Sequential\n",
        "from tensorflow.python.keras.layers import Dense, Embedding, Dropout, Activation\n",
        "from tensorflow.python.keras import metrics\n",
        "from tensorflow.python.keras.optimizers import Adam\n",
        "from tensorflow.python.keras.preprocessing.text import Tokenizer\n",
        "\n",
        "num_words = 5000 \n",
        "# due to limit on memory, number of words and layer of DNN is limited"
      ],
      "execution_count": 0,
      "outputs": []
    },
    {
      "cell_type": "code",
      "metadata": {
        "id": "K72ZTaaCx9cM",
        "colab_type": "code",
        "outputId": "bea58c69-1b0a-45f4-ee9b-dbe6d340dbd9",
        "colab": {
          "base_uri": "https://localhost:8080/",
          "height": 34
        }
      },
      "source": [
        "from joblib import dump, load\n",
        "\n",
        "train_path = '/content/gdrive/My Drive/data/'\n",
        "train_data = load(train_path+'train_data.sav')\n",
        "print('Training data set: ' + str(len(train_data)))"
      ],
      "execution_count": 0,
      "outputs": [
        {
          "output_type": "stream",
          "text": [
            "Training data set: 1306020\n"
          ],
          "name": "stdout"
        }
      ]
    },
    {
      "cell_type": "code",
      "metadata": {
        "id": "pcj25CXzx9fY",
        "colab_type": "code",
        "colab": {}
      },
      "source": [
        "tokenizer = Tokenizer(num_words=num_words)"
      ],
      "execution_count": 0,
      "outputs": []
    },
    {
      "cell_type": "code",
      "metadata": {
        "id": "tQgo9Qt71Gqg",
        "colab_type": "code",
        "outputId": "1b42d61e-bd17-4d7a-c645-a9523dfb7412",
        "colab": {
          "base_uri": "https://localhost:8080/",
          "height": 51
        }
      },
      "source": [
        "%%time\n",
        "tokenizer.fit_on_texts(train_data['question_text_lemma_stopword'])"
      ],
      "execution_count": 0,
      "outputs": [
        {
          "output_type": "stream",
          "text": [
            "CPU times: user 25.8 s, sys: 60.9 ms, total: 25.9 s\n",
            "Wall time: 25.9 s\n"
          ],
          "name": "stdout"
        }
      ]
    },
    {
      "cell_type": "code",
      "metadata": {
        "id": "wFtZuJiQx9ia",
        "colab_type": "code",
        "outputId": "748f0aff-42d6-48a7-e720-a35b389ea437",
        "colab": {
          "base_uri": "https://localhost:8080/",
          "height": 34
        }
      },
      "source": [
        "dump(tokenizer, train_path+'tokenizer_keras_dnn.sav')"
      ],
      "execution_count": 0,
      "outputs": [
        {
          "output_type": "execute_result",
          "data": {
            "text/plain": [
              "['/content/gdrive/My Drive/data/tokenizer_keras_dnn.sav']"
            ]
          },
          "metadata": {
            "tags": []
          },
          "execution_count": 5
        }
      ]
    },
    {
      "cell_type": "code",
      "metadata": {
        "id": "nMAuVPLPx9my",
        "colab_type": "code",
        "outputId": "0a87207f-92c3-49f7-d1dc-73ab534c146b",
        "colab": {
          "base_uri": "https://localhost:8080/",
          "height": 51
        }
      },
      "source": [
        "%%time\n",
        "\n",
        "train_text = train_data['question_text_lemma_stopword']\n",
        "train_target = train_data['target']\n",
        "\n",
        "dump(train_text, train_path+'train_text_keras_dnn.sav')\n",
        "dump(train_target, train_path+'target_keras_dnn.sav')"
      ],
      "execution_count": 0,
      "outputs": [
        {
          "output_type": "stream",
          "text": [
            "CPU times: user 1.22 s, sys: 180 ms, total: 1.4 s\n",
            "Wall time: 2.42 s\n"
          ],
          "name": "stdout"
        }
      ]
    },
    {
      "cell_type": "markdown",
      "metadata": {
        "id": "mcl4RNFg3vJz",
        "colab_type": "text"
      },
      "source": [
        "###STEP 2.2 DNN Model "
      ]
    },
    {
      "cell_type": "code",
      "metadata": {
        "id": "6MM3FVxPx9qp",
        "colab_type": "code",
        "outputId": "7bfec909-4934-4308-a1f4-2c6b6b97aa74",
        "colab": {
          "base_uri": "https://localhost:8080/",
          "height": 51
        }
      },
      "source": [
        "%%time\n",
        "\n",
        "from joblib import dump, load\n",
        "\n",
        "train_path = '/content/gdrive/My Drive/data/'\n",
        "train_target =load(train_path +'target_keras_dnn.sav')\n",
        "train_text = load(train_path +'train_post_pad_keras_dnn.sav')\n",
        "tokenizer = load(train_path +'tokenizer_keras_dnn.sav')"
      ],
      "execution_count": 0,
      "outputs": [
        {
          "output_type": "stream",
          "text": [
            "CPU times: user 4.23 s, sys: 504 ms, total: 4.74 s\n",
            "Wall time: 5.67 s\n"
          ],
          "name": "stdout"
        }
      ]
    },
    {
      "cell_type": "code",
      "metadata": {
        "id": "BfDVYjufx9uU",
        "colab_type": "code",
        "outputId": "2bd634ff-e2c8-4492-f1c8-509c78d37440",
        "colab": {
          "base_uri": "https://localhost:8080/",
          "height": 68
        }
      },
      "source": [
        "%%time\n",
        "\n",
        "from sklearn.model_selection import train_test_split\n",
        "\n",
        "X_train, X_hold, y_train, y_hold  = train_test_split(train_text, train_target, \n",
        "                                                     train_size = 0.8, test_size = 0.2, \n",
        "                                                     random_state = 42, stratify = train_target)\n",
        "X_train, X_test, y_train, y_test  = train_test_split(X_train, y_train, \n",
        "                                                     train_size = 0.9, test_size = 0.1,  \n",
        "                                                     random_state = 42, stratify = y_train)\n",
        "X_train, X_small, y_train, y_small  = train_test_split(X_train, y_train, \n",
        "                                                       train_size = 0.9, test_size = 0.1,  \n",
        "                                                       random_state = 42, stratify = y_train)\n",
        "X_large, X_mid, y_large, y_mid  = train_test_split(X_train, y_train, \n",
        "                                                   train_size = 0.7, test_size = 0.3,  \n",
        "                                                   random_state = 42, stratify = y_train)\n",
        "\n",
        "print(len(X_hold),len(X_test), len(X_small), len(X_mid), len(X_large), len(train_text))"
      ],
      "execution_count": 0,
      "outputs": [
        {
          "output_type": "stream",
          "text": [
            "261204 104482 94034 253890 592410 1306020\n",
            "CPU times: user 2.9 s, sys: 195 ms, total: 3.1 s\n",
            "Wall time: 3.14 s\n"
          ],
          "name": "stdout"
        }
      ]
    },
    {
      "cell_type": "code",
      "metadata": {
        "id": "EYkuEf124J6C",
        "colab_type": "code",
        "outputId": "bad51ab8-6258-49fd-97cf-6ff14ece95d4",
        "colab": {
          "base_uri": "https://localhost:8080/",
          "height": 34
        }
      },
      "source": [
        "X_test  = tokenizer.texts_to_matrix(X_test, mode='count')\n",
        "\n",
        "dump(X_test, train_path+'X_test_keras_dnn.sav')\n",
        "dump(y_test, train_path+'y_test_keras_dnn.sav')"
      ],
      "execution_count": 0,
      "outputs": [
        {
          "output_type": "execute_result",
          "data": {
            "text/plain": [
              "['/content/gdrive/My Drive/data/y_test_keras_dnn.sav']"
            ]
          },
          "metadata": {
            "tags": []
          },
          "execution_count": 9
        }
      ]
    },
    {
      "cell_type": "code",
      "metadata": {
        "id": "1jFqNAAm_sUx",
        "colab_type": "code",
        "outputId": "9c1fa52d-4f0b-47ce-ebac-94796ae8b0bb",
        "colab": {
          "base_uri": "https://localhost:8080/",
          "height": 34
        }
      },
      "source": [
        "X_hold  = tokenizer.texts_to_matrix(X_hold, mode='count')\n",
        "\n",
        "dump(X_hold, train_path+'X_hold_keras_dnn.sav')\n",
        "dump(y_hold, train_path+'y_hold_keras_dnn.sav')"
      ],
      "execution_count": 0,
      "outputs": [
        {
          "output_type": "execute_result",
          "data": {
            "text/plain": [
              "['/content/gdrive/My Drive/data/y_hold_keras_dnn.sav']"
            ]
          },
          "metadata": {
            "tags": []
          },
          "execution_count": 3
        }
      ]
    },
    {
      "cell_type": "code",
      "metadata": {
        "id": "FnVAc0ze4J9Q",
        "colab_type": "code",
        "outputId": "295b57aa-3472-4e87-9e03-509a9a406d87",
        "colab": {
          "base_uri": "https://localhost:8080/",
          "height": 34
        }
      },
      "source": [
        "X_small  = tokenizer.texts_to_matrix(X_small, mode='count')\n",
        "\n",
        "dump(X_small, train_path+'X_small_keras_dnn.sav')\n",
        "dump(y_small, train_path+'y_small_keras_dnn.sav')"
      ],
      "execution_count": 0,
      "outputs": [
        {
          "output_type": "execute_result",
          "data": {
            "text/plain": [
              "['/content/gdrive/My Drive/data/y_small_keras_dnn.sav']"
            ]
          },
          "metadata": {
            "tags": []
          },
          "execution_count": 10
        }
      ]
    },
    {
      "cell_type": "code",
      "metadata": {
        "id": "vQM3D8Uw9As9",
        "colab_type": "code",
        "colab": {}
      },
      "source": [
        "from joblib import dump, load\n",
        "\n",
        "train_path = '/content/gdrive/My Drive/data/'\n",
        "X_small =load(train_path +'X_small_keras_dnn.sav')\n",
        "y_small = load(train_path +'y_small_keras_dnn.sav')"
      ],
      "execution_count": 0,
      "outputs": []
    },
    {
      "cell_type": "code",
      "metadata": {
        "id": "Yzv69TfjG29z",
        "colab_type": "code",
        "colab": {}
      },
      "source": [
        "model = Sequential()\n",
        "optimizer = Adam(lr=1e-3)\n",
        "model.add(Dense(256, input_shape=(num_words,)))\n",
        "model.add(Activation('relu'))\n",
        "model.add(Dropout(0.5))\n",
        "model.add(Dense(128))\n",
        "model.add(Activation('relu'))\n",
        "model.add(Dropout(0.5))\n",
        "model.add(Dense(1, activation='sigmoid'))\n",
        "model.compile(loss='binary_crossentropy', optimizer=optimizer, metrics=['AUC', 'accuracy'])"
      ],
      "execution_count": 0,
      "outputs": []
    },
    {
      "cell_type": "code",
      "metadata": {
        "id": "7IHF15jb4KDv",
        "colab_type": "code",
        "outputId": "4fcdf8bd-600a-474d-9a59-5dd2e9720ee3",
        "colab": {
          "base_uri": "https://localhost:8080/",
          "height": 391
        }
      },
      "source": [
        "model.summary()"
      ],
      "execution_count": 0,
      "outputs": [
        {
          "output_type": "stream",
          "text": [
            "Model: \"sequential_1\"\n",
            "_________________________________________________________________\n",
            "Layer (type)                 Output Shape              Param #   \n",
            "=================================================================\n",
            "dense_3 (Dense)              (None, 256)               1280256   \n",
            "_________________________________________________________________\n",
            "activation_2 (Activation)    (None, 256)               0         \n",
            "_________________________________________________________________\n",
            "dropout (Dropout)            (None, 256)               0         \n",
            "_________________________________________________________________\n",
            "dense_4 (Dense)              (None, 128)               32896     \n",
            "_________________________________________________________________\n",
            "activation_3 (Activation)    (None, 128)               0         \n",
            "_________________________________________________________________\n",
            "dropout_1 (Dropout)          (None, 128)               0         \n",
            "_________________________________________________________________\n",
            "dense_5 (Dense)              (None, 1)                 129       \n",
            "=================================================================\n",
            "Total params: 1,313,281\n",
            "Trainable params: 1,313,281\n",
            "Non-trainable params: 0\n",
            "_________________________________________________________________\n"
          ],
          "name": "stdout"
        }
      ]
    },
    {
      "cell_type": "code",
      "metadata": {
        "id": "WSHZKM5X8zpp",
        "colab_type": "code",
        "outputId": "bad9fe3a-8727-44d1-b69b-6632fe15ee47",
        "colab": {
          "base_uri": "https://localhost:8080/",
          "height": 275
        }
      },
      "source": [
        "%%time\n",
        "history =  model.fit(X_small, y_small, validation_split=0.1, epochs=5, batch_size=500)\n"
      ],
      "execution_count": 0,
      "outputs": [
        {
          "output_type": "stream",
          "text": [
            "Train on 84630 samples, validate on 9404 samples\n",
            "Epoch 1/5\n",
            "84630/84630 [==============================] - 4s 53us/sample - loss: 0.2014 - auc_2: 0.8082 - acc: 0.9355 - val_loss: 0.1469 - val_auc_2: 0.9184 - val_acc: 0.9381\n",
            "Epoch 2/5\n",
            "84630/84630 [==============================] - 4s 51us/sample - loss: 0.1325 - auc_2: 0.9320 - acc: 0.9466 - val_loss: 0.1403 - val_auc_2: 0.9206 - val_acc: 0.9473\n",
            "Epoch 3/5\n",
            "84630/84630 [==============================] - 4s 51us/sample - loss: 0.1145 - auc_2: 0.9509 - acc: 0.9551 - val_loss: 0.1416 - val_auc_2: 0.9163 - val_acc: 0.9469\n",
            "Epoch 4/5\n",
            "84630/84630 [==============================] - 4s 50us/sample - loss: 0.0986 - auc_2: 0.9639 - acc: 0.9632 - val_loss: 0.1459 - val_auc_2: 0.9135 - val_acc: 0.9482\n",
            "Epoch 5/5\n",
            "84630/84630 [==============================] - 4s 50us/sample - loss: 0.0815 - auc_2: 0.9743 - acc: 0.9702 - val_loss: 0.1632 - val_auc_2: 0.9035 - val_acc: 0.9472\n",
            "CPU times: user 21.5 s, sys: 1.53 s, total: 23 s\n",
            "Wall time: 22.2 s\n"
          ],
          "name": "stdout"
        },
        {
          "output_type": "execute_result",
          "data": {
            "text/plain": [
              "<tensorflow.python.keras.callbacks.History at 0x7fa43007dc88>"
            ]
          },
          "metadata": {
            "tags": []
          },
          "execution_count": 9
        }
      ]
    },
    {
      "cell_type": "code",
      "metadata": {
        "id": "8kHkC9SkvwIx",
        "colab_type": "code",
        "colab": {}
      },
      "source": [
        "plot_history(history)"
      ],
      "execution_count": 0,
      "outputs": []
    },
    {
      "cell_type": "code",
      "metadata": {
        "id": "mkvewCg58zy8",
        "colab_type": "code",
        "colab": {}
      },
      "source": [
        "train_path = '/content/gdrive/My Drive/data/'\n",
        "model.save(train_path+'model_keras_dnn.h5')"
      ],
      "execution_count": 0,
      "outputs": []
    },
    {
      "cell_type": "code",
      "metadata": {
        "id": "BFzsYA138z-l",
        "colab_type": "code",
        "colab": {}
      },
      "source": [
        "from joblib import dump, load\n",
        "\n",
        "train_path = '/content/gdrive/My Drive/data/'\n",
        "X_hold =load(train_path +'X_hold_keras_dnn.sav')\n",
        "y_hold = load(train_path +'y_hold_keras_dnn.sav')"
      ],
      "execution_count": 0,
      "outputs": []
    },
    {
      "cell_type": "code",
      "metadata": {
        "id": "futXDNgt8z7_",
        "colab_type": "code",
        "outputId": "cd4b26e6-6e22-4017-a7cd-976d4e6bea2b",
        "colab": {
          "base_uri": "https://localhost:8080/",
          "height": 68
        }
      },
      "source": [
        "%%time\n",
        "result = model.evaluate(X_hold, y_hold)"
      ],
      "execution_count": 0,
      "outputs": [
        {
          "output_type": "stream",
          "text": [
            "261204/261204 [==============================] - 24s 93us/sample - loss: 0.1642 - auc: 0.8991 - acc: 0.9491\n",
            "CPU times: user 27.9 s, sys: 2.58 s, total: 30.5 s\n",
            "Wall time: 24.5 s\n"
          ],
          "name": "stdout"
        }
      ]
    },
    {
      "cell_type": "code",
      "metadata": {
        "id": "xDtVZyIav6mM",
        "colab_type": "code",
        "colab": {}
      },
      "source": [
        "print(\"Accuracy: {0:.2%}\".format(result[2]))\n",
        "print(\"AUC: {0:.2%}, \".format(result[1]))"
      ],
      "execution_count": 0,
      "outputs": []
    },
    {
      "cell_type": "code",
      "metadata": {
        "id": "6Q43zcJIvi4m",
        "colab_type": "code",
        "colab": {}
      },
      "source": [
        "predicted = model.predict(X_hold)\n",
        "predicted = predicted.T[0]\n",
        "cls_pred = np.array([1.0 if p>0.5 else 0.0 for p in predicted])"
      ],
      "execution_count": 0,
      "outputs": []
    },
    {
      "cell_type": "code",
      "metadata": {
        "id": "3HfHbd_v8zvj",
        "colab_type": "code",
        "outputId": "52686cf3-97c7-425c-c3d7-7fa68381c75f",
        "colab": {
          "base_uri": "https://localhost:8080/",
          "height": 51
        }
      },
      "source": [
        "\n",
        "report(y_hold, cls_pred)\n",
        "plot_roc(y_hold, predicted)\n"
      ],
      "execution_count": 0,
      "outputs": [
        {
          "output_type": "stream",
          "text": [
            "Accuracy: 94.91%\n",
            "AUC: 89.91%\n"
          ],
          "name": "stdout"
        }
      ]
    },
    {
      "cell_type": "code",
      "metadata": {
        "id": "53NS6T7z8zsv",
        "colab_type": "code",
        "colab": {}
      },
      "source": [
        ""
      ],
      "execution_count": 0,
      "outputs": []
    },
    {
      "cell_type": "markdown",
      "metadata": {
        "id": "CP74DOJQYHn5",
        "colab_type": "text"
      },
      "source": [
        "#STEP 3 : RNN (LSTM) Model Using Keras API\n",
        "for RNN algorithm, using the general data to prepare data and create model"
      ]
    },
    {
      "cell_type": "markdown",
      "metadata": {
        "id": "J5I80f_KbTue",
        "colab_type": "text"
      },
      "source": [
        "###STEP 3.1  Data Preparation"
      ]
    },
    {
      "cell_type": "code",
      "metadata": {
        "id": "mcmg0w6LurYr",
        "colab_type": "code",
        "colab": {}
      },
      "source": [
        "%matplotlib inline\n",
        "import matplotlib.pyplot as plt\n",
        "import tensorflow as tf\n",
        "import numpy as np\n",
        "from tensorflow.python.keras.models import Sequential\n",
        "from tensorflow.python.keras.layers import Dense, GRU, Embedding\n",
        "from tensorflow.python.keras import metrics\n",
        "from tensorflow.python.keras.optimizers import Adam\n",
        "from tensorflow.python.keras.preprocessing.text import Tokenizer\n",
        "from tensorflow.python.keras.preprocessing.sequence import pad_sequences"
      ],
      "execution_count": 0,
      "outputs": []
    },
    {
      "cell_type": "code",
      "metadata": {
        "id": "ainkf-IIQHKn",
        "colab_type": "code",
        "outputId": "e28e0494-fcc2-4556-bd61-ba0c096a9949",
        "colab": {
          "base_uri": "https://localhost:8080/",
          "height": 34
        }
      },
      "source": [
        "from joblib import dump, load\n",
        "\n",
        "train_path = '/content/gdrive/My Drive/data/'\n",
        "train_data = load(train_path+'train_data.sav')\n",
        "print('Training data set: ' + str(len(train_data)))"
      ],
      "execution_count": 0,
      "outputs": [
        {
          "output_type": "stream",
          "text": [
            "Training data set: 1306020\n"
          ],
          "name": "stdout"
        }
      ]
    },
    {
      "cell_type": "code",
      "metadata": {
        "id": "bmeS4ltRy8i_",
        "colab_type": "code",
        "colab": {}
      },
      "source": [
        "num_words = 10000\n",
        "max_tokens = 30\n",
        "tokenizer = Tokenizer(num_words=num_words)"
      ],
      "execution_count": 0,
      "outputs": []
    },
    {
      "cell_type": "code",
      "metadata": {
        "id": "HoK_ayXZ4bCd",
        "colab_type": "code",
        "outputId": "6cde430b-4e6b-4169-8715-b58221798318",
        "colab": {
          "base_uri": "https://localhost:8080/",
          "height": 51
        }
      },
      "source": [
        "%%time\n",
        "tokenizer.fit_on_texts(train_data['question_text_lemma_stopword'])"
      ],
      "execution_count": 0,
      "outputs": [
        {
          "output_type": "stream",
          "text": [
            "CPU times: user 26.4 s, sys: 39.8 ms, total: 26.4 s\n",
            "Wall time: 26.5 s\n"
          ],
          "name": "stdout"
        }
      ]
    },
    {
      "cell_type": "code",
      "metadata": {
        "id": "hgLYuEcoy8sA",
        "colab_type": "code",
        "outputId": "584b7cb9-c993-44b1-cace-c97372e794d7",
        "colab": {
          "base_uri": "https://localhost:8080/",
          "height": 34
        }
      },
      "source": [
        "len(tokenizer.word_index)"
      ],
      "execution_count": 0,
      "outputs": [
        {
          "output_type": "execute_result",
          "data": {
            "text/plain": [
              "225357"
            ]
          },
          "metadata": {
            "tags": []
          },
          "execution_count": 76
        }
      ]
    },
    {
      "cell_type": "code",
      "metadata": {
        "id": "QqtwMikZ5xGk",
        "colab_type": "code",
        "colab": {}
      },
      "source": [
        "train_data['question_text_tokens'] = tokenizer.texts_to_sequences(train_data['question_text_lemma_stopword'])"
      ],
      "execution_count": 0,
      "outputs": []
    },
    {
      "cell_type": "code",
      "metadata": {
        "id": "LII1Kocby8f1",
        "colab_type": "code",
        "colab": {}
      },
      "source": [
        "num_tokens = [len(tokens) for tokens in train_data['question_text_tokens']]\n",
        "num_tokens = np.array(num_tokens)\n"
      ],
      "execution_count": 0,
      "outputs": []
    },
    {
      "cell_type": "code",
      "metadata": {
        "id": "i_zAfbw2CF3L",
        "colab_type": "code",
        "outputId": "bf307f66-6819-423e-c961-91ae7e3c7fb9",
        "colab": {
          "base_uri": "https://localhost:8080/",
          "height": 34
        }
      },
      "source": [
        "np.sum(num_tokens < max_tokens) / len(num_tokens)"
      ],
      "execution_count": 0,
      "outputs": [
        {
          "output_type": "execute_result",
          "data": {
            "text/plain": [
              "0.9669423132876985"
            ]
          },
          "metadata": {
            "tags": []
          },
          "execution_count": 80
        }
      ]
    },
    {
      "cell_type": "code",
      "metadata": {
        "id": "OwBaNo9JC4XL",
        "colab_type": "code",
        "colab": {}
      },
      "source": [
        "pad = 'pre'"
      ],
      "execution_count": 0,
      "outputs": []
    },
    {
      "cell_type": "code",
      "metadata": {
        "id": "BAcsz_Q5C4aH",
        "colab_type": "code",
        "outputId": "c47ee419-c9e3-4fef-a5c1-b31922598e3f",
        "colab": {
          "base_uri": "https://localhost:8080/",
          "height": 51
        }
      },
      "source": [
        "%%time\n",
        "train_data['train_tokens_pre_pad'] = pad_sequences(train_data['question_text_tokens'], maxlen=max_tokens, padding=pad, truncating=pad).tolist()"
      ],
      "execution_count": 0,
      "outputs": [
        {
          "output_type": "stream",
          "text": [
            "CPU times: user 9.81 s, sys: 350 ms, total: 10.2 s\n",
            "Wall time: 10.2 s\n"
          ],
          "name": "stdout"
        }
      ]
    },
    {
      "cell_type": "code",
      "metadata": {
        "id": "TtXo2zJDC4dE",
        "colab_type": "code",
        "colab": {}
      },
      "source": [
        "pad = 'post'"
      ],
      "execution_count": 0,
      "outputs": []
    },
    {
      "cell_type": "code",
      "metadata": {
        "id": "maUXCSYfC4gA",
        "colab_type": "code",
        "outputId": "ad6ae6e3-c956-4acb-f010-506389d9e353",
        "colab": {
          "base_uri": "https://localhost:8080/",
          "height": 51
        }
      },
      "source": [
        "%%time\n",
        "train_data['train_tokens_post_pad'] = pad_sequences(train_data['question_text_tokens'], maxlen=max_tokens, padding=pad, truncating=pad).tolist()"
      ],
      "execution_count": 0,
      "outputs": [
        {
          "output_type": "stream",
          "text": [
            "CPU times: user 8.79 s, sys: 337 ms, total: 9.13 s\n",
            "Wall time: 9.13 s\n"
          ],
          "name": "stdout"
        }
      ]
    },
    {
      "cell_type": "code",
      "metadata": {
        "id": "DzqHGJTlC4sb",
        "colab_type": "code",
        "outputId": "f693d44b-ea6f-4fff-a0a1-1c3ba9a39e6d",
        "colab": {
          "base_uri": "https://localhost:8080/",
          "height": 51
        }
      },
      "source": [
        "%%time\n",
        "\n",
        "from joblib import dump, load\n",
        "\n",
        "dump(train_data, train_path+'train_data_with_token.sav')\n",
        "dump(tokenizer, train_path+'tokenizer_keras.sav')"
      ],
      "execution_count": 0,
      "outputs": [
        {
          "output_type": "stream",
          "text": [
            "CPU times: user 26.5 s, sys: 3.06 s, total: 29.6 s\n",
            "Wall time: 36.9 s\n"
          ],
          "name": "stdout"
        }
      ]
    },
    {
      "cell_type": "code",
      "metadata": {
        "id": "UNp9XyDuQYgk",
        "colab_type": "code",
        "outputId": "25e2c04d-dd87-499d-84db-88d6b2c99305",
        "colab": {
          "base_uri": "https://localhost:8080/",
          "height": 51
        }
      },
      "source": [
        "%%time\n",
        "\n",
        "train_post_pad = train_data['train_tokens_post_pad']\n",
        "train_pre_pad = train_data['train_tokens_pre_pad']\n",
        "train_target = train_data['target']\n",
        "\n",
        "dump(train_post_pad, train_path+'train_post_pad_keras.sav')\n",
        "dump(train_pre_pad, train_path+'train_pre_pad_keras.sav')\n",
        "dump(train_target, train_path+'target_keras.sav')"
      ],
      "execution_count": 0,
      "outputs": [
        {
          "output_type": "stream",
          "text": [
            "CPU times: user 6.56 s, sys: 371 ms, total: 6.93 s\n",
            "Wall time: 8.8 s\n"
          ],
          "name": "stdout"
        }
      ]
    },
    {
      "cell_type": "code",
      "metadata": {
        "id": "qETeVVrsC4vL",
        "colab_type": "code",
        "colab": {}
      },
      "source": [
        "idx = tokenizer.word_index\n",
        "inverse_map = dict(zip(idx.values(), idx.keys()))\n",
        "\n",
        "def tokens_to_string(tokens):\n",
        "    # Map from tokens back to words.\n",
        "    words = [inverse_map[token] for token in tokens if token != 0]\n",
        "    # Concatenate all words.\n",
        "    text = \" \".join(words)\n",
        "    return text"
      ],
      "execution_count": 0,
      "outputs": []
    },
    {
      "cell_type": "code",
      "metadata": {
        "id": "lpzrNRnkC4yz",
        "colab_type": "code",
        "outputId": "25746155-e737-4dd5-b290-62a94f820687",
        "colab": {
          "base_uri": "https://localhost:8080/",
          "height": 136
        }
      },
      "source": [
        "print(train_data['origin'][1])\n",
        "print(train_data['question_text_lemma_stopword'][1])\n",
        "print(train_data['question_text_tokens'][1])\n",
        "print(train_data['train_tokens_pre_pad'][1])\n",
        "print(train_data['train_tokens_post_pad'][1])\n",
        "print(tokens_to_string(train_data['train_tokens_pre_pad'][1]))\n",
        "print(tokens_to_string(train_data['train_tokens_post_pad'][1]))"
      ],
      "execution_count": 0,
      "outputs": [
        {
          "output_type": "stream",
          "text": [
            "Do you have an adopted dog, how would you encourage people to adopt and not shop?\n",
            "do you have an adopt dog how would you encourage people to adopt and not shop\n",
            "[5, 13, 17, 28, 1660, 306, 10, 31, 13, 2474, 34, 6, 1660, 11, 20, 1360]\n",
            "[0, 0, 0, 0, 0, 0, 0, 0, 0, 0, 0, 0, 0, 0, 5, 13, 17, 28, 1660, 306, 10, 31, 13, 2474, 34, 6, 1660, 11, 20, 1360]\n",
            "[5, 13, 17, 28, 1660, 306, 10, 31, 13, 2474, 34, 6, 1660, 11, 20, 1360, 0, 0, 0, 0, 0, 0, 0, 0, 0, 0, 0, 0, 0, 0]\n",
            "do you have an adopt dog how would you encourage people to adopt and not shop\n",
            "do you have an adopt dog how would you encourage people to adopt and not shop\n"
          ],
          "name": "stdout"
        }
      ]
    },
    {
      "cell_type": "markdown",
      "metadata": {
        "id": "9dWtJQycb10g",
        "colab_type": "text"
      },
      "source": [
        "###STEP 3.2  RNN Model (pre padding and post padding)"
      ]
    },
    {
      "cell_type": "code",
      "metadata": {
        "id": "9-fyr9Bljb1M",
        "colab_type": "code",
        "outputId": "13545bf0-fa40-42bc-971c-e5169d790beb",
        "colab": {
          "base_uri": "https://localhost:8080/",
          "height": 51
        }
      },
      "source": [
        "%%time\n",
        "\n",
        "from joblib import dump, load\n",
        "\n",
        "train_path = '/content/gdrive/My Drive/data/'\n",
        "train_target =load(train_path +'target_keras.sav')\n",
        "train_text = load(train_path +'train_post_pad_keras.sav')\n",
        "#train_text = load(train_path + 'train_pre_pad_keras.sav')"
      ],
      "execution_count": 70,
      "outputs": [
        {
          "output_type": "stream",
          "text": [
            "CPU times: user 6.25 s, sys: 607 ms, total: 6.86 s\n",
            "Wall time: 6.89 s\n"
          ],
          "name": "stdout"
        }
      ]
    },
    {
      "cell_type": "code",
      "metadata": {
        "id": "d6RFe-AOjlx9",
        "colab_type": "code",
        "outputId": "c71253f7-1832-455a-be5a-e7495c665d07",
        "colab": {
          "base_uri": "https://localhost:8080/",
          "height": 68
        }
      },
      "source": [
        "%%time\n",
        "\n",
        "from sklearn.model_selection import train_test_split\n",
        "\n",
        "X_train, X_hold, y_train, y_hold  = train_test_split(train_text, train_target, \n",
        "                                                     train_size = 0.8, test_size = 0.2, \n",
        "                                                     random_state = 42, stratify = train_target)\n",
        "X_train, X_test, y_train, y_test  = train_test_split(X_train, y_train, \n",
        "                                                     train_size = 0.9, test_size = 0.1,  \n",
        "                                                     random_state = 42, stratify = y_train)\n",
        "X_train, X_small, y_train, y_small  = train_test_split(X_train, y_train, \n",
        "                                                       train_size = 0.9, test_size = 0.1,  \n",
        "                                                       random_state = 42, stratify = y_train)\n",
        "X_large, X_mid, y_large, y_mid  = train_test_split(X_train, y_train, \n",
        "                                                   train_size = 0.7, test_size = 0.3,  \n",
        "                                                   random_state = 42, stratify = y_train)\n",
        "\n",
        "print(len(X_hold),len(X_test), len(X_small), len(X_mid), len(X_large), len(train_text))"
      ],
      "execution_count": 71,
      "outputs": [
        {
          "output_type": "stream",
          "text": [
            "261204 104482 94034 253890 592410 1306020\n",
            "CPU times: user 3.27 s, sys: 61.7 ms, total: 3.33 s\n",
            "Wall time: 3.33 s\n"
          ],
          "name": "stdout"
        }
      ]
    },
    {
      "cell_type": "code",
      "metadata": {
        "id": "suazaLcHRbMX",
        "colab_type": "code",
        "colab": {}
      },
      "source": [
        "embedding_size = 200\n",
        "num_words = 10000\n",
        "max_tokens = 30"
      ],
      "execution_count": 0,
      "outputs": []
    },
    {
      "cell_type": "code",
      "metadata": {
        "id": "Y982HmTnRbJT",
        "colab_type": "code",
        "colab": {}
      },
      "source": [
        "model = Sequential()\n",
        "optimizer = Adam(lr=1e-3)"
      ],
      "execution_count": 0,
      "outputs": []
    },
    {
      "cell_type": "code",
      "metadata": {
        "id": "oJS8tZ3-RbPn",
        "colab_type": "code",
        "colab": {}
      },
      "source": [
        "model.add(Embedding(input_dim=num_words, output_dim=embedding_size, input_length=max_tokens, name='layer_embedding'))\n",
        "model.add(GRU(units=16, return_sequences=True))\n",
        "model.add(GRU(units=8, return_sequences=True))\n",
        "model.add(GRU(units=8, return_sequences=True))\n",
        "model.add(GRU(units=4))\n",
        "model.add(Dense(1, activation='sigmoid'))\n",
        "model.compile(loss='binary_crossentropy', optimizer=optimizer, metrics=['AUC', 'accuracy'])"
      ],
      "execution_count": 0,
      "outputs": []
    },
    {
      "cell_type": "code",
      "metadata": {
        "id": "arEAT0pbSYtA",
        "colab_type": "code",
        "outputId": "549a288d-2d04-42b4-a678-21ed99c789ba",
        "colab": {
          "base_uri": "https://localhost:8080/",
          "height": 357
        }
      },
      "source": [
        "model.summary()"
      ],
      "execution_count": 75,
      "outputs": [
        {
          "output_type": "stream",
          "text": [
            "Model: \"sequential_8\"\n",
            "_________________________________________________________________\n",
            "Layer (type)                 Output Shape              Param #   \n",
            "=================================================================\n",
            "layer_embedding (Embedding)  (None, 30, 200)           2000000   \n",
            "_________________________________________________________________\n",
            "gru_8 (GRU)                  (None, 30, 16)            10416     \n",
            "_________________________________________________________________\n",
            "gru_9 (GRU)                  (None, 30, 8)             600       \n",
            "_________________________________________________________________\n",
            "gru_10 (GRU)                 (None, 30, 8)             408       \n",
            "_________________________________________________________________\n",
            "gru_11 (GRU)                 (None, 4)                 156       \n",
            "_________________________________________________________________\n",
            "dense_13 (Dense)             (None, 1)                 5         \n",
            "=================================================================\n",
            "Total params: 2,011,585\n",
            "Trainable params: 2,011,585\n",
            "Non-trainable params: 0\n",
            "_________________________________________________________________\n"
          ],
          "name": "stdout"
        }
      ]
    },
    {
      "cell_type": "code",
      "metadata": {
        "id": "pQVi8IaPSYwE",
        "colab_type": "code",
        "outputId": "2ebee5e2-181f-4fb0-cad3-51a20de83987",
        "colab": {
          "base_uri": "https://localhost:8080/",
          "height": 258
        }
      },
      "source": [
        "%%time\n",
        "history = model.fit(np.array(X_small.tolist()), y_small, validation_data=(np.array(X_test.tolist()),y_test), epochs=5, batch_size=500)\n"
      ],
      "execution_count": 76,
      "outputs": [
        {
          "output_type": "stream",
          "text": [
            "Train on 94034 samples, validate on 104482 samples\n",
            "Epoch 1/5\n",
            "94034/94034 [==============================] - 48s 506us/sample - loss: 0.2617 - auc_10: 0.5966 - acc: 0.9339 - val_loss: 0.2118 - val_auc_10: 0.8627 - val_acc: 0.9401\n",
            "Epoch 2/5\n",
            "94034/94034 [==============================] - 45s 481us/sample - loss: 0.1683 - auc_10: 0.8753 - acc: 0.9468 - val_loss: 0.1577 - val_auc_10: 0.8990 - val_acc: 0.9471\n",
            "Epoch 3/5\n",
            "94034/94034 [==============================] - 45s 477us/sample - loss: 0.1320 - auc_10: 0.9174 - acc: 0.9564 - val_loss: 0.1445 - val_auc_10: 0.8967 - val_acc: 0.9497\n",
            "Epoch 4/5\n",
            "94034/94034 [==============================] - 45s 476us/sample - loss: 0.1116 - auc_10: 0.9302 - acc: 0.9629 - val_loss: 0.1455 - val_auc_10: 0.9074 - val_acc: 0.9461\n",
            "Epoch 5/5\n",
            "94034/94034 [==============================] - 45s 477us/sample - loss: 0.0965 - auc_10: 0.9392 - acc: 0.9695 - val_loss: 0.1554 - val_auc_10: 0.8984 - val_acc: 0.9463\n",
            "CPU times: user 5min 27s, sys: 19.4 s, total: 5min 47s\n",
            "Wall time: 3min 54s\n"
          ],
          "name": "stdout"
        }
      ]
    },
    {
      "cell_type": "code",
      "metadata": {
        "id": "SmZshRNWTwuu",
        "colab_type": "code",
        "outputId": "96d2bd20-8b0e-4a94-84c5-90180b8a67dd",
        "colab": {
          "base_uri": "https://localhost:8080/",
          "height": 88
        }
      },
      "source": [
        "%%time\n",
        "result = model.evaluate(np.array(X_hold.tolist()), y_hold)"
      ],
      "execution_count": 77,
      "outputs": [
        {
          "output_type": "stream",
          "text": [
            "261204/261204 [==============================] - 580s 2ms/sample - loss: 0.1544 - auc_10: 0.8986 - acc: 0.9465\n",
            "CPU times: user 13min 57s, sys: 1min 4s, total: 15min 2s\n",
            "Wall time: 9min 41s\n"
          ],
          "name": "stdout"
        }
      ]
    },
    {
      "cell_type": "code",
      "metadata": {
        "id": "1BSediYvib2y",
        "colab_type": "code",
        "colab": {
          "base_uri": "https://localhost:8080/",
          "height": 51
        },
        "outputId": "b43bd619-cfdf-415a-b0af-fa20ca061909"
      },
      "source": [
        "%%time\n",
        "\n",
        "predicted = model.predict(np.array(X_hold.tolist()))\n",
        "predicted = predicted.T[0]\n",
        "cls_pred = np.array([1.0 if p>0.5 else 0.0 for p in predicted])"
      ],
      "execution_count": 78,
      "outputs": [
        {
          "output_type": "stream",
          "text": [
            "CPU times: user 13min 25s, sys: 51 s, total: 14min 16s\n",
            "Wall time: 8min 32s\n"
          ],
          "name": "stdout"
        }
      ]
    },
    {
      "cell_type": "code",
      "metadata": {
        "id": "E8RzJAiIgQIH",
        "colab_type": "code",
        "outputId": "8c46a6b7-98d4-45b1-8371-2a92c6384202",
        "colab": {
          "base_uri": "https://localhost:8080/",
          "height": 1000
        }
      },
      "source": [
        "print(\"Accuracy: {0:.2%}\".format(result[2]))\n",
        "print(\"AUC: {0:.2%}, \".format(result[1]))\n",
        "report(y_hold, cls_pred)\n",
        "plot_roc(y_hold, predicted)\n",
        "plot_history(history)"
      ],
      "execution_count": 79,
      "outputs": [
        {
          "output_type": "stream",
          "text": [
            "Accuracy: 94.65%\n",
            "AUC: 89.86%, \n",
            "              precision    recall  f1-score   support\n",
            "\n",
            "     Sincere       0.97      0.98      0.97    245044\n",
            "   Insincere       0.58      0.47      0.52     16160\n",
            "\n",
            "    accuracy                           0.95    261204\n",
            "   macro avg       0.77      0.73      0.75    261204\n",
            "weighted avg       0.94      0.95      0.94    261204\n",
            "\n"
          ],
          "name": "stdout"
        },
        {
          "output_type": "display_data",
          "data": {
            "image/png": "[encoded data removed]",
            "text/plain": [
              "<Figure size 360x360 with 2 Axes>"
            ]
          },
          "metadata": {
            "tags": []
          }
        },
        {
          "output_type": "display_data",
          "data": {
            "image/png": "[encoded data removed]",
            "text/plain": [
              "<Figure size 432x288 with 1 Axes>"
            ]
          },
          "metadata": {
            "tags": []
          }
        },
        {
          "output_type": "display_data",
          "data": {
            "image/png": "[encoded data removed]",
            "text/plain": [
              "<Figure size 864x360 with 2 Axes>"
            ]
          },
          "metadata": {
            "tags": []
          }
        }
      ]
    },
    {
      "cell_type": "code",
      "metadata": {
        "id": "afsESsBoYdcm",
        "colab_type": "code",
        "colab": {}
      },
      "source": [
        ""
      ],
      "execution_count": 0,
      "outputs": []
    },
    {
      "cell_type": "code",
      "metadata": {
        "id": "uojWp-NFflc-",
        "colab_type": "code",
        "colab": {}
      },
      "source": [
        "train_text = load(train_path + 'train_pre_pad_keras.sav')"
      ],
      "execution_count": 0,
      "outputs": []
    },
    {
      "cell_type": "code",
      "metadata": {
        "id": "cJ757rGhiEX_",
        "colab_type": "code",
        "outputId": "e7778eb8-199d-47e0-9335-c7d679194e95",
        "colab": {
          "base_uri": "https://localhost:8080/",
          "height": 68
        }
      },
      "source": [
        "%%time\n",
        "\n",
        "from sklearn.model_selection import train_test_split\n",
        "\n",
        "X_train, X_hold, y_train, y_hold  = train_test_split(train_text, train_target, \n",
        "                                                     train_size = 0.8, test_size = 0.2, \n",
        "                                                     random_state = 42, stratify = train_target)\n",
        "X_train, X_test, y_train, y_test  = train_test_split(X_train, y_train, \n",
        "                                                     train_size = 0.9, test_size = 0.1,  \n",
        "                                                     random_state = 42, stratify = y_train)\n",
        "X_train, X_small, y_train, y_small  = train_test_split(X_train, y_train, \n",
        "                                                       train_size = 0.9, test_size = 0.1,  \n",
        "                                                       random_state = 42, stratify = y_train)\n",
        "X_large, X_mid, y_large, y_mid  = train_test_split(X_train, y_train, \n",
        "                                                   train_size = 0.7, test_size = 0.3,  \n",
        "                                                   random_state = 42, stratify = y_train)\n",
        "\n",
        "print(len(X_hold),len(X_test), len(X_small), len(X_mid), len(X_large), len(train_text))"
      ],
      "execution_count": 81,
      "outputs": [
        {
          "output_type": "stream",
          "text": [
            "261204 104482 94034 253890 592410 1306020\n",
            "CPU times: user 3.14 s, sys: 102 ms, total: 3.24 s\n",
            "Wall time: 3.24 s\n"
          ],
          "name": "stdout"
        }
      ]
    },
    {
      "cell_type": "code",
      "metadata": {
        "id": "ijwm818_iHOU",
        "colab_type": "code",
        "colab": {}
      },
      "source": [
        "model = Sequential()\n",
        "optimizer = Adam(lr=1e-3)"
      ],
      "execution_count": 0,
      "outputs": []
    },
    {
      "cell_type": "code",
      "metadata": {
        "id": "4TK66PBliHRT",
        "colab_type": "code",
        "colab": {}
      },
      "source": [
        "model.add(Embedding(input_dim=num_words, output_dim=embedding_size, input_length=max_tokens, name='layer_embedding'))\n",
        "model.add(GRU(units=16, return_sequences=True))\n",
        "model.add(GRU(units=8, return_sequences=True))\n",
        "model.add(GRU(units=8, return_sequences=True))\n",
        "model.add(GRU(units=4))\n",
        "model.add(Dense(1, activation='sigmoid'))\n",
        "model.compile(loss='binary_crossentropy', optimizer=optimizer, metrics=['AUC', 'accuracy'])"
      ],
      "execution_count": 0,
      "outputs": []
    },
    {
      "cell_type": "code",
      "metadata": {
        "id": "WxizW70aiHVB",
        "colab_type": "code",
        "outputId": "3a6bdcaf-7ed4-4799-f229-d2814bfdcc43",
        "colab": {
          "base_uri": "https://localhost:8080/",
          "height": 357
        }
      },
      "source": [
        "model.summary()"
      ],
      "execution_count": 84,
      "outputs": [
        {
          "output_type": "stream",
          "text": [
            "Model: \"sequential_9\"\n",
            "_________________________________________________________________\n",
            "Layer (type)                 Output Shape              Param #   \n",
            "=================================================================\n",
            "layer_embedding (Embedding)  (None, 30, 200)           2000000   \n",
            "_________________________________________________________________\n",
            "gru_12 (GRU)                 (None, 30, 16)            10416     \n",
            "_________________________________________________________________\n",
            "gru_13 (GRU)                 (None, 30, 8)             600       \n",
            "_________________________________________________________________\n",
            "gru_14 (GRU)                 (None, 30, 8)             408       \n",
            "_________________________________________________________________\n",
            "gru_15 (GRU)                 (None, 4)                 156       \n",
            "_________________________________________________________________\n",
            "dense_14 (Dense)             (None, 1)                 5         \n",
            "=================================================================\n",
            "Total params: 2,011,585\n",
            "Trainable params: 2,011,585\n",
            "Non-trainable params: 0\n",
            "_________________________________________________________________\n"
          ],
          "name": "stdout"
        }
      ]
    },
    {
      "cell_type": "code",
      "metadata": {
        "id": "bQXaKqqmiRaP",
        "colab_type": "code",
        "outputId": "aef1485e-7c65-4372-fc60-6450866c2990",
        "colab": {
          "base_uri": "https://localhost:8080/",
          "height": 258
        }
      },
      "source": [
        "%%time\n",
        "history = model.fit(np.array(X_small.tolist()), y_small, validation_data=(np.array(X_test.tolist()),y_test), epochs=5, batch_size=500)"
      ],
      "execution_count": 85,
      "outputs": [
        {
          "output_type": "stream",
          "text": [
            "Train on 94034 samples, validate on 104482 samples\n",
            "Epoch 1/5\n",
            "94034/94034 [==============================] - 48s 506us/sample - loss: 0.3329 - auc_12: 0.5133 - acc: 0.9365 - val_loss: 0.2420 - val_auc_12: 0.7734 - val_acc: 0.9382\n",
            "Epoch 2/5\n",
            "94034/94034 [==============================] - 45s 474us/sample - loss: 0.1917 - auc_12: 0.8585 - acc: 0.9446 - val_loss: 0.1649 - val_auc_12: 0.8959 - val_acc: 0.9482\n",
            "Epoch 3/5\n",
            "94034/94034 [==============================] - 45s 478us/sample - loss: 0.1440 - auc_12: 0.9057 - acc: 0.9546 - val_loss: 0.1472 - val_auc_12: 0.9035 - val_acc: 0.9499\n",
            "Epoch 4/5\n",
            "94034/94034 [==============================] - 45s 475us/sample - loss: 0.1224 - auc_12: 0.9203 - acc: 0.9611 - val_loss: 0.1460 - val_auc_12: 0.8919 - val_acc: 0.9498\n",
            "Epoch 5/5\n",
            "94034/94034 [==============================] - 45s 474us/sample - loss: 0.1075 - auc_12: 0.9276 - acc: 0.9662 - val_loss: 0.1492 - val_auc_12: 0.8760 - val_acc: 0.9485\n",
            "CPU times: user 5min 25s, sys: 20.7 s, total: 5min 46s\n",
            "Wall time: 3min 52s\n"
          ],
          "name": "stdout"
        }
      ]
    },
    {
      "cell_type": "code",
      "metadata": {
        "id": "vCKYyqN1iRhZ",
        "colab_type": "code",
        "outputId": "eeef4b58-c970-45e9-b180-6a68e1e649f2",
        "colab": {
          "base_uri": "https://localhost:8080/",
          "height": 88
        }
      },
      "source": [
        "%%time\n",
        "result = model.evaluate(np.array(X_hold.tolist()), y_hold)"
      ],
      "execution_count": 86,
      "outputs": [
        {
          "output_type": "stream",
          "text": [
            "261204/261204 [==============================] - 584s 2ms/sample - loss: 0.1494 - auc_12: 0.8763 - acc: 0.9480\n",
            "CPU times: user 14min, sys: 1min 4s, total: 15min 5s\n",
            "Wall time: 9min 44s\n"
          ],
          "name": "stdout"
        }
      ]
    },
    {
      "cell_type": "code",
      "metadata": {
        "id": "I_F263-6hHli",
        "colab_type": "code",
        "colab": {
          "base_uri": "https://localhost:8080/",
          "height": 51
        },
        "outputId": "19e23381-ced9-4cc8-9537-6564ef8b7f1c"
      },
      "source": [
        "%%time\n",
        "predicted = model.predict(np.array(X_hold.tolist()))\n",
        "predicted = predicted.T[0]\n",
        "cls_pred = np.array([1.0 if p>0.5 else 0.0 for p in predicted])\n"
      ],
      "execution_count": 87,
      "outputs": [
        {
          "output_type": "stream",
          "text": [
            "CPU times: user 13min 30s, sys: 52.5 s, total: 14min 22s\n",
            "Wall time: 8min 35s\n"
          ],
          "name": "stdout"
        }
      ]
    },
    {
      "cell_type": "code",
      "metadata": {
        "id": "ZehYjfLKiRkY",
        "colab_type": "code",
        "outputId": "6106e4d8-0bfb-43b3-c861-04bdd07fd224",
        "colab": {
          "base_uri": "https://localhost:8080/",
          "height": 1000
        }
      },
      "source": [
        "print(\"Accuracy: {0:.2%}\".format(result[2]))\n",
        "print(\"AUC: {0:.2%}, \".format(result[1]))\n",
        "report(y_hold, cls_pred)\n",
        "plot_roc(y_hold, predicted)\n",
        "plot_history(history)"
      ],
      "execution_count": 88,
      "outputs": [
        {
          "output_type": "stream",
          "text": [
            "Accuracy: 94.80%\n",
            "AUC: 87.63%, \n",
            "              precision    recall  f1-score   support\n",
            "\n",
            "     Sincere       0.96      0.98      0.97    245044\n",
            "   Insincere       0.61      0.44      0.51     16160\n",
            "\n",
            "    accuracy                           0.95    261204\n",
            "   macro avg       0.79      0.71      0.74    261204\n",
            "weighted avg       0.94      0.95      0.94    261204\n",
            "\n"
          ],
          "name": "stdout"
        },
        {
          "output_type": "display_data",
          "data": {
            "image/png": "[encoded data removed]",
            "text/plain": [
              "<Figure size 360x360 with 2 Axes>"
            ]
          },
          "metadata": {
            "tags": []
          }
        },
        {
          "output_type": "display_data",
          "data": {
            "image/png": "[encoded data removed]",
            "text/plain": [
              "<Figure size 432x288 with 1 Axes>"
            ]
          },
          "metadata": {
            "tags": []
          }
        },
        {
          "output_type": "display_data",
          "data": {
            "image/png": "[encoded data removed]",
            "text/plain": [
              "<Figure size 864x360 with 2 Axes>"
            ]
          },
          "metadata": {
            "tags": []
          }
        }
      ]
    },
    {
      "cell_type": "code",
      "metadata": {
        "id": "FbVfIvyNiRY7",
        "colab_type": "code",
        "colab": {}
      },
      "source": [
        ""
      ],
      "execution_count": 0,
      "outputs": []
    },
    {
      "cell_type": "code",
      "metadata": {
        "id": "iEJXQt3orCvf",
        "colab_type": "code",
        "colab": {}
      },
      "source": [
        "model = Sequential()\n",
        "optimizer = Adam(lr=1e-3)"
      ],
      "execution_count": 0,
      "outputs": []
    },
    {
      "cell_type": "code",
      "metadata": {
        "id": "M_nPpUhLrCym",
        "colab_type": "code",
        "colab": {}
      },
      "source": [
        "from tensorflow.python.keras.layers import LSTM\n",
        "\n",
        "model.add(Embedding(input_dim=num_words, output_dim=embedding_size, input_length=max_tokens, name='layer_embedding'))\n",
        "model.add(LSTM(units=16, return_sequences=True))\n",
        "model.add(LSTM(units=8, return_sequences=True))\n",
        "model.add(LSTM(units=8, return_sequences=True))\n",
        "model.add(LSTM(units=4))\n",
        "model.add(Dense(1, activation='sigmoid'))\n",
        "model.compile(loss='binary_crossentropy', optimizer=optimizer, metrics=['AUC', 'accuracy'])"
      ],
      "execution_count": 0,
      "outputs": []
    },
    {
      "cell_type": "code",
      "metadata": {
        "id": "uslwc0E4rC1m",
        "colab_type": "code",
        "outputId": "96ea9d95-8d48-43c7-a282-e1461a2d5fa7",
        "colab": {
          "base_uri": "https://localhost:8080/",
          "height": 357
        }
      },
      "source": [
        "model.summary()"
      ],
      "execution_count": 91,
      "outputs": [
        {
          "output_type": "stream",
          "text": [
            "Model: \"sequential_10\"\n",
            "_________________________________________________________________\n",
            "Layer (type)                 Output Shape              Param #   \n",
            "=================================================================\n",
            "layer_embedding (Embedding)  (None, 30, 200)           2000000   \n",
            "_________________________________________________________________\n",
            "lstm_4 (LSTM)                (None, 30, 16)            13888     \n",
            "_________________________________________________________________\n",
            "lstm_5 (LSTM)                (None, 30, 8)             800       \n",
            "_________________________________________________________________\n",
            "lstm_6 (LSTM)                (None, 30, 8)             544       \n",
            "_________________________________________________________________\n",
            "lstm_7 (LSTM)                (None, 4)                 208       \n",
            "_________________________________________________________________\n",
            "dense_15 (Dense)             (None, 1)                 5         \n",
            "=================================================================\n",
            "Total params: 2,015,445\n",
            "Trainable params: 2,015,445\n",
            "Non-trainable params: 0\n",
            "_________________________________________________________________\n"
          ],
          "name": "stdout"
        }
      ]
    },
    {
      "cell_type": "code",
      "metadata": {
        "id": "Wo9oFrtErIWn",
        "colab_type": "code",
        "outputId": "2c3de79c-96a9-4fa8-d6b8-24fd34c36ff6",
        "colab": {
          "base_uri": "https://localhost:8080/",
          "height": 258
        }
      },
      "source": [
        "%%time\n",
        "history = model.fit(np.array(X_small.tolist()), y_small, validation_data=(np.array(X_test.tolist()),y_test), epochs=5, batch_size=500)"
      ],
      "execution_count": 92,
      "outputs": [
        {
          "output_type": "stream",
          "text": [
            "Train on 94034 samples, validate on 104482 samples\n",
            "Epoch 1/5\n",
            "94034/94034 [==============================] - 54s 574us/sample - loss: 0.3640 - auc_14: 0.4965 - acc: 0.9369 - val_loss: 0.2493 - val_auc_14: 0.5000 - val_acc: 0.9381\n",
            "Epoch 2/5\n",
            "94034/94034 [==============================] - 51s 538us/sample - loss: 0.2312 - auc_14: 0.6096 - acc: 0.9382 - val_loss: 0.1879 - val_auc_14: 0.8771 - val_acc: 0.9396\n",
            "Epoch 3/5\n",
            "94034/94034 [==============================] - 51s 540us/sample - loss: 0.1670 - auc_14: 0.8936 - acc: 0.9458 - val_loss: 0.1587 - val_auc_14: 0.8967 - val_acc: 0.9461\n",
            "Epoch 4/5\n",
            "94034/94034 [==============================] - 51s 538us/sample - loss: 0.1405 - auc_14: 0.9234 - acc: 0.9521 - val_loss: 0.1507 - val_auc_14: 0.8955 - val_acc: 0.9474\n",
            "Epoch 5/5\n",
            "94034/94034 [==============================] - 51s 538us/sample - loss: 0.1234 - auc_14: 0.9368 - acc: 0.9573 - val_loss: 0.1477 - val_auc_14: 0.9020 - val_acc: 0.9443\n",
            "CPU times: user 6min, sys: 24 s, total: 6min 24s\n",
            "Wall time: 4min 24s\n"
          ],
          "name": "stdout"
        }
      ]
    },
    {
      "cell_type": "code",
      "metadata": {
        "id": "HgMRYQ3ErIZ1",
        "colab_type": "code",
        "outputId": "59319a4c-6450-4c4f-834c-d6e767ec0b34",
        "colab": {
          "base_uri": "https://localhost:8080/",
          "height": 88
        }
      },
      "source": [
        "%%time\n",
        "result = model.evaluate(np.array(X_hold.tolist()), y_hold)"
      ],
      "execution_count": 93,
      "outputs": [
        {
          "output_type": "stream",
          "text": [
            "261204/261204 [==============================] - 620s 2ms/sample - loss: 0.1477 - auc_14: 0.9029 - acc: 0.9444\n",
            "CPU times: user 14min 43s, sys: 1min 3s, total: 15min 46s\n",
            "Wall time: 10min 20s\n"
          ],
          "name": "stdout"
        }
      ]
    },
    {
      "cell_type": "code",
      "metadata": {
        "id": "kAqdTA3XhrAP",
        "colab_type": "code",
        "colab": {
          "base_uri": "https://localhost:8080/",
          "height": 51
        },
        "outputId": "34cdc9f7-0292-448f-979f-84146854765f"
      },
      "source": [
        "%%time \n",
        "predicted = model.predict(np.array(X_hold.tolist()))\n",
        "predicted = predicted.T[0]\n",
        "cls_pred = np.array([1.0 if p>0.5 else 0.0 for p in predicted])\n"
      ],
      "execution_count": 94,
      "outputs": [
        {
          "output_type": "stream",
          "text": [
            "CPU times: user 14min 4s, sys: 51.6 s, total: 14min 56s\n",
            "Wall time: 9min 11s\n"
          ],
          "name": "stdout"
        }
      ]
    },
    {
      "cell_type": "code",
      "metadata": {
        "id": "WBEEZbZJrIdc",
        "colab_type": "code",
        "outputId": "ab7d2fed-688c-4ee7-c9e6-7d2a3acf5b78",
        "colab": {
          "base_uri": "https://localhost:8080/",
          "height": 1000
        }
      },
      "source": [
        "print(\"Accuracy: {0:.2%}\".format(result[2]))\n",
        "print(\"AUC: {0:.2%}, \".format(result[1]))\n",
        "report(y_hold, cls_pred)\n",
        "plot_roc(y_hold, predicted)\n",
        "plot_history(history)"
      ],
      "execution_count": 95,
      "outputs": [
        {
          "output_type": "stream",
          "text": [
            "Accuracy: 94.44%\n",
            "AUC: 90.29%, \n",
            "              precision    recall  f1-score   support\n",
            "\n",
            "     Sincere       0.97      0.97      0.97    245044\n",
            "   Insincere       0.56      0.50      0.53     16160\n",
            "\n",
            "    accuracy                           0.94    261204\n",
            "   macro avg       0.76      0.74      0.75    261204\n",
            "weighted avg       0.94      0.94      0.94    261204\n",
            "\n"
          ],
          "name": "stdout"
        },
        {
          "output_type": "display_data",
          "data": {
            "image/png": "[encoded data removed]",
            "text/plain": [
              "<Figure size 360x360 with 2 Axes>"
            ]
          },
          "metadata": {
            "tags": []
          }
        },
        {
          "output_type": "display_data",
          "data": {
            "image/png": "[encoded data removed]",
            "text/plain": [
              "<Figure size 432x288 with 1 Axes>"
            ]
          },
          "metadata": {
            "tags": []
          }
        },
        {
          "output_type": "display_data",
          "data": {
            "image/png": "[encoded data removed]",
            "text/plain": [
              "<Figure size 864x360 with 2 Axes>"
            ]
          },
          "metadata": {
            "tags": []
          }
        }
      ]
    },
    {
      "cell_type": "code",
      "metadata": {
        "id": "Fe-10oOFrC43",
        "colab_type": "code",
        "colab": {}
      },
      "source": [
        ""
      ],
      "execution_count": 0,
      "outputs": []
    },
    {
      "cell_type": "code",
      "metadata": {
        "id": "osZM9fXBh3gP",
        "colab_type": "code",
        "colab": {}
      },
      "source": [
        "model = Sequential()\n",
        "optimizer = Adam(lr=1e-3)"
      ],
      "execution_count": 0,
      "outputs": []
    },
    {
      "cell_type": "code",
      "metadata": {
        "id": "6AA7TNmSh3jS",
        "colab_type": "code",
        "colab": {}
      },
      "source": [
        "from tensorflow.python.keras.layers import Flatten, Activation, Dense, Embedding, Dropout\n",
        "\n",
        "model.add(Embedding(input_dim=num_words, output_dim=embedding_size, input_length=max_tokens, name='layer_embedding'))\n",
        "model.add(Flatten())\n",
        "model.add(Dense(256))\n",
        "model.add(Activation('relu'))\n",
        "model.add(Dropout(0.5))\n",
        "model.add(Dense(128))\n",
        "model.add(Activation('relu'))\n",
        "model.add(Dropout(0.5))\n",
        "model.add(Dense(1, activation='sigmoid'))\n",
        "model.compile(loss='binary_crossentropy', optimizer=optimizer, metrics=['AUC', 'accuracy'])"
      ],
      "execution_count": 0,
      "outputs": []
    },
    {
      "cell_type": "code",
      "metadata": {
        "id": "SzW74bH9h3nG",
        "colab_type": "code",
        "colab": {
          "base_uri": "https://localhost:8080/",
          "height": 459
        },
        "outputId": "90fffca8-e0f4-4ac7-f2ab-78ece779fe50"
      },
      "source": [
        "model.summary()"
      ],
      "execution_count": 98,
      "outputs": [
        {
          "output_type": "stream",
          "text": [
            "Model: \"sequential_11\"\n",
            "_________________________________________________________________\n",
            "Layer (type)                 Output Shape              Param #   \n",
            "=================================================================\n",
            "layer_embedding (Embedding)  (None, 30, 200)           2000000   \n",
            "_________________________________________________________________\n",
            "flatten_2 (Flatten)          (None, 6000)              0         \n",
            "_________________________________________________________________\n",
            "dense_16 (Dense)             (None, 256)               1536256   \n",
            "_________________________________________________________________\n",
            "activation_2 (Activation)    (None, 256)               0         \n",
            "_________________________________________________________________\n",
            "dropout_6 (Dropout)          (None, 256)               0         \n",
            "_________________________________________________________________\n",
            "dense_17 (Dense)             (None, 128)               32896     \n",
            "_________________________________________________________________\n",
            "activation_3 (Activation)    (None, 128)               0         \n",
            "_________________________________________________________________\n",
            "dropout_7 (Dropout)          (None, 128)               0         \n",
            "_________________________________________________________________\n",
            "dense_18 (Dense)             (None, 1)                 129       \n",
            "=================================================================\n",
            "Total params: 3,569,281\n",
            "Trainable params: 3,569,281\n",
            "Non-trainable params: 0\n",
            "_________________________________________________________________\n"
          ],
          "name": "stdout"
        }
      ]
    },
    {
      "cell_type": "code",
      "metadata": {
        "id": "sVxQFty2h3qi",
        "colab_type": "code",
        "colab": {
          "base_uri": "https://localhost:8080/",
          "height": 258
        },
        "outputId": "79f66138-6902-440f-b00f-0fb9556cecbc"
      },
      "source": [
        "%%time\n",
        "history = model.fit(np.array(X_small.tolist()), y_small, validation_data=(np.array(X_test.tolist()),y_test), epochs=5, batch_size=500)"
      ],
      "execution_count": 99,
      "outputs": [
        {
          "output_type": "stream",
          "text": [
            "Train on 94034 samples, validate on 104482 samples\n",
            "Epoch 1/5\n",
            "94034/94034 [==============================] - 4s 42us/sample - loss: 0.1750 - auc_16: 0.8549 - acc: 0.9392 - val_loss: 0.1320 - val_auc_16: 0.9297 - val_acc: 0.9491\n",
            "Epoch 2/5\n",
            "94034/94034 [==============================] - 2s 20us/sample - loss: 0.1082 - auc_16: 0.9556 - acc: 0.9577 - val_loss: 0.1404 - val_auc_16: 0.9192 - val_acc: 0.9467\n",
            "Epoch 3/5\n",
            "94034/94034 [==============================] - 2s 20us/sample - loss: 0.0646 - auc_16: 0.9837 - acc: 0.9750 - val_loss: 0.1862 - val_auc_16: 0.8779 - val_acc: 0.9435\n",
            "Epoch 4/5\n",
            "94034/94034 [==============================] - 2s 20us/sample - loss: 0.0355 - auc_16: 0.9942 - acc: 0.9872 - val_loss: 0.2547 - val_auc_16: 0.8381 - val_acc: 0.9414\n",
            "Epoch 5/5\n",
            "94034/94034 [==============================] - 2s 20us/sample - loss: 0.0222 - auc_16: 0.9965 - acc: 0.9922 - val_loss: 0.3192 - val_auc_16: 0.8253 - val_acc: 0.9373\n",
            "CPU times: user 17.6 s, sys: 1.68 s, total: 19.3 s\n",
            "Wall time: 17.3 s\n"
          ],
          "name": "stdout"
        }
      ]
    },
    {
      "cell_type": "code",
      "metadata": {
        "id": "Etg7Y6IeiHyT",
        "colab_type": "code",
        "colab": {
          "base_uri": "https://localhost:8080/",
          "height": 88
        },
        "outputId": "30248569-4cc2-4656-8559-51bac9ef1d28"
      },
      "source": [
        "%%time\n",
        "result = model.evaluate(np.array(X_hold.tolist()), y_hold)"
      ],
      "execution_count": 100,
      "outputs": [
        {
          "output_type": "stream",
          "text": [
            "261204/261204 [==============================] - 18s 70us/sample - loss: 0.3170 - auc_16: 0.8270 - acc: 0.9374\n",
            "CPU times: user 23.3 s, sys: 1.71 s, total: 25.1 s\n",
            "Wall time: 19.2 s\n"
          ],
          "name": "stdout"
        }
      ]
    },
    {
      "cell_type": "code",
      "metadata": {
        "id": "Jl2BR-4niH1L",
        "colab_type": "code",
        "colab": {}
      },
      "source": [
        "%%time \n",
        "predicted = model.predict(np.array(X_hold.tolist()))\n",
        "predicted = predicted.T[0]\n",
        "cls_pred = np.array([1.0 if p>0.5 else 0.0 for p in predicted])\n"
      ],
      "execution_count": 0,
      "outputs": []
    },
    {
      "cell_type": "code",
      "metadata": {
        "id": "JNhmFge1iH7j",
        "colab_type": "code",
        "colab": {}
      },
      "source": [
        "print(\"Accuracy: {0:.2%}\".format(result[2]))\n",
        "print(\"AUC: {0:.2%}, \".format(result[1]))\n",
        "report(y_hold, cls_pred)\n",
        "plot_roc(y_hold, predicted)\n",
        "plot_history(history)"
      ],
      "execution_count": 0,
      "outputs": []
    },
    {
      "cell_type": "code",
      "metadata": {
        "id": "ffJjT33BiH4g",
        "colab_type": "code",
        "colab": {}
      },
      "source": [
        "plt.hist(predicted)\n",
        "_ = plt.axvline(x=0.5, color='orange')\n",
        "plt.show()"
      ],
      "execution_count": 0,
      "outputs": []
    },
    {
      "cell_type": "markdown",
      "metadata": {
        "id": "qLL4URFJJ4Ur",
        "colab_type": "text"
      },
      "source": [
        "###STEP 4 : CNN Model Using Keras API\n",
        "for CNN algorithm, using the data from step 3 and create model"
      ]
    },
    {
      "cell_type": "code",
      "metadata": {
        "id": "WKBb1T32iRXm",
        "colab_type": "code",
        "colab": {}
      },
      "source": [
        "model = Sequential()\n",
        "optimizer = Adam(lr=1e-3)\n",
        "drop_embed = 0.5\n",
        "dropout = 0.5\n",
        "n_conv = 256\n",
        "k_conv = 3"
      ],
      "execution_count": 0,
      "outputs": []
    },
    {
      "cell_type": "code",
      "metadata": {
        "id": "8wbUcEN1jzNU",
        "colab_type": "code",
        "colab": {}
      },
      "source": [
        "from tensorflow.python.keras.layers import Embedding, Conv1D, SpatialDropout1D, GlobalMaxPool1D, Flatten, Dense, Dropout\n",
        "\n",
        "model.add(Embedding(input_dim=num_words, output_dim=embedding_size, input_length=max_tokens, name='layer_embedding'))\n",
        "model.add(SpatialDropout1D(drop_embed))\n",
        "model.add(Conv1D(n_conv, k_conv, activation='relu'))\n",
        "model.add(GlobalMaxPool1D())\n",
        "#model.add(Flatten())\n",
        "model.add(Dense(n_conv, activation='relu'))\n",
        "model.add(Dropout(dropout))\n",
        "model.add(Dense(n_conv/2, activation='relu'))\n",
        "model.add(Dropout(dropout))\n",
        "model.add(Dense(1, activation='sigmoid'))\n",
        "\n",
        "model.compile(loss='binary_crossentropy', optimizer=optimizer, metrics=['AUC', 'accuracy'])"
      ],
      "execution_count": 0,
      "outputs": []
    },
    {
      "cell_type": "code",
      "metadata": {
        "id": "QNA1AUmijzQh",
        "colab_type": "code",
        "colab": {}
      },
      "source": [
        "model.summary()"
      ],
      "execution_count": 0,
      "outputs": []
    },
    {
      "cell_type": "code",
      "metadata": {
        "id": "Laf3aentjzWp",
        "colab_type": "code",
        "colab": {}
      },
      "source": [
        "%%time\n",
        "history = model.fit(np.array(X_small.tolist()), y_small, validation_data=(np.array(X_test.tolist()),y_test), epochs=5, batch_size=500)"
      ],
      "execution_count": 0,
      "outputs": []
    },
    {
      "cell_type": "code",
      "metadata": {
        "id": "xT6A9kT3jzjk",
        "colab_type": "code",
        "colab": {}
      },
      "source": [
        "%%time\n",
        "result = model.evaluate(np.array(X_hold.tolist()), y_hold)"
      ],
      "execution_count": 0,
      "outputs": []
    },
    {
      "cell_type": "code",
      "metadata": {
        "id": "MpPagNtajztj",
        "colab_type": "code",
        "colab": {}
      },
      "source": [
        "%%time \n",
        "predicted = model.predict(np.array(X_hold.tolist()))\n",
        "predicted = predicted.T[0]\n",
        "cls_pred = np.array([1.0 if p>0.5 else 0.0 for p in predicted])\n"
      ],
      "execution_count": 0,
      "outputs": []
    },
    {
      "cell_type": "code",
      "metadata": {
        "id": "Pw6mAT2wjzT2",
        "colab_type": "code",
        "colab": {}
      },
      "source": [
        "print(\"Accuracy: {0:.2%}\".format(result[2]))\n",
        "print(\"AUC: {0:.2%}, \".format(result[1]))\n",
        "report(y_hold, cls_pred)\n",
        "plot_roc(y_hold, predicted)\n",
        "plot_history(history)"
      ],
      "execution_count": 0,
      "outputs": []
    },
    {
      "cell_type": "code",
      "metadata": {
        "id": "TsPPoF0cnX9Y",
        "colab_type": "code",
        "colab": {}
      },
      "source": [
        ""
      ],
      "execution_count": 0,
      "outputs": []
    },
    {
      "cell_type": "markdown",
      "metadata": {
        "id": "qzsDfOhZbFUC",
        "colab_type": "text"
      },
      "source": [
        "###Reference\n",
        "\n",
        "[Practical Text Classification With Python and Keras](https://realpython.com/python-keras-text-classification/)\n",
        "\n",
        "[Getting started with Keras for NLP](https://nlpforhackers.io/keras-intro/)\n",
        "\n",
        "[TensorFlow Tutorial #20 Natural Language Processing](https://github.com/Hvass-Labs/TensorFlow-Tutorials/blob/master/20_Natural_Language_Processing.ipynb)\n",
        "\n",
        "[Deep Learning for Natural Language Processing — Part III](https://medium.com/cityai/deep-learning-for-natural-language-processing-part-iii-96cfc6acfcc3)\n",
        "\n",
        "[Introduction to 1D Convolutional Neural Networks for NLP](https://github.com/Tixierae/deep_learning_NLP/blob/master/cnn_imdb.ipynb)\n",
        "\n",
        "[How to Develop an Multichannel CNN Model for Text Classification](https://machinelearningmastery.com/develop-n-gram-multichannel-convolutional-neural-network-sentiment-analysis/)\n"
      ]
    },
    {
      "cell_type": "code",
      "metadata": {
        "id": "Xv4IZGApbP1X",
        "colab_type": "code",
        "colab": {}
      },
      "source": [
        ""
      ],
      "execution_count": 0,
      "outputs": []
    }
  ]
}