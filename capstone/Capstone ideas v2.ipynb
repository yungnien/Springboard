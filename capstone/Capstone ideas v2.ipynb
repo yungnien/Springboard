{
 "cells": [
  {
   "cell_type": "markdown",
   "metadata": {},
   "source": [
    "# Capstone Ideas"
   ]
  },
  {
   "cell_type": "markdown",
   "metadata": {},
   "source": [
    "##  Proposal 1: image-based classification\n"
   ]
  },
  {
   "cell_type": "markdown",
   "metadata": {},
   "source": [
    "Perform image classification using data from  iNat Challenge 2017. The reference url is https://www.kaggle.com/c/inaturalist-challenge-at-fgvc-2017 and the data is in https://github.com/visipedia/inat_comp/tree/master/2017  .There are a total of 5,089 categories in the dataset, with 579,184 training images and 95,986 validation images. Some of the categories also have bounding box annotation available.\n",
    "This will be a great project to earn deep understanding on image classification using deep learning and varies pretrained model. More than 200GB of data is in the collection and I would like to use the result model to build a simple nature image classification service as project result.     "
   ]
  },
  {
   "cell_type": "markdown",
   "metadata": {},
   "source": [
    "## Proposal 2: text-based classification\n"
   ]
  },
  {
   "cell_type": "markdown",
   "metadata": {},
   "source": [
    "Use text data, which is the question text, to classify the entry is sincere or not. The prediction result is binary (YES or NO) that is opposite to the results in idea 1. The Quora Insincere Questions Classification competition has 1.3M training data available to build the prediction model. The reference url is https://www.kaggle.com/c/quora-insincere-questions-classification . \n",
    "Consider this as a NLP deep learning project. The data set also provides additional word embedding to improve model accuracy. And,  similar to idea 1,  model can be a web service to classify a question is toxic or not."
   ]
  },
  {
   "cell_type": "markdown",
   "metadata": {},
   "source": [
    "## Proposal 3: use multiple features/factors for prediction and sort \n"
   ]
  },
  {
   "cell_type": "markdown",
   "metadata": {},
   "source": [
    "Ues attributes data to predict house price. The prediction result is the sales price for a property if it is going to be on market.  The challenge url is  https://www.kaggle.com/c/zillow-prize-1/ . As Zillow’s estimation applied to all properties, the prediction can apply to all properties available in the data set (the size of properties is close to 3M). \n",
    "The result web service will be a price prediction for a properties if it is within the dataset, as the properties’ attributes might not be available to input. This one should be interesting logistic regression as it also contains time series analysis. "
   ]
  }
 ],
 "metadata": {
  "kernelspec": {
   "display_name": "Python 3",
   "language": "python",
   "name": "python3"
  },
  "language_info": {
   "codemirror_mode": {
    "name": "ipython",
    "version": 3
   },
   "file_extension": ".py",
   "mimetype": "text/x-python",
   "name": "python",
   "nbconvert_exporter": "python",
   "pygments_lexer": "ipython3",
   "version": "3.7.1"
  }
 },
 "nbformat": 4,
 "nbformat_minor": 2
}
