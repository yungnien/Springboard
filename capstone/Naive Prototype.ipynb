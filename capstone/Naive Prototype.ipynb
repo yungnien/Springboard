{
 "cells": [
  {
   "cell_type": "code",
   "execution_count": 1,
   "metadata": {},
   "outputs": [],
   "source": [
    "import datetime\n",
    "import numpy as np\n",
    "import pandas as pd\n",
    "import os\n",
    "import nltk\n",
    "from nltk.corpus import stopwords\n",
    "\n",
    "from sklearn.feature_extraction.text import TfidfVectorizer,CountVectorizer\n",
    "from sklearn.model_selection import KFold\n",
    "from sklearn.metrics import f1_score\n",
    "#from sklearn.model_selection import cross_val_score\n",
    "\n",
    "from sklearn.naive_bayes import GaussianNB,MultinomialNB,ComplementNB,BernoulliNB\n",
    "from sklearn.linear_model import LogisticRegression\n",
    "from sklearn import svm\n",
    "from sklearn.ensemble import RandomForestClassifier\n",
    "from sklearn.ensemble import GradientBoostingClassifier"
   ]
  },
  {
   "cell_type": "code",
   "execution_count": 2,
   "metadata": {},
   "outputs": [
    {
     "name": "stdout",
     "output_type": "stream",
     "text": [
      "2019-04-07 18:58:13.693639   start of prototype\n",
      "['.DS_Store', 'test.csv', 'README.md', 'train.csv', 'sample_submission.csv']\n"
     ]
    }
   ],
   "source": [
    "print(str(datetime.datetime.now()) + \"   start of prototype\")\n",
    "print(os.listdir(\"data\"))"
   ]
  },
  {
   "cell_type": "code",
   "execution_count": 3,
   "metadata": {},
   "outputs": [],
   "source": [
    "train_data = pd.read_csv('data/train.csv')\n",
    "test_data = pd.read_csv('data/test.csv')"
   ]
  },
  {
   "cell_type": "code",
   "execution_count": 4,
   "metadata": {},
   "outputs": [
    {
     "data": {
      "text/plain": [
       "(1306122, 3)"
      ]
     },
     "execution_count": 4,
     "metadata": {},
     "output_type": "execute_result"
    }
   ],
   "source": [
    "train_data.shape"
   ]
  },
  {
   "cell_type": "code",
   "execution_count": null,
   "metadata": {},
   "outputs": [
    {
     "data": {
      "text/html": [
       "<div>\n",
       "<style scoped>\n",
       "    .dataframe tbody tr th:only-of-type {\n",
       "        vertical-align: middle;\n",
       "    }\n",
       "\n",
       "    .dataframe tbody tr th {\n",
       "        vertical-align: top;\n",
       "    }\n",
       "\n",
       "    .dataframe thead th {\n",
       "        text-align: right;\n",
       "    }\n",
       "</style>\n",
       "<table border=\"1\" class=\"dataframe\">\n",
       "  <thead>\n",
       "    <tr style=\"text-align: right;\">\n",
       "      <th></th>\n",
       "      <th>qid</th>\n",
       "      <th>question_text</th>\n",
       "      <th>target</th>\n",
       "    </tr>\n",
       "  </thead>\n",
       "  <tbody>\n",
       "    <tr>\n",
       "      <th>0</th>\n",
       "      <td>00002165364db923c7e6</td>\n",
       "      <td>How did Quebec nationalists see their province...</td>\n",
       "      <td>0</td>\n",
       "    </tr>\n",
       "    <tr>\n",
       "      <th>1</th>\n",
       "      <td>000032939017120e6e44</td>\n",
       "      <td>Do you have an adopted dog, how would you enco...</td>\n",
       "      <td>0</td>\n",
       "    </tr>\n",
       "    <tr>\n",
       "      <th>2</th>\n",
       "      <td>0000412ca6e4628ce2cf</td>\n",
       "      <td>Why does velocity affect time? Does velocity a...</td>\n",
       "      <td>0</td>\n",
       "    </tr>\n",
       "    <tr>\n",
       "      <th>3</th>\n",
       "      <td>000042bf85aa498cd78e</td>\n",
       "      <td>How did Otto von Guericke used the Magdeburg h...</td>\n",
       "      <td>0</td>\n",
       "    </tr>\n",
       "    <tr>\n",
       "      <th>4</th>\n",
       "      <td>0000455dfa3e01eae3af</td>\n",
       "      <td>Can I convert montra helicon D to a mountain b...</td>\n",
       "      <td>0</td>\n",
       "    </tr>\n",
       "  </tbody>\n",
       "</table>\n",
       "</div>"
      ],
      "text/plain": [
       "                    qid                                      question_text  \\\n",
       "0  00002165364db923c7e6  How did Quebec nationalists see their province...   \n",
       "1  000032939017120e6e44  Do you have an adopted dog, how would you enco...   \n",
       "2  0000412ca6e4628ce2cf  Why does velocity affect time? Does velocity a...   \n",
       "3  000042bf85aa498cd78e  How did Otto von Guericke used the Magdeburg h...   \n",
       "4  0000455dfa3e01eae3af  Can I convert montra helicon D to a mountain b...   \n",
       "\n",
       "   target  \n",
       "0       0  \n",
       "1       0  \n",
       "2       0  \n",
       "3       0  \n",
       "4       0  "
      ]
     },
     "execution_count": 5,
     "metadata": {},
     "output_type": "execute_result"
    }
   ],
   "source": [
    "train_data.head()"
   ]
  },
  {
   "cell_type": "code",
   "execution_count": null,
   "metadata": {},
   "outputs": [
    {
     "data": {
      "text/plain": [
       "0    1225312\n",
       "1      80810\n",
       "Name: target, dtype: int64"
      ]
     },
     "execution_count": 6,
     "metadata": {},
     "output_type": "execute_result"
    }
   ],
   "source": [
    "train_data['target'].value_counts()"
   ]
  },
  {
   "cell_type": "code",
   "execution_count": null,
   "metadata": {},
   "outputs": [],
   "source": [
    "train_data['num_words'] = train_data['question_text'].apply(lambda x: len(str(x).split()) )"
   ]
  },
  {
   "cell_type": "code",
   "execution_count": null,
   "metadata": {},
   "outputs": [
    {
     "data": {
      "text/plain": [
       "count    1.306122e+06\n",
       "mean     1.280361e+01\n",
       "std      7.052437e+00\n",
       "min      1.000000e+00\n",
       "25%      8.000000e+00\n",
       "50%      1.100000e+01\n",
       "75%      1.500000e+01\n",
       "max      1.340000e+02\n",
       "Name: num_words, dtype: float64"
      ]
     },
     "execution_count": 8,
     "metadata": {},
     "output_type": "execute_result"
    }
   ],
   "source": [
    "train_data['num_words'].describe()"
   ]
  },
  {
   "cell_type": "code",
   "execution_count": null,
   "metadata": {},
   "outputs": [
    {
     "name": "stdout",
     "output_type": "stream",
     "text": [
      "2019-04-07 18:58:39.675580   vectorization\n"
     ]
    }
   ],
   "source": [
    "train_text = train_data['question_text']\n",
    "test_text = test_data['question_text']\n",
    "train_target = train_data['target']\n",
    "all_text = train_text.append(test_text)\n",
    "\n",
    "count_vectorizer = CountVectorizer()\n",
    "count_vectorizer.fit(all_text)\n",
    "print(str(datetime.datetime.now()) + \"   vectorization\")"
   ]
  },
  {
   "cell_type": "code",
   "execution_count": null,
   "metadata": {},
   "outputs": [],
   "source": [
    "train_text_features_cv = count_vectorizer.transform(train_text)\n",
    "test_text_features_cv = count_vectorizer.transform(test_text)"
   ]
  },
  {
   "cell_type": "code",
   "execution_count": null,
   "metadata": {},
   "outputs": [
    {
     "name": "stdout",
     "output_type": "stream",
     "text": [
      "2019-04-07 18:59:19.154847   TF-IDF\n"
     ]
    }
   ],
   "source": [
    "tfidf_vectorizer = TfidfVectorizer()\n",
    "tfidf_vectorizer.fit(all_text)\n",
    "print(str(datetime.datetime.now()) + \"   TF-IDF\")"
   ]
  },
  {
   "cell_type": "code",
   "execution_count": null,
   "metadata": {},
   "outputs": [],
   "source": [
    "train_text_features_tf = tfidf_vectorizer.transform(train_text)\n",
    "test_text_features_tf = tfidf_vectorizer.transform(test_text)"
   ]
  },
  {
   "cell_type": "code",
   "execution_count": null,
   "metadata": {},
   "outputs": [
    {
     "name": "stdout",
     "output_type": "stream",
     "text": [
      "2019-04-07 18:59:39.658414   MultinomialNB... start\n",
      "2019-04-07 18:59:44.724745   MultinomialNB... end\n"
     ]
    },
    {
     "data": {
      "text/plain": [
       "0.5336924762600438"
      ]
     },
     "execution_count": 13,
     "metadata": {},
     "output_type": "execute_result"
    }
   ],
   "source": [
    "#MultinomialNB\n",
    "print(str(datetime.datetime.now()) + \"   MultinomialNB... start\")\n",
    "kfold = KFold(n_splits = 5, shuffle = True, random_state = 2018)\n",
    "test_preds1 = 0\n",
    "oof_preds1 = np.zeros([train_data.shape[0],])\n",
    "\n",
    "for i, (train_idx,valid_idx) in enumerate(kfold.split(train_data)):\n",
    "    x_train, x_valid = train_text_features_cv[train_idx,:], train_text_features_cv[valid_idx,:]\n",
    "    y_train, y_valid = train_target[train_idx], train_target[valid_idx]\n",
    "    classifier1 = MultinomialNB()\n",
    "    classifier1.fit(x_train,y_train)\n",
    "   \n",
    "    oof_preds1[valid_idx] = classifier1.predict_proba(x_valid)[:,1]\n",
    "    test_preds1 += 0.2*classifier1.predict_proba(test_text_features_cv)[:,1]\n",
    "\n",
    "pred_train1 = (oof_preds1 > .3).astype(np.int)\n",
    "print(str(datetime.datetime.now()) + \"   MultinomialNB... end\")\n",
    "f1_score(train_target, pred_train1)\n"
   ]
  },
  {
   "cell_type": "code",
   "execution_count": null,
   "metadata": {},
   "outputs": [
    {
     "name": "stdout",
     "output_type": "stream",
     "text": [
      "2019-04-07 18:59:44.964762   BernoulliNB...start\n",
      "2019-04-07 18:59:50.654547   BernoulliNB...end\n"
     ]
    },
    {
     "data": {
      "text/plain": [
       "0.523509358390958"
      ]
     },
     "execution_count": 14,
     "metadata": {},
     "output_type": "execute_result"
    }
   ],
   "source": [
    "#BernoulliNB\n",
    "print(str(datetime.datetime.now()) + \"   BernoulliNB...start\")\n",
    "kfold = KFold(n_splits = 5, shuffle = True, random_state = 2018)\n",
    "test_preds2 = 0\n",
    "oof_preds2 = np.zeros([train_data.shape[0],])\n",
    "\n",
    "for i, (train_idx,valid_idx) in enumerate(kfold.split(train_data)):\n",
    "    x_train, x_valid = train_text_features_cv[train_idx,:], train_text_features_cv[valid_idx,:]\n",
    "    y_train, y_valid = train_target[train_idx], train_target[valid_idx]\n",
    "    classifier2 = BernoulliNB()\n",
    "    classifier2.fit(x_train,y_train)\n",
    "   \n",
    "    oof_preds2[valid_idx] = classifier2.predict_proba(x_valid)[:,1]\n",
    "    test_preds2 += 0.2*classifier2.predict_proba(test_text_features_cv)[:,1] \n",
    "\n",
    "pred_train2 = (oof_preds2 > .3).astype(np.int)\n",
    "print(str(datetime.datetime.now()) + \"   BernoulliNB...end\")\n",
    "f1_score(train_target, pred_train2)\n"
   ]
  },
  {
   "cell_type": "code",
   "execution_count": null,
   "metadata": {},
   "outputs": [
    {
     "name": "stdout",
     "output_type": "stream",
     "text": [
      "2019-04-07 18:59:50.875276    LogisticRegression... start\n",
      "2019-04-07 19:04:26.772517    LogisticRegression... end\n"
     ]
    },
    {
     "data": {
      "text/plain": [
       "0.614412941315975"
      ]
     },
     "execution_count": 15,
     "metadata": {},
     "output_type": "execute_result"
    }
   ],
   "source": [
    "#LogisticRegression\n",
    "print(str(datetime.datetime.now()) + \"    LogisticRegression... start\")\n",
    "kfold = KFold(n_splits = 5, shuffle = True, random_state = 2018)\n",
    "test_preds3 = 0\n",
    "oof_preds3 = np.zeros([train_data.shape[0],])\n",
    "\n",
    "for i, (train_idx,valid_idx) in enumerate(kfold.split(train_data)):\n",
    "    x_train, x_valid = train_text_features_cv[train_idx,:], train_text_features_cv[valid_idx,:]\n",
    "    y_train, y_valid = train_target[train_idx], train_target[valid_idx]\n",
    "    classifier3 = LogisticRegression(solver='liblinear')\n",
    "    classifier3.fit(x_train,y_train)\n",
    "\n",
    "    oof_preds3[valid_idx] = classifier3.predict_proba(x_valid)[:,1]\n",
    "    test_preds3 += 0.2*classifier3.predict_proba(test_text_features_tf)[:,1]\n",
    "\n",
    "pred_train3 = (oof_preds3 > .3).astype(np.int)\n",
    "print(str(datetime.datetime.now()) + \"    LogisticRegression... end\")\n",
    "f1_score(train_target, pred_train3)\n"
   ]
  },
  {
   "cell_type": "code",
   "execution_count": null,
   "metadata": {},
   "outputs": [
    {
     "name": "stdout",
     "output_type": "stream",
     "text": [
      "2019-04-07 19:04:27.108257   Support Vector Machines...start\n"
     ]
    }
   ],
   "source": [
    "#Support Vector Machines\n",
    "print(str(datetime.datetime.now())+ \"   Support Vector Machines...start\")\n",
    "kfold = KFold(n_splits = 5, shuffle = True, random_state = 2018)\n",
    "test_preds4 = 0\n",
    "oof_preds4 = np.zeros([train_data.shape[0],])\n",
    "\n",
    "for i, (train_idx,valid_idx) in enumerate(kfold.split(train_data)):\n",
    "    x_train, x_valid = train_text_features_cv[train_idx,:], train_text_features_cv[valid_idx,:]\n",
    "    y_train, y_valid = train_target[train_idx], train_target[valid_idx]\n",
    "    classifier4 = svm.SVC(gamma='scale')\n",
    "    classifier4.fit(x_train,y_train)\n",
    "\n",
    "    oof_preds4[valid_idx] = classifier4.predict_proba(x_valid)[:,1]\n",
    "    test_preds4 += 0.2*classifier4.predict_proba(test_text_features_tf)[:,1]\n",
    "\n",
    "pred_train4 = (oof_preds4 > .3).astype(np.int)\n",
    "print(str(datetime.datetime.now()) + \"   Support Vector Machines...end\")\n",
    "f1_score(train_target, pred_train4)\n"
   ]
  },
  {
   "cell_type": "code",
   "execution_count": null,
   "metadata": {},
   "outputs": [],
   "source": [
    "#RandomForestClassifier\n",
    "print(str(datetime.datetime.now()) + \"   RandomForestClassifier...start\")\n",
    "kfold = KFold(n_splits = 5, shuffle = True, random_state = 2018)\n",
    "test_preds5 = 0\n",
    "oof_preds5 = np.zeros([train_data.shape[0],])\n",
    "\n",
    "for i, (train_idx,valid_idx) in enumerate(kfold.split(train_data)):\n",
    "    x_train, x_valid = train_text_features_cv[train_idx,:], train_text_features_cv[valid_idx,:]\n",
    "    y_train, y_valid = train_target[train_idx], train_target[valid_idx]\n",
    "    classifier5 = RandomForestClassifier(n_estimators=100, max_depth=2,random_state=2018)\n",
    "    classifier5.fit(x_train,y_train)\n",
    "\n",
    "    oof_preds5[valid_idx] = classifier5.predict_proba(x_valid)[:,1]\n",
    "    test_preds5 += 0.2*classifier5.predict_proba(test_text_features_tf)[:,1]\n",
    "\n",
    "pred_train5 = (oof_preds5 > .3).astype(np.int)\n",
    "print(str(datetime.datetime.now()) + \"   RandomForestClassifier...end\")\n",
    "f1_score(train_target, pred_train5)\n"
   ]
  },
  {
   "cell_type": "code",
   "execution_count": null,
   "metadata": {},
   "outputs": [],
   "source": [
    "#GradientBoostingClassifier\n",
    "print(str(datetime.datetime.now()) + \"   GradientBoostingClassifier...start\")\n",
    "kfold = KFold(n_splits = 5, shuffle = True, random_state = 2018)\n",
    "test_preds6 = 0\n",
    "oof_preds6 = np.zeros([train_data.shape[0],])\n",
    "\n",
    "for i, (train_idx,valid_idx) in enumerate(kfold.split(train_data)):\n",
    "    x_train, x_valid = train_text_features_cv[train_idx,:], train_text_features_cv[valid_idx,:]\n",
    "    y_train, y_valid = train_target[train_idx], train_target[valid_idx]\n",
    "    classifier6 = GradientBoostingClassifier(random_state=2018)\n",
    "    classifier6.fit(x_train,y_train)\n",
    "\n",
    "    oof_preds6[valid_idx] = classifier6.predict_proba(x_valid)[:,1]\n",
    "    test_preds6 += 0.2*classifier6.predict_proba(test_text_features_tf)[:,1]\n",
    "\n",
    "pred_train6 = (oof_preds5 > .3).astype(np.int)\n",
    "print(str(datetime.datetime.now())+ \"   GradientBoostingClassifier...end\")\n",
    "f1_score(train_target, pred_train6)\n"
   ]
  },
  {
   "cell_type": "code",
   "execution_count": null,
   "metadata": {},
   "outputs": [],
   "source": [
    "print(str(datetime.datetime.now())+ \"   end of prototype\")"
   ]
  },
  {
   "cell_type": "code",
   "execution_count": null,
   "metadata": {},
   "outputs": [],
   "source": []
  }
 ],
 "metadata": {
  "kernelspec": {
   "display_name": "Python 3",
   "language": "python",
   "name": "python3"
  },
  "language_info": {
   "codemirror_mode": {
    "name": "ipython",
    "version": 3
   },
   "file_extension": ".py",
   "mimetype": "text/x-python",
   "name": "python",
   "nbconvert_exporter": "python",
   "pygments_lexer": "ipython3",
   "version": "3.7.1"
  }
 },
 "nbformat": 4,
 "nbformat_minor": 2
}
