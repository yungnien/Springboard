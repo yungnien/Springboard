{
  "nbformat": 4,
  "nbformat_minor": 0,
  "metadata": {
    "colab": {
      "name": "Capstone draft.ipynb",
      "version": "0.3.2",
      "provenance": [],
      "collapsed_sections": [],
      "machine_shape": "hm"
    },
    "kernelspec": {
      "name": "python3",
      "display_name": "Python 3"
    },
    "accelerator": "GPU"
  },
  "cells": [
    {
      "cell_type": "code",
      "metadata": {
        "id": "2zqYZB61k48h",
        "colab_type": "code",
        "colab": {}
      },
      "source": [
        ""
      ],
      "execution_count": 0,
      "outputs": []
    },
    {
      "cell_type": "markdown",
      "metadata": {
        "id": "-Uw9KpBCk6g1",
        "colab_type": "text"
      },
      "source": [
        "#0. Import library, define functons and constant"
      ]
    },
    {
      "cell_type": "code",
      "metadata": {
        "id": "DQPc0QRm-IVp",
        "colab_type": "code",
        "outputId": "c6f57e68-87a5-40f7-fe99-9589508e769a",
        "colab": {
          "base_uri": "https://localhost:8080/",
          "height": 1000
        }
      },
      "source": [
        "!pip install nltk\n",
        "!pip install contractions\n",
        "!pip install textsearch\n",
        "!pip install flair\n",
        "!pip install tensorflow-hub\n",
        "!pip install fastai"
      ],
      "execution_count": 1,
      "outputs": [
        {
          "output_type": "stream",
          "text": [
            "Requirement already satisfied: nltk in /usr/local/lib/python3.6/dist-packages (3.2.5)\n",
            "Requirement already satisfied: six in /usr/local/lib/python3.6/dist-packages (from nltk) (1.12.0)\n",
            "Requirement already satisfied: contractions in /usr/local/lib/python3.6/dist-packages (0.0.21)\n",
            "Requirement already satisfied: textsearch in /usr/local/lib/python3.6/dist-packages (0.0.17)\n",
            "Requirement already satisfied: Unidecode in /usr/local/lib/python3.6/dist-packages (from textsearch) (1.1.1)\n",
            "Requirement already satisfied: pyahocorasick in /usr/local/lib/python3.6/dist-packages (from textsearch) (1.4.0)\n",
            "Requirement already satisfied: flair in /usr/local/lib/python3.6/dist-packages (0.4.2)\n",
            "Requirement already satisfied: gensim>=3.4.0 in /usr/local/lib/python3.6/dist-packages (from flair) (3.6.0)\n",
            "Requirement already satisfied: sqlitedict>=1.6.0 in /usr/local/lib/python3.6/dist-packages (from flair) (1.6.0)\n",
            "Requirement already satisfied: pytest>=3.6.4 in /usr/local/lib/python3.6/dist-packages (from flair) (3.6.4)\n",
            "Requirement already satisfied: bpemb>=0.2.9 in /usr/local/lib/python3.6/dist-packages (from flair) (0.3.0)\n",
            "Requirement already satisfied: matplotlib>=2.2.3 in /usr/local/lib/python3.6/dist-packages (from flair) (3.0.3)\n",
            "Requirement already satisfied: urllib3<1.25,>=1.20 in /usr/local/lib/python3.6/dist-packages (from flair) (1.24.3)\n",
            "Requirement already satisfied: deprecated>=1.2.4 in /usr/local/lib/python3.6/dist-packages (from flair) (1.2.6)\n",
            "Requirement already satisfied: tabulate in /usr/local/lib/python3.6/dist-packages (from flair) (0.8.3)\n",
            "Requirement already satisfied: mpld3==0.3 in /usr/local/lib/python3.6/dist-packages (from flair) (0.3)\n",
            "Requirement already satisfied: torch>=1.0.0 in /usr/local/lib/python3.6/dist-packages (from flair) (1.1.0)\n",
            "Requirement already satisfied: hyperopt>=0.1.1 in /usr/local/lib/python3.6/dist-packages (from flair) (0.1.2)\n",
            "Requirement already satisfied: sklearn in /usr/local/lib/python3.6/dist-packages (from flair) (0.0)\n",
            "Requirement already satisfied: pytorch-pretrained-bert>=0.6.1 in /usr/local/lib/python3.6/dist-packages (from flair) (0.6.2)\n",
            "Requirement already satisfied: regex in /usr/local/lib/python3.6/dist-packages (from flair) (2019.6.8)\n",
            "Requirement already satisfied: segtok>=1.5.7 in /usr/local/lib/python3.6/dist-packages (from flair) (1.5.7)\n",
            "Requirement already satisfied: tqdm>=4.26.0 in /usr/local/lib/python3.6/dist-packages (from flair) (4.28.1)\n",
            "Requirement already satisfied: six>=1.5.0 in /usr/local/lib/python3.6/dist-packages (from gensim>=3.4.0->flair) (1.12.0)\n",
            "Requirement already satisfied: numpy>=1.11.3 in /usr/local/lib/python3.6/dist-packages (from gensim>=3.4.0->flair) (1.16.4)\n",
            "Requirement already satisfied: scipy>=0.18.1 in /usr/local/lib/python3.6/dist-packages (from gensim>=3.4.0->flair) (1.3.1)\n",
            "Requirement already satisfied: smart-open>=1.2.1 in /usr/local/lib/python3.6/dist-packages (from gensim>=3.4.0->flair) (1.8.4)\n",
            "Requirement already satisfied: atomicwrites>=1.0 in /usr/local/lib/python3.6/dist-packages (from pytest>=3.6.4->flair) (1.3.0)\n",
            "Requirement already satisfied: py>=1.5.0 in /usr/local/lib/python3.6/dist-packages (from pytest>=3.6.4->flair) (1.8.0)\n",
            "Requirement already satisfied: more-itertools>=4.0.0 in /usr/local/lib/python3.6/dist-packages (from pytest>=3.6.4->flair) (7.2.0)\n",
            "Requirement already satisfied: attrs>=17.4.0 in /usr/local/lib/python3.6/dist-packages (from pytest>=3.6.4->flair) (19.1.0)\n",
            "Requirement already satisfied: pluggy<0.8,>=0.5 in /usr/local/lib/python3.6/dist-packages (from pytest>=3.6.4->flair) (0.7.1)\n",
            "Requirement already satisfied: setuptools in /usr/local/lib/python3.6/dist-packages (from pytest>=3.6.4->flair) (41.0.1)\n",
            "Requirement already satisfied: sentencepiece in /usr/local/lib/python3.6/dist-packages (from bpemb>=0.2.9->flair) (0.1.82)\n",
            "Requirement already satisfied: requests in /usr/local/lib/python3.6/dist-packages (from bpemb>=0.2.9->flair) (2.21.0)\n",
            "Requirement already satisfied: cycler>=0.10 in /usr/local/lib/python3.6/dist-packages (from matplotlib>=2.2.3->flair) (0.10.0)\n",
            "Requirement already satisfied: python-dateutil>=2.1 in /usr/local/lib/python3.6/dist-packages (from matplotlib>=2.2.3->flair) (2.5.3)\n",
            "Requirement already satisfied: kiwisolver>=1.0.1 in /usr/local/lib/python3.6/dist-packages (from matplotlib>=2.2.3->flair) (1.1.0)\n",
            "Requirement already satisfied: pyparsing!=2.0.4,!=2.1.2,!=2.1.6,>=2.0.1 in /usr/local/lib/python3.6/dist-packages (from matplotlib>=2.2.3->flair) (2.4.2)\n",
            "Requirement already satisfied: wrapt<2,>=1.10 in /usr/local/lib/python3.6/dist-packages (from deprecated>=1.2.4->flair) (1.11.2)\n",
            "Requirement already satisfied: pymongo in /usr/local/lib/python3.6/dist-packages (from hyperopt>=0.1.1->flair) (3.8.0)\n",
            "Requirement already satisfied: future in /usr/local/lib/python3.6/dist-packages (from hyperopt>=0.1.1->flair) (0.16.0)\n",
            "Requirement already satisfied: networkx in /usr/local/lib/python3.6/dist-packages (from hyperopt>=0.1.1->flair) (2.3)\n",
            "Requirement already satisfied: scikit-learn in /usr/local/lib/python3.6/dist-packages (from sklearn->flair) (0.21.3)\n",
            "Requirement already satisfied: boto3 in /usr/local/lib/python3.6/dist-packages (from pytorch-pretrained-bert>=0.6.1->flair) (1.9.205)\n",
            "Requirement already satisfied: boto>=2.32 in /usr/local/lib/python3.6/dist-packages (from smart-open>=1.2.1->gensim>=3.4.0->flair) (2.49.0)\n",
            "Requirement already satisfied: idna<2.9,>=2.5 in /usr/local/lib/python3.6/dist-packages (from requests->bpemb>=0.2.9->flair) (2.8)\n",
            "Requirement already satisfied: chardet<3.1.0,>=3.0.2 in /usr/local/lib/python3.6/dist-packages (from requests->bpemb>=0.2.9->flair) (3.0.4)\n",
            "Requirement already satisfied: certifi>=2017.4.17 in /usr/local/lib/python3.6/dist-packages (from requests->bpemb>=0.2.9->flair) (2019.6.16)\n",
            "Requirement already satisfied: decorator>=4.3.0 in /usr/local/lib/python3.6/dist-packages (from networkx->hyperopt>=0.1.1->flair) (4.4.0)\n",
            "Requirement already satisfied: joblib>=0.11 in /usr/local/lib/python3.6/dist-packages (from scikit-learn->sklearn->flair) (0.13.2)\n",
            "Requirement already satisfied: s3transfer<0.3.0,>=0.2.0 in /usr/local/lib/python3.6/dist-packages (from boto3->pytorch-pretrained-bert>=0.6.1->flair) (0.2.1)\n",
            "Requirement already satisfied: botocore<1.13.0,>=1.12.205 in /usr/local/lib/python3.6/dist-packages (from boto3->pytorch-pretrained-bert>=0.6.1->flair) (1.12.205)\n",
            "Requirement already satisfied: jmespath<1.0.0,>=0.7.1 in /usr/local/lib/python3.6/dist-packages (from boto3->pytorch-pretrained-bert>=0.6.1->flair) (0.9.4)\n",
            "Requirement already satisfied: docutils<0.15,>=0.10 in /usr/local/lib/python3.6/dist-packages (from botocore<1.13.0,>=1.12.205->boto3->pytorch-pretrained-bert>=0.6.1->flair) (0.14)\n",
            "Requirement already satisfied: tensorflow-hub in /usr/local/lib/python3.6/dist-packages (0.5.0)\n",
            "Requirement already satisfied: numpy>=1.12.0 in /usr/local/lib/python3.6/dist-packages (from tensorflow-hub) (1.16.4)\n",
            "Requirement already satisfied: six>=1.10.0 in /usr/local/lib/python3.6/dist-packages (from tensorflow-hub) (1.12.0)\n",
            "Requirement already satisfied: protobuf>=3.4.0 in /usr/local/lib/python3.6/dist-packages (from tensorflow-hub) (3.7.1)\n",
            "Requirement already satisfied: setuptools in /usr/local/lib/python3.6/dist-packages (from protobuf>=3.4.0->tensorflow-hub) (41.0.1)\n",
            "Requirement already satisfied: fastai in /usr/local/lib/python3.6/dist-packages (1.0.57)\n",
            "Requirement already satisfied: fastprogress>=0.1.19 in /usr/local/lib/python3.6/dist-packages (from fastai) (0.1.21)\n",
            "Requirement already satisfied: spacy>=2.0.18 in /usr/local/lib/python3.6/dist-packages (from fastai) (2.1.8)\n",
            "Requirement already satisfied: pyyaml in /usr/local/lib/python3.6/dist-packages (from fastai) (3.13)\n",
            "Requirement already satisfied: matplotlib in /usr/local/lib/python3.6/dist-packages (from fastai) (3.0.3)\n",
            "Requirement already satisfied: numpy>=1.15 in /usr/local/lib/python3.6/dist-packages (from fastai) (1.16.4)\n",
            "Requirement already satisfied: pandas in /usr/local/lib/python3.6/dist-packages (from fastai) (0.24.2)\n",
            "Requirement already satisfied: Pillow in /usr/local/lib/python3.6/dist-packages (from fastai) (4.3.0)\n",
            "Requirement already satisfied: dataclasses; python_version < \"3.7\" in /usr/local/lib/python3.6/dist-packages (from fastai) (0.6)\n",
            "Requirement already satisfied: bottleneck in /usr/local/lib/python3.6/dist-packages (from fastai) (1.2.1)\n",
            "Requirement already satisfied: torchvision in /usr/local/lib/python3.6/dist-packages (from fastai) (0.3.0)\n",
            "Requirement already satisfied: typing; python_version < \"3.7\" in /usr/local/lib/python3.6/dist-packages (from fastai) (3.7.4)\n",
            "Requirement already satisfied: beautifulsoup4 in /usr/local/lib/python3.6/dist-packages (from fastai) (4.6.3)\n",
            "Requirement already satisfied: requests in /usr/local/lib/python3.6/dist-packages (from fastai) (2.21.0)\n",
            "Requirement already satisfied: numexpr in /usr/local/lib/python3.6/dist-packages (from fastai) (2.6.9)\n",
            "Requirement already satisfied: nvidia-ml-py3 in /usr/local/lib/python3.6/dist-packages (from fastai) (7.352.0)\n",
            "Requirement already satisfied: packaging in /usr/local/lib/python3.6/dist-packages (from fastai) (19.1)\n",
            "Requirement already satisfied: torch>=1.0.0 in /usr/local/lib/python3.6/dist-packages (from fastai) (1.1.0)\n",
            "Requirement already satisfied: scipy in /usr/local/lib/python3.6/dist-packages (from fastai) (1.3.1)\n",
            "Requirement already satisfied: thinc<7.1.0,>=7.0.8 in /usr/local/lib/python3.6/dist-packages (from spacy>=2.0.18->fastai) (7.0.8)\n",
            "Requirement already satisfied: preshed<2.1.0,>=2.0.1 in /usr/local/lib/python3.6/dist-packages (from spacy>=2.0.18->fastai) (2.0.1)\n",
            "Requirement already satisfied: cymem<2.1.0,>=2.0.2 in /usr/local/lib/python3.6/dist-packages (from spacy>=2.0.18->fastai) (2.0.2)\n",
            "Requirement already satisfied: wasabi<1.1.0,>=0.2.0 in /usr/local/lib/python3.6/dist-packages (from spacy>=2.0.18->fastai) (0.2.2)\n",
            "Requirement already satisfied: plac<1.0.0,>=0.9.6 in /usr/local/lib/python3.6/dist-packages (from spacy>=2.0.18->fastai) (0.9.6)\n",
            "Requirement already satisfied: blis<0.3.0,>=0.2.2 in /usr/local/lib/python3.6/dist-packages (from spacy>=2.0.18->fastai) (0.2.4)\n",
            "Requirement already satisfied: murmurhash<1.1.0,>=0.28.0 in /usr/local/lib/python3.6/dist-packages (from spacy>=2.0.18->fastai) (1.0.2)\n",
            "Requirement already satisfied: srsly<1.1.0,>=0.0.6 in /usr/local/lib/python3.6/dist-packages (from spacy>=2.0.18->fastai) (0.0.7)\n",
            "Requirement already satisfied: cycler>=0.10 in /usr/local/lib/python3.6/dist-packages (from matplotlib->fastai) (0.10.0)\n",
            "Requirement already satisfied: pyparsing!=2.0.4,!=2.1.2,!=2.1.6,>=2.0.1 in /usr/local/lib/python3.6/dist-packages (from matplotlib->fastai) (2.4.2)\n",
            "Requirement already satisfied: kiwisolver>=1.0.1 in /usr/local/lib/python3.6/dist-packages (from matplotlib->fastai) (1.1.0)\n",
            "Requirement already satisfied: python-dateutil>=2.1 in /usr/local/lib/python3.6/dist-packages (from matplotlib->fastai) (2.5.3)\n",
            "Requirement already satisfied: pytz>=2011k in /usr/local/lib/python3.6/dist-packages (from pandas->fastai) (2018.9)\n",
            "Requirement already satisfied: olefile in /usr/local/lib/python3.6/dist-packages (from Pillow->fastai) (0.46)\n",
            "Requirement already satisfied: six in /usr/local/lib/python3.6/dist-packages (from torchvision->fastai) (1.12.0)\n",
            "Requirement already satisfied: certifi>=2017.4.17 in /usr/local/lib/python3.6/dist-packages (from requests->fastai) (2019.6.16)\n",
            "Requirement already satisfied: chardet<3.1.0,>=3.0.2 in /usr/local/lib/python3.6/dist-packages (from requests->fastai) (3.0.4)\n",
            "Requirement already satisfied: idna<2.9,>=2.5 in /usr/local/lib/python3.6/dist-packages (from requests->fastai) (2.8)\n",
            "Requirement already satisfied: urllib3<1.25,>=1.21.1 in /usr/local/lib/python3.6/dist-packages (from requests->fastai) (1.24.3)\n",
            "Requirement already satisfied: attrs in /usr/local/lib/python3.6/dist-packages (from packaging->fastai) (19.1.0)\n",
            "Requirement already satisfied: tqdm<5.0.0,>=4.10.0 in /usr/local/lib/python3.6/dist-packages (from thinc<7.1.0,>=7.0.8->spacy>=2.0.18->fastai) (4.28.1)\n",
            "Requirement already satisfied: setuptools in /usr/local/lib/python3.6/dist-packages (from kiwisolver>=1.0.1->matplotlib->fastai) (41.0.1)\n"
          ],
          "name": "stdout"
        }
      ]
    },
    {
      "cell_type": "code",
      "metadata": {
        "id": "qhoRkV_V4xZP",
        "colab_type": "code",
        "outputId": "282db5ec-dedc-45f7-eaa5-7ee6f3a62018",
        "colab": {
          "base_uri": "https://localhost:8080/",
          "height": 54
        }
      },
      "source": [
        "from google.colab import drive\n",
        "drive.mount('/content/gdrive')"
      ],
      "execution_count": 2,
      "outputs": [
        {
          "output_type": "stream",
          "text": [
            "Drive already mounted at /content/gdrive; to attempt to forcibly remount, call drive.mount(\"/content/gdrive\", force_remount=True).\n"
          ],
          "name": "stdout"
        }
      ]
    },
    {
      "cell_type": "code",
      "metadata": {
        "id": "ejJwG_Pl7Mju",
        "colab_type": "code",
        "outputId": "d9f0bd05-abc9-4e2e-a756-642e39a2edc0",
        "colab": {
          "base_uri": "https://localhost:8080/",
          "height": 221
        }
      },
      "source": [
        "%%time\n",
        "\n",
        "import contractions\n",
        "import re\n",
        "import nltk\n",
        "from nltk.tokenize import word_tokenize \n",
        "from nltk.corpus import  wordnet, stopwords \n",
        "\n",
        "nltk.download('punkt')\n",
        "nltk.download('wordnet')\n",
        "nltk.download('averaged_perceptron_tagger')\n",
        "nltk.download('stopwords')\n",
        "\n",
        "from joblib import dump, load\n",
        "\n",
        "import seaborn as sns\n",
        "import matplotlib.pyplot as plt\n",
        "import numpy as np\n",
        "import pandas as pd\n",
        "\n",
        "import gensim\n",
        "from gensim.models import Word2Vec, KeyedVectors\n",
        "\n",
        "from sklearn.linear_model import LogisticRegression, LogisticRegressionCV\n",
        "from sklearn.feature_extraction.text import CountVectorizer, TfidfTransformer\n",
        "from sklearn.pipeline import Pipeline\n",
        "from sklearn.metrics import roc_auc_score, roc_curve, auc \n",
        "from sklearn.metrics import confusion_matrix, classification_report, accuracy_score\n",
        "from sklearn.model_selection import train_test_split\n",
        "\n",
        "import tensorflow as tf\n",
        "from tensorflow.python.keras.preprocessing.text import Tokenizer\n",
        "from tensorflow.python.keras.models import Sequential, model_from_json\n",
        "from tensorflow.python.keras.layers import Dense, GRU, Embedding, Dropout, Activation\n",
        "from tensorflow.python.keras import metrics\n",
        "from tensorflow.python.keras.optimizers import Adam\n",
        "from tensorflow.python.keras.preprocessing.sequence import pad_sequences\n",
        "import tensorflow_hub as hub\n",
        "\n",
        "from flair.data_fetcher import NLPTaskDataFetcher\n",
        "from flair.embeddings import WordEmbeddings, FlairEmbeddings, DocumentLSTMEmbeddings\n",
        "from flair.models import TextClassifier\n",
        "from flair.trainers import ModelTrainer\n",
        "\n",
        "from pathlib import Path\n",
        "from flair.data import Sentence\n",
        "\n",
        "from fastai.text import *\n",
        "\n",
        "def remove_white_space(text):\n",
        "    return text.strip().strip('\\t\\n')\n",
        "\n",
        "def remove_special_character(text):\n",
        "    return re.sub('[^A-Za-z0-9\\s]+', '', text)\n",
        "\n",
        "def report(y, predicted):\n",
        "    target_names = ['Sincere', 'Insincere']\n",
        "        \n",
        "    #classification_report \n",
        "    report = classification_report(y, predicted, target_names = target_names)\n",
        "    print(report)\n",
        "    \n",
        "    #confusion matrix\n",
        "    matrix = confusion_matrix(y, predicted)\n",
        "    fig, ax = plt.subplots(figsize = (5,5))\n",
        "    sns.heatmap(matrix, annot = True, fmt = 'd')\n",
        "    plt.ylabel('Actual')\n",
        "    plt.xlabel('Predicted')\n",
        "    plt.show()\n",
        "    \n",
        "def plot_history(history):\n",
        "    acc = history.history['acc']\n",
        "    val_acc = history.history['val_acc']\n",
        "    loss = history.history['loss']\n",
        "    val_loss = history.history['val_loss']\n",
        "    x = range(1, len(acc) + 1)\n",
        "    plt.figure(figsize=(12, 5))\n",
        "    plt.subplot(1, 2, 1)\n",
        "    plt.plot(x, acc, 'b', label='Training acc')\n",
        "    plt.plot(x, val_acc, 'r', label='Validation acc')\n",
        "    plt.title('Training and validation accuracy')\n",
        "    plt.legend()\n",
        "    plt.subplot(1, 2, 2)\n",
        "    plt.plot(x, loss, 'b', label='Training loss')\n",
        "    plt.plot(x, val_loss, 'r', label='Validation loss')\n",
        "    plt.title('Training and validation loss')\n",
        "    plt.legend()\n",
        "    plt.show()\n",
        "    \n",
        "    \n",
        "def plot_roc(y, predicted):\n",
        "    #roc curve\n",
        "    fpr, tpr, thresholds = roc_curve(y, predicted, pos_label = 1)\n",
        "    roc_auc = auc(fpr, tpr)\n",
        "    fpr1, tpr1, thresholds1 = roc_curve(y, 1- predicted, pos_label = 0)\n",
        "    roc_auc1 = auc(fpr1, tpr1)\n",
        "\n",
        "    plt.figure()\n",
        "    plt.plot(fpr, tpr, color ='blue', lw = 1, label = 'ROC curve for sincere (area = %0.2f)' % roc_auc)\n",
        "    plt.plot(fpr1, tpr1, color ='red', lw = 1, label = 'ROC curve for insincere (area = %0.2f)' % roc_auc1)\n",
        "    plt.plot([0, 1], [0, 1], color ='black', lw = 1, linestyle = '--')\n",
        "    plt.xlim([0.0, 1.0])\n",
        "    plt.ylim([0.0, 1.05])\n",
        "    plt.xlabel('False Positive Rate')\n",
        "    plt.ylabel('True Positive Rate')\n",
        "    plt.legend(loc = \"lower right\")\n",
        "    plt.show()\n",
        "    \n",
        "def word_averaging(wv, words):\n",
        "    all_words, mean = set(), []\n",
        "    \n",
        "    for word in words:\n",
        "        if isinstance(word, np.ndarray):\n",
        "            mean.append(word)\n",
        "        elif word in wv.vocab:\n",
        "            mean.append(wv.syn0norm[wv.vocab[word].index])\n",
        "            all_words.add(wv.vocab[word].index)\n",
        "\n",
        "    if not mean:\n",
        "        print(\"cannot compute similarity with no input %s\", words)\n",
        "        return np.zeros(wv.vector_size,)\n",
        "\n",
        "    mean = gensim.matutils.unitvec(np.array(mean).mean(axis=0)).astype(np.float32)\n",
        "    return mean\n",
        "\n",
        "def  word_averaging_list(wv, docs):\n",
        "    return np.vstack([word_averaging(wv, doc) for doc in docs])\n",
        "  \n",
        "def  word_doc2vec_list(model, docs):\n",
        "    return np.vstack([model.infer_vector(doc.split()) for doc in docs])"
      ],
      "execution_count": 3,
      "outputs": [
        {
          "output_type": "stream",
          "text": [
            "[nltk_data] Downloading package punkt to /root/nltk_data...\n",
            "[nltk_data]   Package punkt is already up-to-date!\n",
            "[nltk_data] Downloading package wordnet to /root/nltk_data...\n",
            "[nltk_data]   Package wordnet is already up-to-date!\n",
            "[nltk_data] Downloading package averaged_perceptron_tagger to\n",
            "[nltk_data]     /root/nltk_data...\n",
            "[nltk_data]   Package averaged_perceptron_tagger is already up-to-\n",
            "[nltk_data]       date!\n",
            "[nltk_data] Downloading package stopwords to /root/nltk_data...\n",
            "[nltk_data]   Package stopwords is already up-to-date!\n",
            "CPU times: user 2.57 s, sys: 306 ms, total: 2.87 s\n",
            "Wall time: 3.07 s\n"
          ],
          "name": "stdout"
        }
      ]
    },
    {
      "cell_type": "code",
      "metadata": {
        "id": "qR_RxJeA2nMw",
        "colab_type": "code",
        "colab": {}
      },
      "source": [
        "## FUNCTIONS TAKEN FROM https://www.kaggle.com/gmhost/gru-capsule\n",
        "\n",
        "def load_glove(word_index):\n",
        "    EMBEDDING_FILE = path+\"embeddings/glove.840B.300d/glove.840B.300d.txt\"\n",
        "    def get_coefs(word,*arr): return word, np.asarray(arr, dtype='float32')[:300]\n",
        "    embeddings_index = dict(get_coefs(*o.split(\" \")) for o in open(EMBEDDING_FILE))\n",
        "    \n",
        "    all_embs = np.stack(embeddings_index.values())\n",
        "    emb_mean,emb_std = -0.005838499,0.48782197\n",
        "    embed_size = all_embs.shape[1]\n",
        "\n",
        "    nb_words = min(num_words, len(word_index))\n",
        "    embedding_matrix = np.random.normal(emb_mean, emb_std, (nb_words, embed_size))\n",
        "    for word, i in word_index.items():\n",
        "        if i >= num_words: continue\n",
        "        embedding_vector = embeddings_index.get(word)\n",
        "        #ALLmight\n",
        "        if embedding_vector is not None: \n",
        "            embedding_matrix[i] = embedding_vector\n",
        "        else:\n",
        "            embedding_vector = embeddings_index.get(word.capitalize())\n",
        "            if embedding_vector is not None: \n",
        "                embedding_matrix[i] = embedding_vector\n",
        "    return embedding_matrix \n",
        "    \n",
        "            \n",
        "def load_fasttext(word_index):    \n",
        "    EMBEDDING_FILE = path+\"embeddings/wiki-news-300d-1M/wiki-news-300d-1M.vec\"\n",
        "    def get_coefs(word,*arr): return word, np.asarray(arr, dtype='float32')\n",
        "    embeddings_index = dict(get_coefs(*o.split(\" \")) for o in open(EMBEDDING_FILE) if len(o)>100)\n",
        "\n",
        "    all_embs = np.stack(embeddings_index.values())\n",
        "    emb_mean,emb_std = all_embs.mean(), all_embs.std()\n",
        "    embed_size = all_embs.shape[1]\n",
        "\n",
        "    nb_words = min(num_words, len(word_index))\n",
        "    embedding_matrix = np.random.normal(emb_mean, emb_std, (nb_words, embed_size))\n",
        "    for word, i in word_index.items():\n",
        "        if i >= num_words: continue\n",
        "        embedding_vector = embeddings_index.get(word)\n",
        "        if embedding_vector is not None: embedding_matrix[i] = embedding_vector\n",
        "\n",
        "    return embedding_matrix\n",
        "\n",
        "def load_para(word_index):\n",
        "    EMBEDDING_FILE = path+'embeddings/paragram_300_sl999/paragram_300_sl999.txt'\n",
        "    def get_coefs(word,*arr): return word, np.asarray(arr, dtype='float32')\n",
        "    embeddings_index = dict(get_coefs(*o.split(\" \")) for o in open(EMBEDDING_FILE, encoding=\"utf8\", errors='ignore') if len(o)>100)\n",
        "\n",
        "    all_embs = np.stack(embeddings_index.values())\n",
        "    emb_mean,emb_std = -0.0053247833,0.49346462\n",
        "    embed_size = all_embs.shape[1]\n",
        "\n",
        "    nb_words = min(num_words, len(word_index))\n",
        "    embedding_matrix = np.random.normal(emb_mean, emb_std, (nb_words, embed_size))\n",
        "    for word, i in word_index.items():\n",
        "        if i >= num_words: continue\n",
        "        embedding_vector = embeddings_index.get(word)\n",
        "        if embedding_vector is not None: embedding_matrix[i] = embedding_vector\n",
        "    \n",
        "    return embedding_matrix"
      ],
      "execution_count": 0,
      "outputs": []
    },
    {
      "cell_type": "code",
      "metadata": {
        "id": "gJLoIAGtheFQ",
        "colab_type": "code",
        "colab": {}
      },
      "source": [
        "num_words = 8000 \n",
        "embedding_size = 300\n",
        "max_tokens = 30\n",
        "pad = 'post'\n",
        "path = '/content/gdrive/My Drive/data/'"
      ],
      "execution_count": 0,
      "outputs": []
    },
    {
      "cell_type": "markdown",
      "metadata": {
        "id": "vEu471qrTEp9",
        "colab_type": "text"
      },
      "source": [
        "#1. simple clean up (keep the  numbers and no stemming)\n"
      ]
    },
    {
      "cell_type": "code",
      "metadata": {
        "id": "dcXhweY67Da3",
        "colab_type": "code",
        "outputId": "458c0ef6-bd25-4dd7-cabf-943c74f88a1e",
        "colab": {
          "base_uri": "https://localhost:8080/",
          "height": 34
        }
      },
      "source": [
        "train_data = pd.read_csv(path+'train.csv')\n",
        "print('Training data set: ' + str(len(train_data)))"
      ],
      "execution_count": 6,
      "outputs": [
        {
          "output_type": "stream",
          "text": [
            "Training data set: 1306122\n"
          ],
          "name": "stdout"
        }
      ]
    },
    {
      "cell_type": "code",
      "metadata": {
        "id": "NzprngiJ7TrO",
        "colab_type": "code",
        "outputId": "c2cc935b-57f0-49b3-b9f0-50699c8e825b",
        "colab": {
          "base_uri": "https://localhost:8080/",
          "height": 204
        }
      },
      "source": [
        "%%time\n",
        "\n",
        "train_data['question_text'] = train_data['question_text'].str.normalize('NFKD')\\\n",
        ".apply(contractions.fix).apply(remove_white_space).str.lower().apply(remove_special_character)\n",
        "train_data['word_count'] = train_data['question_text'].apply(lambda x: len(str(x).split()))\n",
        "\n",
        "train_data = train_data.loc[(train_data.word_count > 0)]\n",
        "train_data= train_data.reset_index()\n",
        "\n",
        "print('Training data set: ' + str(len(train_data)))\n",
        "print(train_data.head())\n",
        "\n",
        "dump(train_data, path+'train_data_project.sav')"
      ],
      "execution_count": 7,
      "outputs": [
        {
          "output_type": "stream",
          "text": [
            "Training data set: 1306116\n",
            "   index                   qid  ... target  word_count\n",
            "0      0  00002165364db923c7e6  ...      0          13\n",
            "1      1  000032939017120e6e44  ...      0          16\n",
            "2      2  0000412ca6e4628ce2cf  ...      0          10\n",
            "3      3  000042bf85aa498cd78e  ...      0           9\n",
            "4      4  0000455dfa3e01eae3af  ...      0          15\n",
            "\n",
            "[5 rows x 5 columns]\n",
            "CPU times: user 20.1 s, sys: 715 ms, total: 20.8 s\n",
            "Wall time: 21.7 s\n"
          ],
          "name": "stdout"
        }
      ]
    },
    {
      "cell_type": "code",
      "metadata": {
        "id": "JuoB4Zf5f7ly",
        "colab_type": "code",
        "outputId": "bdcfa1bf-22c4-46ce-dd16-71b7b0f04e6d",
        "colab": {
          "base_uri": "https://localhost:8080/",
          "height": 221
        }
      },
      "source": [
        "train_data_s = pd.concat([train_data.loc[(train_data['target'] == 0) & (train_data['question_text'].str.len() > 10)].sample(n=90000, random_state=42),\\\n",
        "                          train_data.loc[(train_data['target'] == 1) & (train_data['question_text'].str.len() > 10)].sample(n=80000, random_state=42)], ignore_index=True)\n",
        "train_data_s = train_data_s.sample(frac=1).reset_index(drop=True)\n",
        "print(len(train_data_s))\n",
        "train_data_s.head()"
      ],
      "execution_count": 8,
      "outputs": [
        {
          "output_type": "stream",
          "text": [
            "170000\n"
          ],
          "name": "stdout"
        },
        {
          "output_type": "execute_result",
          "data": {
            "text/html": [
              "<div>\n",
              "<style scoped>\n",
              "    .dataframe tbody tr th:only-of-type {\n",
              "        vertical-align: middle;\n",
              "    }\n",
              "\n",
              "    .dataframe tbody tr th {\n",
              "        vertical-align: top;\n",
              "    }\n",
              "\n",
              "    .dataframe thead th {\n",
              "        text-align: right;\n",
              "    }\n",
              "</style>\n",
              "<table border=\"1\" class=\"dataframe\">\n",
              "  <thead>\n",
              "    <tr style=\"text-align: right;\">\n",
              "      <th></th>\n",
              "      <th>index</th>\n",
              "      <th>qid</th>\n",
              "      <th>question_text</th>\n",
              "      <th>target</th>\n",
              "      <th>word_count</th>\n",
              "    </tr>\n",
              "  </thead>\n",
              "  <tbody>\n",
              "    <tr>\n",
              "      <th>0</th>\n",
              "      <td>547219</td>\n",
              "      <td>6b33cc68f55a92c4e3fd</td>\n",
              "      <td>i am a boy why do girls tease me about my bare...</td>\n",
              "      <td>1</td>\n",
              "      <td>13</td>\n",
              "    </tr>\n",
              "    <tr>\n",
              "      <th>1</th>\n",
              "      <td>1037678</td>\n",
              "      <td>cb55798d61f833d3099b</td>\n",
              "      <td>is liberalism responsible for the destruction ...</td>\n",
              "      <td>1</td>\n",
              "      <td>17</td>\n",
              "    </tr>\n",
              "    <tr>\n",
              "      <th>2</th>\n",
              "      <td>90722</td>\n",
              "      <td>11c6586aa432d8ec7178</td>\n",
              "      <td>how many versions of airsoft gearboxes are the...</td>\n",
              "      <td>0</td>\n",
              "      <td>14</td>\n",
              "    </tr>\n",
              "    <tr>\n",
              "      <th>3</th>\n",
              "      <td>788433</td>\n",
              "      <td>9a78317ddaee91efe8b4</td>\n",
              "      <td>i have a gpa of 57 and a gamsat of 71 do i sta...</td>\n",
              "      <td>0</td>\n",
              "      <td>21</td>\n",
              "    </tr>\n",
              "    <tr>\n",
              "      <th>4</th>\n",
              "      <td>272982</td>\n",
              "      <td>356ec6ab950d75b38500</td>\n",
              "      <td>what would happen if spacecraft with american ...</td>\n",
              "      <td>0</td>\n",
              "      <td>20</td>\n",
              "    </tr>\n",
              "  </tbody>\n",
              "</table>\n",
              "</div>"
            ],
            "text/plain": [
              "     index                   qid  ... target  word_count\n",
              "0   547219  6b33cc68f55a92c4e3fd  ...      1          13\n",
              "1  1037678  cb55798d61f833d3099b  ...      1          17\n",
              "2    90722  11c6586aa432d8ec7178  ...      0          14\n",
              "3   788433  9a78317ddaee91efe8b4  ...      0          21\n",
              "4   272982  356ec6ab950d75b38500  ...      0          20\n",
              "\n",
              "[5 rows x 5 columns]"
            ]
          },
          "metadata": {
            "tags": []
          },
          "execution_count": 8
        }
      ]
    },
    {
      "cell_type": "code",
      "metadata": {
        "id": "nMAuVPLPx9my",
        "colab_type": "code",
        "outputId": "47b234a9-d80a-4a1d-dfc7-dc2141f63994",
        "colab": {
          "base_uri": "https://localhost:8080/",
          "height": 34
        }
      },
      "source": [
        "train_text = train_data['question_text']\n",
        "train_target = train_data['target']\n",
        "\n",
        "dump(train_text, path+'train_text_project.sav')\n",
        "dump(train_target, path+'target_project.sav')"
      ],
      "execution_count": 9,
      "outputs": [
        {
          "output_type": "execute_result",
          "data": {
            "text/plain": [
              "['/content/gdrive/My Drive/data/target_project.sav']"
            ]
          },
          "metadata": {
            "tags": []
          },
          "execution_count": 9
        }
      ]
    },
    {
      "cell_type": "code",
      "metadata": {
        "id": "OPjcohDIgeN7",
        "colab_type": "code",
        "outputId": "b224b153-a74b-4233-fd41-14c528b4ea09",
        "colab": {
          "base_uri": "https://localhost:8080/",
          "height": 34
        }
      },
      "source": [
        "train_text_s = train_data_s['question_text']\n",
        "train_target_s = train_data_s['target']\n",
        "\n",
        "dump(train_text_s, path+'train_text_s_project.sav')\n",
        "dump(train_target_s, path+'target_s_project.sav')"
      ],
      "execution_count": 10,
      "outputs": [
        {
          "output_type": "execute_result",
          "data": {
            "text/plain": [
              "['/content/gdrive/My Drive/data/target_s_project.sav']"
            ]
          },
          "metadata": {
            "tags": []
          },
          "execution_count": 10
        }
      ]
    },
    {
      "cell_type": "markdown",
      "metadata": {
        "id": "4IBoFXfWS97h",
        "colab_type": "text"
      },
      "source": [
        "#2. data split 80% (train) , 10% (dev) ,  10 %(test)"
      ]
    },
    {
      "cell_type": "code",
      "metadata": {
        "id": "BfDVYjufx9uU",
        "colab_type": "code",
        "outputId": "eefe38cf-062c-4b40-ed4a-d11e211363fc",
        "colab": {
          "base_uri": "https://localhost:8080/",
          "height": 68
        }
      },
      "source": [
        "%%time\n",
        "\n",
        "X_train, X_hold, y_train, y_hold  = train_test_split(train_text, train_target, \n",
        "                                                     train_size = 0.8, test_size = 0.2, \n",
        "                                                     random_state = 42, stratify = train_target)\n",
        "X_dev, X_test, y_dev, y_test  = train_test_split(X_hold, y_hold, \n",
        "                                                     train_size = 0.5, test_size = 0.5,  \n",
        "                                                     random_state = 42, stratify = y_hold)\n",
        "\n",
        "print(len(X_train),len(X_dev), len(X_test))"
      ],
      "execution_count": 11,
      "outputs": [
        {
          "output_type": "stream",
          "text": [
            "1044892 130612 130612\n",
            "CPU times: user 1.05 s, sys: 8.71 ms, total: 1.06 s\n",
            "Wall time: 1.06 s\n"
          ],
          "name": "stdout"
        }
      ]
    },
    {
      "cell_type": "code",
      "metadata": {
        "id": "ziFDT013hKET",
        "colab_type": "code",
        "outputId": "065f3427-e23a-4b09-fa16-9879f9e57ee6",
        "colab": {
          "base_uri": "https://localhost:8080/",
          "height": 34
        }
      },
      "source": [
        "X_train_s, X_hold_s, y_train_s, y_hold_s  = train_test_split(train_text_s, train_target_s, \n",
        "                                                     train_size = 0.8, test_size = 0.2, \n",
        "                                                     random_state = 42, stratify = train_target_s)\n",
        "X_dev_s, X_test_s, y_dev_s, y_test_s  = train_test_split(X_hold_s, y_hold_s, \n",
        "                                                     train_size = 0.5, test_size = 0.5,  \n",
        "                                                     random_state = 42, stratify = y_hold_s)\n",
        "\n",
        "print(len(X_train_s),len(X_dev_s), len(X_test_s))"
      ],
      "execution_count": 12,
      "outputs": [
        {
          "output_type": "stream",
          "text": [
            "136000 17000 17000\n"
          ],
          "name": "stdout"
        }
      ]
    },
    {
      "cell_type": "code",
      "metadata": {
        "id": "u7madsD5F2TU",
        "colab_type": "code",
        "colab": {}
      },
      "source": [
        "# print(X_train[0])\n",
        "# tokenizer.texts_to_sequences(X_train[0]) \n",
        "# tokenizer.texts_to_sequences(X_train[0]) "
      ],
      "execution_count": 0,
      "outputs": []
    },
    {
      "cell_type": "code",
      "metadata": {
        "id": "tQgo9Qt71Gqg",
        "colab_type": "code",
        "outputId": "274124f9-b209-4a76-c03b-72890ddb9dfb",
        "colab": {
          "base_uri": "https://localhost:8080/",
          "height": 51
        }
      },
      "source": [
        "%%time\n",
        "\n",
        "tokenizer = Tokenizer(num_words=num_words, lower=False, char_level=False)\n",
        "tokenizer.fit_on_texts(train_data['question_text'])\n",
        "dump(tokenizer, path+'tokenizer_project.sav')"
      ],
      "execution_count": 14,
      "outputs": [
        {
          "output_type": "stream",
          "text": [
            "CPU times: user 40 s, sys: 80.5 ms, total: 40.1 s\n",
            "Wall time: 41 s\n"
          ],
          "name": "stdout"
        }
      ]
    },
    {
      "cell_type": "code",
      "metadata": {
        "id": "EYkuEf124J6C",
        "colab_type": "code",
        "outputId": "d7e36faa-ea6a-4433-e991-db2cce3848b2",
        "colab": {
          "base_uri": "https://localhost:8080/",
          "height": 34
        }
      },
      "source": [
        "X_train_token  = tokenizer.texts_to_sequences(X_train)\n",
        "\n",
        "dump(X_train, path+'X_train_project.sav')\n",
        "dump(X_train_token, path+'X_train_token_project.sav')\n",
        "dump(y_train, path+'y_train_project.sav')"
      ],
      "execution_count": 15,
      "outputs": [
        {
          "output_type": "execute_result",
          "data": {
            "text/plain": [
              "['/content/gdrive/My Drive/data/y_train_project.sav']"
            ]
          },
          "metadata": {
            "tags": []
          },
          "execution_count": 15
        }
      ]
    },
    {
      "cell_type": "code",
      "metadata": {
        "id": "1jFqNAAm_sUx",
        "colab_type": "code",
        "outputId": "f6a2f01d-e298-4936-bba4-f15167808c2a",
        "colab": {
          "base_uri": "https://localhost:8080/",
          "height": 34
        }
      },
      "source": [
        "X_dev_token  = tokenizer.texts_to_sequences(X_dev)\n",
        "\n",
        "dump(X_dev, path+'X_dev_project.sav')\n",
        "dump(X_dev_token, path+'X_dev_token_project.sav')\n",
        "dump(y_dev, path+'y_dev_project.sav')"
      ],
      "execution_count": 16,
      "outputs": [
        {
          "output_type": "execute_result",
          "data": {
            "text/plain": [
              "['/content/gdrive/My Drive/data/y_dev_project.sav']"
            ]
          },
          "metadata": {
            "tags": []
          },
          "execution_count": 16
        }
      ]
    },
    {
      "cell_type": "code",
      "metadata": {
        "id": "avQVQ0utCWnj",
        "colab_type": "code",
        "outputId": "1742ed88-14ca-4b6c-bb75-11d41ef21e36",
        "colab": {
          "base_uri": "https://localhost:8080/",
          "height": 34
        }
      },
      "source": [
        "X_test_token  = tokenizer.texts_to_sequences(X_test)\n",
        "\n",
        "dump(X_test, path+'X_test_project.sav')\n",
        "dump(X_test_token, path+'X_test_token_project.sav')\n",
        "dump(y_test, path+'y_test_project.sav')"
      ],
      "execution_count": 17,
      "outputs": [
        {
          "output_type": "execute_result",
          "data": {
            "text/plain": [
              "['/content/gdrive/My Drive/data/y_test_project.sav']"
            ]
          },
          "metadata": {
            "tags": []
          },
          "execution_count": 17
        }
      ]
    },
    {
      "cell_type": "markdown",
      "metadata": {
        "id": "s157rKgePn5B",
        "colab_type": "text"
      },
      "source": [
        "#3. BOW (TF-IDF)  logistic regression "
      ]
    },
    {
      "cell_type": "code",
      "metadata": {
        "id": "bAQZF8PSMymY",
        "colab_type": "code",
        "colab": {}
      },
      "source": [
        "logreg = Pipeline([('vect', CountVectorizer(max_features=num_words, min_df=2, lowercase=False)),\n",
        "                   ('tfidf', TfidfTransformer()),\n",
        "                   ('clf', LogisticRegressionCV(class_weight='balanced', cv=5, scoring='roc_auc', max_iter=1000,n_jobs=-1)),\n",
        "                  ])"
      ],
      "execution_count": 0,
      "outputs": []
    },
    {
      "cell_type": "code",
      "metadata": {
        "id": "8ASzzEpDNw5k",
        "colab_type": "code",
        "outputId": "2b54f04c-20b8-4076-d24e-4f3641afddc7",
        "colab": {
          "base_uri": "https://localhost:8080/",
          "height": 442
        }
      },
      "source": [
        "%%time\n",
        "\n",
        "logreg.fit(X_train, y_train)"
      ],
      "execution_count": 19,
      "outputs": [
        {
          "output_type": "stream",
          "text": [
            "CPU times: user 40.4 s, sys: 1.6 s, total: 42 s\n",
            "Wall time: 13min 2s\n"
          ],
          "name": "stdout"
        },
        {
          "output_type": "execute_result",
          "data": {
            "text/plain": [
              "Pipeline(memory=None,\n",
              "         steps=[('vect',\n",
              "                 CountVectorizer(analyzer='word', binary=False,\n",
              "                                 decode_error='strict',\n",
              "                                 dtype=<class 'numpy.int64'>, encoding='utf-8',\n",
              "                                 input='content', lowercase=False, max_df=1.0,\n",
              "                                 max_features=8000, min_df=2,\n",
              "                                 ngram_range=(1, 1), preprocessor=None,\n",
              "                                 stop_words=None, strip_accents=None,\n",
              "                                 token_pattern='(?u)\\\\b\\\\w\\\\w+\\\\b',\n",
              "                                 tokenizer=None, vocabulary=No...\n",
              "                 TfidfTransformer(norm='l2', smooth_idf=True,\n",
              "                                  sublinear_tf=False, use_idf=True)),\n",
              "                ('clf',\n",
              "                 LogisticRegressionCV(Cs=10, class_weight='balanced', cv=5,\n",
              "                                      dual=False, fit_intercept=True,\n",
              "                                      intercept_scaling=1.0, l1_ratios=None,\n",
              "                                      max_iter=1000, multi_class='warn',\n",
              "                                      n_jobs=-1, penalty='l2',\n",
              "                                      random_state=None, refit=True,\n",
              "                                      scoring='roc_auc', solver='lbfgs',\n",
              "                                      tol=0.0001, verbose=0))],\n",
              "         verbose=False)"
            ]
          },
          "metadata": {
            "tags": []
          },
          "execution_count": 19
        }
      ]
    },
    {
      "cell_type": "code",
      "metadata": {
        "id": "B6zESJTTJnlt",
        "colab_type": "code",
        "outputId": "5cd5c38b-b084-4432-e7d4-a9abbd28dbb3",
        "colab": {
          "base_uri": "https://localhost:8080/",
          "height": 756
        }
      },
      "source": [
        "y_pred = logreg.predict(X_dev)\n",
        "report(y_dev, y_pred)\n",
        "plot_roc(y_dev, y_pred)"
      ],
      "execution_count": 20,
      "outputs": [
        {
          "output_type": "stream",
          "text": [
            "              precision    recall  f1-score   support\n",
            "\n",
            "     Sincere       0.99      0.89      0.94    122531\n",
            "   Insincere       0.35      0.88      0.50      8081\n",
            "\n",
            "    accuracy                           0.89    130612\n",
            "   macro avg       0.67      0.88      0.72    130612\n",
            "weighted avg       0.95      0.89      0.91    130612\n",
            "\n"
          ],
          "name": "stdout"
        },
        {
          "output_type": "display_data",
          "data": {
            "image/png": "[encoded data removed]",
            "text/plain": [
              "<Figure size 360x360 with 2 Axes>"
            ]
          },
          "metadata": {
            "tags": []
          }
        },
        {
          "output_type": "display_data",
          "data": {
            "image/png": "[encoded data removed]",
            "text/plain": [
              "<Figure size 432x288 with 1 Axes>"
            ]
          },
          "metadata": {
            "tags": []
          }
        }
      ]
    },
    {
      "cell_type": "code",
      "metadata": {
        "id": "YYcsjgoKQgq6",
        "colab_type": "code",
        "colab": {}
      },
      "source": [
        ""
      ],
      "execution_count": 0,
      "outputs": []
    },
    {
      "cell_type": "markdown",
      "metadata": {
        "id": "kdNLt2SqQG3F",
        "colab_type": "text"
      },
      "source": [
        "#4. word2Vec  logistic regression"
      ]
    },
    {
      "cell_type": "code",
      "metadata": {
        "id": "bXxTEfePQVP_",
        "colab_type": "code",
        "outputId": "d745a3bf-e78c-4ffa-f333-cc767c14a30e",
        "colab": {
          "base_uri": "https://localhost:8080/",
          "height": 51
        }
      },
      "source": [
        "%%time\n",
        "\n",
        "word2Vec_model = Word2Vec(train_text.str.split(), size=embedding_size,min_count=2, workers=4)\n",
        "word2Vec_model.save(path+\"embeddings/word2vec.model\")\n",
        "#word2Vec_model = Word2Vec.load(path+\"embeddings/word2vec.model\")"
      ],
      "execution_count": 0,
      "outputs": [
        {
          "output_type": "stream",
          "text": [
            "CPU times: user 6min 3s, sys: 1.63 s, total: 6min 4s\n",
            "Wall time: 3min 13s\n"
          ],
          "name": "stdout"
        }
      ]
    },
    {
      "cell_type": "code",
      "metadata": {
        "id": "eNjXCMsfQq1R",
        "colab_type": "code",
        "outputId": "a06e5386-73a1-4a17-f7be-444c659ae880",
        "colab": {
          "base_uri": "https://localhost:8080/",
          "height": 71
        }
      },
      "source": [
        "word2Vec_model = Word2Vec.load(path+\"embeddings/word2vec.model\")\n",
        "quorawv = word2Vec_model.wv\n",
        "quorawv.init_sims(replace=True)\n",
        "#del word2Vec_model"
      ],
      "execution_count": 0,
      "outputs": [
        {
          "output_type": "stream",
          "text": [
            "/usr/local/lib/python3.6/dist-packages/smart_open/smart_open_lib.py:398: UserWarning: This function is deprecated, use smart_open.open instead. See the migration notes for details: https://github.com/RaRe-Technologies/smart_open/blob/master/README.rst#migrating-to-the-new-open-function\n",
            "  'See the migration notes for details: %s' % _MIGRATION_NOTES_URL\n"
          ],
          "name": "stderr"
        }
      ]
    },
    {
      "cell_type": "code",
      "metadata": {
        "id": "kgvfxXEiQ6a9",
        "colab_type": "code",
        "outputId": "bf19856a-6bf1-4f24-a5e3-a7901c84f3e7",
        "colab": {
          "base_uri": "https://localhost:8080/",
          "height": 207
        }
      },
      "source": [
        "X_train_word_average = word_averaging_list(quorawv,X_train.str.split())\n",
        "X_dev_word_average = word_averaging_list(quorawv,X_dev.str.split())"
      ],
      "execution_count": 0,
      "outputs": [
        {
          "output_type": "stream",
          "text": [
            "/usr/local/lib/python3.6/dist-packages/ipykernel_launcher.py:11: DeprecationWarning: Call to deprecated `syn0norm` (Attribute will be removed in 4.0.0, use self.wv.vectors_norm instead).\n",
            "  # This is added back by InteractiveShellApp.init_path()\n",
            "/usr/local/lib/python3.6/dist-packages/gensim/matutils.py:737: FutureWarning: Conversion of the second argument of issubdtype from `int` to `np.signedinteger` is deprecated. In future, it will be treated as `np.int64 == np.dtype(int).type`.\n",
            "  if np.issubdtype(vec.dtype, np.int):\n"
          ],
          "name": "stderr"
        },
        {
          "output_type": "stream",
          "text": [
            "cannot compute similarity with no input %s ['Dodnsskdkfockdndnsm', 'kddkdndkl', 'dkd', 'sksnwlfd', 'kss']\n",
            "cannot compute similarity with no input %s ['Neigh', 'Whinny']\n",
            "cannot compute similarity with no input %s ['OIL', 'Mgmjmj', 'Tgmgtj', 'mgmgjjjmgtjmjjjmgmj', 'amgjjjjj']\n",
            "cannot compute similarity with no input %s ['ISRAEL', 'OHIM']\n",
            "cannot compute similarity with no input %s ['Whoismost', 'powerfulman']\n",
            "cannot compute similarity with no input %s ['math247math']\n"
          ],
          "name": "stdout"
        }
      ]
    },
    {
      "cell_type": "code",
      "metadata": {
        "id": "tWXSTdRYRKQG",
        "colab_type": "code",
        "colab": {}
      },
      "source": [
        "embeddinglogreg = Pipeline([('clf', LogisticRegressionCV(class_weight='balanced', cv=5, scoring='roc_auc', max_iter=1000,n_jobs=-1)),\n",
        "                  ])"
      ],
      "execution_count": 0,
      "outputs": []
    },
    {
      "cell_type": "code",
      "metadata": {
        "id": "Nk27A8ZZRKUD",
        "colab_type": "code",
        "outputId": "edb42355-8df7-4b1c-89c9-7a03ee14d17d",
        "colab": {
          "base_uri": "https://localhost:8080/",
          "height": 238
        }
      },
      "source": [
        "%%time\n",
        "\n",
        "embeddinglogreg.fit(X_train_word_average, y_train)"
      ],
      "execution_count": 0,
      "outputs": [
        {
          "output_type": "stream",
          "text": [
            "CPU times: user 1min, sys: 11.8 s, total: 1min 12s\n",
            "Wall time: 1h 23min 6s\n"
          ],
          "name": "stdout"
        },
        {
          "output_type": "execute_result",
          "data": {
            "text/plain": [
              "Pipeline(memory=None,\n",
              "         steps=[('clf',\n",
              "                 LogisticRegressionCV(Cs=10, class_weight='balanced', cv=5,\n",
              "                                      dual=False, fit_intercept=True,\n",
              "                                      intercept_scaling=1.0, l1_ratios=None,\n",
              "                                      max_iter=1000, multi_class='warn',\n",
              "                                      n_jobs=-1, penalty='l2',\n",
              "                                      random_state=None, refit=True,\n",
              "                                      scoring='roc_auc', solver='lbfgs',\n",
              "                                      tol=0.0001, verbose=0))],\n",
              "         verbose=False)"
            ]
          },
          "metadata": {
            "tags": []
          },
          "execution_count": 63
        }
      ]
    },
    {
      "cell_type": "code",
      "metadata": {
        "id": "G3If-P3uRKZZ",
        "colab_type": "code",
        "outputId": "6f1e4475-9438-425a-8315-530c10761752",
        "colab": {
          "base_uri": "https://localhost:8080/",
          "height": 756
        }
      },
      "source": [
        "y_pred = embeddinglogreg.predict(X_dev_word_average)\n",
        "report(y_dev, y_pred)\n",
        "plot_roc(y_dev, y_pred)"
      ],
      "execution_count": 0,
      "outputs": [
        {
          "output_type": "stream",
          "text": [
            "              precision    recall  f1-score   support\n",
            "\n",
            "     Sincere       0.99      0.87      0.92    122531\n",
            "   Insincere       0.30      0.88      0.45      8081\n",
            "\n",
            "    accuracy                           0.87    130612\n",
            "   macro avg       0.65      0.88      0.69    130612\n",
            "weighted avg       0.95      0.87      0.90    130612\n",
            "\n"
          ],
          "name": "stdout"
        },
        {
          "output_type": "display_data",
          "data": {
            "image/png": "[encoded data removed]",
            "text/plain": [
              "<Figure size 360x360 with 2 Axes>"
            ]
          },
          "metadata": {
            "tags": []
          }
        },
        {
          "output_type": "display_data",
          "data": {
            "image/png": "[encoded data removed]",
            "text/plain": [
              "<Figure size 432x288 with 1 Axes>"
            ]
          },
          "metadata": {
            "tags": []
          }
        }
      ]
    },
    {
      "cell_type": "markdown",
      "metadata": {
        "id": "IVRShEIF5o5u",
        "colab_type": "text"
      },
      "source": [
        "#5. pre-trained word2Vec logistic regression"
      ]
    },
    {
      "cell_type": "code",
      "metadata": {
        "id": "Q5PHmFOj4-Cy",
        "colab_type": "code",
        "outputId": "7ed11447-ca61-40b0-d5e7-1b56af8ca5aa",
        "colab": {
          "base_uri": "https://localhost:8080/",
          "height": 71
        }
      },
      "source": [
        "googlewv = KeyedVectors.load_word2vec_format(path+\"embeddings/GoogleNews-vectors-negative300/GoogleNews-vectors-negative300.bin\", binary=True)\n",
        "googlewv.init_sims(replace=True)\n"
      ],
      "execution_count": 0,
      "outputs": [
        {
          "output_type": "stream",
          "text": [
            "/usr/local/lib/python3.6/dist-packages/smart_open/smart_open_lib.py:398: UserWarning: This function is deprecated, use smart_open.open instead. See the migration notes for details: https://github.com/RaRe-Technologies/smart_open/blob/master/README.rst#migrating-to-the-new-open-function\n",
            "  'See the migration notes for details: %s' % _MIGRATION_NOTES_URL\n"
          ],
          "name": "stderr"
        }
      ]
    },
    {
      "cell_type": "code",
      "metadata": {
        "id": "OGwQZ0Uc4-As",
        "colab_type": "code",
        "outputId": "735c862a-778a-4fdd-aad2-75b28b3d1b4c",
        "colab": {
          "base_uri": "https://localhost:8080/",
          "height": 139
        }
      },
      "source": [
        "X_train_word_average = word_averaging_list(googlewv,X_train.str.split())\n",
        "X_dev_word_average = word_averaging_list(googlewv,X_dev.str.split())"
      ],
      "execution_count": 0,
      "outputs": [
        {
          "output_type": "stream",
          "text": [
            "/usr/local/lib/python3.6/dist-packages/ipykernel_launcher.py:11: DeprecationWarning: Call to deprecated `syn0norm` (Attribute will be removed in 4.0.0, use self.wv.vectors_norm instead).\n",
            "  # This is added back by InteractiveShellApp.init_path()\n",
            "/usr/local/lib/python3.6/dist-packages/gensim/matutils.py:737: FutureWarning: Conversion of the second argument of issubdtype from `int` to `np.signedinteger` is deprecated. In future, it will be treated as `np.int64 == np.dtype(int).type`.\n",
            "  if np.issubdtype(vec.dtype, np.int):\n"
          ],
          "name": "stderr"
        },
        {
          "output_type": "stream",
          "text": [
            "cannot compute similarity with no input %s ['Integeration', 'of', 'sinx']\n",
            "cannot compute similarity with no input %s ['Whorote', 'gitanjali']\n"
          ],
          "name": "stdout"
        }
      ]
    },
    {
      "cell_type": "code",
      "metadata": {
        "id": "JpWpQrdZNpQW",
        "colab_type": "code",
        "colab": {}
      },
      "source": [
        "embeddinglogreg = Pipeline([('clf', LogisticRegressionCV(class_weight='balanced', cv=5, scoring='roc_auc', max_iter=1000,n_jobs=-1)),\n",
        "                  ])"
      ],
      "execution_count": 0,
      "outputs": []
    },
    {
      "cell_type": "code",
      "metadata": {
        "id": "POpFXt0CPpHY",
        "colab_type": "code",
        "outputId": "bce0670d-c588-409d-9f84-c15b2767c566",
        "colab": {
          "base_uri": "https://localhost:8080/",
          "height": 238
        }
      },
      "source": [
        "%%time\n",
        "\n",
        "embeddinglogreg.fit(X_train_word_average, y_train)"
      ],
      "execution_count": 0,
      "outputs": [
        {
          "output_type": "stream",
          "text": [
            "CPU times: user 27.3 s, sys: 6.33 s, total: 33.6 s\n",
            "Wall time: 8min 42s\n"
          ],
          "name": "stdout"
        },
        {
          "output_type": "execute_result",
          "data": {
            "text/plain": [
              "Pipeline(memory=None,\n",
              "         steps=[('clf',\n",
              "                 LogisticRegressionCV(Cs=10, class_weight='balanced', cv=5,\n",
              "                                      dual=False, fit_intercept=True,\n",
              "                                      intercept_scaling=1.0, l1_ratios=None,\n",
              "                                      max_iter=1000, multi_class='warn',\n",
              "                                      n_jobs=-1, penalty='l2',\n",
              "                                      random_state=None, refit=True,\n",
              "                                      scoring='roc_auc', solver='lbfgs',\n",
              "                                      tol=0.0001, verbose=0))],\n",
              "         verbose=False)"
            ]
          },
          "metadata": {
            "tags": []
          },
          "execution_count": 57
        }
      ]
    },
    {
      "cell_type": "code",
      "metadata": {
        "id": "SeyDHww5PpQ0",
        "colab_type": "code",
        "outputId": "2d217ce5-be2a-461a-9d62-23d33d76f010",
        "colab": {
          "base_uri": "https://localhost:8080/",
          "height": 756
        }
      },
      "source": [
        "y_pred = embeddinglogreg.predict(X_dev_word_average)\n",
        "report(y_dev, y_pred)\n",
        "plot_roc(y_dev, y_pred)"
      ],
      "execution_count": 0,
      "outputs": [
        {
          "output_type": "stream",
          "text": [
            "              precision    recall  f1-score   support\n",
            "\n",
            "     Sincere       0.99      0.87      0.93    122531\n",
            "   Insincere       0.30      0.88      0.45      8081\n",
            "\n",
            "    accuracy                           0.87    130612\n",
            "   macro avg       0.65      0.87      0.69    130612\n",
            "weighted avg       0.95      0.87      0.90    130612\n",
            "\n"
          ],
          "name": "stdout"
        },
        {
          "output_type": "display_data",
          "data": {
            "image/png": "[encoded data removed]",
            "text/plain": [
              "<Figure size 360x360 with 2 Axes>"
            ]
          },
          "metadata": {
            "tags": []
          }
        },
        {
          "output_type": "display_data",
          "data": {
            "image/png": "[encoded data removed]",
            "text/plain": [
              "<Figure size 432x288 with 1 Axes>"
            ]
          },
          "metadata": {
            "tags": []
          }
        }
      ]
    },
    {
      "cell_type": "code",
      "metadata": {
        "id": "tnJ0ByJ6PpVK",
        "colab_type": "code",
        "colab": {}
      },
      "source": [
        "#from gensim.models import KeyedVectors, Word2Vec\n",
        "#from gensim.scripts.glove2word2vec import glove2word2vec\n",
        "\n",
        "#glove2word2vec(path+\"embeddings/glove.840B.300d/glove.840B.300d.txt\", path+\"embeddings/glove.840B.300d/temp.txt\")\n",
        "#glovewv = KeyedVectors.load_word2vec_format(path+\"embeddings/glove.840B.300d/temp.txt\", binary=False)\n",
        "\n",
        "#word2Vec_model = Word2Vec.load(path+\"embeddings/word2vec.model\")\n",
        "#quorawv = word2Vec_model.wv\n",
        "#quorawv.init_sims(replace=True)\n",
        "#del word2Vec_model\n",
        "\n",
        "#wikiwv = KeyedVectors.load_word2vec_format(path+\"embeddings/wiki-news-300d-1M/wiki-news-300d-1M.vec\", binary=False)\n",
        "#googlewv = KeyedVectors.load_word2vec_format(path+\"embeddings/GoogleNews-vectors-negative300/GoogleNews-vectors-negative300.bin\", binary=True)\n",
        "#googlewv.init_sims(replace=True)\n"
      ],
      "execution_count": 0,
      "outputs": []
    },
    {
      "cell_type": "code",
      "metadata": {
        "id": "6p2JGWJ6PpNm",
        "colab_type": "code",
        "colab": {}
      },
      "source": [
        ""
      ],
      "execution_count": 0,
      "outputs": []
    },
    {
      "cell_type": "markdown",
      "metadata": {
        "id": "9zIrQmrim7jA",
        "colab_type": "text"
      },
      "source": [
        "#6. doc2Vec logistic regression\n",
        "https://radimrehurek.com/gensim/models/doc2vec.html"
      ]
    },
    {
      "cell_type": "code",
      "metadata": {
        "id": "xJYZMZxqLJ4z",
        "colab_type": "code",
        "outputId": "336bba56-f7fd-491e-cb68-0a0ac0da55ca",
        "colab": {
          "base_uri": "https://localhost:8080/",
          "height": 51
        }
      },
      "source": [
        "%%time\n",
        "\n",
        "from gensim.models.doc2vec import Doc2Vec, TaggedDocument\n",
        "documents = [TaggedDocument(doc.split(), [i]) for i, doc in X_train.items()]\n"
      ],
      "execution_count": 15,
      "outputs": [
        {
          "output_type": "stream",
          "text": [
            "CPU times: user 6.12 s, sys: 704 ms, total: 6.82 s\n",
            "Wall time: 6.82 s\n"
          ],
          "name": "stdout"
        }
      ]
    },
    {
      "cell_type": "code",
      "metadata": {
        "id": "9wUiicn4LJ1Z",
        "colab_type": "code",
        "outputId": "5b946f59-88dd-49d8-9b2d-93a729d6887e",
        "colab": {
          "base_uri": "https://localhost:8080/",
          "height": 51
        }
      },
      "source": [
        "%%time\n",
        "\n",
        "doc2vec_model = Doc2Vec(documents, max_vocab_size=num_words, dm=1, alpha=0.065, min_alpha=0.00025, negative=5, min_count=2, vector_size=embedding_size, window=5, workers=4)"
      ],
      "execution_count": 0,
      "outputs": [
        {
          "output_type": "stream",
          "text": [
            "CPU times: user 6min 42s, sys: 3min 38s, total: 10min 21s\n",
            "Wall time: 5min 35s\n"
          ],
          "name": "stdout"
        }
      ]
    },
    {
      "cell_type": "code",
      "metadata": {
        "id": "ndH_OwiQLJyc",
        "colab_type": "code",
        "outputId": "5530c54a-ca37-46f5-b148-5d2a380345e1",
        "colab": {
          "base_uri": "https://localhost:8080/",
          "height": 71
        }
      },
      "source": [
        "from gensim.test.utils import get_tmpfile\n",
        "fname = get_tmpfile(path+\"doc2vec_model\")\n",
        "doc2vec_model.save(fname)\n",
        "doc2vec_model = Doc2Vec.load(fname)"
      ],
      "execution_count": 0,
      "outputs": [
        {
          "output_type": "stream",
          "text": [
            "/usr/local/lib/python3.6/dist-packages/smart_open/smart_open_lib.py:398: UserWarning: This function is deprecated, use smart_open.open instead. See the migration notes for details: https://github.com/RaRe-Technologies/smart_open/blob/master/README.rst#migrating-to-the-new-open-function\n",
            "  'See the migration notes for details: %s' % _MIGRATION_NOTES_URL\n"
          ],
          "name": "stderr"
        }
      ]
    },
    {
      "cell_type": "code",
      "metadata": {
        "id": "6TXtLmYKLJvC",
        "colab_type": "code",
        "outputId": "bbe601d9-3402-496a-a54f-5f1f5f3cccd7",
        "colab": {
          "base_uri": "https://localhost:8080/",
          "height": 71
        }
      },
      "source": [
        "doc2vec_model = Doc2Vec.load(fname)"
      ],
      "execution_count": 0,
      "outputs": [
        {
          "output_type": "stream",
          "text": [
            "/usr/local/lib/python3.6/dist-packages/smart_open/smart_open_lib.py:398: UserWarning: This function is deprecated, use smart_open.open instead. See the migration notes for details: https://github.com/RaRe-Technologies/smart_open/blob/master/README.rst#migrating-to-the-new-open-function\n",
            "  'See the migration notes for details: %s' % _MIGRATION_NOTES_URL\n"
          ],
          "name": "stderr"
        }
      ]
    },
    {
      "cell_type": "code",
      "metadata": {
        "id": "dmLOpIMjJt0Z",
        "colab_type": "code",
        "colab": {}
      },
      "source": [
        "%%time\n",
        "\n",
        "X_train_doc2vec = word_doc2vec_list(doc2vec_model,X_train)\n",
        "X_dev_doc2vec = word_doc2vec_list(doc2vec_model,X_dev)"
      ],
      "execution_count": 0,
      "outputs": []
    },
    {
      "cell_type": "code",
      "metadata": {
        "id": "hz4hwd6EJtwy",
        "colab_type": "code",
        "colab": {}
      },
      "source": [
        "doclogreg = Pipeline([('clf', LogisticRegressionCV(class_weight='balanced', cv=5, scoring='roc_auc', max_iter=1000,n_jobs=-1)),\n",
        "                  ])"
      ],
      "execution_count": 0,
      "outputs": []
    },
    {
      "cell_type": "code",
      "metadata": {
        "id": "SdTJ_4xhJtt0",
        "colab_type": "code",
        "outputId": "070e9000-ab92-448d-b61c-a4f92b9e7941",
        "colab": {
          "base_uri": "https://localhost:8080/",
          "height": 238
        }
      },
      "source": [
        "%%time\n",
        "\n",
        "doclogreg.fit(X_train_doc2vec, y_train)"
      ],
      "execution_count": 0,
      "outputs": [
        {
          "output_type": "stream",
          "text": [
            "CPU times: user 38.2 s, sys: 3.66 s, total: 41.9 s\n",
            "Wall time: 8min 35s\n"
          ],
          "name": "stdout"
        },
        {
          "output_type": "execute_result",
          "data": {
            "text/plain": [
              "Pipeline(memory=None,\n",
              "         steps=[('clf',\n",
              "                 LogisticRegressionCV(Cs=10, class_weight='balanced', cv=5,\n",
              "                                      dual=False, fit_intercept=True,\n",
              "                                      intercept_scaling=1.0, l1_ratios=None,\n",
              "                                      max_iter=1000, multi_class='warn',\n",
              "                                      n_jobs=-1, penalty='l2',\n",
              "                                      random_state=None, refit=True,\n",
              "                                      scoring='roc_auc', solver='lbfgs',\n",
              "                                      tol=0.0001, verbose=0))],\n",
              "         verbose=False)"
            ]
          },
          "metadata": {
            "tags": []
          },
          "execution_count": 58
        }
      ]
    },
    {
      "cell_type": "code",
      "metadata": {
        "id": "0ZwLuDTkIu7W",
        "colab_type": "code",
        "outputId": "4c751c34-f0d1-445e-ba90-b58c6477ab38",
        "colab": {
          "base_uri": "https://localhost:8080/",
          "height": 757
        }
      },
      "source": [
        "y_pred = doclogreg.predict(X_dev_doc2vec)\n",
        "report(y_dev, y_pred)\n",
        "plot_roc(y_dev, y_pred)"
      ],
      "execution_count": 0,
      "outputs": [
        {
          "output_type": "stream",
          "text": [
            "              precision    recall  f1-score   support\n",
            "\n",
            "     Sincere       0.98      0.82      0.89    122531\n",
            "   Insincere       0.21      0.74      0.32      8081\n",
            "\n",
            "    accuracy                           0.81    130612\n",
            "   macro avg       0.59      0.78      0.61    130612\n",
            "weighted avg       0.93      0.81      0.85    130612\n",
            "\n"
          ],
          "name": "stdout"
        },
        {
          "output_type": "display_data",
          "data": {
            "image/png": "[encoded data removed]",
            "text/plain": [
              "<Figure size 360x360 with 2 Axes>"
            ]
          },
          "metadata": {
            "tags": []
          }
        },
        {
          "output_type": "display_data",
          "data": {
            "image/png": "[encoded data removed]",
            "text/plain": [
              "<Figure size 432x288 with 1 Axes>"
            ]
          },
          "metadata": {
            "tags": []
          }
        }
      ]
    },
    {
      "cell_type": "code",
      "metadata": {
        "id": "7naolZCcGDTV",
        "colab_type": "code",
        "colab": {
          "base_uri": "https://localhost:8080/",
          "height": 51
        },
        "outputId": "9b235bd0-541e-4a3f-e9c1-e0eb1034070d"
      },
      "source": [
        "%%time\n",
        "\n",
        "doc2vec_model = Doc2Vec(documents, max_vocab_size=num_words, dm=0, alpha=0.065, min_alpha=0.00025, negative=5, min_count=2, vector_size=embedding_size, window=5, workers=4)"
      ],
      "execution_count": 16,
      "outputs": [
        {
          "output_type": "stream",
          "text": [
            "CPU times: user 7min 46s, sys: 2min 47s, total: 10min 33s\n",
            "Wall time: 6min 24s\n"
          ],
          "name": "stdout"
        }
      ]
    },
    {
      "cell_type": "code",
      "metadata": {
        "id": "okrOeZ9Rm6B4",
        "colab_type": "code",
        "colab": {
          "base_uri": "https://localhost:8080/",
          "height": 71
        },
        "outputId": "874f0bd8-b449-45af-af28-5d26c5e05614"
      },
      "source": [
        "from gensim.test.utils import get_tmpfile\n",
        "fname = get_tmpfile(path+\"doc2vec_model\")\n",
        "doc2vec_model.save(fname)\n",
        "doc2vec_model = Doc2Vec.load(fname)"
      ],
      "execution_count": 17,
      "outputs": [
        {
          "output_type": "stream",
          "text": [
            "/usr/local/lib/python3.6/dist-packages/smart_open/smart_open_lib.py:398: UserWarning: This function is deprecated, use smart_open.open instead. See the migration notes for details: https://github.com/RaRe-Technologies/smart_open/blob/master/README.rst#migrating-to-the-new-open-function\n",
            "  'See the migration notes for details: %s' % _MIGRATION_NOTES_URL\n"
          ],
          "name": "stderr"
        }
      ]
    },
    {
      "cell_type": "code",
      "metadata": {
        "id": "idS8PNKUGjoI",
        "colab_type": "code",
        "colab": {
          "base_uri": "https://localhost:8080/",
          "height": 71
        },
        "outputId": "ceb95267-e807-4810-bb9e-9a8d7d1d11b7"
      },
      "source": [
        "doc2vec_model = Doc2Vec.load(fname)"
      ],
      "execution_count": 18,
      "outputs": [
        {
          "output_type": "stream",
          "text": [
            "/usr/local/lib/python3.6/dist-packages/smart_open/smart_open_lib.py:398: UserWarning: This function is deprecated, use smart_open.open instead. See the migration notes for details: https://github.com/RaRe-Technologies/smart_open/blob/master/README.rst#migrating-to-the-new-open-function\n",
            "  'See the migration notes for details: %s' % _MIGRATION_NOTES_URL\n"
          ],
          "name": "stderr"
        }
      ]
    },
    {
      "cell_type": "code",
      "metadata": {
        "id": "i4V4o58FGjrg",
        "colab_type": "code",
        "colab": {
          "base_uri": "https://localhost:8080/",
          "height": 51
        },
        "outputId": "5b1b4b46-35b6-416f-9234-f4731f4a45c5"
      },
      "source": [
        "%%time\n",
        "\n",
        "X_train_doc2vec = word_doc2vec_list(doc2vec_model,X_train)\n",
        "X_dev_doc2vec = word_doc2vec_list(doc2vec_model,X_dev)"
      ],
      "execution_count": 21,
      "outputs": [
        {
          "output_type": "stream",
          "text": [
            "CPU times: user 2min 51s, sys: 3.9 s, total: 2min 55s\n",
            "Wall time: 2min 55s\n"
          ],
          "name": "stdout"
        }
      ]
    },
    {
      "cell_type": "code",
      "metadata": {
        "id": "Jujgx9nIGjuh",
        "colab_type": "code",
        "colab": {}
      },
      "source": [
        "doclogreg = Pipeline([('clf', LogisticRegressionCV(class_weight='balanced', cv=5, scoring='roc_auc', max_iter=1000,n_jobs=-1)),\n",
        "                  ])"
      ],
      "execution_count": 0,
      "outputs": []
    },
    {
      "cell_type": "code",
      "metadata": {
        "id": "BHSqQOHBGx-N",
        "colab_type": "code",
        "colab": {
          "base_uri": "https://localhost:8080/",
          "height": 238
        },
        "outputId": "6e57969d-7802-4f78-c199-fd23887df182"
      },
      "source": [
        "%%time\n",
        "\n",
        "doclogreg.fit(X_train_doc2vec, y_train)"
      ],
      "execution_count": 23,
      "outputs": [
        {
          "output_type": "stream",
          "text": [
            "CPU times: user 1min 10s, sys: 14.8 s, total: 1min 24s\n",
            "Wall time: 24min 28s\n"
          ],
          "name": "stdout"
        },
        {
          "output_type": "execute_result",
          "data": {
            "text/plain": [
              "Pipeline(memory=None,\n",
              "         steps=[('clf',\n",
              "                 LogisticRegressionCV(Cs=10, class_weight='balanced', cv=5,\n",
              "                                      dual=False, fit_intercept=True,\n",
              "                                      intercept_scaling=1.0, l1_ratios=None,\n",
              "                                      max_iter=1000, multi_class='warn',\n",
              "                                      n_jobs=-1, penalty='l2',\n",
              "                                      random_state=None, refit=True,\n",
              "                                      scoring='roc_auc', solver='lbfgs',\n",
              "                                      tol=0.0001, verbose=0))],\n",
              "         verbose=False)"
            ]
          },
          "metadata": {
            "tags": []
          },
          "execution_count": 23
        }
      ]
    },
    {
      "cell_type": "code",
      "metadata": {
        "id": "vmsVTy8AGyBC",
        "colab_type": "code",
        "colab": {
          "base_uri": "https://localhost:8080/",
          "height": 756
        },
        "outputId": "d2a2dab8-746d-42c1-cdfd-3ca583ab4799"
      },
      "source": [
        "y_pred = doclogreg.predict(X_dev_doc2vec)\n",
        "report(y_dev, y_pred)\n",
        "plot_roc(y_dev, y_pred)"
      ],
      "execution_count": 24,
      "outputs": [
        {
          "output_type": "stream",
          "text": [
            "              precision    recall  f1-score   support\n",
            "\n",
            "     Sincere       0.98      0.81      0.89    122531\n",
            "   Insincere       0.21      0.78      0.34      8081\n",
            "\n",
            "    accuracy                           0.81    130612\n",
            "   macro avg       0.60      0.80      0.61    130612\n",
            "weighted avg       0.94      0.81      0.85    130612\n",
            "\n"
          ],
          "name": "stdout"
        },
        {
          "output_type": "display_data",
          "data": {
            "image/png": "[encoded data removed]",
            "text/plain": [
              "<Figure size 360x360 with 2 Axes>"
            ]
          },
          "metadata": {
            "tags": []
          }
        },
        {
          "output_type": "display_data",
          "data": {
            "image/png": "[encoded data removed]",
            "text/plain": [
              "<Figure size 432x288 with 1 Axes>"
            ]
          },
          "metadata": {
            "tags": []
          }
        }
      ]
    },
    {
      "cell_type": "code",
      "metadata": {
        "id": "2Kv6sU-4GyEI",
        "colab_type": "code",
        "colab": {}
      },
      "source": [
        ""
      ],
      "execution_count": 0,
      "outputs": []
    },
    {
      "cell_type": "markdown",
      "metadata": {
        "id": "mHyUl3uoYTwN",
        "colab_type": "text"
      },
      "source": [
        "#7.  RNN with embedding layer "
      ]
    },
    {
      "cell_type": "code",
      "metadata": {
        "id": "WVUd-9eMe-xJ",
        "colab_type": "code",
        "outputId": "6a737cd1-1e1f-4a4e-b96a-797984b35d68",
        "colab": {
          "base_uri": "https://localhost:8080/",
          "height": 51
        }
      },
      "source": [
        "%%time\n",
        "\n",
        "X_train_token = load(path +'X_train_token_project.sav')\n",
        "X_dev_token = load(path +'X_dev_token_project.sav')\n",
        "X_train_pad = pad_sequences(X_train_token, maxlen=max_tokens, padding=pad, truncating=pad).tolist()\n",
        "X_dev_pad = pad_sequences(X_dev_token, maxlen=max_tokens, padding=pad, truncating=pad).tolist()\n"
      ],
      "execution_count": 0,
      "outputs": [
        {
          "output_type": "stream",
          "text": [
            "CPU times: user 28.4 s, sys: 0 ns, total: 28.4 s\n",
            "Wall time: 28.4 s\n"
          ],
          "name": "stdout"
        }
      ]
    },
    {
      "cell_type": "code",
      "metadata": {
        "id": "zvKONykYm5-p",
        "colab_type": "code",
        "colab": {}
      },
      "source": [
        "model = Sequential()\n",
        "optimizer = Adam(lr=1e-3)"
      ],
      "execution_count": 0,
      "outputs": []
    },
    {
      "cell_type": "code",
      "metadata": {
        "id": "p4UiGinum57s",
        "colab_type": "code",
        "colab": {}
      },
      "source": [
        "model.add(Embedding(input_dim=num_words, output_dim=embedding_size, input_length=max_tokens, name='layer_embedding'))\n",
        "model.add(GRU(units=32, return_sequences=True))\n",
        "model.add(GRU(units=16, dropout=0.5, return_sequences=True))\n",
        "model.add(GRU(units=8, return_sequences=True))\n",
        "model.add(GRU(units=4))\n",
        "model.add(Dense(1, activation='sigmoid'))\n",
        "model.compile(loss='binary_crossentropy', optimizer=optimizer, metrics=['AUC', 'accuracy'])"
      ],
      "execution_count": 0,
      "outputs": []
    },
    {
      "cell_type": "code",
      "metadata": {
        "id": "v5ih61uuldUW",
        "colab_type": "code",
        "outputId": "bb9d9508-e692-4117-a7f2-ff353ba9d883",
        "colab": {
          "base_uri": "https://localhost:8080/",
          "height": 357
        }
      },
      "source": [
        "model.summary()"
      ],
      "execution_count": 0,
      "outputs": [
        {
          "output_type": "stream",
          "text": [
            "Model: \"sequential_1\"\n",
            "_________________________________________________________________\n",
            "Layer (type)                 Output Shape              Param #   \n",
            "=================================================================\n",
            "layer_embedding (Embedding)  (None, 30, 300)           2400000   \n",
            "_________________________________________________________________\n",
            "gru_4 (GRU)                  (None, 30, 32)            31968     \n",
            "_________________________________________________________________\n",
            "gru_5 (GRU)                  (None, 30, 16)            2352      \n",
            "_________________________________________________________________\n",
            "gru_6 (GRU)                  (None, 30, 8)             600       \n",
            "_________________________________________________________________\n",
            "gru_7 (GRU)                  (None, 4)                 156       \n",
            "_________________________________________________________________\n",
            "dense_1 (Dense)              (None, 1)                 5         \n",
            "=================================================================\n",
            "Total params: 2,435,081\n",
            "Trainable params: 2,435,081\n",
            "Non-trainable params: 0\n",
            "_________________________________________________________________\n"
          ],
          "name": "stdout"
        }
      ]
    },
    {
      "cell_type": "code",
      "metadata": {
        "id": "srvlupp-m54l",
        "colab_type": "code",
        "outputId": "cc7bedbd-89ac-4b16-f934-bf70d989b655",
        "colab": {
          "base_uri": "https://localhost:8080/",
          "height": 258
        }
      },
      "source": [
        "%%time\n",
        "\n",
        "history = model.fit(np.array(X_train_pad), y_train, validation_data=(np.array(X_dev_pad),y_dev), epochs=5, batch_size=500)\n"
      ],
      "execution_count": 0,
      "outputs": [
        {
          "output_type": "stream",
          "text": [
            "Train on 1044892 samples, validate on 130612 samples\n",
            "Epoch 1/5\n",
            "1044892/1044892 [==============================] - 378s 362us/sample - loss: 0.1392 - auc_2: 0.9171 - acc: 0.9497 - val_loss: 0.1191 - val_auc_2: 0.9468 - val_acc: 0.9535\n",
            "Epoch 2/5\n",
            "1044892/1044892 [==============================] - 376s 360us/sample - loss: 0.1136 - auc_2: 0.9499 - acc: 0.9558 - val_loss: 0.1161 - val_auc_2: 0.9470 - val_acc: 0.9548\n",
            "Epoch 3/5\n",
            "1044892/1044892 [==============================] - 373s 357us/sample - loss: 0.1071 - auc_2: 0.9564 - acc: 0.9582 - val_loss: 0.1163 - val_auc_2: 0.9471 - val_acc: 0.9551\n",
            "Epoch 4/5\n",
            "1044892/1044892 [==============================] - 378s 361us/sample - loss: 0.1006 - auc_2: 0.9619 - acc: 0.9607 - val_loss: 0.1182 - val_auc_2: 0.9417 - val_acc: 0.9551\n",
            "Epoch 5/5\n",
            "1044892/1044892 [==============================] - 373s 357us/sample - loss: 0.0941 - auc_2: 0.9668 - acc: 0.9632 - val_loss: 0.1204 - val_auc_2: 0.9399 - val_acc: 0.9541\n",
            "CPU times: user 52min 24s, sys: 6min 8s, total: 58min 33s\n",
            "Wall time: 31min 23s\n"
          ],
          "name": "stdout"
        }
      ]
    },
    {
      "cell_type": "code",
      "metadata": {
        "id": "SbjdLLQDcIoc",
        "colab_type": "code",
        "outputId": "768e4718-784c-4faf-9bb6-bea78a927228",
        "colab": {
          "base_uri": "https://localhost:8080/",
          "height": 51
        }
      },
      "source": [
        "%%time\n",
        "\n",
        "predicted = model.predict(np.array(X_dev_pad))\n",
        "predicted = predicted.T[0]\n",
        "cls_pred = np.array([1.0 if p>0.5 else 0.0 for p in predicted])"
      ],
      "execution_count": 0,
      "outputs": [
        {
          "output_type": "stream",
          "text": [
            "CPU times: user 7min 50s, sys: 1min 3s, total: 8min 54s\n",
            "Wall time: 4min 36s\n"
          ],
          "name": "stdout"
        }
      ]
    },
    {
      "cell_type": "code",
      "metadata": {
        "id": "qYSu1yiNcItk",
        "colab_type": "code",
        "outputId": "fa5e9da4-660c-46d7-88ef-d54f955c739f",
        "colab": {
          "base_uri": "https://localhost:8080/",
          "height": 1000
        }
      },
      "source": [
        "report(y_dev, cls_pred)\n",
        "plot_roc(y_dev, predicted)\n",
        "plot_history(history)"
      ],
      "execution_count": 0,
      "outputs": [
        {
          "output_type": "stream",
          "text": [
            "              precision    recall  f1-score   support\n",
            "\n",
            "     Sincere       0.97      0.98      0.98    122531\n",
            "   Insincere       0.66      0.52      0.58      8081\n",
            "\n",
            "    accuracy                           0.95    130612\n",
            "   macro avg       0.82      0.75      0.78    130612\n",
            "weighted avg       0.95      0.95      0.95    130612\n",
            "\n"
          ],
          "name": "stdout"
        },
        {
          "output_type": "display_data",
          "data": {
            "image/png": "[encoded data removed]",
            "text/plain": [
              "<Figure size 360x360 with 2 Axes>"
            ]
          },
          "metadata": {
            "tags": []
          }
        },
        {
          "output_type": "display_data",
          "data": {
            "image/png": "[encoded data removed]",
            "text/plain": [
              "<Figure size 432x288 with 1 Axes>"
            ]
          },
          "metadata": {
            "tags": []
          }
        },
        {
          "output_type": "display_data",
          "data": {
            "image/png": "[encoded data removed]",
            "text/plain": [
              "<Figure size 864x360 with 2 Axes>"
            ]
          },
          "metadata": {
            "tags": []
          }
        }
      ]
    },
    {
      "cell_type": "code",
      "metadata": {
        "id": "fSj9ukB7cIla",
        "colab_type": "code",
        "colab": {}
      },
      "source": [
        ""
      ],
      "execution_count": 0,
      "outputs": []
    },
    {
      "cell_type": "markdown",
      "metadata": {
        "id": "wnG--SI3YfKa",
        "colab_type": "text"
      },
      "source": [
        "#8. RNN with  pre-trained vector  "
      ]
    },
    {
      "cell_type": "code",
      "metadata": {
        "id": "7V_6sjbJcC7C",
        "colab_type": "code",
        "outputId": "05cecc4a-4c14-4029-983e-ba2f80be57c4",
        "colab": {
          "base_uri": "https://localhost:8080/",
          "height": 105
        }
      },
      "source": [
        "%%time\n",
        "\n",
        "#paragram_embeddings = load_para(tokenizer.word_index) \n",
        "#fasttext_embeddings = load_fasttext(tokenizer.word_index) \n",
        "glove_embeddings = load_glove(tokenizer.word_index)    "
      ],
      "execution_count": 0,
      "outputs": [
        {
          "output_type": "stream",
          "text": [
            "/usr/local/lib/python3.6/dist-packages/ipykernel_launcher.py:7: FutureWarning: arrays to stack must be passed as a \"sequence\" type such as list or tuple. Support for non-sequence iterables such as generators is deprecated as of NumPy 1.16 and will raise an error in the future.\n",
            "  import sys\n"
          ],
          "name": "stderr"
        },
        {
          "output_type": "stream",
          "text": [
            "CPU times: user 2min 21s, sys: 16.5 s, total: 2min 37s\n",
            "Wall time: 2min 37s\n"
          ],
          "name": "stdout"
        }
      ]
    },
    {
      "cell_type": "code",
      "metadata": {
        "id": "4CuztL4BvY9E",
        "colab_type": "code",
        "outputId": "a0fa0b33-ed3e-45c9-f4c8-e7f0c53b87dd",
        "colab": {
          "base_uri": "https://localhost:8080/",
          "height": 51
        }
      },
      "source": [
        "%%time\n",
        "\n",
        "X_train_token = load(path +'X_train_token_project.sav')\n",
        "X_dev_token = load(path +'X_dev_token_project.sav')\n",
        "X_train_pad = pad_sequences(X_train_token, maxlen=max_tokens, padding=pad, truncating=pad).tolist()\n",
        "X_dev_pad = pad_sequences(X_dev_token, maxlen=max_tokens, padding=pad, truncating=pad).tolist()\n"
      ],
      "execution_count": 0,
      "outputs": [
        {
          "output_type": "stream",
          "text": [
            "CPU times: user 30.2 s, sys: 24.4 s, total: 54.7 s\n",
            "Wall time: 54.9 s\n"
          ],
          "name": "stdout"
        }
      ]
    },
    {
      "cell_type": "code",
      "metadata": {
        "id": "u_-ebWMgidGR",
        "colab_type": "code",
        "colab": {}
      },
      "source": [
        "del X_train_token, X_dev_token"
      ],
      "execution_count": 0,
      "outputs": []
    },
    {
      "cell_type": "code",
      "metadata": {
        "id": "27p7DQp9vY3P",
        "colab_type": "code",
        "outputId": "dce3253a-bc06-4ac2-b2fd-5fd2b23e0918",
        "colab": {
          "base_uri": "https://localhost:8080/",
          "height": 357
        }
      },
      "source": [
        "model = Sequential()\n",
        "optimizer = Adam(lr=1e-3)\n",
        "model.add(Embedding(weights=[glove_embeddings], trainable=False, input_dim=num_words, output_dim=embedding_size, input_length=max_tokens))\n",
        "model.add(GRU(units=32, return_sequences=True))\n",
        "model.add(GRU(units=16, dropout=0.5, return_sequences=True))\n",
        "model.add(GRU(units=8, return_sequences=True))\n",
        "model.add(GRU(units=4))\n",
        "model.add(Dense(1, activation='sigmoid'))\n",
        "model.compile(loss='binary_crossentropy', optimizer=optimizer, metrics=['AUC', 'accuracy'])\n",
        "model.summary()"
      ],
      "execution_count": 0,
      "outputs": [
        {
          "output_type": "stream",
          "text": [
            "Model: \"sequential_5\"\n",
            "_________________________________________________________________\n",
            "Layer (type)                 Output Shape              Param #   \n",
            "=================================================================\n",
            "embedding_6 (Embedding)      (None, 30, 300)           2400000   \n",
            "_________________________________________________________________\n",
            "gru_21 (GRU)                 (None, 30, 32)            31968     \n",
            "_________________________________________________________________\n",
            "gru_22 (GRU)                 (None, 30, 16)            2352      \n",
            "_________________________________________________________________\n",
            "gru_23 (GRU)                 (None, 30, 8)             600       \n",
            "_________________________________________________________________\n",
            "gru_24 (GRU)                 (None, 4)                 156       \n",
            "_________________________________________________________________\n",
            "dense_5 (Dense)              (None, 1)                 5         \n",
            "=================================================================\n",
            "Total params: 2,435,081\n",
            "Trainable params: 35,081\n",
            "Non-trainable params: 2,400,000\n",
            "_________________________________________________________________\n"
          ],
          "name": "stdout"
        }
      ]
    },
    {
      "cell_type": "code",
      "metadata": {
        "id": "rC-Id1L2Ynnl",
        "colab_type": "code",
        "outputId": "0b09f29d-3eea-4fef-ea29-8b93f22adfab",
        "colab": {
          "base_uri": "https://localhost:8080/",
          "height": 224
        }
      },
      "source": [
        "%%time\n",
        "\n",
        "history = model.fit(np.array(X_train_pad), y_train, validation_data=(np.array(X_dev_pad),y_dev), epochs=4, batch_size=500)\n"
      ],
      "execution_count": 0,
      "outputs": [
        {
          "output_type": "stream",
          "text": [
            "Train on 1044892 samples, validate on 130612 samples\n",
            "Epoch 1/4\n",
            "1044892/1044892 [==============================] - 356s 341us/sample - loss: 0.1509 - auc_10: 0.9011 - acc: 0.9490 - val_loss: 0.1200 - val_auc_10: 0.9394 - val_acc: 0.9550\n",
            "Epoch 2/4\n",
            "1044892/1044892 [==============================] - 353s 337us/sample - loss: 0.1177 - auc_10: 0.9442 - acc: 0.9550 - val_loss: 0.1152 - val_auc_10: 0.9479 - val_acc: 0.9557\n",
            "Epoch 3/4\n",
            "1044892/1044892 [==============================] - 352s 337us/sample - loss: 0.1134 - auc_10: 0.9494 - acc: 0.9564 - val_loss: 0.1131 - val_auc_10: 0.9519 - val_acc: 0.9565\n",
            "Epoch 4/4\n",
            "1044892/1044892 [==============================] - 355s 340us/sample - loss: 0.1106 - auc_10: 0.9523 - acc: 0.9573 - val_loss: 0.1113 - val_auc_10: 0.9530 - val_acc: 0.9572\n",
            "CPU times: user 40min 16s, sys: 4min 57s, total: 45min 13s\n",
            "Wall time: 23min 44s\n"
          ],
          "name": "stdout"
        }
      ]
    },
    {
      "cell_type": "code",
      "metadata": {
        "id": "VgZ0P5PvYnkX",
        "colab_type": "code",
        "outputId": "000adc3f-5a49-4af3-a888-d1fecb81c779",
        "colab": {
          "base_uri": "https://localhost:8080/",
          "height": 51
        }
      },
      "source": [
        "%%time\n",
        "\n",
        "predicted = model.predict(np.array(X_dev_pad))\n",
        "predicted = predicted.T[0]\n",
        "cls_pred = np.array([1.0 if p>0.5 else 0.0 for p in predicted])"
      ],
      "execution_count": 0,
      "outputs": [
        {
          "output_type": "stream",
          "text": [
            "CPU times: user 7min 37s, sys: 1min 2s, total: 8min 39s\n",
            "Wall time: 4min 29s\n"
          ],
          "name": "stdout"
        }
      ]
    },
    {
      "cell_type": "code",
      "metadata": {
        "id": "VRgkyM92Yngm",
        "colab_type": "code",
        "outputId": "5c15993f-c6e4-4cc3-d5b9-8af9162cfd92",
        "colab": {
          "base_uri": "https://localhost:8080/",
          "height": 1000
        }
      },
      "source": [
        "report(y_dev, cls_pred)\n",
        "plot_roc(y_dev, predicted)\n",
        "plot_history(history)"
      ],
      "execution_count": 0,
      "outputs": [
        {
          "output_type": "stream",
          "text": [
            "              precision    recall  f1-score   support\n",
            "\n",
            "     Sincere       0.97      0.99      0.98    122531\n",
            "   Insincere       0.71      0.53      0.60      8081\n",
            "\n",
            "    accuracy                           0.96    130612\n",
            "   macro avg       0.84      0.76      0.79    130612\n",
            "weighted avg       0.95      0.96      0.95    130612\n",
            "\n"
          ],
          "name": "stdout"
        },
        {
          "output_type": "display_data",
          "data": {
            "image/png": "[encoded data removed]",
            "text/plain": [
              "<Figure size 360x360 with 2 Axes>"
            ]
          },
          "metadata": {
            "tags": []
          }
        },
        {
          "output_type": "display_data",
          "data": {
            "image/png": "[encoded data removed]",
            "text/plain": [
              "<Figure size 432x288 with 1 Axes>"
            ]
          },
          "metadata": {
            "tags": []
          }
        },
        {
          "output_type": "display_data",
          "data": {
            "image/png": "[encoded data removed]",
            "text/plain": [
              "<Figure size 864x360 with 2 Axes>"
            ]
          },
          "metadata": {
            "tags": []
          }
        }
      ]
    },
    {
      "cell_type": "code",
      "metadata": {
        "id": "kQf6kgMql-SR",
        "colab_type": "code",
        "colab": {}
      },
      "source": [
        ""
      ],
      "execution_count": 0,
      "outputs": []
    },
    {
      "cell_type": "markdown",
      "metadata": {
        "id": "f_XyW2l0Yovv",
        "colab_type": "text"
      },
      "source": [
        "#9. pre-trained LM (Flair)"
      ]
    },
    {
      "cell_type": "code",
      "metadata": {
        "id": "4ElGKAU1MxCd",
        "colab_type": "code",
        "colab": {}
      },
      "source": [
        "X = X_train_s.to_list() + X_test_s.to_list() + X_dev_s.to_list()\n",
        "y = y_train_s.to_list() + y_test_s.to_list() + y_dev_s.to_list()\n"
      ],
      "execution_count": 0,
      "outputs": []
    },
    {
      "cell_type": "code",
      "metadata": {
        "id": "y-RWJfJy8lND",
        "colab_type": "code",
        "colab": {}
      },
      "source": [
        "data = pd.DataFrame(list(zip(y, X)), columns =['label','text'])\n",
        "data['label'] = '__label__' + data['label'].map({1: 'Insincere', 0: 'Sincere'})\n",
        "\n",
        "data.iloc[0:int(len(data)*0.8)].to_csv(path+'flair/trainflair.csv', sep='\\t', index = False, header = False)\n",
        "data.iloc[int(len(data)*0.8):int(len(data)*0.9)].to_csv(path+'flair/testflair.csv', sep='\\t', index = False, header = False)\n",
        "data.iloc[int(len(data)*0.9):].to_csv(path+'flair/devflair.csv', sep='\\t', index = False, header = False);\n"
      ],
      "execution_count": 0,
      "outputs": []
    },
    {
      "cell_type": "code",
      "metadata": {
        "id": "CqcoXpsYYtkl",
        "colab_type": "code",
        "outputId": "220b7a0c-1622-4d71-9011-d666fb6a98c3",
        "colab": {
          "base_uri": "https://localhost:8080/",
          "height": 142
        }
      },
      "source": [
        "data.head(3)"
      ],
      "execution_count": 0,
      "outputs": [
        {
          "output_type": "execute_result",
          "data": {
            "text/html": [
              "<div>\n",
              "<style scoped>\n",
              "    .dataframe tbody tr th:only-of-type {\n",
              "        vertical-align: middle;\n",
              "    }\n",
              "\n",
              "    .dataframe tbody tr th {\n",
              "        vertical-align: top;\n",
              "    }\n",
              "\n",
              "    .dataframe thead th {\n",
              "        text-align: right;\n",
              "    }\n",
              "</style>\n",
              "<table border=\"1\" class=\"dataframe\">\n",
              "  <thead>\n",
              "    <tr style=\"text-align: right;\">\n",
              "      <th></th>\n",
              "      <th>label</th>\n",
              "      <th>text</th>\n",
              "    </tr>\n",
              "  </thead>\n",
              "  <tbody>\n",
              "    <tr>\n",
              "      <th>0</th>\n",
              "      <td>__label__Insincere</td>\n",
              "      <td>Why are women in India overprivileged nowadays...</td>\n",
              "    </tr>\n",
              "    <tr>\n",
              "      <th>1</th>\n",
              "      <td>__label__Insincere</td>\n",
              "      <td>What is this Blue Whale suicide game that is t...</td>\n",
              "    </tr>\n",
              "    <tr>\n",
              "      <th>2</th>\n",
              "      <td>__label__Sincere</td>\n",
              "      <td>Which Mathematics book provides quality theory...</td>\n",
              "    </tr>\n",
              "  </tbody>\n",
              "</table>\n",
              "</div>"
            ],
            "text/plain": [
              "                label                                               text\n",
              "0  __label__Insincere  Why are women in India overprivileged nowadays...\n",
              "1  __label__Insincere  What is this Blue Whale suicide game that is t...\n",
              "2    __label__Sincere  Which Mathematics book provides quality theory..."
            ]
          },
          "metadata": {
            "tags": []
          },
          "execution_count": 13
        }
      ]
    },
    {
      "cell_type": "code",
      "metadata": {
        "id": "CUMnzBy9Yt3b",
        "colab_type": "code",
        "outputId": "16c99759-a887-4451-f998-ae1c45c045d1",
        "colab": {
          "base_uri": "https://localhost:8080/",
          "height": 1000
        }
      },
      "source": [
        "corpus = NLPTaskDataFetcher.load_classification_corpus(Path(path+'flair/'),\\\n",
        "                                                       test_file='testflair.csv',\\\n",
        "                                                       dev_file='devflair.csv',\\\n",
        "                                                       train_file='trainflair.csv')\n",
        "\n",
        "word_embeddings = [WordEmbeddings('glove'),\\\n",
        "                   FlairEmbeddings('news-forward-fast'),\\\n",
        "                   FlairEmbeddings('news-backward-fast')]\n",
        "\n",
        "document_embeddings = DocumentLSTMEmbeddings(word_embeddings,\n",
        "                                             hidden_size=512,\\\n",
        "                                             reproject_words=True,\\\n",
        "                                             reproject_words_dimension=256)\n",
        "\n",
        "classifier = TextClassifier(document_embeddings,\\\n",
        "                            label_dictionary=corpus.make_label_dictionary(),\\\n",
        "                            multi_label=False)\n",
        "\n",
        "trainer = ModelTrainer(classifier, corpus)\n",
        "\n",
        "trainer.train(path+'flair/', max_epochs=20)"
      ],
      "execution_count": 0,
      "outputs": [
        {
          "output_type": "stream",
          "text": [
            "2019-08-12 22:41:10,822 Reading data from /content/gdrive/My Drive/data/flair\n",
            "2019-08-12 22:41:10,824 Train: /content/gdrive/My Drive/data/flair/trainflair.csv\n",
            "2019-08-12 22:41:10,826 Dev: /content/gdrive/My Drive/data/flair/devflair.csv\n",
            "2019-08-12 22:41:10,827 Test: /content/gdrive/My Drive/data/flair/testflair.csv\n"
          ],
          "name": "stdout"
        },
        {
          "output_type": "stream",
          "text": [
            "/usr/local/lib/python3.6/dist-packages/ipykernel_launcher.py:1: DeprecationWarning: Call to deprecated function (or staticmethod) load_classification_corpus. (Use 'flair.datasets' instead.) -- Deprecated since version 0.4.1.\n",
            "  \"\"\"Entry point for launching an IPython kernel.\n",
            "/usr/local/lib/python3.6/dist-packages/flair/data_fetcher.py:447: DeprecationWarning: Call to deprecated function (or staticmethod) read_text_classification_file. (Use 'flair.datasets' instead.) -- Deprecated since version 0.4.1.\n",
            "  max_tokens_per_doc=max_tokens_per_doc,\n",
            "/usr/local/lib/python3.6/dist-packages/flair/data_fetcher.py:454: DeprecationWarning: Call to deprecated function (or staticmethod) read_text_classification_file. (Use 'flair.datasets' instead.) -- Deprecated since version 0.4.1.\n",
            "  max_tokens_per_doc=max_tokens_per_doc,\n",
            "/usr/local/lib/python3.6/dist-packages/flair/data_fetcher.py:463: DeprecationWarning: Call to deprecated function (or staticmethod) read_text_classification_file. (Use 'flair.datasets' instead.) -- Deprecated since version 0.4.1.\n",
            "  max_tokens_per_doc=max_tokens_per_doc,\n",
            "/usr/local/lib/python3.6/dist-packages/smart_open/smart_open_lib.py:398: UserWarning: This function is deprecated, use smart_open.open instead. See the migration notes for details: https://github.com/RaRe-Technologies/smart_open/blob/master/README.rst#migrating-to-the-new-open-function\n",
            "  'See the migration notes for details: %s' % _MIGRATION_NOTES_URL\n",
            "/usr/local/lib/python3.6/dist-packages/ipykernel_launcher.py:8: DeprecationWarning: Call to deprecated class DocumentLSTMEmbeddings. (The functionality of this class is moved to 'DocumentRNNEmbeddings') -- Deprecated since version 0.4.\n",
            "  \n"
          ],
          "name": "stderr"
        },
        {
          "output_type": "stream",
          "text": [
            "2019-08-12 22:42:00,196 {'Insincere', 'Sincere'}\n",
            "2019-08-12 22:42:00,294 ----------------------------------------------------------------------------------------------------\n",
            "2019-08-12 22:42:00,297 Evaluation method: MICRO_F1_SCORE\n",
            "2019-08-12 22:42:00,751 ----------------------------------------------------------------------------------------------------\n",
            "2019-08-12 22:42:01,558 epoch 1 - iter 0/4041 - loss 0.70203841\n",
            "2019-08-12 22:42:59,033 epoch 1 - iter 404/4041 - loss 0.50237313\n",
            "2019-08-12 22:43:50,773 epoch 1 - iter 808/4041 - loss 0.46344586\n",
            "2019-08-12 22:44:47,785 epoch 1 - iter 1212/4041 - loss 0.43926166\n",
            "2019-08-12 22:45:44,691 epoch 1 - iter 1616/4041 - loss 0.42628143\n",
            "2019-08-12 22:46:36,232 epoch 1 - iter 2020/4041 - loss 0.41650157\n",
            "2019-08-12 22:47:33,220 epoch 1 - iter 2424/4041 - loss 0.40808239\n",
            "2019-08-12 22:48:29,575 epoch 1 - iter 2828/4041 - loss 0.39953352\n",
            "2019-08-12 22:49:20,662 epoch 1 - iter 3232/4041 - loss 0.39447210\n",
            "2019-08-12 22:50:18,748 epoch 1 - iter 3636/4041 - loss 0.38962296\n",
            "2019-08-12 22:51:15,797 epoch 1 - iter 4040/4041 - loss 0.38516629\n",
            "2019-08-12 22:51:16,660 ----------------------------------------------------------------------------------------------------\n",
            "2019-08-12 22:51:16,667 EPOCH 1 done: loss 0.3852 - lr 0.1000 - bad epochs 0\n",
            "2019-08-12 22:52:21,961 DEV : loss 0.32533514499664307 - score 0.8679\n",
            "2019-08-12 22:53:33,094 TEST : loss 0.3335830271244049 - score 0.8634\n",
            "2019-08-12 22:53:37,024 ----------------------------------------------------------------------------------------------------\n",
            "2019-08-12 22:53:38,644 epoch 2 - iter 0/4041 - loss 0.19764298\n",
            "2019-08-12 22:54:41,318 epoch 2 - iter 404/4041 - loss 0.33893050\n",
            "2019-08-12 22:55:39,028 epoch 2 - iter 808/4041 - loss 0.33609366\n",
            "2019-08-12 22:56:31,166 epoch 2 - iter 1212/4041 - loss 0.33852172\n",
            "2019-08-12 22:57:28,523 epoch 2 - iter 1616/4041 - loss 0.33584757\n",
            "2019-08-12 22:58:26,412 epoch 2 - iter 2020/4041 - loss 0.33540967\n",
            "2019-08-12 22:59:18,573 epoch 2 - iter 2424/4041 - loss 0.33492480\n",
            "2019-08-12 23:00:16,024 epoch 2 - iter 2828/4041 - loss 0.33336810\n",
            "2019-08-12 23:01:07,846 epoch 2 - iter 3232/4041 - loss 0.33265940\n",
            "2019-08-12 23:02:05,646 epoch 2 - iter 3636/4041 - loss 0.33140118\n",
            "2019-08-12 23:03:02,489 epoch 2 - iter 4040/4041 - loss 0.33073392\n",
            "2019-08-12 23:03:03,598 ----------------------------------------------------------------------------------------------------\n",
            "2019-08-12 23:03:03,600 EPOCH 2 done: loss 0.3307 - lr 0.1000 - bad epochs 0\n",
            "2019-08-12 23:04:08,887 DEV : loss 0.30737054347991943 - score 0.8779\n",
            "2019-08-12 23:05:19,646 TEST : loss 0.31566423177719116 - score 0.8719\n",
            "2019-08-12 23:05:23,506 ----------------------------------------------------------------------------------------------------\n",
            "2019-08-12 23:05:25,193 epoch 3 - iter 0/4041 - loss 0.11099364\n",
            "2019-08-12 23:06:27,580 epoch 3 - iter 404/4041 - loss 0.32617741\n",
            "2019-08-12 23:07:25,566 epoch 3 - iter 808/4041 - loss 0.32236619\n",
            "2019-08-12 23:08:17,615 epoch 3 - iter 1212/4041 - loss 0.32134749\n",
            "2019-08-12 23:09:14,934 epoch 3 - iter 1616/4041 - loss 0.32139936\n",
            "2019-08-12 23:10:12,771 epoch 3 - iter 2020/4041 - loss 0.32123740\n",
            "2019-08-12 23:11:04,386 epoch 3 - iter 2424/4041 - loss 0.32075641\n",
            "2019-08-12 23:12:01,974 epoch 3 - iter 2828/4041 - loss 0.32079861\n",
            "2019-08-12 23:12:59,367 epoch 3 - iter 3232/4041 - loss 0.31910035\n",
            "2019-08-12 23:13:51,044 epoch 3 - iter 3636/4041 - loss 0.31859959\n",
            "2019-08-12 23:14:47,602 epoch 3 - iter 4040/4041 - loss 0.31751905\n",
            "2019-08-12 23:14:48,862 ----------------------------------------------------------------------------------------------------\n",
            "2019-08-12 23:14:48,863 EPOCH 3 done: loss 0.3175 - lr 0.1000 - bad epochs 0\n",
            "2019-08-12 23:16:01,012 DEV : loss 0.30322331190109253 - score 0.8802\n",
            "2019-08-12 23:17:13,743 TEST : loss 0.3097569942474365 - score 0.8761\n",
            "2019-08-12 23:17:17,455 ----------------------------------------------------------------------------------------------------\n",
            "2019-08-12 23:17:19,290 epoch 4 - iter 0/4041 - loss 0.25796965\n",
            "2019-08-12 23:18:14,675 epoch 4 - iter 404/4041 - loss 0.30568236\n",
            "2019-08-12 23:19:14,127 epoch 4 - iter 808/4041 - loss 0.30834862\n",
            "2019-08-12 23:20:11,279 epoch 4 - iter 1212/4041 - loss 0.30948929\n",
            "2019-08-12 23:21:03,132 epoch 4 - iter 1616/4041 - loss 0.31138593\n",
            "2019-08-12 23:22:01,060 epoch 4 - iter 2020/4041 - loss 0.31344309\n",
            "2019-08-12 23:22:53,249 epoch 4 - iter 2424/4041 - loss 0.31227084\n",
            "2019-08-12 23:23:50,234 epoch 4 - iter 2828/4041 - loss 0.31177180\n",
            "2019-08-12 23:24:47,251 epoch 4 - iter 3232/4041 - loss 0.31119808\n",
            "2019-08-12 23:25:38,663 epoch 4 - iter 3636/4041 - loss 0.30946337\n",
            "2019-08-12 23:26:35,896 epoch 4 - iter 4040/4041 - loss 0.30937039\n",
            "2019-08-12 23:26:37,134 ----------------------------------------------------------------------------------------------------\n",
            "2019-08-12 23:26:37,141 EPOCH 4 done: loss 0.3094 - lr 0.1000 - bad epochs 0\n",
            "2019-08-12 23:27:49,949 DEV : loss 0.3095819652080536 - score 0.8764\n",
            "2019-08-12 23:29:03,074 TEST : loss 0.31131336092948914 - score 0.8736\n",
            "2019-08-12 23:29:03,078 ----------------------------------------------------------------------------------------------------\n",
            "2019-08-12 23:29:04,468 epoch 5 - iter 0/4041 - loss 0.24966750\n",
            "2019-08-12 23:30:00,014 epoch 5 - iter 404/4041 - loss 0.29633574\n",
            "2019-08-12 23:30:59,304 epoch 5 - iter 808/4041 - loss 0.29808158\n",
            "2019-08-12 23:31:56,976 epoch 5 - iter 1212/4041 - loss 0.30035636\n",
            "2019-08-12 23:32:49,475 epoch 5 - iter 1616/4041 - loss 0.29927628\n",
            "2019-08-12 23:33:46,826 epoch 5 - iter 2020/4041 - loss 0.29985286\n",
            "2019-08-12 23:34:44,665 epoch 5 - iter 2424/4041 - loss 0.29966587\n",
            "2019-08-12 23:35:36,976 epoch 5 - iter 2828/4041 - loss 0.30027646\n",
            "2019-08-12 23:36:35,176 epoch 5 - iter 3232/4041 - loss 0.29917739\n",
            "2019-08-12 23:37:32,707 epoch 5 - iter 3636/4041 - loss 0.29998391\n",
            "2019-08-12 23:38:25,444 epoch 5 - iter 4040/4041 - loss 0.30023498\n",
            "2019-08-12 23:38:26,529 ----------------------------------------------------------------------------------------------------\n",
            "2019-08-12 23:38:26,531 EPOCH 5 done: loss 0.3002 - lr 0.1000 - bad epochs 1\n",
            "2019-08-12 23:39:39,012 DEV : loss 0.28755608201026917 - score 0.8879\n",
            "2019-08-12 23:40:51,808 TEST : loss 0.29030078649520874 - score 0.8818\n",
            "2019-08-12 23:40:55,717 ----------------------------------------------------------------------------------------------------\n",
            "2019-08-12 23:40:57,514 epoch 6 - iter 0/4041 - loss 0.27805048\n",
            "2019-08-12 23:41:53,016 epoch 6 - iter 404/4041 - loss 0.29471611\n",
            "2019-08-12 23:42:52,612 epoch 6 - iter 808/4041 - loss 0.29399600\n",
            "2019-08-12 23:43:50,443 epoch 6 - iter 1212/4041 - loss 0.29364591\n",
            "2019-08-12 23:44:42,006 epoch 6 - iter 1616/4041 - loss 0.29282004\n",
            "2019-08-12 23:45:40,274 epoch 6 - iter 2020/4041 - loss 0.29380722\n",
            "2019-08-12 23:46:37,578 epoch 6 - iter 2424/4041 - loss 0.29392136\n",
            "2019-08-12 23:47:35,841 epoch 6 - iter 2828/4041 - loss 0.29341918\n",
            "2019-08-12 23:48:28,563 epoch 6 - iter 3232/4041 - loss 0.29332294\n",
            "2019-08-12 23:49:27,210 epoch 6 - iter 3636/4041 - loss 0.29303097\n",
            "2019-08-12 23:50:19,852 epoch 6 - iter 4040/4041 - loss 0.29331102\n",
            "2019-08-12 23:50:21,061 ----------------------------------------------------------------------------------------------------\n",
            "2019-08-12 23:50:21,063 EPOCH 6 done: loss 0.2933 - lr 0.1000 - bad epochs 0\n",
            "2019-08-12 23:51:34,818 DEV : loss 0.2897564172744751 - score 0.8876\n",
            "2019-08-12 23:52:48,234 TEST : loss 0.2949720621109009 - score 0.8839\n",
            "2019-08-12 23:52:48,238 ----------------------------------------------------------------------------------------------------\n",
            "2019-08-12 23:52:49,864 epoch 7 - iter 0/4041 - loss 0.38286239\n",
            "2019-08-12 23:53:54,484 epoch 7 - iter 404/4041 - loss 0.30171756\n",
            "2019-08-12 23:54:47,152 epoch 7 - iter 808/4041 - loss 0.29337557\n",
            "2019-08-12 23:55:46,193 epoch 7 - iter 1212/4041 - loss 0.29217819\n",
            "2019-08-12 23:56:46,679 epoch 7 - iter 1616/4041 - loss 0.29156783\n",
            "2019-08-12 23:57:39,534 epoch 7 - iter 2020/4041 - loss 0.28998782\n",
            "2019-08-12 23:58:38,035 epoch 7 - iter 2424/4041 - loss 0.29041441\n",
            "2019-08-12 23:59:37,165 epoch 7 - iter 2828/4041 - loss 0.28934060\n",
            "2019-08-13 00:00:29,581 epoch 7 - iter 3232/4041 - loss 0.28850966\n",
            "2019-08-13 00:01:28,344 epoch 7 - iter 3636/4041 - loss 0.28873319\n",
            "2019-08-13 00:02:26,577 epoch 7 - iter 4040/4041 - loss 0.28878950\n",
            "2019-08-13 00:02:27,856 ----------------------------------------------------------------------------------------------------\n",
            "2019-08-13 00:02:27,858 EPOCH 7 done: loss 0.2888 - lr 0.1000 - bad epochs 1\n",
            "2019-08-13 00:03:36,685 DEV : loss 0.3067013621330261 - score 0.8752\n",
            "2019-08-13 00:04:54,297 TEST : loss 0.30914926528930664 - score 0.8717\n",
            "2019-08-13 00:04:54,301 ----------------------------------------------------------------------------------------------------\n",
            "2019-08-13 00:04:56,536 epoch 8 - iter 0/4041 - loss 0.54598778\n",
            "2019-08-13 00:06:03,536 epoch 8 - iter 404/4041 - loss 0.29070753\n",
            "2019-08-13 00:07:04,958 epoch 8 - iter 808/4041 - loss 0.29252416\n",
            "2019-08-13 00:07:59,384 epoch 8 - iter 1212/4041 - loss 0.29060041\n",
            "2019-08-13 00:08:59,470 epoch 8 - iter 1616/4041 - loss 0.28815226\n",
            "2019-08-13 00:09:59,700 epoch 8 - iter 2020/4041 - loss 0.28654362\n",
            "2019-08-13 00:10:53,696 epoch 8 - iter 2424/4041 - loss 0.28520647\n",
            "2019-08-13 00:11:53,156 epoch 8 - iter 2828/4041 - loss 0.28505566\n",
            "2019-08-13 00:12:52,536 epoch 8 - iter 3232/4041 - loss 0.28409442\n",
            "2019-08-13 00:13:45,080 epoch 8 - iter 3636/4041 - loss 0.28467088\n",
            "2019-08-13 00:14:45,951 epoch 8 - iter 4040/4041 - loss 0.28456153\n",
            "2019-08-13 00:14:47,213 ----------------------------------------------------------------------------------------------------\n",
            "2019-08-13 00:14:47,215 EPOCH 8 done: loss 0.2846 - lr 0.1000 - bad epochs 2\n",
            "2019-08-13 00:16:05,539 DEV : loss 0.2956854999065399 - score 0.8798\n",
            "2019-08-13 00:17:14,839 TEST : loss 0.29618024826049805 - score 0.8791\n",
            "2019-08-13 00:17:14,843 ----------------------------------------------------------------------------------------------------\n",
            "2019-08-13 00:17:16,896 epoch 9 - iter 0/4041 - loss 0.35320655\n",
            "2019-08-13 00:18:22,180 epoch 9 - iter 404/4041 - loss 0.27729203\n",
            "2019-08-13 00:19:22,468 epoch 9 - iter 808/4041 - loss 0.27958135\n",
            "2019-08-13 00:20:15,409 epoch 9 - iter 1212/4041 - loss 0.27900418\n",
            "2019-08-13 00:21:13,702 epoch 9 - iter 1616/4041 - loss 0.27818700\n",
            "2019-08-13 00:22:11,631 epoch 9 - iter 2020/4041 - loss 0.27804445\n",
            "2019-08-13 00:23:04,444 epoch 9 - iter 2424/4041 - loss 0.27884847\n",
            "2019-08-13 00:24:04,470 epoch 9 - iter 2828/4041 - loss 0.28000075\n",
            "2019-08-13 00:25:05,427 epoch 9 - iter 3232/4041 - loss 0.27952176\n",
            "2019-08-13 00:25:59,300 epoch 9 - iter 3636/4041 - loss 0.28022635\n",
            "2019-08-13 00:26:58,490 epoch 9 - iter 4040/4041 - loss 0.28077730\n",
            "2019-08-13 00:26:59,780 ----------------------------------------------------------------------------------------------------\n",
            "2019-08-13 00:26:59,782 EPOCH 9 done: loss 0.2808 - lr 0.1000 - bad epochs 3\n",
            "2019-08-13 00:28:14,712 DEV : loss 0.2886335551738739 - score 0.8901\n",
            "2019-08-13 00:29:29,626 TEST : loss 0.2929607927799225 - score 0.8866\n",
            "2019-08-13 00:29:33,767 ----------------------------------------------------------------------------------------------------\n",
            "2019-08-13 00:29:35,397 epoch 10 - iter 0/4041 - loss 0.30161735\n",
            "2019-08-13 00:30:33,506 epoch 10 - iter 404/4041 - loss 0.27436817\n",
            "2019-08-13 00:31:34,996 epoch 10 - iter 808/4041 - loss 0.27743094\n",
            "2019-08-13 00:32:33,221 epoch 10 - iter 1212/4041 - loss 0.27722265\n",
            "2019-08-13 00:33:29,115 epoch 10 - iter 1616/4041 - loss 0.27843899\n",
            "2019-08-13 00:34:31,131 epoch 10 - iter 2020/4041 - loss 0.27679654\n",
            "2019-08-13 00:35:31,558 epoch 10 - iter 2424/4041 - loss 0.27655616\n",
            "2019-08-13 00:36:24,618 epoch 10 - iter 2828/4041 - loss 0.27779666\n",
            "2019-08-13 00:37:24,977 epoch 10 - iter 3232/4041 - loss 0.27656640\n",
            "2019-08-13 00:38:17,934 epoch 10 - iter 3636/4041 - loss 0.27643028\n",
            "2019-08-13 00:39:15,709 epoch 10 - iter 4040/4041 - loss 0.27746657\n",
            "2019-08-13 00:39:16,969 ----------------------------------------------------------------------------------------------------\n",
            "2019-08-13 00:39:16,971 EPOCH 10 done: loss 0.2775 - lr 0.1000 - bad epochs 0\n",
            "2019-08-13 00:40:29,488 DEV : loss 0.29236283898353577 - score 0.8828\n",
            "2019-08-13 00:41:43,014 TEST : loss 0.29124417901039124 - score 0.8827\n",
            "2019-08-13 00:41:43,018 ----------------------------------------------------------------------------------------------------\n",
            "2019-08-13 00:41:44,511 epoch 11 - iter 0/4041 - loss 0.26884887\n",
            "2019-08-13 00:42:40,964 epoch 11 - iter 404/4041 - loss 0.26676372\n",
            "2019-08-13 00:43:42,350 epoch 11 - iter 808/4041 - loss 0.26706374\n",
            "2019-08-13 00:44:41,326 epoch 11 - iter 1212/4041 - loss 0.27073769\n",
            "2019-08-13 00:45:33,837 epoch 11 - iter 1616/4041 - loss 0.27190078\n",
            "2019-08-13 00:46:31,612 epoch 11 - iter 2020/4041 - loss 0.27369638\n",
            "2019-08-13 00:47:30,283 epoch 11 - iter 2424/4041 - loss 0.27375988\n",
            "2019-08-13 00:48:22,376 epoch 11 - iter 2828/4041 - loss 0.27424361\n",
            "2019-08-13 00:49:21,399 epoch 11 - iter 3232/4041 - loss 0.27569047\n",
            "2019-08-13 00:50:19,997 epoch 11 - iter 3636/4041 - loss 0.27551215\n",
            "2019-08-13 00:51:12,388 epoch 11 - iter 4040/4041 - loss 0.27508949\n",
            "2019-08-13 00:51:13,664 ----------------------------------------------------------------------------------------------------\n",
            "2019-08-13 00:51:13,665 EPOCH 11 done: loss 0.2751 - lr 0.1000 - bad epochs 1\n",
            "2019-08-13 00:52:27,268 DEV : loss 0.3148166537284851 - score 0.8728\n",
            "2019-08-13 00:53:42,017 TEST : loss 0.3102893829345703 - score 0.8744\n",
            "2019-08-13 00:53:42,021 ----------------------------------------------------------------------------------------------------\n",
            "2019-08-13 00:53:44,000 epoch 12 - iter 0/4041 - loss 0.36244741\n",
            "2019-08-13 00:54:40,289 epoch 12 - iter 404/4041 - loss 0.27236554\n",
            "2019-08-13 00:55:41,882 epoch 12 - iter 808/4041 - loss 0.27246491\n",
            "2019-08-13 00:56:40,076 epoch 12 - iter 1212/4041 - loss 0.27311314\n",
            "2019-08-13 00:57:32,549 epoch 12 - iter 1616/4041 - loss 0.27468406\n",
            "2019-08-13 00:58:31,672 epoch 12 - iter 2020/4041 - loss 0.27428011\n",
            "2019-08-13 00:59:30,100 epoch 12 - iter 2424/4041 - loss 0.27507524\n",
            "2019-08-13 01:00:23,385 epoch 12 - iter 2828/4041 - loss 0.27420078\n",
            "2019-08-13 01:01:22,844 epoch 12 - iter 3232/4041 - loss 0.27316433\n",
            "2019-08-13 01:02:21,852 epoch 12 - iter 3636/4041 - loss 0.27232215\n",
            "2019-08-13 01:03:14,641 epoch 12 - iter 4040/4041 - loss 0.27248025\n",
            "2019-08-13 01:03:15,909 ----------------------------------------------------------------------------------------------------\n",
            "2019-08-13 01:03:15,911 EPOCH 12 done: loss 0.2725 - lr 0.1000 - bad epochs 2\n",
            "2019-08-13 01:04:29,722 DEV : loss 0.27601638436317444 - score 0.8923\n",
            "2019-08-13 01:05:44,500 TEST : loss 0.27353358268737793 - score 0.8933\n",
            "2019-08-13 01:05:48,506 ----------------------------------------------------------------------------------------------------\n",
            "2019-08-13 01:05:50,251 epoch 13 - iter 0/4041 - loss 0.40825686\n",
            "2019-08-13 01:06:54,895 epoch 13 - iter 404/4041 - loss 0.25924015\n",
            "2019-08-13 01:07:46,970 epoch 13 - iter 808/4041 - loss 0.26543741\n",
            "2019-08-13 01:08:44,904 epoch 13 - iter 1212/4041 - loss 0.26486403\n",
            "2019-08-13 01:09:43,536 epoch 13 - iter 1616/4041 - loss 0.26487438\n",
            "2019-08-13 01:10:35,895 epoch 13 - iter 2020/4041 - loss 0.26783090\n",
            "2019-08-13 01:11:34,830 epoch 13 - iter 2424/4041 - loss 0.26743245\n",
            "2019-08-13 01:12:32,929 epoch 13 - iter 2828/4041 - loss 0.26852289\n",
            "2019-08-13 01:13:25,207 epoch 13 - iter 3232/4041 - loss 0.26833191\n",
            "2019-08-13 01:14:23,622 epoch 13 - iter 3636/4041 - loss 0.26918039\n",
            "2019-08-13 01:15:22,082 epoch 13 - iter 4040/4041 - loss 0.26936487\n",
            "2019-08-13 01:15:23,596 ----------------------------------------------------------------------------------------------------\n",
            "2019-08-13 01:15:23,599 EPOCH 13 done: loss 0.2694 - lr 0.1000 - bad epochs 0\n",
            "2019-08-13 01:16:29,423 DEV : loss 0.29352518916130066 - score 0.887\n",
            "2019-08-13 01:17:41,988 TEST : loss 0.29449737071990967 - score 0.887\n",
            "2019-08-13 01:17:41,991 ----------------------------------------------------------------------------------------------------\n",
            "2019-08-13 01:17:43,777 epoch 14 - iter 0/4041 - loss 0.11060084\n",
            "2019-08-13 01:18:46,857 epoch 14 - iter 404/4041 - loss 0.25716482\n",
            "2019-08-13 01:19:38,926 epoch 14 - iter 808/4041 - loss 0.26003883\n",
            "2019-08-13 01:20:36,956 epoch 14 - iter 1212/4041 - loss 0.26415551\n",
            "2019-08-13 01:21:35,708 epoch 14 - iter 1616/4041 - loss 0.26560892\n",
            "2019-08-13 01:22:27,454 epoch 14 - iter 2020/4041 - loss 0.26812504\n",
            "2019-08-13 01:23:25,396 epoch 14 - iter 2424/4041 - loss 0.26813237\n",
            "2019-08-13 01:24:16,979 epoch 14 - iter 2828/4041 - loss 0.26853571\n",
            "2019-08-13 01:25:15,372 epoch 14 - iter 3232/4041 - loss 0.26941643\n",
            "2019-08-13 01:26:14,196 epoch 14 - iter 3636/4041 - loss 0.26845954\n",
            "2019-08-13 01:27:06,216 epoch 14 - iter 4040/4041 - loss 0.26796887\n",
            "2019-08-13 01:27:07,392 ----------------------------------------------------------------------------------------------------\n",
            "2019-08-13 01:27:07,395 EPOCH 14 done: loss 0.2680 - lr 0.1000 - bad epochs 1\n",
            "2019-08-13 01:28:20,026 DEV : loss 0.288469523191452 - score 0.8847\n",
            "2019-08-13 01:29:33,043 TEST : loss 0.2891761362552643 - score 0.886\n",
            "2019-08-13 01:29:33,047 ----------------------------------------------------------------------------------------------------\n",
            "2019-08-13 01:29:34,668 epoch 15 - iter 0/4041 - loss 0.18691069\n",
            "2019-08-13 01:30:38,319 epoch 15 - iter 404/4041 - loss 0.26163768\n",
            "2019-08-13 01:31:30,449 epoch 15 - iter 808/4041 - loss 0.26032734\n",
            "2019-08-13 01:32:29,228 epoch 15 - iter 1212/4041 - loss 0.26347694\n",
            "2019-08-13 01:33:27,866 epoch 15 - iter 1616/4041 - loss 0.26323882\n",
            "2019-08-13 01:34:19,948 epoch 15 - iter 2020/4041 - loss 0.26342425\n",
            "2019-08-13 01:35:18,618 epoch 15 - iter 2424/4041 - loss 0.26332662\n",
            "2019-08-13 01:36:17,206 epoch 15 - iter 2828/4041 - loss 0.26439405\n",
            "2019-08-13 01:37:09,306 epoch 15 - iter 3232/4041 - loss 0.26528900\n",
            "2019-08-13 01:38:07,243 epoch 15 - iter 3636/4041 - loss 0.26481343\n",
            "2019-08-13 01:39:05,297 epoch 15 - iter 4040/4041 - loss 0.26457653\n",
            "2019-08-13 01:39:06,448 ----------------------------------------------------------------------------------------------------\n",
            "2019-08-13 01:39:06,450 EPOCH 15 done: loss 0.2646 - lr 0.1000 - bad epochs 2\n",
            "2019-08-13 01:40:13,015 DEV : loss 0.2867780029773712 - score 0.885\n",
            "2019-08-13 01:41:24,999 TEST : loss 0.2849055528640747 - score 0.8847\n",
            "2019-08-13 01:41:25,003 ----------------------------------------------------------------------------------------------------\n",
            "2019-08-13 01:41:26,918 epoch 16 - iter 0/4041 - loss 0.23065837\n",
            "2019-08-13 01:42:30,848 epoch 16 - iter 404/4041 - loss 0.25788479\n",
            "2019-08-13 01:43:22,538 epoch 16 - iter 808/4041 - loss 0.26583030\n",
            "2019-08-13 01:44:21,182 epoch 16 - iter 1212/4041 - loss 0.26429608\n",
            "2019-08-13 01:45:20,547 epoch 16 - iter 1616/4041 - loss 0.26285640\n",
            "2019-08-13 01:46:16,133 epoch 16 - iter 2020/4041 - loss 0.26251421\n",
            "2019-08-13 01:47:20,260 epoch 16 - iter 2424/4041 - loss 0.26348830\n",
            "2019-08-13 01:48:22,646 epoch 16 - iter 2828/4041 - loss 0.26466878\n",
            "2019-08-13 01:49:18,908 epoch 16 - iter 3232/4041 - loss 0.26422936\n",
            "2019-08-13 01:50:21,824 epoch 16 - iter 3636/4041 - loss 0.26336617\n",
            "2019-08-13 01:51:23,258 epoch 16 - iter 4040/4041 - loss 0.26378068\n",
            "2019-08-13 01:51:24,603 ----------------------------------------------------------------------------------------------------\n",
            "2019-08-13 01:51:24,605 EPOCH 16 done: loss 0.2638 - lr 0.1000 - bad epochs 3\n",
            "2019-08-13 01:52:32,316 DEV : loss 0.3005833625793457 - score 0.8806\n",
            "2019-08-13 01:53:45,027 TEST : loss 0.2956613302230835 - score 0.8816\n",
            "Epoch    15: reducing learning rate of group 0 to 5.0000e-02.\n",
            "2019-08-13 01:53:45,031 ----------------------------------------------------------------------------------------------------\n",
            "2019-08-13 01:53:46,706 epoch 17 - iter 0/4041 - loss 0.24293327\n",
            "2019-08-13 01:54:50,344 epoch 17 - iter 404/4041 - loss 0.25132735\n",
            "2019-08-13 01:55:43,209 epoch 17 - iter 808/4041 - loss 0.25073820\n",
            "2019-08-13 01:56:42,121 epoch 17 - iter 1212/4041 - loss 0.25282038\n",
            "2019-08-13 01:57:40,931 epoch 17 - iter 1616/4041 - loss 0.25445631\n",
            "2019-08-13 01:58:33,153 epoch 17 - iter 2020/4041 - loss 0.25372049\n",
            "2019-08-13 01:59:32,195 epoch 17 - iter 2424/4041 - loss 0.25390617\n",
            "2019-08-13 02:00:30,994 epoch 17 - iter 2828/4041 - loss 0.25442493\n",
            "2019-08-13 02:01:23,030 epoch 17 - iter 3232/4041 - loss 0.25492632\n",
            "2019-08-13 02:02:21,293 epoch 17 - iter 3636/4041 - loss 0.25379179\n",
            "2019-08-13 02:03:19,655 epoch 17 - iter 4040/4041 - loss 0.25294159\n",
            "2019-08-13 02:03:20,847 ----------------------------------------------------------------------------------------------------\n",
            "2019-08-13 02:03:20,849 EPOCH 17 done: loss 0.2529 - lr 0.0500 - bad epochs 0\n",
            "2019-08-13 02:04:34,235 DEV : loss 0.2758599519729614 - score 0.8922\n",
            "2019-08-13 02:05:40,410 TEST : loss 0.27326932549476624 - score 0.8954\n",
            "2019-08-13 02:05:40,417 ----------------------------------------------------------------------------------------------------\n",
            "2019-08-13 02:05:42,229 epoch 18 - iter 0/4041 - loss 0.23068897\n",
            "2019-08-13 02:06:45,530 epoch 18 - iter 404/4041 - loss 0.25262580\n",
            "2019-08-13 02:07:44,134 epoch 18 - iter 808/4041 - loss 0.24979989\n",
            "2019-08-13 02:08:35,755 epoch 18 - iter 1212/4041 - loss 0.24994256\n",
            "2019-08-13 02:09:34,523 epoch 18 - iter 1616/4041 - loss 0.24925882\n",
            "2019-08-13 02:10:33,194 epoch 18 - iter 2020/4041 - loss 0.25012982\n",
            "2019-08-13 02:11:25,393 epoch 18 - iter 2424/4041 - loss 0.25008766\n",
            "2019-08-13 02:12:24,117 epoch 18 - iter 2828/4041 - loss 0.25005606\n",
            "2019-08-13 02:13:22,781 epoch 18 - iter 3232/4041 - loss 0.24985726\n",
            "2019-08-13 02:14:14,717 epoch 18 - iter 3636/4041 - loss 0.24940187\n",
            "2019-08-13 02:15:12,650 epoch 18 - iter 4040/4041 - loss 0.24922368\n",
            "2019-08-13 02:15:13,952 ----------------------------------------------------------------------------------------------------\n",
            "2019-08-13 02:15:13,953 EPOCH 18 done: loss 0.2492 - lr 0.0500 - bad epochs 1\n",
            "2019-08-13 02:16:27,662 DEV : loss 0.27191829681396484 - score 0.8943\n",
            "2019-08-13 02:17:34,329 TEST : loss 0.270326167345047 - score 0.8973\n",
            "2019-08-13 02:17:38,340 ----------------------------------------------------------------------------------------------------\n",
            "2019-08-13 02:17:40,149 epoch 19 - iter 0/4041 - loss 0.28528774\n",
            "2019-08-13 02:18:43,910 epoch 19 - iter 404/4041 - loss 0.23985772\n",
            "2019-08-13 02:19:42,400 epoch 19 - iter 808/4041 - loss 0.24553370\n",
            "2019-08-13 02:20:35,082 epoch 19 - iter 1212/4041 - loss 0.24817309\n",
            "2019-08-13 02:21:33,327 epoch 19 - iter 1616/4041 - loss 0.24837195\n",
            "2019-08-13 02:22:31,760 epoch 19 - iter 2020/4041 - loss 0.24830760\n",
            "2019-08-13 02:23:23,972 epoch 19 - iter 2424/4041 - loss 0.24828772\n",
            "2019-08-13 02:24:23,129 epoch 19 - iter 2828/4041 - loss 0.24913700\n",
            "2019-08-13 02:25:21,507 epoch 19 - iter 3232/4041 - loss 0.24946598\n",
            "2019-08-13 02:26:13,350 epoch 19 - iter 3636/4041 - loss 0.24903690\n",
            "2019-08-13 02:27:11,561 epoch 19 - iter 4040/4041 - loss 0.24905854\n",
            "2019-08-13 02:27:12,780 ----------------------------------------------------------------------------------------------------\n",
            "2019-08-13 02:27:12,782 EPOCH 19 done: loss 0.2491 - lr 0.0500 - bad epochs 0\n",
            "2019-08-13 02:28:26,218 DEV : loss 0.2701301872730255 - score 0.8939\n",
            "2019-08-13 02:29:39,710 TEST : loss 0.26721876859664917 - score 0.896\n",
            "2019-08-13 02:29:39,713 ----------------------------------------------------------------------------------------------------\n",
            "2019-08-13 02:29:41,325 epoch 20 - iter 0/4041 - loss 0.43621051\n",
            "2019-08-13 02:30:38,079 epoch 20 - iter 404/4041 - loss 0.24287844\n",
            "2019-08-13 02:31:38,182 epoch 20 - iter 808/4041 - loss 0.24878745\n",
            "2019-08-13 02:32:37,271 epoch 20 - iter 1212/4041 - loss 0.24619092\n",
            "2019-08-13 02:33:29,126 epoch 20 - iter 1616/4041 - loss 0.24725502\n",
            "2019-08-13 02:34:27,688 epoch 20 - iter 2020/4041 - loss 0.24640725\n",
            "2019-08-13 02:35:25,643 epoch 20 - iter 2424/4041 - loss 0.24424318\n",
            "2019-08-13 02:36:17,443 epoch 20 - iter 2828/4041 - loss 0.24475702\n",
            "2019-08-13 02:37:15,739 epoch 20 - iter 3232/4041 - loss 0.24538059\n",
            "2019-08-13 02:38:14,496 epoch 20 - iter 3636/4041 - loss 0.24600057\n",
            "2019-08-13 02:39:06,336 epoch 20 - iter 4040/4041 - loss 0.24567161\n",
            "2019-08-13 02:39:07,538 ----------------------------------------------------------------------------------------------------\n",
            "2019-08-13 02:39:07,540 EPOCH 20 done: loss 0.2457 - lr 0.0500 - bad epochs 1\n",
            "2019-08-13 02:40:20,179 DEV : loss 0.2701132297515869 - score 0.8949\n",
            "2019-08-13 02:41:33,447 TEST : loss 0.2663331925868988 - score 0.898\n",
            "2019-08-13 02:41:41,331 ----------------------------------------------------------------------------------------------------\n",
            "2019-08-13 02:41:41,333 Testing using best model ...\n",
            "2019-08-13 02:41:41,338 loading file /content/gdrive/My Drive/data/flair/best-model.pt\n"
          ],
          "name": "stdout"
        },
        {
          "output_type": "stream",
          "text": [
            "/usr/local/lib/python3.6/dist-packages/torch/serialization.py:574: DeprecationWarning: Call to deprecated class DocumentLSTMEmbeddings. (The functionality of this class is moved to 'DocumentRNNEmbeddings') -- Deprecated since version 0.4.\n",
            "  result = unpickler.load()\n"
          ],
          "name": "stderr"
        },
        {
          "output_type": "stream",
          "text": [
            "2019-08-13 02:42:55,379 0.898\t0.898\t0.898\n",
            "2019-08-13 02:42:55,385 \n",
            "MICRO_AVG: acc 0.8148 - f1-score 0.898\n",
            "MACRO_AVG: acc 0.8148 - f1-score 0.89795\n",
            "Insincere  tp: 7385 - fp: 954 - fn: 695 - tn: 7127 - precision: 0.8856 - recall: 0.9140 - accuracy: 0.8175 - f1-score: 0.8996\n",
            "Sincere    tp: 7127 - fp: 695 - fn: 954 - tn: 7385 - precision: 0.9111 - recall: 0.8819 - accuracy: 0.8121 - f1-score: 0.8963\n",
            "2019-08-13 02:42:55,386 ----------------------------------------------------------------------------------------------------\n"
          ],
          "name": "stdout"
        },
        {
          "output_type": "execute_result",
          "data": {
            "text/plain": [
              "{'dev_loss_history': [tensor(0.3253, device='cuda:0'),\n",
              "  tensor(0.3074, device='cuda:0'),\n",
              "  tensor(0.3032, device='cuda:0'),\n",
              "  tensor(0.3096, device='cuda:0'),\n",
              "  tensor(0.2876, device='cuda:0'),\n",
              "  tensor(0.2898, device='cuda:0'),\n",
              "  tensor(0.3067, device='cuda:0'),\n",
              "  tensor(0.2957, device='cuda:0'),\n",
              "  tensor(0.2886, device='cuda:0'),\n",
              "  tensor(0.2924, device='cuda:0'),\n",
              "  tensor(0.3148, device='cuda:0'),\n",
              "  tensor(0.2760, device='cuda:0'),\n",
              "  tensor(0.2935, device='cuda:0'),\n",
              "  tensor(0.2885, device='cuda:0'),\n",
              "  tensor(0.2868, device='cuda:0'),\n",
              "  tensor(0.3006, device='cuda:0'),\n",
              "  tensor(0.2759, device='cuda:0'),\n",
              "  tensor(0.2719, device='cuda:0'),\n",
              "  tensor(0.2701, device='cuda:0'),\n",
              "  tensor(0.2701, device='cuda:0')],\n",
              " 'dev_score_history': [0.8679,\n",
              "  0.8779,\n",
              "  0.8802,\n",
              "  0.8764,\n",
              "  0.8879,\n",
              "  0.8876,\n",
              "  0.8752,\n",
              "  0.8798,\n",
              "  0.8901,\n",
              "  0.8828,\n",
              "  0.8728,\n",
              "  0.8923,\n",
              "  0.887,\n",
              "  0.8847,\n",
              "  0.885,\n",
              "  0.8806,\n",
              "  0.8922,\n",
              "  0.8943,\n",
              "  0.8939,\n",
              "  0.8949],\n",
              " 'test_score': 0.898,\n",
              " 'train_loss_history': [0.38516628782227325,\n",
              "  0.3307339190382144,\n",
              "  0.31751904624268373,\n",
              "  0.3093703851496501,\n",
              "  0.3002349785654682,\n",
              "  0.2933110186599234,\n",
              "  0.2887894961345951,\n",
              "  0.2845615285728288,\n",
              "  0.2807773045773289,\n",
              "  0.2774665715895175,\n",
              "  0.27508948957217977,\n",
              "  0.2724802514542317,\n",
              "  0.26936486922250585,\n",
              "  0.2679688738217908,\n",
              "  0.26457653094642647,\n",
              "  0.2637806810517914,\n",
              "  0.25294159422841767,\n",
              "  0.2492236771238924,\n",
              "  0.2490585368358021,\n",
              "  0.24567160834400437]}"
            ]
          },
          "metadata": {
            "tags": []
          },
          "execution_count": 14
        }
      ]
    },
    {
      "cell_type": "code",
      "metadata": {
        "id": "UiGEr7n_Yu4Y",
        "colab_type": "code",
        "outputId": "129e218d-a0d5-4117-b231-c0880ec91fe0",
        "colab": {
          "base_uri": "https://localhost:8080/",
          "height": 88
        }
      },
      "source": [
        "classifier = TextClassifier.load(path+'flair/best-model.pt')"
      ],
      "execution_count": 0,
      "outputs": [
        {
          "output_type": "stream",
          "text": [
            "2019-08-13 02:42:55,477 loading file /content/gdrive/My Drive/data/flair/best-model.pt\n"
          ],
          "name": "stdout"
        },
        {
          "output_type": "stream",
          "text": [
            "/usr/local/lib/python3.6/dist-packages/torch/serialization.py:574: DeprecationWarning: Call to deprecated class DocumentLSTMEmbeddings. (The functionality of this class is moved to 'DocumentRNNEmbeddings') -- Deprecated since version 0.4.\n",
            "  result = unpickler.load()\n"
          ],
          "name": "stderr"
        }
      ]
    },
    {
      "cell_type": "code",
      "metadata": {
        "id": "6WFXtJxyxrEF",
        "colab_type": "code",
        "outputId": "bcc9dfd4-793f-44ab-f194-97f4ec6319a2",
        "colab": {
          "base_uri": "https://localhost:8080/",
          "height": 51
        }
      },
      "source": [
        "%%time\n",
        "\n",
        "sentences =[]\n",
        "\n",
        "for s in X_dev.to_list():\n",
        "  sentences.append(Sentence(s))\n",
        "\n",
        "classifier.predict(sentences)"
      ],
      "execution_count": 0,
      "outputs": [
        {
          "output_type": "stream",
          "text": [
            "CPU times: user 6min 7s, sys: 1min 22s, total: 7min 30s\n",
            "Wall time: 7min 30s\n"
          ],
          "name": "stdout"
        }
      ]
    },
    {
      "cell_type": "code",
      "metadata": {
        "id": "8ssNipYqe4zo",
        "colab_type": "code",
        "outputId": "22fd3c69-633d-49d2-ee97-e983e85aa239",
        "colab": {
          "base_uri": "https://localhost:8080/",
          "height": 756
        }
      },
      "source": [
        "cls_pred, prob, prob_adj = [], [], []\n",
        "\n",
        "for s in sentences:\n",
        "  if s.labels[0].value == 'Sincere':\n",
        "    cls_pred.append(0)\n",
        "  else:\n",
        "    cls_pred.append(1)\n",
        "  prob.append(s.labels[0].score)\n",
        "\n",
        "for i in range(0, len(prob)):\n",
        "  if cls_pred[i] == 0:\n",
        "    prob_adj.append(1-prob[i])\n",
        "  else:\n",
        "    prob_adj.append(prob[i])\n",
        "\n",
        "report(y_dev, cls_pred)\n",
        "plot_roc(y_dev.values, np.asarray(prob_adj))"
      ],
      "execution_count": 0,
      "outputs": [
        {
          "output_type": "stream",
          "text": [
            "              precision    recall  f1-score   support\n",
            "\n",
            "     Sincere       0.99      0.88      0.93    122531\n",
            "   Insincere       0.34      0.92      0.50      8081\n",
            "\n",
            "    accuracy                           0.88    130612\n",
            "   macro avg       0.67      0.90      0.72    130612\n",
            "weighted avg       0.95      0.88      0.91    130612\n",
            "\n"
          ],
          "name": "stdout"
        },
        {
          "output_type": "display_data",
          "data": {
            "image/png": "[encoded data removed]",
            "text/plain": [
              "<Figure size 360x360 with 2 Axes>"
            ]
          },
          "metadata": {
            "tags": []
          }
        },
        {
          "output_type": "display_data",
          "data": {
            "image/png": "[encoded data removed]",
            "text/plain": [
              "<Figure size 432x288 with 1 Axes>"
            ]
          },
          "metadata": {
            "tags": []
          }
        }
      ]
    },
    {
      "cell_type": "code",
      "metadata": {
        "id": "Oop8xvdE9Muo",
        "colab_type": "code",
        "outputId": "03176e81-0d53-4939-ecff-4fa392cfc3f3",
        "colab": {
          "base_uri": "https://localhost:8080/",
          "height": 269
        }
      },
      "source": [
        "log = pd.read_csv(path+'flair/loss.tsv', sep='\\t')\n",
        "plt.figure(1)\n",
        "plt.subplot(121)\n",
        "plt.plot(log['EPOCH'], log['TRAIN_LOSS'], 'r', log['EPOCH'], log['DEV_LOSS'], 'g', log['EPOCH'], log['TEST_LOSS'], 'b')\n",
        "\n",
        "plt.subplot(122)\n",
        "plt.plot(log['EPOCH'], log['DEV_PRECISION'] ,'r')\n",
        "plt.plot(log['EPOCH'], log['DEV_RECALL'] ,'bo')\n",
        "plt.plot(log['EPOCH'], log['DEV_F1'], 'ro')\n",
        "plt.plot(log['EPOCH'], log['TEST_PRECISION'], 'g')\n",
        "plt.plot(log['EPOCH'], log['TEST_RECALL'], 'bo')\n",
        "plt.plot(log['EPOCH'], log['TEST_F1'], 'go')\n",
        "plt.show()"
      ],
      "execution_count": 0,
      "outputs": [
        {
          "output_type": "display_data",
          "data": {
            "image/png": "[encoded data removed]",
            "text/plain": [
              "<Figure size 432x288 with 2 Axes>"
            ]
          },
          "metadata": {
            "tags": []
          }
        }
      ]
    },
    {
      "cell_type": "code",
      "metadata": {
        "id": "1EACarA35Yu_",
        "colab_type": "code",
        "outputId": "92695450-9a0f-4aac-a4cc-85f32515b9ed",
        "colab": {
          "base_uri": "https://localhost:8080/",
          "height": 323
        }
      },
      "source": [
        "log.info()"
      ],
      "execution_count": 0,
      "outputs": [
        {
          "output_type": "stream",
          "text": [
            "<class 'pandas.core.frame.DataFrame'>\n",
            "RangeIndex: 20 entries, 0 to 19\n",
            "Data columns (total 13 columns):\n",
            "EPOCH             20 non-null int64\n",
            "TIMESTAMP         20 non-null object\n",
            "BAD_EPOCHS        20 non-null int64\n",
            "LEARNING_RATE     20 non-null float64\n",
            "TRAIN_LOSS        20 non-null float64\n",
            "DEV_LOSS          20 non-null float64\n",
            "DEV_PRECISION     20 non-null float64\n",
            "DEV_RECALL        20 non-null float64\n",
            "DEV_F1            20 non-null float64\n",
            "TEST_LOSS         20 non-null float64\n",
            "TEST_PRECISION    20 non-null float64\n",
            "TEST_RECALL       20 non-null float64\n",
            "TEST_F1           20 non-null float64\n",
            "dtypes: float64(10), int64(2), object(1)\n",
            "memory usage: 2.1+ KB\n"
          ],
          "name": "stdout"
        }
      ]
    },
    {
      "cell_type": "code",
      "metadata": {
        "id": "bNoXgJkA5Yok",
        "colab_type": "code",
        "colab": {}
      },
      "source": [
        "\n"
      ],
      "execution_count": 0,
      "outputs": []
    },
    {
      "cell_type": "markdown",
      "metadata": {
        "id": "k79m6XpuYvuq",
        "colab_type": "text"
      },
      "source": [
        "#10. pre-trained LM"
      ]
    },
    {
      "cell_type": "code",
      "metadata": {
        "id": "pdRYQvk1YtrH",
        "colab_type": "code",
        "outputId": "9ddf0a2a-3717-4383-9784-95b32fe282d3",
        "colab": {
          "base_uri": "https://localhost:8080/",
          "height": 51
        }
      },
      "source": [
        "print(tf.test.is_gpu_available())\n",
        "print(tf.test.gpu_device_name())"
      ],
      "execution_count": 13,
      "outputs": [
        {
          "output_type": "stream",
          "text": [
            "True\n",
            "/device:GPU:0\n"
          ],
          "name": "stdout"
        }
      ]
    },
    {
      "cell_type": "code",
      "metadata": {
        "id": "TsPPoF0cnX9Y",
        "colab_type": "code",
        "colab": {
          "base_uri": "https://localhost:8080/",
          "height": 136
        },
        "outputId": "04f5bbad-9450-4abf-fe6c-bc7a7e6f8f49"
      },
      "source": [
        "dataset = pd.read_csv(path+'movie_reviews.csv.bz2', compression='bz2')\n",
        "dataset.info()"
      ],
      "execution_count": 16,
      "outputs": [
        {
          "output_type": "stream",
          "text": [
            "<class 'pandas.core.frame.DataFrame'>\n",
            "RangeIndex: 50000 entries, 0 to 49999\n",
            "Data columns (total 2 columns):\n",
            "review       50000 non-null object\n",
            "sentiment    50000 non-null object\n",
            "dtypes: object(2)\n",
            "memory usage: 781.3+ KB\n"
          ],
          "name": "stdout"
        }
      ]
    },
    {
      "cell_type": "code",
      "metadata": {
        "id": "Xv4IZGApbP1X",
        "colab_type": "code",
        "colab": {
          "base_uri": "https://localhost:8080/",
          "height": 204
        },
        "outputId": "8f2c59c0-df11-406d-9aa0-3a1ed449bd19"
      },
      "source": [
        "dataset['sentiment'] = [1 if sentiment == 'positive' else 0 for sentiment in dataset['sentiment'].values]\n",
        "dataset.head()"
      ],
      "execution_count": 17,
      "outputs": [
        {
          "output_type": "execute_result",
          "data": {
            "text/html": [
              "<div>\n",
              "<style scoped>\n",
              "    .dataframe tbody tr th:only-of-type {\n",
              "        vertical-align: middle;\n",
              "    }\n",
              "\n",
              "    .dataframe tbody tr th {\n",
              "        vertical-align: top;\n",
              "    }\n",
              "\n",
              "    .dataframe thead th {\n",
              "        text-align: right;\n",
              "    }\n",
              "</style>\n",
              "<table border=\"1\" class=\"dataframe\">\n",
              "  <thead>\n",
              "    <tr style=\"text-align: right;\">\n",
              "      <th></th>\n",
              "      <th>review</th>\n",
              "      <th>sentiment</th>\n",
              "    </tr>\n",
              "  </thead>\n",
              "  <tbody>\n",
              "    <tr>\n",
              "      <th>0</th>\n",
              "      <td>One of the other reviewers has mentioned that ...</td>\n",
              "      <td>1</td>\n",
              "    </tr>\n",
              "    <tr>\n",
              "      <th>1</th>\n",
              "      <td>A wonderful little production. &lt;br /&gt;&lt;br /&gt;The...</td>\n",
              "      <td>1</td>\n",
              "    </tr>\n",
              "    <tr>\n",
              "      <th>2</th>\n",
              "      <td>I thought this was a wonderful way to spend ti...</td>\n",
              "      <td>1</td>\n",
              "    </tr>\n",
              "    <tr>\n",
              "      <th>3</th>\n",
              "      <td>Basically there's a family where a little boy ...</td>\n",
              "      <td>0</td>\n",
              "    </tr>\n",
              "    <tr>\n",
              "      <th>4</th>\n",
              "      <td>Petter Mattei's \"Love in the Time of Money\" is...</td>\n",
              "      <td>1</td>\n",
              "    </tr>\n",
              "  </tbody>\n",
              "</table>\n",
              "</div>"
            ],
            "text/plain": [
              "                                              review  sentiment\n",
              "0  One of the other reviewers has mentioned that ...          1\n",
              "1  A wonderful little production. <br /><br />The...          1\n",
              "2  I thought this was a wonderful way to spend ti...          1\n",
              "3  Basically there's a family where a little boy ...          0\n",
              "4  Petter Mattei's \"Love in the Time of Money\" is...          1"
            ]
          },
          "metadata": {
            "tags": []
          },
          "execution_count": 17
        }
      ]
    },
    {
      "cell_type": "code",
      "metadata": {
        "id": "PTrQStwNMSnP",
        "colab_type": "code",
        "colab": {
          "base_uri": "https://localhost:8080/",
          "height": 34
        },
        "outputId": "cfca0c31-bee7-4a8f-9914-a9d9efa0554e"
      },
      "source": [
        "reviews = dataset['review'].values\n",
        "sentiments = dataset['sentiment'].values\n",
        "\n",
        "train_reviews = reviews[:30000]\n",
        "train_sentiments = sentiments[:30000]\n",
        "\n",
        "val_reviews = reviews[30000:35000]\n",
        "val_sentiments = sentiments[30000:35000]\n",
        "\n",
        "test_reviews = reviews[35000:]\n",
        "test_sentiments = sentiments[35000:]\n",
        "train_reviews.shape, val_reviews.shape, test_reviews.shape"
      ],
      "execution_count": 18,
      "outputs": [
        {
          "output_type": "execute_result",
          "data": {
            "text/plain": [
              "((30000,), (5000,), (15000,))"
            ]
          },
          "metadata": {
            "tags": []
          },
          "execution_count": 18
        }
      ]
    },
    {
      "cell_type": "code",
      "metadata": {
        "id": "yg7OpkdDMSyp",
        "colab_type": "code",
        "colab": {}
      },
      "source": [
        "import contractions\n",
        "from bs4 import BeautifulSoup\n",
        "import unicodedata\n",
        "import re\n",
        "\n",
        "\n",
        "def strip_html_tags(text):\n",
        "    soup = BeautifulSoup(text, \"html.parser\")\n",
        "    [s.extract() for s in soup(['iframe', 'script'])]\n",
        "    stripped_text = soup.get_text()\n",
        "    stripped_text = re.sub(r'[\\r|\\n|\\r\\n]+', '\\n', stripped_text)\n",
        "    return stripped_text\n",
        "\n",
        "\n",
        "def remove_accented_chars(text):\n",
        "    text = unicodedata.normalize('NFKD', text).encode('ascii', 'ignore').decode('utf-8', 'ignore')\n",
        "    return text\n",
        "\n",
        "\n",
        "def expand_contractions(text):\n",
        "    return contractions.fix(text)\n",
        "\n",
        "\n",
        "\n",
        "def remove_special_characters(text, remove_digits=False):\n",
        "    pattern = r'[^a-zA-Z0-9\\s]' if not remove_digits else r'[^a-zA-Z\\s]'\n",
        "    text = re.sub(pattern, '', text)\n",
        "    return text\n",
        "\n",
        "\n",
        "def pre_process_document(document):\n",
        "    \n",
        "    # strip HTML\n",
        "    document = strip_html_tags(document)\n",
        "    \n",
        "    # lower case\n",
        "    document = document.lower()\n",
        "    \n",
        "    # remove extra newlines (often might be present in really noisy text)\n",
        "    document = document.translate(document.maketrans(\"\\n\\t\\r\", \"   \"))\n",
        "    \n",
        "    # remove accented characters\n",
        "    document = remove_accented_chars(document)\n",
        "    \n",
        "    # expand contractions    \n",
        "    document = expand_contractions(document)\n",
        "               \n",
        "    # remove special characters and\\or digits    \n",
        "    # insert spaces between special characters to isolate them    \n",
        "    special_char_pattern = re.compile(r'([{.(-)!}])')\n",
        "    document = special_char_pattern.sub(\" \\\\1 \", document)\n",
        "    document = remove_special_characters(document, remove_digits=True)  \n",
        "        \n",
        "    # remove extra whitespace\n",
        "    document = re.sub(' +', ' ', document)\n",
        "    document = document.strip()\n",
        "    \n",
        "    return document\n",
        "\n",
        "\n",
        "pre_process_corpus = np.vectorize(pre_process_document)"
      ],
      "execution_count": 0,
      "outputs": []
    },
    {
      "cell_type": "code",
      "metadata": {
        "id": "UBtGcUSXMS8S",
        "colab_type": "code",
        "colab": {}
      },
      "source": [
        "\n",
        "train_reviews = pre_process_corpus(train_reviews)\n",
        "val_reviews = pre_process_corpus(val_reviews)\n",
        "test_reviews = pre_process_corpus(test_reviews)\n"
      ],
      "execution_count": 0,
      "outputs": []
    },
    {
      "cell_type": "code",
      "metadata": {
        "id": "Bx54ljlwHiOt",
        "colab_type": "code",
        "colab": {
          "base_uri": "https://localhost:8080/",
          "height": 34
        },
        "outputId": "378e4ea9-5834-4320-b476-4cc69f59507f"
      },
      "source": [
        ""
      ],
      "execution_count": 25,
      "outputs": [
        {
          "output_type": "execute_result",
          "data": {
            "text/plain": [
              "numpy.ndarray"
            ]
          },
          "metadata": {
            "tags": []
          },
          "execution_count": 25
        }
      ]
    },
    {
      "cell_type": "code",
      "metadata": {
        "id": "HmhJOdSCi-0Q",
        "colab_type": "code",
        "colab": {}
      },
      "source": [
        "train_reviews = X_train_s.values\n",
        "train_sentiments = y_train_s.values\n",
        "\n",
        "val_reviews = X_dev_s.values\n",
        "val_sentiments = y_dev_s.values\n",
        "\n",
        "test_reviews = X_test_s.values\n",
        "test_sentiments = y_test_s.values\n",
        "\n",
        "# reviews = dataset['review'].values\n",
        "# sentiments = dataset['sentiment'].values\n",
        "\n",
        "# train_reviews = reviews[:30000]\n",
        "# train_sentiments = sentiments[:30000]\n",
        "\n",
        "# val_reviews = reviews[30000:35000]\n",
        "# val_sentiments = sentiments[30000:35000]\n",
        "\n",
        "# test_reviews = reviews[35000:]\n",
        "# test_sentiments = sentiments[35000:]\n",
        "# train_reviews.shape, val_reviews.shape, test_reviews.shape"
      ],
      "execution_count": 0,
      "outputs": []
    },
    {
      "cell_type": "code",
      "metadata": {
        "id": "G9MfDu38ro0w",
        "colab_type": "code",
        "colab": {
          "base_uri": "https://localhost:8080/",
          "height": 51
        },
        "outputId": "cbfff532-606a-4dca-c824-033545b75909"
      },
      "source": [
        "print(train_reviews[1])\n",
        "print(train_sentiments[1])"
      ],
      "execution_count": 27,
      "outputs": [
        {
          "output_type": "stream",
          "text": [
            "are there any job openings for mechanical engineers m tech at carl zeiss are  d bengaluru\n",
            "0\n"
          ],
          "name": "stdout"
        }
      ]
    },
    {
      "cell_type": "code",
      "metadata": {
        "id": "GfeX-IrZBTGA",
        "colab_type": "code",
        "colab": {
          "base_uri": "https://localhost:8080/",
          "height": 34
        },
        "outputId": "54d8b42a-8a8d-40c3-9a6f-699ed18327fa"
      },
      "source": [
        "length_checker = np.vectorize(len) \n",
        "min(length_checker(train_reviews))"
      ],
      "execution_count": 28,
      "outputs": [
        {
          "output_type": "execute_result",
          "data": {
            "text/plain": [
              "11"
            ]
          },
          "metadata": {
            "tags": []
          },
          "execution_count": 28
        }
      ]
    },
    {
      "cell_type": "code",
      "metadata": {
        "id": "UKtD8HMNMS_f",
        "colab_type": "code",
        "colab": {}
      },
      "source": [
        "# Training input on the whole training set with no limit on training epochs.\n",
        "train_input_fn = tf.estimator.inputs.numpy_input_fn(\n",
        "    {'sentence': train_reviews}, train_sentiments, \n",
        "    batch_size=256, num_epochs=None, shuffle=True)"
      ],
      "execution_count": 0,
      "outputs": []
    },
    {
      "cell_type": "code",
      "metadata": {
        "id": "Jg_0_HPVMTFP",
        "colab_type": "code",
        "colab": {}
      },
      "source": [
        "# Prediction on the whole training set.\n",
        "predict_train_input_fn = tf.estimator.inputs.numpy_input_fn(\n",
        "    {'sentence': train_reviews}, train_sentiments, shuffle=False)\n"
      ],
      "execution_count": 0,
      "outputs": []
    },
    {
      "cell_type": "code",
      "metadata": {
        "id": "lJQKssc9MTDM",
        "colab_type": "code",
        "colab": {}
      },
      "source": [
        "# Prediction on the whole validation set.\n",
        "predict_val_input_fn = tf.estimator.inputs.numpy_input_fn(\n",
        "    {'sentence': val_reviews}, val_sentiments, shuffle=False)"
      ],
      "execution_count": 0,
      "outputs": []
    },
    {
      "cell_type": "code",
      "metadata": {
        "id": "N2kQAKl1MSwS",
        "colab_type": "code",
        "colab": {}
      },
      "source": [
        "# Prediction on the test set.\n",
        "predict_test_input_fn = tf.estimator.inputs.numpy_input_fn(\n",
        "    {'sentence': test_reviews}, test_sentiments, shuffle=False)"
      ],
      "execution_count": 0,
      "outputs": []
    },
    {
      "cell_type": "code",
      "metadata": {
        "id": "bfFeh5rFMSqg",
        "colab_type": "code",
        "colab": {}
      },
      "source": [
        "embedding_feature = hub.text_embedding_column(\n",
        "    key='sentence', \n",
        "    module_spec=\"https://tfhub.dev/google/universal-sentence-encoder/2\",\n",
        "    trainable=False)"
      ],
      "execution_count": 0,
      "outputs": []
    },
    {
      "cell_type": "code",
      "metadata": {
        "id": "RYIFW0TpNJDJ",
        "colab_type": "code",
        "colab": {
          "base_uri": "https://localhost:8080/",
          "height": 34
        },
        "outputId": "f409ac60-f9c7-42b4-cf0c-65b1355ec29e"
      },
      "source": [
        "dnn = tf.estimator.DNNClassifier(\n",
        "          hidden_units=[512, 128],\n",
        "          feature_columns=[embedding_feature],\n",
        "          n_classes=2,\n",
        "          activation_fn=tf.nn.relu,\n",
        "          dropout=0.1,\n",
        "          optimizer=tf.train.AdagradOptimizer(learning_rate=0.005))\n"
      ],
      "execution_count": 34,
      "outputs": [
        {
          "output_type": "stream",
          "text": [
            "2019-08-15 21:13:07,232 Using temporary folder as model directory: /tmp/tmpync_0vl8\n"
          ],
          "name": "stdout"
        }
      ]
    },
    {
      "cell_type": "code",
      "metadata": {
        "id": "SgAHC7xlNJa2",
        "colab_type": "code",
        "colab": {
          "base_uri": "https://localhost:8080/",
          "height": 34
        },
        "outputId": "d2dd8fb0-93fc-4eca-c0cb-728c6bf92b09"
      },
      "source": [
        "256*1500 / 30000\n"
      ],
      "execution_count": 64,
      "outputs": [
        {
          "output_type": "execute_result",
          "data": {
            "text/plain": [
              "12.8"
            ]
          },
          "metadata": {
            "tags": []
          },
          "execution_count": 64
        }
      ]
    },
    {
      "cell_type": "code",
      "metadata": {
        "id": "QshdOAjU5MMo",
        "colab_type": "code",
        "colab": {
          "base_uri": "https://localhost:8080/",
          "height": 34
        },
        "outputId": "47ac012f-bc04-493b-a0e5-8c23e922bac9"
      },
      "source": [
        "256*3000/129291"
      ],
      "execution_count": 65,
      "outputs": [
        {
          "output_type": "execute_result",
          "data": {
            "text/plain": [
              "5.940088637260134"
            ]
          },
          "metadata": {
            "tags": []
          },
          "execution_count": 65
        }
      ]
    },
    {
      "cell_type": "code",
      "metadata": {
        "id": "hxhz1DdWNJXq",
        "colab_type": "code",
        "colab": {
          "base_uri": "https://localhost:8080/",
          "height": 649
        },
        "outputId": "d1ccf3a0-ce89-4301-b611-f499402e4a5c"
      },
      "source": [
        "tf.logging.set_verbosity(tf.logging.ERROR)\n",
        "import time\n",
        "\n",
        "TOTAL_STEPS = 500 #1500\n",
        "STEP_SIZE = 100\n",
        "for step in range(0, TOTAL_STEPS+1, STEP_SIZE):\n",
        "    print()\n",
        "    print('-'*100)\n",
        "    print('Training for step =', step)\n",
        "    start_time = time.time()\n",
        "    dnn.train(input_fn=train_input_fn, steps=STEP_SIZE)\n",
        "    elapsed_time = time.time() - start_time\n",
        "    print('Train Time (s):', elapsed_time)\n",
        "    print('Eval Metrics (Train):', dnn.evaluate(input_fn=predict_train_input_fn))\n",
        "    print('Eval Metrics (Validation):', dnn.evaluate(input_fn=predict_val_input_fn))"
      ],
      "execution_count": 35,
      "outputs": [
        {
          "output_type": "stream",
          "text": [
            "\n",
            "----------------------------------------------------------------------------------------------------\n",
            "Training for step = 0\n",
            "Train Time (s): 45.87247276306152\n",
            "Eval Metrics (Train): {'accuracy': 0.89007354, 'accuracy_baseline': 0.5294118, 'auc': 0.95145154, 'auc_precision_recall': 0.9391008, 'average_loss': 0.2788824, 'label/mean': 0.47058824, 'loss': 35.680157, 'precision': 0.8673717, 'prediction/mean': 0.48435017, 'recall': 0.90475, 'global_step': 100}\n",
            "Eval Metrics (Validation): {'accuracy': 0.8959412, 'accuracy_baseline': 0.5294118, 'auc': 0.95299196, 'auc_precision_recall': 0.9380065, 'average_loss': 0.2732777, 'label/mean': 0.47058824, 'loss': 34.93023, 'precision': 0.8713792, 'prediction/mean': 0.4850019, 'recall': 0.91375, 'global_step': 100}\n",
            "\n",
            "----------------------------------------------------------------------------------------------------\n",
            "Training for step = 100\n",
            "Train Time (s): 42.181029319763184\n",
            "Eval Metrics (Train): {'accuracy': 0.8927721, 'accuracy_baseline': 0.5294118, 'auc': 0.9541094, 'auc_precision_recall': 0.94225043, 'average_loss': 0.27060592, 'label/mean': 0.47058824, 'loss': 34.621265, 'precision': 0.88619703, 'prediction/mean': 0.45941472, 'recall': 0.8859063, 'global_step': 200}\n",
            "Eval Metrics (Validation): {'accuracy': 0.8972941, 'accuracy_baseline': 0.5294118, 'auc': 0.9554239, 'auc_precision_recall': 0.9404892, 'average_loss': 0.2653348, 'label/mean': 0.47058824, 'loss': 33.914978, 'precision': 0.8880616, 'prediction/mean': 0.46058625, 'recall': 0.8945, 'global_step': 200}\n",
            "\n",
            "----------------------------------------------------------------------------------------------------\n",
            "Training for step = 200\n",
            "Train Time (s): 41.57949113845825\n",
            "Eval Metrics (Train): {'accuracy': 0.8945147, 'accuracy_baseline': 0.5294118, 'auc': 0.9558158, 'auc_precision_recall': 0.9446346, 'average_loss': 0.26561108, 'label/mean': 0.47058824, 'loss': 33.982224, 'precision': 0.8875343, 'prediction/mean': 0.45901182, 'recall': 0.8884219, 'global_step': 300}\n",
            "Eval Metrics (Validation): {'accuracy': 0.8999412, 'accuracy_baseline': 0.5294118, 'auc': 0.95720565, 'auc_precision_recall': 0.9432315, 'average_loss': 0.2599091, 'label/mean': 0.47058824, 'loss': 33.221462, 'precision': 0.8908053, 'prediction/mean': 0.46014616, 'recall': 0.897375, 'global_step': 300}\n",
            "\n",
            "----------------------------------------------------------------------------------------------------\n",
            "Training for step = 300\n",
            "Train Time (s): 43.07282757759094\n",
            "Eval Metrics (Train): {'accuracy': 0.89732355, 'accuracy_baseline': 0.5294118, 'auc': 0.9569452, 'auc_precision_recall': 0.94603896, 'average_loss': 0.26141077, 'label/mean': 0.47058824, 'loss': 33.44484, 'precision': 0.884431, 'prediction/mean': 0.4672284, 'recall': 0.8993281, 'global_step': 400}\n",
            "Eval Metrics (Validation): {'accuracy': 0.9027647, 'accuracy_baseline': 0.5294118, 'auc': 0.95867693, 'auc_precision_recall': 0.9452455, 'average_loss': 0.25463775, 'label/mean': 0.47058824, 'loss': 32.547684, 'precision': 0.88800585, 'prediction/mean': 0.46834818, 'recall': 0.907875, 'global_step': 400}\n",
            "\n",
            "----------------------------------------------------------------------------------------------------\n",
            "Training for step = 400\n",
            "Train Time (s): 43.34833645820618\n",
            "Eval Metrics (Train): {'accuracy': 0.89824265, 'accuracy_baseline': 0.5294118, 'auc': 0.95796794, 'auc_precision_recall': 0.94736856, 'average_loss': 0.2589738, 'label/mean': 0.47058824, 'loss': 33.133057, 'precision': 0.87453145, 'prediction/mean': 0.48453298, 'recall': 0.9150469, 'global_step': 500}\n",
            "Eval Metrics (Validation): {'accuracy': 0.90258825, 'accuracy_baseline': 0.5294118, 'auc': 0.95907485, 'auc_precision_recall': 0.9457389, 'average_loss': 0.25409305, 'label/mean': 0.47058824, 'loss': 32.47806, 'precision': 0.8765432, 'prediction/mean': 0.4856439, 'recall': 0.923, 'global_step': 500}\n",
            "\n",
            "----------------------------------------------------------------------------------------------------\n",
            "Training for step = 500\n",
            "Train Time (s): 43.38486313819885\n",
            "Eval Metrics (Train): {'accuracy': 0.8998015, 'accuracy_baseline': 0.5294118, 'auc': 0.9588581, 'auc_precision_recall': 0.9484142, 'average_loss': 0.25527248, 'label/mean': 0.47058824, 'loss': 32.659508, 'precision': 0.88060445, 'prediction/mean': 0.4778349, 'recall': 0.9105312, 'global_step': 600}\n",
            "Eval Metrics (Validation): {'accuracy': 0.90311766, 'accuracy_baseline': 0.5294118, 'auc': 0.9600087, 'auc_precision_recall': 0.9471602, 'average_loss': 0.25054204, 'label/mean': 0.47058824, 'loss': 32.02417, 'precision': 0.8814699, 'prediction/mean': 0.47894308, 'recall': 0.9175, 'global_step': 600}\n"
          ],
          "name": "stdout"
        }
      ]
    },
    {
      "cell_type": "code",
      "metadata": {
        "id": "z9vqBi9jNJTr",
        "colab_type": "code",
        "colab": {
          "base_uri": "https://localhost:8080/",
          "height": 204
        },
        "outputId": "1f91f890-4199-46b9-9d2d-504e81531222"
      },
      "source": [
        "dnn.evaluate(input_fn=predict_train_input_fn)"
      ],
      "execution_count": 36,
      "outputs": [
        {
          "output_type": "execute_result",
          "data": {
            "text/plain": [
              "{'accuracy': 0.8998015,\n",
              " 'accuracy_baseline': 0.5294118,\n",
              " 'auc': 0.9588581,\n",
              " 'auc_precision_recall': 0.9484142,\n",
              " 'average_loss': 0.25527248,\n",
              " 'global_step': 600,\n",
              " 'label/mean': 0.47058824,\n",
              " 'loss': 32.659508,\n",
              " 'precision': 0.88060445,\n",
              " 'prediction/mean': 0.4778349,\n",
              " 'recall': 0.9105312}"
            ]
          },
          "metadata": {
            "tags": []
          },
          "execution_count": 36
        }
      ]
    },
    {
      "cell_type": "code",
      "metadata": {
        "id": "ipuhHYdJNJQr",
        "colab_type": "code",
        "colab": {
          "base_uri": "https://localhost:8080/",
          "height": 204
        },
        "outputId": "6a007183-3877-4b4c-a3d1-62a46bab6667"
      },
      "source": [
        "dnn.evaluate(input_fn=predict_test_input_fn)"
      ],
      "execution_count": 37,
      "outputs": [
        {
          "output_type": "execute_result",
          "data": {
            "text/plain": [
              "{'accuracy': 0.905,\n",
              " 'accuracy_baseline': 0.5294118,\n",
              " 'auc': 0.9600134,\n",
              " 'auc_precision_recall': 0.9499414,\n",
              " 'average_loss': 0.25042436,\n",
              " 'global_step': 600,\n",
              " 'label/mean': 0.47058824,\n",
              " 'loss': 32.00913,\n",
              " 'precision': 0.89023346,\n",
              " 'prediction/mean': 0.47398505,\n",
              " 'recall': 0.910375}"
            ]
          },
          "metadata": {
            "tags": []
          },
          "execution_count": 37
        }
      ]
    },
    {
      "cell_type": "code",
      "metadata": {
        "id": "4wkjdRUKNJOJ",
        "colab_type": "code",
        "colab": {}
      },
      "source": [
        "import time\n",
        "\n",
        "TOTAL_STEPS = 1500\n",
        "STEP_SIZE = 500\n",
        "\n",
        "my_checkpointing_config = tf.estimator.RunConfig(\n",
        "    keep_checkpoint_max = 2,       # Retain the 2 most recent checkpoints.\n",
        ")\n",
        "\n",
        "def train_and_evaluate_with_sentence_encoder(hub_module, train_module=False, path=''):\n",
        "    embedding_feature = hub.text_embedding_column(\n",
        "        key='sentence', module_spec=hub_module, trainable=train_module)\n",
        "  \n",
        "    print()\n",
        "    print('='*100)\n",
        "    print('Training with', hub_module)\n",
        "    print('Trainable is:', train_module)\n",
        "    print('='*100)\n",
        "  \n",
        "    dnn = tf.estimator.DNNClassifier(\n",
        "            hidden_units=[512, 128],\n",
        "            feature_columns=[embedding_feature],\n",
        "            n_classes=2,\n",
        "            activation_fn=tf.nn.relu,\n",
        "            dropout=0.1,\n",
        "            optimizer=tf.train.AdagradOptimizer(learning_rate=0.005),\n",
        "            model_dir=path,\n",
        "            config=my_checkpointing_config)\n",
        "\n",
        "    for step in range(0, TOTAL_STEPS+1, STEP_SIZE):\n",
        "        print('-'*100)\n",
        "        print('Training for step =', step)\n",
        "        start_time = time.time()\n",
        "        dnn.train(input_fn=train_input_fn, steps=STEP_SIZE)\n",
        "        elapsed_time = time.time() - start_time\n",
        "        print('Train Time (s):', elapsed_time)\n",
        "        print('Eval Metrics (Train):', dnn.evaluate(input_fn=predict_train_input_fn))\n",
        "        print('Eval Metrics (Validation):', dnn.evaluate(input_fn=predict_val_input_fn))\n",
        "\n",
        "    train_eval_result = dnn.evaluate(input_fn=predict_train_input_fn)\n",
        "    test_eval_result = dnn.evaluate(input_fn=predict_test_input_fn)\n",
        "\n",
        "    return {\n",
        "      \"Model Dir\": dnn.model_dir,\n",
        "      \"Training Accuracy\": train_eval_result[\"accuracy\"],\n",
        "      \"Test Accuracy\": test_eval_result[\"accuracy\"],\n",
        "      \"Training AUC\": train_eval_result[\"auc\"],\n",
        "      \"Test AUC\": test_eval_result[\"auc\"],\n",
        "      \"Training Precision\": train_eval_result[\"precision\"],\n",
        "      \"Test Precision\": test_eval_result[\"precision\"],\n",
        "      \"Training Recall\": train_eval_result[\"recall\"],\n",
        "      \"Test Recall\": test_eval_result[\"recall\"]\n",
        "    }"
      ],
      "execution_count": 0,
      "outputs": []
    },
    {
      "cell_type": "code",
      "metadata": {
        "id": "-R-bA4oKNJMG",
        "colab_type": "code",
        "colab": {
          "base_uri": "https://localhost:8080/",
          "height": 1000
        },
        "outputId": "b1d4f1cb-1448-4470-f687-5858f8f1fb90"
      },
      "source": [
        "tf.logging.set_verbosity(tf.logging.ERROR)\n",
        "\n",
        "results = {}\n",
        "\n",
        "results[\"nnlm-en-dim128\"] = train_and_evaluate_with_sentence_encoder(\n",
        "    \"https://tfhub.dev/google/nnlm-en-dim128/1\", path='/storage/models/nnlm-en-dim128_f/')\n",
        "\n",
        "results[\"nnlm-en-dim128-with-training\"] = train_and_evaluate_with_sentence_encoder(\n",
        "    \"https://tfhub.dev/google/nnlm-en-dim128/1\", train_module=True, path='/storage/models/nnlm-en-dim128_t/')\n",
        "\n",
        "results[\"use-512\"] = train_and_evaluate_with_sentence_encoder(\n",
        "    \"https://tfhub.dev/google/universal-sentence-encoder/2\", path='/storage/models/use-512_f/')\n",
        "\n",
        "results[\"use-512-with-training\"] = train_and_evaluate_with_sentence_encoder(\n",
        "    \"https://tfhub.dev/google/universal-sentence-encoder/2\", train_module=True, path='/storage/models/use-512_t/')"
      ],
      "execution_count": 39,
      "outputs": [
        {
          "output_type": "stream",
          "text": [
            "\n",
            "====================================================================================================\n",
            "Training with https://tfhub.dev/google/nnlm-en-dim128/1\n",
            "Trainable is: False\n",
            "====================================================================================================\n",
            "----------------------------------------------------------------------------------------------------\n",
            "Training for step = 0\n",
            "Train Time (s): 9.772325992584229\n",
            "Eval Metrics (Train): {'accuracy': 0.8642132, 'accuracy_baseline': 0.5294118, 'auc': 0.9345158, 'auc_precision_recall': 0.92074466, 'average_loss': 0.32573068, 'label/mean': 0.47058824, 'loss': 41.673916, 'precision': 0.8445137, 'prediction/mean': 0.47690755, 'recall': 0.872, 'global_step': 500}\n",
            "Eval Metrics (Validation): {'accuracy': 0.86917645, 'accuracy_baseline': 0.5294118, 'auc': 0.93726027, 'auc_precision_recall': 0.9233717, 'average_loss': 0.31850848, 'label/mean': 0.47058824, 'loss': 40.71161, 'precision': 0.84870803, 'prediction/mean': 0.47637212, 'recall': 0.878625, 'global_step': 500}\n",
            "----------------------------------------------------------------------------------------------------\n",
            "Training for step = 500\n",
            "Train Time (s): 8.434961557388306\n",
            "Eval Metrics (Train): {'accuracy': 0.8694191, 'accuracy_baseline': 0.5294118, 'auc': 0.9387229, 'auc_precision_recall': 0.9257848, 'average_loss': 0.31478143, 'label/mean': 0.47058824, 'loss': 40.27307, 'precision': 0.85322744, 'prediction/mean': 0.47431013, 'recall': 0.872625, 'global_step': 1000}\n",
            "Eval Metrics (Validation): {'accuracy': 0.8732941, 'accuracy_baseline': 0.5294118, 'auc': 0.94063044, 'auc_precision_recall': 0.92717016, 'average_loss': 0.3094622, 'label/mean': 0.47058824, 'loss': 39.55532, 'precision': 0.8555961, 'prediction/mean': 0.4741908, 'recall': 0.879125, 'global_step': 1000}\n",
            "----------------------------------------------------------------------------------------------------\n",
            "Training for step = 1000\n",
            "Train Time (s): 8.55694580078125\n",
            "Eval Metrics (Train): {'accuracy': 0.8732353, 'accuracy_baseline': 0.5294118, 'auc': 0.9414722, 'auc_precision_recall': 0.9289502, 'average_loss': 0.30788067, 'label/mean': 0.47058824, 'loss': 39.390186, 'precision': 0.8567178, 'prediction/mean': 0.47467804, 'recall': 0.8773594, 'global_step': 1500}\n",
            "Eval Metrics (Validation): {'accuracy': 0.8760588, 'accuracy_baseline': 0.5294118, 'auc': 0.9427394, 'auc_precision_recall': 0.9295088, 'average_loss': 0.30414537, 'label/mean': 0.47058824, 'loss': 38.875725, 'precision': 0.85745484, 'prediction/mean': 0.47474983, 'recall': 0.8835, 'global_step': 1500}\n",
            "----------------------------------------------------------------------------------------------------\n",
            "Training for step = 1500\n",
            "Train Time (s): 8.493235349655151\n",
            "Eval Metrics (Train): {'accuracy': 0.87575734, 'accuracy_baseline': 0.5294118, 'auc': 0.9434231, 'auc_precision_recall': 0.9311358, 'average_loss': 0.30267262, 'label/mean': 0.47058824, 'loss': 38.723873, 'precision': 0.86803246, 'prediction/mean': 0.4633173, 'recall': 0.8679375, 'global_step': 2000}\n",
            "Eval Metrics (Validation): {'accuracy': 0.87782353, 'accuracy_baseline': 0.5294118, 'auc': 0.94408625, 'auc_precision_recall': 0.93108076, 'average_loss': 0.3004054, 'label/mean': 0.47058824, 'loss': 38.397686, 'precision': 0.86738616, 'prediction/mean': 0.4634887, 'recall': 0.874, 'global_step': 2000}\n",
            "\n",
            "====================================================================================================\n",
            "Training with https://tfhub.dev/google/nnlm-en-dim128/1\n",
            "Trainable is: True\n",
            "====================================================================================================\n",
            "----------------------------------------------------------------------------------------------------\n",
            "Training for step = 0\n",
            "Train Time (s): 16.16474413871765\n",
            "Eval Metrics (Train): {'accuracy': 0.9046103, 'accuracy_baseline': 0.5294118, 'auc': 0.9609759, 'auc_precision_recall': 0.9495245, 'average_loss': 0.24923596, 'label/mean': 0.47058824, 'loss': 31.887196, 'precision': 0.8891329, 'prediction/mean': 0.47262907, 'recall': 0.910875, 'global_step': 500}\n",
            "Eval Metrics (Validation): {'accuracy': 0.8948824, 'accuracy_baseline': 0.5294118, 'auc': 0.9549424, 'auc_precision_recall': 0.9419008, 'average_loss': 0.2677718, 'label/mean': 0.47058824, 'loss': 34.22647, 'precision': 0.87851834, 'prediction/mean': 0.47368762, 'recall': 0.90125, 'global_step': 500}\n",
            "----------------------------------------------------------------------------------------------------\n",
            "Training for step = 500\n",
            "Train Time (s): 14.9237802028656\n",
            "Eval Metrics (Train): {'accuracy': 0.9184485, 'accuracy_baseline': 0.5294118, 'auc': 0.9688535, 'auc_precision_recall': 0.9587698, 'average_loss': 0.22156288, 'label/mean': 0.47058824, 'loss': 28.346708, 'precision': 0.89827317, 'prediction/mean': 0.47791627, 'recall': 0.93228126, 'global_step': 1000}\n",
            "Eval Metrics (Validation): {'accuracy': 0.89770585, 'accuracy_baseline': 0.5294118, 'auc': 0.9570844, 'auc_precision_recall': 0.9442896, 'average_loss': 0.26117212, 'label/mean': 0.47058824, 'loss': 33.3829, 'precision': 0.87441695, 'prediction/mean': 0.47977924, 'recall': 0.913875, 'global_step': 1000}\n",
            "----------------------------------------------------------------------------------------------------\n",
            "Training for step = 1000\n",
            "Train Time (s): 14.853930234909058\n",
            "Eval Metrics (Train): {'accuracy': 0.927625, 'accuracy_baseline': 0.5294118, 'auc': 0.9736369, 'auc_precision_recall': 0.9643808, 'average_loss': 0.19944221, 'label/mean': 0.47058824, 'loss': 25.516596, 'precision': 0.91609937, 'prediction/mean': 0.46716166, 'recall': 0.93151563, 'global_step': 1500}\n",
            "Eval Metrics (Validation): {'accuracy': 0.8988235, 'accuracy_baseline': 0.5294118, 'auc': 0.9577737, 'auc_precision_recall': 0.9449558, 'average_loss': 0.26123914, 'label/mean': 0.47058824, 'loss': 33.391468, 'precision': 0.8838631, 'prediction/mean': 0.4692017, 'recall': 0.90375, 'global_step': 1500}\n",
            "----------------------------------------------------------------------------------------------------\n",
            "Training for step = 1500\n",
            "Train Time (s): 13.894752979278564\n",
            "Eval Metrics (Train): {'accuracy': 0.93555146, 'accuracy_baseline': 0.5294118, 'auc': 0.97739905, 'auc_precision_recall': 0.9692153, 'average_loss': 0.18258837, 'label/mean': 0.47058824, 'loss': 23.360317, 'precision': 0.92334104, 'prediction/mean': 0.4682543, 'recall': 0.9411875, 'global_step': 2000}\n",
            "Eval Metrics (Validation): {'accuracy': 0.8983529, 'accuracy_baseline': 0.5294118, 'auc': 0.95744336, 'auc_precision_recall': 0.94540155, 'average_loss': 0.26543304, 'label/mean': 0.47058824, 'loss': 33.927532, 'precision': 0.8833741, 'prediction/mean': 0.47009483, 'recall': 0.90325, 'global_step': 2000}\n",
            "\n",
            "====================================================================================================\n",
            "Training with https://tfhub.dev/google/universal-sentence-encoder/2\n",
            "Trainable is: False\n",
            "====================================================================================================\n",
            "----------------------------------------------------------------------------------------------------\n",
            "Training for step = 0\n",
            "Train Time (s): 61.84771275520325\n",
            "Eval Metrics (Train): {'accuracy': 0.8985735, 'accuracy_baseline': 0.5294118, 'auc': 0.9579031, 'auc_precision_recall': 0.94696236, 'average_loss': 0.25871572, 'label/mean': 0.47058824, 'loss': 33.100033, 'precision': 0.87654877, 'prediction/mean': 0.48048854, 'recall': 0.9130625, 'global_step': 500}\n",
            "Eval Metrics (Validation): {'accuracy': 0.9028235, 'accuracy_baseline': 0.5294118, 'auc': 0.9593856, 'auc_precision_recall': 0.9457209, 'average_loss': 0.25257942, 'label/mean': 0.47058824, 'loss': 32.284588, 'precision': 0.8776773, 'prediction/mean': 0.48159495, 'recall': 0.922, 'global_step': 500}\n",
            "----------------------------------------------------------------------------------------------------\n",
            "Training for step = 500\n",
            "Train Time (s): 60.118387937545776\n",
            "Eval Metrics (Train): {'accuracy': 0.90389705, 'accuracy_baseline': 0.5294118, 'auc': 0.96126986, 'auc_precision_recall': 0.951169, 'average_loss': 0.24765654, 'label/mean': 0.47058824, 'loss': 31.685125, 'precision': 0.8858333, 'prediction/mean': 0.47560862, 'recall': 0.9135156, 'global_step': 1000}\n",
            "Eval Metrics (Validation): {'accuracy': 0.9066471, 'accuracy_baseline': 0.5294118, 'auc': 0.9618174, 'auc_precision_recall': 0.9490505, 'average_loss': 0.24401565, 'label/mean': 0.47058824, 'loss': 31.18997, 'precision': 0.88599974, 'prediction/mean': 0.4768205, 'recall': 0.92, 'global_step': 1000}\n",
            "----------------------------------------------------------------------------------------------------\n",
            "Training for step = 1000\n",
            "Train Time (s): 59.15179181098938\n",
            "Eval Metrics (Train): {'accuracy': 0.9066471, 'accuracy_baseline': 0.5294118, 'auc': 0.963257, 'auc_precision_recall': 0.95374584, 'average_loss': 0.24195209, 'label/mean': 0.47058824, 'loss': 30.955301, 'precision': 0.8833119, 'prediction/mean': 0.48358592, 'recall': 0.9236406, 'global_step': 1500}\n",
            "Eval Metrics (Validation): {'accuracy': 0.9083529, 'accuracy_baseline': 0.5294118, 'auc': 0.9632897, 'auc_precision_recall': 0.95156825, 'average_loss': 0.24027297, 'label/mean': 0.47058824, 'loss': 30.711582, 'precision': 0.8827234, 'prediction/mean': 0.48442382, 'recall': 0.928625, 'global_step': 1500}\n",
            "----------------------------------------------------------------------------------------------------\n",
            "Training for step = 1500\n",
            "Train Time (s): 57.08369016647339\n",
            "Eval Metrics (Train): {'accuracy': 0.90881616, 'accuracy_baseline': 0.5294118, 'auc': 0.96455747, 'auc_precision_recall': 0.955112, 'average_loss': 0.23684047, 'label/mean': 0.47058824, 'loss': 30.301321, 'precision': 0.8883771, 'prediction/mean': 0.48056448, 'recall': 0.92209375, 'global_step': 2000}\n",
            "Eval Metrics (Validation): {'accuracy': 0.9094118, 'accuracy_baseline': 0.5294118, 'auc': 0.96416277, 'auc_precision_recall': 0.952371, 'average_loss': 0.23688853, 'label/mean': 0.47058824, 'loss': 30.278984, 'precision': 0.88617885, 'prediction/mean': 0.48142782, 'recall': 0.9265, 'global_step': 2000}\n",
            "\n",
            "====================================================================================================\n",
            "Training with https://tfhub.dev/google/universal-sentence-encoder/2\n",
            "Trainable is: True\n",
            "====================================================================================================\n",
            "----------------------------------------------------------------------------------------------------\n",
            "Training for step = 0\n",
            "Train Time (s): 74.78012752532959\n",
            "Eval Metrics (Train): {'accuracy': 0.95252943, 'accuracy_baseline': 0.5294118, 'auc': 0.98496145, 'auc_precision_recall': 0.9795407, 'average_loss': 0.1500205, 'label/mean': 0.47058824, 'loss': 19.19359, 'precision': 0.9343337, 'prediction/mean': 0.471033, 'recall': 0.96709377, 'global_step': 500}\n",
            "Eval Metrics (Validation): {'accuracy': 0.91364706, 'accuracy_baseline': 0.5294118, 'auc': 0.96738744, 'auc_precision_recall': 0.9573637, 'average_loss': 0.22502221, 'label/mean': 0.47058824, 'loss': 28.762238, 'precision': 0.8917006, 'prediction/mean': 0.4727799, 'recall': 0.929375, 'global_step': 500}\n",
            "----------------------------------------------------------------------------------------------------\n",
            "Training for step = 500\n",
            "Train Time (s): 74.44218969345093\n",
            "Eval Metrics (Train): {'accuracy': 0.9839265, 'accuracy_baseline': 0.5294118, 'auc': 0.9960761, 'auc_precision_recall': 0.9943346, 'average_loss': 0.062313534, 'label/mean': 0.47058824, 'loss': 7.9723806, 'precision': 0.9769599, 'prediction/mean': 0.47316083, 'recall': 0.98917186, 'global_step': 1000}\n",
            "Eval Metrics (Validation): {'accuracy': 0.9099412, 'accuracy_baseline': 0.5294118, 'auc': 0.9638116, 'auc_precision_recall': 0.9541477, 'average_loss': 0.26003832, 'label/mean': 0.47058824, 'loss': 33.23798, 'precision': 0.897603, 'prediction/mean': 0.4743123, 'recall': 0.91275, 'global_step': 1000}\n",
            "----------------------------------------------------------------------------------------------------\n",
            "Training for step = 1000\n",
            "Train Time (s): 71.51546120643616\n",
            "Eval Metrics (Train): {'accuracy': 0.9939412, 'accuracy_baseline': 0.5294118, 'auc': 0.9991348, 'auc_precision_recall': 0.99888325, 'average_loss': 0.026283823, 'label/mean': 0.47058824, 'loss': 3.3627467, 'precision': 0.9899339, 'prediction/mean': 0.47008452, 'recall': 0.99726564, 'global_step': 1500}\n",
            "Eval Metrics (Validation): {'accuracy': 0.9094706, 'accuracy_baseline': 0.5294118, 'auc': 0.95981675, 'auc_precision_recall': 0.9498496, 'average_loss': 0.30178964, 'label/mean': 0.47058824, 'loss': 38.574615, 'precision': 0.8952649, 'prediction/mean': 0.4740327, 'recall': 0.914625, 'global_step': 1500}\n",
            "----------------------------------------------------------------------------------------------------\n",
            "Training for step = 1500\n",
            "Train Time (s): 75.93672919273376\n",
            "Eval Metrics (Train): {'accuracy': 0.99847794, 'accuracy_baseline': 0.5294118, 'auc': 0.999811, 'auc_precision_recall': 0.9997831, 'average_loss': 0.006927927, 'label/mean': 0.47058824, 'loss': 0.88635755, 'precision': 0.9973958, 'prediction/mean': 0.4707905, 'recall': 0.999375, 'global_step': 2000}\n",
            "Eval Metrics (Validation): {'accuracy': 0.90658826, 'accuracy_baseline': 0.5294118, 'auc': 0.9480542, 'auc_precision_recall': 0.9445886, 'average_loss': 0.41693518, 'label/mean': 0.47058824, 'loss': 53.292465, 'precision': 0.8929885, 'prediction/mean': 0.47751364, 'recall': 0.910625, 'global_step': 2000}\n"
          ],
          "name": "stdout"
        }
      ]
    },
    {
      "cell_type": "code",
      "metadata": {
        "id": "VcJ9aEuVNJJD",
        "colab_type": "code",
        "colab": {
          "base_uri": "https://localhost:8080/",
          "height": 258
        },
        "outputId": "8536137a-bac2-4d09-a2e4-54d7b62df741"
      },
      "source": [
        "results_df = pd.DataFrame.from_dict(results, orient=\"index\")\n",
        "results_df"
      ],
      "execution_count": 40,
      "outputs": [
        {
          "output_type": "execute_result",
          "data": {
            "text/html": [
              "<div>\n",
              "<style scoped>\n",
              "    .dataframe tbody tr th:only-of-type {\n",
              "        vertical-align: middle;\n",
              "    }\n",
              "\n",
              "    .dataframe tbody tr th {\n",
              "        vertical-align: top;\n",
              "    }\n",
              "\n",
              "    .dataframe thead th {\n",
              "        text-align: right;\n",
              "    }\n",
              "</style>\n",
              "<table border=\"1\" class=\"dataframe\">\n",
              "  <thead>\n",
              "    <tr style=\"text-align: right;\">\n",
              "      <th></th>\n",
              "      <th>Model Dir</th>\n",
              "      <th>Training Accuracy</th>\n",
              "      <th>Test Accuracy</th>\n",
              "      <th>Training AUC</th>\n",
              "      <th>Test AUC</th>\n",
              "      <th>Training Precision</th>\n",
              "      <th>Test Precision</th>\n",
              "      <th>Training Recall</th>\n",
              "      <th>Test Recall</th>\n",
              "    </tr>\n",
              "  </thead>\n",
              "  <tbody>\n",
              "    <tr>\n",
              "      <th>nnlm-en-dim128</th>\n",
              "      <td>/storage/models/nnlm-en-dim128_f/</td>\n",
              "      <td>0.875757</td>\n",
              "      <td>0.873588</td>\n",
              "      <td>0.943423</td>\n",
              "      <td>0.941957</td>\n",
              "      <td>0.868032</td>\n",
              "      <td>0.866466</td>\n",
              "      <td>0.867938</td>\n",
              "      <td>0.864625</td>\n",
              "    </tr>\n",
              "    <tr>\n",
              "      <th>nnlm-en-dim128-with-training</th>\n",
              "      <td>/storage/models/nnlm-en-dim128_t/</td>\n",
              "      <td>0.935551</td>\n",
              "      <td>0.896176</td>\n",
              "      <td>0.977399</td>\n",
              "      <td>0.956527</td>\n",
              "      <td>0.923341</td>\n",
              "      <td>0.887123</td>\n",
              "      <td>0.941188</td>\n",
              "      <td>0.893000</td>\n",
              "    </tr>\n",
              "    <tr>\n",
              "      <th>use-512</th>\n",
              "      <td>/storage/models/use-512_f/</td>\n",
              "      <td>0.908816</td>\n",
              "      <td>0.909588</td>\n",
              "      <td>0.964557</td>\n",
              "      <td>0.963730</td>\n",
              "      <td>0.888377</td>\n",
              "      <td>0.892697</td>\n",
              "      <td>0.922094</td>\n",
              "      <td>0.918250</td>\n",
              "    </tr>\n",
              "    <tr>\n",
              "      <th>use-512-with-training</th>\n",
              "      <td>/storage/models/use-512_t/</td>\n",
              "      <td>0.998478</td>\n",
              "      <td>0.903059</td>\n",
              "      <td>0.999811</td>\n",
              "      <td>0.946871</td>\n",
              "      <td>0.997396</td>\n",
              "      <td>0.894338</td>\n",
              "      <td>0.999375</td>\n",
              "      <td>0.900375</td>\n",
              "    </tr>\n",
              "  </tbody>\n",
              "</table>\n",
              "</div>"
            ],
            "text/plain": [
              "                                                      Model Dir  ...  Test Recall\n",
              "nnlm-en-dim128                /storage/models/nnlm-en-dim128_f/  ...     0.864625\n",
              "nnlm-en-dim128-with-training  /storage/models/nnlm-en-dim128_t/  ...     0.893000\n",
              "use-512                              /storage/models/use-512_f/  ...     0.918250\n",
              "use-512-with-training                /storage/models/use-512_t/  ...     0.900375\n",
              "\n",
              "[4 rows x 9 columns]"
            ]
          },
          "metadata": {
            "tags": []
          },
          "execution_count": 40
        }
      ]
    },
    {
      "cell_type": "code",
      "metadata": {
        "id": "0XjbyU_FNJGv",
        "colab_type": "code",
        "colab": {
          "base_uri": "https://localhost:8080/",
          "height": 34
        },
        "outputId": "07793be3-f13f-4e24-db61-27a9cd5a67a2"
      },
      "source": [
        "best_model_dir = results_df[results_df['Test Accuracy'] == results_df['Test Accuracy'].max()]['Model Dir'].values[0]\n",
        "best_model_dir"
      ],
      "execution_count": 41,
      "outputs": [
        {
          "output_type": "execute_result",
          "data": {
            "text/plain": [
              "'/storage/models/use-512_f/'"
            ]
          },
          "metadata": {
            "tags": []
          },
          "execution_count": 41
        }
      ]
    },
    {
      "cell_type": "code",
      "metadata": {
        "id": "fOR2O0DJwVIJ",
        "colab_type": "code",
        "colab": {
          "base_uri": "https://localhost:8080/",
          "height": 68
        },
        "outputId": "1af057a3-2605-4351-c5c7-067f989dcada"
      },
      "source": [
        "!ls /"
      ],
      "execution_count": 58,
      "outputs": [
        {
          "output_type": "stream",
          "text": [
            "bin\t datalab  home\t lib64\topt   run   storage  tensorflow-2.0.0b1  usr\n",
            "boot\t dev\t  lib\t media\tproc  sbin  swift    tmp\t\t var\n",
            "content  etc\t  lib32  mnt\troot  srv   sys      tools\n"
          ],
          "name": "stdout"
        }
      ]
    },
    {
      "cell_type": "code",
      "metadata": {
        "id": "GWiyoPTxNzkM",
        "colab_type": "code",
        "colab": {
          "base_uri": "https://localhost:8080/",
          "height": 34
        },
        "outputId": "2883b4a9-1e61-4db5-b2bc-11139b4a2758"
      },
      "source": [
        "embedding_feature = hub.text_embedding_column(\n",
        "        key='sentence', module_spec=\"https://tfhub.dev/google/universal-sentence-encoder/2\", trainable=True)\n",
        "\n",
        "dnn = tf.estimator.DNNClassifier(\n",
        "            hidden_units=[512, 128],\n",
        "            feature_columns=[embedding_feature],\n",
        "            n_classes=2,\n",
        "            activation_fn=tf.nn.relu,\n",
        "            dropout=0.1,\n",
        "            optimizer=tf.train.AdagradOptimizer(learning_rate=0.005),\n",
        "            model_dir=best_model_dir)\n",
        "dnn"
      ],
      "execution_count": 42,
      "outputs": [
        {
          "output_type": "execute_result",
          "data": {
            "text/plain": [
              "<tensorflow_estimator.python.estimator.canned.dnn.DNNClassifier at 0x7f8309c898d0>"
            ]
          },
          "metadata": {
            "tags": []
          },
          "execution_count": 42
        }
      ]
    },
    {
      "cell_type": "code",
      "metadata": {
        "id": "rX3MKUeUNzqW",
        "colab_type": "code",
        "colab": {}
      },
      "source": [
        "def get_predictions(estimator, input_fn):\n",
        "    return [x[\"class_ids\"][0] for x in estimator.predict(input_fn=input_fn)]"
      ],
      "execution_count": 0,
      "outputs": []
    },
    {
      "cell_type": "code",
      "metadata": {
        "id": "Z0nUFj-JNzn2",
        "colab_type": "code",
        "colab": {
          "base_uri": "https://localhost:8080/",
          "height": 34
        },
        "outputId": "184ab6b0-d769-4ac4-c696-07bae1b23503"
      },
      "source": [
        "predictions = get_predictions(estimator=dnn, input_fn=predict_test_input_fn)\n",
        "predictions[:10]"
      ],
      "execution_count": 44,
      "outputs": [
        {
          "output_type": "execute_result",
          "data": {
            "text/plain": [
              "[0, 0, 0, 0, 1, 0, 1, 0, 1, 0]"
            ]
          },
          "metadata": {
            "tags": []
          },
          "execution_count": 44
        }
      ]
    },
    {
      "cell_type": "code",
      "metadata": {
        "id": "Rzj8w-j3NJAg",
        "colab_type": "code",
        "colab": {
          "base_uri": "https://localhost:8080/",
          "height": 283
        },
        "outputId": "4ce13ce3-425f-4f5b-8e0d-7e0e25a06644"
      },
      "source": [
        "import seaborn as sns\n",
        "import matplotlib.pyplot as plt\n",
        "\n",
        "%matplotlib inline\n",
        "\n",
        "with tf.Session() as session:\n",
        "    cm = tf.confusion_matrix(test_sentiments, predictions).eval()\n",
        "\n",
        "LABELS = ['negative', 'positive']\n",
        "sns.heatmap(cm, annot=True, xticklabels=LABELS, yticklabels=LABELS, fmt='g')\n",
        "xl = plt.xlabel(\"Predicted\")\n",
        "yl = plt.ylabel(\"Actuals\")"
      ],
      "execution_count": 45,
      "outputs": [
        {
          "output_type": "display_data",
          "data": {
            "image/png": "[encoded data removed]",
            "text/plain": [
              "<Figure size 432x288 with 2 Axes>"
            ]
          },
          "metadata": {
            "tags": []
          }
        }
      ]
    },
    {
      "cell_type": "code",
      "metadata": {
        "id": "SsBH9eKVOAjW",
        "colab_type": "code",
        "colab": {
          "base_uri": "https://localhost:8080/",
          "height": 170
        },
        "outputId": "74104e31-c770-4522-f6ce-fa8f761b2d9d"
      },
      "source": [
        "from sklearn.metrics import classification_report\n",
        "\n",
        "print(classification_report(y_true=test_sentiments, y_pred=predictions, target_names=LABELS))"
      ],
      "execution_count": 46,
      "outputs": [
        {
          "output_type": "stream",
          "text": [
            "              precision    recall  f1-score   support\n",
            "\n",
            "    negative       0.93      0.90      0.91      9000\n",
            "    positive       0.89      0.92      0.91      8000\n",
            "\n",
            "    accuracy                           0.91     17000\n",
            "   macro avg       0.91      0.91      0.91     17000\n",
            "weighted avg       0.91      0.91      0.91     17000\n",
            "\n"
          ],
          "name": "stdout"
        }
      ]
    },
    {
      "cell_type": "code",
      "metadata": {
        "id": "_hrpiT2tOAx9",
        "colab_type": "code",
        "colab": {}
      },
      "source": [
        ""
      ],
      "execution_count": 0,
      "outputs": []
    },
    {
      "cell_type": "code",
      "metadata": {
        "id": "im7QJ2BJOAuz",
        "colab_type": "code",
        "colab": {}
      },
      "source": [
        ""
      ],
      "execution_count": 0,
      "outputs": []
    },
    {
      "cell_type": "markdown",
      "metadata": {
        "id": "9SIYbanDMLJn",
        "colab_type": "text"
      },
      "source": [
        "#11. pre-trained LM  (FastAI/ULMFiT)"
      ]
    },
    {
      "cell_type": "code",
      "metadata": {
        "id": "cj_hLWlefrdg",
        "colab_type": "code",
        "colab": {}
      },
      "source": [
        "## use raw data ?\n",
        "# fast ai need minimum text preprocessing  should we used raw data ? \n",
        "\n",
        "trn_texts = X_train_s.values\n",
        "trn_labels = y_train_s.values\n",
        "val_texts = X_test_s.values\n",
        "val_labels = y_test_s.values\n",
        "\n",
        "\n",
        "np.random.seed(42)\n",
        "trn_idx = np.random.permutation(len(trn_texts))\n",
        "val_idx = np.random.permutation(len(val_texts))\n",
        "trn_texts = trn_texts[trn_idx]\n",
        "val_texts = val_texts[val_idx]\n",
        "trn_labels = trn_labels[trn_idx]\n",
        "val_labels = val_labels[val_idx]\n",
        "col_names = ['labels','text']\n",
        "df_trn = pd.DataFrame({'text':trn_texts, 'labels':trn_labels}, columns=col_names)\n",
        "df_val = pd.DataFrame({'text':val_texts, 'labels':val_labels}, columns=col_names)"
      ],
      "execution_count": 0,
      "outputs": []
    },
    {
      "cell_type": "code",
      "metadata": {
        "id": "ujMWclefxwOm",
        "colab_type": "code",
        "colab": {}
      },
      "source": [
        "# Language model data\n",
        "data_lm = TextLMDataBunch.from_df(path+'fastai', train_df=df_trn, valid_df=df_val)"
      ],
      "execution_count": 0,
      "outputs": []
    },
    {
      "cell_type": "code",
      "metadata": {
        "id": "-lGQ_K0NzsGk",
        "colab_type": "code",
        "colab": {}
      },
      "source": [
        "#data_lm.show_batch()"
      ],
      "execution_count": 0,
      "outputs": []
    },
    {
      "cell_type": "code",
      "metadata": {
        "id": "4OfMg6n0z8SE",
        "colab_type": "code",
        "colab": {}
      },
      "source": [
        "#data_lm.vocab.itos[:20]"
      ],
      "execution_count": 0,
      "outputs": []
    },
    {
      "cell_type": "code",
      "metadata": {
        "id": "UT5Xw2tc0FmH",
        "colab_type": "code",
        "colab": {}
      },
      "source": [
        "# save and load\n",
        "data_lm.save('tmp_lm') # so we can load back forward and backward\n"
      ],
      "execution_count": 0,
      "outputs": []
    },
    {
      "cell_type": "code",
      "metadata": {
        "id": "667B-QYi6ywa",
        "colab_type": "code",
        "colab": {
          "base_uri": "https://localhost:8080/",
          "height": 731
        },
        "outputId": "94ebb2cf-5e39-433e-8aee-4f30745dd789"
      },
      "source": [
        "#data_lm = TextClasDataBunch.load(path+'fastai', 'tmp_lm')\n",
        "data_lm_test = load_data(path+'fastai', 'tmp_lm') #forward\n",
        "data_lm_test.show_batch()\n",
        "data_bwd_test = load_data(path+'fastai', 'tmp_lm',backwards=True) #backward\n",
        "data_bwd_test.show_batch()\n",
        "\n"
      ],
      "execution_count": 50,
      "outputs": [
        {
          "output_type": "display_data",
          "data": {
            "text/html": [
              "<table border=\"1\" class=\"dataframe\">\n",
              "  <thead>\n",
              "    <tr style=\"text-align: right;\">\n",
              "      <th>idx</th>\n",
              "      <th>text</th>\n",
              "    </tr>\n",
              "  </thead>\n",
              "  <tbody>\n",
              "    <tr>\n",
              "      <td>0</td>\n",
              "      <td>clinton from draft dodging xxbos how can i be less introvert xxbos how much time does it take to burn alive when a litre of gasoline is used xxbos do people who hate donald trump think hillary clinton would have been a good president or simply the lesser of two evils xxbos are small nuclear missiles good for counter battery fire xxbos is it easier to loose weight at sea</td>\n",
              "    </tr>\n",
              "    <tr>\n",
              "      <td>1</td>\n",
              "      <td>related to ipl matches xxbos if your child was sick and no treatments helped would you let them decide their fate xxbos do you have to stay in the usa for the entire duration of a j1 visa or can you leave early and not return xxbos what are some of the things that we should never tell anybody in our lives xxbos why do idiots believe that xxunk exists</td>\n",
              "    </tr>\n",
              "    <tr>\n",
              "      <td>2</td>\n",
              "      <td>of the sudden what should i do xxbos which is the best american football league in europe xxbos what are some literary devices found in xxunk wally xxunk poems xxbos why does not looks matter any more in bollywood as proved by xxunk xxunk or zakir khan xxbos why does mouth of muslims shuts up when hindus are killed in west bengal i am searching for secularism xxbos does not</td>\n",
              "    </tr>\n",
              "    <tr>\n",
              "      <td>3</td>\n",
              "      <td>what is your plan for the overwhelming burden of hydro costs in ontario xxbos why do i never want to hear you say i want it that way xxbos if more and more people move to new zealand because they believe it is an apocalyptic xxunk do you think this could make it an undesirable place to live in the future xxbos how are indian writers generally perceived by clients</td>\n",
              "    </tr>\n",
              "    <tr>\n",
              "      <td>4</td>\n",
              "      <td>people die out and are replaced by other people xxbos what would happen to a colony on the moon if earth was destroyed xxbos what is the best to purchase a handgun in california xxbos is not it gay for a woman to watch porn with a guy and a girl xxbos what is the fastest way my tunisian boyfriend can get a green card xxbos how can evangelicals vote</td>\n",
              "    </tr>\n",
              "  </tbody>\n",
              "</table>"
            ],
            "text/plain": [
              "<IPython.core.display.HTML object>"
            ]
          },
          "metadata": {
            "tags": []
          }
        },
        {
          "output_type": "display_data",
          "data": {
            "text/html": [
              "<table border=\"1\" class=\"dataframe\">\n",
              "  <thead>\n",
              "    <tr style=\"text-align: right;\">\n",
              "      <th>idx</th>\n",
              "      <th>text</th>\n",
              "    </tr>\n",
              "  </thead>\n",
              "  <tbody>\n",
              "    <tr>\n",
              "      <td>0</td>\n",
              "      <td>fuck to chance a get you if xxbos women like act will men when end feminism will xxbos languages learning and traveling to related profession the is what xxbos made spacex was how xxbos world the in evil the all blame to atheists for scapegoat a god is xxbos understood become i that so xxunk better a become i do how me to obvious seem which people other to things</td>\n",
              "    </tr>\n",
              "    <tr>\n",
              "      <td>1</td>\n",
              "      <td>for worthwhile something do blm not does why xxbos emergency other or fire a is there if incarcerated those to happens what xxbos germany frankfurt in live to need you do much how xxbos male a was xxunk sarah and female a was reese kyle if better been have it would terminator the in xxbos bill electric the reduce that condition xxunk work inverter the how xxbos readers lifelong nurture</td>\n",
              "    </tr>\n",
              "    <tr>\n",
              "      <td>2</td>\n",
              "      <td>for cancer a islam is xxbos people many kill to shown been has it if used still vaccine tetanus xxunk xxunk xxunk the is why xxbos corporates for websites legal of use the is what xxbos person inteligent an of characteristics the are what xxbos india in purchase for available not disks hard ssd internal are why xxbos bible or catholicism their using argues filipino do why xxbos york new</td>\n",
              "    </tr>\n",
              "    <tr>\n",
              "      <td>3</td>\n",
              "      <td>weaponizing feminazis are why xxbos effect franklin benjamin the behind truth any there is xxbos india of image projected governments indian the in reflected highly is jingoism indian north statement the in is believe you do truth much how xxbos drinking been has texting am i person the if know i do how xxbos president he is why stupid is trump and liberals smart many so are there if xxbos</td>\n",
              "    </tr>\n",
              "    <tr>\n",
              "      <td>4</td>\n",
              "      <td>start i can how xxbos included meat no eggs is protein of source primary my and diet keto a on am i if day a in consume i should whole eggs many how xxbos not are they if them about say it does what own their than other country a in xxunk and come immigrants legal towards accepting or open be to xxunk an for beneficial it is xxbos xxunk</td>\n",
              "    </tr>\n",
              "  </tbody>\n",
              "</table>"
            ],
            "text/plain": [
              "<IPython.core.display.HTML object>"
            ]
          },
          "metadata": {
            "tags": []
          }
        }
      ]
    },
    {
      "cell_type": "markdown",
      "metadata": {
        "id": "1Esvt4V8mvrB",
        "colab_type": "text"
      },
      "source": [
        "![alt text](https://miro.medium.com/max/1400/1*9J_7_aT_D7b-AcKtv5NPOQ.png)"
      ]
    },
    {
      "cell_type": "code",
      "metadata": {
        "id": "b6eoDmow0szx",
        "colab_type": "code",
        "colab": {}
      },
      "source": [
        "# Language model\n",
        "learner = language_model_learner(data_lm, AWD_LSTM, drop_mult=0.5)\n",
        "#learner = learner.to_fp16(clip=0.1)"
      ],
      "execution_count": 0,
      "outputs": []
    },
    {
      "cell_type": "code",
      "metadata": {
        "id": "iZ2EcT6P0swu",
        "colab_type": "code",
        "colab": {
          "base_uri": "https://localhost:8080/",
          "height": 34
        },
        "outputId": "4dd8ac03-b475-47a8-da96-afaed14bd0bf"
      },
      "source": [
        "learner.lr_find()"
      ],
      "execution_count": 52,
      "outputs": [
        {
          "output_type": "display_data",
          "data": {
            "text/html": [
              ""
            ],
            "text/plain": [
              "<IPython.core.display.HTML object>"
            ]
          },
          "metadata": {
            "tags": []
          }
        },
        {
          "output_type": "stream",
          "text": [
            "LR Finder is complete, type {learner_name}.recorder.plot() to see the graph.\n"
          ],
          "name": "stdout"
        }
      ]
    },
    {
      "cell_type": "code",
      "metadata": {
        "id": "opun8T-e0stf",
        "colab_type": "code",
        "colab": {
          "base_uri": "https://localhost:8080/",
          "height": 283
        },
        "outputId": "b7a8c139-637c-46a6-b57e-b2d3bf844467"
      },
      "source": [
        "learner.recorder.plot()"
      ],
      "execution_count": 179,
      "outputs": [
        {
          "output_type": "display_data",
          "data": {
            "image/png": "[encoded data removed]",
            "text/plain": [
              "<Figure size 432x288 with 1 Axes>"
            ]
          },
          "metadata": {
            "tags": []
          }
        }
      ]
    },
    {
      "cell_type": "code",
      "metadata": {
        "id": "w_oeaHAW0sqc",
        "colab_type": "code",
        "colab": {
          "base_uri": "https://localhost:8080/",
          "height": 80
        },
        "outputId": "eff029a5-39f2-4476-d7dc-c57f2cd5c062"
      },
      "source": [
        "learner.fit_one_cycle(1, 1e-2)"
      ],
      "execution_count": 53,
      "outputs": [
        {
          "output_type": "display_data",
          "data": {
            "text/html": [
              "<table border=\"1\" class=\"dataframe\">\n",
              "  <thead>\n",
              "    <tr style=\"text-align: left;\">\n",
              "      <th>epoch</th>\n",
              "      <th>train_loss</th>\n",
              "      <th>valid_loss</th>\n",
              "      <th>accuracy</th>\n",
              "      <th>time</th>\n",
              "    </tr>\n",
              "  </thead>\n",
              "  <tbody>\n",
              "    <tr>\n",
              "      <td>0</td>\n",
              "      <td>4.842989</td>\n",
              "      <td>4.582369</td>\n",
              "      <td>0.243549</td>\n",
              "      <td>04:31</td>\n",
              "    </tr>\n",
              "  </tbody>\n",
              "</table>"
            ],
            "text/plain": [
              "<IPython.core.display.HTML object>"
            ]
          },
          "metadata": {
            "tags": []
          }
        }
      ]
    },
    {
      "cell_type": "code",
      "metadata": {
        "id": "b8Vj9gP55zWJ",
        "colab_type": "code",
        "colab": {
          "base_uri": "https://localhost:8080/",
          "height": 283
        },
        "outputId": "71ee3e7d-b89e-40b5-f2ba-03952dc8613c"
      },
      "source": [
        "learner.recorder.plot_lr(show_moms=True)"
      ],
      "execution_count": 181,
      "outputs": [
        {
          "output_type": "display_data",
          "data": {
            "image/png": "[encoded data removed]",
            "text/plain": [
              "<Figure size 864x288 with 2 Axes>"
            ]
          },
          "metadata": {
            "tags": []
          }
        }
      ]
    },
    {
      "cell_type": "code",
      "metadata": {
        "id": "WKh6kzbE0sno",
        "colab_type": "code",
        "colab": {
          "base_uri": "https://localhost:8080/",
          "height": 80
        },
        "outputId": "b99bd12e-2dea-46b9-ea77-17fbfa90e954"
      },
      "source": [
        "learner.unfreeze()\n",
        "learner.fit_one_cycle(1, 1e-3)"
      ],
      "execution_count": 54,
      "outputs": [
        {
          "output_type": "display_data",
          "data": {
            "text/html": [
              "<table border=\"1\" class=\"dataframe\">\n",
              "  <thead>\n",
              "    <tr style=\"text-align: left;\">\n",
              "      <th>epoch</th>\n",
              "      <th>train_loss</th>\n",
              "      <th>valid_loss</th>\n",
              "      <th>accuracy</th>\n",
              "      <th>time</th>\n",
              "    </tr>\n",
              "  </thead>\n",
              "  <tbody>\n",
              "    <tr>\n",
              "      <td>0</td>\n",
              "      <td>4.367025</td>\n",
              "      <td>4.327241</td>\n",
              "      <td>0.267213</td>\n",
              "      <td>05:21</td>\n",
              "    </tr>\n",
              "  </tbody>\n",
              "</table>"
            ],
            "text/plain": [
              "<IPython.core.display.HTML object>"
            ]
          },
          "metadata": {
            "tags": []
          }
        }
      ]
    },
    {
      "cell_type": "code",
      "metadata": {
        "id": "5NhXRLjK191B",
        "colab_type": "code",
        "colab": {}
      },
      "source": [
        "learner.save_encoder('ft_enc')"
      ],
      "execution_count": 0,
      "outputs": []
    },
    {
      "cell_type": "code",
      "metadata": {
        "id": "MtmFaRoTOu-5",
        "colab_type": "code",
        "colab": {
          "base_uri": "https://localhost:8080/",
          "height": 422
        },
        "outputId": "41617e7c-d877-4f5d-d499-98b45927eae0"
      },
      "source": [
        "learner = language_model_learner(data_bwd_test, AWD_LSTM)\n",
        "#learner = learner.to_fp16(clip=0.1)\n",
        "#learner.fit_one_cycle(1, 2e-2, moms=(0.8,0.7), wd=0.1)\n",
        "learner.fit_one_cycle(1, 1e-2)\n",
        "learner.unfreeze()\n",
        "#learner.fit_one_cycle(10, 2e-3, moms=(0.8,0.7), wd=0.1)\n",
        "learner.fit_one_cycle(10, 1e-3)\n",
        "learner.save_encoder('bwd_enc')"
      ],
      "execution_count": 56,
      "outputs": [
        {
          "output_type": "display_data",
          "data": {
            "text/html": [
              "<table border=\"1\" class=\"dataframe\">\n",
              "  <thead>\n",
              "    <tr style=\"text-align: left;\">\n",
              "      <th>epoch</th>\n",
              "      <th>train_loss</th>\n",
              "      <th>valid_loss</th>\n",
              "      <th>accuracy</th>\n",
              "      <th>time</th>\n",
              "    </tr>\n",
              "  </thead>\n",
              "  <tbody>\n",
              "    <tr>\n",
              "      <td>0</td>\n",
              "      <td>5.061719</td>\n",
              "      <td>4.644216</td>\n",
              "      <td>0.276288</td>\n",
              "      <td>04:31</td>\n",
              "    </tr>\n",
              "  </tbody>\n",
              "</table>"
            ],
            "text/plain": [
              "<IPython.core.display.HTML object>"
            ]
          },
          "metadata": {
            "tags": []
          }
        },
        {
          "output_type": "display_data",
          "data": {
            "text/html": [
              "<table border=\"1\" class=\"dataframe\">\n",
              "  <thead>\n",
              "    <tr style=\"text-align: left;\">\n",
              "      <th>epoch</th>\n",
              "      <th>train_loss</th>\n",
              "      <th>valid_loss</th>\n",
              "      <th>accuracy</th>\n",
              "      <th>time</th>\n",
              "    </tr>\n",
              "  </thead>\n",
              "  <tbody>\n",
              "    <tr>\n",
              "      <td>0</td>\n",
              "      <td>4.654532</td>\n",
              "      <td>4.470479</td>\n",
              "      <td>0.294734</td>\n",
              "      <td>05:21</td>\n",
              "    </tr>\n",
              "    <tr>\n",
              "      <td>1</td>\n",
              "      <td>4.518621</td>\n",
              "      <td>4.361724</td>\n",
              "      <td>0.307725</td>\n",
              "      <td>05:21</td>\n",
              "    </tr>\n",
              "    <tr>\n",
              "      <td>2</td>\n",
              "      <td>4.412414</td>\n",
              "      <td>4.292455</td>\n",
              "      <td>0.315394</td>\n",
              "      <td>05:21</td>\n",
              "    </tr>\n",
              "    <tr>\n",
              "      <td>3</td>\n",
              "      <td>4.298453</td>\n",
              "      <td>4.247098</td>\n",
              "      <td>0.319950</td>\n",
              "      <td>05:21</td>\n",
              "    </tr>\n",
              "    <tr>\n",
              "      <td>4</td>\n",
              "      <td>4.196565</td>\n",
              "      <td>4.217056</td>\n",
              "      <td>0.323116</td>\n",
              "      <td>05:21</td>\n",
              "    </tr>\n",
              "    <tr>\n",
              "      <td>5</td>\n",
              "      <td>4.098351</td>\n",
              "      <td>4.200716</td>\n",
              "      <td>0.325011</td>\n",
              "      <td>05:22</td>\n",
              "    </tr>\n",
              "    <tr>\n",
              "      <td>6</td>\n",
              "      <td>4.010314</td>\n",
              "      <td>4.195939</td>\n",
              "      <td>0.326350</td>\n",
              "      <td>05:22</td>\n",
              "    </tr>\n",
              "    <tr>\n",
              "      <td>7</td>\n",
              "      <td>3.939846</td>\n",
              "      <td>4.191340</td>\n",
              "      <td>0.327126</td>\n",
              "      <td>05:22</td>\n",
              "    </tr>\n",
              "    <tr>\n",
              "      <td>8</td>\n",
              "      <td>3.903193</td>\n",
              "      <td>4.192837</td>\n",
              "      <td>0.327283</td>\n",
              "      <td>05:22</td>\n",
              "    </tr>\n",
              "    <tr>\n",
              "      <td>9</td>\n",
              "      <td>3.870728</td>\n",
              "      <td>4.194100</td>\n",
              "      <td>0.327357</td>\n",
              "      <td>05:22</td>\n",
              "    </tr>\n",
              "  </tbody>\n",
              "</table>"
            ],
            "text/plain": [
              "<IPython.core.display.HTML object>"
            ]
          },
          "metadata": {
            "tags": []
          }
        }
      ]
    },
    {
      "cell_type": "code",
      "metadata": {
        "id": "I7u8Ul0PxwLp",
        "colab_type": "code",
        "colab": {}
      },
      "source": [
        "# Classifier model data\n",
        "data_clas = TextClasDataBunch.from_df(path+'fastai', train_df=df_trn, valid_df=df_val, vocab=data_lm.train_ds.vocab, bs=32)"
      ],
      "execution_count": 0,
      "outputs": []
    },
    {
      "cell_type": "code",
      "metadata": {
        "id": "WGkMHbNNOu7e",
        "colab_type": "code",
        "colab": {
          "base_uri": "https://localhost:8080/",
          "height": 306
        },
        "outputId": "0d77dace-96e2-42e9-9e44-08d41b8a5c58"
      },
      "source": [
        "\n",
        "data_clas_bwd = TextClasDataBunch.from_df(path+'fastai', train_df=df_trn, valid_df=df_val, vocab=data_lm.train_ds.vocab, bs=32, backwards=True)\n",
        "data_clas_bwd.show_batch()"
      ],
      "execution_count": 58,
      "outputs": [
        {
          "output_type": "display_data",
          "data": {
            "text/html": [
              "<table border=\"1\" class=\"dataframe\">\n",
              "  <thead>\n",
              "    <tr style=\"text-align: right;\">\n",
              "      <th>text</th>\n",
              "      <th>target</th>\n",
              "    </tr>\n",
              "  </thead>\n",
              "  <tbody>\n",
              "    <tr>\n",
              "      <td>jesus not you as life your live and spirit and will own your improve and experience to want you not do be may it perfect however spirit elses someone of zombie a as living like you do that all and mine not will thy spirit own our suppressing and you into jesus of spirit the in inviting mean christian a being does you to xxbos</td>\n",
              "      <td>1</td>\n",
              "    </tr>\n",
              "    <tr>\n",
              "      <td>either right seem not does it hiding week a only for a job the in been have i them tell i do how but interview to want i offer this accepted i before applied i job nice a for interview an for asked got i and job new a started just have i xxbos</td>\n",
              "      <td>0</td>\n",
              "    </tr>\n",
              "    <tr>\n",
              "      <td>myself changing not am i no and fire on myself light could i angry so am i shit break to want and compassion no have bitch stupid every and myself shoot to want life and everyone hate up fed miserable bitter a am i angry being from die i can xxbos</td>\n",
              "      <td>1</td>\n",
              "    </tr>\n",
              "    <tr>\n",
              "      <td>he has do to going was he thought actually you what to curious am i it to pollution more adding is he basis daily a on tell can i best and swamp the drain to in trump voted you because is really swamp the think you do what supporters trump xxbos</td>\n",
              "      <td>1</td>\n",
              "    </tr>\n",
              "    <tr>\n",
              "      <td>media mainstream their from story the of third a getting only ever are they realize not they do search google a of page first the at digging stop just they do news the of truth simple the out find not can they that obtuse this really liberals are xxbos</td>\n",
              "      <td>1</td>\n",
              "    </tr>\n",
              "  </tbody>\n",
              "</table>"
            ],
            "text/plain": [
              "<IPython.core.display.HTML object>"
            ]
          },
          "metadata": {
            "tags": []
          }
        }
      ]
    },
    {
      "cell_type": "code",
      "metadata": {
        "id": "kH9GLwEtxwJI",
        "colab_type": "code",
        "colab": {
          "base_uri": "https://localhost:8080/",
          "height": 1000
        },
        "outputId": "ce42e6ff-f604-44b7-f65c-94dc36d58162"
      },
      "source": [
        "classifier = text_classifier_learner(data_clas, AWD_LSTM, drop_mult=0.5)\n",
        "classifier.load_encoder('ft_enc')"
      ],
      "execution_count": 59,
      "outputs": [
        {
          "output_type": "execute_result",
          "data": {
            "text/plain": [
              "RNNLearner(data=TextClasDataBunch;\n",
              "\n",
              "Train: LabelList (136000 items)\n",
              "x: TextList\n",
              "xxbos what could i call a robot for xxunk or first aid,xxbos do sp jains profile based interviews take place only in mumbai,xxbos are young white americans culture vultures,xxbos are jews bitter toward germany as a result of the xxunk,xxbos who was the to hit six in one over in ipl\n",
              "y: CategoryList\n",
              "0,0,1,1,0\n",
              "Path: /content/gdrive/My Drive/data/fastai;\n",
              "\n",
              "Valid: LabelList (17000 items)\n",
              "x: TextList\n",
              "xxbos should america take a decisive step against white nationalists and get tough by xxunk the death penalty against them when they eventually commit an act of violence,xxbos why did the russians murder litvinenko with xxunk instead of anonymously,xxbos can i publish a vietnamese language book on amazon,xxbos how can ethics be built into a business model,xxbos how can we download jio join app through app store it is not in apple store\n",
              "y: CategoryList\n",
              "1,1,0,0,0\n",
              "Path: /content/gdrive/My Drive/data/fastai;\n",
              "\n",
              "Test: None, model=SequentialRNN(\n",
              "  (0): MultiBatchEncoder(\n",
              "    (module): AWD_LSTM(\n",
              "      (encoder): Embedding(30888, 400, padding_idx=1)\n",
              "      (encoder_dp): EmbeddingDropout(\n",
              "        (emb): Embedding(30888, 400, padding_idx=1)\n",
              "      )\n",
              "      (rnns): ModuleList(\n",
              "        (0): WeightDropout(\n",
              "          (module): LSTM(400, 1152, batch_first=True)\n",
              "        )\n",
              "        (1): WeightDropout(\n",
              "          (module): LSTM(1152, 1152, batch_first=True)\n",
              "        )\n",
              "        (2): WeightDropout(\n",
              "          (module): LSTM(1152, 400, batch_first=True)\n",
              "        )\n",
              "      )\n",
              "      (input_dp): RNNDropout()\n",
              "      (hidden_dps): ModuleList(\n",
              "        (0): RNNDropout()\n",
              "        (1): RNNDropout()\n",
              "        (2): RNNDropout()\n",
              "      )\n",
              "    )\n",
              "  )\n",
              "  (1): PoolingLinearClassifier(\n",
              "    (layers): Sequential(\n",
              "      (0): BatchNorm1d(1200, eps=1e-05, momentum=0.1, affine=True, track_running_stats=True)\n",
              "      (1): Dropout(p=0.2)\n",
              "      (2): Linear(in_features=1200, out_features=50, bias=True)\n",
              "      (3): ReLU(inplace)\n",
              "      (4): BatchNorm1d(50, eps=1e-05, momentum=0.1, affine=True, track_running_stats=True)\n",
              "      (5): Dropout(p=0.1)\n",
              "      (6): Linear(in_features=50, out_features=2, bias=True)\n",
              "    )\n",
              "  )\n",
              "), opt_func=functools.partial(<class 'torch.optim.adam.Adam'>, betas=(0.9, 0.99)), loss_func=FlattenedLoss of CrossEntropyLoss(), metrics=[<function accuracy at 0x7f839a7afd08>], true_wd=True, bn_wd=True, wd=0.01, train_bn=True, path=PosixPath('/content/gdrive/My Drive/data/fastai'), model_dir='models', callback_fns=[functools.partial(<class 'fastai.basic_train.Recorder'>, add_time=True, silent=False)], callbacks=[RNNTrainer\n",
              "learn: RNNLearner(data=TextClasDataBunch;\n",
              "\n",
              "Train: LabelList (136000 items)\n",
              "x: TextList\n",
              "xxbos what could i call a robot for xxunk or first aid,xxbos do sp jains profile based interviews take place only in mumbai,xxbos are young white americans culture vultures,xxbos are jews bitter toward germany as a result of the xxunk,xxbos who was the to hit six in one over in ipl\n",
              "y: CategoryList\n",
              "0,0,1,1,0\n",
              "Path: /content/gdrive/My Drive/data/fastai;\n",
              "\n",
              "Valid: LabelList (17000 items)\n",
              "x: TextList\n",
              "xxbos should america take a decisive step against white nationalists and get tough by xxunk the death penalty against them when they eventually commit an act of violence,xxbos why did the russians murder litvinenko with xxunk instead of anonymously,xxbos can i publish a vietnamese language book on amazon,xxbos how can ethics be built into a business model,xxbos how can we download jio join app through app store it is not in apple store\n",
              "y: CategoryList\n",
              "1,1,0,0,0\n",
              "Path: /content/gdrive/My Drive/data/fastai;\n",
              "\n",
              "Test: None, model=SequentialRNN(\n",
              "  (0): MultiBatchEncoder(\n",
              "    (module): AWD_LSTM(\n",
              "      (encoder): Embedding(30888, 400, padding_idx=1)\n",
              "      (encoder_dp): EmbeddingDropout(\n",
              "        (emb): Embedding(30888, 400, padding_idx=1)\n",
              "      )\n",
              "      (rnns): ModuleList(\n",
              "        (0): WeightDropout(\n",
              "          (module): LSTM(400, 1152, batch_first=True)\n",
              "        )\n",
              "        (1): WeightDropout(\n",
              "          (module): LSTM(1152, 1152, batch_first=True)\n",
              "        )\n",
              "        (2): WeightDropout(\n",
              "          (module): LSTM(1152, 400, batch_first=True)\n",
              "        )\n",
              "      )\n",
              "      (input_dp): RNNDropout()\n",
              "      (hidden_dps): ModuleList(\n",
              "        (0): RNNDropout()\n",
              "        (1): RNNDropout()\n",
              "        (2): RNNDropout()\n",
              "      )\n",
              "    )\n",
              "  )\n",
              "  (1): PoolingLinearClassifier(\n",
              "    (layers): Sequential(\n",
              "      (0): BatchNorm1d(1200, eps=1e-05, momentum=0.1, affine=True, track_running_stats=True)\n",
              "      (1): Dropout(p=0.2)\n",
              "      (2): Linear(in_features=1200, out_features=50, bias=True)\n",
              "      (3): ReLU(inplace)\n",
              "      (4): BatchNorm1d(50, eps=1e-05, momentum=0.1, affine=True, track_running_stats=True)\n",
              "      (5): Dropout(p=0.1)\n",
              "      (6): Linear(in_features=50, out_features=2, bias=True)\n",
              "    )\n",
              "  )\n",
              "), opt_func=functools.partial(<class 'torch.optim.adam.Adam'>, betas=(0.9, 0.99)), loss_func=FlattenedLoss of CrossEntropyLoss(), metrics=[<function accuracy at 0x7f839a7afd08>], true_wd=True, bn_wd=True, wd=0.01, train_bn=True, path=PosixPath('/content/gdrive/My Drive/data/fastai'), model_dir='models', callback_fns=[functools.partial(<class 'fastai.basic_train.Recorder'>, add_time=True, silent=False)], callbacks=[...], layer_groups=[Sequential(\n",
              "  (0): Embedding(30888, 400, padding_idx=1)\n",
              "  (1): EmbeddingDropout(\n",
              "    (emb): Embedding(30888, 400, padding_idx=1)\n",
              "  )\n",
              "), Sequential(\n",
              "  (0): WeightDropout(\n",
              "    (module): LSTM(400, 1152, batch_first=True)\n",
              "  )\n",
              "  (1): RNNDropout()\n",
              "), Sequential(\n",
              "  (0): WeightDropout(\n",
              "    (module): LSTM(1152, 1152, batch_first=True)\n",
              "  )\n",
              "  (1): RNNDropout()\n",
              "), Sequential(\n",
              "  (0): WeightDropout(\n",
              "    (module): LSTM(1152, 400, batch_first=True)\n",
              "  )\n",
              "  (1): RNNDropout()\n",
              "), Sequential(\n",
              "  (0): PoolingLinearClassifier(\n",
              "    (layers): Sequential(\n",
              "      (0): BatchNorm1d(1200, eps=1e-05, momentum=0.1, affine=True, track_running_stats=True)\n",
              "      (1): Dropout(p=0.2)\n",
              "      (2): Linear(in_features=1200, out_features=50, bias=True)\n",
              "      (3): ReLU(inplace)\n",
              "      (4): BatchNorm1d(50, eps=1e-05, momentum=0.1, affine=True, track_running_stats=True)\n",
              "      (5): Dropout(p=0.1)\n",
              "      (6): Linear(in_features=50, out_features=2, bias=True)\n",
              "    )\n",
              "  )\n",
              ")], add_time=True, silent=False, cb_fns_registered=False)\n",
              "alpha: 2.0\n",
              "beta: 1.0], layer_groups=[Sequential(\n",
              "  (0): Embedding(30888, 400, padding_idx=1)\n",
              "  (1): EmbeddingDropout(\n",
              "    (emb): Embedding(30888, 400, padding_idx=1)\n",
              "  )\n",
              "), Sequential(\n",
              "  (0): WeightDropout(\n",
              "    (module): LSTM(400, 1152, batch_first=True)\n",
              "  )\n",
              "  (1): RNNDropout()\n",
              "), Sequential(\n",
              "  (0): WeightDropout(\n",
              "    (module): LSTM(1152, 1152, batch_first=True)\n",
              "  )\n",
              "  (1): RNNDropout()\n",
              "), Sequential(\n",
              "  (0): WeightDropout(\n",
              "    (module): LSTM(1152, 400, batch_first=True)\n",
              "  )\n",
              "  (1): RNNDropout()\n",
              "), Sequential(\n",
              "  (0): PoolingLinearClassifier(\n",
              "    (layers): Sequential(\n",
              "      (0): BatchNorm1d(1200, eps=1e-05, momentum=0.1, affine=True, track_running_stats=True)\n",
              "      (1): Dropout(p=0.2)\n",
              "      (2): Linear(in_features=1200, out_features=50, bias=True)\n",
              "      (3): ReLU(inplace)\n",
              "      (4): BatchNorm1d(50, eps=1e-05, momentum=0.1, affine=True, track_running_stats=True)\n",
              "      (5): Dropout(p=0.1)\n",
              "      (6): Linear(in_features=50, out_features=2, bias=True)\n",
              "    )\n",
              "  )\n",
              ")], add_time=True, silent=False, cb_fns_registered=False)"
            ]
          },
          "metadata": {
            "tags": []
          },
          "execution_count": 59
        }
      ]
    },
    {
      "cell_type": "code",
      "metadata": {
        "id": "WhX30poXu-a3",
        "colab_type": "code",
        "colab": {
          "base_uri": "https://localhost:8080/",
          "height": 300
        },
        "outputId": "2752bbca-01a6-47fd-d34b-f5319be20e28"
      },
      "source": [
        "classifier.lr_find()\n",
        "classifier.recorder.plot()"
      ],
      "execution_count": 188,
      "outputs": [
        {
          "output_type": "display_data",
          "data": {
            "text/html": [
              ""
            ],
            "text/plain": [
              "<IPython.core.display.HTML object>"
            ]
          },
          "metadata": {
            "tags": []
          }
        },
        {
          "output_type": "stream",
          "text": [
            "LR Finder is complete, type {learner_name}.recorder.plot() to see the graph.\n"
          ],
          "name": "stdout"
        },
        {
          "output_type": "display_data",
          "data": {
            "image/png": "[encoded data removed]",
            "text/plain": [
              "<Figure size 432x288 with 1 Axes>"
            ]
          },
          "metadata": {
            "tags": []
          }
        }
      ]
    },
    {
      "cell_type": "code",
      "metadata": {
        "id": "0yszYFEKxwGJ",
        "colab_type": "code",
        "colab": {
          "base_uri": "https://localhost:8080/",
          "height": 80
        },
        "outputId": "7bc52c2e-fd77-43e8-fdf6-b82b8191c693"
      },
      "source": [
        "classifier.fit_one_cycle(1, 1e-2)"
      ],
      "execution_count": 60,
      "outputs": [
        {
          "output_type": "display_data",
          "data": {
            "text/html": [
              "<table border=\"1\" class=\"dataframe\">\n",
              "  <thead>\n",
              "    <tr style=\"text-align: left;\">\n",
              "      <th>epoch</th>\n",
              "      <th>train_loss</th>\n",
              "      <th>valid_loss</th>\n",
              "      <th>accuracy</th>\n",
              "      <th>time</th>\n",
              "    </tr>\n",
              "  </thead>\n",
              "  <tbody>\n",
              "    <tr>\n",
              "      <td>0</td>\n",
              "      <td>0.384930</td>\n",
              "      <td>0.306619</td>\n",
              "      <td>0.878882</td>\n",
              "      <td>02:41</td>\n",
              "    </tr>\n",
              "  </tbody>\n",
              "</table>"
            ],
            "text/plain": [
              "<IPython.core.display.HTML object>"
            ]
          },
          "metadata": {
            "tags": []
          }
        }
      ]
    },
    {
      "cell_type": "code",
      "metadata": {
        "id": "MsEZY5qGsFxg",
        "colab_type": "code",
        "colab": {
          "base_uri": "https://localhost:8080/",
          "height": 283
        },
        "outputId": "52da9310-0b35-4c88-9878-288154ce8a18"
      },
      "source": [
        "classifier.recorder.plot_losses()"
      ],
      "execution_count": 191,
      "outputs": [
        {
          "output_type": "display_data",
          "data": {
            "image/png": "[encoded data removed]",
            "text/plain": [
              "<Figure size 432x288 with 1 Axes>"
            ]
          },
          "metadata": {
            "tags": []
          }
        }
      ]
    },
    {
      "cell_type": "code",
      "metadata": {
        "id": "N91FBeaz2SlY",
        "colab_type": "code",
        "colab": {
          "base_uri": "https://localhost:8080/",
          "height": 80
        },
        "outputId": "c59d14d3-f3ee-4c85-8c94-90396ec3c42d"
      },
      "source": [
        "classifier.freeze_to(-2)\n",
        "classifier.fit_one_cycle(1, slice(5e-3/2., 5e-3))"
      ],
      "execution_count": 61,
      "outputs": [
        {
          "output_type": "display_data",
          "data": {
            "text/html": [
              "<table border=\"1\" class=\"dataframe\">\n",
              "  <thead>\n",
              "    <tr style=\"text-align: left;\">\n",
              "      <th>epoch</th>\n",
              "      <th>train_loss</th>\n",
              "      <th>valid_loss</th>\n",
              "      <th>accuracy</th>\n",
              "      <th>time</th>\n",
              "    </tr>\n",
              "  </thead>\n",
              "  <tbody>\n",
              "    <tr>\n",
              "      <td>0</td>\n",
              "      <td>0.350680</td>\n",
              "      <td>0.272787</td>\n",
              "      <td>0.897765</td>\n",
              "      <td>03:08</td>\n",
              "    </tr>\n",
              "  </tbody>\n",
              "</table>"
            ],
            "text/plain": [
              "<IPython.core.display.HTML object>"
            ]
          },
          "metadata": {
            "tags": []
          }
        }
      ]
    },
    {
      "cell_type": "code",
      "metadata": {
        "id": "DGHPbhW6sHVo",
        "colab_type": "code",
        "colab": {
          "base_uri": "https://localhost:8080/",
          "height": 283
        },
        "outputId": "f7fff176-ae05-40b5-b58a-84fd516e69a5"
      },
      "source": [
        "classifier.recorder.plot_losses()"
      ],
      "execution_count": 194,
      "outputs": [
        {
          "output_type": "display_data",
          "data": {
            "image/png": "[encoded data removed]",
            "text/plain": [
              "<Figure size 432x288 with 1 Axes>"
            ]
          },
          "metadata": {
            "tags": []
          }
        }
      ]
    },
    {
      "cell_type": "code",
      "metadata": {
        "id": "O_fJRv-V2Sif",
        "colab_type": "code",
        "colab": {
          "base_uri": "https://localhost:8080/",
          "height": 80
        },
        "outputId": "5324306c-f01c-45e5-89af-3ec9261b436e"
      },
      "source": [
        "classifier.unfreeze()\n",
        "classifier.fit_one_cycle(1, slice(2e-3/100, 2e-3))"
      ],
      "execution_count": 62,
      "outputs": [
        {
          "output_type": "display_data",
          "data": {
            "text/html": [
              "<table border=\"1\" class=\"dataframe\">\n",
              "  <thead>\n",
              "    <tr style=\"text-align: left;\">\n",
              "      <th>epoch</th>\n",
              "      <th>train_loss</th>\n",
              "      <th>valid_loss</th>\n",
              "      <th>accuracy</th>\n",
              "      <th>time</th>\n",
              "    </tr>\n",
              "  </thead>\n",
              "  <tbody>\n",
              "    <tr>\n",
              "      <td>0</td>\n",
              "      <td>0.293536</td>\n",
              "      <td>0.255543</td>\n",
              "      <td>0.904765</td>\n",
              "      <td>07:09</td>\n",
              "    </tr>\n",
              "  </tbody>\n",
              "</table>"
            ],
            "text/plain": [
              "<IPython.core.display.HTML object>"
            ]
          },
          "metadata": {
            "tags": []
          }
        }
      ]
    },
    {
      "cell_type": "code",
      "metadata": {
        "id": "WmdB-DYzQbjp",
        "colab_type": "code",
        "colab": {}
      },
      "source": [
        "classifier.save('fwd_clas')"
      ],
      "execution_count": 0,
      "outputs": []
    },
    {
      "cell_type": "code",
      "metadata": {
        "id": "DCIk4Q8BQbgf",
        "colab_type": "code",
        "colab": {
          "base_uri": "https://localhost:8080/",
          "height": 206
        },
        "outputId": "95cad9c1-ec1a-4261-c243-8e13670d1e0c"
      },
      "source": [
        "learn_bwd = text_classifier_learner(data_clas_bwd, AWD_LSTM, drop_mult=0.5, pretrained=False)\n",
        "learn_bwd.load_encoder('bwd_enc')\n",
        "\n",
        "learn_bwd.fit_one_cycle(1, 1e-2) # .fit_one_cycle(1, lr, moms=(0.8,0.7), wd=0.1)\n",
        "learn_bwd.freeze_to(-2)\n",
        "# lr /= 2\n",
        "learn_bwd.fit_one_cycle(1, slice(5e-3/2., 5e-3)) #.fit_one_cycle(1, slice(lr/(2.6**4),lr), moms=(0.8,0.7), wd=0.1)\n",
        "#learn_bwd.freeze_to(-3)\n",
        "#lr /= 2\n",
        "#learn_bwd.fit_one_cycle(1, slice(lr/(2.6**4),lr), moms=(0.8,0.7), wd=0.1)\n",
        "learn_bwd.unfreeze()\n",
        "#lr /= 5\n",
        "learn_bwd.fit_one_cycle(1, slice(2e-3/100, 2e-3)) #.fit_one_cycle(2, slice(lr/(2.6**4),lr), moms=(0.8,0.7), wd=0.1)\n",
        "learn_bwd.save('bwd_clas')"
      ],
      "execution_count": 64,
      "outputs": [
        {
          "output_type": "display_data",
          "data": {
            "text/html": [
              "<table border=\"1\" class=\"dataframe\">\n",
              "  <thead>\n",
              "    <tr style=\"text-align: left;\">\n",
              "      <th>epoch</th>\n",
              "      <th>train_loss</th>\n",
              "      <th>valid_loss</th>\n",
              "      <th>accuracy</th>\n",
              "      <th>time</th>\n",
              "    </tr>\n",
              "  </thead>\n",
              "  <tbody>\n",
              "    <tr>\n",
              "      <td>0</td>\n",
              "      <td>0.416039</td>\n",
              "      <td>0.340573</td>\n",
              "      <td>0.864471</td>\n",
              "      <td>02:40</td>\n",
              "    </tr>\n",
              "  </tbody>\n",
              "</table>"
            ],
            "text/plain": [
              "<IPython.core.display.HTML object>"
            ]
          },
          "metadata": {
            "tags": []
          }
        },
        {
          "output_type": "display_data",
          "data": {
            "text/html": [
              "<table border=\"1\" class=\"dataframe\">\n",
              "  <thead>\n",
              "    <tr style=\"text-align: left;\">\n",
              "      <th>epoch</th>\n",
              "      <th>train_loss</th>\n",
              "      <th>valid_loss</th>\n",
              "      <th>accuracy</th>\n",
              "      <th>time</th>\n",
              "    </tr>\n",
              "  </thead>\n",
              "  <tbody>\n",
              "    <tr>\n",
              "      <td>0</td>\n",
              "      <td>0.347580</td>\n",
              "      <td>0.266977</td>\n",
              "      <td>0.897765</td>\n",
              "      <td>03:09</td>\n",
              "    </tr>\n",
              "  </tbody>\n",
              "</table>"
            ],
            "text/plain": [
              "<IPython.core.display.HTML object>"
            ]
          },
          "metadata": {
            "tags": []
          }
        },
        {
          "output_type": "display_data",
          "data": {
            "text/html": [
              "<table border=\"1\" class=\"dataframe\">\n",
              "  <thead>\n",
              "    <tr style=\"text-align: left;\">\n",
              "      <th>epoch</th>\n",
              "      <th>train_loss</th>\n",
              "      <th>valid_loss</th>\n",
              "      <th>accuracy</th>\n",
              "      <th>time</th>\n",
              "    </tr>\n",
              "  </thead>\n",
              "  <tbody>\n",
              "    <tr>\n",
              "      <td>0</td>\n",
              "      <td>0.277892</td>\n",
              "      <td>0.249157</td>\n",
              "      <td>0.904529</td>\n",
              "      <td>07:10</td>\n",
              "    </tr>\n",
              "  </tbody>\n",
              "</table>"
            ],
            "text/plain": [
              "<IPython.core.display.HTML object>"
            ]
          },
          "metadata": {
            "tags": []
          }
        }
      ]
    },
    {
      "cell_type": "code",
      "metadata": {
        "id": "ncMqbOAAQbdQ",
        "colab_type": "code",
        "colab": {}
      },
      "source": [
        "pred_fwd,lbl_fwd = classifier.get_preds()\n",
        "pred_bwd,lbl_bwd = learn_bwd.get_preds()\n",
        "final_pred = (pred_fwd+pred_bwd)/2\n"
      ],
      "execution_count": 0,
      "outputs": []
    },
    {
      "cell_type": "code",
      "metadata": {
        "id": "8KYvBe2PQbaN",
        "colab_type": "code",
        "colab": {
          "base_uri": "https://localhost:8080/",
          "height": 34
        },
        "outputId": "ebedb402-b9e9-4b97-f009-a90da22c456f"
      },
      "source": [
        "accuracy(final_pred, lbl_fwd)\n"
      ],
      "execution_count": 75,
      "outputs": [
        {
          "output_type": "execute_result",
          "data": {
            "text/plain": [
              "tensor(0.9105)"
            ]
          },
          "metadata": {
            "tags": []
          },
          "execution_count": 75
        }
      ]
    },
    {
      "cell_type": "code",
      "metadata": {
        "id": "cVI_y8imq6Rh",
        "colab_type": "code",
        "colab": {
          "base_uri": "https://localhost:8080/",
          "height": 142
        },
        "outputId": "2adff5dc-fe4d-498e-a6ea-74d0f468edcd"
      },
      "source": [
        "predictions_2 = np.argmax(final_pred, axis = 1)\n",
        "pd.crosstab(predictions_2, targets)"
      ],
      "execution_count": 86,
      "outputs": [
        {
          "output_type": "execute_result",
          "data": {
            "text/html": [
              "<div>\n",
              "<style scoped>\n",
              "    .dataframe tbody tr th:only-of-type {\n",
              "        vertical-align: middle;\n",
              "    }\n",
              "\n",
              "    .dataframe tbody tr th {\n",
              "        vertical-align: top;\n",
              "    }\n",
              "\n",
              "    .dataframe thead th {\n",
              "        text-align: right;\n",
              "    }\n",
              "</style>\n",
              "<table border=\"1\" class=\"dataframe\">\n",
              "  <thead>\n",
              "    <tr style=\"text-align: right;\">\n",
              "      <th>col_0</th>\n",
              "      <th>0</th>\n",
              "      <th>1</th>\n",
              "    </tr>\n",
              "    <tr>\n",
              "      <th>row_0</th>\n",
              "      <th></th>\n",
              "      <th></th>\n",
              "    </tr>\n",
              "  </thead>\n",
              "  <tbody>\n",
              "    <tr>\n",
              "      <th>0</th>\n",
              "      <td>8114</td>\n",
              "      <td>636</td>\n",
              "    </tr>\n",
              "    <tr>\n",
              "      <th>1</th>\n",
              "      <td>886</td>\n",
              "      <td>7364</td>\n",
              "    </tr>\n",
              "  </tbody>\n",
              "</table>\n",
              "</div>"
            ],
            "text/plain": [
              "col_0     0     1\n",
              "row_0            \n",
              "0      8114   636\n",
              "1       886  7364"
            ]
          },
          "metadata": {
            "tags": []
          },
          "execution_count": 86
        }
      ]
    },
    {
      "cell_type": "code",
      "metadata": {
        "id": "NyWABSVyqaLH",
        "colab_type": "code",
        "colab": {
          "base_uri": "https://localhost:8080/",
          "height": 136
        },
        "outputId": "3d739d93-1415-495a-c1c6-70c25756ff16"
      },
      "source": [
        "final_pred"
      ],
      "execution_count": 79,
      "outputs": [
        {
          "output_type": "execute_result",
          "data": {
            "text/plain": [
              "tensor([[0.0747, 0.9253],\n",
              "        [0.1028, 0.8972],\n",
              "        [0.4737, 0.5263],\n",
              "        ...,\n",
              "        [0.2177, 0.7823],\n",
              "        [0.8875, 0.1125],\n",
              "        [0.4797, 0.5203]])"
            ]
          },
          "metadata": {
            "tags": []
          },
          "execution_count": 79
        }
      ]
    },
    {
      "cell_type": "code",
      "metadata": {
        "id": "P6AkyDJKehe5",
        "colab_type": "code",
        "colab": {
          "base_uri": "https://localhost:8080/",
          "height": 136
        },
        "outputId": "b91c8ea5-d6cf-4bd6-a978-e73f209628f3"
      },
      "source": [
        "pred_fwd"
      ],
      "execution_count": 81,
      "outputs": [
        {
          "output_type": "execute_result",
          "data": {
            "text/plain": [
              "tensor([[0.1208, 0.8792],\n",
              "        [0.1068, 0.8932],\n",
              "        [0.4773, 0.5227],\n",
              "        ...,\n",
              "        [0.0863, 0.9137],\n",
              "        [0.9443, 0.0557],\n",
              "        [0.5273, 0.4727]])"
            ]
          },
          "metadata": {
            "tags": []
          },
          "execution_count": 81
        }
      ]
    },
    {
      "cell_type": "code",
      "metadata": {
        "id": "v5GLfyl3qVtt",
        "colab_type": "code",
        "colab": {
          "base_uri": "https://localhost:8080/",
          "height": 34
        },
        "outputId": "5076392e-3740-4606-c0d2-29fcde7a2bb6"
      },
      "source": [
        "lbl_fwd"
      ],
      "execution_count": 78,
      "outputs": [
        {
          "output_type": "execute_result",
          "data": {
            "text/plain": [
              "tensor([0, 1, 0,  ..., 1, 0, 1])"
            ]
          },
          "metadata": {
            "tags": []
          },
          "execution_count": 78
        }
      ]
    },
    {
      "cell_type": "code",
      "metadata": {
        "id": "rUej-MTcengQ",
        "colab_type": "code",
        "colab": {
          "base_uri": "https://localhost:8080/",
          "height": 34
        },
        "outputId": "c27a9533-bf50-49eb-c463-2a44c631d0c9"
      },
      "source": [
        "accuracy(final_pred, lbl_fwd)"
      ],
      "execution_count": 69,
      "outputs": [
        {
          "output_type": "execute_result",
          "data": {
            "text/plain": [
              "tensor(0.9105)"
            ]
          },
          "metadata": {
            "tags": []
          },
          "execution_count": 69
        }
      ]
    },
    {
      "cell_type": "code",
      "metadata": {
        "id": "TY6AJzKgLB4F",
        "colab_type": "code",
        "colab": {
          "base_uri": "https://localhost:8080/",
          "height": 142
        },
        "outputId": "fc368807-6dc0-4d6b-b730-042031ee8ef2"
      },
      "source": [
        "preds, targets = classifier.get_preds()\n",
        "\n",
        "predictions = np.argmax(preds, axis = 1)\n",
        "pd.crosstab(predictions, targets)"
      ],
      "execution_count": 70,
      "outputs": [
        {
          "output_type": "execute_result",
          "data": {
            "text/html": [
              "<div>\n",
              "<style scoped>\n",
              "    .dataframe tbody tr th:only-of-type {\n",
              "        vertical-align: middle;\n",
              "    }\n",
              "\n",
              "    .dataframe tbody tr th {\n",
              "        vertical-align: top;\n",
              "    }\n",
              "\n",
              "    .dataframe thead th {\n",
              "        text-align: right;\n",
              "    }\n",
              "</style>\n",
              "<table border=\"1\" class=\"dataframe\">\n",
              "  <thead>\n",
              "    <tr style=\"text-align: right;\">\n",
              "      <th>col_0</th>\n",
              "      <th>0</th>\n",
              "      <th>1</th>\n",
              "    </tr>\n",
              "    <tr>\n",
              "      <th>row_0</th>\n",
              "      <th></th>\n",
              "      <th></th>\n",
              "    </tr>\n",
              "  </thead>\n",
              "  <tbody>\n",
              "    <tr>\n",
              "      <th>0</th>\n",
              "      <td>8105</td>\n",
              "      <td>724</td>\n",
              "    </tr>\n",
              "    <tr>\n",
              "      <th>1</th>\n",
              "      <td>895</td>\n",
              "      <td>7276</td>\n",
              "    </tr>\n",
              "  </tbody>\n",
              "</table>\n",
              "</div>"
            ],
            "text/plain": [
              "col_0     0     1\n",
              "row_0            \n",
              "0      8105   724\n",
              "1       895  7276"
            ]
          },
          "metadata": {
            "tags": []
          },
          "execution_count": 70
        }
      ]
    },
    {
      "cell_type": "code",
      "metadata": {
        "id": "9QP1UNXmeB70",
        "colab_type": "code",
        "colab": {}
      },
      "source": [
        ""
      ],
      "execution_count": 0,
      "outputs": []
    },
    {
      "cell_type": "code",
      "metadata": {
        "id": "l921Mm-7R0DE",
        "colab_type": "code",
        "colab": {}
      },
      "source": [
        "pre = classifier.predict('why I cannot get the decent calssification')"
      ],
      "execution_count": 0,
      "outputs": []
    },
    {
      "cell_type": "code",
      "metadata": {
        "id": "gYy3NmtSDPYN",
        "colab_type": "code",
        "colab": {
          "base_uri": "https://localhost:8080/",
          "height": 51
        },
        "outputId": "f7241bb0-2ee9-4ceb-c914-409609957761"
      },
      "source": [
        "print(pre)\n",
        "print(pre[2].tolist())"
      ],
      "execution_count": 72,
      "outputs": [
        {
          "output_type": "stream",
          "text": [
            "(Category 0, tensor(0), tensor([0.6191, 0.3809]))\n",
            "[0.6191100478172302, 0.3808899521827698]\n"
          ],
          "name": "stdout"
        }
      ]
    },
    {
      "cell_type": "code",
      "metadata": {
        "id": "k2rC841K8LE1",
        "colab_type": "code",
        "colab": {}
      },
      "source": [
        "from fastai.vision import *\n",
        "preds, y, losses = classifier.get_preds(with_loss=True)"
      ],
      "execution_count": 0,
      "outputs": []
    },
    {
      "cell_type": "code",
      "metadata": {
        "id": "c8Z63ik3BzrF",
        "colab_type": "code",
        "colab": {}
      },
      "source": [
        "#report(y_dev_s, y)"
      ],
      "execution_count": 0,
      "outputs": []
    },
    {
      "cell_type": "code",
      "metadata": {
        "id": "cN2GVAAiA_3t",
        "colab_type": "code",
        "colab": {}
      },
      "source": [
        "#interp = ClassificationInterpretation(data_clas, preds, y, losses)"
      ],
      "execution_count": 0,
      "outputs": []
    },
    {
      "cell_type": "code",
      "metadata": {
        "id": "mSh02wRk86nj",
        "colab_type": "code",
        "colab": {}
      },
      "source": [
        "#interp.plot_confusion_matrix()"
      ],
      "execution_count": 0,
      "outputs": []
    },
    {
      "cell_type": "markdown",
      "metadata": {
        "id": "hsHbw70vX0In",
        "colab_type": "text"
      },
      "source": [
        "#Reference\n",
        "[Multi-Class Text Classification Model Comparison and Selection](https://towardsdatascience.com/multi-class-text-classification-model-comparison-and-selection-5eb066197568)"
      ]
    },
    {
      "cell_type": "code",
      "metadata": {
        "id": "BISYpMsDXzc7",
        "colab_type": "code",
        "colab": {}
      },
      "source": [
        ""
      ],
      "execution_count": 0,
      "outputs": []
    }
  ]
}