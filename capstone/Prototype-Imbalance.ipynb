{
 "cells": [
  {
   "cell_type": "markdown",
   "metadata": {},
   "source": [
    "## STEP 1 : DATA IMPORT"
   ]
  },
  {
   "cell_type": "code",
   "execution_count": null,
   "metadata": {},
   "outputs": [],
   "source": [
    "import pandas as pd\n",
    "\n",
    "train_data = pd.read_csv('data/train.csv')\n",
    "print('Training data set: ' + str(len(train_data)))\n",
    "\n",
    "#train_data.head()"
   ]
  },
  {
   "cell_type": "markdown",
   "metadata": {},
   "source": [
    "## STEP 2 : DATA WRANGLING"
   ]
  },
  {
   "cell_type": "code",
   "execution_count": null,
   "metadata": {},
   "outputs": [],
   "source": [
    "%%time\n",
    "\n",
    "import contractions\n",
    "import re\n",
    "import nltk\n",
    "nltk.download('punkt')\n",
    "nltk.download('wordnet')\n",
    "nltk.download('averaged_perceptron_tagger')\n",
    "nltk.download('stopwords')\n",
    "#nltk.download()\n",
    "from nltk.stem import PorterStemmer, WordNetLemmatizer  \n",
    "from nltk.tokenize import word_tokenize \n",
    "from nltk.corpus import  wordnet, stopwords \n",
    "from joblib import dump, load\n",
    "\n",
    "stop_words = set(stopwords.words('english'))\n",
    "\n",
    "def remove_non_ascii(text):\n",
    "    return ''.join(i for i in text if ord(i)<128)\n",
    "\n",
    "def remove_white_space(text):\n",
    "    return text.strip().strip('\\t\\n')\n",
    "\n",
    "def remove_special_character(text):\n",
    "    return re.sub('[^A-Za-z0-9\\s]+', '', text)\n",
    "\n",
    "def porter_stemmer(text): #PorterStemmer\n",
    "    ps = PorterStemmer()\n",
    "    text = ' '.join([ps.stem(word) for word in word_tokenize(text)])\n",
    "    return text\n",
    "\n",
    "def lemmatizer(text): \n",
    "    lemmatizer = WordNetLemmatizer()\n",
    "    text = ' '.join([lemmatizer.lemmatize(w, get_wordnet_pos(w)) for w in nltk.word_tokenize(text)])\n",
    "    return text\n",
    "\n",
    "def get_wordnet_pos(word):\n",
    "    \"\"\"Map POS tag to first character lemmatize() accepts\"\"\"\n",
    "    tag = nltk.pos_tag([word])[0][1][0].upper()\n",
    "    tag_dict = {\"J\": wordnet.ADJ,\n",
    "                \"N\": wordnet.NOUN,\n",
    "                \"V\": wordnet.VERB,\n",
    "                \"R\": wordnet.ADV}\n",
    "    return tag_dict.get(tag, wordnet.NOUN)\n",
    "    \n",
    "def remove_stop_word(text): \n",
    "    text = ' '.join([w for w in nltk.word_tokenize(text) if w not in stop_words])\n",
    "    return text\n",
    "\n",
    "train_data['origin'] = train_data['question_text']\n",
    "train_data['question_text'] = train_data['question_text'].str.normalize('NFKD')\\\n",
    ".apply(remove_non_ascii).apply(remove_white_space).apply(contractions.fix).str.lower()\\\n",
    ".apply(remove_special_character).apply(remove_stop_word)\n",
    "\n",
    "train_data['question_text_stem'] = train_data['question_text'].apply(porter_stemmer)\n",
    "train_data['question_text_lemma'] = train_data['question_text'].apply(lemmatizer)\n",
    "train_data['word_count'] = train_data['question_text'].apply(lambda x: len(str(x).split()))\n",
    "train_data = train_data.loc[(train_data.word_count > 0)]\n",
    "train_data= train_data.reset_index()\n",
    "\n",
    "print('Training data set: ' + str(len(train_data)))\n",
    "#print(train_data.head())\n",
    "\n",
    "filename = 'data/train_data.sav'\n",
    "dump(train_data, filename)"
   ]
  },
  {
   "cell_type": "markdown",
   "metadata": {},
   "source": [
    "<B>Data Staging</B>"
   ]
  },
  {
   "cell_type": "code",
   "execution_count": null,
   "metadata": {},
   "outputs": [],
   "source": [
    "from joblib import dump, load\n",
    "filename = 'data/train_data.sav'\n",
    "train_data = load(filename)\n",
    "print('Training data set: ' + str(len(train_data)))"
   ]
  },
  {
   "cell_type": "code",
   "execution_count": null,
   "metadata": {},
   "outputs": [],
   "source": [
    "%%time\n",
    "\n",
    "from joblib import dump, load\n",
    "\n",
    "train_text_lemma = train_data['question_text_lemma']\n",
    "train_text_stem = train_data['question_text_stem']\n",
    "train_target = train_data['target']\n",
    "\n",
    "filename = 'data/target.sav'\n",
    "dump(train_target, filename)\n",
    "filename = 'data/question_text_lemma.sav'\n",
    "dump(train_text_lemma, filename)\n",
    "filename = 'data/question_text_stem.sav'\n",
    "dump(train_text_stem, filename)"
   ]
  },
  {
   "cell_type": "markdown",
   "metadata": {},
   "source": [
    "## STEP 3 : WORD CLOUD  (optional, see earlier submission)\n"
   ]
  },
  {
   "cell_type": "markdown",
   "metadata": {},
   "source": [
    "## STEP 4 : SPLIT DATA FOR TRAINING, TESTING, AND HOLDING"
   ]
  },
  {
   "cell_type": "markdown",
   "metadata": {},
   "source": [
    "## <font color=\"red\">Step 4.0 code library section</font>"
   ]
  },
  {
   "cell_type": "code",
   "execution_count": 1,
   "metadata": {},
   "outputs": [],
   "source": [
    "from sklearn.model_selection import train_test_split, GridSearchCV\n",
    "from sklearn.metrics import roc_auc_score, roc_curve, auc, confusion_matrix, classification_report, accuracy_score\n",
    "from sklearn.feature_extraction.text import CountVectorizer\n",
    "import seaborn as sns\n",
    "import matplotlib.pyplot as plt\n",
    "\n",
    "def split(X, y, vectorizer=CountVectorizer(), test_size=0.2, hold_size=0.2):\n",
    "    #split data to train, test & hold, hold will be completed outside the training vector, \n",
    "    X_train, X_hold, y_train, y_hold  = train_test_split(X, y, test_size = hold_size, train_size = 1 - hold_size, random_state = 42, stratify = y)\n",
    "    X_train = vectorizer.fit_transform(X_train)\n",
    "    X_hold = vectorizer.transform(X_hold)\n",
    "    X_train, X_test, y_train, y_test  = train_test_split(X_train, y_train, test_size = test_size, train_size = 1 - test_size, random_state = 42, stratify = y_train)\n",
    "    return  X_train, X_test, X_hold, y_train, y_test, y_hold, vectorizer\n",
    "\n",
    "\n",
    "def fit(X, y, param_grid, estimator):\n",
    "    search = GridSearchCV(estimator, param_grid, cv=5,verbose=1, scoring='roc_auc')\n",
    "    # search = GridSearchCV(estimator, param_grid, cv=5,verbose=1, refit='f1', scoring={'f1','precision','recall'})\n",
    "    search.fit(X, y)\n",
    "    best= search.best_estimator_ \n",
    "    best.fit(X, y)\n",
    "    return best\n",
    "\n",
    "\n",
    "def report(best, X, y, comp, name):\n",
    "    target_names = ['Sincere', 'Insincere']\n",
    "    \n",
    "    print(best)\n",
    "    predicted = best.predict(X)\n",
    "    \n",
    "    #classification_report \n",
    "    report = classification_report(y, predicted, target_names=target_names)\n",
    "    print(report)\n",
    "    comp[name] = report\n",
    "\n",
    "    #confusion matrix\n",
    "    matrix = confusion_matrix(y, predicted)\n",
    "    fig, ax = plt.subplots(figsize=(5,5))\n",
    "    sns.heatmap(matrix, annot=True, fmt='d')\n",
    "    plt.ylabel('Actual')\n",
    "    plt.xlabel('Predicted')\n",
    "    plt.show()\n",
    "    \n",
    "    #roc curve\n",
    "    probs = best.predict_proba(X)\n",
    "    fpr, tpr, thresholds = roc_curve(y, probs[:,0], pos_label= 0)\n",
    "    roc_auc = auc(fpr, tpr)\n",
    "    fpr1, tpr1, thresholds1 = roc_curve(y, probs[:,1], pos_label= 1)\n",
    "    roc_auc1 = auc(fpr1, tpr1)\n",
    "    \n",
    "    plt.figure()\n",
    "    plt.plot(fpr, tpr, color='blue', lw=1, label='ROC curve for sincere (area = %0.2f)' % roc_auc)\n",
    "    plt.plot(fpr1, tpr1, color='red', lw=1, label='ROC curve for insincere (area = %0.2f)' % roc_auc1)\n",
    "    plt.plot([0, 1], [0, 1], color='black', lw=1, linestyle='--')\n",
    "    plt.xlim([0.0, 1.0])\n",
    "    plt.ylim([0.0, 1.05])\n",
    "    plt.xlabel('False Positive Rate')\n",
    "    plt.ylabel('True Positive Rate')\n",
    "    plt.title('Receiver operating characteristic')\n",
    "    plt.legend(loc=\"lower right\")\n",
    "    plt.show()"
   ]
  },
  {
   "cell_type": "code",
   "execution_count": 2,
   "metadata": {},
   "outputs": [
    {
     "name": "stdout",
     "output_type": "stream",
     "text": [
      "CPU times: user 970 ms, sys: 326 ms, total: 1.3 s\n",
      "Wall time: 1.33 s\n"
     ]
    }
   ],
   "source": [
    "%%time\n",
    "\n",
    "from joblib import dump, load\n",
    "\n",
    "filename = 'data/target.sav'\n",
    "train_target =load(filename)\n",
    "filename = 'data/question_text_lemma.sav'\n",
    "train_text_lemma = load(filename)\n",
    "filename = 'data/question_text_stem.sav'\n",
    "train_text_stem = load(filename)"
   ]
  },
  {
   "cell_type": "code",
   "execution_count": 3,
   "metadata": {},
   "outputs": [
    {
     "name": "stdout",
     "output_type": "stream",
     "text": [
      "(835852, 196257) (208964, 196257) (261204, 196257)\n",
      "(835852,) (208964,) (261204,)\n",
      "CountVectorizer(analyzer='word', binary=False, decode_error='strict',\n",
      "                dtype=<class 'numpy.int64'>, encoding='utf-8', input='content',\n",
      "                lowercase=True, max_df=1.0, max_features=None, min_df=1,\n",
      "                ngram_range=(1, 1), preprocessor=None, stop_words=None,\n",
      "                strip_accents=None, token_pattern='(?u)\\\\b\\\\w\\\\w+\\\\b',\n",
      "                tokenizer=None, vocabulary=None)\n",
      "CPU times: user 13.8 s, sys: 389 ms, total: 14.2 s\n",
      "Wall time: 12.4 s\n"
     ]
    }
   ],
   "source": [
    "%%time\n",
    "\n",
    "X_train, X_test, X_hold, y_train, y_test, y_hold, vectorizer = split(train_text_lemma, train_target,)\n",
    "print(X_train.shape,X_test.shape,X_hold.shape)\n",
    "print(y_train.shape,y_test.shape,y_hold.shape)\n",
    "print(vectorizer)\n"
   ]
  },
  {
   "cell_type": "markdown",
   "metadata": {},
   "source": [
    "## STEP 5 : INITIAL EVALUATION"
   ]
  },
  {
   "cell_type": "markdown",
   "metadata": {},
   "source": [
    "### Evaluate the learning curve on training data size"
   ]
  },
  {
   "cell_type": "markdown",
   "metadata": {},
   "source": [
    "<font color=\"red\">Although there has no significant elbow point in the plot, 25% of the training data appears as a good smallest set for the ML model comparison step</font>"
   ]
  },
  {
   "cell_type": "code",
   "execution_count": 4,
   "metadata": {},
   "outputs": [
    {
     "data": {
      "image/png": "[encoded data removed]",
      "text/plain": [
       "<Figure size 432x288 with 1 Axes>"
      ]
     },
     "metadata": {
      "needs_background": "light"
     },
     "output_type": "display_data"
    },
    {
     "name": "stdout",
     "output_type": "stream",
     "text": [
      "CPU times: user 12min 15s, sys: 13.1 s, total: 12min 28s\n",
      "Wall time: 3min 8s\n"
     ]
    }
   ],
   "source": [
    "%%time\n",
    "\n",
    "from sklearn.model_selection import learning_curve\n",
    "from sklearn.linear_model import LogisticRegression\n",
    "import numpy as np\n",
    "\n",
    "import warnings\n",
    "warnings.filterwarnings(\"ignore\", category=FutureWarning)\n",
    "\n",
    "\n",
    "train_sizes, train_scores, valid_scores = learning_curve(\n",
    "    LogisticRegression(), X_train, y_train, train_sizes = np.arange(0.1, 1, 0.1), cv = 5, scoring = 'roc_auc')\n",
    "\n",
    "\n",
    "# Calculate mean and standard deviation\n",
    "train_mean = np.mean(train_scores, axis=1)\n",
    "train_std = np.std(train_scores, axis=1)\n",
    "valid_mean = np.mean(valid_scores, axis=1)\n",
    "valid_std = np.std(valid_scores, axis=1)\n",
    "\n",
    "# Plot mean accuracy scores for training and test sets\n",
    "plt.plot(train_sizes, train_mean, color='black', label=\"Training score\",)\n",
    "plt.plot(train_sizes, valid_mean, color='dimgrey', label=\"Validation score\", )\n",
    "# Plot accurancy bands for training and test sets\n",
    "plt.fill_between(train_sizes, train_mean - train_std, train_mean + train_std, color=\"gray\")\n",
    "plt.fill_between(train_sizes, valid_mean - valid_std, valid_mean + valid_std, color=\"gainsboro\")\n",
    "\n",
    "# Create plot\n",
    "plt.title(\"Learning Curve\")\n",
    "plt.xlabel(\"Sample Size\")\n",
    "plt.ylabel(\"ROC_AUC Score\")\n",
    "plt.tight_layout()\n",
    "plt.legend(loc=\"best\")\n",
    "plt.show()"
   ]
  },
  {
   "cell_type": "markdown",
   "metadata": {},
   "source": [
    "### Evaluate the validation curve on regularization strength "
   ]
  },
  {
   "cell_type": "markdown",
   "metadata": {},
   "source": [
    "<font color=\"red\">GridSearchCV should handle individual parameter selection. This plot just to show the effect for parameter selection</font>"
   ]
  },
  {
   "cell_type": "code",
   "execution_count": 5,
   "metadata": {},
   "outputs": [
    {
     "data": {
      "image/png": "[encoded data removed]",
      "text/plain": [
       "<Figure size 432x288 with 1 Axes>"
      ]
     },
     "metadata": {
      "needs_background": "light"
     },
     "output_type": "display_data"
    },
    {
     "name": "stdout",
     "output_type": "stream",
     "text": [
      "CPU times: user 1.56 s, sys: 361 ms, total: 1.93 s\n",
      "Wall time: 5min 33s\n"
     ]
    }
   ],
   "source": [
    "%%time\n",
    "\n",
    "import numpy as np\n",
    "from sklearn.model_selection import validation_curve\n",
    "from sklearn.linear_model import LogisticRegression\n",
    "\n",
    "# Calculate accuracy on training and test set using range of parameter values\n",
    "param_range = [0.001, 0.05, 0.1, 1, 10, 100]\n",
    "train_scores, test_scores = validation_curve(LogisticRegression(), \n",
    "                                             X_train, \n",
    "                                             y_train, \n",
    "                                             param_name=\"C\", \n",
    "                                             param_range=param_range,\n",
    "                                             cv=5, \n",
    "                                             scoring=\"roc_auc\", \n",
    "                                             n_jobs=-1)\n",
    " \n",
    "# Calculate mean and standard deviation for training set scores\n",
    "train_mean = np.mean(train_scores, axis=1)\n",
    "train_std = np.std(train_scores, axis=1)\n",
    "test_mean = np.mean(test_scores, axis=1)\n",
    "test_std = np.std(test_scores, axis=1)\n",
    "\n",
    "# Plot mean accuracy scores for training and test sets\n",
    "plt.plot(param_range, train_mean, label=\"Training score\", color=\"black\")\n",
    "plt.plot(param_range, test_mean, label=\"Cross-validation score\", color=\"dimgrey\")\n",
    "# Plot accurancy bands for training and test sets\n",
    "plt.fill_between(param_range, train_mean - train_std, train_mean + train_std, color=\"gray\")\n",
    "plt.fill_between(param_range, test_mean - test_std, test_mean + test_std, color=\"gainsboro\")\n",
    "\n",
    "# Create plot\n",
    "plt.title(\"Validation Curve\")\n",
    "plt.xlabel(r\"$\\alpha$\")\n",
    "plt.xscale('log')\n",
    "plt.ylabel(\"Accuracy Score\")\n",
    "plt.tight_layout()\n",
    "plt.legend(loc=\"best\")\n",
    "plt.show()"
   ]
  },
  {
   "cell_type": "markdown",
   "metadata": {},
   "source": [
    "### Eevaluate the resampling due to imbalanced data   "
   ]
  },
  {
   "cell_type": "markdown",
   "metadata": {},
   "source": [
    "<font color='red'> As in the early prototype submission, the best f-1 score for insincere class barely reach 0.50 (using 0.5% sample for training), the attempt is to apply [imbalance library](https://imbalanced-learn.readthedocs.io/en/stable/) to improve the f-1 score. To save on computation time, the logistic regression model is used to test different sampling methods. The reason is the logistic regression provides reasonable result in a relatively short time. A few sampling approaches are embedded within modeling algorithm,  a default parameter will be used withs out CV or GridSearch. This is to decide on re-sampling method, not on model optimizing </font> "
   ]
  },
  {
   "cell_type": "markdown",
   "metadata": {},
   "source": [
    "<B>The over sampling, under sampling and SMOT provides similar f-1 score, in which aoc_ROC is 0.94. The ADASYN, SMOTEENN both has lower aoc_ROC score and take longer time to complete.  the SMOTETomek does not complete in a reasonable time that I have to interrupt the thread after 30 hours of running. The Ensemble models report f-1 scores slightly below SMOT, ranging from (0.84 ~ 0.93). The SMOT will be adopted to continue to the next step.     \n",
    "</B>"
   ]
  },
  {
   "cell_type": "code",
   "execution_count": 4,
   "metadata": {},
   "outputs": [],
   "source": [
    "sample_compare = {}"
   ]
  },
  {
   "cell_type": "code",
   "execution_count": 5,
   "metadata": {},
   "outputs": [
    {
     "name": "stdout",
     "output_type": "stream",
     "text": [
      "CPU times: user 51.4 s, sys: 653 ms, total: 52 s\n",
      "Wall time: 13.3 s\n"
     ]
    }
   ],
   "source": [
    "%%time\n",
    "\n",
    "from sklearn.linear_model import LogisticRegression\n",
    "org_model = LogisticRegression(solver='liblinear').fit(X_train, y_train)\n"
   ]
  },
  {
   "cell_type": "code",
   "execution_count": null,
   "metadata": {},
   "outputs": [],
   "source": [
    "#report(org_model, X_test, y_test, sample_compare, 'org_model')"
   ]
  },
  {
   "cell_type": "code",
   "execution_count": 6,
   "metadata": {},
   "outputs": [
    {
     "name": "stderr",
     "output_type": "stream",
     "text": [
      "/Users/yang/anaconda3/lib/python3.7/site-packages/sklearn/externals/six.py:31: DeprecationWarning: The module is deprecated in version 0.21 and will be removed in version 0.23 since we've dropped support for Python 2.7. Please rely on the official version of six (https://pypi.org/project/six/).\n",
      "  \"(https://pypi.org/project/six/).\", DeprecationWarning)\n"
     ]
    },
    {
     "name": "stdout",
     "output_type": "stream",
     "text": [
      "[(0, 784141), (1, 784141)]\n",
      "CPU times: user 2.24 s, sys: 101 ms, total: 2.34 s\n",
      "Wall time: 1.13 s\n"
     ]
    }
   ],
   "source": [
    "%%time\n",
    "\n",
    "#over sampling\n",
    "from imblearn.over_sampling import RandomOverSampler\n",
    "from collections import Counter\n",
    "\n",
    "# dataset X_train, X_test, X_hold, y_train, y_test, y_hold \n",
    "ros = RandomOverSampler(random_state=42)\n",
    "X_up, y_up = ros.fit_resample(X_train, y_train)\n",
    "print(sorted(Counter(y_up).items()))"
   ]
  },
  {
   "cell_type": "code",
   "execution_count": null,
   "metadata": {},
   "outputs": [],
   "source": [
    "# %%time\n",
    "# ros_model = LogisticRegression(solver='liblinear').fit(X_up, y_up)\n",
    "# report(ros_model, X_test, y_test, sample_compare, 'ros_model')"
   ]
  },
  {
   "cell_type": "markdown",
   "metadata": {},
   "source": [
    "[Comparison of the different under-sampling algorithms](https://imbalanced-learn.readthedocs.io/en/stable/auto_examples/under-sampling/plot_comparison_under_sampling.html#sphx-glr-auto-examples-under-sampling-plot-comparison-under-sampling-py), As the clustering, neighbour, etc takeing assumption on certain underline structure,it similar to SMOT and will go through significant computation time and possible overfit. let's try simple random samplining  "
   ]
  },
  {
   "cell_type": "code",
   "execution_count": 7,
   "metadata": {},
   "outputs": [
    {
     "name": "stdout",
     "output_type": "stream",
     "text": [
      "[(0, 51711), (1, 51711)]\n",
      "CPU times: user 944 ms, sys: 44.5 ms, total: 988 ms\n",
      "Wall time: 317 ms\n"
     ]
    }
   ],
   "source": [
    "%%time\n",
    "\n",
    "#under sampling\n",
    "from imblearn.under_sampling import ClusterCentroids, RandomUnderSampler\n",
    "# from imblearn.under_sampling import  EditedNearestNeighbours, RepeatedEditedNearestNeighbours, AllKNN\n",
    "# from imblearn.under_sampling import CondensedNearestNeighbour, OneSidedSelection, NeighbourhoodCleaningRule\n",
    "# from imblearn.under_sampling import InstanceHardnessThreshold\n",
    "from collections import Counter\n",
    "\n",
    "# dataset X_train, X_test, X_hold, y_train, y_test, y_hold \n",
    "rus = RandomUnderSampler(random_state=42)\n",
    "X_down, y_down = rus.fit_resample(X_train, y_train)\n",
    "print(sorted(Counter(y_down).items()))"
   ]
  },
  {
   "cell_type": "code",
   "execution_count": null,
   "metadata": {},
   "outputs": [],
   "source": [
    "# %%time\n",
    "# rus_model = LogisticRegression(solver='liblinear').fit(X_down, y_down)\n",
    "# report(ros_model, X_test, y_test, sample_compare, 'rus_model')"
   ]
  },
  {
   "cell_type": "code",
   "execution_count": null,
   "metadata": {},
   "outputs": [],
   "source": [
    "%%time\n",
    "\n",
    "#SMOT\n",
    "from imblearn.over_sampling import SMOTE, ADASYN\n",
    "from imblearn.over_sampling import BorderlineSMOTE, SMOTENC\n",
    "from collections import Counter\n",
    "\n",
    "sm = SMOTE(random_state=27)\n",
    "X_sm, y_sm = sm.fit_resample(X_train, y_train)\n",
    "print(sorted(Counter(y_down).items()))"
   ]
  },
  {
   "cell_type": "code",
   "execution_count": null,
   "metadata": {},
   "outputs": [],
   "source": [
    "# %%time\n",
    "# sm_model = LogisticRegression(solver='liblinear').fit(X_sm, y_sm)\n",
    "# report(ros_model, X_test, y_test, sample_compare, 'sm_model')"
   ]
  },
  {
   "cell_type": "code",
   "execution_count": null,
   "metadata": {},
   "outputs": [],
   "source": [
    "%%time\n",
    "\n",
    "#ADASYN\n",
    "from imblearn.over_sampling import SMOTE, ADASYN\n",
    "\n",
    "ad = ADASYN(random_state=27)\n",
    "X_ad, y_ad = ad.fit_resample(X_train, y_train)\n",
    "print(sorted(Counter(y_down).items()))"
   ]
  },
  {
   "cell_type": "code",
   "execution_count": null,
   "metadata": {},
   "outputs": [],
   "source": [
    "# %%time\n",
    "# ad_model = LogisticRegression(solver='liblinear').fit(X_ad, y_ad)\n",
    "# report(ad_model, X_test, y_test, sample_compare, 'ad_model')"
   ]
  },
  {
   "cell_type": "code",
   "execution_count": null,
   "metadata": {},
   "outputs": [],
   "source": [
    "%%time\n",
    "\n",
    "#COMBINE UNDER AND OVER\n",
    "from imblearn.combine import SMOTEENN, SMOTETomek\n",
    "from collections import Counter\n",
    "\n",
    "sme = SMOTEENN(random_state=27)\n",
    "X_sme, y_sme = sme.fit_resample(X_train, y_train)\n",
    "print(sorted(Counter(y_down).items()))"
   ]
  },
  {
   "cell_type": "code",
   "execution_count": null,
   "metadata": {},
   "outputs": [],
   "source": [
    "# %%time\n",
    "# sme_model = LogisticRegression(solver='liblinear').fit(X_sme, y_sme)\n",
    "# report(sme_model, X_test, y_test, sample_compare, 'sme_model')"
   ]
  },
  {
   "cell_type": "code",
   "execution_count": null,
   "metadata": {},
   "outputs": [],
   "source": [
    "# %%time\n",
    "\n",
    "# #COMBINE UNDER AND OVER\n",
    "# from imblearn.combine import SMOTEENN, SMOTETomek\n",
    "# from collections import Counter\n",
    "\n",
    "# smt = SMOTETomek(random_state=27)\n",
    "# X_smt, y_smt = smt.fit_resample(X_train, y_train)\n",
    "# print(sorted(Counter(y_down).items()))\n",
    "\n",
    "# %%time\n",
    "# smt_model = LogisticRegression(solver='liblinear').fit(X_smt, y_smt)\n",
    "# report(smt_model, X_test, y_test, sample_compare, 'smt_model')"
   ]
  },
  {
   "cell_type": "markdown",
   "metadata": {},
   "source": [
    "[Ensemble of samplers](https://imbalanced-learn.readthedocs.io/en/stable/ensemble.html) provides several ensemble estimator via conroling the sampling in the process, such that the booster, for example, get close balanced sample gtom both classes"
   ]
  },
  {
   "cell_type": "code",
   "execution_count": null,
   "metadata": {},
   "outputs": [],
   "source": [
    "%%time\n",
    "\n",
    "# Ensemble of samplers\n",
    "from imblearn.ensemble import BalancedBaggingClassifier\n",
    "from sklearn.tree import DecisionTreeClassifier\n",
    "\n",
    "bbc = BalancedBaggingClassifier(base_estimator=DecisionTreeClassifier(),\n",
    "                                sampling_strategy='auto',replacement=False,random_state=42)\n",
    "\n",
    "bbc_model = bbc.fit(X_train, y_train) "
   ]
  },
  {
   "cell_type": "code",
   "execution_count": null,
   "metadata": {},
   "outputs": [],
   "source": [
    "# report(bbc_model, X_test, y_test, sample_compare, 'bbc_model')"
   ]
  },
  {
   "cell_type": "code",
   "execution_count": null,
   "metadata": {},
   "outputs": [],
   "source": [
    "%%time\n",
    "\n",
    "# Ensemble of samplers\n",
    "from imblearn.ensemble import BalancedRandomForestClassifier\n",
    "brf = BalancedRandomForestClassifier(n_estimators=100, random_state=42)\n",
    "brf_model = brf.fit(X_train, y_train) "
   ]
  },
  {
   "cell_type": "code",
   "execution_count": null,
   "metadata": {},
   "outputs": [],
   "source": [
    "# report(brf_model, X_test, y_test, sample_compare, 'brf_model')"
   ]
  },
  {
   "cell_type": "code",
   "execution_count": null,
   "metadata": {},
   "outputs": [],
   "source": [
    "%%time\n",
    "\n",
    "# Ensemble of samplers\n",
    "from imblearn.ensemble import RUSBoostClassifier\n",
    "rusboost = RUSBoostClassifier(random_state=42)\n",
    "rusboost_model = rusboost.fit(X_train, y_train) "
   ]
  },
  {
   "cell_type": "code",
   "execution_count": null,
   "metadata": {},
   "outputs": [],
   "source": [
    "# report(rusboost_model, X_test, y_test, sample_compare, 'rusboost_model')"
   ]
  },
  {
   "cell_type": "code",
   "execution_count": null,
   "metadata": {},
   "outputs": [],
   "source": [
    "%%time\n",
    "\n",
    "# Ensemble of samplers\n",
    "from imblearn.ensemble import EasyEnsembleClassifier\n",
    "eec = EasyEnsembleClassifier(random_state=42)\n",
    "eec_model = eec.fit(X_train, y_train) \n"
   ]
  },
  {
   "cell_type": "code",
   "execution_count": null,
   "metadata": {},
   "outputs": [],
   "source": [
    "# report(eec_model, X_test, y_test, sample_compare, 'eec_model')"
   ]
  },
  {
   "cell_type": "code",
   "execution_count": null,
   "metadata": {},
   "outputs": [],
   "source": [
    "# report imbalanced sample approach here\n",
    "for key in sample_compare:\n",
    "    print(key)\n",
    "    print(sample_compare[key])\n"
   ]
  },
  {
   "cell_type": "code",
   "execution_count": null,
   "metadata": {},
   "outputs": [],
   "source": [
    "##dump data for next step \n",
    "\n",
    "from joblib import dump, load\n",
    "#X_train, X_test, X_hold, y_train, y_test, y_hold, vectorizer\n",
    "\n",
    "filename = 'data/sample_X_train.sav'\n",
    "dump(X_sm, filename)\n",
    "\n",
    "filename = 'data/sample_y_train.sav'\n",
    "dump(y_sm, filename)\n",
    "\n",
    "filename = 'data/sample_X_test.sav'\n",
    "dump(X_test, filename)\n",
    "\n",
    "filename = 'data/sample_y_test.sav'\n",
    "dump(y_test, filename)\n",
    "\n",
    "filename = 'data/sample_X_hold.sav'\n",
    "dump(X_hold, filename)\n",
    "\n",
    "filename = 'data/sample_y_hold.sav'\n",
    "dump(y_hold, filename)\n",
    "\n",
    "filename = 'data/sample_vectorizer.sav'\n",
    "dump(vectorizer, filename)\n"
   ]
  },
  {
   "cell_type": "markdown",
   "metadata": {},
   "source": [
    "## STEP 6 : BAG OF WORDS USING TRADITIONAL MACHINE LEARNING "
   ]
  },
  {
   "cell_type": "code",
   "execution_count": 9,
   "metadata": {},
   "outputs": [],
   "source": [
    "##load data for step \n",
    "\n",
    "from joblib import dump, load\n",
    "#X_train, X_test, X_hold, y_train, y_test, y_hold, vectorizer\n",
    "\n",
    "filename = 'data/sample_X_train.sav'\n",
    "X_train =load(filename)\n",
    "\n",
    "filename = 'data/sample_y_train.sav'\n",
    "y_train =load(filename)\n",
    "\n",
    "filename = 'data/sample_X_test.sav'\n",
    "X_test =load(filename)\n",
    "\n",
    "filename = 'data/sample_y_test.sav'\n",
    "y_test =load(filename)\n",
    "\n",
    "filename = 'data/sample_X_hold.sav'\n",
    "X_hold =load(filename)\n",
    "\n",
    "filename = 'data/sample_y_hold.sav'\n",
    "y_hold =load(filename)\n",
    "\n",
    "filename = 'data/sample_vectorizer.sav'\n",
    "vectorizer =load(filename)"
   ]
  },
  {
   "cell_type": "code",
   "execution_count": 10,
   "metadata": {},
   "outputs": [
    {
     "name": "stdout",
     "output_type": "stream",
     "text": [
      "(1568282, 196257)\n",
      "(1568282,)\n",
      "(208964, 196257)\n",
      "(208964,)\n",
      "(261204, 196257)\n",
      "(261204,)\n",
      "<class 'sklearn.feature_extraction.text.CountVectorizer'>\n"
     ]
    }
   ],
   "source": [
    "print(X_train.shape)\n",
    "print(y_train.shape)\n",
    "print(X_test.shape)\n",
    "print(y_test.shape)\n",
    "print(X_hold.shape)\n",
    "print(y_hold.shape)\n",
    "print(type(vectorizer))"
   ]
  },
  {
   "cell_type": "markdown",
   "metadata": {},
   "source": [
    "## Step 6.1 Quick ML Algorithm Comparison Using Small Sample Size"
   ]
  },
  {
   "cell_type": "markdown",
   "metadata": {},
   "source": [
    "<font color = 'blue'>This step uses 25% training data on selected algorithms for training and uses the same test data for performance comparison. It aims to decide the best algorithm to perform hyperparameter tuning. Some estimator also has class weight parameter such that the class_weight='balanced' will consider the imbalanced data and assign the weight accordingly. Just a note here that this class_weight parameter will be adopted if applicable even the data underwent the SMOT process and balanced. </font>\n"
   ]
  },
  {
   "cell_type": "code",
   "execution_count": 11,
   "metadata": {
    "scrolled": true
   },
   "outputs": [
    {
     "name": "stdout",
     "output_type": "stream",
     "text": [
      "(392070, 196257) (392070,)\n"
     ]
    }
   ],
   "source": [
    "from sklearn.model_selection import train_test_split, GridSearchCV\n",
    "\n",
    "# to store different accuracy result using X_test/y_test\n",
    "test_compare = {} \n",
    "\n",
    "X_train, _, y_train, _ = train_test_split(X_train, y_train, test_size = 0.75, train_size = 0.25, random_state = 42, stratify = y_train)\n",
    "print(X_train.shape, y_train.shape)\n"
   ]
  },
  {
   "cell_type": "code",
   "execution_count": 12,
   "metadata": {},
   "outputs": [
    {
     "name": "stdout",
     "output_type": "stream",
     "text": [
      "CPU times: user 328 ms, sys: 25.6 ms, total: 353 ms\n",
      "Wall time: 90.9 ms\n"
     ]
    }
   ],
   "source": [
    "%%time\n",
    "\n",
    "#for Algorithm (naive_bayes)\n",
    "from sklearn.naive_bayes import ComplementNB\n",
    "\n",
    "nbModel = ComplementNB().fit(X_train, y_train)"
   ]
  },
  {
   "cell_type": "code",
   "execution_count": 13,
   "metadata": {},
   "outputs": [
    {
     "name": "stdout",
     "output_type": "stream",
     "text": [
      "ComplementNB(alpha=1.0, class_prior=None, fit_prior=True, norm=False)\n",
      "              precision    recall  f1-score   support\n",
      "\n",
      "     Sincere       0.98      0.91      0.94    196036\n",
      "   Insincere       0.32      0.68      0.44     12928\n",
      "\n",
      "    accuracy                           0.89    208964\n",
      "   macro avg       0.65      0.79      0.69    208964\n",
      "weighted avg       0.94      0.89      0.91    208964\n",
      "\n"
     ]
    },
    {
     "data": {
      "image/png": "[encoded data removed]",
      "text/plain": [
       "<Figure size 360x360 with 2 Axes>"
      ]
     },
     "metadata": {
      "needs_background": "light"
     },
     "output_type": "display_data"
    },
    {
     "data": {
      "image/png": "[encoded data removed]",
      "text/plain": [
       "<Figure size 432x288 with 1 Axes>"
      ]
     },
     "metadata": {
      "needs_background": "light"
     },
     "output_type": "display_data"
    }
   ],
   "source": [
    "report(nbModel, X_test, y_test, test_compare, 'nbModel')"
   ]
  },
  {
   "cell_type": "code",
   "execution_count": 14,
   "metadata": {},
   "outputs": [
    {
     "name": "stdout",
     "output_type": "stream",
     "text": [
      "CPU times: user 16.1 s, sys: 232 ms, total: 16.3 s\n",
      "Wall time: 4.13 s\n"
     ]
    }
   ],
   "source": [
    "%%time\n",
    "\n",
    "#for Algorithm (logisticRegression)\n",
    "from sklearn.linear_model import LogisticRegression\n",
    "\n",
    "lgModel = LogisticRegression(solver='liblinear', random_state=42,class_weight='balanced').fit(X_train, y_train)\n"
   ]
  },
  {
   "cell_type": "code",
   "execution_count": 15,
   "metadata": {},
   "outputs": [
    {
     "name": "stdout",
     "output_type": "stream",
     "text": [
      "LogisticRegression(C=1.0, class_weight='balanced', dual=False,\n",
      "                   fit_intercept=True, intercept_scaling=1, l1_ratio=None,\n",
      "                   max_iter=100, multi_class='warn', n_jobs=None, penalty='l2',\n",
      "                   random_state=42, solver='liblinear', tol=0.0001, verbose=0,\n",
      "                   warm_start=False)\n",
      "              precision    recall  f1-score   support\n",
      "\n",
      "     Sincere       0.97      0.89      0.93    196036\n",
      "   Insincere       0.25      0.57      0.35     12928\n",
      "\n",
      "    accuracy                           0.87    208964\n",
      "   macro avg       0.61      0.73      0.64    208964\n",
      "weighted avg       0.92      0.87      0.89    208964\n",
      "\n"
     ]
    },
    {
     "data": {
      "image/png": "[encoded data removed]",
      "text/plain": [
       "<Figure size 360x360 with 2 Axes>"
      ]
     },
     "metadata": {
      "needs_background": "light"
     },
     "output_type": "display_data"
    },
    {
     "data": {
      "image/png": "[encoded data removed]",
      "text/plain": [
       "<Figure size 432x288 with 1 Axes>"
      ]
     },
     "metadata": {
      "needs_background": "light"
     },
     "output_type": "display_data"
    }
   ],
   "source": [
    "report(lgModel, X_test, y_test, test_compare, 'lgModel')"
   ]
  },
  {
   "cell_type": "code",
   "execution_count": null,
   "metadata": {},
   "outputs": [],
   "source": [
    "%%time\n",
    "\n",
    "#for Algorithm (SVC)\n",
    "from sklearn.svm import SVC, LinearSVC\n",
    "\n",
    "svcModel = SVC(random_state=42, gamma='scale', class_weight='balanced', probability=True).fit(X_train, y_train)\n"
   ]
  },
  {
   "cell_type": "code",
   "execution_count": null,
   "metadata": {},
   "outputs": [],
   "source": [
    "report(svcModel, X_test, y_test, test_compare, 'svcModel')"
   ]
  },
  {
   "cell_type": "code",
   "execution_count": null,
   "metadata": {},
   "outputs": [],
   "source": [
    "%%time\n",
    "\n",
    "#for Algorithm (RandomForest)\n",
    "from sklearn.ensemble import RandomForestClassifier\n",
    "\n",
    "rfModel = RandomForestClassifier(random_state=42,class_weight='balanced').fit(X_train, y_train)\n"
   ]
  },
  {
   "cell_type": "code",
   "execution_count": null,
   "metadata": {},
   "outputs": [],
   "source": [
    "report(rfModel, X_test, y_test, test_compare, 'rfModel')"
   ]
  },
  {
   "cell_type": "code",
   "execution_count": null,
   "metadata": {},
   "outputs": [],
   "source": [
    "%%time\n",
    "\n",
    "#for Algorithm (GradientBoosting)\n",
    "from sklearn.ensemble import GradientBoostingClassifier\n",
    "\n",
    "gbModel = GradientBoostingClassifier(random_state=42,).fit(X_train, y_train)\n"
   ]
  },
  {
   "cell_type": "code",
   "execution_count": null,
   "metadata": {},
   "outputs": [],
   "source": [
    "report(gbModel, X_test, y_test, test_compare, 'gbModel')"
   ]
  },
  {
   "cell_type": "code",
   "execution_count": null,
   "metadata": {},
   "outputs": [],
   "source": [
    "# report the diff for 5% data on algorithms \n",
    "for key in test_compare:\n",
    "    print(key)\n",
    "    print(test_compare[key])"
   ]
  },
  {
   "cell_type": "markdown",
   "metadata": {},
   "source": [
    "## Step 6.2 hyperparameter Tuning (Grid Search) for Best Candidate Algorithm"
   ]
  },
  {
   "cell_type": "markdown",
   "metadata": {},
   "source": [
    "compare result with the result from prototype in hold out set\n",
    "plot grid seaarch, comparing with the LogisticRegression using SMOT data"
   ]
  },
  {
   "cell_type": "code",
   "execution_count": null,
   "metadata": {},
   "outputs": [],
   "source": [
    "#all training data\n",
    "filename = 'data/sample_X_train.sav'\n",
    "X_train =load(filename)\n",
    "\n",
    "filename = 'data/sample_y_train.sav'\n",
    "y_train =load(filename)\n",
    "\n",
    "hold_compare = {}"
   ]
  },
  {
   "cell_type": "code",
   "execution_count": null,
   "metadata": {},
   "outputs": [],
   "source": [
    "%%time\n",
    "\n",
    "from sklearn.linear_model import LogisticRegression\n",
    "import numpy as np\n",
    "\n",
    "param_grid = {'C': [0.001, 0.05, 0.1, 1, 10, 100], 'solver':['liblinear','newton-cg','lbfgs','sag'],}        \n",
    "e = LogisticRegression(max_iter=1000, random_state=42, verbose=0)\n",
    "searchLg = GridSearchCV(e, param_grid, cv=5, verbose=0, scoring='roc_auc')\n",
    "searchLg.fit(X_train, y_train)\n",
    "best= searchLg.best_estimator_ \n",
    "best.fit(X_test, y_test)\n",
    "\n",
    "name = 'data/lrReSampledModel.sav'\n",
    "dump(best, name)\n",
    "\n",
    "report(best, X_hold, y_hold, hold_compare, 'LogisticRegression')"
   ]
  },
  {
   "cell_type": "code",
   "execution_count": null,
   "metadata": {},
   "outputs": [],
   "source": [
    "%%time\n",
    "\n",
    "from sklearn.ensemble import GradientBoostingClassifier\n",
    "import numpy as np\n",
    "\n",
    "param_grid = {'learning_rate' : [0.3, 0.8, 1.5] , 'n_estimators':[50, 100, 150], \n",
    "              'subsample' : [0.2, 0.5, 1.0], 'max_depth' : [5, 10, 20]} \n",
    "e = GradientBoostingClassifier(random_state=42, verbose=1)\n",
    "\n",
    "searchBest = GridSearchCV(e, param_grid, cv=5, verbose=0, scoring='roc_auc')\n",
    "searchBest.fit(X_train, y_train)\n",
    "best= searchBest.best_estimator_ \n",
    "best.fit(X_test, y_test)\n",
    "\n",
    "name = 'data/bestReSampledModel.sav'\n",
    "dump(best, name)\n",
    "report(best, X_hold, y_hold, hold_compare, 'Selected')"
   ]
  },
  {
   "cell_type": "markdown",
   "metadata": {},
   "source": [
    "## Step 6.3 report the score for best model on hold out set "
   ]
  },
  {
   "cell_type": "markdown",
   "metadata": {},
   "source": [
    "<font color='red'>report </font>"
   ]
  },
  {
   "cell_type": "code",
   "execution_count": null,
   "metadata": {},
   "outputs": [],
   "source": [
    "for key in hold_compare:\n",
    "    print(key)\n",
    "    print(hold_compare[key])\n"
   ]
  },
  {
   "cell_type": "code",
   "execution_count": null,
   "metadata": {},
   "outputs": [],
   "source": [
    "plt.plot(searchBest.cv_results_['mean_test_score'], 'bo')\n",
    "plt.plot(searchLg.cv_results_['mean_test_score'], 'ro')\n",
    "plt.show()"
   ]
  },
  {
   "cell_type": "markdown",
   "metadata": {},
   "source": [
    "## Step 7  CONVERT ALL STEPS INTO SPARK?!"
   ]
  },
  {
   "cell_type": "code",
   "execution_count": null,
   "metadata": {},
   "outputs": [],
   "source": []
  },
  {
   "cell_type": "markdown",
   "metadata": {},
   "source": [
    "<B>Reference</B>"
   ]
  },
  {
   "cell_type": "markdown",
   "metadata": {},
   "source": [
    "Progress bar?  [Progress Bars in Python\n",
    "](https://towardsdatascience.com/progress-bars-in-python-4b44e8a4c482),   Do we have progress bar for sklearn ? verbose=1 for now \n",
    "\n",
    "[How to graph grid scores from GridSearchCV?](https://stackoverflow.com/questions/37161563/how-to-graph-grid-scores-from-gridsearchcv)\n",
    "\n",
    "[Multi-Class Text Classification Model Comparison and Selection](https://towardsdatascience.com/multi-class-text-classification-model-comparison-and-selection-5eb066197568)\n",
    "\n",
    "<B>[Dealing with Imbalanced Data](https://towardsdatascience.com/methods-for-dealing-with-imbalanced-data-5b761be45a18)</B>"
   ]
  },
  {
   "cell_type": "markdown",
   "metadata": {},
   "source": [
    "<B>information for next step</B>"
   ]
  },
  {
   "cell_type": "markdown",
   "metadata": {},
   "source": [
    "<B>[A Comprehensive Guide to Understand and Implement Text Classification in Python](https://www.analyticsvidhya.com/blog/2018/04/a-comprehensive-guide-to-understand-and-implement-text-classification-in-python/)</B>\n",
    "\n",
    "<B>[An implementation guide to Word2Vec using NumPy and Google Sheets](https://towardsdatascience.com/an-implementation-guide-to-word2vec-using-numpy-and-google-sheets-13445eebd281)</B>"
   ]
  },
  {
   "cell_type": "code",
   "execution_count": null,
   "metadata": {},
   "outputs": [],
   "source": []
  }
 ],
 "metadata": {
  "kernelspec": {
   "display_name": "Python 3",
   "language": "python",
   "name": "python3"
  },
  "language_info": {
   "codemirror_mode": {
    "name": "ipython",
    "version": 3
   },
   "file_extension": ".py",
   "mimetype": "text/x-python",
   "name": "python",
   "nbconvert_exporter": "python",
   "pygments_lexer": "ipython3",
   "version": "3.7.1"
  }
 },
 "nbformat": 4,
 "nbformat_minor": 2
}
