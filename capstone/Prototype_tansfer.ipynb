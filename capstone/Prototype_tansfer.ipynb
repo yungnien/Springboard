{
  "nbformat": 4,
  "nbformat_minor": 0,
  "metadata": {
    "colab": {
      "name": "Prototype-tansfer.ipynb",
      "version": "0.3.2",
      "provenance": [],
      "collapsed_sections": [],
      "machine_shape": "hm"
    },
    "kernelspec": {
      "name": "python3",
      "display_name": "Python 3"
    },
    "accelerator": "GPU"
  },
  "cells": [
    {
      "cell_type": "code",
      "metadata": {
        "id": "2zqYZB61k48h",
        "colab_type": "code",
        "colab": {}
      },
      "source": [
        ""
      ],
      "execution_count": 0,
      "outputs": []
    },
    {
      "cell_type": "markdown",
      "metadata": {
        "id": "-Uw9KpBCk6g1",
        "colab_type": "text"
      },
      "source": [
        "#0. Import library, define functons and constant"
      ]
    },
    {
      "cell_type": "code",
      "metadata": {
        "id": "Z0LDUea9jIAa",
        "colab_type": "code",
        "outputId": "d8761ccd-f3ef-442f-b768-34673666c735",
        "colab": {
          "base_uri": "https://localhost:8080/",
          "height": 122
        }
      },
      "source": [
        "!pip install tensorflow-hub"
      ],
      "execution_count": 0,
      "outputs": [
        {
          "output_type": "stream",
          "text": [
            "Requirement already satisfied: tensorflow-hub in /usr/local/lib/python3.6/dist-packages (0.5.0)\n",
            "Requirement already satisfied: numpy>=1.12.0 in /usr/local/lib/python3.6/dist-packages (from tensorflow-hub) (1.16.4)\n",
            "Requirement already satisfied: six>=1.10.0 in /usr/local/lib/python3.6/dist-packages (from tensorflow-hub) (1.12.0)\n",
            "Requirement already satisfied: protobuf>=3.4.0 in /usr/local/lib/python3.6/dist-packages (from tensorflow-hub) (3.7.1)\n",
            "Requirement already satisfied: setuptools in /usr/local/lib/python3.6/dist-packages (from protobuf>=3.4.0->tensorflow-hub) (41.0.1)\n"
          ],
          "name": "stdout"
        }
      ]
    },
    {
      "cell_type": "code",
      "metadata": {
        "id": "DQPc0QRm-IVp",
        "colab_type": "code",
        "outputId": "e4556395-0f44-4e55-f809-7bbdc5aae9cf",
        "colab": {
          "base_uri": "https://localhost:8080/",
          "height": 1000
        }
      },
      "source": [
        "!pip install nltk\n",
        "!pip install contractions\n",
        "!pip install textsearch\n",
        "!pip install flair"
      ],
      "execution_count": 0,
      "outputs": [
        {
          "output_type": "stream",
          "text": [
            "Requirement already satisfied: nltk in /usr/local/lib/python3.6/dist-packages (3.2.5)\n",
            "Requirement already satisfied: six in /usr/local/lib/python3.6/dist-packages (from nltk) (1.12.0)\n",
            "Collecting contractions\n",
            "  Downloading https://files.pythonhosted.org/packages/f5/2a/ba0a3812e2a1de2cc4ee0ded0bdb750a7cef1631c13c78a4fc4ab042adec/contractions-0.0.21-py2.py3-none-any.whl\n",
            "Installing collected packages: contractions\n",
            "Successfully installed contractions-0.0.21\n",
            "Collecting textsearch\n",
            "  Downloading https://files.pythonhosted.org/packages/42/a8/03407021f9555043de5492a2bd7a35c56cc03c2510092b5ec018cae1bbf1/textsearch-0.0.17-py2.py3-none-any.whl\n",
            "Collecting Unidecode (from textsearch)\n",
            "\u001b[?25l  Downloading https://files.pythonhosted.org/packages/d0/42/d9edfed04228bacea2d824904cae367ee9efd05e6cce7ceaaedd0b0ad964/Unidecode-1.1.1-py2.py3-none-any.whl (238kB)\n",
            "\u001b[K     |████████████████████████████████| 245kB 4.1MB/s \n",
            "\u001b[?25hCollecting pyahocorasick (from textsearch)\n",
            "\u001b[?25l  Downloading https://files.pythonhosted.org/packages/f4/9f/f0d8e8850e12829eea2e778f1c90e3c53a9a799b7f412082a5d21cd19ae1/pyahocorasick-1.4.0.tar.gz (312kB)\n",
            "\u001b[K     |████████████████████████████████| 317kB 34.4MB/s \n",
            "\u001b[?25hBuilding wheels for collected packages: pyahocorasick\n",
            "  Building wheel for pyahocorasick (setup.py) ... \u001b[?25l\u001b[?25hdone\n",
            "  Created wheel for pyahocorasick: filename=pyahocorasick-1.4.0-cp36-cp36m-linux_x86_64.whl size=81700 sha256=4f8c8f26dae9de8cf313301de6b195c7b562dd5eb37a21e93e41bcf2ca7e3cf8\n",
            "  Stored in directory: /root/.cache/pip/wheels/0a/90/61/87a55f5b459792fbb2b7ba6b31721b06ff5cf6bde541b40994\n",
            "Successfully built pyahocorasick\n",
            "Installing collected packages: Unidecode, pyahocorasick, textsearch\n",
            "Successfully installed Unidecode-1.1.1 pyahocorasick-1.4.0 textsearch-0.0.17\n",
            "Collecting flair\n",
            "\u001b[?25l  Downloading https://files.pythonhosted.org/packages/4e/3a/2e777f65a71c1eaa259df44c44e39d7071ba8c7780a1564316a38bf86449/flair-0.4.2-py3-none-any.whl (136kB)\n",
            "\u001b[K     |████████████████████████████████| 143kB 2.8MB/s \n",
            "\u001b[?25hRequirement already satisfied: torch>=1.0.0 in /usr/local/lib/python3.6/dist-packages (from flair) (1.1.0)\n",
            "Collecting segtok>=1.5.7 (from flair)\n",
            "  Downloading https://files.pythonhosted.org/packages/1d/59/6ed78856ab99d2da04084b59e7da797972baa0efecb71546b16d48e49d9b/segtok-1.5.7.tar.gz\n",
            "Requirement already satisfied: sklearn in /usr/local/lib/python3.6/dist-packages (from flair) (0.0)\n",
            "Requirement already satisfied: matplotlib>=2.2.3 in /usr/local/lib/python3.6/dist-packages (from flair) (3.0.3)\n",
            "Collecting bpemb>=0.2.9 (from flair)\n",
            "  Downloading https://files.pythonhosted.org/packages/bc/70/468a9652095b370f797ed37ff77e742b11565c6fd79eaeca5f2e50b164a7/bpemb-0.3.0-py3-none-any.whl\n",
            "Collecting sqlitedict>=1.6.0 (from flair)\n",
            "  Downloading https://files.pythonhosted.org/packages/0f/1c/c757b93147a219cf1e25cef7e1ad9b595b7f802159493c45ce116521caff/sqlitedict-1.6.0.tar.gz\n",
            "Collecting deprecated>=1.2.4 (from flair)\n",
            "  Downloading https://files.pythonhosted.org/packages/88/0e/9d5a1a8cd7130c49334cce7b8167ceda63d6a329c8ea65b626116bc9e9e6/Deprecated-1.2.6-py2.py3-none-any.whl\n",
            "Collecting mpld3==0.3 (from flair)\n",
            "\u001b[?25l  Downloading https://files.pythonhosted.org/packages/91/95/a52d3a83d0a29ba0d6898f6727e9858fe7a43f6c2ce81a5fe7e05f0f4912/mpld3-0.3.tar.gz (788kB)\n",
            "\u001b[K     |████████████████████████████████| 798kB 46.7MB/s \n",
            "\u001b[?25hCollecting regex (from flair)\n",
            "\u001b[?25l  Downloading https://files.pythonhosted.org/packages/6f/4e/1b178c38c9a1a184288f72065a65ca01f3154df43c6ad898624149b8b4e0/regex-2019.06.08.tar.gz (651kB)\n",
            "\u001b[K     |████████████████████████████████| 655kB 43.5MB/s \n",
            "\u001b[?25hRequirement already satisfied: hyperopt>=0.1.1 in /usr/local/lib/python3.6/dist-packages (from flair) (0.1.2)\n",
            "Requirement already satisfied: urllib3<1.25,>=1.20 in /usr/local/lib/python3.6/dist-packages (from flair) (1.24.3)\n",
            "Collecting pytorch-pretrained-bert>=0.6.1 (from flair)\n",
            "\u001b[?25l  Downloading https://files.pythonhosted.org/packages/d7/e0/c08d5553b89973d9a240605b9c12404bcf8227590de62bae27acbcfe076b/pytorch_pretrained_bert-0.6.2-py3-none-any.whl (123kB)\n",
            "\u001b[K     |████████████████████████████████| 133kB 45.4MB/s \n",
            "\u001b[?25hRequirement already satisfied: tqdm>=4.26.0 in /usr/local/lib/python3.6/dist-packages (from flair) (4.28.1)\n",
            "Requirement already satisfied: tabulate in /usr/local/lib/python3.6/dist-packages (from flair) (0.8.3)\n",
            "Requirement already satisfied: pytest>=3.6.4 in /usr/local/lib/python3.6/dist-packages (from flair) (3.6.4)\n",
            "Requirement already satisfied: gensim>=3.4.0 in /usr/local/lib/python3.6/dist-packages (from flair) (3.6.0)\n",
            "Requirement already satisfied: numpy in /usr/local/lib/python3.6/dist-packages (from torch>=1.0.0->flair) (1.16.4)\n",
            "Requirement already satisfied: scikit-learn in /usr/local/lib/python3.6/dist-packages (from sklearn->flair) (0.21.3)\n",
            "Requirement already satisfied: python-dateutil>=2.1 in /usr/local/lib/python3.6/dist-packages (from matplotlib>=2.2.3->flair) (2.5.3)\n",
            "Requirement already satisfied: cycler>=0.10 in /usr/local/lib/python3.6/dist-packages (from matplotlib>=2.2.3->flair) (0.10.0)\n",
            "Requirement already satisfied: kiwisolver>=1.0.1 in /usr/local/lib/python3.6/dist-packages (from matplotlib>=2.2.3->flair) (1.1.0)\n",
            "Requirement already satisfied: pyparsing!=2.0.4,!=2.1.2,!=2.1.6,>=2.0.1 in /usr/local/lib/python3.6/dist-packages (from matplotlib>=2.2.3->flair) (2.4.2)\n",
            "Requirement already satisfied: requests in /usr/local/lib/python3.6/dist-packages (from bpemb>=0.2.9->flair) (2.21.0)\n",
            "Collecting sentencepiece (from bpemb>=0.2.9->flair)\n",
            "\u001b[?25l  Downloading https://files.pythonhosted.org/packages/00/95/7f357995d5eb1131aa2092096dca14a6fc1b1d2860bd99c22a612e1d1019/sentencepiece-0.1.82-cp36-cp36m-manylinux1_x86_64.whl (1.0MB)\n",
            "\u001b[K     |████████████████████████████████| 1.0MB 42.8MB/s \n",
            "\u001b[?25hRequirement already satisfied: wrapt<2,>=1.10 in /usr/local/lib/python3.6/dist-packages (from deprecated>=1.2.4->flair) (1.11.2)\n",
            "Requirement already satisfied: future in /usr/local/lib/python3.6/dist-packages (from hyperopt>=0.1.1->flair) (0.16.0)\n",
            "Requirement already satisfied: scipy in /usr/local/lib/python3.6/dist-packages (from hyperopt>=0.1.1->flair) (1.3.0)\n",
            "Requirement already satisfied: networkx in /usr/local/lib/python3.6/dist-packages (from hyperopt>=0.1.1->flair) (2.3)\n",
            "Requirement already satisfied: pymongo in /usr/local/lib/python3.6/dist-packages (from hyperopt>=0.1.1->flair) (3.8.0)\n",
            "Requirement already satisfied: six in /usr/local/lib/python3.6/dist-packages (from hyperopt>=0.1.1->flair) (1.12.0)\n",
            "Requirement already satisfied: boto3 in /usr/local/lib/python3.6/dist-packages (from pytorch-pretrained-bert>=0.6.1->flair) (1.9.202)\n",
            "Requirement already satisfied: atomicwrites>=1.0 in /usr/local/lib/python3.6/dist-packages (from pytest>=3.6.4->flair) (1.3.0)\n",
            "Requirement already satisfied: attrs>=17.4.0 in /usr/local/lib/python3.6/dist-packages (from pytest>=3.6.4->flair) (19.1.0)\n",
            "Requirement already satisfied: more-itertools>=4.0.0 in /usr/local/lib/python3.6/dist-packages (from pytest>=3.6.4->flair) (7.2.0)\n",
            "Requirement already satisfied: pluggy<0.8,>=0.5 in /usr/local/lib/python3.6/dist-packages (from pytest>=3.6.4->flair) (0.7.1)\n",
            "Requirement already satisfied: py>=1.5.0 in /usr/local/lib/python3.6/dist-packages (from pytest>=3.6.4->flair) (1.8.0)\n",
            "Requirement already satisfied: setuptools in /usr/local/lib/python3.6/dist-packages (from pytest>=3.6.4->flair) (41.0.1)\n",
            "Requirement already satisfied: smart-open>=1.2.1 in /usr/local/lib/python3.6/dist-packages (from gensim>=3.4.0->flair) (1.8.4)\n",
            "Requirement already satisfied: joblib>=0.11 in /usr/local/lib/python3.6/dist-packages (from scikit-learn->sklearn->flair) (0.13.2)\n",
            "Requirement already satisfied: idna<2.9,>=2.5 in /usr/local/lib/python3.6/dist-packages (from requests->bpemb>=0.2.9->flair) (2.8)\n",
            "Requirement already satisfied: certifi>=2017.4.17 in /usr/local/lib/python3.6/dist-packages (from requests->bpemb>=0.2.9->flair) (2019.6.16)\n",
            "Requirement already satisfied: chardet<3.1.0,>=3.0.2 in /usr/local/lib/python3.6/dist-packages (from requests->bpemb>=0.2.9->flair) (3.0.4)\n",
            "Requirement already satisfied: decorator>=4.3.0 in /usr/local/lib/python3.6/dist-packages (from networkx->hyperopt>=0.1.1->flair) (4.4.0)\n",
            "Requirement already satisfied: botocore<1.13.0,>=1.12.202 in /usr/local/lib/python3.6/dist-packages (from boto3->pytorch-pretrained-bert>=0.6.1->flair) (1.12.202)\n",
            "Requirement already satisfied: jmespath<1.0.0,>=0.7.1 in /usr/local/lib/python3.6/dist-packages (from boto3->pytorch-pretrained-bert>=0.6.1->flair) (0.9.4)\n",
            "Requirement already satisfied: s3transfer<0.3.0,>=0.2.0 in /usr/local/lib/python3.6/dist-packages (from boto3->pytorch-pretrained-bert>=0.6.1->flair) (0.2.1)\n",
            "Requirement already satisfied: boto>=2.32 in /usr/local/lib/python3.6/dist-packages (from smart-open>=1.2.1->gensim>=3.4.0->flair) (2.49.0)\n",
            "Requirement already satisfied: docutils<0.15,>=0.10 in /usr/local/lib/python3.6/dist-packages (from botocore<1.13.0,>=1.12.202->boto3->pytorch-pretrained-bert>=0.6.1->flair) (0.14)\n",
            "Building wheels for collected packages: segtok, sqlitedict, mpld3, regex\n",
            "  Building wheel for segtok (setup.py) ... \u001b[?25l\u001b[?25hdone\n",
            "  Created wheel for segtok: filename=segtok-1.5.7-cp36-none-any.whl size=23257 sha256=119fb69cb8dbca9b7eb2f2d1bae14d809f0506cd6801a7f6bfc9fdfbf511a135\n",
            "  Stored in directory: /root/.cache/pip/wheels/15/ee/a8/6112173f1386d33eebedb3f73429cfa41a4c3084556bcee254\n",
            "  Building wheel for sqlitedict (setup.py) ... \u001b[?25l\u001b[?25hdone\n",
            "  Created wheel for sqlitedict: filename=sqlitedict-1.6.0-cp36-none-any.whl size=14689 sha256=d29e71f29db194444cda7687bb0aabe3f85eaec2490423fa6a2c259137637997\n",
            "  Stored in directory: /root/.cache/pip/wheels/bd/57/d3/907c3ee02d35e66f674ad0106e61f06eeeb98f6ee66a6cc3fe\n",
            "  Building wheel for mpld3 (setup.py) ... \u001b[?25l\u001b[?25hdone\n",
            "  Created wheel for mpld3: filename=mpld3-0.3-cp36-none-any.whl size=116679 sha256=222bc970c90351bda8e7eac05ea69bb03620588dde966baed03466add1db6da9\n",
            "  Stored in directory: /root/.cache/pip/wheels/c0/47/fb/8a64f89aecfe0059830479308ad42d62e898a3e3cefdf6ba28\n",
            "  Building wheel for regex (setup.py) ... \u001b[?25l\u001b[?25hdone\n",
            "  Created wheel for regex: filename=regex-2019.6.8-cp36-cp36m-linux_x86_64.whl size=604148 sha256=3d7b1086a50751c171a7d333f5bf5f848208403679f663c7b2904375e87ca1ef\n",
            "  Stored in directory: /root/.cache/pip/wheels/35/e4/80/abf3b33ba89cf65cd262af8a22a5a999cc28fbfabea6b38473\n",
            "Successfully built segtok sqlitedict mpld3 regex\n",
            "Installing collected packages: regex, segtok, sentencepiece, bpemb, sqlitedict, deprecated, mpld3, pytorch-pretrained-bert, flair\n",
            "Successfully installed bpemb-0.3.0 deprecated-1.2.6 flair-0.4.2 mpld3-0.3 pytorch-pretrained-bert-0.6.2 regex-2019.6.8 segtok-1.5.7 sentencepiece-0.1.82 sqlitedict-1.6.0\n"
          ],
          "name": "stdout"
        }
      ]
    },
    {
      "cell_type": "code",
      "metadata": {
        "id": "qhoRkV_V4xZP",
        "colab_type": "code",
        "outputId": "4e50fd4b-8424-40f7-8981-bd4229cb4dbc",
        "colab": {
          "base_uri": "https://localhost:8080/",
          "height": 122
        }
      },
      "source": [
        "from google.colab import drive\n",
        "drive.mount('/content/gdrive')"
      ],
      "execution_count": 0,
      "outputs": [
        {
          "output_type": "stream",
          "text": [
            "Go to this URL in a browser: https://accounts.google.com/o/oauth2/auth?client_id=947318989803-6bn6qk8qdgf4n4g3pfee6491hc0brc4i.apps.googleusercontent.com&redirect_uri=urn%3Aietf%3Awg%3Aoauth%3A2.0%3Aoob&scope=email%20https%3A%2F%2Fwww.googleapis.com%2Fauth%2Fdocs.test%20https%3A%2F%2Fwww.googleapis.com%2Fauth%2Fdrive%20https%3A%2F%2Fwww.googleapis.com%2Fauth%2Fdrive.photos.readonly%20https%3A%2F%2Fwww.googleapis.com%2Fauth%2Fpeopleapi.readonly&response_type=code\n",
            "\n",
            "Enter your authorization code:\n",
            "··········\n",
            "Mounted at /content/gdrive\n"
          ],
          "name": "stdout"
        }
      ]
    },
    {
      "cell_type": "code",
      "metadata": {
        "id": "ejJwG_Pl7Mju",
        "colab_type": "code",
        "outputId": "a69ae865-e4a1-4189-b48f-77de0ace23db",
        "colab": {
          "base_uri": "https://localhost:8080/",
          "height": 204
        }
      },
      "source": [
        "%%time\n",
        "\n",
        "import contractions\n",
        "import re\n",
        "import nltk\n",
        "from nltk.tokenize import word_tokenize \n",
        "from nltk.corpus import  wordnet, stopwords \n",
        "\n",
        "nltk.download('punkt')\n",
        "nltk.download('wordnet')\n",
        "nltk.download('averaged_perceptron_tagger')\n",
        "nltk.download('stopwords')\n",
        "\n",
        "from joblib import dump, load\n",
        "\n",
        "import seaborn as sns\n",
        "import matplotlib.pyplot as plt\n",
        "import numpy as np\n",
        "import pandas as pd\n",
        "\n",
        "import gensim\n",
        "from gensim.models import Word2Vec, KeyedVectors\n",
        "\n",
        "from sklearn.linear_model import LogisticRegression, LogisticRegressionCV\n",
        "from sklearn.feature_extraction.text import CountVectorizer, TfidfTransformer\n",
        "from sklearn.pipeline import Pipeline\n",
        "from sklearn.metrics import roc_auc_score, roc_curve, auc \n",
        "from sklearn.metrics import confusion_matrix, classification_report, accuracy_score\n",
        "from sklearn.model_selection import train_test_split\n",
        "\n",
        "import tensorflow as tf\n",
        "from tensorflow.python.keras.preprocessing.text import Tokenizer\n",
        "from tensorflow.python.keras.models import Sequential, model_from_json\n",
        "from tensorflow.python.keras.layers import Dense, GRU, Embedding, Dropout, Activation\n",
        "from tensorflow.python.keras import metrics\n",
        "from tensorflow.python.keras.optimizers import Adam\n",
        "from tensorflow.python.keras.preprocessing.sequence import pad_sequences\n",
        "\n",
        "from flair.data_fetcher import NLPTaskDataFetcher\n",
        "from flair.embeddings import WordEmbeddings, FlairEmbeddings, DocumentLSTMEmbeddings\n",
        "from flair.models import TextClassifier\n",
        "from flair.trainers import ModelTrainer\n",
        "from pathlib import Path\n",
        "from flair.data import Sentence\n",
        "\n",
        "def remove_white_space(text):\n",
        "    return text.strip().strip('\\t\\n')\n",
        "\n",
        "def remove_special_character(text):\n",
        "    return re.sub('[^A-Za-z0-9\\s]+', '', text)\n",
        "\n",
        "def report(y, predicted):\n",
        "    target_names = ['Sincere', 'Insincere']\n",
        "        \n",
        "    #classification_report \n",
        "    report = classification_report(y, predicted, target_names = target_names)\n",
        "    print(report)\n",
        "    \n",
        "    #confusion matrix\n",
        "    matrix = confusion_matrix(y, predicted)\n",
        "    fig, ax = plt.subplots(figsize = (5,5))\n",
        "    sns.heatmap(matrix, annot = True, fmt = 'd')\n",
        "    plt.ylabel('Actual')\n",
        "    plt.xlabel('Predicted')\n",
        "    plt.show()\n",
        "    \n",
        "def plot_history(history):\n",
        "    acc = history.history['acc']\n",
        "    val_acc = history.history['val_acc']\n",
        "    loss = history.history['loss']\n",
        "    val_loss = history.history['val_loss']\n",
        "    x = range(1, len(acc) + 1)\n",
        "    plt.figure(figsize=(12, 5))\n",
        "    plt.subplot(1, 2, 1)\n",
        "    plt.plot(x, acc, 'b', label='Training acc')\n",
        "    plt.plot(x, val_acc, 'r', label='Validation acc')\n",
        "    plt.title('Training and validation accuracy')\n",
        "    plt.legend()\n",
        "    plt.subplot(1, 2, 2)\n",
        "    plt.plot(x, loss, 'b', label='Training loss')\n",
        "    plt.plot(x, val_loss, 'r', label='Validation loss')\n",
        "    plt.title('Training and validation loss')\n",
        "    plt.legend()\n",
        "    plt.show()\n",
        "    \n",
        "    \n",
        "def plot_roc(y, predicted):\n",
        "    #roc curve\n",
        "    fpr, tpr, thresholds = roc_curve(y, predicted, pos_label = 1)\n",
        "    roc_auc = auc(fpr, tpr)\n",
        "    fpr1, tpr1, thresholds1 = roc_curve(y, 1- predicted, pos_label = 0)\n",
        "    roc_auc1 = auc(fpr1, tpr1)\n",
        "\n",
        "    plt.figure()\n",
        "    plt.plot(fpr, tpr, color ='blue', lw = 1, label = 'ROC curve for sincere (area = %0.2f)' % roc_auc)\n",
        "    plt.plot(fpr1, tpr1, color ='red', lw = 1, label = 'ROC curve for insincere (area = %0.2f)' % roc_auc1)\n",
        "    plt.plot([0, 1], [0, 1], color ='black', lw = 1, linestyle = '--')\n",
        "    plt.xlim([0.0, 1.0])\n",
        "    plt.ylim([0.0, 1.05])\n",
        "    plt.xlabel('False Positive Rate')\n",
        "    plt.ylabel('True Positive Rate')\n",
        "    plt.legend(loc = \"lower right\")\n",
        "    plt.show()\n",
        "    \n",
        "def word_averaging(wv, words):\n",
        "    all_words, mean = set(), []\n",
        "    \n",
        "    for word in words:\n",
        "        if isinstance(word, np.ndarray):\n",
        "            mean.append(word)\n",
        "        elif word in wv.vocab:\n",
        "            mean.append(wv.syn0norm[wv.vocab[word].index])\n",
        "            all_words.add(wv.vocab[word].index)\n",
        "\n",
        "    if not mean:\n",
        "        print(\"cannot compute similarity with no input %s\", words)\n",
        "        return np.zeros(wv.vector_size,)\n",
        "\n",
        "    mean = gensim.matutils.unitvec(np.array(mean).mean(axis=0)).astype(np.float32)\n",
        "    return mean\n",
        "\n",
        "def  word_averaging_list(wv, docs):\n",
        "    return np.vstack([word_averaging(wv, doc) for doc in docs])\n",
        "  \n",
        "def  word_doc2vec_list(model, docs):\n",
        "    return np.vstack([model.infer_vector(doc.split()) for doc in docs])"
      ],
      "execution_count": 0,
      "outputs": [
        {
          "output_type": "stream",
          "text": [
            "[nltk_data] Downloading package punkt to /root/nltk_data...\n",
            "[nltk_data]   Unzipping tokenizers/punkt.zip.\n",
            "[nltk_data] Downloading package wordnet to /root/nltk_data...\n",
            "[nltk_data]   Unzipping corpora/wordnet.zip.\n",
            "[nltk_data] Downloading package averaged_perceptron_tagger to\n",
            "[nltk_data]     /root/nltk_data...\n",
            "[nltk_data]   Unzipping taggers/averaged_perceptron_tagger.zip.\n",
            "[nltk_data] Downloading package stopwords to /root/nltk_data...\n",
            "[nltk_data]   Unzipping corpora/stopwords.zip.\n",
            "CPU times: user 2.88 s, sys: 473 ms, total: 3.35 s\n",
            "Wall time: 5.79 s\n"
          ],
          "name": "stdout"
        }
      ]
    },
    {
      "cell_type": "code",
      "metadata": {
        "id": "qR_RxJeA2nMw",
        "colab_type": "code",
        "colab": {}
      },
      "source": [
        "## FUNCTIONS TAKEN FROM https://www.kaggle.com/gmhost/gru-capsule\n",
        "\n",
        "def load_glove(word_index):\n",
        "    EMBEDDING_FILE = path+\"embeddings/glove.840B.300d/glove.840B.300d.txt\"\n",
        "    def get_coefs(word,*arr): return word, np.asarray(arr, dtype='float32')[:300]\n",
        "    embeddings_index = dict(get_coefs(*o.split(\" \")) for o in open(EMBEDDING_FILE))\n",
        "    \n",
        "    all_embs = np.stack(embeddings_index.values())\n",
        "    emb_mean,emb_std = -0.005838499,0.48782197\n",
        "    embed_size = all_embs.shape[1]\n",
        "\n",
        "    nb_words = min(num_words, len(word_index))\n",
        "    embedding_matrix = np.random.normal(emb_mean, emb_std, (nb_words, embed_size))\n",
        "    for word, i in word_index.items():\n",
        "        if i >= num_words: continue\n",
        "        embedding_vector = embeddings_index.get(word)\n",
        "        #ALLmight\n",
        "        if embedding_vector is not None: \n",
        "            embedding_matrix[i] = embedding_vector\n",
        "        else:\n",
        "            embedding_vector = embeddings_index.get(word.capitalize())\n",
        "            if embedding_vector is not None: \n",
        "                embedding_matrix[i] = embedding_vector\n",
        "    return embedding_matrix \n",
        "    \n",
        "            \n",
        "def load_fasttext(word_index):    \n",
        "    EMBEDDING_FILE = path+\"embeddings/wiki-news-300d-1M/wiki-news-300d-1M.vec\"\n",
        "    def get_coefs(word,*arr): return word, np.asarray(arr, dtype='float32')\n",
        "    embeddings_index = dict(get_coefs(*o.split(\" \")) for o in open(EMBEDDING_FILE) if len(o)>100)\n",
        "\n",
        "    all_embs = np.stack(embeddings_index.values())\n",
        "    emb_mean,emb_std = all_embs.mean(), all_embs.std()\n",
        "    embed_size = all_embs.shape[1]\n",
        "\n",
        "    nb_words = min(num_words, len(word_index))\n",
        "    embedding_matrix = np.random.normal(emb_mean, emb_std, (nb_words, embed_size))\n",
        "    for word, i in word_index.items():\n",
        "        if i >= num_words: continue\n",
        "        embedding_vector = embeddings_index.get(word)\n",
        "        if embedding_vector is not None: embedding_matrix[i] = embedding_vector\n",
        "\n",
        "    return embedding_matrix\n",
        "\n",
        "def load_para(word_index):\n",
        "    EMBEDDING_FILE = path+'embeddings/paragram_300_sl999/paragram_300_sl999.txt'\n",
        "    def get_coefs(word,*arr): return word, np.asarray(arr, dtype='float32')\n",
        "    embeddings_index = dict(get_coefs(*o.split(\" \")) for o in open(EMBEDDING_FILE, encoding=\"utf8\", errors='ignore') if len(o)>100)\n",
        "\n",
        "    all_embs = np.stack(embeddings_index.values())\n",
        "    emb_mean,emb_std = -0.0053247833,0.49346462\n",
        "    embed_size = all_embs.shape[1]\n",
        "\n",
        "    nb_words = min(num_words, len(word_index))\n",
        "    embedding_matrix = np.random.normal(emb_mean, emb_std, (nb_words, embed_size))\n",
        "    for word, i in word_index.items():\n",
        "        if i >= num_words: continue\n",
        "        embedding_vector = embeddings_index.get(word)\n",
        "        if embedding_vector is not None: embedding_matrix[i] = embedding_vector\n",
        "    \n",
        "    return embedding_matrix"
      ],
      "execution_count": 0,
      "outputs": []
    },
    {
      "cell_type": "code",
      "metadata": {
        "id": "gJLoIAGtheFQ",
        "colab_type": "code",
        "colab": {}
      },
      "source": [
        "num_words = 8000 \n",
        "embedding_size = 300\n",
        "max_tokens = 30\n",
        "pad = 'post'\n",
        "path = '/content/gdrive/My Drive/data/'"
      ],
      "execution_count": 0,
      "outputs": []
    },
    {
      "cell_type": "markdown",
      "metadata": {
        "id": "vEu471qrTEp9",
        "colab_type": "text"
      },
      "source": [
        "#1. simple clean up (keep the  numbers and no stemming)\n"
      ]
    },
    {
      "cell_type": "code",
      "metadata": {
        "id": "dcXhweY67Da3",
        "colab_type": "code",
        "outputId": "bbafb0ea-ebc1-412d-a201-2171059fae44",
        "colab": {
          "base_uri": "https://localhost:8080/",
          "height": 34
        }
      },
      "source": [
        "train_data = pd.read_csv(path+'train.csv')\n",
        "print('Training data set: ' + str(len(train_data)))"
      ],
      "execution_count": 0,
      "outputs": [
        {
          "output_type": "stream",
          "text": [
            "Training data set: 1306122\n"
          ],
          "name": "stdout"
        }
      ]
    },
    {
      "cell_type": "code",
      "metadata": {
        "id": "NzprngiJ7TrO",
        "colab_type": "code",
        "outputId": "8deeaecc-fac4-4fb1-f0dd-7e34180efc3d",
        "colab": {
          "base_uri": "https://localhost:8080/",
          "height": 204
        }
      },
      "source": [
        "%%time\n",
        "\n",
        "train_data['question_text'] = train_data['question_text'].str.normalize('NFKD')\\\n",
        ".apply(contractions.fix).apply(remove_white_space).apply(remove_special_character)\n",
        "train_data['word_count'] = train_data['question_text'].apply(lambda x: len(str(x).split()))\n",
        "\n",
        "train_data = train_data.loc[(train_data.word_count > 0)]\n",
        "train_data= train_data.reset_index()\n",
        "\n",
        "print('Training data set: ' + str(len(train_data)))\n",
        "print(train_data.head())\n",
        "\n",
        "dump(train_data, path+'train_data_project.sav')"
      ],
      "execution_count": 0,
      "outputs": [
        {
          "output_type": "stream",
          "text": [
            "Training data set: 1306116\n",
            "   index                   qid  ... target  word_count\n",
            "0      0  00002165364db923c7e6  ...      0          13\n",
            "1      1  000032939017120e6e44  ...      0          16\n",
            "2      2  0000412ca6e4628ce2cf  ...      0          10\n",
            "3      3  000042bf85aa498cd78e  ...      0           9\n",
            "4      4  0000455dfa3e01eae3af  ...      0          15\n",
            "\n",
            "[5 rows x 5 columns]\n",
            "CPU times: user 18 s, sys: 636 ms, total: 18.6 s\n",
            "Wall time: 19.6 s\n"
          ],
          "name": "stdout"
        }
      ]
    },
    {
      "cell_type": "code",
      "metadata": {
        "id": "JuoB4Zf5f7ly",
        "colab_type": "code",
        "outputId": "000c9753-ddfc-4b9d-bdb0-cc7cec754997",
        "colab": {
          "base_uri": "https://localhost:8080/",
          "height": 221
        }
      },
      "source": [
        "train_data_s = pd.concat([train_data.loc[train_data['target'] == 0].sample(n=80807, random_state=42),\\\n",
        "                          train_data.loc[train_data['target'] == 1]], ignore_index=True)\n",
        "train_data_s = train_data_s.sample(frac=1).reset_index(drop=True)\n",
        "print(len(train_data_s))\n",
        "train_data_s.head()"
      ],
      "execution_count": 0,
      "outputs": [
        {
          "output_type": "stream",
          "text": [
            "161614\n"
          ],
          "name": "stdout"
        },
        {
          "output_type": "execute_result",
          "data": {
            "text/html": [
              "<div>\n",
              "<style scoped>\n",
              "    .dataframe tbody tr th:only-of-type {\n",
              "        vertical-align: middle;\n",
              "    }\n",
              "\n",
              "    .dataframe tbody tr th {\n",
              "        vertical-align: top;\n",
              "    }\n",
              "\n",
              "    .dataframe thead th {\n",
              "        text-align: right;\n",
              "    }\n",
              "</style>\n",
              "<table border=\"1\" class=\"dataframe\">\n",
              "  <thead>\n",
              "    <tr style=\"text-align: right;\">\n",
              "      <th></th>\n",
              "      <th>index</th>\n",
              "      <th>qid</th>\n",
              "      <th>question_text</th>\n",
              "      <th>target</th>\n",
              "      <th>word_count</th>\n",
              "    </tr>\n",
              "  </thead>\n",
              "  <tbody>\n",
              "    <tr>\n",
              "      <th>0</th>\n",
              "      <td>914302</td>\n",
              "      <td>b3269743a856890b94da</td>\n",
              "      <td>Is the Trump administration so desperate for p...</td>\n",
              "      <td>1</td>\n",
              "      <td>20</td>\n",
              "    </tr>\n",
              "    <tr>\n",
              "      <th>1</th>\n",
              "      <td>1068480</td>\n",
              "      <td>d15f8c3a2e7089aa3623</td>\n",
              "      <td>What are the Chinas longrunning effort to blun...</td>\n",
              "      <td>1</td>\n",
              "      <td>18</td>\n",
              "    </tr>\n",
              "    <tr>\n",
              "      <th>2</th>\n",
              "      <td>352379</td>\n",
              "      <td>450fdd3638e0eae1b03c</td>\n",
              "      <td>Should we start calling Mothers Day Thank You ...</td>\n",
              "      <td>1</td>\n",
              "      <td>14</td>\n",
              "    </tr>\n",
              "    <tr>\n",
              "      <th>3</th>\n",
              "      <td>1121618</td>\n",
              "      <td>dbc866d31aca68bef0dc</td>\n",
              "      <td>What exactly did Trump do that was bad enough ...</td>\n",
              "      <td>1</td>\n",
              "      <td>22</td>\n",
              "    </tr>\n",
              "    <tr>\n",
              "      <th>4</th>\n",
              "      <td>694534</td>\n",
              "      <td>8809166f73e5cfe97c7b</td>\n",
              "      <td>What is the importance of light energy</td>\n",
              "      <td>0</td>\n",
              "      <td>7</td>\n",
              "    </tr>\n",
              "  </tbody>\n",
              "</table>\n",
              "</div>"
            ],
            "text/plain": [
              "     index                   qid  ... target  word_count\n",
              "0   914302  b3269743a856890b94da  ...      1          20\n",
              "1  1068480  d15f8c3a2e7089aa3623  ...      1          18\n",
              "2   352379  450fdd3638e0eae1b03c  ...      1          14\n",
              "3  1121618  dbc866d31aca68bef0dc  ...      1          22\n",
              "4   694534  8809166f73e5cfe97c7b  ...      0           7\n",
              "\n",
              "[5 rows x 5 columns]"
            ]
          },
          "metadata": {
            "tags": []
          },
          "execution_count": 6
        }
      ]
    },
    {
      "cell_type": "code",
      "metadata": {
        "id": "nMAuVPLPx9my",
        "colab_type": "code",
        "outputId": "8a6bad5e-b550-46a0-fdb6-e795b7d8339b",
        "colab": {
          "base_uri": "https://localhost:8080/",
          "height": 34
        }
      },
      "source": [
        "train_text = train_data['question_text']\n",
        "train_target = train_data['target']\n",
        "\n",
        "dump(train_text, path+'train_text_project.sav')\n",
        "dump(train_target, path+'target_project.sav')"
      ],
      "execution_count": 0,
      "outputs": [
        {
          "output_type": "execute_result",
          "data": {
            "text/plain": [
              "['/content/gdrive/My Drive/data/target_project.sav']"
            ]
          },
          "metadata": {
            "tags": []
          },
          "execution_count": 7
        }
      ]
    },
    {
      "cell_type": "code",
      "metadata": {
        "id": "OPjcohDIgeN7",
        "colab_type": "code",
        "outputId": "b455550d-80fd-4516-a06a-f64aaebb817c",
        "colab": {
          "base_uri": "https://localhost:8080/",
          "height": 34
        }
      },
      "source": [
        "train_text_s = train_data_s['question_text']\n",
        "train_target_s = train_data_s['target']\n",
        "\n",
        "dump(train_text_s, path+'train_text_s_project.sav')\n",
        "dump(train_target_s, path+'target_s_project.sav')"
      ],
      "execution_count": 0,
      "outputs": [
        {
          "output_type": "execute_result",
          "data": {
            "text/plain": [
              "['/content/gdrive/My Drive/data/target_s_project.sav']"
            ]
          },
          "metadata": {
            "tags": []
          },
          "execution_count": 8
        }
      ]
    },
    {
      "cell_type": "markdown",
      "metadata": {
        "id": "4IBoFXfWS97h",
        "colab_type": "text"
      },
      "source": [
        "#2. data split 80% (train) , 10% (dev) ,  10 %(test)"
      ]
    },
    {
      "cell_type": "code",
      "metadata": {
        "id": "BfDVYjufx9uU",
        "colab_type": "code",
        "outputId": "45a49d56-2aad-4335-8a3a-cbc6f3088cec",
        "colab": {
          "base_uri": "https://localhost:8080/",
          "height": 68
        }
      },
      "source": [
        "%%time\n",
        "\n",
        "X_train, X_hold, y_train, y_hold  = train_test_split(train_text, train_target, \n",
        "                                                     train_size = 0.8, test_size = 0.2, \n",
        "                                                     random_state = 42, stratify = train_target)\n",
        "X_dev, X_test, y_dev, y_test  = train_test_split(X_hold, y_hold, \n",
        "                                                     train_size = 0.5, test_size = 0.5,  \n",
        "                                                     random_state = 42, stratify = y_hold)\n",
        "\n",
        "print(len(X_train),len(X_dev), len(X_test))"
      ],
      "execution_count": 0,
      "outputs": [
        {
          "output_type": "stream",
          "text": [
            "1044892 130612 130612\n",
            "CPU times: user 922 ms, sys: 9.72 ms, total: 932 ms\n",
            "Wall time: 931 ms\n"
          ],
          "name": "stdout"
        }
      ]
    },
    {
      "cell_type": "code",
      "metadata": {
        "id": "ziFDT013hKET",
        "colab_type": "code",
        "outputId": "de2dc9b3-8d8d-4341-f6d9-2a1a129e890a",
        "colab": {
          "base_uri": "https://localhost:8080/",
          "height": 34
        }
      },
      "source": [
        "X_train_s, X_hold_s, y_train_s, y_hold_s  = train_test_split(train_text_s, train_target_s, \n",
        "                                                     train_size = 0.8, test_size = 0.2, \n",
        "                                                     random_state = 42, stratify = train_target_s)\n",
        "X_dev_s, X_test_s, y_dev_s, y_test_s  = train_test_split(X_hold_s, y_hold_s, \n",
        "                                                     train_size = 0.5, test_size = 0.5,  \n",
        "                                                     random_state = 42, stratify = y_hold_s)\n",
        "\n",
        "print(len(X_train_s),len(X_dev_s), len(X_test_s))"
      ],
      "execution_count": 0,
      "outputs": [
        {
          "output_type": "stream",
          "text": [
            "129291 16161 16162\n"
          ],
          "name": "stdout"
        }
      ]
    },
    {
      "cell_type": "code",
      "metadata": {
        "id": "u7madsD5F2TU",
        "colab_type": "code",
        "colab": {}
      },
      "source": [
        "# print(X_train[0])\n",
        "# tokenizer.texts_to_sequences(X_train[0]) \n",
        "# tokenizer.texts_to_sequences(X_train[0]) "
      ],
      "execution_count": 0,
      "outputs": []
    },
    {
      "cell_type": "code",
      "metadata": {
        "id": "tQgo9Qt71Gqg",
        "colab_type": "code",
        "outputId": "14e920f0-6fbe-470f-806d-611ff7d39453",
        "colab": {
          "base_uri": "https://localhost:8080/",
          "height": 51
        }
      },
      "source": [
        "%%time\n",
        "\n",
        "tokenizer = Tokenizer(num_words=num_words, lower=False, char_level=False)\n",
        "tokenizer.fit_on_texts(train_data['question_text'])\n",
        "dump(tokenizer, path+'tokenizer_project.sav')"
      ],
      "execution_count": 0,
      "outputs": [
        {
          "output_type": "stream",
          "text": [
            "CPU times: user 35.7 s, sys: 80.3 ms, total: 35.8 s\n",
            "Wall time: 35.9 s\n"
          ],
          "name": "stdout"
        }
      ]
    },
    {
      "cell_type": "code",
      "metadata": {
        "id": "EYkuEf124J6C",
        "colab_type": "code",
        "outputId": "9e273d26-ecdb-4cfd-e2a8-827e205a4900",
        "colab": {
          "base_uri": "https://localhost:8080/",
          "height": 34
        }
      },
      "source": [
        "X_train_token  = tokenizer.texts_to_sequences(X_train)\n",
        "\n",
        "dump(X_train, path+'X_train_project.sav')\n",
        "dump(X_train_token, path+'X_train_token_project.sav')\n",
        "dump(y_train, path+'y_train_project.sav')"
      ],
      "execution_count": 0,
      "outputs": [
        {
          "output_type": "execute_result",
          "data": {
            "text/plain": [
              "['/content/gdrive/My Drive/data/y_train_project.sav']"
            ]
          },
          "metadata": {
            "tags": []
          },
          "execution_count": 10
        }
      ]
    },
    {
      "cell_type": "code",
      "metadata": {
        "id": "1jFqNAAm_sUx",
        "colab_type": "code",
        "outputId": "16e35016-cf4f-4d97-d257-13853416587f",
        "colab": {
          "base_uri": "https://localhost:8080/",
          "height": 34
        }
      },
      "source": [
        "X_dev_token  = tokenizer.texts_to_sequences(X_dev)\n",
        "\n",
        "dump(X_dev, path+'X_dev_project.sav')\n",
        "dump(X_dev_token, path+'X_dev_token_project.sav')\n",
        "dump(y_dev, path+'y_dev_project.sav')"
      ],
      "execution_count": 0,
      "outputs": [
        {
          "output_type": "execute_result",
          "data": {
            "text/plain": [
              "['/content/gdrive/My Drive/data/y_dev_project.sav']"
            ]
          },
          "metadata": {
            "tags": []
          },
          "execution_count": 11
        }
      ]
    },
    {
      "cell_type": "code",
      "metadata": {
        "id": "avQVQ0utCWnj",
        "colab_type": "code",
        "outputId": "543eb0bf-6a2d-4559-f7a0-446c57b1d400",
        "colab": {
          "base_uri": "https://localhost:8080/",
          "height": 34
        }
      },
      "source": [
        "X_test_token  = tokenizer.texts_to_sequences(X_test)\n",
        "\n",
        "dump(X_test, path+'X_test_project.sav')\n",
        "dump(X_test_token, path+'X_test_token_project.sav')\n",
        "dump(y_test, path+'y_test_project.sav')"
      ],
      "execution_count": 0,
      "outputs": [
        {
          "output_type": "execute_result",
          "data": {
            "text/plain": [
              "['/content/gdrive/My Drive/data/y_test_project.sav']"
            ]
          },
          "metadata": {
            "tags": []
          },
          "execution_count": 12
        }
      ]
    },
    {
      "cell_type": "markdown",
      "metadata": {
        "id": "s157rKgePn5B",
        "colab_type": "text"
      },
      "source": [
        "#3. BOW (TF-IDF)  logistic regression "
      ]
    },
    {
      "cell_type": "code",
      "metadata": {
        "id": "bAQZF8PSMymY",
        "colab_type": "code",
        "colab": {}
      },
      "source": [
        "logreg = Pipeline([('vect', CountVectorizer(max_features=num_words, min_df=2, lowercase=False)),\n",
        "                   ('tfidf', TfidfTransformer()),\n",
        "                   ('clf', LogisticRegressionCV(class_weight='balanced', cv=5, scoring='roc_auc', max_iter=1000,n_jobs=-1)),\n",
        "                  ])"
      ],
      "execution_count": 0,
      "outputs": []
    },
    {
      "cell_type": "code",
      "metadata": {
        "id": "8ASzzEpDNw5k",
        "colab_type": "code",
        "outputId": "968f2358-c01a-4435-84be-6a2457e07639",
        "colab": {
          "base_uri": "https://localhost:8080/",
          "height": 442
        }
      },
      "source": [
        "%%time\n",
        "\n",
        "logreg.fit(X_train, y_train)"
      ],
      "execution_count": 0,
      "outputs": [
        {
          "output_type": "stream",
          "text": [
            "CPU times: user 36.3 s, sys: 816 ms, total: 37.1 s\n",
            "Wall time: 20min 18s\n"
          ],
          "name": "stdout"
        },
        {
          "output_type": "execute_result",
          "data": {
            "text/plain": [
              "Pipeline(memory=None,\n",
              "         steps=[('vect',\n",
              "                 CountVectorizer(analyzer='word', binary=False,\n",
              "                                 decode_error='strict',\n",
              "                                 dtype=<class 'numpy.int64'>, encoding='utf-8',\n",
              "                                 input='content', lowercase=False, max_df=1.0,\n",
              "                                 max_features=8000, min_df=2,\n",
              "                                 ngram_range=(1, 1), preprocessor=None,\n",
              "                                 stop_words=None, strip_accents=None,\n",
              "                                 token_pattern='(?u)\\\\b\\\\w\\\\w+\\\\b',\n",
              "                                 tokenizer=None, vocabulary=No...\n",
              "                 TfidfTransformer(norm='l2', smooth_idf=True,\n",
              "                                  sublinear_tf=False, use_idf=True)),\n",
              "                ('clf',\n",
              "                 LogisticRegressionCV(Cs=10, class_weight='balanced', cv=5,\n",
              "                                      dual=False, fit_intercept=True,\n",
              "                                      intercept_scaling=1.0, l1_ratios=None,\n",
              "                                      max_iter=1000, multi_class='warn',\n",
              "                                      n_jobs=-1, penalty='l2',\n",
              "                                      random_state=None, refit=True,\n",
              "                                      scoring='roc_auc', solver='lbfgs',\n",
              "                                      tol=0.0001, verbose=0))],\n",
              "         verbose=False)"
            ]
          },
          "metadata": {
            "tags": []
          },
          "execution_count": 43
        }
      ]
    },
    {
      "cell_type": "code",
      "metadata": {
        "id": "B6zESJTTJnlt",
        "colab_type": "code",
        "outputId": "58c7b1a1-c2e3-401d-d2f4-7771dc03d648",
        "colab": {
          "base_uri": "https://localhost:8080/",
          "height": 756
        }
      },
      "source": [
        "y_pred = logreg.predict(X_dev)\n",
        "report(y_dev, y_pred)\n",
        "plot_roc(y_dev, y_pred)"
      ],
      "execution_count": 0,
      "outputs": [
        {
          "output_type": "stream",
          "text": [
            "              precision    recall  f1-score   support\n",
            "\n",
            "     Sincere       0.99      0.89      0.94    122531\n",
            "   Insincere       0.34      0.87      0.49      8081\n",
            "\n",
            "    accuracy                           0.89    130612\n",
            "   macro avg       0.67      0.88      0.71    130612\n",
            "weighted avg       0.95      0.89      0.91    130612\n",
            "\n"
          ],
          "name": "stdout"
        },
        {
          "output_type": "display_data",
          "data": {
            "image/png": "[encoded data removed]",
            "text/plain": [
              "<Figure size 360x360 with 2 Axes>"
            ]
          },
          "metadata": {
            "tags": []
          }
        },
        {
          "output_type": "display_data",
          "data": {
            "image/png": "[encoded data removed]",
            "text/plain": [
              "<Figure size 432x288 with 1 Axes>"
            ]
          },
          "metadata": {
            "tags": []
          }
        }
      ]
    },
    {
      "cell_type": "code",
      "metadata": {
        "id": "YYcsjgoKQgq6",
        "colab_type": "code",
        "colab": {}
      },
      "source": [
        ""
      ],
      "execution_count": 0,
      "outputs": []
    },
    {
      "cell_type": "markdown",
      "metadata": {
        "id": "kdNLt2SqQG3F",
        "colab_type": "text"
      },
      "source": [
        "#4. word2Vec  logistic regression"
      ]
    },
    {
      "cell_type": "code",
      "metadata": {
        "id": "bXxTEfePQVP_",
        "colab_type": "code",
        "outputId": "d745a3bf-e78c-4ffa-f333-cc767c14a30e",
        "colab": {
          "base_uri": "https://localhost:8080/",
          "height": 51
        }
      },
      "source": [
        "%%time\n",
        "\n",
        "word2Vec_model = Word2Vec(train_text.str.split(), size=embedding_size,min_count=2, workers=4)\n",
        "word2Vec_model.save(path+\"embeddings/word2vec.model\")\n",
        "#word2Vec_model = Word2Vec.load(path+\"embeddings/word2vec.model\")"
      ],
      "execution_count": 0,
      "outputs": [
        {
          "output_type": "stream",
          "text": [
            "CPU times: user 6min 3s, sys: 1.63 s, total: 6min 4s\n",
            "Wall time: 3min 13s\n"
          ],
          "name": "stdout"
        }
      ]
    },
    {
      "cell_type": "code",
      "metadata": {
        "id": "eNjXCMsfQq1R",
        "colab_type": "code",
        "outputId": "a06e5386-73a1-4a17-f7be-444c659ae880",
        "colab": {
          "base_uri": "https://localhost:8080/",
          "height": 71
        }
      },
      "source": [
        "word2Vec_model = Word2Vec.load(path+\"embeddings/word2vec.model\")\n",
        "quorawv = word2Vec_model.wv\n",
        "quorawv.init_sims(replace=True)\n",
        "#del word2Vec_model"
      ],
      "execution_count": 0,
      "outputs": [
        {
          "output_type": "stream",
          "text": [
            "/usr/local/lib/python3.6/dist-packages/smart_open/smart_open_lib.py:398: UserWarning: This function is deprecated, use smart_open.open instead. See the migration notes for details: https://github.com/RaRe-Technologies/smart_open/blob/master/README.rst#migrating-to-the-new-open-function\n",
            "  'See the migration notes for details: %s' % _MIGRATION_NOTES_URL\n"
          ],
          "name": "stderr"
        }
      ]
    },
    {
      "cell_type": "code",
      "metadata": {
        "id": "kgvfxXEiQ6a9",
        "colab_type": "code",
        "outputId": "bf19856a-6bf1-4f24-a5e3-a7901c84f3e7",
        "colab": {
          "base_uri": "https://localhost:8080/",
          "height": 207
        }
      },
      "source": [
        "X_train_word_average = word_averaging_list(quorawv,X_train.str.split())\n",
        "X_dev_word_average = word_averaging_list(quorawv,X_dev.str.split())"
      ],
      "execution_count": 0,
      "outputs": [
        {
          "output_type": "stream",
          "text": [
            "/usr/local/lib/python3.6/dist-packages/ipykernel_launcher.py:11: DeprecationWarning: Call to deprecated `syn0norm` (Attribute will be removed in 4.0.0, use self.wv.vectors_norm instead).\n",
            "  # This is added back by InteractiveShellApp.init_path()\n",
            "/usr/local/lib/python3.6/dist-packages/gensim/matutils.py:737: FutureWarning: Conversion of the second argument of issubdtype from `int` to `np.signedinteger` is deprecated. In future, it will be treated as `np.int64 == np.dtype(int).type`.\n",
            "  if np.issubdtype(vec.dtype, np.int):\n"
          ],
          "name": "stderr"
        },
        {
          "output_type": "stream",
          "text": [
            "cannot compute similarity with no input %s ['Dodnsskdkfockdndnsm', 'kddkdndkl', 'dkd', 'sksnwlfd', 'kss']\n",
            "cannot compute similarity with no input %s ['Neigh', 'Whinny']\n",
            "cannot compute similarity with no input %s ['OIL', 'Mgmjmj', 'Tgmgtj', 'mgmgjjjmgtjmjjjmgmj', 'amgjjjjj']\n",
            "cannot compute similarity with no input %s ['ISRAEL', 'OHIM']\n",
            "cannot compute similarity with no input %s ['Whoismost', 'powerfulman']\n",
            "cannot compute similarity with no input %s ['math247math']\n"
          ],
          "name": "stdout"
        }
      ]
    },
    {
      "cell_type": "code",
      "metadata": {
        "id": "tWXSTdRYRKQG",
        "colab_type": "code",
        "colab": {}
      },
      "source": [
        "embeddinglogreg = Pipeline([('clf', LogisticRegressionCV(class_weight='balanced', cv=5, scoring='roc_auc', max_iter=1000,n_jobs=-1)),\n",
        "                  ])"
      ],
      "execution_count": 0,
      "outputs": []
    },
    {
      "cell_type": "code",
      "metadata": {
        "id": "Nk27A8ZZRKUD",
        "colab_type": "code",
        "outputId": "edb42355-8df7-4b1c-89c9-7a03ee14d17d",
        "colab": {
          "base_uri": "https://localhost:8080/",
          "height": 238
        }
      },
      "source": [
        "%%time\n",
        "\n",
        "embeddinglogreg.fit(X_train_word_average, y_train)"
      ],
      "execution_count": 0,
      "outputs": [
        {
          "output_type": "stream",
          "text": [
            "CPU times: user 1min, sys: 11.8 s, total: 1min 12s\n",
            "Wall time: 1h 23min 6s\n"
          ],
          "name": "stdout"
        },
        {
          "output_type": "execute_result",
          "data": {
            "text/plain": [
              "Pipeline(memory=None,\n",
              "         steps=[('clf',\n",
              "                 LogisticRegressionCV(Cs=10, class_weight='balanced', cv=5,\n",
              "                                      dual=False, fit_intercept=True,\n",
              "                                      intercept_scaling=1.0, l1_ratios=None,\n",
              "                                      max_iter=1000, multi_class='warn',\n",
              "                                      n_jobs=-1, penalty='l2',\n",
              "                                      random_state=None, refit=True,\n",
              "                                      scoring='roc_auc', solver='lbfgs',\n",
              "                                      tol=0.0001, verbose=0))],\n",
              "         verbose=False)"
            ]
          },
          "metadata": {
            "tags": []
          },
          "execution_count": 63
        }
      ]
    },
    {
      "cell_type": "code",
      "metadata": {
        "id": "G3If-P3uRKZZ",
        "colab_type": "code",
        "outputId": "6f1e4475-9438-425a-8315-530c10761752",
        "colab": {
          "base_uri": "https://localhost:8080/",
          "height": 756
        }
      },
      "source": [
        "y_pred = embeddinglogreg.predict(X_dev_word_average)\n",
        "report(y_dev, y_pred)\n",
        "plot_roc(y_dev, y_pred)"
      ],
      "execution_count": 0,
      "outputs": [
        {
          "output_type": "stream",
          "text": [
            "              precision    recall  f1-score   support\n",
            "\n",
            "     Sincere       0.99      0.87      0.92    122531\n",
            "   Insincere       0.30      0.88      0.45      8081\n",
            "\n",
            "    accuracy                           0.87    130612\n",
            "   macro avg       0.65      0.88      0.69    130612\n",
            "weighted avg       0.95      0.87      0.90    130612\n",
            "\n"
          ],
          "name": "stdout"
        },
        {
          "output_type": "display_data",
          "data": {
            "image/png": "[encoded data removed]",
            "text/plain": [
              "<Figure size 360x360 with 2 Axes>"
            ]
          },
          "metadata": {
            "tags": []
          }
        },
        {
          "output_type": "display_data",
          "data": {
            "image/png": "[encoded data removed]",
            "text/plain": [
              "<Figure size 432x288 with 1 Axes>"
            ]
          },
          "metadata": {
            "tags": []
          }
        }
      ]
    },
    {
      "cell_type": "markdown",
      "metadata": {
        "id": "IVRShEIF5o5u",
        "colab_type": "text"
      },
      "source": [
        "#5. pre-trained word2Vec logistic regression"
      ]
    },
    {
      "cell_type": "code",
      "metadata": {
        "id": "Q5PHmFOj4-Cy",
        "colab_type": "code",
        "outputId": "7ed11447-ca61-40b0-d5e7-1b56af8ca5aa",
        "colab": {
          "base_uri": "https://localhost:8080/",
          "height": 71
        }
      },
      "source": [
        "googlewv = KeyedVectors.load_word2vec_format(path+\"embeddings/GoogleNews-vectors-negative300/GoogleNews-vectors-negative300.bin\", binary=True)\n",
        "googlewv.init_sims(replace=True)\n"
      ],
      "execution_count": 0,
      "outputs": [
        {
          "output_type": "stream",
          "text": [
            "/usr/local/lib/python3.6/dist-packages/smart_open/smart_open_lib.py:398: UserWarning: This function is deprecated, use smart_open.open instead. See the migration notes for details: https://github.com/RaRe-Technologies/smart_open/blob/master/README.rst#migrating-to-the-new-open-function\n",
            "  'See the migration notes for details: %s' % _MIGRATION_NOTES_URL\n"
          ],
          "name": "stderr"
        }
      ]
    },
    {
      "cell_type": "code",
      "metadata": {
        "id": "OGwQZ0Uc4-As",
        "colab_type": "code",
        "outputId": "735c862a-778a-4fdd-aad2-75b28b3d1b4c",
        "colab": {
          "base_uri": "https://localhost:8080/",
          "height": 139
        }
      },
      "source": [
        "X_train_word_average = word_averaging_list(googlewv,X_train.str.split())\n",
        "X_dev_word_average = word_averaging_list(googlewv,X_dev.str.split())"
      ],
      "execution_count": 0,
      "outputs": [
        {
          "output_type": "stream",
          "text": [
            "/usr/local/lib/python3.6/dist-packages/ipykernel_launcher.py:11: DeprecationWarning: Call to deprecated `syn0norm` (Attribute will be removed in 4.0.0, use self.wv.vectors_norm instead).\n",
            "  # This is added back by InteractiveShellApp.init_path()\n",
            "/usr/local/lib/python3.6/dist-packages/gensim/matutils.py:737: FutureWarning: Conversion of the second argument of issubdtype from `int` to `np.signedinteger` is deprecated. In future, it will be treated as `np.int64 == np.dtype(int).type`.\n",
            "  if np.issubdtype(vec.dtype, np.int):\n"
          ],
          "name": "stderr"
        },
        {
          "output_type": "stream",
          "text": [
            "cannot compute similarity with no input %s ['Integeration', 'of', 'sinx']\n",
            "cannot compute similarity with no input %s ['Whorote', 'gitanjali']\n"
          ],
          "name": "stdout"
        }
      ]
    },
    {
      "cell_type": "code",
      "metadata": {
        "id": "JpWpQrdZNpQW",
        "colab_type": "code",
        "colab": {}
      },
      "source": [
        "embeddinglogreg = Pipeline([('clf', LogisticRegressionCV(class_weight='balanced', cv=5, scoring='roc_auc', max_iter=1000,n_jobs=-1)),\n",
        "                  ])"
      ],
      "execution_count": 0,
      "outputs": []
    },
    {
      "cell_type": "code",
      "metadata": {
        "id": "POpFXt0CPpHY",
        "colab_type": "code",
        "outputId": "bce0670d-c588-409d-9f84-c15b2767c566",
        "colab": {
          "base_uri": "https://localhost:8080/",
          "height": 238
        }
      },
      "source": [
        "%%time\n",
        "\n",
        "embeddinglogreg.fit(X_train_word_average, y_train)"
      ],
      "execution_count": 0,
      "outputs": [
        {
          "output_type": "stream",
          "text": [
            "CPU times: user 27.3 s, sys: 6.33 s, total: 33.6 s\n",
            "Wall time: 8min 42s\n"
          ],
          "name": "stdout"
        },
        {
          "output_type": "execute_result",
          "data": {
            "text/plain": [
              "Pipeline(memory=None,\n",
              "         steps=[('clf',\n",
              "                 LogisticRegressionCV(Cs=10, class_weight='balanced', cv=5,\n",
              "                                      dual=False, fit_intercept=True,\n",
              "                                      intercept_scaling=1.0, l1_ratios=None,\n",
              "                                      max_iter=1000, multi_class='warn',\n",
              "                                      n_jobs=-1, penalty='l2',\n",
              "                                      random_state=None, refit=True,\n",
              "                                      scoring='roc_auc', solver='lbfgs',\n",
              "                                      tol=0.0001, verbose=0))],\n",
              "         verbose=False)"
            ]
          },
          "metadata": {
            "tags": []
          },
          "execution_count": 57
        }
      ]
    },
    {
      "cell_type": "code",
      "metadata": {
        "id": "SeyDHww5PpQ0",
        "colab_type": "code",
        "outputId": "2d217ce5-be2a-461a-9d62-23d33d76f010",
        "colab": {
          "base_uri": "https://localhost:8080/",
          "height": 756
        }
      },
      "source": [
        "y_pred = embeddinglogreg.predict(X_dev_word_average)\n",
        "report(y_dev, y_pred)\n",
        "plot_roc(y_dev, y_pred)"
      ],
      "execution_count": 0,
      "outputs": [
        {
          "output_type": "stream",
          "text": [
            "              precision    recall  f1-score   support\n",
            "\n",
            "     Sincere       0.99      0.87      0.93    122531\n",
            "   Insincere       0.30      0.88      0.45      8081\n",
            "\n",
            "    accuracy                           0.87    130612\n",
            "   macro avg       0.65      0.87      0.69    130612\n",
            "weighted avg       0.95      0.87      0.90    130612\n",
            "\n"
          ],
          "name": "stdout"
        },
        {
          "output_type": "display_data",
          "data": {
            "image/png": "[encoded data removed]",
            "text/plain": [
              "<Figure size 360x360 with 2 Axes>"
            ]
          },
          "metadata": {
            "tags": []
          }
        },
        {
          "output_type": "display_data",
          "data": {
            "image/png": "[encoded data removed]",
            "text/plain": [
              "<Figure size 432x288 with 1 Axes>"
            ]
          },
          "metadata": {
            "tags": []
          }
        }
      ]
    },
    {
      "cell_type": "code",
      "metadata": {
        "id": "tnJ0ByJ6PpVK",
        "colab_type": "code",
        "colab": {}
      },
      "source": [
        "#from gensim.models import KeyedVectors, Word2Vec\n",
        "#from gensim.scripts.glove2word2vec import glove2word2vec\n",
        "\n",
        "#glove2word2vec(path+\"embeddings/glove.840B.300d/glove.840B.300d.txt\", path+\"embeddings/glove.840B.300d/temp.txt\")\n",
        "#glovewv = KeyedVectors.load_word2vec_format(path+\"embeddings/glove.840B.300d/temp.txt\", binary=False)\n",
        "\n",
        "#word2Vec_model = Word2Vec.load(path+\"embeddings/word2vec.model\")\n",
        "#quorawv = word2Vec_model.wv\n",
        "#quorawv.init_sims(replace=True)\n",
        "#del word2Vec_model\n",
        "\n",
        "#wikiwv = KeyedVectors.load_word2vec_format(path+\"embeddings/wiki-news-300d-1M/wiki-news-300d-1M.vec\", binary=False)\n",
        "#googlewv = KeyedVectors.load_word2vec_format(path+\"embeddings/GoogleNews-vectors-negative300/GoogleNews-vectors-negative300.bin\", binary=True)\n",
        "#googlewv.init_sims(replace=True)\n"
      ],
      "execution_count": 0,
      "outputs": []
    },
    {
      "cell_type": "code",
      "metadata": {
        "id": "6p2JGWJ6PpNm",
        "colab_type": "code",
        "colab": {}
      },
      "source": [
        ""
      ],
      "execution_count": 0,
      "outputs": []
    },
    {
      "cell_type": "markdown",
      "metadata": {
        "id": "9zIrQmrim7jA",
        "colab_type": "text"
      },
      "source": [
        "#6. doc2Vec logistic regression\n",
        "https://radimrehurek.com/gensim/models/doc2vec.html"
      ]
    },
    {
      "cell_type": "code",
      "metadata": {
        "id": "xJYZMZxqLJ4z",
        "colab_type": "code",
        "outputId": "47ce81a2-f91c-4705-c8db-d671f1662c46",
        "colab": {
          "base_uri": "https://localhost:8080/",
          "height": 51
        }
      },
      "source": [
        "%%time\n",
        "\n",
        "from gensim.models.doc2vec import Doc2Vec, TaggedDocument\n",
        "documents = [TaggedDocument(doc.split(), [i]) for i, doc in X_train.items()]\n"
      ],
      "execution_count": 0,
      "outputs": [
        {
          "output_type": "stream",
          "text": [
            "CPU times: user 6.38 s, sys: 376 ms, total: 6.76 s\n",
            "Wall time: 6.75 s\n"
          ],
          "name": "stdout"
        }
      ]
    },
    {
      "cell_type": "code",
      "metadata": {
        "id": "9wUiicn4LJ1Z",
        "colab_type": "code",
        "outputId": "5b946f59-88dd-49d8-9b2d-93a729d6887e",
        "colab": {
          "base_uri": "https://localhost:8080/",
          "height": 51
        }
      },
      "source": [
        "%%time\n",
        "\n",
        "doc2vec_model = Doc2Vec(documents, max_vocab_size=num_words, dm=1, alpha=0.065, min_alpha=0.00025, negative=5, min_count=2, vector_size=embedding_size, window=5, workers=4)"
      ],
      "execution_count": 0,
      "outputs": [
        {
          "output_type": "stream",
          "text": [
            "CPU times: user 6min 42s, sys: 3min 38s, total: 10min 21s\n",
            "Wall time: 5min 35s\n"
          ],
          "name": "stdout"
        }
      ]
    },
    {
      "cell_type": "code",
      "metadata": {
        "id": "ndH_OwiQLJyc",
        "colab_type": "code",
        "outputId": "5530c54a-ca37-46f5-b148-5d2a380345e1",
        "colab": {
          "base_uri": "https://localhost:8080/",
          "height": 71
        }
      },
      "source": [
        "from gensim.test.utils import get_tmpfile\n",
        "fname = get_tmpfile(path+\"doc2vec_model\")\n",
        "doc2vec_model.save(fname)\n",
        "doc2vec_model = Doc2Vec.load(fname)"
      ],
      "execution_count": 0,
      "outputs": [
        {
          "output_type": "stream",
          "text": [
            "/usr/local/lib/python3.6/dist-packages/smart_open/smart_open_lib.py:398: UserWarning: This function is deprecated, use smart_open.open instead. See the migration notes for details: https://github.com/RaRe-Technologies/smart_open/blob/master/README.rst#migrating-to-the-new-open-function\n",
            "  'See the migration notes for details: %s' % _MIGRATION_NOTES_URL\n"
          ],
          "name": "stderr"
        }
      ]
    },
    {
      "cell_type": "code",
      "metadata": {
        "id": "6TXtLmYKLJvC",
        "colab_type": "code",
        "outputId": "bbe601d9-3402-496a-a54f-5f1f5f3cccd7",
        "colab": {
          "base_uri": "https://localhost:8080/",
          "height": 71
        }
      },
      "source": [
        "doc2vec_model = Doc2Vec.load(fname)"
      ],
      "execution_count": 0,
      "outputs": [
        {
          "output_type": "stream",
          "text": [
            "/usr/local/lib/python3.6/dist-packages/smart_open/smart_open_lib.py:398: UserWarning: This function is deprecated, use smart_open.open instead. See the migration notes for details: https://github.com/RaRe-Technologies/smart_open/blob/master/README.rst#migrating-to-the-new-open-function\n",
            "  'See the migration notes for details: %s' % _MIGRATION_NOTES_URL\n"
          ],
          "name": "stderr"
        }
      ]
    },
    {
      "cell_type": "code",
      "metadata": {
        "id": "dmLOpIMjJt0Z",
        "colab_type": "code",
        "colab": {}
      },
      "source": [
        "%%time\n",
        "\n",
        "X_train_doc2vec = word_doc2vec_list(doc2vec_model,X_train)\n",
        "X_dev_doc2vec = word_doc2vec_list(doc2vec_model,X_dev)"
      ],
      "execution_count": 0,
      "outputs": []
    },
    {
      "cell_type": "code",
      "metadata": {
        "id": "hz4hwd6EJtwy",
        "colab_type": "code",
        "colab": {}
      },
      "source": [
        "doclogreg = Pipeline([('clf', LogisticRegressionCV(class_weight='balanced', cv=5, scoring='roc_auc', max_iter=1000,n_jobs=-1)),\n",
        "                  ])"
      ],
      "execution_count": 0,
      "outputs": []
    },
    {
      "cell_type": "code",
      "metadata": {
        "id": "SdTJ_4xhJtt0",
        "colab_type": "code",
        "outputId": "070e9000-ab92-448d-b61c-a4f92b9e7941",
        "colab": {
          "base_uri": "https://localhost:8080/",
          "height": 238
        }
      },
      "source": [
        "%%time\n",
        "\n",
        "doclogreg.fit(X_train_doc2vec, y_train)"
      ],
      "execution_count": 0,
      "outputs": [
        {
          "output_type": "stream",
          "text": [
            "CPU times: user 38.2 s, sys: 3.66 s, total: 41.9 s\n",
            "Wall time: 8min 35s\n"
          ],
          "name": "stdout"
        },
        {
          "output_type": "execute_result",
          "data": {
            "text/plain": [
              "Pipeline(memory=None,\n",
              "         steps=[('clf',\n",
              "                 LogisticRegressionCV(Cs=10, class_weight='balanced', cv=5,\n",
              "                                      dual=False, fit_intercept=True,\n",
              "                                      intercept_scaling=1.0, l1_ratios=None,\n",
              "                                      max_iter=1000, multi_class='warn',\n",
              "                                      n_jobs=-1, penalty='l2',\n",
              "                                      random_state=None, refit=True,\n",
              "                                      scoring='roc_auc', solver='lbfgs',\n",
              "                                      tol=0.0001, verbose=0))],\n",
              "         verbose=False)"
            ]
          },
          "metadata": {
            "tags": []
          },
          "execution_count": 58
        }
      ]
    },
    {
      "cell_type": "code",
      "metadata": {
        "id": "0ZwLuDTkIu7W",
        "colab_type": "code",
        "outputId": "4c751c34-f0d1-445e-ba90-b58c6477ab38",
        "colab": {
          "base_uri": "https://localhost:8080/",
          "height": 757
        }
      },
      "source": [
        "y_pred = doclogreg.predict(X_dev_doc2vec)\n",
        "report(y_dev, y_pred)\n",
        "plot_roc(y_dev, y_pred)"
      ],
      "execution_count": 0,
      "outputs": [
        {
          "output_type": "stream",
          "text": [
            "              precision    recall  f1-score   support\n",
            "\n",
            "     Sincere       0.98      0.82      0.89    122531\n",
            "   Insincere       0.21      0.74      0.32      8081\n",
            "\n",
            "    accuracy                           0.81    130612\n",
            "   macro avg       0.59      0.78      0.61    130612\n",
            "weighted avg       0.93      0.81      0.85    130612\n",
            "\n"
          ],
          "name": "stdout"
        },
        {
          "output_type": "display_data",
          "data": {
            "image/png": "[encoded data removed]",
            "text/plain": [
              "<Figure size 360x360 with 2 Axes>"
            ]
          },
          "metadata": {
            "tags": []
          }
        },
        {
          "output_type": "display_data",
          "data": {
            "image/png": "[encoded data removed]",
            "text/plain": [
              "<Figure size 432x288 with 1 Axes>"
            ]
          },
          "metadata": {
            "tags": []
          }
        }
      ]
    },
    {
      "cell_type": "code",
      "metadata": {
        "id": "okrOeZ9Rm6B4",
        "colab_type": "code",
        "colab": {}
      },
      "source": [
        ""
      ],
      "execution_count": 0,
      "outputs": []
    },
    {
      "cell_type": "markdown",
      "metadata": {
        "id": "mHyUl3uoYTwN",
        "colab_type": "text"
      },
      "source": [
        "#7.  RNN with embedding layer "
      ]
    },
    {
      "cell_type": "code",
      "metadata": {
        "id": "WVUd-9eMe-xJ",
        "colab_type": "code",
        "outputId": "6a737cd1-1e1f-4a4e-b96a-797984b35d68",
        "colab": {
          "base_uri": "https://localhost:8080/",
          "height": 51
        }
      },
      "source": [
        "%%time\n",
        "\n",
        "X_train_token = load(path +'X_train_token_project.sav')\n",
        "X_dev_token = load(path +'X_dev_token_project.sav')\n",
        "X_train_pad = pad_sequences(X_train_token, maxlen=max_tokens, padding=pad, truncating=pad).tolist()\n",
        "X_dev_pad = pad_sequences(X_dev_token, maxlen=max_tokens, padding=pad, truncating=pad).tolist()\n"
      ],
      "execution_count": 0,
      "outputs": [
        {
          "output_type": "stream",
          "text": [
            "CPU times: user 28.4 s, sys: 0 ns, total: 28.4 s\n",
            "Wall time: 28.4 s\n"
          ],
          "name": "stdout"
        }
      ]
    },
    {
      "cell_type": "code",
      "metadata": {
        "id": "zvKONykYm5-p",
        "colab_type": "code",
        "colab": {}
      },
      "source": [
        "model = Sequential()\n",
        "optimizer = Adam(lr=1e-3)"
      ],
      "execution_count": 0,
      "outputs": []
    },
    {
      "cell_type": "code",
      "metadata": {
        "id": "p4UiGinum57s",
        "colab_type": "code",
        "colab": {}
      },
      "source": [
        "model.add(Embedding(input_dim=num_words, output_dim=embedding_size, input_length=max_tokens, name='layer_embedding'))\n",
        "model.add(GRU(units=32, return_sequences=True))\n",
        "model.add(GRU(units=16, dropout=0.5, return_sequences=True))\n",
        "model.add(GRU(units=8, return_sequences=True))\n",
        "model.add(GRU(units=4))\n",
        "model.add(Dense(1, activation='sigmoid'))\n",
        "model.compile(loss='binary_crossentropy', optimizer=optimizer, metrics=['AUC', 'accuracy'])"
      ],
      "execution_count": 0,
      "outputs": []
    },
    {
      "cell_type": "code",
      "metadata": {
        "id": "v5ih61uuldUW",
        "colab_type": "code",
        "outputId": "bb9d9508-e692-4117-a7f2-ff353ba9d883",
        "colab": {
          "base_uri": "https://localhost:8080/",
          "height": 357
        }
      },
      "source": [
        "model.summary()"
      ],
      "execution_count": 0,
      "outputs": [
        {
          "output_type": "stream",
          "text": [
            "Model: \"sequential_1\"\n",
            "_________________________________________________________________\n",
            "Layer (type)                 Output Shape              Param #   \n",
            "=================================================================\n",
            "layer_embedding (Embedding)  (None, 30, 300)           2400000   \n",
            "_________________________________________________________________\n",
            "gru_4 (GRU)                  (None, 30, 32)            31968     \n",
            "_________________________________________________________________\n",
            "gru_5 (GRU)                  (None, 30, 16)            2352      \n",
            "_________________________________________________________________\n",
            "gru_6 (GRU)                  (None, 30, 8)             600       \n",
            "_________________________________________________________________\n",
            "gru_7 (GRU)                  (None, 4)                 156       \n",
            "_________________________________________________________________\n",
            "dense_1 (Dense)              (None, 1)                 5         \n",
            "=================================================================\n",
            "Total params: 2,435,081\n",
            "Trainable params: 2,435,081\n",
            "Non-trainable params: 0\n",
            "_________________________________________________________________\n"
          ],
          "name": "stdout"
        }
      ]
    },
    {
      "cell_type": "code",
      "metadata": {
        "id": "srvlupp-m54l",
        "colab_type": "code",
        "outputId": "cc7bedbd-89ac-4b16-f934-bf70d989b655",
        "colab": {
          "base_uri": "https://localhost:8080/",
          "height": 258
        }
      },
      "source": [
        "%%time\n",
        "\n",
        "history = model.fit(np.array(X_train_pad), y_train, validation_data=(np.array(X_dev_pad),y_dev), epochs=5, batch_size=500)\n"
      ],
      "execution_count": 0,
      "outputs": [
        {
          "output_type": "stream",
          "text": [
            "Train on 1044892 samples, validate on 130612 samples\n",
            "Epoch 1/5\n",
            "1044892/1044892 [==============================] - 378s 362us/sample - loss: 0.1392 - auc_2: 0.9171 - acc: 0.9497 - val_loss: 0.1191 - val_auc_2: 0.9468 - val_acc: 0.9535\n",
            "Epoch 2/5\n",
            "1044892/1044892 [==============================] - 376s 360us/sample - loss: 0.1136 - auc_2: 0.9499 - acc: 0.9558 - val_loss: 0.1161 - val_auc_2: 0.9470 - val_acc: 0.9548\n",
            "Epoch 3/5\n",
            "1044892/1044892 [==============================] - 373s 357us/sample - loss: 0.1071 - auc_2: 0.9564 - acc: 0.9582 - val_loss: 0.1163 - val_auc_2: 0.9471 - val_acc: 0.9551\n",
            "Epoch 4/5\n",
            "1044892/1044892 [==============================] - 378s 361us/sample - loss: 0.1006 - auc_2: 0.9619 - acc: 0.9607 - val_loss: 0.1182 - val_auc_2: 0.9417 - val_acc: 0.9551\n",
            "Epoch 5/5\n",
            "1044892/1044892 [==============================] - 373s 357us/sample - loss: 0.0941 - auc_2: 0.9668 - acc: 0.9632 - val_loss: 0.1204 - val_auc_2: 0.9399 - val_acc: 0.9541\n",
            "CPU times: user 52min 24s, sys: 6min 8s, total: 58min 33s\n",
            "Wall time: 31min 23s\n"
          ],
          "name": "stdout"
        }
      ]
    },
    {
      "cell_type": "code",
      "metadata": {
        "id": "SbjdLLQDcIoc",
        "colab_type": "code",
        "outputId": "768e4718-784c-4faf-9bb6-bea78a927228",
        "colab": {
          "base_uri": "https://localhost:8080/",
          "height": 51
        }
      },
      "source": [
        "%%time\n",
        "\n",
        "predicted = model.predict(np.array(X_dev_pad))\n",
        "predicted = predicted.T[0]\n",
        "cls_pred = np.array([1.0 if p>0.5 else 0.0 for p in predicted])"
      ],
      "execution_count": 0,
      "outputs": [
        {
          "output_type": "stream",
          "text": [
            "CPU times: user 7min 50s, sys: 1min 3s, total: 8min 54s\n",
            "Wall time: 4min 36s\n"
          ],
          "name": "stdout"
        }
      ]
    },
    {
      "cell_type": "code",
      "metadata": {
        "id": "qYSu1yiNcItk",
        "colab_type": "code",
        "outputId": "fa5e9da4-660c-46d7-88ef-d54f955c739f",
        "colab": {
          "base_uri": "https://localhost:8080/",
          "height": 1000
        }
      },
      "source": [
        "report(y_dev, cls_pred)\n",
        "plot_roc(y_dev, predicted)\n",
        "plot_history(history)"
      ],
      "execution_count": 0,
      "outputs": [
        {
          "output_type": "stream",
          "text": [
            "              precision    recall  f1-score   support\n",
            "\n",
            "     Sincere       0.97      0.98      0.98    122531\n",
            "   Insincere       0.66      0.52      0.58      8081\n",
            "\n",
            "    accuracy                           0.95    130612\n",
            "   macro avg       0.82      0.75      0.78    130612\n",
            "weighted avg       0.95      0.95      0.95    130612\n",
            "\n"
          ],
          "name": "stdout"
        },
        {
          "output_type": "display_data",
          "data": {
            "image/png": "[encoded data removed]",
            "text/plain": [
              "<Figure size 360x360 with 2 Axes>"
            ]
          },
          "metadata": {
            "tags": []
          }
        },
        {
          "output_type": "display_data",
          "data": {
            "image/png": "[encoded data removed]",
            "text/plain": [
              "<Figure size 432x288 with 1 Axes>"
            ]
          },
          "metadata": {
            "tags": []
          }
        },
        {
          "output_type": "display_data",
          "data": {
            "image/png": "[encoded data removed]",
            "text/plain": [
              "<Figure size 864x360 with 2 Axes>"
            ]
          },
          "metadata": {
            "tags": []
          }
        }
      ]
    },
    {
      "cell_type": "code",
      "metadata": {
        "id": "fSj9ukB7cIla",
        "colab_type": "code",
        "colab": {}
      },
      "source": [
        ""
      ],
      "execution_count": 0,
      "outputs": []
    },
    {
      "cell_type": "markdown",
      "metadata": {
        "id": "wnG--SI3YfKa",
        "colab_type": "text"
      },
      "source": [
        "#8. RNN with  pre-trained vector  "
      ]
    },
    {
      "cell_type": "code",
      "metadata": {
        "id": "7V_6sjbJcC7C",
        "colab_type": "code",
        "outputId": "05cecc4a-4c14-4029-983e-ba2f80be57c4",
        "colab": {
          "base_uri": "https://localhost:8080/",
          "height": 105
        }
      },
      "source": [
        "%%time\n",
        "\n",
        "#paragram_embeddings = load_para(tokenizer.word_index) \n",
        "#fasttext_embeddings = load_fasttext(tokenizer.word_index) \n",
        "glove_embeddings = load_glove(tokenizer.word_index)    "
      ],
      "execution_count": 0,
      "outputs": [
        {
          "output_type": "stream",
          "text": [
            "/usr/local/lib/python3.6/dist-packages/ipykernel_launcher.py:7: FutureWarning: arrays to stack must be passed as a \"sequence\" type such as list or tuple. Support for non-sequence iterables such as generators is deprecated as of NumPy 1.16 and will raise an error in the future.\n",
            "  import sys\n"
          ],
          "name": "stderr"
        },
        {
          "output_type": "stream",
          "text": [
            "CPU times: user 2min 21s, sys: 16.5 s, total: 2min 37s\n",
            "Wall time: 2min 37s\n"
          ],
          "name": "stdout"
        }
      ]
    },
    {
      "cell_type": "code",
      "metadata": {
        "id": "4CuztL4BvY9E",
        "colab_type": "code",
        "outputId": "a0fa0b33-ed3e-45c9-f4c8-e7f0c53b87dd",
        "colab": {
          "base_uri": "https://localhost:8080/",
          "height": 51
        }
      },
      "source": [
        "%%time\n",
        "\n",
        "X_train_token = load(path +'X_train_token_project.sav')\n",
        "X_dev_token = load(path +'X_dev_token_project.sav')\n",
        "X_train_pad = pad_sequences(X_train_token, maxlen=max_tokens, padding=pad, truncating=pad).tolist()\n",
        "X_dev_pad = pad_sequences(X_dev_token, maxlen=max_tokens, padding=pad, truncating=pad).tolist()\n"
      ],
      "execution_count": 0,
      "outputs": [
        {
          "output_type": "stream",
          "text": [
            "CPU times: user 30.2 s, sys: 24.4 s, total: 54.7 s\n",
            "Wall time: 54.9 s\n"
          ],
          "name": "stdout"
        }
      ]
    },
    {
      "cell_type": "code",
      "metadata": {
        "id": "u_-ebWMgidGR",
        "colab_type": "code",
        "colab": {}
      },
      "source": [
        "del X_train_token, X_dev_token"
      ],
      "execution_count": 0,
      "outputs": []
    },
    {
      "cell_type": "code",
      "metadata": {
        "id": "27p7DQp9vY3P",
        "colab_type": "code",
        "outputId": "dce3253a-bc06-4ac2-b2fd-5fd2b23e0918",
        "colab": {
          "base_uri": "https://localhost:8080/",
          "height": 357
        }
      },
      "source": [
        "model = Sequential()\n",
        "optimizer = Adam(lr=1e-3)\n",
        "model.add(Embedding(weights=[glove_embeddings], trainable=False, input_dim=num_words, output_dim=embedding_size, input_length=max_tokens))\n",
        "model.add(GRU(units=32, return_sequences=True))\n",
        "model.add(GRU(units=16, dropout=0.5, return_sequences=True))\n",
        "model.add(GRU(units=8, return_sequences=True))\n",
        "model.add(GRU(units=4))\n",
        "model.add(Dense(1, activation='sigmoid'))\n",
        "model.compile(loss='binary_crossentropy', optimizer=optimizer, metrics=['AUC', 'accuracy'])\n",
        "model.summary()"
      ],
      "execution_count": 0,
      "outputs": [
        {
          "output_type": "stream",
          "text": [
            "Model: \"sequential_5\"\n",
            "_________________________________________________________________\n",
            "Layer (type)                 Output Shape              Param #   \n",
            "=================================================================\n",
            "embedding_6 (Embedding)      (None, 30, 300)           2400000   \n",
            "_________________________________________________________________\n",
            "gru_21 (GRU)                 (None, 30, 32)            31968     \n",
            "_________________________________________________________________\n",
            "gru_22 (GRU)                 (None, 30, 16)            2352      \n",
            "_________________________________________________________________\n",
            "gru_23 (GRU)                 (None, 30, 8)             600       \n",
            "_________________________________________________________________\n",
            "gru_24 (GRU)                 (None, 4)                 156       \n",
            "_________________________________________________________________\n",
            "dense_5 (Dense)              (None, 1)                 5         \n",
            "=================================================================\n",
            "Total params: 2,435,081\n",
            "Trainable params: 35,081\n",
            "Non-trainable params: 2,400,000\n",
            "_________________________________________________________________\n"
          ],
          "name": "stdout"
        }
      ]
    },
    {
      "cell_type": "code",
      "metadata": {
        "id": "rC-Id1L2Ynnl",
        "colab_type": "code",
        "outputId": "0b09f29d-3eea-4fef-ea29-8b93f22adfab",
        "colab": {
          "base_uri": "https://localhost:8080/",
          "height": 224
        }
      },
      "source": [
        "%%time\n",
        "\n",
        "history = model.fit(np.array(X_train_pad), y_train, validation_data=(np.array(X_dev_pad),y_dev), epochs=4, batch_size=500)\n"
      ],
      "execution_count": 0,
      "outputs": [
        {
          "output_type": "stream",
          "text": [
            "Train on 1044892 samples, validate on 130612 samples\n",
            "Epoch 1/4\n",
            "1044892/1044892 [==============================] - 356s 341us/sample - loss: 0.1509 - auc_10: 0.9011 - acc: 0.9490 - val_loss: 0.1200 - val_auc_10: 0.9394 - val_acc: 0.9550\n",
            "Epoch 2/4\n",
            "1044892/1044892 [==============================] - 353s 337us/sample - loss: 0.1177 - auc_10: 0.9442 - acc: 0.9550 - val_loss: 0.1152 - val_auc_10: 0.9479 - val_acc: 0.9557\n",
            "Epoch 3/4\n",
            "1044892/1044892 [==============================] - 352s 337us/sample - loss: 0.1134 - auc_10: 0.9494 - acc: 0.9564 - val_loss: 0.1131 - val_auc_10: 0.9519 - val_acc: 0.9565\n",
            "Epoch 4/4\n",
            "1044892/1044892 [==============================] - 355s 340us/sample - loss: 0.1106 - auc_10: 0.9523 - acc: 0.9573 - val_loss: 0.1113 - val_auc_10: 0.9530 - val_acc: 0.9572\n",
            "CPU times: user 40min 16s, sys: 4min 57s, total: 45min 13s\n",
            "Wall time: 23min 44s\n"
          ],
          "name": "stdout"
        }
      ]
    },
    {
      "cell_type": "code",
      "metadata": {
        "id": "VgZ0P5PvYnkX",
        "colab_type": "code",
        "outputId": "000adc3f-5a49-4af3-a888-d1fecb81c779",
        "colab": {
          "base_uri": "https://localhost:8080/",
          "height": 51
        }
      },
      "source": [
        "%%time\n",
        "\n",
        "predicted = model.predict(np.array(X_dev_pad))\n",
        "predicted = predicted.T[0]\n",
        "cls_pred = np.array([1.0 if p>0.5 else 0.0 for p in predicted])"
      ],
      "execution_count": 0,
      "outputs": [
        {
          "output_type": "stream",
          "text": [
            "CPU times: user 7min 37s, sys: 1min 2s, total: 8min 39s\n",
            "Wall time: 4min 29s\n"
          ],
          "name": "stdout"
        }
      ]
    },
    {
      "cell_type": "code",
      "metadata": {
        "id": "VRgkyM92Yngm",
        "colab_type": "code",
        "outputId": "5c15993f-c6e4-4cc3-d5b9-8af9162cfd92",
        "colab": {
          "base_uri": "https://localhost:8080/",
          "height": 1000
        }
      },
      "source": [
        "report(y_dev, cls_pred)\n",
        "plot_roc(y_dev, predicted)\n",
        "plot_history(history)"
      ],
      "execution_count": 0,
      "outputs": [
        {
          "output_type": "stream",
          "text": [
            "              precision    recall  f1-score   support\n",
            "\n",
            "     Sincere       0.97      0.99      0.98    122531\n",
            "   Insincere       0.71      0.53      0.60      8081\n",
            "\n",
            "    accuracy                           0.96    130612\n",
            "   macro avg       0.84      0.76      0.79    130612\n",
            "weighted avg       0.95      0.96      0.95    130612\n",
            "\n"
          ],
          "name": "stdout"
        },
        {
          "output_type": "display_data",
          "data": {
            "image/png": "[encoded data removed]",
            "text/plain": [
              "<Figure size 360x360 with 2 Axes>"
            ]
          },
          "metadata": {
            "tags": []
          }
        },
        {
          "output_type": "display_data",
          "data": {
            "image/png": "[encoded data removed]",
            "text/plain": [
              "<Figure size 432x288 with 1 Axes>"
            ]
          },
          "metadata": {
            "tags": []
          }
        },
        {
          "output_type": "display_data",
          "data": {
            "image/png": "[encoded data removed]",
            "text/plain": [
              "<Figure size 864x360 with 2 Axes>"
            ]
          },
          "metadata": {
            "tags": []
          }
        }
      ]
    },
    {
      "cell_type": "code",
      "metadata": {
        "id": "kQf6kgMql-SR",
        "colab_type": "code",
        "colab": {}
      },
      "source": [
        ""
      ],
      "execution_count": 0,
      "outputs": []
    },
    {
      "cell_type": "markdown",
      "metadata": {
        "id": "f_XyW2l0Yovv",
        "colab_type": "text"
      },
      "source": [
        "#9. pre-trained LM (Flair)"
      ]
    },
    {
      "cell_type": "code",
      "metadata": {
        "id": "4ElGKAU1MxCd",
        "colab_type": "code",
        "colab": {}
      },
      "source": [
        "X = X_train_s.to_list() + X_test_s.to_list() + X_dev_s.to_list()\n",
        "y = y_train_s.to_list() + y_test_s.to_list() + y_dev_s.to_list()\n"
      ],
      "execution_count": 0,
      "outputs": []
    },
    {
      "cell_type": "code",
      "metadata": {
        "id": "y-RWJfJy8lND",
        "colab_type": "code",
        "colab": {}
      },
      "source": [
        "data = pd.DataFrame(list(zip(y, X)), columns =['label','text'])\n",
        "data['label'] = '__label__' + data['label'].map({1: 'Insincere', 0: 'Sincere'})\n",
        "\n",
        "data.iloc[0:int(len(data)*0.8)].to_csv(path+'flair/trainflair.csv', sep='\\t', index = False, header = False)\n",
        "data.iloc[int(len(data)*0.8):int(len(data)*0.9)].to_csv(path+'flair/testflair.csv', sep='\\t', index = False, header = False)\n",
        "data.iloc[int(len(data)*0.9):].to_csv(path+'flair/devflair.csv', sep='\\t', index = False, header = False);\n"
      ],
      "execution_count": 0,
      "outputs": []
    },
    {
      "cell_type": "code",
      "metadata": {
        "id": "CqcoXpsYYtkl",
        "colab_type": "code",
        "outputId": "220b7a0c-1622-4d71-9011-d666fb6a98c3",
        "colab": {
          "base_uri": "https://localhost:8080/",
          "height": 142
        }
      },
      "source": [
        "data.head(3)"
      ],
      "execution_count": 0,
      "outputs": [
        {
          "output_type": "execute_result",
          "data": {
            "text/html": [
              "<div>\n",
              "<style scoped>\n",
              "    .dataframe tbody tr th:only-of-type {\n",
              "        vertical-align: middle;\n",
              "    }\n",
              "\n",
              "    .dataframe tbody tr th {\n",
              "        vertical-align: top;\n",
              "    }\n",
              "\n",
              "    .dataframe thead th {\n",
              "        text-align: right;\n",
              "    }\n",
              "</style>\n",
              "<table border=\"1\" class=\"dataframe\">\n",
              "  <thead>\n",
              "    <tr style=\"text-align: right;\">\n",
              "      <th></th>\n",
              "      <th>label</th>\n",
              "      <th>text</th>\n",
              "    </tr>\n",
              "  </thead>\n",
              "  <tbody>\n",
              "    <tr>\n",
              "      <th>0</th>\n",
              "      <td>__label__Insincere</td>\n",
              "      <td>Why are women in India overprivileged nowadays...</td>\n",
              "    </tr>\n",
              "    <tr>\n",
              "      <th>1</th>\n",
              "      <td>__label__Insincere</td>\n",
              "      <td>What is this Blue Whale suicide game that is t...</td>\n",
              "    </tr>\n",
              "    <tr>\n",
              "      <th>2</th>\n",
              "      <td>__label__Sincere</td>\n",
              "      <td>Which Mathematics book provides quality theory...</td>\n",
              "    </tr>\n",
              "  </tbody>\n",
              "</table>\n",
              "</div>"
            ],
            "text/plain": [
              "                label                                               text\n",
              "0  __label__Insincere  Why are women in India overprivileged nowadays...\n",
              "1  __label__Insincere  What is this Blue Whale suicide game that is t...\n",
              "2    __label__Sincere  Which Mathematics book provides quality theory..."
            ]
          },
          "metadata": {
            "tags": []
          },
          "execution_count": 13
        }
      ]
    },
    {
      "cell_type": "code",
      "metadata": {
        "id": "CUMnzBy9Yt3b",
        "colab_type": "code",
        "outputId": "16c99759-a887-4451-f998-ae1c45c045d1",
        "colab": {
          "base_uri": "https://localhost:8080/",
          "height": 1000
        }
      },
      "source": [
        "corpus = NLPTaskDataFetcher.load_classification_corpus(Path(path+'flair/'),\\\n",
        "                                                       test_file='testflair.csv',\\\n",
        "                                                       dev_file='devflair.csv',\\\n",
        "                                                       train_file='trainflair.csv')\n",
        "\n",
        "word_embeddings = [WordEmbeddings('glove'),\\\n",
        "                   FlairEmbeddings('news-forward-fast'),\\\n",
        "                   FlairEmbeddings('news-backward-fast')]\n",
        "\n",
        "document_embeddings = DocumentLSTMEmbeddings(word_embeddings,\n",
        "                                             hidden_size=512,\\\n",
        "                                             reproject_words=True,\\\n",
        "                                             reproject_words_dimension=256)\n",
        "\n",
        "classifier = TextClassifier(document_embeddings,\\\n",
        "                            label_dictionary=corpus.make_label_dictionary(),\\\n",
        "                            multi_label=False)\n",
        "\n",
        "trainer = ModelTrainer(classifier, corpus)\n",
        "\n",
        "trainer.train(path+'flair/', max_epochs=20)"
      ],
      "execution_count": 0,
      "outputs": [
        {
          "output_type": "stream",
          "text": [
            "2019-08-12 22:41:10,822 Reading data from /content/gdrive/My Drive/data/flair\n",
            "2019-08-12 22:41:10,824 Train: /content/gdrive/My Drive/data/flair/trainflair.csv\n",
            "2019-08-12 22:41:10,826 Dev: /content/gdrive/My Drive/data/flair/devflair.csv\n",
            "2019-08-12 22:41:10,827 Test: /content/gdrive/My Drive/data/flair/testflair.csv\n"
          ],
          "name": "stdout"
        },
        {
          "output_type": "stream",
          "text": [
            "/usr/local/lib/python3.6/dist-packages/ipykernel_launcher.py:1: DeprecationWarning: Call to deprecated function (or staticmethod) load_classification_corpus. (Use 'flair.datasets' instead.) -- Deprecated since version 0.4.1.\n",
            "  \"\"\"Entry point for launching an IPython kernel.\n",
            "/usr/local/lib/python3.6/dist-packages/flair/data_fetcher.py:447: DeprecationWarning: Call to deprecated function (or staticmethod) read_text_classification_file. (Use 'flair.datasets' instead.) -- Deprecated since version 0.4.1.\n",
            "  max_tokens_per_doc=max_tokens_per_doc,\n",
            "/usr/local/lib/python3.6/dist-packages/flair/data_fetcher.py:454: DeprecationWarning: Call to deprecated function (or staticmethod) read_text_classification_file. (Use 'flair.datasets' instead.) -- Deprecated since version 0.4.1.\n",
            "  max_tokens_per_doc=max_tokens_per_doc,\n",
            "/usr/local/lib/python3.6/dist-packages/flair/data_fetcher.py:463: DeprecationWarning: Call to deprecated function (or staticmethod) read_text_classification_file. (Use 'flair.datasets' instead.) -- Deprecated since version 0.4.1.\n",
            "  max_tokens_per_doc=max_tokens_per_doc,\n",
            "/usr/local/lib/python3.6/dist-packages/smart_open/smart_open_lib.py:398: UserWarning: This function is deprecated, use smart_open.open instead. See the migration notes for details: https://github.com/RaRe-Technologies/smart_open/blob/master/README.rst#migrating-to-the-new-open-function\n",
            "  'See the migration notes for details: %s' % _MIGRATION_NOTES_URL\n",
            "/usr/local/lib/python3.6/dist-packages/ipykernel_launcher.py:8: DeprecationWarning: Call to deprecated class DocumentLSTMEmbeddings. (The functionality of this class is moved to 'DocumentRNNEmbeddings') -- Deprecated since version 0.4.\n",
            "  \n"
          ],
          "name": "stderr"
        },
        {
          "output_type": "stream",
          "text": [
            "2019-08-12 22:42:00,196 {'Insincere', 'Sincere'}\n",
            "2019-08-12 22:42:00,294 ----------------------------------------------------------------------------------------------------\n",
            "2019-08-12 22:42:00,297 Evaluation method: MICRO_F1_SCORE\n",
            "2019-08-12 22:42:00,751 ----------------------------------------------------------------------------------------------------\n",
            "2019-08-12 22:42:01,558 epoch 1 - iter 0/4041 - loss 0.70203841\n",
            "2019-08-12 22:42:59,033 epoch 1 - iter 404/4041 - loss 0.50237313\n",
            "2019-08-12 22:43:50,773 epoch 1 - iter 808/4041 - loss 0.46344586\n",
            "2019-08-12 22:44:47,785 epoch 1 - iter 1212/4041 - loss 0.43926166\n",
            "2019-08-12 22:45:44,691 epoch 1 - iter 1616/4041 - loss 0.42628143\n",
            "2019-08-12 22:46:36,232 epoch 1 - iter 2020/4041 - loss 0.41650157\n",
            "2019-08-12 22:47:33,220 epoch 1 - iter 2424/4041 - loss 0.40808239\n",
            "2019-08-12 22:48:29,575 epoch 1 - iter 2828/4041 - loss 0.39953352\n",
            "2019-08-12 22:49:20,662 epoch 1 - iter 3232/4041 - loss 0.39447210\n",
            "2019-08-12 22:50:18,748 epoch 1 - iter 3636/4041 - loss 0.38962296\n",
            "2019-08-12 22:51:15,797 epoch 1 - iter 4040/4041 - loss 0.38516629\n",
            "2019-08-12 22:51:16,660 ----------------------------------------------------------------------------------------------------\n",
            "2019-08-12 22:51:16,667 EPOCH 1 done: loss 0.3852 - lr 0.1000 - bad epochs 0\n",
            "2019-08-12 22:52:21,961 DEV : loss 0.32533514499664307 - score 0.8679\n",
            "2019-08-12 22:53:33,094 TEST : loss 0.3335830271244049 - score 0.8634\n",
            "2019-08-12 22:53:37,024 ----------------------------------------------------------------------------------------------------\n",
            "2019-08-12 22:53:38,644 epoch 2 - iter 0/4041 - loss 0.19764298\n",
            "2019-08-12 22:54:41,318 epoch 2 - iter 404/4041 - loss 0.33893050\n",
            "2019-08-12 22:55:39,028 epoch 2 - iter 808/4041 - loss 0.33609366\n",
            "2019-08-12 22:56:31,166 epoch 2 - iter 1212/4041 - loss 0.33852172\n",
            "2019-08-12 22:57:28,523 epoch 2 - iter 1616/4041 - loss 0.33584757\n",
            "2019-08-12 22:58:26,412 epoch 2 - iter 2020/4041 - loss 0.33540967\n",
            "2019-08-12 22:59:18,573 epoch 2 - iter 2424/4041 - loss 0.33492480\n",
            "2019-08-12 23:00:16,024 epoch 2 - iter 2828/4041 - loss 0.33336810\n",
            "2019-08-12 23:01:07,846 epoch 2 - iter 3232/4041 - loss 0.33265940\n",
            "2019-08-12 23:02:05,646 epoch 2 - iter 3636/4041 - loss 0.33140118\n",
            "2019-08-12 23:03:02,489 epoch 2 - iter 4040/4041 - loss 0.33073392\n",
            "2019-08-12 23:03:03,598 ----------------------------------------------------------------------------------------------------\n",
            "2019-08-12 23:03:03,600 EPOCH 2 done: loss 0.3307 - lr 0.1000 - bad epochs 0\n",
            "2019-08-12 23:04:08,887 DEV : loss 0.30737054347991943 - score 0.8779\n",
            "2019-08-12 23:05:19,646 TEST : loss 0.31566423177719116 - score 0.8719\n",
            "2019-08-12 23:05:23,506 ----------------------------------------------------------------------------------------------------\n",
            "2019-08-12 23:05:25,193 epoch 3 - iter 0/4041 - loss 0.11099364\n",
            "2019-08-12 23:06:27,580 epoch 3 - iter 404/4041 - loss 0.32617741\n",
            "2019-08-12 23:07:25,566 epoch 3 - iter 808/4041 - loss 0.32236619\n",
            "2019-08-12 23:08:17,615 epoch 3 - iter 1212/4041 - loss 0.32134749\n",
            "2019-08-12 23:09:14,934 epoch 3 - iter 1616/4041 - loss 0.32139936\n",
            "2019-08-12 23:10:12,771 epoch 3 - iter 2020/4041 - loss 0.32123740\n",
            "2019-08-12 23:11:04,386 epoch 3 - iter 2424/4041 - loss 0.32075641\n",
            "2019-08-12 23:12:01,974 epoch 3 - iter 2828/4041 - loss 0.32079861\n",
            "2019-08-12 23:12:59,367 epoch 3 - iter 3232/4041 - loss 0.31910035\n",
            "2019-08-12 23:13:51,044 epoch 3 - iter 3636/4041 - loss 0.31859959\n",
            "2019-08-12 23:14:47,602 epoch 3 - iter 4040/4041 - loss 0.31751905\n",
            "2019-08-12 23:14:48,862 ----------------------------------------------------------------------------------------------------\n",
            "2019-08-12 23:14:48,863 EPOCH 3 done: loss 0.3175 - lr 0.1000 - bad epochs 0\n",
            "2019-08-12 23:16:01,012 DEV : loss 0.30322331190109253 - score 0.8802\n",
            "2019-08-12 23:17:13,743 TEST : loss 0.3097569942474365 - score 0.8761\n",
            "2019-08-12 23:17:17,455 ----------------------------------------------------------------------------------------------------\n",
            "2019-08-12 23:17:19,290 epoch 4 - iter 0/4041 - loss 0.25796965\n",
            "2019-08-12 23:18:14,675 epoch 4 - iter 404/4041 - loss 0.30568236\n",
            "2019-08-12 23:19:14,127 epoch 4 - iter 808/4041 - loss 0.30834862\n",
            "2019-08-12 23:20:11,279 epoch 4 - iter 1212/4041 - loss 0.30948929\n",
            "2019-08-12 23:21:03,132 epoch 4 - iter 1616/4041 - loss 0.31138593\n",
            "2019-08-12 23:22:01,060 epoch 4 - iter 2020/4041 - loss 0.31344309\n",
            "2019-08-12 23:22:53,249 epoch 4 - iter 2424/4041 - loss 0.31227084\n",
            "2019-08-12 23:23:50,234 epoch 4 - iter 2828/4041 - loss 0.31177180\n",
            "2019-08-12 23:24:47,251 epoch 4 - iter 3232/4041 - loss 0.31119808\n",
            "2019-08-12 23:25:38,663 epoch 4 - iter 3636/4041 - loss 0.30946337\n",
            "2019-08-12 23:26:35,896 epoch 4 - iter 4040/4041 - loss 0.30937039\n",
            "2019-08-12 23:26:37,134 ----------------------------------------------------------------------------------------------------\n",
            "2019-08-12 23:26:37,141 EPOCH 4 done: loss 0.3094 - lr 0.1000 - bad epochs 0\n",
            "2019-08-12 23:27:49,949 DEV : loss 0.3095819652080536 - score 0.8764\n",
            "2019-08-12 23:29:03,074 TEST : loss 0.31131336092948914 - score 0.8736\n",
            "2019-08-12 23:29:03,078 ----------------------------------------------------------------------------------------------------\n",
            "2019-08-12 23:29:04,468 epoch 5 - iter 0/4041 - loss 0.24966750\n",
            "2019-08-12 23:30:00,014 epoch 5 - iter 404/4041 - loss 0.29633574\n",
            "2019-08-12 23:30:59,304 epoch 5 - iter 808/4041 - loss 0.29808158\n",
            "2019-08-12 23:31:56,976 epoch 5 - iter 1212/4041 - loss 0.30035636\n",
            "2019-08-12 23:32:49,475 epoch 5 - iter 1616/4041 - loss 0.29927628\n",
            "2019-08-12 23:33:46,826 epoch 5 - iter 2020/4041 - loss 0.29985286\n",
            "2019-08-12 23:34:44,665 epoch 5 - iter 2424/4041 - loss 0.29966587\n",
            "2019-08-12 23:35:36,976 epoch 5 - iter 2828/4041 - loss 0.30027646\n",
            "2019-08-12 23:36:35,176 epoch 5 - iter 3232/4041 - loss 0.29917739\n",
            "2019-08-12 23:37:32,707 epoch 5 - iter 3636/4041 - loss 0.29998391\n",
            "2019-08-12 23:38:25,444 epoch 5 - iter 4040/4041 - loss 0.30023498\n",
            "2019-08-12 23:38:26,529 ----------------------------------------------------------------------------------------------------\n",
            "2019-08-12 23:38:26,531 EPOCH 5 done: loss 0.3002 - lr 0.1000 - bad epochs 1\n",
            "2019-08-12 23:39:39,012 DEV : loss 0.28755608201026917 - score 0.8879\n",
            "2019-08-12 23:40:51,808 TEST : loss 0.29030078649520874 - score 0.8818\n",
            "2019-08-12 23:40:55,717 ----------------------------------------------------------------------------------------------------\n",
            "2019-08-12 23:40:57,514 epoch 6 - iter 0/4041 - loss 0.27805048\n",
            "2019-08-12 23:41:53,016 epoch 6 - iter 404/4041 - loss 0.29471611\n",
            "2019-08-12 23:42:52,612 epoch 6 - iter 808/4041 - loss 0.29399600\n",
            "2019-08-12 23:43:50,443 epoch 6 - iter 1212/4041 - loss 0.29364591\n",
            "2019-08-12 23:44:42,006 epoch 6 - iter 1616/4041 - loss 0.29282004\n",
            "2019-08-12 23:45:40,274 epoch 6 - iter 2020/4041 - loss 0.29380722\n",
            "2019-08-12 23:46:37,578 epoch 6 - iter 2424/4041 - loss 0.29392136\n",
            "2019-08-12 23:47:35,841 epoch 6 - iter 2828/4041 - loss 0.29341918\n",
            "2019-08-12 23:48:28,563 epoch 6 - iter 3232/4041 - loss 0.29332294\n",
            "2019-08-12 23:49:27,210 epoch 6 - iter 3636/4041 - loss 0.29303097\n",
            "2019-08-12 23:50:19,852 epoch 6 - iter 4040/4041 - loss 0.29331102\n",
            "2019-08-12 23:50:21,061 ----------------------------------------------------------------------------------------------------\n",
            "2019-08-12 23:50:21,063 EPOCH 6 done: loss 0.2933 - lr 0.1000 - bad epochs 0\n",
            "2019-08-12 23:51:34,818 DEV : loss 0.2897564172744751 - score 0.8876\n",
            "2019-08-12 23:52:48,234 TEST : loss 0.2949720621109009 - score 0.8839\n",
            "2019-08-12 23:52:48,238 ----------------------------------------------------------------------------------------------------\n",
            "2019-08-12 23:52:49,864 epoch 7 - iter 0/4041 - loss 0.38286239\n",
            "2019-08-12 23:53:54,484 epoch 7 - iter 404/4041 - loss 0.30171756\n",
            "2019-08-12 23:54:47,152 epoch 7 - iter 808/4041 - loss 0.29337557\n",
            "2019-08-12 23:55:46,193 epoch 7 - iter 1212/4041 - loss 0.29217819\n",
            "2019-08-12 23:56:46,679 epoch 7 - iter 1616/4041 - loss 0.29156783\n",
            "2019-08-12 23:57:39,534 epoch 7 - iter 2020/4041 - loss 0.28998782\n",
            "2019-08-12 23:58:38,035 epoch 7 - iter 2424/4041 - loss 0.29041441\n",
            "2019-08-12 23:59:37,165 epoch 7 - iter 2828/4041 - loss 0.28934060\n",
            "2019-08-13 00:00:29,581 epoch 7 - iter 3232/4041 - loss 0.28850966\n",
            "2019-08-13 00:01:28,344 epoch 7 - iter 3636/4041 - loss 0.28873319\n",
            "2019-08-13 00:02:26,577 epoch 7 - iter 4040/4041 - loss 0.28878950\n",
            "2019-08-13 00:02:27,856 ----------------------------------------------------------------------------------------------------\n",
            "2019-08-13 00:02:27,858 EPOCH 7 done: loss 0.2888 - lr 0.1000 - bad epochs 1\n",
            "2019-08-13 00:03:36,685 DEV : loss 0.3067013621330261 - score 0.8752\n",
            "2019-08-13 00:04:54,297 TEST : loss 0.30914926528930664 - score 0.8717\n",
            "2019-08-13 00:04:54,301 ----------------------------------------------------------------------------------------------------\n",
            "2019-08-13 00:04:56,536 epoch 8 - iter 0/4041 - loss 0.54598778\n",
            "2019-08-13 00:06:03,536 epoch 8 - iter 404/4041 - loss 0.29070753\n",
            "2019-08-13 00:07:04,958 epoch 8 - iter 808/4041 - loss 0.29252416\n",
            "2019-08-13 00:07:59,384 epoch 8 - iter 1212/4041 - loss 0.29060041\n",
            "2019-08-13 00:08:59,470 epoch 8 - iter 1616/4041 - loss 0.28815226\n",
            "2019-08-13 00:09:59,700 epoch 8 - iter 2020/4041 - loss 0.28654362\n",
            "2019-08-13 00:10:53,696 epoch 8 - iter 2424/4041 - loss 0.28520647\n",
            "2019-08-13 00:11:53,156 epoch 8 - iter 2828/4041 - loss 0.28505566\n",
            "2019-08-13 00:12:52,536 epoch 8 - iter 3232/4041 - loss 0.28409442\n",
            "2019-08-13 00:13:45,080 epoch 8 - iter 3636/4041 - loss 0.28467088\n",
            "2019-08-13 00:14:45,951 epoch 8 - iter 4040/4041 - loss 0.28456153\n",
            "2019-08-13 00:14:47,213 ----------------------------------------------------------------------------------------------------\n",
            "2019-08-13 00:14:47,215 EPOCH 8 done: loss 0.2846 - lr 0.1000 - bad epochs 2\n",
            "2019-08-13 00:16:05,539 DEV : loss 0.2956854999065399 - score 0.8798\n",
            "2019-08-13 00:17:14,839 TEST : loss 0.29618024826049805 - score 0.8791\n",
            "2019-08-13 00:17:14,843 ----------------------------------------------------------------------------------------------------\n",
            "2019-08-13 00:17:16,896 epoch 9 - iter 0/4041 - loss 0.35320655\n",
            "2019-08-13 00:18:22,180 epoch 9 - iter 404/4041 - loss 0.27729203\n",
            "2019-08-13 00:19:22,468 epoch 9 - iter 808/4041 - loss 0.27958135\n",
            "2019-08-13 00:20:15,409 epoch 9 - iter 1212/4041 - loss 0.27900418\n",
            "2019-08-13 00:21:13,702 epoch 9 - iter 1616/4041 - loss 0.27818700\n",
            "2019-08-13 00:22:11,631 epoch 9 - iter 2020/4041 - loss 0.27804445\n",
            "2019-08-13 00:23:04,444 epoch 9 - iter 2424/4041 - loss 0.27884847\n",
            "2019-08-13 00:24:04,470 epoch 9 - iter 2828/4041 - loss 0.28000075\n",
            "2019-08-13 00:25:05,427 epoch 9 - iter 3232/4041 - loss 0.27952176\n",
            "2019-08-13 00:25:59,300 epoch 9 - iter 3636/4041 - loss 0.28022635\n",
            "2019-08-13 00:26:58,490 epoch 9 - iter 4040/4041 - loss 0.28077730\n",
            "2019-08-13 00:26:59,780 ----------------------------------------------------------------------------------------------------\n",
            "2019-08-13 00:26:59,782 EPOCH 9 done: loss 0.2808 - lr 0.1000 - bad epochs 3\n",
            "2019-08-13 00:28:14,712 DEV : loss 0.2886335551738739 - score 0.8901\n",
            "2019-08-13 00:29:29,626 TEST : loss 0.2929607927799225 - score 0.8866\n",
            "2019-08-13 00:29:33,767 ----------------------------------------------------------------------------------------------------\n",
            "2019-08-13 00:29:35,397 epoch 10 - iter 0/4041 - loss 0.30161735\n",
            "2019-08-13 00:30:33,506 epoch 10 - iter 404/4041 - loss 0.27436817\n",
            "2019-08-13 00:31:34,996 epoch 10 - iter 808/4041 - loss 0.27743094\n",
            "2019-08-13 00:32:33,221 epoch 10 - iter 1212/4041 - loss 0.27722265\n",
            "2019-08-13 00:33:29,115 epoch 10 - iter 1616/4041 - loss 0.27843899\n",
            "2019-08-13 00:34:31,131 epoch 10 - iter 2020/4041 - loss 0.27679654\n",
            "2019-08-13 00:35:31,558 epoch 10 - iter 2424/4041 - loss 0.27655616\n",
            "2019-08-13 00:36:24,618 epoch 10 - iter 2828/4041 - loss 0.27779666\n",
            "2019-08-13 00:37:24,977 epoch 10 - iter 3232/4041 - loss 0.27656640\n",
            "2019-08-13 00:38:17,934 epoch 10 - iter 3636/4041 - loss 0.27643028\n",
            "2019-08-13 00:39:15,709 epoch 10 - iter 4040/4041 - loss 0.27746657\n",
            "2019-08-13 00:39:16,969 ----------------------------------------------------------------------------------------------------\n",
            "2019-08-13 00:39:16,971 EPOCH 10 done: loss 0.2775 - lr 0.1000 - bad epochs 0\n",
            "2019-08-13 00:40:29,488 DEV : loss 0.29236283898353577 - score 0.8828\n",
            "2019-08-13 00:41:43,014 TEST : loss 0.29124417901039124 - score 0.8827\n",
            "2019-08-13 00:41:43,018 ----------------------------------------------------------------------------------------------------\n",
            "2019-08-13 00:41:44,511 epoch 11 - iter 0/4041 - loss 0.26884887\n",
            "2019-08-13 00:42:40,964 epoch 11 - iter 404/4041 - loss 0.26676372\n",
            "2019-08-13 00:43:42,350 epoch 11 - iter 808/4041 - loss 0.26706374\n",
            "2019-08-13 00:44:41,326 epoch 11 - iter 1212/4041 - loss 0.27073769\n",
            "2019-08-13 00:45:33,837 epoch 11 - iter 1616/4041 - loss 0.27190078\n",
            "2019-08-13 00:46:31,612 epoch 11 - iter 2020/4041 - loss 0.27369638\n",
            "2019-08-13 00:47:30,283 epoch 11 - iter 2424/4041 - loss 0.27375988\n",
            "2019-08-13 00:48:22,376 epoch 11 - iter 2828/4041 - loss 0.27424361\n",
            "2019-08-13 00:49:21,399 epoch 11 - iter 3232/4041 - loss 0.27569047\n",
            "2019-08-13 00:50:19,997 epoch 11 - iter 3636/4041 - loss 0.27551215\n",
            "2019-08-13 00:51:12,388 epoch 11 - iter 4040/4041 - loss 0.27508949\n",
            "2019-08-13 00:51:13,664 ----------------------------------------------------------------------------------------------------\n",
            "2019-08-13 00:51:13,665 EPOCH 11 done: loss 0.2751 - lr 0.1000 - bad epochs 1\n",
            "2019-08-13 00:52:27,268 DEV : loss 0.3148166537284851 - score 0.8728\n",
            "2019-08-13 00:53:42,017 TEST : loss 0.3102893829345703 - score 0.8744\n",
            "2019-08-13 00:53:42,021 ----------------------------------------------------------------------------------------------------\n",
            "2019-08-13 00:53:44,000 epoch 12 - iter 0/4041 - loss 0.36244741\n",
            "2019-08-13 00:54:40,289 epoch 12 - iter 404/4041 - loss 0.27236554\n",
            "2019-08-13 00:55:41,882 epoch 12 - iter 808/4041 - loss 0.27246491\n",
            "2019-08-13 00:56:40,076 epoch 12 - iter 1212/4041 - loss 0.27311314\n",
            "2019-08-13 00:57:32,549 epoch 12 - iter 1616/4041 - loss 0.27468406\n",
            "2019-08-13 00:58:31,672 epoch 12 - iter 2020/4041 - loss 0.27428011\n",
            "2019-08-13 00:59:30,100 epoch 12 - iter 2424/4041 - loss 0.27507524\n",
            "2019-08-13 01:00:23,385 epoch 12 - iter 2828/4041 - loss 0.27420078\n",
            "2019-08-13 01:01:22,844 epoch 12 - iter 3232/4041 - loss 0.27316433\n",
            "2019-08-13 01:02:21,852 epoch 12 - iter 3636/4041 - loss 0.27232215\n",
            "2019-08-13 01:03:14,641 epoch 12 - iter 4040/4041 - loss 0.27248025\n",
            "2019-08-13 01:03:15,909 ----------------------------------------------------------------------------------------------------\n",
            "2019-08-13 01:03:15,911 EPOCH 12 done: loss 0.2725 - lr 0.1000 - bad epochs 2\n",
            "2019-08-13 01:04:29,722 DEV : loss 0.27601638436317444 - score 0.8923\n",
            "2019-08-13 01:05:44,500 TEST : loss 0.27353358268737793 - score 0.8933\n",
            "2019-08-13 01:05:48,506 ----------------------------------------------------------------------------------------------------\n",
            "2019-08-13 01:05:50,251 epoch 13 - iter 0/4041 - loss 0.40825686\n",
            "2019-08-13 01:06:54,895 epoch 13 - iter 404/4041 - loss 0.25924015\n",
            "2019-08-13 01:07:46,970 epoch 13 - iter 808/4041 - loss 0.26543741\n",
            "2019-08-13 01:08:44,904 epoch 13 - iter 1212/4041 - loss 0.26486403\n",
            "2019-08-13 01:09:43,536 epoch 13 - iter 1616/4041 - loss 0.26487438\n",
            "2019-08-13 01:10:35,895 epoch 13 - iter 2020/4041 - loss 0.26783090\n",
            "2019-08-13 01:11:34,830 epoch 13 - iter 2424/4041 - loss 0.26743245\n",
            "2019-08-13 01:12:32,929 epoch 13 - iter 2828/4041 - loss 0.26852289\n",
            "2019-08-13 01:13:25,207 epoch 13 - iter 3232/4041 - loss 0.26833191\n",
            "2019-08-13 01:14:23,622 epoch 13 - iter 3636/4041 - loss 0.26918039\n",
            "2019-08-13 01:15:22,082 epoch 13 - iter 4040/4041 - loss 0.26936487\n",
            "2019-08-13 01:15:23,596 ----------------------------------------------------------------------------------------------------\n",
            "2019-08-13 01:15:23,599 EPOCH 13 done: loss 0.2694 - lr 0.1000 - bad epochs 0\n",
            "2019-08-13 01:16:29,423 DEV : loss 0.29352518916130066 - score 0.887\n",
            "2019-08-13 01:17:41,988 TEST : loss 0.29449737071990967 - score 0.887\n",
            "2019-08-13 01:17:41,991 ----------------------------------------------------------------------------------------------------\n",
            "2019-08-13 01:17:43,777 epoch 14 - iter 0/4041 - loss 0.11060084\n",
            "2019-08-13 01:18:46,857 epoch 14 - iter 404/4041 - loss 0.25716482\n",
            "2019-08-13 01:19:38,926 epoch 14 - iter 808/4041 - loss 0.26003883\n",
            "2019-08-13 01:20:36,956 epoch 14 - iter 1212/4041 - loss 0.26415551\n",
            "2019-08-13 01:21:35,708 epoch 14 - iter 1616/4041 - loss 0.26560892\n",
            "2019-08-13 01:22:27,454 epoch 14 - iter 2020/4041 - loss 0.26812504\n",
            "2019-08-13 01:23:25,396 epoch 14 - iter 2424/4041 - loss 0.26813237\n",
            "2019-08-13 01:24:16,979 epoch 14 - iter 2828/4041 - loss 0.26853571\n",
            "2019-08-13 01:25:15,372 epoch 14 - iter 3232/4041 - loss 0.26941643\n",
            "2019-08-13 01:26:14,196 epoch 14 - iter 3636/4041 - loss 0.26845954\n",
            "2019-08-13 01:27:06,216 epoch 14 - iter 4040/4041 - loss 0.26796887\n",
            "2019-08-13 01:27:07,392 ----------------------------------------------------------------------------------------------------\n",
            "2019-08-13 01:27:07,395 EPOCH 14 done: loss 0.2680 - lr 0.1000 - bad epochs 1\n",
            "2019-08-13 01:28:20,026 DEV : loss 0.288469523191452 - score 0.8847\n",
            "2019-08-13 01:29:33,043 TEST : loss 0.2891761362552643 - score 0.886\n",
            "2019-08-13 01:29:33,047 ----------------------------------------------------------------------------------------------------\n",
            "2019-08-13 01:29:34,668 epoch 15 - iter 0/4041 - loss 0.18691069\n",
            "2019-08-13 01:30:38,319 epoch 15 - iter 404/4041 - loss 0.26163768\n",
            "2019-08-13 01:31:30,449 epoch 15 - iter 808/4041 - loss 0.26032734\n",
            "2019-08-13 01:32:29,228 epoch 15 - iter 1212/4041 - loss 0.26347694\n",
            "2019-08-13 01:33:27,866 epoch 15 - iter 1616/4041 - loss 0.26323882\n",
            "2019-08-13 01:34:19,948 epoch 15 - iter 2020/4041 - loss 0.26342425\n",
            "2019-08-13 01:35:18,618 epoch 15 - iter 2424/4041 - loss 0.26332662\n",
            "2019-08-13 01:36:17,206 epoch 15 - iter 2828/4041 - loss 0.26439405\n",
            "2019-08-13 01:37:09,306 epoch 15 - iter 3232/4041 - loss 0.26528900\n",
            "2019-08-13 01:38:07,243 epoch 15 - iter 3636/4041 - loss 0.26481343\n",
            "2019-08-13 01:39:05,297 epoch 15 - iter 4040/4041 - loss 0.26457653\n",
            "2019-08-13 01:39:06,448 ----------------------------------------------------------------------------------------------------\n",
            "2019-08-13 01:39:06,450 EPOCH 15 done: loss 0.2646 - lr 0.1000 - bad epochs 2\n",
            "2019-08-13 01:40:13,015 DEV : loss 0.2867780029773712 - score 0.885\n",
            "2019-08-13 01:41:24,999 TEST : loss 0.2849055528640747 - score 0.8847\n",
            "2019-08-13 01:41:25,003 ----------------------------------------------------------------------------------------------------\n",
            "2019-08-13 01:41:26,918 epoch 16 - iter 0/4041 - loss 0.23065837\n",
            "2019-08-13 01:42:30,848 epoch 16 - iter 404/4041 - loss 0.25788479\n",
            "2019-08-13 01:43:22,538 epoch 16 - iter 808/4041 - loss 0.26583030\n",
            "2019-08-13 01:44:21,182 epoch 16 - iter 1212/4041 - loss 0.26429608\n",
            "2019-08-13 01:45:20,547 epoch 16 - iter 1616/4041 - loss 0.26285640\n",
            "2019-08-13 01:46:16,133 epoch 16 - iter 2020/4041 - loss 0.26251421\n",
            "2019-08-13 01:47:20,260 epoch 16 - iter 2424/4041 - loss 0.26348830\n",
            "2019-08-13 01:48:22,646 epoch 16 - iter 2828/4041 - loss 0.26466878\n",
            "2019-08-13 01:49:18,908 epoch 16 - iter 3232/4041 - loss 0.26422936\n",
            "2019-08-13 01:50:21,824 epoch 16 - iter 3636/4041 - loss 0.26336617\n",
            "2019-08-13 01:51:23,258 epoch 16 - iter 4040/4041 - loss 0.26378068\n",
            "2019-08-13 01:51:24,603 ----------------------------------------------------------------------------------------------------\n",
            "2019-08-13 01:51:24,605 EPOCH 16 done: loss 0.2638 - lr 0.1000 - bad epochs 3\n",
            "2019-08-13 01:52:32,316 DEV : loss 0.3005833625793457 - score 0.8806\n",
            "2019-08-13 01:53:45,027 TEST : loss 0.2956613302230835 - score 0.8816\n",
            "Epoch    15: reducing learning rate of group 0 to 5.0000e-02.\n",
            "2019-08-13 01:53:45,031 ----------------------------------------------------------------------------------------------------\n",
            "2019-08-13 01:53:46,706 epoch 17 - iter 0/4041 - loss 0.24293327\n",
            "2019-08-13 01:54:50,344 epoch 17 - iter 404/4041 - loss 0.25132735\n",
            "2019-08-13 01:55:43,209 epoch 17 - iter 808/4041 - loss 0.25073820\n",
            "2019-08-13 01:56:42,121 epoch 17 - iter 1212/4041 - loss 0.25282038\n",
            "2019-08-13 01:57:40,931 epoch 17 - iter 1616/4041 - loss 0.25445631\n",
            "2019-08-13 01:58:33,153 epoch 17 - iter 2020/4041 - loss 0.25372049\n",
            "2019-08-13 01:59:32,195 epoch 17 - iter 2424/4041 - loss 0.25390617\n",
            "2019-08-13 02:00:30,994 epoch 17 - iter 2828/4041 - loss 0.25442493\n",
            "2019-08-13 02:01:23,030 epoch 17 - iter 3232/4041 - loss 0.25492632\n",
            "2019-08-13 02:02:21,293 epoch 17 - iter 3636/4041 - loss 0.25379179\n",
            "2019-08-13 02:03:19,655 epoch 17 - iter 4040/4041 - loss 0.25294159\n",
            "2019-08-13 02:03:20,847 ----------------------------------------------------------------------------------------------------\n",
            "2019-08-13 02:03:20,849 EPOCH 17 done: loss 0.2529 - lr 0.0500 - bad epochs 0\n",
            "2019-08-13 02:04:34,235 DEV : loss 0.2758599519729614 - score 0.8922\n",
            "2019-08-13 02:05:40,410 TEST : loss 0.27326932549476624 - score 0.8954\n",
            "2019-08-13 02:05:40,417 ----------------------------------------------------------------------------------------------------\n",
            "2019-08-13 02:05:42,229 epoch 18 - iter 0/4041 - loss 0.23068897\n",
            "2019-08-13 02:06:45,530 epoch 18 - iter 404/4041 - loss 0.25262580\n",
            "2019-08-13 02:07:44,134 epoch 18 - iter 808/4041 - loss 0.24979989\n",
            "2019-08-13 02:08:35,755 epoch 18 - iter 1212/4041 - loss 0.24994256\n",
            "2019-08-13 02:09:34,523 epoch 18 - iter 1616/4041 - loss 0.24925882\n",
            "2019-08-13 02:10:33,194 epoch 18 - iter 2020/4041 - loss 0.25012982\n",
            "2019-08-13 02:11:25,393 epoch 18 - iter 2424/4041 - loss 0.25008766\n",
            "2019-08-13 02:12:24,117 epoch 18 - iter 2828/4041 - loss 0.25005606\n",
            "2019-08-13 02:13:22,781 epoch 18 - iter 3232/4041 - loss 0.24985726\n",
            "2019-08-13 02:14:14,717 epoch 18 - iter 3636/4041 - loss 0.24940187\n",
            "2019-08-13 02:15:12,650 epoch 18 - iter 4040/4041 - loss 0.24922368\n",
            "2019-08-13 02:15:13,952 ----------------------------------------------------------------------------------------------------\n",
            "2019-08-13 02:15:13,953 EPOCH 18 done: loss 0.2492 - lr 0.0500 - bad epochs 1\n",
            "2019-08-13 02:16:27,662 DEV : loss 0.27191829681396484 - score 0.8943\n",
            "2019-08-13 02:17:34,329 TEST : loss 0.270326167345047 - score 0.8973\n",
            "2019-08-13 02:17:38,340 ----------------------------------------------------------------------------------------------------\n",
            "2019-08-13 02:17:40,149 epoch 19 - iter 0/4041 - loss 0.28528774\n",
            "2019-08-13 02:18:43,910 epoch 19 - iter 404/4041 - loss 0.23985772\n",
            "2019-08-13 02:19:42,400 epoch 19 - iter 808/4041 - loss 0.24553370\n",
            "2019-08-13 02:20:35,082 epoch 19 - iter 1212/4041 - loss 0.24817309\n",
            "2019-08-13 02:21:33,327 epoch 19 - iter 1616/4041 - loss 0.24837195\n",
            "2019-08-13 02:22:31,760 epoch 19 - iter 2020/4041 - loss 0.24830760\n",
            "2019-08-13 02:23:23,972 epoch 19 - iter 2424/4041 - loss 0.24828772\n",
            "2019-08-13 02:24:23,129 epoch 19 - iter 2828/4041 - loss 0.24913700\n",
            "2019-08-13 02:25:21,507 epoch 19 - iter 3232/4041 - loss 0.24946598\n",
            "2019-08-13 02:26:13,350 epoch 19 - iter 3636/4041 - loss 0.24903690\n",
            "2019-08-13 02:27:11,561 epoch 19 - iter 4040/4041 - loss 0.24905854\n",
            "2019-08-13 02:27:12,780 ----------------------------------------------------------------------------------------------------\n",
            "2019-08-13 02:27:12,782 EPOCH 19 done: loss 0.2491 - lr 0.0500 - bad epochs 0\n",
            "2019-08-13 02:28:26,218 DEV : loss 0.2701301872730255 - score 0.8939\n",
            "2019-08-13 02:29:39,710 TEST : loss 0.26721876859664917 - score 0.896\n",
            "2019-08-13 02:29:39,713 ----------------------------------------------------------------------------------------------------\n",
            "2019-08-13 02:29:41,325 epoch 20 - iter 0/4041 - loss 0.43621051\n",
            "2019-08-13 02:30:38,079 epoch 20 - iter 404/4041 - loss 0.24287844\n",
            "2019-08-13 02:31:38,182 epoch 20 - iter 808/4041 - loss 0.24878745\n",
            "2019-08-13 02:32:37,271 epoch 20 - iter 1212/4041 - loss 0.24619092\n",
            "2019-08-13 02:33:29,126 epoch 20 - iter 1616/4041 - loss 0.24725502\n",
            "2019-08-13 02:34:27,688 epoch 20 - iter 2020/4041 - loss 0.24640725\n",
            "2019-08-13 02:35:25,643 epoch 20 - iter 2424/4041 - loss 0.24424318\n",
            "2019-08-13 02:36:17,443 epoch 20 - iter 2828/4041 - loss 0.24475702\n",
            "2019-08-13 02:37:15,739 epoch 20 - iter 3232/4041 - loss 0.24538059\n",
            "2019-08-13 02:38:14,496 epoch 20 - iter 3636/4041 - loss 0.24600057\n",
            "2019-08-13 02:39:06,336 epoch 20 - iter 4040/4041 - loss 0.24567161\n",
            "2019-08-13 02:39:07,538 ----------------------------------------------------------------------------------------------------\n",
            "2019-08-13 02:39:07,540 EPOCH 20 done: loss 0.2457 - lr 0.0500 - bad epochs 1\n",
            "2019-08-13 02:40:20,179 DEV : loss 0.2701132297515869 - score 0.8949\n",
            "2019-08-13 02:41:33,447 TEST : loss 0.2663331925868988 - score 0.898\n",
            "2019-08-13 02:41:41,331 ----------------------------------------------------------------------------------------------------\n",
            "2019-08-13 02:41:41,333 Testing using best model ...\n",
            "2019-08-13 02:41:41,338 loading file /content/gdrive/My Drive/data/flair/best-model.pt\n"
          ],
          "name": "stdout"
        },
        {
          "output_type": "stream",
          "text": [
            "/usr/local/lib/python3.6/dist-packages/torch/serialization.py:574: DeprecationWarning: Call to deprecated class DocumentLSTMEmbeddings. (The functionality of this class is moved to 'DocumentRNNEmbeddings') -- Deprecated since version 0.4.\n",
            "  result = unpickler.load()\n"
          ],
          "name": "stderr"
        },
        {
          "output_type": "stream",
          "text": [
            "2019-08-13 02:42:55,379 0.898\t0.898\t0.898\n",
            "2019-08-13 02:42:55,385 \n",
            "MICRO_AVG: acc 0.8148 - f1-score 0.898\n",
            "MACRO_AVG: acc 0.8148 - f1-score 0.89795\n",
            "Insincere  tp: 7385 - fp: 954 - fn: 695 - tn: 7127 - precision: 0.8856 - recall: 0.9140 - accuracy: 0.8175 - f1-score: 0.8996\n",
            "Sincere    tp: 7127 - fp: 695 - fn: 954 - tn: 7385 - precision: 0.9111 - recall: 0.8819 - accuracy: 0.8121 - f1-score: 0.8963\n",
            "2019-08-13 02:42:55,386 ----------------------------------------------------------------------------------------------------\n"
          ],
          "name": "stdout"
        },
        {
          "output_type": "execute_result",
          "data": {
            "text/plain": [
              "{'dev_loss_history': [tensor(0.3253, device='cuda:0'),\n",
              "  tensor(0.3074, device='cuda:0'),\n",
              "  tensor(0.3032, device='cuda:0'),\n",
              "  tensor(0.3096, device='cuda:0'),\n",
              "  tensor(0.2876, device='cuda:0'),\n",
              "  tensor(0.2898, device='cuda:0'),\n",
              "  tensor(0.3067, device='cuda:0'),\n",
              "  tensor(0.2957, device='cuda:0'),\n",
              "  tensor(0.2886, device='cuda:0'),\n",
              "  tensor(0.2924, device='cuda:0'),\n",
              "  tensor(0.3148, device='cuda:0'),\n",
              "  tensor(0.2760, device='cuda:0'),\n",
              "  tensor(0.2935, device='cuda:0'),\n",
              "  tensor(0.2885, device='cuda:0'),\n",
              "  tensor(0.2868, device='cuda:0'),\n",
              "  tensor(0.3006, device='cuda:0'),\n",
              "  tensor(0.2759, device='cuda:0'),\n",
              "  tensor(0.2719, device='cuda:0'),\n",
              "  tensor(0.2701, device='cuda:0'),\n",
              "  tensor(0.2701, device='cuda:0')],\n",
              " 'dev_score_history': [0.8679,\n",
              "  0.8779,\n",
              "  0.8802,\n",
              "  0.8764,\n",
              "  0.8879,\n",
              "  0.8876,\n",
              "  0.8752,\n",
              "  0.8798,\n",
              "  0.8901,\n",
              "  0.8828,\n",
              "  0.8728,\n",
              "  0.8923,\n",
              "  0.887,\n",
              "  0.8847,\n",
              "  0.885,\n",
              "  0.8806,\n",
              "  0.8922,\n",
              "  0.8943,\n",
              "  0.8939,\n",
              "  0.8949],\n",
              " 'test_score': 0.898,\n",
              " 'train_loss_history': [0.38516628782227325,\n",
              "  0.3307339190382144,\n",
              "  0.31751904624268373,\n",
              "  0.3093703851496501,\n",
              "  0.3002349785654682,\n",
              "  0.2933110186599234,\n",
              "  0.2887894961345951,\n",
              "  0.2845615285728288,\n",
              "  0.2807773045773289,\n",
              "  0.2774665715895175,\n",
              "  0.27508948957217977,\n",
              "  0.2724802514542317,\n",
              "  0.26936486922250585,\n",
              "  0.2679688738217908,\n",
              "  0.26457653094642647,\n",
              "  0.2637806810517914,\n",
              "  0.25294159422841767,\n",
              "  0.2492236771238924,\n",
              "  0.2490585368358021,\n",
              "  0.24567160834400437]}"
            ]
          },
          "metadata": {
            "tags": []
          },
          "execution_count": 14
        }
      ]
    },
    {
      "cell_type": "code",
      "metadata": {
        "id": "UiGEr7n_Yu4Y",
        "colab_type": "code",
        "outputId": "129e218d-a0d5-4117-b231-c0880ec91fe0",
        "colab": {
          "base_uri": "https://localhost:8080/",
          "height": 88
        }
      },
      "source": [
        "classifier = TextClassifier.load(path+'flair/best-model.pt')"
      ],
      "execution_count": 0,
      "outputs": [
        {
          "output_type": "stream",
          "text": [
            "2019-08-13 02:42:55,477 loading file /content/gdrive/My Drive/data/flair/best-model.pt\n"
          ],
          "name": "stdout"
        },
        {
          "output_type": "stream",
          "text": [
            "/usr/local/lib/python3.6/dist-packages/torch/serialization.py:574: DeprecationWarning: Call to deprecated class DocumentLSTMEmbeddings. (The functionality of this class is moved to 'DocumentRNNEmbeddings') -- Deprecated since version 0.4.\n",
            "  result = unpickler.load()\n"
          ],
          "name": "stderr"
        }
      ]
    },
    {
      "cell_type": "code",
      "metadata": {
        "id": "6WFXtJxyxrEF",
        "colab_type": "code",
        "outputId": "bcc9dfd4-793f-44ab-f194-97f4ec6319a2",
        "colab": {
          "base_uri": "https://localhost:8080/",
          "height": 51
        }
      },
      "source": [
        "%%time\n",
        "\n",
        "sentences =[]\n",
        "\n",
        "for s in X_dev.to_list():\n",
        "  sentences.append(Sentence(s))\n",
        "\n",
        "classifier.predict(sentences)"
      ],
      "execution_count": 0,
      "outputs": [
        {
          "output_type": "stream",
          "text": [
            "CPU times: user 6min 7s, sys: 1min 22s, total: 7min 30s\n",
            "Wall time: 7min 30s\n"
          ],
          "name": "stdout"
        }
      ]
    },
    {
      "cell_type": "code",
      "metadata": {
        "id": "8ssNipYqe4zo",
        "colab_type": "code",
        "outputId": "22fd3c69-633d-49d2-ee97-e983e85aa239",
        "colab": {
          "base_uri": "https://localhost:8080/",
          "height": 756
        }
      },
      "source": [
        "cls_pred, prob, prob_adj = [], [], []\n",
        "\n",
        "for s in sentences:\n",
        "  if s.labels[0].value == 'Sincere':\n",
        "    cls_pred.append(0)\n",
        "  else:\n",
        "    cls_pred.append(1)\n",
        "  prob.append(s.labels[0].score)\n",
        "\n",
        "for i in range(0, len(prob)):\n",
        "  if cls_pred[i] == 0:\n",
        "    prob_adj.append(1-prob[i])\n",
        "  else:\n",
        "    prob_adj.append(prob[i])\n",
        "\n",
        "report(y_dev, cls_pred)\n",
        "plot_roc(y_dev.values, np.asarray(prob_adj))"
      ],
      "execution_count": 0,
      "outputs": [
        {
          "output_type": "stream",
          "text": [
            "              precision    recall  f1-score   support\n",
            "\n",
            "     Sincere       0.99      0.88      0.93    122531\n",
            "   Insincere       0.34      0.92      0.50      8081\n",
            "\n",
            "    accuracy                           0.88    130612\n",
            "   macro avg       0.67      0.90      0.72    130612\n",
            "weighted avg       0.95      0.88      0.91    130612\n",
            "\n"
          ],
          "name": "stdout"
        },
        {
          "output_type": "display_data",
          "data": {
            "image/png": "[encoded data removed]",
            "text/plain": [
              "<Figure size 360x360 with 2 Axes>"
            ]
          },
          "metadata": {
            "tags": []
          }
        },
        {
          "output_type": "display_data",
          "data": {
            "image/png": "[encoded data removed]",
            "text/plain": [
              "<Figure size 432x288 with 1 Axes>"
            ]
          },
          "metadata": {
            "tags": []
          }
        }
      ]
    },
    {
      "cell_type": "code",
      "metadata": {
        "id": "QFhu7xntxbd8",
        "colab_type": "code",
        "colab": {}
      },
      "source": [
        "from flair.visual.training_curves import Plotter\n",
        "plotter = Plotter()\n",
        "#plotter.plot_training_curves(path+'flair/loss.tsv')\n",
        "#plotter.plot_weights(path+'flair/weights.txt')\n"
      ],
      "execution_count": 0,
      "outputs": []
    },
    {
      "cell_type": "code",
      "metadata": {
        "id": "Oop8xvdE9Muo",
        "colab_type": "code",
        "outputId": "03176e81-0d53-4939-ecff-4fa392cfc3f3",
        "colab": {
          "base_uri": "https://localhost:8080/",
          "height": 269
        }
      },
      "source": [
        "log = pd.read_csv(path+'flair/loss.tsv', sep='\\t')\n",
        "plt.figure(1)\n",
        "plt.subplot(121)\n",
        "plt.plot(log['EPOCH'], log['TRAIN_LOSS'], 'r', log['EPOCH'], log['DEV_LOSS'], 'g', log['EPOCH'], log['TEST_LOSS'], 'b')\n",
        "\n",
        "plt.subplot(122)\n",
        "plt.plot(log['EPOCH'], log['DEV_PRECISION'] ,'r')\n",
        "plt.plot(log['EPOCH'], log['DEV_RECALL'] ,'bo')\n",
        "plt.plot(log['EPOCH'], log['DEV_F1'], 'ro')\n",
        "plt.plot(log['EPOCH'], log['TEST_PRECISION'], 'g')\n",
        "plt.plot(log['EPOCH'], log['TEST_RECALL'], 'bo')\n",
        "plt.plot(log['EPOCH'], log['TEST_F1'], 'go')\n",
        "plt.show()"
      ],
      "execution_count": 0,
      "outputs": [
        {
          "output_type": "display_data",
          "data": {
            "image/png": "[encoded data removed]",
            "text/plain": [
              "<Figure size 432x288 with 2 Axes>"
            ]
          },
          "metadata": {
            "tags": []
          }
        }
      ]
    },
    {
      "cell_type": "code",
      "metadata": {
        "id": "1EACarA35Yu_",
        "colab_type": "code",
        "outputId": "92695450-9a0f-4aac-a4cc-85f32515b9ed",
        "colab": {
          "base_uri": "https://localhost:8080/",
          "height": 323
        }
      },
      "source": [
        "log.info()"
      ],
      "execution_count": 0,
      "outputs": [
        {
          "output_type": "stream",
          "text": [
            "<class 'pandas.core.frame.DataFrame'>\n",
            "RangeIndex: 20 entries, 0 to 19\n",
            "Data columns (total 13 columns):\n",
            "EPOCH             20 non-null int64\n",
            "TIMESTAMP         20 non-null object\n",
            "BAD_EPOCHS        20 non-null int64\n",
            "LEARNING_RATE     20 non-null float64\n",
            "TRAIN_LOSS        20 non-null float64\n",
            "DEV_LOSS          20 non-null float64\n",
            "DEV_PRECISION     20 non-null float64\n",
            "DEV_RECALL        20 non-null float64\n",
            "DEV_F1            20 non-null float64\n",
            "TEST_LOSS         20 non-null float64\n",
            "TEST_PRECISION    20 non-null float64\n",
            "TEST_RECALL       20 non-null float64\n",
            "TEST_F1           20 non-null float64\n",
            "dtypes: float64(10), int64(2), object(1)\n",
            "memory usage: 2.1+ KB\n"
          ],
          "name": "stdout"
        }
      ]
    },
    {
      "cell_type": "code",
      "metadata": {
        "id": "bNoXgJkA5Yok",
        "colab_type": "code",
        "colab": {}
      },
      "source": [
        "\n"
      ],
      "execution_count": 0,
      "outputs": []
    }
  ]
}