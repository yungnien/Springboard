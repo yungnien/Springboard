{
 "cells": [
  {
   "cell_type": "markdown",
   "metadata": {},
   "source": [
    "# Baseline Accuracy Establishement "
   ]
  },
  {
   "cell_type": "markdown",
   "metadata": {},
   "source": [
    "Before the step into the flow as mentioned in proposal, here is a simple prediction on what is the accuracy expected using traditional machine learning approach without any parameter turning or data wangling.  "
   ]
  },
  {
   "cell_type": "code",
   "execution_count": 1,
   "metadata": {},
   "outputs": [],
   "source": [
    "import datetime, time, psutil, os\n",
    "import numpy as np\n",
    "import pandas as pd\n",
    "\n",
    "from sklearn.feature_extraction.text import TfidfVectorizer,CountVectorizer\n",
    "from sklearn.model_selection import KFold\n",
    "from sklearn.metrics import f1_score\n",
    "\n",
    "from sklearn.naive_bayes import BernoulliNB\n",
    "from sklearn.linear_model import LogisticRegression\n",
    "from sklearn.ensemble import GradientBoostingClassifier"
   ]
  },
  {
   "cell_type": "code",
   "execution_count": 2,
   "metadata": {},
   "outputs": [],
   "source": [
    "#  CONTROL PARAMTERS \n",
    "size = 0.1\n",
    "tfTransform = True"
   ]
  },
  {
   "cell_type": "code",
   "execution_count": 3,
   "metadata": {},
   "outputs": [],
   "source": [
    "train_data = pd.read_csv('data/train.csv')\n",
    "test_data = pd.read_csv('data/test.csv')"
   ]
  },
  {
   "cell_type": "code",
   "execution_count": 4,
   "metadata": {},
   "outputs": [
    {
     "data": {
      "text/html": [
       "<div>\n",
       "<style scoped>\n",
       "    .dataframe tbody tr th:only-of-type {\n",
       "        vertical-align: middle;\n",
       "    }\n",
       "\n",
       "    .dataframe tbody tr th {\n",
       "        vertical-align: top;\n",
       "    }\n",
       "\n",
       "    .dataframe thead th {\n",
       "        text-align: right;\n",
       "    }\n",
       "</style>\n",
       "<table border=\"1\" class=\"dataframe\">\n",
       "  <thead>\n",
       "    <tr style=\"text-align: right;\">\n",
       "      <th></th>\n",
       "      <th>qid</th>\n",
       "      <th>question_text</th>\n",
       "      <th>target</th>\n",
       "    </tr>\n",
       "  </thead>\n",
       "  <tbody>\n",
       "    <tr>\n",
       "      <th>0</th>\n",
       "      <td>00002165364db923c7e6</td>\n",
       "      <td>How did Quebec nationalists see their province...</td>\n",
       "      <td>0</td>\n",
       "    </tr>\n",
       "    <tr>\n",
       "      <th>1</th>\n",
       "      <td>000032939017120e6e44</td>\n",
       "      <td>Do you have an adopted dog, how would you enco...</td>\n",
       "      <td>0</td>\n",
       "    </tr>\n",
       "    <tr>\n",
       "      <th>2</th>\n",
       "      <td>0000412ca6e4628ce2cf</td>\n",
       "      <td>Why does velocity affect time? Does velocity a...</td>\n",
       "      <td>0</td>\n",
       "    </tr>\n",
       "    <tr>\n",
       "      <th>3</th>\n",
       "      <td>000042bf85aa498cd78e</td>\n",
       "      <td>How did Otto von Guericke used the Magdeburg h...</td>\n",
       "      <td>0</td>\n",
       "    </tr>\n",
       "    <tr>\n",
       "      <th>4</th>\n",
       "      <td>0000455dfa3e01eae3af</td>\n",
       "      <td>Can I convert montra helicon D to a mountain b...</td>\n",
       "      <td>0</td>\n",
       "    </tr>\n",
       "  </tbody>\n",
       "</table>\n",
       "</div>"
      ],
      "text/plain": [
       "                    qid                                      question_text  \\\n",
       "0  00002165364db923c7e6  How did Quebec nationalists see their province...   \n",
       "1  000032939017120e6e44  Do you have an adopted dog, how would you enco...   \n",
       "2  0000412ca6e4628ce2cf  Why does velocity affect time? Does velocity a...   \n",
       "3  000042bf85aa498cd78e  How did Otto von Guericke used the Magdeburg h...   \n",
       "4  0000455dfa3e01eae3af  Can I convert montra helicon D to a mountain b...   \n",
       "\n",
       "   target  \n",
       "0       0  \n",
       "1       0  \n",
       "2       0  \n",
       "3       0  \n",
       "4       0  "
      ]
     },
     "execution_count": 4,
     "metadata": {},
     "output_type": "execute_result"
    }
   ],
   "source": [
    "train_data = train_data[: int(len(train_data) * size)]\n",
    "test_data = test_data[:int(len(test_data) * size)]\n",
    "train_data.head()"
   ]
  },
  {
   "cell_type": "code",
   "execution_count": 5,
   "metadata": {},
   "outputs": [
    {
     "data": {
      "text/plain": [
       "0    122567\n",
       "1      8045\n",
       "Name: target, dtype: int64"
      ]
     },
     "execution_count": 5,
     "metadata": {},
     "output_type": "execute_result"
    }
   ],
   "source": [
    "train_data['target'].value_counts()"
   ]
  },
  {
   "cell_type": "code",
   "execution_count": 6,
   "metadata": {},
   "outputs": [],
   "source": [
    "train_data['num_words'] = train_data['question_text'].apply(lambda x: len(str(x).split()) )"
   ]
  },
  {
   "cell_type": "code",
   "execution_count": 7,
   "metadata": {},
   "outputs": [
    {
     "data": {
      "text/plain": [
       "count    130612.000000\n",
       "mean         12.774462\n",
       "std           7.026658\n",
       "min           1.000000\n",
       "25%           8.000000\n",
       "50%          11.000000\n",
       "75%          15.000000\n",
       "max          65.000000\n",
       "Name: num_words, dtype: float64"
      ]
     },
     "execution_count": 7,
     "metadata": {},
     "output_type": "execute_result"
    }
   ],
   "source": [
    "train_data['num_words'].describe()"
   ]
  },
  {
   "cell_type": "code",
   "execution_count": 8,
   "metadata": {},
   "outputs": [
    {
     "name": "stdout",
     "output_type": "stream",
     "text": [
      "CPU times: user 7.56 ms, sys: 1.19 ms, total: 8.75 ms\n",
      "Wall time: 7.44 ms\n"
     ]
    }
   ],
   "source": [
    "%%time\n",
    "\n",
    "train_text = train_data['question_text']\n",
    "test_text = test_data['question_text']\n",
    "train_target = train_data['target']\n",
    "all_text = train_text.append(test_text)"
   ]
  },
  {
   "cell_type": "code",
   "execution_count": 9,
   "metadata": {},
   "outputs": [
    {
     "name": "stdout",
     "output_type": "stream",
     "text": [
      "CPU times: user 3.98 s, sys: 81.6 ms, total: 4.06 s\n",
      "Wall time: 4.07 s\n"
     ]
    }
   ],
   "source": [
    "%%time\n",
    "\n",
    "count_vectorizer = CountVectorizer()\n",
    "count_vectorizer.fit(all_text)\n",
    "t_features_cv = count_vectorizer.transform(train_text)\n",
    "test_text_features_cv = count_vectorizer.transform(test_text)"
   ]
  },
  {
   "cell_type": "code",
   "execution_count": 10,
   "metadata": {},
   "outputs": [
    {
     "name": "stdout",
     "output_type": "stream",
     "text": [
      "CPU times: user 4.64 s, sys: 95.3 ms, total: 4.74 s\n",
      "Wall time: 4.18 s\n"
     ]
    }
   ],
   "source": [
    "%%time\n",
    "\n",
    "tfidf_vectorizer = TfidfVectorizer()\n",
    "tfidf_vectorizer.fit(all_text)\n",
    "train_text_features_tf = tfidf_vectorizer.transform(train_text)\n",
    "test_text_features_tf = tfidf_vectorizer.transform(test_text)"
   ]
  },
  {
   "cell_type": "code",
   "execution_count": 11,
   "metadata": {},
   "outputs": [
    {
     "name": "stdout",
     "output_type": "stream",
     "text": [
      "(130612, 67139)\n"
     ]
    }
   ],
   "source": [
    "if tfTransform :\n",
    "    train_text_features = train_text_features_tf\n",
    "    test_text_features = test_text_features_tf\n",
    "else:\n",
    "    train_text_features = train_text_features_cv\n",
    "    test_text_features = test_text_features_cv\n",
    "\n",
    "print(train_text_features.shape)"
   ]
  },
  {
   "cell_type": "code",
   "execution_count": 12,
   "metadata": {},
   "outputs": [
    {
     "name": "stdout",
     "output_type": "stream",
     "text": [
      "0.42209844949570974\n",
      "CPU times: user 1.51 s, sys: 78.2 ms, total: 1.59 s\n",
      "Wall time: 445 ms\n"
     ]
    }
   ],
   "source": [
    "%%time\n",
    "\n",
    "#BernoulliNB\n",
    "kfold = KFold(n_splits = 5, shuffle = True, random_state = 1)\n",
    "test_preds = 0\n",
    "oof_preds = np.zeros([train_data.shape[0],])\n",
    "\n",
    "for i, (train_idx,valid_idx) in enumerate(kfold.split(train_data)):\n",
    "    x_train, x_valid = train_text_features[train_idx,:], train_text_features[valid_idx,:]\n",
    "    y_train, y_valid = train_target[train_idx], train_target[valid_idx]\n",
    "    classifier = BernoulliNB()\n",
    "    classifier.fit(x_train,y_train)\n",
    "   \n",
    "    oof_preds[valid_idx] = classifier.predict_proba(x_valid)[:,1]\n",
    "    test_preds += 0.2*classifier.predict_proba(test_text_features)[:,1]\n",
    "\n",
    "pred_train = (oof_preds > 0.25).astype(np.int)\n",
    "accuracy = f1_score(train_target, pred_train)\n",
    "print(accuracy)"
   ]
  },
  {
   "cell_type": "code",
   "execution_count": 13,
   "metadata": {},
   "outputs": [
    {
     "name": "stdout",
     "output_type": "stream",
     "text": [
      "0.5603949259513841\n",
      "CPU times: user 11 s, sys: 153 ms, total: 11.2 s\n",
      "Wall time: 2.81 s\n"
     ]
    }
   ],
   "source": [
    "%%time\n",
    "\n",
    "#LogisticRegression\n",
    "\n",
    "kfold = KFold(n_splits = 5, shuffle = True, random_state = 1)\n",
    "test_preds = 0\n",
    "oof_preds = np.zeros([train_data.shape[0],])\n",
    "\n",
    "for i, (train_idx,valid_idx) in enumerate(kfold.split(train_data)):\n",
    "    x_train, x_valid = train_text_features[train_idx,:], train_text_features[valid_idx,:]\n",
    "    y_train, y_valid = train_target[train_idx], train_target[valid_idx]\n",
    "    classifier = LogisticRegression(solver='liblinear')\n",
    "    classifier.fit(x_train,y_train)\n",
    "   \n",
    "    oof_preds[valid_idx] = classifier.predict_proba(x_valid)[:,1]\n",
    "    test_preds += 0.2*classifier.predict_proba(test_text_features)[:,1]\n",
    "\n",
    "pred_train = (oof_preds > 0.25).astype(np.int)\n",
    "accuracy = f1_score(train_target, pred_train)\n",
    "print(accuracy)"
   ]
  },
  {
   "cell_type": "code",
   "execution_count": 14,
   "metadata": {},
   "outputs": [
    {
     "name": "stdout",
     "output_type": "stream",
     "text": [
      "0.485589519650655\n",
      "CPU times: user 1h 6min 50s, sys: 4.78 s, total: 1h 6min 55s\n",
      "Wall time: 1h 1min 57s\n"
     ]
    }
   ],
   "source": [
    "%%time\n",
    "\n",
    "#GradientBoostingClassifier\n",
    "\n",
    "kfold = KFold(n_splits = 5, shuffle = True, random_state = 1)\n",
    "test_preds = 0\n",
    "oof_preds = np.zeros([train_data.shape[0],])\n",
    "\n",
    "for i, (train_idx,valid_idx) in enumerate(kfold.split(train_data)):\n",
    "    x_train, x_valid = train_text_features[train_idx,:], train_text_features[valid_idx,:]\n",
    "    y_train, y_valid = train_target[train_idx], train_target[valid_idx]\n",
    "    classifier = GradientBoostingClassifier(random_state=1)\n",
    "    classifier.fit(x_train,y_train)\n",
    "   \n",
    "    oof_preds[valid_idx] = classifier.predict_proba(x_valid)[:,1]\n",
    "    test_preds += 0.2*classifier.predict_proba(test_text_features)[:,1]\n",
    "\n",
    "pred_train = (oof_preds > 0.25).astype(np.int)\n",
    "accuracy = f1_score(train_target, pred_train)\n",
    "print(accuracy)"
   ]
  }
 ],
 "metadata": {
  "kernelspec": {
   "display_name": "Python 3",
   "language": "python",
   "name": "python3"
  },
  "language_info": {
   "codemirror_mode": {
    "name": "ipython",
    "version": 3
   },
   "file_extension": ".py",
   "mimetype": "text/x-python",
   "name": "python",
   "nbconvert_exporter": "python",
   "pygments_lexer": "ipython3",
   "version": "3.7.1"
  }
 },
 "nbformat": 4,
 "nbformat_minor": 2
}
