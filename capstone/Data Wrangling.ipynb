{
 "cells": [
  {
   "cell_type": "markdown",
   "metadata": {},
   "source": [
    "# Data Wrangling"
   ]
  },
  {
   "cell_type": "markdown",
   "metadata": {},
   "source": [
    "As the data to build the model is from 3rd party resource, exploration and cleaning is essential step. \n",
    "Meanwhile, the primary data is question sentance which a typical NLP data cleaning step should be followed to guarantee the data is generic."
   ]
  },
  {
   "cell_type": "code",
   "execution_count": 1,
   "metadata": {},
   "outputs": [],
   "source": [
    "import numpy as np\n",
    "import pandas as pd\n",
    "import matplotlib.pyplot as plt\n",
    "%matplotlib inline"
   ]
  },
  {
   "cell_type": "code",
   "execution_count": 2,
   "metadata": {},
   "outputs": [],
   "source": [
    "train_data = pd.read_csv('data/train.csv')\n",
    "test_data = pd.read_csv('data/test.csv')"
   ]
  },
  {
   "cell_type": "markdown",
   "metadata": {},
   "source": [
    "### Preliminary EDA"
   ]
  },
  {
   "cell_type": "code",
   "execution_count": 3,
   "metadata": {},
   "outputs": [
    {
     "name": "stdout",
     "output_type": "stream",
     "text": [
      "Training data set: 1306122\n",
      "Test data set: 375806\n"
     ]
    }
   ],
   "source": [
    "print('Training data set: ' + str(len(train_data)))\n",
    "print('Test data set: ' + str(len(test_data)))\n"
   ]
  },
  {
   "cell_type": "markdown",
   "metadata": {},
   "source": [
    "The below indicate there is no null cell in all columns. Hence, don't need to fill or remove the record at this moment "
   ]
  },
  {
   "cell_type": "code",
   "execution_count": 4,
   "metadata": {},
   "outputs": [
    {
     "name": "stdout",
     "output_type": "stream",
     "text": [
      "<class 'pandas.core.frame.DataFrame'>\n",
      "RangeIndex: 1306122 entries, 0 to 1306121\n",
      "Data columns (total 3 columns):\n",
      "qid              1306122 non-null object\n",
      "question_text    1306122 non-null object\n",
      "target           1306122 non-null int64\n",
      "dtypes: int64(1), object(2)\n",
      "memory usage: 29.9+ MB\n"
     ]
    }
   ],
   "source": [
    "train_data.info()"
   ]
  },
  {
   "cell_type": "code",
   "execution_count": 5,
   "metadata": {},
   "outputs": [
    {
     "name": "stdout",
     "output_type": "stream",
     "text": [
      "<class 'pandas.core.frame.DataFrame'>\n",
      "RangeIndex: 375806 entries, 0 to 375805\n",
      "Data columns (total 2 columns):\n",
      "qid              375806 non-null object\n",
      "question_text    375806 non-null object\n",
      "dtypes: object(2)\n",
      "memory usage: 5.7+ MB\n"
     ]
    }
   ],
   "source": [
    "test_data.info()"
   ]
  },
  {
   "cell_type": "code",
   "execution_count": 6,
   "metadata": {},
   "outputs": [
    {
     "name": "stdout",
     "output_type": "stream",
     "text": [
      "count                                       1306122\n",
      "unique                                      1306122\n",
      "top       Why did Jedha has so many Kyber Crystals?\n",
      "freq                                              1\n",
      "Name: question_text, dtype: object\n",
      "\n",
      "\n",
      "count                                                375806\n",
      "unique                                               375806\n",
      "top       Where and when will the official statement be ...\n",
      "freq                                                      1\n",
      "Name: question_text, dtype: object\n"
     ]
    }
   ],
   "source": [
    "print (train_data.question_text.describe())\n",
    "print('\\n')\n",
    "print (test_data.question_text.describe())"
   ]
  },
  {
   "cell_type": "code",
   "execution_count": 7,
   "metadata": {},
   "outputs": [
    {
     "data": {
      "image/png": "[encoded data removed]",
      "text/plain": [
       "<Figure size 432x288 with 1 Axes>"
      ]
     },
     "metadata": {
      "needs_background": "light"
     },
     "output_type": "display_data"
    }
   ],
   "source": [
    "train_data['length'] = train_data['question_text'].str.len()\n",
    "test_data['length'] = test_data['question_text'].str.len()\n",
    "\n",
    "train_data['length'].value_counts().sort_index().plot(kind='line')\n",
    "test_data['length'].value_counts().sort_index().plot(kind='line')\n",
    "plt.show()"
   ]
  },
  {
   "cell_type": "markdown",
   "metadata": {},
   "source": [
    "Below shows the ratio on target value: majority of questions are normal/valid question"
   ]
  },
  {
   "cell_type": "code",
   "execution_count": 8,
   "metadata": {},
   "outputs": [
    {
     "name": "stdout",
     "output_type": "stream",
     "text": [
      "0    1225312\n",
      "1      80810\n",
      "Name: target, dtype: int64\n"
     ]
    },
    {
     "data": {
      "text/plain": [
       "<matplotlib.axes._subplots.AxesSubplot at 0x10cc0eb70>"
      ]
     },
     "execution_count": 8,
     "metadata": {},
     "output_type": "execute_result"
    },
    {
     "data": {
      "image/png": "[encoded data removed]",
      "text/plain": [
       "<Figure size 432x288 with 1 Axes>"
      ]
     },
     "metadata": {
      "needs_background": "light"
     },
     "output_type": "display_data"
    }
   ],
   "source": [
    "print(train_data['target'].value_counts())\n",
    "train_data['target'].value_counts().plot(kind='bar')"
   ]
  },
  {
   "cell_type": "markdown",
   "metadata": {},
   "source": [
    "Below shows the question text contains white space, special symbol & foreign characters. \n",
    "As the nlp has language specific settings and functions, the foreign characters & extra white space should be removed \n",
    "As for punchaction, some AI/ML models take the punchaction into account for semantic parsing. Some models, such as bag of words, does not using punchaction due to the natural of the algorithm is based on word frequency.    "
   ]
  },
  {
   "cell_type": "code",
   "execution_count": 9,
   "metadata": {},
   "outputs": [],
   "source": [
    "sorted = train_data.sort_values('question_text')"
   ]
  },
  {
   "cell_type": "code",
   "execution_count": 10,
   "metadata": {},
   "outputs": [
    {
     "data": {
      "text/plain": [
       "840731          \u0010I want to blow things up with TNT now what?\n",
       "613283     !TRIGGER WARNING! Am I a homophobe if I refuse...\n",
       "420816                                                     \"\n",
       "1102919    \" I post a download link of a website in my we...\n",
       "213438     \" I visited the theater\" or \"I enjoyed the the...\n",
       "496717     \" I've been to the doctor many times now to cu...\n",
       "646127     \" Is there anybody who had drastic good / bad ...\n",
       "4692       \" So far She has published three chapters of h...\n",
       "998382     \" What does the scientific mean when you dream...\n",
       "387244     \" if 25 men working 6 hrs a day, can do a work...\n",
       "Name: question_text, dtype: object"
      ]
     },
     "execution_count": 10,
     "metadata": {},
     "output_type": "execute_result"
    }
   ],
   "source": [
    "sorted['question_text'].head(10)"
   ]
  },
  {
   "cell_type": "code",
   "execution_count": 11,
   "metadata": {},
   "outputs": [
    {
     "data": {
      "text/plain": [
       "113435     ⁠⁠Is it bad to lay your motorcycle on its side...\n",
       "146277                       −6.175 is an irrational number?\n",
       "859955     ♣ Why does Winston finally give in to the ideo...\n",
       "1185049    ⦁ What are the methods used to suppress or red...\n",
       "415446     译文 who well be enter the next member of the st...\n",
       "231111                                   한국 고등학교는 몇시간 수업하니까?\n",
       "814877               what is the Complex compound sentence?\n",
       "916459     ﻿What are the best porn pictures serving websi...\n",
       "1261734    Ｈow do I find the negative solution of 4^x = x...\n",
       "344918     ￼￼Assuming that a lightning bolt can be modell...\n",
       "Name: question_text, dtype: object"
      ]
     },
     "execution_count": 11,
     "metadata": {},
     "output_type": "execute_result"
    }
   ],
   "source": [
    "sorted['question_text'].tail(10)"
   ]
  },
  {
   "cell_type": "markdown",
   "metadata": {},
   "source": [
    "### Data Wrangling for NLP \n",
    "A typical NLP pre-processed step contains the following: \n",
    "- Removing accented & foreign characters\n",
    "    - The NLP is limited to one language in most of modeler, Therefore, it is helpful to remove characters tat is not english \n",
    "- Expanding Contractions\n",
    "    - Frequently, contractions shows up in text taht generate variation for words. It will be helpful if we can remove them. The contractions can be removed via syntax rule.\n",
    "- Expanding Abbreviation\n",
    "    - Similar to tocontraction, abbreviaton generates word variation which incrase number of features int the training data. However, due to the large amount of abbreviation , possible ambiguity and has no aviable API, this will be skipped   \n",
    "- Case Unification\n",
    "    - This is to make all character to lower case such that the string comparsion cn recognize them\n",
    "- Removing Special Characters\n",
    "    - To remove non alphanumeric characters \n",
    "- Stemming\n",
    "    - To remove word affixes to get to the base form of a word\n",
    "- Lemmatization \n",
    "    - Also to remove word affixes to get to the base form of a word  [refrence on the difference between Stemming and Lemmatization](https://www.datacamp.com/community/tutorials/stemming-lemmatization-python)\n",
    "- Removing Stopwords\n",
    "    - To remove english stop words\n"
   ]
  },
  {
   "cell_type": "code",
   "execution_count": 12,
   "metadata": {},
   "outputs": [],
   "source": [
    "remove_accent = True\n",
    "remove_non_ascii = True\n",
    "remove_white_space = True\n",
    "expand_contraction = True\n",
    "case_unification = True\n",
    "remove_special_character = True\n",
    "stemming = False\n",
    "lemmatization = False\n",
    "remove_stopword = True"
   ]
  },
  {
   "cell_type": "markdown",
   "metadata": {},
   "source": [
    "### Removing accented & foreign characters"
   ]
  },
  {
   "cell_type": "code",
   "execution_count": 13,
   "metadata": {},
   "outputs": [
    {
     "name": "stdout",
     "output_type": "stream",
     "text": [
      "CPU times: user 17 s, sys: 108 ms, total: 17.1 s\n",
      "Wall time: 17.2 s\n"
     ]
    }
   ],
   "source": [
    "%%time\n",
    "\n",
    "def remove_non_ascii(text):\n",
    "    return ''.join(i for i in text if ord(i)<128)\n",
    "def remove_white_space(text):\n",
    "    return text.strip().strip('\\t\\n')\n",
    "\n",
    "if remove_accent:\n",
    "    train_data['question_text'] = train_data['question_text'].str.normalize('NFKD')\n",
    "    test_data['question_text'] = test_data['question_text'].str.normalize('NFKD')\n",
    "\n",
    "if remove_non_ascii:\n",
    "    train_data['question_text'] = train_data['question_text'].apply(remove_non_ascii)\n",
    "    test_data['question_text'] = test_data['question_text'].apply(remove_non_ascii)\n",
    "\n",
    "if remove_white_space:\n",
    "    train_data['question_text'] = train_data['question_text'].apply(remove_white_space)\n",
    "    test_data['question_text'] = test_data['question_text'].apply(remove_white_space)\n"
   ]
  },
  {
   "cell_type": "markdown",
   "metadata": {},
   "source": [
    "### Expanding Contractions  : use [contractions](https://github.com/kootenpv/contractions), an altervative is [pycontractions](https://pypi.org/project/pycontractions/)"
   ]
  },
  {
   "cell_type": "code",
   "execution_count": 14,
   "metadata": {},
   "outputs": [
    {
     "name": "stdout",
     "output_type": "stream",
     "text": [
      "CPU times: user 2min 30s, sys: 82.4 ms, total: 2min 30s\n",
      "Wall time: 2min 30s\n"
     ]
    }
   ],
   "source": [
    "%%time\n",
    "\n",
    "import contractions\n",
    "\n",
    "if expand_contraction:\n",
    "    train_data['question_text'] = train_data['question_text'].apply(contractions.fix)\n",
    "    test_data['question_text'] = test_data['question_text'].apply(contractions.fix)\n"
   ]
  },
  {
   "cell_type": "markdown",
   "metadata": {},
   "source": [
    "### Case Unification"
   ]
  },
  {
   "cell_type": "code",
   "execution_count": 15,
   "metadata": {},
   "outputs": [
    {
     "name": "stdout",
     "output_type": "stream",
     "text": [
      "CPU times: user 862 ms, sys: 38.7 ms, total: 901 ms\n",
      "Wall time: 898 ms\n"
     ]
    }
   ],
   "source": [
    "%%time\n",
    "\n",
    "if case_unification:\n",
    "    train_data['question_text'] = train_data['question_text'].str.lower()\n",
    "    test_data['question_text'] = test_data['question_text'].str.lower()\n"
   ]
  },
  {
   "cell_type": "markdown",
   "metadata": {},
   "source": [
    "### Removing Special Characters"
   ]
  },
  {
   "cell_type": "code",
   "execution_count": 16,
   "metadata": {},
   "outputs": [
    {
     "name": "stdout",
     "output_type": "stream",
     "text": [
      "CPU times: user 5.34 s, sys: 14.7 ms, total: 5.35 s\n",
      "Wall time: 5.35 s\n"
     ]
    }
   ],
   "source": [
    "%%time\n",
    "\n",
    "import re\n",
    "\n",
    "def remove_special_character(text):\n",
    "    return re.sub('[^A-Za-z0-9\\s]+', '', text)\n",
    "\n",
    "if remove_special_character:\n",
    "    train_data['question_text'] = train_data['question_text'].apply(remove_special_character)\n",
    "    test_data['question_text'] = test_data['question_text'].apply(remove_special_character)\n"
   ]
  },
  {
   "cell_type": "markdown",
   "metadata": {},
   "source": [
    "### Stemming"
   ]
  },
  {
   "cell_type": "code",
   "execution_count": 17,
   "metadata": {},
   "outputs": [
    {
     "name": "stdout",
     "output_type": "stream",
     "text": [
      "CPU times: user 841 ms, sys: 317 ms, total: 1.16 s\n",
      "Wall time: 1.59 s\n"
     ]
    }
   ],
   "source": [
    "%%time\n",
    "\n",
    "import nltk\n",
    "#nltk.download('punkt')\n",
    "from nltk.stem import PorterStemmer \n",
    "from nltk.tokenize import word_tokenize \n",
    "\n",
    "def porter_stemmer(text): #PorterStemmer\n",
    "    ps = PorterStemmer()\n",
    "    text = ' '.join([ps.stem(word) for word in word_tokenize(text)])\n",
    "    return text\n",
    "\n",
    "if stemming:\n",
    "    train_data['question_text'] = train_data['question_text'].apply(porter_stemmer)\n",
    "    test_data['question_text'] = test_data['question_text'].apply(porter_stemmer)\n"
   ]
  },
  {
   "cell_type": "markdown",
   "metadata": {},
   "source": [
    "### Lemmatization"
   ]
  },
  {
   "cell_type": "code",
   "execution_count": 18,
   "metadata": {},
   "outputs": [
    {
     "name": "stdout",
     "output_type": "stream",
     "text": [
      "CPU times: user 13 µs, sys: 0 ns, total: 13 µs\n",
      "Wall time: 17.2 µs\n"
     ]
    }
   ],
   "source": [
    "%%time\n",
    "\n",
    "import nltk\n",
    "#nltk.download('wordnet')\n",
    "#nltk.download('averaged_perceptron_tagger')\n",
    "from nltk.stem import WordNetLemmatizer \n",
    "from nltk.tokenize import word_tokenize \n",
    "\n",
    "def get_wordnet_pos(word):\n",
    "    \"\"\"Map POS tag to first character lemmatize() accepts\"\"\"\n",
    "    tag = nltk.pos_tag([word])[0][1][0].upper()\n",
    "    tag_dict = {\"J\": wordnet.ADJ,\n",
    "                \"N\": wordnet.NOUN,\n",
    "                \"V\": wordnet.VERB,\n",
    "                \"R\": wordnet.ADV}\n",
    "\n",
    "    return tag_dict.get(tag, wordnet.NOUN)\n",
    "\n",
    "def lemmatizer(text): \n",
    "    lemmatizer = WordNetLemmatizer()\n",
    "    text = ' '.join([lemmatizer.lemmatize(w, get_wordnet_pos(w)) for w in nltk.word_tokenize(text)])\n",
    "    return text\n",
    "\n",
    "if lemmatization:\n",
    "    train_data['question_text'] = train_data['question_text'].apply(lemmatizer)\n",
    "    test_data['question_text'] = test_data['question_text'].apply(lemmatizer)\n",
    "    \n"
   ]
  },
  {
   "cell_type": "markdown",
   "metadata": {},
   "source": [
    "### Removing Stopwords"
   ]
  },
  {
   "cell_type": "code",
   "execution_count": 19,
   "metadata": {},
   "outputs": [
    {
     "name": "stdout",
     "output_type": "stream",
     "text": [
      "CPU times: user 2min 40s, sys: 164 ms, total: 2min 40s\n",
      "Wall time: 2min 40s\n"
     ]
    }
   ],
   "source": [
    "%%time\n",
    "\n",
    "import nltk\n",
    "from nltk.corpus import stopwords \n",
    "stop_words = set(stopwords.words('english'))\n",
    "\n",
    "stop_words.remove('not')\n",
    "stop_words.remove('no')\n",
    "\n",
    "def remove_stop_word(text): \n",
    "    text = ' '.join([w for w in nltk.word_tokenize(text) if w not in stop_words])\n",
    "    return text\n",
    "\n",
    "if remove_stopword:\n",
    "    train_data['question_text'] = train_data['question_text'].apply(remove_stop_word)\n",
    "    test_data['question_text'] = test_data['question_text'].apply(remove_stop_word)\n"
   ]
  },
  {
   "cell_type": "markdown",
   "metadata": {},
   "source": [
    "### Post EDA "
   ]
  },
  {
   "cell_type": "code",
   "execution_count": 20,
   "metadata": {},
   "outputs": [
    {
     "name": "stdout",
     "output_type": "stream",
     "text": [
      "count    1.306122e+06\n",
      "mean     4.495670e+01\n",
      "std      2.640209e+01\n",
      "min      0.000000e+00\n",
      "25%      2.700000e+01\n",
      "50%      3.800000e+01\n",
      "75%      5.600000e+01\n",
      "max      5.890000e+02\n",
      "Name: length_a, dtype: float64\n",
      "count    375806.000000\n",
      "mean         45.022418\n",
      "std          26.367973\n",
      "min           0.000000\n",
      "25%          27.000000\n",
      "50%          38.000000\n",
      "75%          56.000000\n",
      "max         478.000000\n",
      "Name: length_a, dtype: float64\n"
     ]
    },
    {
     "data": {
      "image/png": "[encoded data removed]",
      "text/plain": [
       "<Figure size 432x288 with 1 Axes>"
      ]
     },
     "metadata": {
      "needs_background": "light"
     },
     "output_type": "display_data"
    }
   ],
   "source": [
    "train_data['length_a'] = train_data['question_text'].str.len()\n",
    "test_data['length_a'] = test_data['question_text'].str.len()\n",
    "\n",
    "train_data['length_a'].value_counts().sort_index().plot(kind='line')\n",
    "test_data['length_a'].value_counts().sort_index().plot(kind='line')\n",
    "\n",
    "print(train_data['length_a'].describe())\n",
    "print(test_data['length_a'].describe())"
   ]
  },
  {
   "cell_type": "code",
   "execution_count": 21,
   "metadata": {},
   "outputs": [
    {
     "name": "stdout",
     "output_type": "stream",
     "text": [
      "count    1.306122e+06\n",
      "mean     6.525410e+00\n",
      "std      3.737980e+00\n",
      "min      0.000000e+00\n",
      "25%      4.000000e+00\n",
      "50%      6.000000e+00\n",
      "75%      8.000000e+00\n",
      "max      7.700000e+01\n",
      "Name: word_count, dtype: float64\n",
      "count    375806.000000\n",
      "mean          6.532488\n",
      "std           3.730617\n",
      "min           0.000000\n",
      "25%           4.000000\n",
      "50%           6.000000\n",
      "75%           8.000000\n",
      "max          45.000000\n",
      "Name: word_count, dtype: float64\n"
     ]
    },
    {
     "data": {
      "image/png": "[encoded data removed]",
      "text/plain": [
       "<Figure size 432x288 with 1 Axes>"
      ]
     },
     "metadata": {
      "needs_background": "light"
     },
     "output_type": "display_data"
    }
   ],
   "source": [
    "train_data['word_count'] = train_data['question_text'].apply(lambda x: len(str(x).split()) )\n",
    "test_data['word_count'] = test_data['question_text'].apply(lambda x: len(str(x).split()) )\n",
    "\n",
    "train_data['word_count'].value_counts().sort_index().plot(kind='line')\n",
    "test_data['word_count'].value_counts().sort_index().plot(kind='line')\n",
    "print(train_data['word_count'].describe())\n",
    "print(test_data['word_count'].describe())"
   ]
  },
  {
   "cell_type": "code",
   "execution_count": 22,
   "metadata": {},
   "outputs": [
    {
     "name": "stdout",
     "output_type": "stream",
     "text": [
      "4    211692\n",
      "5    206455\n",
      "6    165059\n",
      "3    159967\n",
      "7    124914\n",
      "8     90987\n",
      "9     66429\n",
      "2     58075\n",
      "1      7148\n",
      "0        97\n",
      "Name: word_count, dtype: int64\n",
      "4    61006\n",
      "5    59644\n",
      "6    47349\n",
      "3    45825\n",
      "7    35776\n",
      "8    26598\n",
      "9    19244\n",
      "2    16323\n",
      "1     1995\n",
      "0       36\n",
      "Name: word_count, dtype: int64\n"
     ]
    },
    {
     "data": {
      "image/png": "[encoded data removed]",
      "text/plain": [
       "<Figure size 432x288 with 1 Axes>"
      ]
     },
     "metadata": {
      "needs_background": "light"
     },
     "output_type": "display_data"
    }
   ],
   "source": [
    "train_data.loc[(train_data.word_count < 10),'word_count'].value_counts().sort_index().plot(kind='line')\n",
    "test_data.loc[(test_data.word_count < 10),'word_count'].value_counts().sort_index().plot(kind='line')\n",
    "print(train_data.loc[(train_data.word_count < 10),'word_count'].value_counts())\n",
    "print(test_data.loc[(test_data.word_count < 10),'word_count'].value_counts())"
   ]
  },
  {
   "cell_type": "code",
   "execution_count": 23,
   "metadata": {},
   "outputs": [
    {
     "name": "stdout",
     "output_type": "stream",
     "text": [
      "        word   count\n",
      "12       not  134905\n",
      "8      would   81846\n",
      "67       get   80845\n",
      "477     best   80244\n",
      "10    people   71623\n",
      "361     like   62936\n",
      "112     good   49253\n",
      "300      one   42853\n",
      "356    india   41155\n",
      "165     make   36268\n",
      "120    think   33579\n",
      "129     many   31454\n",
      "355     much   30207\n",
      "16      time   30114\n",
      "146     life   28650\n",
      "276  someone   28266\n",
      "88       use   28026\n",
      "70       way   26858\n",
      "105     know   25947\n",
      "637     want   24683\n",
      "349     work   24075\n",
      "114     take   23830\n",
      "58      ever   23101\n",
      "500       us   22593\n",
      "111     find   22400\n",
      "920    could   22087\n",
      "140   become   21836\n",
      "479  without   21514\n",
      "151    world   21462\n",
      "71      feel   20835\n",
      "                           word  count\n",
      "155464               bhadravati      1\n",
      "155466               resurgents      1\n",
      "155468                    ncrow      1\n",
      "155469                     tcfe      1\n",
      "155470                 fidelman      1\n",
      "155472                     v156      1\n",
      "155473                   384400      1\n",
      "155449                  gunthel      1\n",
      "155447                amphibias      1\n",
      "155417          categorygeneral      1\n",
      "155431                lgk20plus      1\n",
      "155419                eveteases      1\n",
      "155420                    abraq      1\n",
      "155421          provincialstate      1\n",
      "155422              lostdelayed      1\n",
      "155424                  wiltons      1\n",
      "155425         computermediated      1\n",
      "155426                     9458      1\n",
      "155430                    byrom      1\n",
      "155432                 dwdshoes      1\n",
      "155446              aircarriers      1\n",
      "155433                 supossed      1\n",
      "155434                   eatate      1\n",
      "155435                 alambert      1\n",
      "155438              giugashvili      1\n",
      "155439         antiheterosexual      1\n",
      "155440             hydrotropism      1\n",
      "155441               kappernick      1\n",
      "155444              incorporeal      1\n",
      "287223  prejudicediscrimination      1\n",
      "CPU times: user 26.4 s, sys: 395 ms, total: 26.8 s\n",
      "Wall time: 26.1 s\n"
     ]
    }
   ],
   "source": [
    "%%time\n",
    "\n",
    "from sklearn.feature_extraction.text import TfidfVectorizer,CountVectorizer\n",
    "\n",
    "train_text = train_data['question_text']\n",
    "test_text = test_data['question_text']\n",
    "train_target = train_data['target']\n",
    "all_text = train_text.append(test_text)\n",
    "\n",
    "count_vectorizer = CountVectorizer()\n",
    "count_vectorizer.fit(all_text)\n",
    "\n",
    "\n",
    "bag_of_words = count_vectorizer.transform(all_text)\n",
    "sum_words = bag_of_words.sum(axis=0) \n",
    "words_freq = [(word, sum_words[0, idx]) for word, idx in count_vectorizer.vocabulary_.items()]\n",
    "word_check = pd.DataFrame(words_freq, columns=['word', 'count'])\n",
    "sorted_word_check= word_check.sort_values('count', ascending=False)\n",
    "print(sorted_word_check.head(30))\n",
    "print(sorted_word_check.tail(30))"
   ]
  },
  {
   "cell_type": "markdown",
   "metadata": {},
   "source": [
    " ### Another baseline after data wrangling to compare with the initial baseline"
   ]
  },
  {
   "cell_type": "code",
   "execution_count": 24,
   "metadata": {},
   "outputs": [],
   "source": [
    "import datetime, time, psutil, os\n",
    "import numpy as np\n",
    "import pandas as pd\n",
    "\n",
    "from sklearn.feature_extraction.text import TfidfVectorizer,CountVectorizer\n",
    "from sklearn.model_selection import KFold\n",
    "from sklearn.metrics import f1_score\n",
    "\n",
    "from sklearn.naive_bayes import BernoulliNB\n",
    "from sklearn.linear_model import LogisticRegression\n",
    "from sklearn.ensemble import GradientBoostingClassifier"
   ]
  },
  {
   "cell_type": "code",
   "execution_count": 25,
   "metadata": {},
   "outputs": [],
   "source": [
    "# remove records have no word after data wrangling\n",
    "train_data = train_data.loc[(train_data.word_count > 0)]\n",
    "test_data = test_data.loc[(test_data.word_count > 0)]\n",
    "train_data= train_data.reset_index()\n",
    "test_data = test_data.reset_index()"
   ]
  },
  {
   "cell_type": "code",
   "execution_count": 26,
   "metadata": {},
   "outputs": [],
   "source": [
    "#  CONTROL PARAMTERS \n",
    "size = 0.1\n",
    "tfTransform = True\n",
    "\n",
    "train_data = train_data[: int(len(train_data) * size)]\n",
    "test_data = test_data[:int(len(test_data) * size)]"
   ]
  },
  {
   "cell_type": "code",
   "execution_count": 27,
   "metadata": {},
   "outputs": [],
   "source": [
    "train_text = train_data['question_text']\n",
    "test_text = test_data['question_text']\n",
    "train_target = train_data['target']\n",
    "all_text = train_text.append(test_text)"
   ]
  },
  {
   "cell_type": "code",
   "execution_count": 28,
   "metadata": {},
   "outputs": [],
   "source": [
    "count_vectorizer = CountVectorizer()\n",
    "count_vectorizer.fit(all_text)\n",
    "train_text_features_cv = count_vectorizer.transform(train_text)\n",
    "test_text_features_cv = count_vectorizer.transform(test_text)"
   ]
  },
  {
   "cell_type": "code",
   "execution_count": 29,
   "metadata": {},
   "outputs": [],
   "source": [
    "tfidf_vectorizer = TfidfVectorizer()\n",
    "tfidf_vectorizer.fit(all_text)\n",
    "train_text_features_tf = tfidf_vectorizer.transform(train_text)\n",
    "test_text_features_tf = tfidf_vectorizer.transform(test_text)"
   ]
  },
  {
   "cell_type": "code",
   "execution_count": 30,
   "metadata": {},
   "outputs": [
    {
     "name": "stdout",
     "output_type": "stream",
     "text": [
      "(130602, 75823)\n"
     ]
    }
   ],
   "source": [
    "if tfTransform :\n",
    "    train_text_features = train_text_features_tf\n",
    "    test_text_features = test_text_features_tf\n",
    "else:\n",
    "    train_text_features = train_text_features_cv\n",
    "    test_text_features = test_text_features_cv\n",
    "\n",
    "print(train_text_features.shape)"
   ]
  },
  {
   "cell_type": "code",
   "execution_count": 31,
   "metadata": {},
   "outputs": [
    {
     "name": "stdout",
     "output_type": "stream",
     "text": [
      "0.2959231271573841\n",
      "CPU times: user 1.4 s, sys: 58.8 ms, total: 1.46 s\n",
      "Wall time: 424 ms\n"
     ]
    }
   ],
   "source": [
    "%%time\n",
    "\n",
    "#BernoulliNB\n",
    "kfold = KFold(n_splits = 5, shuffle = True, random_state = 1)\n",
    "test_preds = 0\n",
    "oof_preds = np.zeros([train_data.shape[0],])\n",
    "\n",
    "for i, (train_idx,valid_idx) in enumerate(kfold.split(train_data)):\n",
    "    x_train, x_valid = train_text_features[train_idx,:], train_text_features[valid_idx,:]\n",
    "    y_train, y_valid = train_target[train_idx], train_target[valid_idx]\n",
    "    classifier = BernoulliNB()\n",
    "    classifier.fit(x_train,y_train)\n",
    "   \n",
    "    oof_preds[valid_idx] = classifier.predict_proba(x_valid)[:,1]\n",
    "    test_preds += 0.2*classifier.predict_proba(test_text_features)[:,1]\n",
    "\n",
    "pred_train = (oof_preds > 0.25).astype(np.int)\n",
    "accuracy = f1_score(train_target, pred_train)\n",
    "print(accuracy)"
   ]
  },
  {
   "cell_type": "code",
   "execution_count": 32,
   "metadata": {},
   "outputs": [
    {
     "name": "stdout",
     "output_type": "stream",
     "text": [
      "0.5116466944930659\n",
      "CPU times: user 8.93 s, sys: 108 ms, total: 9.04 s\n",
      "Wall time: 2.32 s\n"
     ]
    }
   ],
   "source": [
    "%%time\n",
    "\n",
    "#LogisticRegression\n",
    "\n",
    "kfold = KFold(n_splits = 5, shuffle = True, random_state = 1)\n",
    "test_preds = 0\n",
    "oof_preds = np.zeros([train_data.shape[0],])\n",
    "\n",
    "for i, (train_idx,valid_idx) in enumerate(kfold.split(train_data)):\n",
    "    x_train, x_valid = train_text_features[train_idx,:], train_text_features[valid_idx,:]\n",
    "    y_train, y_valid = train_target[train_idx], train_target[valid_idx]\n",
    "    classifier = LogisticRegression(solver='liblinear')\n",
    "    classifier.fit(x_train,y_train)\n",
    "   \n",
    "    oof_preds[valid_idx] = classifier.predict_proba(x_valid)[:,1]\n",
    "    test_preds += 0.2*classifier.predict_proba(test_text_features)[:,1]\n",
    "\n",
    "pred_train = (oof_preds > 0.25).astype(np.int)\n",
    "accuracy = f1_score(train_target, pred_train)\n",
    "print(accuracy)"
   ]
  },
  {
   "cell_type": "code",
   "execution_count": 33,
   "metadata": {},
   "outputs": [
    {
     "name": "stdout",
     "output_type": "stream",
     "text": [
      "0.4261235046880052\n",
      "CPU times: user 1h 17min 10s, sys: 8.86 s, total: 1h 17min 19s\n",
      "Wall time: 1h 12min 29s\n"
     ]
    }
   ],
   "source": [
    "%%time\n",
    "\n",
    "#GradientBoostingClassifier\n",
    "\n",
    "kfold = KFold(n_splits = 5, shuffle = True, random_state = 1)\n",
    "test_preds = 0\n",
    "oof_preds = np.zeros([train_data.shape[0],])\n",
    "\n",
    "for i, (train_idx,valid_idx) in enumerate(kfold.split(train_data)):\n",
    "    x_train, x_valid = train_text_features[train_idx,:], train_text_features[valid_idx,:]\n",
    "    y_train, y_valid = train_target[train_idx], train_target[valid_idx]\n",
    "    classifier = GradientBoostingClassifier(random_state=1)\n",
    "    classifier.fit(x_train,y_train)\n",
    "   \n",
    "    oof_preds[valid_idx] = classifier.predict_proba(x_valid)[:,1]\n",
    "    test_preds += 0.2*classifier.predict_proba(test_text_features)[:,1]\n",
    "\n",
    "pred_train = (oof_preds > 0.25).astype(np.int)\n",
    "accuracy = f1_score(train_target, pred_train)\n",
    "print(accuracy)"
   ]
  },
  {
   "cell_type": "code",
   "execution_count": null,
   "metadata": {},
   "outputs": [],
   "source": []
  }
 ],
 "metadata": {
  "kernelspec": {
   "display_name": "Python 3",
   "language": "python",
   "name": "python3"
  },
  "language_info": {
   "codemirror_mode": {
    "name": "ipython",
    "version": 3
   },
   "file_extension": ".py",
   "mimetype": "text/x-python",
   "name": "python",
   "nbconvert_exporter": "python",
   "pygments_lexer": "ipython3",
   "version": "3.7.1"
  }
 },
 "nbformat": 4,
 "nbformat_minor": 2
}
