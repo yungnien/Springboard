{
 "cells": [
  {
   "cell_type": "markdown",
   "metadata": {},
   "source": [
    "# Data Wrangling"
   ]
  },
  {
   "cell_type": "markdown",
   "metadata": {},
   "source": [
    "As the data to build the model is from 3rd party resource, exploration and cleaning is essential step. \n",
    "Meanwhile, the primary data is question sentance which a typical NLP data cleaning step should be followed to guarantee the data is generic."
   ]
  },
  {
   "cell_type": "code",
   "execution_count": 1,
   "metadata": {},
   "outputs": [],
   "source": [
    "import numpy as np\n",
    "import pandas as pd\n",
    "import matplotlib.pyplot as plt\n",
    "%matplotlib inline"
   ]
  },
  {
   "cell_type": "code",
   "execution_count": 2,
   "metadata": {},
   "outputs": [],
   "source": [
    "train_data = pd.read_csv('data/train.csv')\n",
    "test_data = pd.read_csv('data/test.csv')"
   ]
  },
  {
   "cell_type": "markdown",
   "metadata": {},
   "source": [
    "### Preliminary EDA"
   ]
  },
  {
   "cell_type": "code",
   "execution_count": 3,
   "metadata": {},
   "outputs": [
    {
     "name": "stdout",
     "output_type": "stream",
     "text": [
      "Training data set: 1306122\n",
      "Test data set: 375806\n"
     ]
    }
   ],
   "source": [
    "print('Training data set: ' + str(len(train_data)))\n",
    "print('Test data set: ' + str(len(test_data)))\n"
   ]
  },
  {
   "cell_type": "markdown",
   "metadata": {},
   "source": [
    "The below indicate there is no null cell in all columns. Hence, don't need to fill or remove the record at this moment "
   ]
  },
  {
   "cell_type": "code",
   "execution_count": 4,
   "metadata": {},
   "outputs": [
    {
     "name": "stdout",
     "output_type": "stream",
     "text": [
      "<class 'pandas.core.frame.DataFrame'>\n",
      "RangeIndex: 1306122 entries, 0 to 1306121\n",
      "Data columns (total 3 columns):\n",
      "qid              1306122 non-null object\n",
      "question_text    1306122 non-null object\n",
      "target           1306122 non-null int64\n",
      "dtypes: int64(1), object(2)\n",
      "memory usage: 29.9+ MB\n"
     ]
    }
   ],
   "source": [
    "train_data.info()"
   ]
  },
  {
   "cell_type": "code",
   "execution_count": 5,
   "metadata": {},
   "outputs": [
    {
     "name": "stdout",
     "output_type": "stream",
     "text": [
      "<class 'pandas.core.frame.DataFrame'>\n",
      "RangeIndex: 375806 entries, 0 to 375805\n",
      "Data columns (total 2 columns):\n",
      "qid              375806 non-null object\n",
      "question_text    375806 non-null object\n",
      "dtypes: object(2)\n",
      "memory usage: 5.7+ MB\n"
     ]
    }
   ],
   "source": [
    "test_data.info()"
   ]
  },
  {
   "cell_type": "code",
   "execution_count": 6,
   "metadata": {},
   "outputs": [
    {
     "name": "stdout",
     "output_type": "stream",
     "text": [
      "count                                         1306122\n",
      "unique                                        1306122\n",
      "top       What are your thoughts on female supremacy?\n",
      "freq                                                1\n",
      "Name: question_text, dtype: object\n",
      "\n",
      "\n",
      "count                                                375806\n",
      "unique                                               375806\n",
      "top       What is the difference between negotiable inst...\n",
      "freq                                                      1\n",
      "Name: question_text, dtype: object\n"
     ]
    }
   ],
   "source": [
    "print (train_data.question_text.describe())\n",
    "print('\\n')\n",
    "print (test_data.question_text.describe())"
   ]
  },
  {
   "cell_type": "code",
   "execution_count": 7,
   "metadata": {},
   "outputs": [
    {
     "data": {
      "image/png": "[encoded data removed]",
      "text/plain": [
       "<Figure size 432x288 with 1 Axes>"
      ]
     },
     "metadata": {
      "needs_background": "light"
     },
     "output_type": "display_data"
    }
   ],
   "source": [
    "train_data['length'] = train_data['question_text'].str.len()\n",
    "test_data['length'] = test_data['question_text'].str.len()\n",
    "\n",
    "train_data['length'].value_counts().sort_index().plot(kind='line')\n",
    "test_data['length'].value_counts().sort_index().plot(kind='line')\n",
    "plt.show()"
   ]
  },
  {
   "cell_type": "markdown",
   "metadata": {},
   "source": [
    "Below shows the ratio on target value: majority of questions are normal/valid question"
   ]
  },
  {
   "cell_type": "code",
   "execution_count": 8,
   "metadata": {},
   "outputs": [
    {
     "name": "stdout",
     "output_type": "stream",
     "text": [
      "0    1225312\n",
      "1      80810\n",
      "Name: target, dtype: int64\n"
     ]
    },
    {
     "data": {
      "text/plain": [
       "<matplotlib.axes._subplots.AxesSubplot at 0x135f33470>"
      ]
     },
     "execution_count": 8,
     "metadata": {},
     "output_type": "execute_result"
    },
    {
     "data": {
      "image/png": "[encoded data removed]",
      "text/plain": [
       "<Figure size 432x288 with 1 Axes>"
      ]
     },
     "metadata": {
      "needs_background": "light"
     },
     "output_type": "display_data"
    }
   ],
   "source": [
    "print(train_data['target'].value_counts())\n",
    "train_data['target'].value_counts().plot(kind='bar')"
   ]
  },
  {
   "cell_type": "markdown",
   "metadata": {},
   "source": [
    "Below shows the question text contains white space, special symbol & foreign characters. \n",
    "As the nlp has language specific settings and functions, the foreign characters & extra white space should be removed \n",
    "As for punchaction, some AI/ML models take the punchaction into account for semantic parsing. Some models, such as bag of words, does not using punchaction due to the natural of the algorithm is based on word frequency.    "
   ]
  },
  {
   "cell_type": "code",
   "execution_count": 9,
   "metadata": {},
   "outputs": [],
   "source": [
    "sorted = train_data.sort_values('question_text')"
   ]
  },
  {
   "cell_type": "code",
   "execution_count": 10,
   "metadata": {},
   "outputs": [
    {
     "data": {
      "text/plain": [
       "840731          \u0010I want to blow things up with TNT now what?\n",
       "613283     !TRIGGER WARNING! Am I a homophobe if I refuse...\n",
       "420816                                                     \"\n",
       "1102919    \" I post a download link of a website in my we...\n",
       "213438     \" I visited the theater\" or \"I enjoyed the the...\n",
       "496717     \" I've been to the doctor many times now to cu...\n",
       "646127     \" Is there anybody who had drastic good / bad ...\n",
       "4692       \" So far She has published three chapters of h...\n",
       "998382     \" What does the scientific mean when you dream...\n",
       "387244     \" if 25 men working 6 hrs a day, can do a work...\n",
       "Name: question_text, dtype: object"
      ]
     },
     "execution_count": 10,
     "metadata": {},
     "output_type": "execute_result"
    }
   ],
   "source": [
    "sorted['question_text'].head(10)"
   ]
  },
  {
   "cell_type": "code",
   "execution_count": 11,
   "metadata": {},
   "outputs": [
    {
     "data": {
      "text/plain": [
       "113435     ⁠⁠Is it bad to lay your motorcycle on its side...\n",
       "146277                       −6.175 is an irrational number?\n",
       "859955     ♣ Why does Winston finally give in to the ideo...\n",
       "1185049    ⦁ What are the methods used to suppress or red...\n",
       "415446     译文 who well be enter the next member of the st...\n",
       "231111                                   한국 고등학교는 몇시간 수업하니까?\n",
       "814877               what is the Complex compound sentence?\n",
       "916459     ﻿What are the best porn pictures serving websi...\n",
       "1261734    Ｈow do I find the negative solution of 4^x = x...\n",
       "344918     ￼￼Assuming that a lightning bolt can be modell...\n",
       "Name: question_text, dtype: object"
      ]
     },
     "execution_count": 11,
     "metadata": {},
     "output_type": "execute_result"
    }
   ],
   "source": [
    "sorted['question_text'].tail(10)"
   ]
  },
  {
   "cell_type": "markdown",
   "metadata": {},
   "source": [
    "### Data Wrangling for NLP \n",
    "A typical NLP pre-processed step contains the following: \n",
    "- Removing accented & foreign characters\n",
    "    - The NLP is limited to one language in most of modeler, Therefore, it is helpful to remove characters tat is not english \n",
    "- Expanding Contractions\n",
    "    - Frequently, contractions shows up in text taht generate variation for words. It will be helpful if we can remove them. The contractions can be removed via syntax rule.\n",
    "- Expanding Abbreviation\n",
    "    - Similar to tocontraction, abbreviaton generates word variation which incrase number of features int the training data. However, due to the large amount of abbreviation , possible ambiguity and has no aviable API, this will be skipped   \n",
    "- Case Unification\n",
    "    - This is to make all character to lower case such that the string comparsion cn recognize them\n",
    "- Removing Special Characters\n",
    "    - To remove non alphanumeric characters \n",
    "- Stemming\n",
    "    - To remove word affixes to get to the base form of a word\n",
    "- Lemmatization \n",
    "    - Also to remove word affixes to get to the base form of a word  [refrence on the difference between Stemming and Lemmatization](https://www.datacamp.com/community/tutorials/stemming-lemmatization-python)\n",
    "- Removing Stopwords\n",
    "    - To remove english stop words\n"
   ]
  },
  {
   "cell_type": "code",
   "execution_count": 12,
   "metadata": {},
   "outputs": [],
   "source": [
    "#control parameter for data wrangling steps\n",
    "remove_accent = True\n",
    "remove_non_ascii = True\n",
    "remove_white_space = True\n",
    "expand_contraction = True\n",
    "case_unification = True\n",
    "remove_special_character = True\n",
    "stemming = False\n",
    "lemmatization = True\n",
    "remove_stopword = True"
   ]
  },
  {
   "cell_type": "markdown",
   "metadata": {},
   "source": [
    "### Removing Accented & Foreign Characters"
   ]
  },
  {
   "cell_type": "code",
   "execution_count": 13,
   "metadata": {},
   "outputs": [
    {
     "name": "stdout",
     "output_type": "stream",
     "text": [
      "CPU times: user 17.3 s, sys: 138 ms, total: 17.5 s\n",
      "Wall time: 17.5 s\n"
     ]
    }
   ],
   "source": [
    "%%time\n",
    "\n",
    "def remove_non_ascii(text):\n",
    "    return ''.join(i for i in text if ord(i)<128)\n",
    "def remove_white_space(text):\n",
    "    return text.strip().strip('\\t\\n')\n",
    "\n",
    "if remove_accent:\n",
    "    train_data['question_text'] = train_data['question_text'].str.normalize('NFKD')\n",
    "    test_data['question_text'] = test_data['question_text'].str.normalize('NFKD')\n",
    "\n",
    "if remove_non_ascii:\n",
    "    train_data['question_text'] = train_data['question_text'].apply(remove_non_ascii)\n",
    "    test_data['question_text'] = test_data['question_text'].apply(remove_non_ascii)\n",
    "\n",
    "if remove_white_space:\n",
    "    train_data['question_text'] = train_data['question_text'].apply(remove_white_space)\n",
    "    test_data['question_text'] = test_data['question_text'].apply(remove_white_space)\n"
   ]
  },
  {
   "cell_type": "markdown",
   "metadata": {},
   "source": [
    "### Expanding Contractions  : use [contractions](https://github.com/kootenpv/contractions), an altervative is [pycontractions](https://pypi.org/project/pycontractions/)"
   ]
  },
  {
   "cell_type": "code",
   "execution_count": 14,
   "metadata": {},
   "outputs": [
    {
     "name": "stdout",
     "output_type": "stream",
     "text": [
      "CPU times: user 2min 36s, sys: 291 ms, total: 2min 36s\n",
      "Wall time: 2min 36s\n"
     ]
    }
   ],
   "source": [
    "%%time\n",
    "\n",
    "import contractions\n",
    "\n",
    "if expand_contraction:\n",
    "    train_data['question_text'] = train_data['question_text'].apply(contractions.fix)\n",
    "    test_data['question_text'] = test_data['question_text'].apply(contractions.fix)\n"
   ]
  },
  {
   "cell_type": "markdown",
   "metadata": {},
   "source": [
    "### Case Unification"
   ]
  },
  {
   "cell_type": "code",
   "execution_count": 15,
   "metadata": {},
   "outputs": [
    {
     "name": "stdout",
     "output_type": "stream",
     "text": [
      "CPU times: user 899 ms, sys: 42 ms, total: 941 ms\n",
      "Wall time: 941 ms\n"
     ]
    }
   ],
   "source": [
    "%%time\n",
    "\n",
    "if case_unification:\n",
    "    train_data['question_text'] = train_data['question_text'].str.lower()\n",
    "    test_data['question_text'] = test_data['question_text'].str.lower()\n"
   ]
  },
  {
   "cell_type": "markdown",
   "metadata": {},
   "source": [
    "### Removing Special Characters"
   ]
  },
  {
   "cell_type": "code",
   "execution_count": 16,
   "metadata": {},
   "outputs": [
    {
     "name": "stdout",
     "output_type": "stream",
     "text": [
      "CPU times: user 5.63 s, sys: 26.5 ms, total: 5.65 s\n",
      "Wall time: 5.66 s\n"
     ]
    }
   ],
   "source": [
    "%%time\n",
    "\n",
    "import re\n",
    "\n",
    "def remove_special_character(text):\n",
    "    return re.sub('[^A-Za-z0-9\\s]+', '', text)\n",
    "\n",
    "if remove_special_character:\n",
    "    train_data['question_text'] = train_data['question_text'].apply(remove_special_character)\n",
    "    test_data['question_text'] = test_data['question_text'].apply(remove_special_character)\n"
   ]
  },
  {
   "cell_type": "markdown",
   "metadata": {},
   "source": [
    "### Porter Stemming"
   ]
  },
  {
   "cell_type": "code",
   "execution_count": 17,
   "metadata": {},
   "outputs": [
    {
     "name": "stdout",
     "output_type": "stream",
     "text": [
      "CPU times: user 735 ms, sys: 271 ms, total: 1.01 s\n",
      "Wall time: 1.41 s\n"
     ]
    }
   ],
   "source": [
    "%%time\n",
    "\n",
    "import nltk\n",
    "#nltk.download('punkt')\n",
    "from nltk.stem import PorterStemmer \n",
    "from nltk.tokenize import word_tokenize \n",
    "\n",
    "def porter_stemmer(text): #PorterStemmer\n",
    "    ps = PorterStemmer()\n",
    "    text = ' '.join([ps.stem(word) for word in word_tokenize(text)])\n",
    "    return text\n",
    "\n",
    "if stemming:\n",
    "    train_data['question_text'] = train_data['question_text'].apply(porter_stemmer)\n",
    "    test_data['question_text'] = test_data['question_text'].apply(porter_stemmer)\n"
   ]
  },
  {
   "cell_type": "markdown",
   "metadata": {},
   "source": [
    "### WordNet Lemmatization"
   ]
  },
  {
   "cell_type": "code",
   "execution_count": 18,
   "metadata": {},
   "outputs": [
    {
     "name": "stdout",
     "output_type": "stream",
     "text": [
      "CPU times: user 44min 50s, sys: 4min, total: 48min 51s\n",
      "Wall time: 48min 58s\n"
     ]
    }
   ],
   "source": [
    "%%time\n",
    "\n",
    "import nltk\n",
    "#nltk.download('wordnet')\n",
    "#nltk.download('averaged_perceptron_tagger')\n",
    "#nltk.download()\n",
    "from nltk.stem import WordNetLemmatizer \n",
    "from nltk.tokenize import word_tokenize \n",
    "from nltk.corpus import  wordnet\n",
    "\n",
    "def get_wordnet_pos(word):\n",
    "    \"\"\"Map POS tag to first character lemmatize() accepts\"\"\"\n",
    "    tag = nltk.pos_tag([word])[0][1][0].upper()\n",
    "    tag_dict = {\"J\": wordnet.ADJ,\n",
    "                \"N\": wordnet.NOUN,\n",
    "                \"V\": wordnet.VERB,\n",
    "                \"R\": wordnet.ADV}\n",
    "\n",
    "    return tag_dict.get(tag, wordnet.NOUN)\n",
    "\n",
    "def lemmatizer(text): \n",
    "    lemmatizer = WordNetLemmatizer()\n",
    "    text = ' '.join([lemmatizer.lemmatize(w, get_wordnet_pos(w)) for w in nltk.word_tokenize(text)])\n",
    "    return text\n",
    "\n",
    "if lemmatization:\n",
    "    train_data['question_text'] = train_data['question_text'].apply(lemmatizer)\n",
    "    test_data['question_text'] = test_data['question_text'].apply(lemmatizer)\n",
    "    \n"
   ]
  },
  {
   "cell_type": "markdown",
   "metadata": {},
   "source": [
    "### Removing Stopwords"
   ]
  },
  {
   "cell_type": "code",
   "execution_count": 19,
   "metadata": {},
   "outputs": [
    {
     "name": "stdout",
     "output_type": "stream",
     "text": [
      "CPU times: user 2min 49s, sys: 464 ms, total: 2min 49s\n",
      "Wall time: 2min 50s\n"
     ]
    }
   ],
   "source": [
    "%%time\n",
    "\n",
    "import nltk\n",
    "from nltk.corpus import stopwords \n",
    "stop_words = set(stopwords.words('english'))\n",
    "\n",
    "stop_words.remove('not')\n",
    "stop_words.remove('no')\n",
    "\n",
    "def remove_stop_word(text): \n",
    "    text = ' '.join([w for w in nltk.word_tokenize(text) if w not in stop_words])\n",
    "    return text\n",
    "\n",
    "if remove_stopword:\n",
    "    train_data['question_text'] = train_data['question_text'].apply(remove_stop_word)\n",
    "    test_data['question_text'] = test_data['question_text'].apply(remove_stop_word)\n"
   ]
  },
  {
   "cell_type": "markdown",
   "metadata": {},
   "source": [
    "### Post EDA "
   ]
  },
  {
   "cell_type": "code",
   "execution_count": 20,
   "metadata": {},
   "outputs": [
    {
     "name": "stdout",
     "output_type": "stream",
     "text": [
      "count    1.306122e+06\n",
      "mean     4.307816e+01\n",
      "std      2.523496e+01\n",
      "min      0.000000e+00\n",
      "25%      2.600000e+01\n",
      "50%      3.700000e+01\n",
      "75%      5.300000e+01\n",
      "max      5.870000e+02\n",
      "Name: length_a, dtype: float64\n",
      "count    375806.000000\n",
      "mean         43.142885\n",
      "std          25.205177\n",
      "min           0.000000\n",
      "25%          26.000000\n",
      "50%          37.000000\n",
      "75%          53.000000\n",
      "max         478.000000\n",
      "Name: length_a, dtype: float64\n"
     ]
    },
    {
     "data": {
      "image/png": "[encoded data removed]",
      "text/plain": [
       "<Figure size 432x288 with 1 Axes>"
      ]
     },
     "metadata": {
      "needs_background": "light"
     },
     "output_type": "display_data"
    }
   ],
   "source": [
    "train_data['length_after'] = train_data['question_text'].str.len()\n",
    "test_data['length_after'] = test_data['question_text'].str.len()\n",
    "\n",
    "train_data['length_after'].value_counts().sort_index().plot(kind='line')\n",
    "test_data['length_after'].value_counts().sort_index().plot(kind='line')\n",
    "\n",
    "print(train_data['length_after'].describe())\n",
    "print(test_data['length_after'].describe())"
   ]
  },
  {
   "cell_type": "code",
   "execution_count": 21,
   "metadata": {},
   "outputs": [
    {
     "name": "stdout",
     "output_type": "stream",
     "text": [
      "count    1.306122e+06\n",
      "mean     6.516358e+00\n",
      "std      3.733947e+00\n",
      "min      0.000000e+00\n",
      "25%      4.000000e+00\n",
      "50%      6.000000e+00\n",
      "75%      8.000000e+00\n",
      "max      7.700000e+01\n",
      "Name: word_count, dtype: float64\n",
      "count    375806.000000\n",
      "mean          6.523539\n",
      "std           3.726495\n",
      "min           0.000000\n",
      "25%           4.000000\n",
      "50%           6.000000\n",
      "75%           8.000000\n",
      "max          45.000000\n",
      "Name: word_count, dtype: float64\n"
     ]
    },
    {
     "data": {
      "image/png": "[encoded data removed]",
      "text/plain": [
       "<Figure size 432x288 with 1 Axes>"
      ]
     },
     "metadata": {
      "needs_background": "light"
     },
     "output_type": "display_data"
    }
   ],
   "source": [
    "#train_data['word_count'] = train_data['question_text'].apply(lambda x: len(nltk.word_tokenize(x)))   tooo slow\n",
    "train_data['word_count'] = train_data['question_text'].apply(lambda x: len(str(x).split()))\n",
    "test_data['word_count'] = test_data['question_text'].apply(lambda x: len(str(x).split()))\n",
    "\n",
    "train_data['word_count'].value_counts().sort_index().plot(kind='line')\n",
    "test_data['word_count'].value_counts().sort_index().plot(kind='line')\n",
    "print(train_data['word_count'].describe())\n",
    "print(test_data['word_count'].describe())"
   ]
  },
  {
   "cell_type": "code",
   "execution_count": 44,
   "metadata": {},
   "outputs": [
    {
     "name": "stdout",
     "output_type": "stream",
     "text": [
      "1      735\n",
      "2     5938\n",
      "3    16103\n",
      "4    21140\n",
      "5    20568\n",
      "6    16466\n",
      "7    12595\n",
      "8     9097\n",
      "9     6615\n",
      "Name: word_count, dtype: int64\n",
      "1     205\n",
      "2    1659\n",
      "3    4558\n",
      "4    6085\n",
      "5    6008\n",
      "6    4713\n",
      "7    3588\n",
      "8    2679\n",
      "9    1942\n",
      "Name: word_count, dtype: int64\n"
     ]
    },
    {
     "data": {
      "image/png": "[encoded data removed]",
      "text/plain": [
       "<Figure size 432x288 with 1 Axes>"
      ]
     },
     "metadata": {
      "needs_background": "light"
     },
     "output_type": "display_data"
    }
   ],
   "source": [
    "train_data.loc[(train_data.word_count < 10),'word_count'].value_counts().sort_index().plot(kind='bar')\n",
    "test_data.loc[(test_data.word_count < 10),'word_count'].value_counts().sort_index().plot(kind='bar')\n",
    "print(train_data.loc[(train_data.word_count < 10),'word_count'].value_counts().sort_index())\n",
    "print(test_data.loc[(test_data.word_count < 10),'word_count'].value_counts().sort_index())"
   ]
  },
  {
   "cell_type": "code",
   "execution_count": 23,
   "metadata": {},
   "outputs": [
    {
     "name": "stdout",
     "output_type": "stream",
     "text": [
      "        word   count\n",
      "11       not  134905\n",
      "65       get  102421\n",
      "8      would   81846\n",
      "453     best   80252\n",
      "10    people   73064\n",
      "342     like   65812\n",
      "156     make   60427\n",
      "21       use   57468\n",
      "105     good   50004\n",
      "155      one   46321\n",
      "337    india   42102\n",
      "113    think   37712\n",
      "287     year   37272\n",
      "68       way   36043\n",
      "107     take   35597\n",
      "232     work   35148\n",
      "15      time   35120\n",
      "67        go   34620\n",
      "98      know   34529\n",
      "122     many   31454\n",
      "137     life   30931\n",
      "598     want   30828\n",
      "336     much   30207\n",
      "264  someone   29522\n",
      "87      well   27153\n",
      "33    become   26387\n",
      "471  country   25622\n",
      "562    start   25036\n",
      "69      feel   24947\n",
      "52     thing   24804\n",
      "                              word  count\n",
      "138200                    cockroch      1\n",
      "138202                      altalt      1\n",
      "138203           motivationrelated      1\n",
      "138204                      modhol      1\n",
      "138206                     arborio      1\n",
      "138207              supertautology      1\n",
      "138208                        leol      1\n",
      "138210                    quixotic      1\n",
      "138183                    questoin      1\n",
      "138181                 nonwearable      1\n",
      "138144                      ponyai      1\n",
      "138180                      sin2pi      1\n",
      "138149                  heptathlon      1\n",
      "138150                   talkswith      1\n",
      "138152                        amda      1\n",
      "138153             textbookwebsite      1\n",
      "138154                      overin      1\n",
      "138156                        cfit      1\n",
      "138157                         boc      1\n",
      "138160                adjuducating      1\n",
      "138161                 chartkindly      1\n",
      "138162                     45sin3x      1\n",
      "138163                       heyns      1\n",
      "138166                   spotround      1\n",
      "138171           stanfordprinceton      1\n",
      "138173  expresionmathdisplaystyles      1\n",
      "138174                    sqrtsumj      1\n",
      "138175                      cos2pi      1\n",
      "138179                        sumj      1\n",
      "264365     prejudicediscrimination      1\n",
      "CPU times: user 27.7 s, sys: 595 ms, total: 28.3 s\n",
      "Wall time: 27.6 s\n"
     ]
    }
   ],
   "source": [
    "%%time\n",
    "\n",
    "from sklearn.feature_extraction.text import TfidfVectorizer,CountVectorizer\n",
    "\n",
    "train_text = train_data['question_text']\n",
    "test_text = test_data['question_text']\n",
    "train_target = train_data['target']\n",
    "all_text = train_text.append(test_text)\n",
    "\n",
    "count_vectorizer = CountVectorizer()\n",
    "count_vectorizer.fit(all_text)\n",
    "\n",
    "\n",
    "bag_of_words = count_vectorizer.transform(all_text)\n",
    "sum_words = bag_of_words.sum(axis=0) \n",
    "words_freq = [(word, sum_words[0, idx]) for word, idx in count_vectorizer.vocabulary_.items()]\n",
    "word_check = pd.DataFrame(words_freq, columns=['word', 'count'])\n",
    "sorted_word_check= word_check.sort_values('count', ascending=False)\n",
    "print(sorted_word_check.head(30))\n",
    "print(sorted_word_check.tail(30))"
   ]
  },
  {
   "cell_type": "markdown",
   "metadata": {},
   "source": [
    " ### Another baseline after data wrangling to compare with the initial baseline"
   ]
  },
  {
   "cell_type": "code",
   "execution_count": 24,
   "metadata": {},
   "outputs": [],
   "source": [
    "import datetime, time, psutil, os\n",
    "import numpy as np\n",
    "import pandas as pd\n",
    "\n",
    "from sklearn.feature_extraction.text import TfidfVectorizer,CountVectorizer\n",
    "from sklearn.model_selection import KFold\n",
    "from sklearn.metrics import f1_score\n",
    "\n",
    "from sklearn.naive_bayes import BernoulliNB\n",
    "from sklearn.linear_model import LogisticRegression\n",
    "from sklearn.ensemble import GradientBoostingClassifier"
   ]
  },
  {
   "cell_type": "code",
   "execution_count": 25,
   "metadata": {},
   "outputs": [],
   "source": [
    "# remove records have no word after data wrangling\n",
    "train_data = train_data.loc[(train_data.word_count > 0)]\n",
    "test_data = test_data.loc[(test_data.word_count > 0)]\n",
    "train_data= train_data.reset_index()\n",
    "test_data = test_data.reset_index()"
   ]
  },
  {
   "cell_type": "code",
   "execution_count": 26,
   "metadata": {},
   "outputs": [],
   "source": [
    "#  CONTROL PARAMTERS \n",
    "size = 0.1\n",
    "tfTransform = True\n",
    "\n",
    "train_data_full = train_data\n",
    "test_data_full = test_data\n",
    "train_data = train_data[: int(len(train_data) * size)]\n",
    "test_data = test_data[:int(len(test_data) * size)]"
   ]
  },
  {
   "cell_type": "code",
   "execution_count": 27,
   "metadata": {},
   "outputs": [],
   "source": [
    "train_text = train_data['question_text']\n",
    "train_target = train_data['target']\n",
    "\n",
    "test_text = test_data['question_text']\n",
    "\n",
    "all_text = train_text.append(test_text)"
   ]
  },
  {
   "cell_type": "code",
   "execution_count": 28,
   "metadata": {},
   "outputs": [],
   "source": [
    "%%time\n",
    "\n",
    "count_vectorizer = CountVectorizer()\n",
    "#count_vectorizer.fit(all_text)\n",
    "#train_text_features_cv = count_vectorizer.transform(train_text)\n",
    "#test_text_features_cv = count_vectorizer.transform(test_text)\n",
    "train_text_features_cv = count_vectorizer.fit_transform(train_text)"
   ]
  },
  {
   "cell_type": "code",
   "execution_count": 29,
   "metadata": {},
   "outputs": [],
   "source": [
    "%%time\n",
    "\n",
    "tfidf_vectorizer = TfidfVectorizer()\n",
    "#tfidf_vectorizer.fit(all_text)\n",
    "#train_text_features_tf = tfidf_vectorizer.transform(train_text)\n",
    "#test_text_features_tf = tfidf_vectorizer.transform(test_text)\n",
    "train_text_features_tf = tfidf_vectorizer.fit_transform(train_text)"
   ]
  },
  {
   "cell_type": "code",
   "execution_count": 30,
   "metadata": {},
   "outputs": [
    {
     "name": "stdout",
     "output_type": "stream",
     "text": [
      "(130602, 55941)\n",
      "(130602,)\n"
     ]
    }
   ],
   "source": [
    "if tfTransform :\n",
    "    train_text_features = train_text_features_tf\n",
    "    #test_text_features = test_text_features_tf\n",
    "else:\n",
    "    train_text_features = train_text_features_cv\n",
    "    #test_text_features = test_text_features_cv\n",
    "\n",
    "print(train_text_features.shape)\n",
    "print(train_target.shape)"
   ]
  },
  {
   "cell_type": "code",
   "execution_count": 31,
   "metadata": {},
   "outputs": [
    {
     "name": "stdout",
     "output_type": "stream",
     "text": [
      "0.3638004594683295\n",
      "CPU times: user 1.37 s, sys: 51.6 ms, total: 1.42 s\n",
      "Wall time: 368 ms\n"
     ]
    }
   ],
   "source": [
    "%%time\n",
    "\n",
    "#BernoulliNB\n",
    "\n",
    "kfold = KFold(n_splits = 5, shuffle = True, random_state = 1)\n",
    "test_preds = 0\n",
    "oof_preds = np.zeros([train_data.shape[0],])\n",
    "\n",
    "for i, (train_idx,valid_idx) in enumerate(kfold.split(train_data)):\n",
    "    x_train, x_valid = train_text_features[train_idx,:], train_text_features[valid_idx,:]\n",
    "    y_train, y_valid = train_target[train_idx], train_target[valid_idx]\n",
    "    classifier = BernoulliNB()\n",
    "    classifier.fit(x_train,y_train)   \n",
    "    oof_preds[valid_idx] = classifier.predict_proba(x_valid)[:,1]\n",
    "\n",
    "pred_train = (oof_preds > 0.25).astype(np.int)\n",
    "accuracy = f1_score(train_target, pred_train)\n",
    "print(accuracy)"
   ]
  },
  {
   "cell_type": "code",
   "execution_count": 32,
   "metadata": {},
   "outputs": [
    {
     "name": "stdout",
     "output_type": "stream",
     "text": [
      "0.5157076611586441\n",
      "CPU times: user 8.76 s, sys: 109 ms, total: 8.87 s\n",
      "Wall time: 2.25 s\n"
     ]
    }
   ],
   "source": [
    "%%time\n",
    "\n",
    "#LogisticRegression\n",
    "\n",
    "kfold = KFold(n_splits = 5, shuffle = True, random_state = 1)\n",
    "test_preds = 0\n",
    "oof_preds = np.zeros([train_data.shape[0],])\n",
    "\n",
    "for i, (train_idx,valid_idx) in enumerate(kfold.split(train_data)):\n",
    "    x_train, x_valid = train_text_features[train_idx,:], train_text_features[valid_idx,:]\n",
    "    y_train, y_valid = train_target[train_idx], train_target[valid_idx]\n",
    "    classifier = LogisticRegression(solver='liblinear')\n",
    "    classifier.fit(x_train,y_train)\n",
    "    oof_preds[valid_idx] = classifier.predict_proba(x_valid)[:,1]\n",
    "\n",
    "pred_train = (oof_preds > 0.25).astype(np.int)\n",
    "accuracy = f1_score(train_target, pred_train)\n",
    "print(accuracy)"
   ]
  },
  {
   "cell_type": "code",
   "execution_count": 33,
   "metadata": {},
   "outputs": [
    {
     "name": "stdout",
     "output_type": "stream",
     "text": [
      "0.4322752985543683\n",
      "CPU times: user 1h 8min 30s, sys: 9.47 s, total: 1h 8min 40s\n",
      "Wall time: 1h 4min 8s\n"
     ]
    }
   ],
   "source": [
    "%%time\n",
    "\n",
    "#GradientBoostingClassifier\n",
    "\n",
    "kfold = KFold(n_splits = 5, shuffle = True, random_state = 1)\n",
    "test_preds = 0\n",
    "oof_preds = np.zeros([train_data.shape[0],])\n",
    "\n",
    "for i, (train_idx,valid_idx) in enumerate(kfold.split(train_data)):\n",
    "    x_train, x_valid = train_text_features[train_idx,:], train_text_features[valid_idx,:]\n",
    "    y_train, y_valid = train_target[train_idx], train_target[valid_idx]\n",
    "    classifier = GradientBoostingClassifier(random_state=1)\n",
    "    classifier.fit(x_train,y_train)\n",
    "   \n",
    "    oof_preds[valid_idx] = classifier.predict_proba(x_valid)[:,1]\n",
    "\n",
    "pred_train = (oof_preds > 0.25).astype(np.int)\n",
    "accuracy = f1_score(train_target, pred_train)\n",
    "print(accuracy)"
   ]
  },
  {
   "cell_type": "markdown",
   "metadata": {},
   "source": [
    "### Apply Both CountVector and TfIdfVector,  Accuracy Reporting Using Confusion Matrix\n",
    "use classifier.predict instead of classifier.predict_proba in baseline for confusion matrix"
   ]
  },
  {
   "cell_type": "code",
   "execution_count": 34,
   "metadata": {},
   "outputs": [],
   "source": [
    "from sklearn.model_selection import train_test_split\n",
    "train_text = train_data['question_text']\n",
    "test_text = test_data['question_text']\n",
    "train_target = train_data['target']\n",
    "all_text = train_text.append(test_text)\n",
    "X_train, X_test, y_train, y_test = train_test_split(train_text, train_target, test_size=0.20, random_state = 0)"
   ]
  },
  {
   "cell_type": "code",
   "execution_count": 35,
   "metadata": {},
   "outputs": [
    {
     "name": "stdout",
     "output_type": "stream",
     "text": [
      "CPU times: user 1min 23s, sys: 543 ms, total: 1min 24s\n",
      "Wall time: 27.1 s\n"
     ]
    }
   ],
   "source": [
    "%%time\n",
    "\n",
    "from sklearn.feature_extraction.text import TfidfVectorizer,CountVectorizer, TfidfTransformer\n",
    "from sklearn.naive_bayes import BernoulliNB\n",
    "from sklearn.linear_model import LogisticRegression\n",
    "from sklearn.ensemble import GradientBoostingClassifier\n",
    "\n",
    "# apply both cont vector & tf-idf vector \n",
    "count_vectorizer = CountVectorizer()\n",
    "tfidf_transformer = TfidfTransformer()\n",
    "\n",
    "# from X_train -> X_train_counts -> X_train_tfidf\n",
    "X_train_count = count_vectorizer.fit_transform(X_train)\n",
    "X_train_tfidf = tfidf_transformer.fit_transform(X_train_count)\n",
    "\n",
    "# fit model\n",
    "classifier1 = BernoulliNB().fit(X_train_tfidf, y_train)\n",
    "classifier2 = LogisticRegression(solver='liblinear').fit(X_train_tfidf,y_train)\n",
    "classifier3 = GradientBoostingClassifier(random_state=1).fit(X_train_tfidf,y_train)\n",
    "\n",
    "X_test_count = count_vectorizer.transform(X_test)\n",
    "x_test_tfidf = tfidf_transformer.transform(X_test_count)\n",
    "\n",
    "y_pred1 = classifier1.predict(x_test_tfidf)\n",
    "y_pred2 = classifier2.predict(x_test_tfidf)\n",
    "y_pred3 = classifier3.predict(x_test_tfidf)"
   ]
  },
  {
   "cell_type": "code",
   "execution_count": 36,
   "metadata": {},
   "outputs": [
    {
     "name": "stdout",
     "output_type": "stream",
     "text": [
      "[[24203   205]\n",
      " [ 1339   374]]\n",
      "[[24210   198]\n",
      " [ 1286   427]]\n",
      "[[24320    88]\n",
      " [ 1472   241]]\n",
      "\n",
      "\n",
      "              precision    recall  f1-score   support\n",
      "\n",
      "           0       0.95      0.99      0.97     24408\n",
      "           1       0.65      0.22      0.33      1713\n",
      "\n",
      "   micro avg       0.94      0.94      0.94     26121\n",
      "   macro avg       0.80      0.60      0.65     26121\n",
      "weighted avg       0.93      0.94      0.93     26121\n",
      "\n",
      "              precision    recall  f1-score   support\n",
      "\n",
      "           0       0.95      0.99      0.97     24408\n",
      "           1       0.68      0.25      0.37      1713\n",
      "\n",
      "   micro avg       0.94      0.94      0.94     26121\n",
      "   macro avg       0.82      0.62      0.67     26121\n",
      "weighted avg       0.93      0.94      0.93     26121\n",
      "\n",
      "              precision    recall  f1-score   support\n",
      "\n",
      "           0       0.94      1.00      0.97     24408\n",
      "           1       0.73      0.14      0.24      1713\n",
      "\n",
      "   micro avg       0.94      0.94      0.94     26121\n",
      "   macro avg       0.84      0.57      0.60     26121\n",
      "weighted avg       0.93      0.94      0.92     26121\n",
      "\n",
      "\n",
      "\n",
      "0.9408904712683281\n",
      "0.9431874736801807\n",
      "0.9402779372918342\n",
      "\n",
      "\n"
     ]
    },
    {
     "data": {
      "image/png": "[encoded data removed]",
      "text/plain": [
       "<Figure size 720x360 with 6 Axes>"
      ]
     },
     "metadata": {
      "needs_background": "light"
     },
     "output_type": "display_data"
    }
   ],
   "source": [
    "from sklearn.metrics import confusion_matrix, classification_report, accuracy_score\n",
    "import matplotlib.pyplot as plt\n",
    "import seaborn as sns\n",
    "\n",
    "conf_mat1 = confusion_matrix(y_test, y_pred1)\n",
    "conf_mat2 = confusion_matrix(y_test, y_pred2)\n",
    "conf_mat3 = confusion_matrix(y_test, y_pred3)\n",
    "\n",
    "print(conf_mat1)  \n",
    "print(conf_mat2)  \n",
    "print(conf_mat3)  \n",
    "print('\\n')\n",
    "print(classification_report(y_test,y_pred1))  \n",
    "print(classification_report(y_test,y_pred2))  \n",
    "print(classification_report(y_test,y_pred3))  \n",
    "print('\\n')\n",
    "print(accuracy_score(y_test, y_pred1))  \n",
    "print(accuracy_score(y_test, y_pred2))  \n",
    "print(accuracy_score(y_test, y_pred3))  \n",
    "print('\\n')\n",
    "\n",
    "fig, axes = plt.subplots(1, 3, figsize=(10, 5), sharex=True)\n",
    "sns.heatmap(conf_mat1, annot=True, fmt='d', ax=axes[0])\n",
    "sns.heatmap(conf_mat2, annot=True, fmt='d', ax=axes[1])\n",
    "sns.heatmap(conf_mat3, annot=True, fmt='d', ax=axes[2])\n",
    "plt.ylabel('Actual')\n",
    "plt.xlabel('Predicted')\n",
    "plt.show()"
   ]
  },
  {
   "cell_type": "markdown",
   "metadata": {},
   "source": [
    "### Data Pipeline  [ref 1](https://www.kaggle.com/dilip990/spam-ham-detection-using-naive-bayes-classifier) [ref2](https://gist.github.com/amberjrivera/8c5c145516f5a2e894681e16a8095b5c) [ref 3](http://carrefax.com/articles-blog/2018/3/11/using-scikit-learn-to-classify-your-own-text-data-the-short-version)"
   ]
  },
  {
   "cell_type": "code",
   "execution_count": 37,
   "metadata": {},
   "outputs": [],
   "source": [
    "from nltk.corpus import stopwords\n",
    "import string\n",
    "\n",
    "def text_process(text):\n",
    "    nopunc =[char for char in text if char not in string.punctuation]\n",
    "    nopunc=''.join(nopunc)\n",
    "    return [word for word in nopunc.split() if word.lower() not in stopwords.words('english')]"
   ]
  },
  {
   "cell_type": "code",
   "execution_count": 38,
   "metadata": {},
   "outputs": [
    {
     "name": "stdout",
     "output_type": "stream",
     "text": [
      "CPU times: user 322 ms, sys: 254 ms, total: 576 ms\n",
      "Wall time: 642 ms\n"
     ]
    }
   ],
   "source": [
    "%%time\n",
    "\n",
    "from sklearn.model_selection import train_test_split\n",
    "from sklearn.naive_bayes import BernoulliNB\n",
    "from sklearn.linear_model import LogisticRegression\n",
    "from sklearn.ensemble import GradientBoostingClassifier\n",
    "\n",
    "train_text = train_data_full['question_text']\n",
    "train_target = train_data_full['target']\n",
    "\n",
    "from sklearn.pipeline import Pipeline\n",
    "pipeline = Pipeline([\n",
    "   ( 'bow',CountVectorizer(analyzer=text_process)),\n",
    "    ('tfidf',TfidfTransformer()),\n",
    "    ('classifier',LogisticRegression(solver='liblinear')),\n",
    "])\n",
    "\n",
    "X_train, X_test, y_train, y_test = train_test_split(train_text, train_target, test_size=0.25, random_state = 0)"
   ]
  },
  {
   "cell_type": "code",
   "execution_count": 39,
   "metadata": {},
   "outputs": [
    {
     "name": "stdout",
     "output_type": "stream",
     "text": [
      "225499\n",
      "CPU times: user 17min 7s, sys: 3min 27s, total: 20min 34s\n",
      "Wall time: 20min 37s\n"
     ]
    }
   ],
   "source": [
    "%%time\n",
    "\n",
    "#for data check\n",
    "bow_transformer = CountVectorizer(analyzer=text_process).fit(train_text)\n",
    "print(len(bow_transformer.vocabulary_))"
   ]
  },
  {
   "cell_type": "code",
   "execution_count": 40,
   "metadata": {},
   "outputs": [
    {
     "name": "stdout",
     "output_type": "stream",
     "text": [
      "CPU times: user 13min 15s, sys: 2min 34s, total: 15min 50s\n",
      "Wall time: 15min 31s\n"
     ]
    },
    {
     "data": {
      "text/plain": [
       "Pipeline(memory=None,\n",
       "     steps=[('bow', CountVectorizer(analyzer=<function text_process at 0x11fb7d6a8>, binary=False,\n",
       "        decode_error='strict', dtype=<class 'numpy.int64'>,\n",
       "        encoding='utf-8', input='content', lowercase=True, max_df=1.0,\n",
       "        max_features=None, min_df=1, ngram_range=(1, 1), preprocessor=None,...ty='l2', random_state=None, solver='liblinear',\n",
       "          tol=0.0001, verbose=0, warm_start=False))])"
      ]
     },
     "execution_count": 40,
     "metadata": {},
     "output_type": "execute_result"
    }
   ],
   "source": [
    "%%time\n",
    "\n",
    "pipeline.fit(X_train,y_train)"
   ]
  },
  {
   "cell_type": "code",
   "execution_count": 41,
   "metadata": {},
   "outputs": [],
   "source": [
    "predictions = pipeline.predict(X_test)"
   ]
  },
  {
   "cell_type": "code",
   "execution_count": 42,
   "metadata": {},
   "outputs": [
    {
     "name": "stdout",
     "output_type": "stream",
     "text": [
      "[[302824   3609]\n",
      " [ 12669   7403]]\n",
      "\n",
      "\n",
      "              precision    recall  f1-score   support\n",
      "\n",
      "           0       0.96      0.99      0.97    306433\n",
      "           1       0.67      0.37      0.48     20072\n",
      "\n",
      "   micro avg       0.95      0.95      0.95    326505\n",
      "   macro avg       0.82      0.68      0.73    326505\n",
      "weighted avg       0.94      0.95      0.94    326505\n",
      "\n",
      "\n",
      "\n",
      "0.9501447144760418\n",
      "\n",
      "\n"
     ]
    },
    {
     "data": {
      "image/png": "[encoded data removed]",
      "text/plain": [
       "<Figure size 360x360 with 2 Axes>"
      ]
     },
     "metadata": {
      "needs_background": "light"
     },
     "output_type": "display_data"
    }
   ],
   "source": [
    "from sklearn.metrics import confusion_matrix\n",
    "import matplotlib.pyplot as plt\n",
    "import seaborn as sns\n",
    "\n",
    "conf_train = confusion_matrix(y_test,predictions)\n",
    "print(conf_train)\n",
    "print('\\n')\n",
    "print(classification_report(y_test,predictions))\n",
    "print('\\n')\n",
    "print(accuracy_score(y_test, predictions))  \n",
    "print('\\n')\n",
    "\n",
    "fig, ax = plt.subplots(figsize=(5,5))\n",
    "sns.heatmap(conf_train, annot=True, fmt='d')\n",
    "plt.ylabel('Actual')\n",
    "plt.xlabel('Predicted')\n",
    "plt.show()"
   ]
  },
  {
   "cell_type": "code",
   "execution_count": 43,
   "metadata": {},
   "outputs": [
    {
     "name": "stdout",
     "output_type": "stream",
     "text": [
      "[[1212156   13065]\n",
      " [  49738   31061]]\n",
      "\n",
      "\n",
      "              precision    recall  f1-score   support\n",
      "\n",
      "           0       0.96      0.99      0.97    306433\n",
      "           1       0.67      0.37      0.48     20072\n",
      "\n",
      "   micro avg       0.95      0.95      0.95    326505\n",
      "   macro avg       0.82      0.68      0.73    326505\n",
      "weighted avg       0.94      0.95      0.94    326505\n",
      "\n",
      "\n",
      "\n",
      "0.9501447144760418\n",
      "\n",
      "\n"
     ]
    },
    {
     "data": {
      "image/png": "[encoded data removed]",
      "text/plain": [
       "<Figure size 360x360 with 2 Axes>"
      ]
     },
     "metadata": {
      "needs_background": "light"
     },
     "output_type": "display_data"
    },
    {
     "name": "stdout",
     "output_type": "stream",
     "text": [
      "CPU times: user 35min 14s, sys: 6min 53s, total: 42min 7s\n",
      "Wall time: 41min 35s\n"
     ]
    }
   ],
   "source": [
    "%%time\n",
    "\n",
    "# for data check \n",
    "pipeline.fit(train_text,train_target)\n",
    "all_predictions =  pipeline.predict(train_text)\n"
   ]
  },
  {
   "cell_type": "code",
   "execution_count": 45,
   "metadata": {},
   "outputs": [
    {
     "data": {
      "image/png": "[encoded data removed]",
      "text/plain": [
       "<Figure size 360x360 with 2 Axes>"
      ]
     },
     "metadata": {
      "needs_background": "light"
     },
     "output_type": "display_data"
    }
   ],
   "source": [
    "conf_all = confusion_matrix(train_target,all_predictions)\n",
    "\n",
    "print(conf_all)\n",
    "print('\\n')\n",
    "print(classification_report(y_test,predictions))\n",
    "print('\\n')\n",
    "print(accuracy_score(y_test, predictions))  \n",
    "print('\\n')\n",
    "\n",
    "fig, ax = plt.subplots(figsize=(5,5))\n",
    "sns.heatmap(conf_all, annot=True, fmt='d', cmap=\"YlGnBu\")\n",
    "plt.ylabel('Actual')\n",
    "plt.xlabel('Predicted')\n",
    "plt.show()"
   ]
  },
  {
   "cell_type": "code",
   "execution_count": null,
   "metadata": {},
   "outputs": [],
   "source": []
  }
 ],
 "metadata": {
  "kernelspec": {
   "display_name": "Python 3",
   "language": "python",
   "name": "python3"
  },
  "language_info": {
   "codemirror_mode": {
    "name": "ipython",
    "version": 3
   },
   "file_extension": ".py",
   "mimetype": "text/x-python",
   "name": "python",
   "nbconvert_exporter": "python",
   "pygments_lexer": "ipython3",
   "version": "3.7.1"
  }
 },
 "nbformat": 4,
 "nbformat_minor": 2
}
