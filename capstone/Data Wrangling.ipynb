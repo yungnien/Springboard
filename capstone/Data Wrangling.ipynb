{
 "cells": [
  {
   "cell_type": "markdown",
   "metadata": {},
   "source": [
    "# Data Wrangling"
   ]
  },
  {
   "cell_type": "markdown",
   "metadata": {},
   "source": [
    "As the data to build the model is from 3rd party resource, exploration and cleaning is essential step. \n",
    "Meanwhile, the primary data is question sentance which a typical NLP data cleaning step should be followed to guarantee the data is generic."
   ]
  },
  {
   "cell_type": "code",
   "execution_count": 1,
   "metadata": {},
   "outputs": [],
   "source": [
    "import numpy as np\n",
    "import pandas as pd\n",
    "import matplotlib.pyplot as plt\n",
    "%matplotlib inline"
   ]
  },
  {
   "cell_type": "code",
   "execution_count": 2,
   "metadata": {},
   "outputs": [],
   "source": [
    "train_data = pd.read_csv('data/train.csv')\n",
    "test_data = pd.read_csv('data/test.csv')"
   ]
  },
  {
   "cell_type": "markdown",
   "metadata": {},
   "source": [
    "### Preliminary EDA"
   ]
  },
  {
   "cell_type": "code",
   "execution_count": 3,
   "metadata": {},
   "outputs": [
    {
     "name": "stdout",
     "output_type": "stream",
     "text": [
      "Training data set: 1306122\n",
      "Test data set: 375806\n"
     ]
    }
   ],
   "source": [
    "print('Training data set: ' + str(len(train_data)))\n",
    "print('Test data set: ' + str(len(test_data)))\n"
   ]
  },
  {
   "cell_type": "markdown",
   "metadata": {},
   "source": [
    "The below indicate there is no null cell in all columns. Hence, don't need to fill or remove the record at this moment "
   ]
  },
  {
   "cell_type": "code",
   "execution_count": 4,
   "metadata": {},
   "outputs": [
    {
     "name": "stdout",
     "output_type": "stream",
     "text": [
      "<class 'pandas.core.frame.DataFrame'>\n",
      "RangeIndex: 1306122 entries, 0 to 1306121\n",
      "Data columns (total 3 columns):\n",
      "qid              1306122 non-null object\n",
      "question_text    1306122 non-null object\n",
      "target           1306122 non-null int64\n",
      "dtypes: int64(1), object(2)\n",
      "memory usage: 29.9+ MB\n"
     ]
    }
   ],
   "source": [
    "train_data.info()"
   ]
  },
  {
   "cell_type": "code",
   "execution_count": 5,
   "metadata": {},
   "outputs": [
    {
     "name": "stdout",
     "output_type": "stream",
     "text": [
      "<class 'pandas.core.frame.DataFrame'>\n",
      "RangeIndex: 375806 entries, 0 to 375805\n",
      "Data columns (total 2 columns):\n",
      "qid              375806 non-null object\n",
      "question_text    375806 non-null object\n",
      "dtypes: object(2)\n",
      "memory usage: 5.7+ MB\n"
     ]
    }
   ],
   "source": [
    "test_data.info()"
   ]
  },
  {
   "cell_type": "code",
   "execution_count": 6,
   "metadata": {},
   "outputs": [
    {
     "name": "stdout",
     "output_type": "stream",
     "text": [
      "count                1306122\n",
      "unique               1306122\n",
      "top       What is boof weed?\n",
      "freq                       1\n",
      "Name: question_text, dtype: object\n",
      "\n",
      "\n",
      "count                                                375806\n",
      "unique                                               375806\n",
      "top       Is Jennifer Aniston really a stuck-up bitch? I...\n",
      "freq                                                      1\n",
      "Name: question_text, dtype: object\n"
     ]
    }
   ],
   "source": [
    "print (train_data.question_text.describe())\n",
    "print('\\n')\n",
    "print (test_data.question_text.describe())"
   ]
  },
  {
   "cell_type": "code",
   "execution_count": 7,
   "metadata": {},
   "outputs": [
    {
     "data": {
      "image/png": "[encoded data removed]",
      "text/plain": [
       "<Figure size 432x288 with 1 Axes>"
      ]
     },
     "metadata": {
      "needs_background": "light"
     },
     "output_type": "display_data"
    }
   ],
   "source": [
    "train_data['length'] = train_data['question_text'].str.len()\n",
    "test_data['length'] = test_data['question_text'].str.len()\n",
    "\n",
    "train_data['length'].value_counts().sort_index().plot(kind='line')\n",
    "test_data['length'].value_counts().sort_index().plot(kind='line')\n",
    "plt.show()"
   ]
  },
  {
   "cell_type": "markdown",
   "metadata": {},
   "source": [
    "Below shows the ratio on target value: majority of questions are normal/valid question"
   ]
  },
  {
   "cell_type": "code",
   "execution_count": 8,
   "metadata": {},
   "outputs": [
    {
     "name": "stdout",
     "output_type": "stream",
     "text": [
      "0    1225312\n",
      "1      80810\n",
      "Name: target, dtype: int64\n"
     ]
    },
    {
     "data": {
      "text/plain": [
       "<matplotlib.axes._subplots.AxesSubplot at 0x121fbba20>"
      ]
     },
     "execution_count": 8,
     "metadata": {},
     "output_type": "execute_result"
    },
    {
     "data": {
      "image/png": "[encoded data removed]",
      "text/plain": [
       "<Figure size 432x288 with 1 Axes>"
      ]
     },
     "metadata": {
      "needs_background": "light"
     },
     "output_type": "display_data"
    }
   ],
   "source": [
    "print(train_data['target'].value_counts())\n",
    "train_data['target'].value_counts().plot(kind='bar')"
   ]
  },
  {
   "cell_type": "markdown",
   "metadata": {},
   "source": [
    "Below shows the question text contains white space, special symbol & foreign characters. \n",
    "As the nlp has language specific settings and functions, the foreign characters & extra white space should be removed \n",
    "As for punchaction, some AI/ML models take the punchaction into account for semantic parsing. Some models, such as bag of words, does not using punchaction due to the natural of the algorithm is based on word frequency.    "
   ]
  },
  {
   "cell_type": "code",
   "execution_count": 9,
   "metadata": {},
   "outputs": [],
   "source": [
    "sorted = train_data.sort_values('question_text')"
   ]
  },
  {
   "cell_type": "code",
   "execution_count": 10,
   "metadata": {},
   "outputs": [
    {
     "data": {
      "text/plain": [
       "840731          \u0010I want to blow things up with TNT now what?\n",
       "613283     !TRIGGER WARNING! Am I a homophobe if I refuse...\n",
       "420816                                                     \"\n",
       "1102919    \" I post a download link of a website in my we...\n",
       "213438     \" I visited the theater\" or \"I enjoyed the the...\n",
       "496717     \" I've been to the doctor many times now to cu...\n",
       "646127     \" Is there anybody who had drastic good / bad ...\n",
       "4692       \" So far She has published three chapters of h...\n",
       "998382     \" What does the scientific mean when you dream...\n",
       "387244     \" if 25 men working 6 hrs a day, can do a work...\n",
       "Name: question_text, dtype: object"
      ]
     },
     "execution_count": 10,
     "metadata": {},
     "output_type": "execute_result"
    }
   ],
   "source": [
    "sorted['question_text'].head(10)"
   ]
  },
  {
   "cell_type": "code",
   "execution_count": 11,
   "metadata": {},
   "outputs": [
    {
     "data": {
      "text/plain": [
       "113435     ⁠⁠Is it bad to lay your motorcycle on its side...\n",
       "146277                       −6.175 is an irrational number?\n",
       "859955     ♣ Why does Winston finally give in to the ideo...\n",
       "1185049    ⦁ What are the methods used to suppress or red...\n",
       "415446     译文 who well be enter the next member of the st...\n",
       "231111                                   한국 고등학교는 몇시간 수업하니까?\n",
       "814877               what is the Complex compound sentence?\n",
       "916459     ﻿What are the best porn pictures serving websi...\n",
       "1261734    Ｈow do I find the negative solution of 4^x = x...\n",
       "344918     ￼￼Assuming that a lightning bolt can be modell...\n",
       "Name: question_text, dtype: object"
      ]
     },
     "execution_count": 11,
     "metadata": {},
     "output_type": "execute_result"
    }
   ],
   "source": [
    "sorted['question_text'].tail(10)"
   ]
  },
  {
   "cell_type": "markdown",
   "metadata": {},
   "source": [
    "### Data Wrangling for NLP \n",
    "A typical NLP pre-processed step contains the following: \n",
    "- Removing accented & foreign characters\n",
    "    - The NLP is limited to one language in most of modeler, Therefore, it is helpful to remove characters tat is not english \n",
    "- Expanding Contractions\n",
    "    - Frequently, contractions shows up in text taht generate variation for words. It will be helpful if we can remove them. The contractions can be removed via syntax rule.\n",
    "- Expanding Abbreviation\n",
    "    - Similar to tocontraction, abbreviaton generates word variation which incrase number of features int the training data. However, due to the large amount of abbreviation , possible ambiguity and has no aviable API, this will be skipped   \n",
    "- Case Unification\n",
    "    - This is to make all character to lower case such that the string comparsion cn recognize them\n",
    "- Removing Special Characters\n",
    "    - To remove non alphanumeric characters \n",
    "- Stemming\n",
    "    - To remove word affixes to get to the base form of a word\n",
    "- Lemmatization \n",
    "    - Also to remove word affixes to get to the base form of a word  [refrence on the difference between Stemming and Lemmatization](https://www.datacamp.com/community/tutorials/stemming-lemmatization-python)\n",
    "- Removing Stopwords\n",
    "    - To remove english stop words\n"
   ]
  },
  {
   "cell_type": "code",
   "execution_count": 12,
   "metadata": {},
   "outputs": [],
   "source": [
    "#control parameter for data wrangling steps\n",
    "remove_accent = True\n",
    "remove_non_ascii = True\n",
    "remove_white_space = True\n",
    "expand_contraction = True\n",
    "case_unification = True\n",
    "remove_special_character = True\n",
    "stemming = False\n",
    "lemmatization = True\n",
    "remove_stopword = False"
   ]
  },
  {
   "cell_type": "markdown",
   "metadata": {},
   "source": [
    "### Removing accented & foreign characters"
   ]
  },
  {
   "cell_type": "code",
   "execution_count": 13,
   "metadata": {},
   "outputs": [
    {
     "name": "stdout",
     "output_type": "stream",
     "text": [
      "CPU times: user 17.2 s, sys: 113 ms, total: 17.3 s\n",
      "Wall time: 17.3 s\n"
     ]
    }
   ],
   "source": [
    "%%time\n",
    "\n",
    "def remove_non_ascii(text):\n",
    "    return ''.join(i for i in text if ord(i)<128)\n",
    "def remove_white_space(text):\n",
    "    return text.strip().strip('\\t\\n')\n",
    "\n",
    "if remove_accent:\n",
    "    train_data['question_text'] = train_data['question_text'].str.normalize('NFKD')\n",
    "    test_data['question_text'] = test_data['question_text'].str.normalize('NFKD')\n",
    "\n",
    "if remove_non_ascii:\n",
    "    train_data['question_text'] = train_data['question_text'].apply(remove_non_ascii)\n",
    "    test_data['question_text'] = test_data['question_text'].apply(remove_non_ascii)\n",
    "\n",
    "if remove_white_space:\n",
    "    train_data['question_text'] = train_data['question_text'].apply(remove_white_space)\n",
    "    test_data['question_text'] = test_data['question_text'].apply(remove_white_space)\n"
   ]
  },
  {
   "cell_type": "markdown",
   "metadata": {},
   "source": [
    "### Expanding Contractions  : use [contractions](https://github.com/kootenpv/contractions), an altervative is [pycontractions](https://pypi.org/project/pycontractions/)"
   ]
  },
  {
   "cell_type": "code",
   "execution_count": 14,
   "metadata": {},
   "outputs": [
    {
     "name": "stdout",
     "output_type": "stream",
     "text": [
      "CPU times: user 2min 38s, sys: 282 ms, total: 2min 38s\n",
      "Wall time: 2min 38s\n"
     ]
    }
   ],
   "source": [
    "%%time\n",
    "\n",
    "import contractions\n",
    "\n",
    "if expand_contraction:\n",
    "    train_data['question_text'] = train_data['question_text'].apply(contractions.fix)\n",
    "    test_data['question_text'] = test_data['question_text'].apply(contractions.fix)\n"
   ]
  },
  {
   "cell_type": "markdown",
   "metadata": {},
   "source": [
    "### Case Unification"
   ]
  },
  {
   "cell_type": "code",
   "execution_count": 15,
   "metadata": {},
   "outputs": [
    {
     "name": "stdout",
     "output_type": "stream",
     "text": [
      "CPU times: user 1.01 s, sys: 47.2 ms, total: 1.06 s\n",
      "Wall time: 1.06 s\n"
     ]
    }
   ],
   "source": [
    "%%time\n",
    "\n",
    "if case_unification:\n",
    "    train_data['question_text'] = train_data['question_text'].str.lower()\n",
    "    test_data['question_text'] = test_data['question_text'].str.lower()\n"
   ]
  },
  {
   "cell_type": "markdown",
   "metadata": {},
   "source": [
    "### Removing Special Characters"
   ]
  },
  {
   "cell_type": "code",
   "execution_count": 16,
   "metadata": {},
   "outputs": [
    {
     "name": "stdout",
     "output_type": "stream",
     "text": [
      "CPU times: user 5.67 s, sys: 27 ms, total: 5.69 s\n",
      "Wall time: 5.7 s\n"
     ]
    }
   ],
   "source": [
    "%%time\n",
    "\n",
    "import re\n",
    "\n",
    "def remove_special_character(text):\n",
    "    return re.sub('[^A-Za-z0-9\\s]+', '', text)\n",
    "\n",
    "if remove_special_character:\n",
    "    train_data['question_text'] = train_data['question_text'].apply(remove_special_character)\n",
    "    test_data['question_text'] = test_data['question_text'].apply(remove_special_character)\n"
   ]
  },
  {
   "cell_type": "markdown",
   "metadata": {},
   "source": [
    "### Stemming"
   ]
  },
  {
   "cell_type": "code",
   "execution_count": 17,
   "metadata": {},
   "outputs": [
    {
     "name": "stdout",
     "output_type": "stream",
     "text": [
      "CPU times: user 583 ms, sys: 147 ms, total: 730 ms\n",
      "Wall time: 728 ms\n"
     ]
    }
   ],
   "source": [
    "%%time\n",
    "\n",
    "import nltk\n",
    "#nltk.download('punkt')\n",
    "from nltk.stem import PorterStemmer \n",
    "from nltk.tokenize import word_tokenize \n",
    "\n",
    "def porter_stemmer(text): #PorterStemmer\n",
    "    ps = PorterStemmer()\n",
    "    text = ' '.join([ps.stem(word) for word in word_tokenize(text)])\n",
    "    return text\n",
    "\n",
    "if stemming:\n",
    "    train_data['question_text'] = train_data['question_text'].apply(porter_stemmer)\n",
    "    test_data['question_text'] = test_data['question_text'].apply(porter_stemmer)\n"
   ]
  },
  {
   "cell_type": "markdown",
   "metadata": {},
   "source": [
    "### Lemmatization"
   ]
  },
  {
   "cell_type": "code",
   "execution_count": 18,
   "metadata": {},
   "outputs": [
    {
     "name": "stdout",
     "output_type": "stream",
     "text": [
      "CPU times: user 44min 27s, sys: 3min 55s, total: 48min 23s\n",
      "Wall time: 48min 27s\n"
     ]
    }
   ],
   "source": [
    "%%time\n",
    "\n",
    "import nltk\n",
    "#nltk.download('wordnet')\n",
    "#nltk.download('averaged_perceptron_tagger')\n",
    "#nltk.download()\n",
    "from nltk.stem import WordNetLemmatizer \n",
    "from nltk.tokenize import word_tokenize \n",
    "from nltk.corpus import  wordnet\n",
    "\n",
    "def get_wordnet_pos(word):\n",
    "    \"\"\"Map POS tag to first character lemmatize() accepts\"\"\"\n",
    "    tag = nltk.pos_tag([word])[0][1][0].upper()\n",
    "    tag_dict = {\"J\": wordnet.ADJ,\n",
    "                \"N\": wordnet.NOUN,\n",
    "                \"V\": wordnet.VERB,\n",
    "                \"R\": wordnet.ADV}\n",
    "\n",
    "    return tag_dict.get(tag, wordnet.NOUN)\n",
    "\n",
    "def lemmatizer(text): \n",
    "    lemmatizer = WordNetLemmatizer()\n",
    "    text = ' '.join([lemmatizer.lemmatize(w, get_wordnet_pos(w)) for w in nltk.word_tokenize(text)])\n",
    "    return text\n",
    "\n",
    "if lemmatization:\n",
    "    train_data['question_text'] = train_data['question_text'].apply(lemmatizer)\n",
    "    test_data['question_text'] = test_data['question_text'].apply(lemmatizer)\n",
    "    \n"
   ]
  },
  {
   "cell_type": "markdown",
   "metadata": {},
   "source": [
    "### Removing Stopwords"
   ]
  },
  {
   "cell_type": "code",
   "execution_count": null,
   "metadata": {},
   "outputs": [
    {
     "name": "stdout",
     "output_type": "stream",
     "text": [
      "CPU times: user 2.08 ms, sys: 5.85 ms, total: 7.93 ms\n",
      "Wall time: 10.6 ms\n"
     ]
    }
   ],
   "source": [
    "%%time\n",
    "\n",
    "import nltk\n",
    "from nltk.corpus import stopwords \n",
    "stop_words = set(stopwords.words('english'))\n",
    "\n",
    "stop_words.remove('not')\n",
    "stop_words.remove('no')\n",
    "\n",
    "def remove_stop_word(text): \n",
    "    text = ' '.join([w for w in nltk.word_tokenize(text) if w not in stop_words])\n",
    "    return text\n",
    "\n",
    "if remove_stopword:\n",
    "    train_data['question_text'] = train_data['question_text'].apply(remove_stop_word)\n",
    "    test_data['question_text'] = test_data['question_text'].apply(remove_stop_word)\n"
   ]
  },
  {
   "cell_type": "markdown",
   "metadata": {},
   "source": [
    "### Post EDA "
   ]
  },
  {
   "cell_type": "code",
   "execution_count": null,
   "metadata": {},
   "outputs": [
    {
     "name": "stdout",
     "output_type": "stream",
     "text": [
      "count    1.306122e+06\n",
      "mean     6.669623e+01\n",
      "std      3.674149e+01\n",
      "min      0.000000e+00\n",
      "25%      4.200000e+01\n",
      "50%      5.700000e+01\n",
      "75%      8.100000e+01\n",
      "max      6.840000e+02\n",
      "Name: length_a, dtype: float64\n",
      "count    375806.000000\n",
      "mean         66.768788\n",
      "std          36.715593\n",
      "min           4.000000\n",
      "25%          42.000000\n",
      "50%          57.000000\n",
      "75%          81.000000\n",
      "max         486.000000\n",
      "Name: length_a, dtype: float64\n"
     ]
    },
    {
     "data": {
      "image/png": "[encoded data removed]",
      "text/plain": [
       "<Figure size 432x288 with 1 Axes>"
      ]
     },
     "metadata": {
      "needs_background": "light"
     },
     "output_type": "display_data"
    }
   ],
   "source": [
    "train_data['length_a'] = train_data['question_text'].str.len()\n",
    "test_data['length_a'] = test_data['question_text'].str.len()\n",
    "\n",
    "train_data['length_a'].value_counts().sort_index().plot(kind='line')\n",
    "test_data['length_a'].value_counts().sort_index().plot(kind='line')\n",
    "\n",
    "print(train_data['length_a'].describe())\n",
    "print(test_data['length_a'].describe())"
   ]
  },
  {
   "cell_type": "code",
   "execution_count": null,
   "metadata": {},
   "outputs": [
    {
     "name": "stdout",
     "output_type": "stream",
     "text": [
      "count    1.306122e+06\n",
      "mean     1.287693e+01\n",
      "std      7.140912e+00\n",
      "min      0.000000e+00\n",
      "25%      8.000000e+00\n",
      "50%      1.100000e+01\n",
      "75%      1.500000e+01\n",
      "max      1.350000e+02\n",
      "Name: word_count, dtype: float64\n",
      "count    375806.000000\n",
      "mean         12.885060\n",
      "std           7.133849\n",
      "min           1.000000\n",
      "25%           8.000000\n",
      "50%          11.000000\n",
      "75%          15.000000\n",
      "max          83.000000\n",
      "Name: word_count, dtype: float64\n"
     ]
    },
    {
     "data": {
      "image/png": "[encoded data removed]",
      "text/plain": [
       "<Figure size 432x288 with 1 Axes>"
      ]
     },
     "metadata": {
      "needs_background": "light"
     },
     "output_type": "display_data"
    }
   ],
   "source": [
    "#train_data['word_count'] = train_data['question_text'].apply(lambda x: len(nltk.word_tokenize(x)))   tooo slow\n",
    "train_data['word_count'] = train_data['question_text'].apply(lambda x: len(str(x).split()))\n",
    "test_data['word_count'] = test_data['question_text'].apply(lambda x: len(str(x).split()))\n",
    "\n",
    "train_data['word_count'].value_counts().sort_index().plot(kind='line')\n",
    "test_data['word_count'].value_counts().sort_index().plot(kind='line')\n",
    "print(train_data['word_count'].describe())\n",
    "print(test_data['word_count'].describe())"
   ]
  },
  {
   "cell_type": "code",
   "execution_count": null,
   "metadata": {},
   "outputs": [
    {
     "name": "stdout",
     "output_type": "stream",
     "text": [
      "9    123677\n",
      "8    121863\n",
      "7    103842\n",
      "6     75104\n",
      "5     43214\n",
      "4     21982\n",
      "3      6085\n",
      "2        60\n",
      "1        23\n",
      "0         6\n",
      "Name: word_count, dtype: int64\n",
      "9    35901\n",
      "8    35373\n",
      "7    29890\n",
      "6    21266\n",
      "5    12343\n",
      "4     6184\n",
      "3     1723\n",
      "2       16\n",
      "1        3\n",
      "Name: word_count, dtype: int64\n"
     ]
    },
    {
     "data": {
      "image/png": "[encoded data removed]",
      "text/plain": [
       "<Figure size 432x288 with 1 Axes>"
      ]
     },
     "metadata": {
      "needs_background": "light"
     },
     "output_type": "display_data"
    }
   ],
   "source": [
    "train_data.loc[(train_data.word_count < 10),'word_count'].value_counts().sort_index().plot(kind='line')\n",
    "test_data.loc[(test_data.word_count < 10),'word_count'].value_counts().sort_index().plot(kind='line')\n",
    "print(train_data.loc[(train_data.word_count < 10),'word_count'].value_counts())\n",
    "print(test_data.loc[(test_data.word_count < 10),'word_count'].value_counts())"
   ]
  },
  {
   "cell_type": "code",
   "execution_count": null,
   "metadata": {},
   "outputs": [
    {
     "name": "stdout",
     "output_type": "stream",
     "text": [
      "       word    count\n",
      "45       be  1222159\n",
      "9       the   858403\n",
      "106    what   607464\n",
      "1        do   546544\n",
      "19       to   525636\n",
      "8        in   485183\n",
      "151      of   429194\n",
      "0       how   372798\n",
      "20      and   330583\n",
      "53      for   263477\n",
      "11      you   261903\n",
      "35      can   241888\n",
      "23      why   210635\n",
      "66       it   203191\n",
      "12     have   199833\n",
      "71       my   145285\n",
      "82     that   138999\n",
      "21      not   134905\n",
      "68       if   127179\n",
      "174    with   123644\n",
      "445      on   121579\n",
      "51       or   120233\n",
      "97      get   102421\n",
      "365    from    89682\n",
      "100    your    87077\n",
      "13       an    86525\n",
      "196  should    84671\n",
      "227   which    84593\n",
      "16    would    81846\n",
      "60     when    81068\n",
      "                           word  count\n",
      "151413               parabellum      1\n",
      "52885                     33045      1\n",
      "151414                qalandars      1\n",
      "151415                 terrigal      1\n",
      "151416            anklebracelet      1\n",
      "151417                     cony      1\n",
      "151418                 supercup      1\n",
      "52882                     hedon      1\n",
      "151421                     dsed      1\n",
      "151404                   biowar      1\n",
      "151402                    quiff      1\n",
      "151384                 disngush      1\n",
      "151392            unestablished      1\n",
      "151385                  centure      1\n",
      "151386                  diagarm      1\n",
      "52892                 treadgrip      1\n",
      "151388            employerowner      1\n",
      "151389                  zzr1400      1\n",
      "151390          openshifthiroku      1\n",
      "52889        mathintcot4xdxmath      1\n",
      "151393                britianna      1\n",
      "151401                 volumous      1\n",
      "151394               tinderlike      1\n",
      "151395                  exeting      1\n",
      "52887                iitsabroad      1\n",
      "151397              workmanship      1\n",
      "151398              chimichagua      1\n",
      "151399             unpurposably      1\n",
      "151400           oystersshrimps      1\n",
      "264490  prejudicediscrimination      1\n",
      "CPU times: user 40.7 s, sys: 867 ms, total: 41.6 s\n",
      "Wall time: 41 s\n"
     ]
    }
   ],
   "source": [
    "%%time\n",
    "\n",
    "from sklearn.feature_extraction.text import TfidfVectorizer,CountVectorizer\n",
    "\n",
    "train_text = train_data['question_text']\n",
    "test_text = test_data['question_text']\n",
    "train_target = train_data['target']\n",
    "all_text = train_text.append(test_text)\n",
    "\n",
    "count_vectorizer = CountVectorizer()\n",
    "count_vectorizer.fit(all_text)\n",
    "\n",
    "\n",
    "bag_of_words = count_vectorizer.transform(all_text)\n",
    "sum_words = bag_of_words.sum(axis=0) \n",
    "words_freq = [(word, sum_words[0, idx]) for word, idx in count_vectorizer.vocabulary_.items()]\n",
    "word_check = pd.DataFrame(words_freq, columns=['word', 'count'])\n",
    "sorted_word_check= word_check.sort_values('count', ascending=False)\n",
    "print(sorted_word_check.head(30))\n",
    "print(sorted_word_check.tail(30))"
   ]
  },
  {
   "cell_type": "markdown",
   "metadata": {},
   "source": [
    " ### Another baseline after data wrangling to compare with the initial baseline"
   ]
  },
  {
   "cell_type": "code",
   "execution_count": null,
   "metadata": {},
   "outputs": [],
   "source": [
    "import datetime, time, psutil, os\n",
    "import numpy as np\n",
    "import pandas as pd\n",
    "\n",
    "from sklearn.feature_extraction.text import TfidfVectorizer,CountVectorizer\n",
    "from sklearn.model_selection import KFold\n",
    "from sklearn.metrics import f1_score\n",
    "\n",
    "from sklearn.naive_bayes import BernoulliNB\n",
    "from sklearn.linear_model import LogisticRegression\n",
    "from sklearn.ensemble import GradientBoostingClassifier"
   ]
  },
  {
   "cell_type": "code",
   "execution_count": null,
   "metadata": {},
   "outputs": [],
   "source": [
    "# remove records have no word after data wrangling\n",
    "train_data = train_data.loc[(train_data.word_count > 0)]\n",
    "test_data = test_data.loc[(test_data.word_count > 0)]\n",
    "train_data= train_data.reset_index()\n",
    "test_data = test_data.reset_index()"
   ]
  },
  {
   "cell_type": "code",
   "execution_count": null,
   "metadata": {},
   "outputs": [],
   "source": [
    "#  CONTROL PARAMTERS \n",
    "size = 0.1\n",
    "tfTransform = True\n",
    "\n",
    "train_data = train_data[: int(len(train_data) * size)]\n",
    "test_data = test_data[:int(len(test_data) * size)]"
   ]
  },
  {
   "cell_type": "code",
   "execution_count": null,
   "metadata": {},
   "outputs": [],
   "source": [
    "train_text = train_data['question_text']\n",
    "test_text = test_data['question_text']\n",
    "train_target = train_data['target']\n",
    "all_text = train_text.append(test_text)"
   ]
  },
  {
   "cell_type": "code",
   "execution_count": null,
   "metadata": {},
   "outputs": [],
   "source": [
    "count_vectorizer = CountVectorizer()\n",
    "count_vectorizer.fit(all_text)\n",
    "train_text_features_cv = count_vectorizer.transform(train_text)\n",
    "test_text_features_cv = count_vectorizer.transform(test_text)"
   ]
  },
  {
   "cell_type": "code",
   "execution_count": null,
   "metadata": {},
   "outputs": [],
   "source": [
    "tfidf_vectorizer = TfidfVectorizer()\n",
    "tfidf_vectorizer.fit(all_text)\n",
    "train_text_features_tf = tfidf_vectorizer.transform(train_text)\n",
    "test_text_features_tf = tfidf_vectorizer.transform(test_text)"
   ]
  },
  {
   "cell_type": "code",
   "execution_count": null,
   "metadata": {},
   "outputs": [
    {
     "name": "stdout",
     "output_type": "stream",
     "text": [
      "(130611, 64907)\n"
     ]
    }
   ],
   "source": [
    "if tfTransform :\n",
    "    train_text_features = train_text_features_tf\n",
    "    test_text_features = test_text_features_tf\n",
    "else:\n",
    "    train_text_features = train_text_features_cv\n",
    "    test_text_features = test_text_features_cv\n",
    "\n",
    "print(train_text_features.shape)"
   ]
  },
  {
   "cell_type": "code",
   "execution_count": null,
   "metadata": {},
   "outputs": [
    {
     "name": "stdout",
     "output_type": "stream",
     "text": [
      "0.4096609382257315\n",
      "CPU times: user 1.38 s, sys: 57 ms, total: 1.43 s\n",
      "Wall time: 405 ms\n"
     ]
    }
   ],
   "source": [
    "%%time\n",
    "\n",
    "#BernoulliNB\n",
    "kfold = KFold(n_splits = 5, shuffle = True, random_state = 1)\n",
    "test_preds = 0\n",
    "oof_preds = np.zeros([train_data.shape[0],])\n",
    "\n",
    "for i, (train_idx,valid_idx) in enumerate(kfold.split(train_data)):\n",
    "    x_train, x_valid = train_text_features[train_idx,:], train_text_features[valid_idx,:]\n",
    "    y_train, y_valid = train_target[train_idx], train_target[valid_idx]\n",
    "    classifier = BernoulliNB()\n",
    "    classifier.fit(x_train,y_train)\n",
    "   \n",
    "    oof_preds[valid_idx] = classifier.predict_proba(x_valid)[:,1]\n",
    "    test_preds += 0.2*classifier.predict_proba(test_text_features)[:,1]\n",
    "\n",
    "pred_train = (oof_preds > 0.25).astype(np.int)\n",
    "accuracy = f1_score(train_target, pred_train)\n",
    "print(accuracy)"
   ]
  },
  {
   "cell_type": "code",
   "execution_count": null,
   "metadata": {},
   "outputs": [
    {
     "name": "stdout",
     "output_type": "stream",
     "text": [
      "0.5603069496874806\n",
      "CPU times: user 10.7 s, sys: 120 ms, total: 10.8 s\n",
      "Wall time: 2.71 s\n"
     ]
    }
   ],
   "source": [
    "%%time\n",
    "\n",
    "#LogisticRegression\n",
    "\n",
    "kfold = KFold(n_splits = 5, shuffle = True, random_state = 1)\n",
    "test_preds = 0\n",
    "oof_preds = np.zeros([train_data.shape[0],])\n",
    "\n",
    "for i, (train_idx,valid_idx) in enumerate(kfold.split(train_data)):\n",
    "    x_train, x_valid = train_text_features[train_idx,:], train_text_features[valid_idx,:]\n",
    "    y_train, y_valid = train_target[train_idx], train_target[valid_idx]\n",
    "    classifier = LogisticRegression(solver='liblinear')\n",
    "    classifier.fit(x_train,y_train)\n",
    "   \n",
    "    oof_preds[valid_idx] = classifier.predict_proba(x_valid)[:,1]\n",
    "    test_preds += 0.2*classifier.predict_proba(test_text_features)[:,1]\n",
    "\n",
    "pred_train = (oof_preds > 0.25).astype(np.int)\n",
    "accuracy = f1_score(train_target, pred_train)\n",
    "print(accuracy)"
   ]
  },
  {
   "cell_type": "code",
   "execution_count": null,
   "metadata": {},
   "outputs": [],
   "source": [
    "%%time\n",
    "\n",
    "#GradientBoostingClassifier\n",
    "\n",
    "kfold = KFold(n_splits = 5, shuffle = True, random_state = 1)\n",
    "test_preds = 0\n",
    "oof_preds = np.zeros([train_data.shape[0],])\n",
    "\n",
    "for i, (train_idx,valid_idx) in enumerate(kfold.split(train_data)):\n",
    "    x_train, x_valid = train_text_features[train_idx,:], train_text_features[valid_idx,:]\n",
    "    y_train, y_valid = train_target[train_idx], train_target[valid_idx]\n",
    "    classifier = GradientBoostingClassifier(random_state=1)\n",
    "    classifier.fit(x_train,y_train)\n",
    "   \n",
    "    oof_preds[valid_idx] = classifier.predict_proba(x_valid)[:,1]\n",
    "    test_preds += 0.2*classifier.predict_proba(test_text_features)[:,1]\n",
    "\n",
    "pred_train = (oof_preds > 0.25).astype(np.int)\n",
    "accuracy = f1_score(train_target, pred_train)\n",
    "print(accuracy)"
   ]
  },
  {
   "cell_type": "markdown",
   "metadata": {},
   "source": [
    "### Apply Both CountVector and TfIdfVector,  Accuracy Reporting Using Confusion Matrix"
   ]
  },
  {
   "cell_type": "code",
   "execution_count": null,
   "metadata": {},
   "outputs": [],
   "source": [
    "from sklearn.model_selection import train_test_split\n",
    "train_text = train_data['question_text']\n",
    "test_text = test_data['question_text']\n",
    "train_target = train_data['target']\n",
    "all_text = train_text.append(test_text)\n",
    "X_train, X_test, y_train, y_test = train_test_split(train_text, train_target, test_size=0.20, random_state = 0)\n"
   ]
  },
  {
   "cell_type": "code",
   "execution_count": null,
   "metadata": {},
   "outputs": [],
   "source": [
    "from sklearn.feature_extraction.text import TfidfVectorizer,CountVectorizer, TfidfTransformer\n",
    "from sklearn.naive_bayes import BernoulliNB\n",
    "from sklearn.linear_model import LogisticRegression\n",
    "from sklearn.ensemble import GradientBoostingClassifier\n",
    "from sklearn.metrics import confusion_matrix\n",
    "import matplotlib.pyplot as plt\n",
    "import seaborn as sns\n",
    "\n",
    "# apply both cont vector & tf-idf vector \n",
    "count_vectorizer = CountVectorizer()\n",
    "tfidf_transformer = TfidfTransformer()\n",
    "\n",
    "# from X_train -> X_train_counts -> X_train_tfidf\n",
    "X_train_count = count_vectorizer.fit_transform(X_train)\n",
    "X_train_tfidf = tfidf_transformer.fit_transform(X_train_count)\n",
    "\n",
    "# fit model\n",
    "#classifier = BernoulliNB().fit(X_train_tfidf, y_train)\n",
    "classifier = LogisticRegression(solver='liblinear').fit(X_train_tfidf,y_train)\n",
    "#classifier = GradientBoostingClassifier(random_state=1).fit(X_train_tfidf,y_train)\n",
    "\n",
    "X_test_count = count_vectorizer.transform(X_test)\n",
    "x_test_tfidf = tfidf_transformer.transform(X_test_count)\n",
    "y_pred = classifier.predict(x_test_tfidf)\n",
    "\n",
    "conf_mat = confusion_matrix(y_test, y_pred)\n",
    "fig, ax = plt.subplots(figsize=(10,10))\n",
    "sns.heatmap(conf_mat, annot=True, fmt='d')\n",
    "plt.ylabel('Actual')\n",
    "plt.xlabel('Predicted')\n",
    "plt.show()"
   ]
  },
  {
   "cell_type": "code",
   "execution_count": null,
   "metadata": {},
   "outputs": [],
   "source": [
    "from sklearn.metrics import classification_report, accuracy_score\n",
    "\n",
    "print(conf_mat)  \n",
    "print('\\n\\n')\n",
    "print(classification_report(y_test,y_pred))  \n",
    "print('\\n\\n')\n",
    "print(accuracy_score(y_test, y_pred))  \n",
    "print('\\n\\n')\n",
    "print (np.mean(y_pred == y_test))\n",
    "print('\\n\\n')"
   ]
  },
  {
   "cell_type": "markdown",
   "metadata": {},
   "source": [
    "### Data Pipeline  [ref 1](https://www.kaggle.com/dilip990/spam-ham-detection-using-naive-bayes-classifier) [ref2](https://gist.github.com/amberjrivera/8c5c145516f5a2e894681e16a8095b5c) [ref 3](http://carrefax.com/articles-blog/2018/3/11/using-scikit-learn-to-classify-your-own-text-data-the-short-version)"
   ]
  },
  {
   "cell_type": "code",
   "execution_count": null,
   "metadata": {},
   "outputs": [],
   "source": [
    "from nltk.corpus import stopwords\n",
    "import string\n",
    "\n",
    "def text_process(text):\n",
    "    nopunc =[char for char in text if char not in string.punctuation]\n",
    "    nopunc=''.join(nopunc)\n",
    "    return [word for word in nopunc.split() if word.lower() not in stopwords.words('english')]"
   ]
  },
  {
   "cell_type": "code",
   "execution_count": null,
   "metadata": {},
   "outputs": [],
   "source": [
    "from sklearn.model_selection import train_test_split\n",
    "from sklearn.naive_bayes import BernoulliNB\n",
    "from sklearn.linear_model import LogisticRegression\n",
    "from sklearn.ensemble import GradientBoostingClassifier\n",
    "\n",
    "train_text = train_data['question_text']\n",
    "test_text = test_data['question_text']\n",
    "train_target = train_data['target']\n",
    "all_text = train_text.append(test_text)\n",
    "\n",
    "from sklearn.pipeline import Pipeline\n",
    "pipeline = Pipeline([\n",
    "   ( 'bow',CountVectorizer(analyzer=text_process)),\n",
    "    ('tfidf',TfidfTransformer()),\n",
    "    ('classifier',LogisticRegression()),\n",
    "])\n",
    "\n",
    "X_train, X_test, y_train, y_test = train_test_split(train_text, train_target, test_size=0.25, random_state = 0)\n",
    "\n",
    "#for data check\n",
    "bow_transformer = CountVectorizer(analyzer=text_process).fit(train_text)\n",
    "print(len(bow_transformer.vocabulary_))"
   ]
  },
  {
   "cell_type": "code",
   "execution_count": null,
   "metadata": {},
   "outputs": [],
   "source": [
    "pipeline.fit(X_train,y_train)"
   ]
  },
  {
   "cell_type": "code",
   "execution_count": null,
   "metadata": {},
   "outputs": [],
   "source": [
    "predictions = pipeline.predict(X_test)"
   ]
  },
  {
   "cell_type": "code",
   "execution_count": null,
   "metadata": {},
   "outputs": [],
   "source": [
    "from sklearn.metrics import confusion_matrix\n",
    "import matplotlib.pyplot as plt\n",
    "import seaborn as sns\n",
    "\n",
    "conf_train = confusion_matrix(y_test,predictions)\n",
    "fig, ax = plt.subplots(figsize=(10,10))\n",
    "sns.heatmap(conf_train, annot=True, fmt='d')\n",
    "plt.ylabel('Actual')\n",
    "plt.xlabel('Predicted')\n",
    "plt.show()\n",
    "\n",
    "print(conf_train)\n",
    "print('\\n\\n')\n",
    "print(classification_report(y_test,predictions))\n",
    "print('\\n\\n')\n",
    "print(accuracy_score(y_test, predictions))  \n",
    "print('\\n\\n')\n",
    "print (np.mean(predictions == y_test))\n",
    "print('\\n\\n')\n"
   ]
  },
  {
   "cell_type": "code",
   "execution_count": null,
   "metadata": {},
   "outputs": [],
   "source": [
    "# for data check \n",
    "pipeline.fit(train_text,train_target)\n",
    "all_predictions =  pipeline.predict(train_text)\n",
    "conf_all = confusion_matrix(train_target,all_predictions)\n",
    "print(conf_all)\n",
    "print('\\n\\n')\n",
    "\n",
    "fig, ax = plt.subplots(figsize=(10,10))\n",
    "sns.heatmap(conf_all, annot=True, fmt='d')\n",
    "plt.ylabel('Actual')\n",
    "plt.xlabel('Predicted')\n",
    "plt.show()\n"
   ]
  },
  {
   "cell_type": "code",
   "execution_count": null,
   "metadata": {},
   "outputs": [],
   "source": [
    "print (np.mean(all_predictions == train_target))"
   ]
  },
  {
   "cell_type": "code",
   "execution_count": null,
   "metadata": {},
   "outputs": [],
   "source": []
  }
 ],
 "metadata": {
  "kernelspec": {
   "display_name": "Python 3",
   "language": "python",
   "name": "python3"
  },
  "language_info": {
   "codemirror_mode": {
    "name": "ipython",
    "version": 3
   },
   "file_extension": ".py",
   "mimetype": "text/x-python",
   "name": "python",
   "nbconvert_exporter": "python",
   "pygments_lexer": "ipython3",
   "version": "3.7.1"
  }
 },
 "nbformat": 4,
 "nbformat_minor": 2
}
