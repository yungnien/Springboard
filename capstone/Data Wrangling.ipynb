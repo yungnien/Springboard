{
 "cells": [
  {
   "cell_type": "markdown",
   "metadata": {},
   "source": [
    "As the data to build the model is from 3rd party resource, exploration and cleaning is essential step. \n",
    "Meanwhile, the primary data is question sentance which a typical NLP data cleaning step should be followed to guarantee the data is generic."
   ]
  },
  {
   "cell_type": "code",
   "execution_count": 1,
   "metadata": {},
   "outputs": [],
   "source": [
    "import numpy as np\n",
    "import pandas as pd"
   ]
  },
  {
   "cell_type": "code",
   "execution_count": 2,
   "metadata": {},
   "outputs": [],
   "source": [
    "train_data = pd.read_csv('data/train.csv')\n",
    "test_data = pd.read_csv('data/test.csv')"
   ]
  },
  {
   "cell_type": "markdown",
   "metadata": {},
   "source": [
    "### Preliminary EDA"
   ]
  },
  {
   "cell_type": "code",
   "execution_count": 3,
   "metadata": {},
   "outputs": [
    {
     "name": "stdout",
     "output_type": "stream",
     "text": [
      "Training data set: 1306122\n",
      "Test data set: 375806\n"
     ]
    }
   ],
   "source": [
    "print('Training data set: ' + str(len(train_data)))\n",
    "print('Test data set: ' + str(len(test_data)))\n"
   ]
  },
  {
   "cell_type": "markdown",
   "metadata": {},
   "source": [
    "The below indicate there is no null cell in all columns. Hence, don't need to fill or remove the record at this moment "
   ]
  },
  {
   "cell_type": "code",
   "execution_count": 4,
   "metadata": {},
   "outputs": [
    {
     "name": "stdout",
     "output_type": "stream",
     "text": [
      "<class 'pandas.core.frame.DataFrame'>\n",
      "RangeIndex: 1306122 entries, 0 to 1306121\n",
      "Data columns (total 3 columns):\n",
      "qid              1306122 non-null object\n",
      "question_text    1306122 non-null object\n",
      "target           1306122 non-null int64\n",
      "dtypes: int64(1), object(2)\n",
      "memory usage: 29.9+ MB\n"
     ]
    }
   ],
   "source": [
    "train_data.info()"
   ]
  },
  {
   "cell_type": "code",
   "execution_count": 5,
   "metadata": {},
   "outputs": [
    {
     "name": "stdout",
     "output_type": "stream",
     "text": [
      "<class 'pandas.core.frame.DataFrame'>\n",
      "RangeIndex: 375806 entries, 0 to 375805\n",
      "Data columns (total 2 columns):\n",
      "qid              375806 non-null object\n",
      "question_text    375806 non-null object\n",
      "dtypes: object(2)\n",
      "memory usage: 5.7+ MB\n"
     ]
    }
   ],
   "source": [
    "test_data.info()"
   ]
  },
  {
   "cell_type": "code",
   "execution_count": 6,
   "metadata": {},
   "outputs": [
    {
     "name": "stdout",
     "output_type": "stream",
     "text": [
      "count                                               1306122\n",
      "unique                                              1306122\n",
      "top       Do you think Haruki Murakami takes too much fr...\n",
      "freq                                                      1\n",
      "Name: question_text, dtype: object\n",
      "\n",
      "\n",
      "count                                                375806\n",
      "unique                                               375806\n",
      "top       Is there a real threat of a massive earthquake...\n",
      "freq                                                      1\n",
      "Name: question_text, dtype: object\n"
     ]
    }
   ],
   "source": [
    "print (train_data.question_text.describe())\n",
    "print('\\n')\n",
    "print (test_data.question_text.describe())"
   ]
  },
  {
   "cell_type": "code",
   "execution_count": 24,
   "metadata": {},
   "outputs": [
    {
     "data": {
      "text/plain": [
       "<matplotlib.axes._subplots.AxesSubplot at 0x13d91cef0>"
      ]
     },
     "execution_count": 24,
     "metadata": {},
     "output_type": "execute_result"
    },
    {
     "data": {
      "image/png": "[encoded data removed]",
      "text/plain": [
       "<Figure size 432x288 with 1 Axes>"
      ]
     },
     "metadata": {
      "needs_background": "light"
     },
     "output_type": "display_data"
    }
   ],
   "source": [
    "train_data['length'] = train_data['question_text'].str.len()\n",
    "test_data['length'] = test_data['question_text'].str.len()\n",
    "\n",
    "train_data['length'].value_counts().sort_index().plot(kind='line')\n",
    "test_data['length'].value_counts().sort_index().plot(kind='line')"
   ]
  },
  {
   "cell_type": "markdown",
   "metadata": {},
   "source": [
    "Below shows the ratio on target value: majority of questions are normal/valid question"
   ]
  },
  {
   "cell_type": "code",
   "execution_count": 8,
   "metadata": {},
   "outputs": [
    {
     "name": "stdout",
     "output_type": "stream",
     "text": [
      "0    1225312\n",
      "1      80810\n",
      "Name: target, dtype: int64\n"
     ]
    },
    {
     "data": {
      "text/plain": [
       "<matplotlib.axes._subplots.AxesSubplot at 0x117e76400>"
      ]
     },
     "execution_count": 8,
     "metadata": {},
     "output_type": "execute_result"
    },
    {
     "data": {
      "image/png": "[encoded data removed]",
      "text/plain": [
       "<Figure size 432x288 with 1 Axes>"
      ]
     },
     "metadata": {
      "needs_background": "light"
     },
     "output_type": "display_data"
    }
   ],
   "source": [
    "print(train_data['target'].value_counts())\n",
    "train_data['target'].value_counts().plot(kind='bar')"
   ]
  },
  {
   "cell_type": "markdown",
   "metadata": {},
   "source": [
    "Below shows the question text contains white space, special symbol & foreign characters. \n",
    "As the nlp has language specific settings and functions, the foreign characters & extra white space should be removed \n",
    "As for punchaction, some AI/ML models take the punchaction into account for semantic parsing. Some models, such as bag of words, does not using punchaction due to the natural of the algorithm is based on word frequency.    "
   ]
  },
  {
   "cell_type": "code",
   "execution_count": 9,
   "metadata": {},
   "outputs": [],
   "source": [
    "sorted = train_data.sort_values('question_text')"
   ]
  },
  {
   "cell_type": "code",
   "execution_count": 10,
   "metadata": {},
   "outputs": [
    {
     "data": {
      "text/plain": [
       "840731          \u0010I want to blow things up with TNT now what?\n",
       "613283     !TRIGGER WARNING! Am I a homophobe if I refuse...\n",
       "420816                                                     \"\n",
       "1102919    \" I post a download link of a website in my we...\n",
       "213438     \" I visited the theater\" or \"I enjoyed the the...\n",
       "496717     \" I've been to the doctor many times now to cu...\n",
       "646127     \" Is there anybody who had drastic good / bad ...\n",
       "4692       \" So far She has published three chapters of h...\n",
       "998382     \" What does the scientific mean when you dream...\n",
       "387244     \" if 25 men working 6 hrs a day, can do a work...\n",
       "Name: question_text, dtype: object"
      ]
     },
     "execution_count": 10,
     "metadata": {},
     "output_type": "execute_result"
    }
   ],
   "source": [
    "sorted['question_text'].head(10)"
   ]
  },
  {
   "cell_type": "code",
   "execution_count": 11,
   "metadata": {},
   "outputs": [
    {
     "data": {
      "text/plain": [
       "113435     ⁠⁠Is it bad to lay your motorcycle on its side...\n",
       "146277                       −6.175 is an irrational number?\n",
       "859955     ♣ Why does Winston finally give in to the ideo...\n",
       "1185049    ⦁ What are the methods used to suppress or red...\n",
       "415446     译文 who well be enter the next member of the st...\n",
       "231111                                   한국 고등학교는 몇시간 수업하니까?\n",
       "814877               what is the Complex compound sentence?\n",
       "916459     ﻿What are the best porn pictures serving websi...\n",
       "1261734    Ｈow do I find the negative solution of 4^x = x...\n",
       "344918     ￼￼Assuming that a lightning bolt can be modell...\n",
       "Name: question_text, dtype: object"
      ]
     },
     "execution_count": 11,
     "metadata": {},
     "output_type": "execute_result"
    }
   ],
   "source": [
    "sorted['question_text'].tail(10)"
   ]
  },
  {
   "cell_type": "markdown",
   "metadata": {},
   "source": [
    "### Preliminary EDA\n",
    "A typical NLP pre-processed step contains the following: \n",
    "- Removing accented & foreign characters\n",
    "    - The NLP is limited to one language in most of modeler, Therefore, it is helpful to remove characters tat is not english \n",
    "- Expanding Contractions\n",
    "    - Frequently, contractions shows up in text taht generate variation for words. It will be helpful if we can remove them. The contractions can be removed via syntax rule.\n",
    "- Expanding Abbreviation\n",
    "    - Similar to tocontraction, abbreviaton generates word variation which incrase number of features int the training data. However, due to the large amount of abbreviation , possible ambiguity and has no aviable API, this will be skipped   \n",
    "- Case Unification\n",
    "    - This is to make all character to lower case such that the string comparsion cn recognize them\n",
    "- Removing Special Characters\n",
    "    - To remove non alphanumeric characters \n",
    "- Stemming\n",
    "    - To remove word affixes to get to the base form of a word\n",
    "- Lemmatization \n",
    "    - Also to remove word affixes to get to the base form of a word  [refrence on the difference between Stemming and Lemmatization](https://www.datacamp.com/community/tutorials/stemming-lemmatization-python)\n",
    "- Removing Stopwords\n",
    "    - To remove english stop words\n"
   ]
  },
  {
   "cell_type": "code",
   "execution_count": 12,
   "metadata": {},
   "outputs": [],
   "source": [
    "remove_accent = True\n",
    "remove_non_ascii = True\n",
    "remove_white_space = True\n",
    "expand_contraction = True\n",
    "case_unification = True\n",
    "remove_special_character = True\n",
    "stemming = True\n",
    "lemmatization = False\n",
    "remove_stopword = True"
   ]
  },
  {
   "cell_type": "markdown",
   "metadata": {},
   "source": [
    "### Removing accented & foreign characters"
   ]
  },
  {
   "cell_type": "code",
   "execution_count": 13,
   "metadata": {},
   "outputs": [
    {
     "name": "stdout",
     "output_type": "stream",
     "text": [
      "CPU times: user 17.8 s, sys: 119 ms, total: 17.9 s\n",
      "Wall time: 18 s\n"
     ]
    }
   ],
   "source": [
    "%%time\n",
    "\n",
    "def remove_non_ascii(text):\n",
    "    return ''.join(i for i in text if ord(i)<128)\n",
    "def remove_white_space(text):\n",
    "    return text.strip().strip('\\t\\n')\n",
    "\n",
    "if remove_accent:\n",
    "    train_data['question_text'] = train_data['question_text'].str.normalize('NFKD')\n",
    "    test_data['question_text'] = test_data['question_text'].str.normalize('NFKD')\n",
    "\n",
    "if remove_non_ascii:\n",
    "    train_data['question_text'] = train_data['question_text'].apply(remove_non_ascii)\n",
    "    test_data['question_text'] = test_data['question_text'].apply(remove_non_ascii)\n",
    "\n",
    "if remove_white_space:\n",
    "    train_data['question_text'] = train_data['question_text'].apply(remove_white_space)\n",
    "    test_data['question_text'] = test_data['question_text'].apply(remove_white_space)\n"
   ]
  },
  {
   "cell_type": "markdown",
   "metadata": {},
   "source": [
    "### Expanding Contractions  : use [contractions](https://github.com/kootenpv/contractions), an altervative is [pycontractions](https://pypi.org/project/pycontractions/)"
   ]
  },
  {
   "cell_type": "code",
   "execution_count": 14,
   "metadata": {},
   "outputs": [
    {
     "name": "stdout",
     "output_type": "stream",
     "text": [
      "CPU times: user 2min 35s, sys: 251 ms, total: 2min 35s\n",
      "Wall time: 2min 35s\n"
     ]
    }
   ],
   "source": [
    "%%time\n",
    "\n",
    "import contractions\n",
    "\n",
    "if expand_contraction:\n",
    "    train_data['question_text'] = train_data['question_text'].apply(contractions.fix)\n",
    "    test_data['question_text'] = test_data['question_text'].apply(contractions.fix)\n"
   ]
  },
  {
   "cell_type": "markdown",
   "metadata": {},
   "source": [
    "### Case Unification"
   ]
  },
  {
   "cell_type": "code",
   "execution_count": 15,
   "metadata": {},
   "outputs": [
    {
     "name": "stdout",
     "output_type": "stream",
     "text": [
      "CPU times: user 913 ms, sys: 41.2 ms, total: 954 ms\n",
      "Wall time: 952 ms\n"
     ]
    }
   ],
   "source": [
    "%%time\n",
    "\n",
    "if case_unification:\n",
    "    train_data['question_text'] = train_data['question_text'].str.lower()\n",
    "    test_data['question_text'] = test_data['question_text'].str.lower()\n"
   ]
  },
  {
   "cell_type": "markdown",
   "metadata": {},
   "source": [
    "### Removing Special Characters"
   ]
  },
  {
   "cell_type": "code",
   "execution_count": 16,
   "metadata": {},
   "outputs": [
    {
     "name": "stdout",
     "output_type": "stream",
     "text": [
      "CPU times: user 5.47 s, sys: 16.1 ms, total: 5.48 s\n",
      "Wall time: 5.48 s\n"
     ]
    }
   ],
   "source": [
    "%%time\n",
    "\n",
    "import re\n",
    "\n",
    "def remove_special_character(text):\n",
    "    return re.sub('[^A-Za-z0-9\\s]+', '', text)\n",
    "\n",
    "if remove_special_character:\n",
    "    train_data['question_text'] = train_data['question_text'].apply(remove_special_character)\n",
    "    test_data['question_text'] = test_data['question_text'].apply(remove_special_character)\n"
   ]
  },
  {
   "cell_type": "markdown",
   "metadata": {},
   "source": [
    "### Stemming"
   ]
  },
  {
   "cell_type": "code",
   "execution_count": 17,
   "metadata": {},
   "outputs": [
    {
     "name": "stdout",
     "output_type": "stream",
     "text": [
      "CPU times: user 8min 50s, sys: 1.1 s, total: 8min 51s\n",
      "Wall time: 8min 52s\n"
     ]
    }
   ],
   "source": [
    "%%time\n",
    "\n",
    "import nltk\n",
    "#nltk.download('punkt')\n",
    "from nltk.stem import PorterStemmer \n",
    "from nltk.tokenize import word_tokenize \n",
    "\n",
    "def porter_stemmer(text): #PorterStemmer\n",
    "    ps = PorterStemmer()\n",
    "    text = ' '.join([ps.stem(word) for word in word_tokenize(text)])\n",
    "    return text\n",
    "\n",
    "if stemming:\n",
    "    train_data['question_text'] = train_data['question_text'].apply(porter_stemmer)\n",
    "    test_data['question_text'] = test_data['question_text'].apply(porter_stemmer)\n"
   ]
  },
  {
   "cell_type": "markdown",
   "metadata": {},
   "source": [
    "### Lemmatization"
   ]
  },
  {
   "cell_type": "code",
   "execution_count": 18,
   "metadata": {},
   "outputs": [
    {
     "name": "stdout",
     "output_type": "stream",
     "text": [
      "CPU times: user 13 µs, sys: 0 ns, total: 13 µs\n",
      "Wall time: 15.7 µs\n"
     ]
    }
   ],
   "source": [
    "%%time\n",
    "\n",
    "import nltk\n",
    "#nltk.download('wordnet')\n",
    "#nltk.download('averaged_perceptron_tagger')\n",
    "from nltk.stem import WordNetLemmatizer \n",
    "from nltk.tokenize import word_tokenize \n",
    "\n",
    "def get_wordnet_pos(word):\n",
    "    \"\"\"Map POS tag to first character lemmatize() accepts\"\"\"\n",
    "    tag = nltk.pos_tag([word])[0][1][0].upper()\n",
    "    tag_dict = {\"J\": wordnet.ADJ,\n",
    "                \"N\": wordnet.NOUN,\n",
    "                \"V\": wordnet.VERB,\n",
    "                \"R\": wordnet.ADV}\n",
    "\n",
    "    return tag_dict.get(tag, wordnet.NOUN)\n",
    "\n",
    "def lemmatizer(text): \n",
    "    lemmatizer = WordNetLemmatizer()\n",
    "    text = ' '.join([lemmatizer.lemmatize(w, get_wordnet_pos(w)) for w in nltk.word_tokenize(text)])\n",
    "    return text\n",
    "\n",
    "if lemmatization:\n",
    "    train_data['question_text'] = train_data['question_text'].apply(lemmatizer)\n",
    "    test_data['question_text'] = test_data['question_text'].apply(lemmatizer)\n",
    "    \n"
   ]
  },
  {
   "cell_type": "markdown",
   "metadata": {},
   "source": [
    "### Removing Stopwords"
   ]
  },
  {
   "cell_type": "code",
   "execution_count": 19,
   "metadata": {},
   "outputs": [
    {
     "name": "stdout",
     "output_type": "stream",
     "text": [
      "CPU times: user 2min 36s, sys: 93.8 ms, total: 2min 36s\n",
      "Wall time: 2min 36s\n"
     ]
    }
   ],
   "source": [
    "%%time\n",
    "\n",
    "import nltk\n",
    "from nltk.corpus import stopwords \n",
    "stop_words = set(stopwords.words('english'))\n",
    "\n",
    "stop_words.remove('not')\n",
    "stop_words.remove('no')\n",
    "\n",
    "def remove_stop_word(text): \n",
    "    text = ' '.join([w for w in nltk.word_tokenize(text) if w not in stop_words])\n",
    "    return text\n",
    "\n",
    "if remove_stopword:\n",
    "    train_data['question_text'] = train_data['question_text'].apply(remove_stop_word)\n",
    "    test_data['question_text'] = test_data['question_text'].apply(remove_stop_word)\n"
   ]
  },
  {
   "cell_type": "code",
   "execution_count": 20,
   "metadata": {},
   "outputs": [
    {
     "name": "stdout",
     "output_type": "stream",
     "text": [
      "count    1.306122e+06\n",
      "mean     4.112864e+01\n",
      "std      2.393341e+01\n",
      "min      0.000000e+00\n",
      "25%      2.500000e+01\n",
      "50%      3.500000e+01\n",
      "75%      5.100000e+01\n",
      "max      5.660000e+02\n",
      "Name: length_a, dtype: float64\n",
      "count    375806.000000\n",
      "mean         41.183028\n",
      "std          23.914702\n",
      "min           0.000000\n",
      "25%          25.000000\n",
      "50%          35.000000\n",
      "75%          51.000000\n",
      "max         478.000000\n",
      "Name: length_a, dtype: float64\n"
     ]
    },
    {
     "data": {
      "image/png": "[encoded data removed]",
      "text/plain": [
       "<Figure size 432x288 with 1 Axes>"
      ]
     },
     "metadata": {
      "needs_background": "light"
     },
     "output_type": "display_data"
    }
   ],
   "source": [
    "train_data['length_a'] = train_data['question_text'].str.len()\n",
    "test_data['length_a'] = test_data['question_text'].str.len()\n",
    "\n",
    "train_data['length_a'].value_counts().sort_index().plot(kind='line')\n",
    "test_data['length_a'].value_counts().sort_index().plot(kind='line')\n",
    "\n",
    "print(train_data['length_a'].describe())\n",
    "print(test_data['length_a'].describe())\n"
   ]
  },
  {
   "cell_type": "code",
   "execution_count": 21,
   "metadata": {},
   "outputs": [
    {
     "name": "stdout",
     "output_type": "stream",
     "text": [
      "count    1.306122e+06\n",
      "mean     6.885325e+00\n",
      "std      3.967440e+00\n",
      "min      0.000000e+00\n",
      "25%      4.000000e+00\n",
      "50%      6.000000e+00\n",
      "75%      8.000000e+00\n",
      "max      8.100000e+01\n",
      "Name: word_count, dtype: float64\n",
      "count    375806.000000\n",
      "mean          6.891891\n",
      "std           3.961610\n",
      "min           0.000000\n",
      "25%           4.000000\n",
      "50%           6.000000\n",
      "75%           8.000000\n",
      "max          45.000000\n",
      "Name: word_count, dtype: float64\n"
     ]
    },
    {
     "data": {
      "image/png": "[encoded data removed]",
      "text/plain": [
       "<Figure size 432x288 with 1 Axes>"
      ]
     },
     "metadata": {
      "needs_background": "light"
     },
     "output_type": "display_data"
    }
   ],
   "source": [
    "train_data['word_count'] = train_data['question_text'].apply(lambda x: len(str(x).split()) )\n",
    "test_data['word_count'] = test_data['question_text'].apply(lambda x: len(str(x).split()) )\n",
    "\n",
    "train_data['word_count'].value_counts().sort_index().plot(kind='line')\n",
    "test_data['word_count'].value_counts().sort_index().plot(kind='line')\n",
    "print(train_data['word_count'].describe())\n",
    "print(test_data['word_count'].describe())"
   ]
  },
  {
   "cell_type": "code",
   "execution_count": 22,
   "metadata": {},
   "outputs": [
    {
     "name": "stdout",
     "output_type": "stream",
     "text": [
      "5    201635\n",
      "4    195215\n",
      "6    169221\n",
      "3    137505\n",
      "7    131416\n",
      "8     97810\n",
      "9     72351\n",
      "2     48361\n",
      "1      6271\n",
      "0        70\n",
      "Name: word_count, dtype: int64\n",
      "5    58324\n",
      "4    55921\n",
      "6    48679\n",
      "3    39571\n",
      "7    37673\n",
      "8    28187\n",
      "9    21185\n",
      "2    13591\n",
      "1     1738\n",
      "0       27\n",
      "Name: word_count, dtype: int64\n"
     ]
    },
    {
     "data": {
      "image/png": "[encoded data removed]",
      "text/plain": [
       "<Figure size 432x288 with 1 Axes>"
      ]
     },
     "metadata": {
      "needs_background": "light"
     },
     "output_type": "display_data"
    }
   ],
   "source": [
    "train_data.loc[(train_data.word_count < 10),'word_count'].value_counts().sort_index().plot(kind='line')\n",
    "test_data.loc[(test_data.word_count < 10),'word_count'].value_counts().sort_index().plot(kind='line')\n",
    "print(train_data.loc[(train_data.word_count < 10),'word_count'].value_counts())\n",
    "print(test_data.loc[(test_data.word_count < 10),'word_count'].value_counts())"
   ]
  },
  {
   "cell_type": "code",
   "execution_count": 23,
   "metadata": {},
   "outputs": [
    {
     "name": "stdout",
     "output_type": "stream",
     "text": [
      "       word   count\n",
      "13      whi  210683\n",
      "11      not  134953\n",
      "14      doe  120420\n",
      "70      get   95030\n",
      "8     would   81851\n",
      "463    best   80253\n",
      "10    peopl   73068\n",
      "351    like   68876\n",
      "23      use   63854\n",
      "348      wa   54663\n",
      "218     ani   51858\n",
      "110    good   50063\n",
      "164    make   49004\n",
      "163     one   46328\n",
      "345   india   42102\n",
      "145      ha   41977\n",
      "118   think   37719\n",
      "57   differ   37396\n",
      "297    year   37272\n",
      "60      thi   36202\n",
      "73      way   36044\n",
      "17     time   35492\n",
      "241    work   35166\n",
      "127    mani   31475\n",
      "609    want   30829\n",
      "112    take   30571\n",
      "344    much   30208\n",
      "72       go   29868\n",
      "143  person   29540\n",
      "274  someon   29528\n",
      "                      word  count\n",
      "122109               ukina      1\n",
      "122111              motel6      1\n",
      "122112              icheon      1\n",
      "122114           burnsitch      1\n",
      "122115             ashthma      1\n",
      "122118            novichuk      1\n",
      "122119              woopra      1\n",
      "122120               m24a2      1\n",
      "122121               m24a3      1\n",
      "122122                hdca      1\n",
      "122123       testscriteria      1\n",
      "122103          correctnon      1\n",
      "122101          upvoteview      1\n",
      "122099          chemisorpt      1\n",
      "122087                 d70      1\n",
      "122074              appmak      1\n",
      "122075             7001700      1\n",
      "122076         goldmansack      1\n",
      "122081              eadiat      1\n",
      "122082            technogi      1\n",
      "122086      londonscotland      1\n",
      "122089              ttrump      1\n",
      "122098          physisorpt      1\n",
      "122090         coreessenti      1\n",
      "122092              603000      1\n",
      "122093     apparatusfactor      1\n",
      "122094               nadra      1\n",
      "122095         pseudofirst      1\n",
      "122096        pseudosecond      1\n",
      "232180  prejudicediscrimin      1\n",
      "CPU times: user 25.8 s, sys: 450 ms, total: 26.2 s\n",
      "Wall time: 25.6 s\n"
     ]
    }
   ],
   "source": [
    "%%time\n",
    "\n",
    "from sklearn.feature_extraction.text import TfidfVectorizer,CountVectorizer\n",
    "\n",
    "train_text = train_data['question_text']\n",
    "test_text = test_data['question_text']\n",
    "train_target = train_data['target']\n",
    "all_text = train_text.append(test_text)\n",
    "\n",
    "count_vectorizer = CountVectorizer()\n",
    "count_vectorizer.fit(all_text)\n",
    "\n",
    "\n",
    "bag_of_words = count_vectorizer.transform(all_text)\n",
    "sum_words = bag_of_words.sum(axis=0) \n",
    "words_freq = [(word, sum_words[0, idx]) for word, idx in count_vectorizer.vocabulary_.items()]\n",
    "word_check = pd.DataFrame(words_freq, columns=['word', 'count'])\n",
    "sorted_word_check= word_check.sort_values('count', ascending=False)\n",
    "print(sorted_word_check.head(30))\n",
    "print(sorted_word_check.tail(30))"
   ]
  },
  {
   "cell_type": "markdown",
   "metadata": {},
   "source": [
    " "
   ]
  },
  {
   "cell_type": "markdown",
   "metadata": {},
   "source": [
    " "
   ]
  }
 ],
 "metadata": {
  "kernelspec": {
   "display_name": "Python 3",
   "language": "python",
   "name": "python3"
  },
  "language_info": {
   "codemirror_mode": {
    "name": "ipython",
    "version": 3
   },
   "file_extension": ".py",
   "mimetype": "text/x-python",
   "name": "python",
   "nbconvert_exporter": "python",
   "pygments_lexer": "ipython3",
   "version": "3.7.1"
  }
 },
 "nbformat": 4,
 "nbformat_minor": 2
}
