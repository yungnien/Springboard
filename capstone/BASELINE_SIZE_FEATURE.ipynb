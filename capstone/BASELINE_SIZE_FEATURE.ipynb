{
 "cells": [
  {
   "cell_type": "code",
   "execution_count": null,
   "metadata": {},
   "outputs": [],
   "source": [
    "NLP analysis "
   ]
  },
  {
   "cell_type": "code",
   "execution_count": null,
   "metadata": {},
   "outputs": [],
   "source": [
    "import datetime, time, psutil, os\n",
    "import numpy as np\n",
    "import pandas as pd\n",
    "import nltk\n",
    "from sklearn.feature_extraction import stop_words\n",
    "#from nltk.corpus import stopwords\n",
    "\n",
    "from sklearn.feature_extraction.text import TfidfVectorizer,CountVectorizer\n",
    "from sklearn.model_selection import KFold\n",
    "from sklearn.metrics import f1_score\n",
    "\n",
    "from sklearn.naive_bayes import GaussianNB,MultinomialNB,ComplementNB,BernoulliNB\n",
    "from sklearn.linear_model import LogisticRegression\n",
    "from sklearn import svm\n",
    "from sklearn.ensemble import RandomForestClassifier\n",
    "from sklearn.ensemble import GradientBoostingClassifier"
   ]
  },
  {
   "cell_type": "code",
   "execution_count": null,
   "metadata": {},
   "outputs": [],
   "source": []
  },
  {
   "cell_type": "code",
   "execution_count": null,
   "metadata": {},
   "outputs": [],
   "source": []
  },
  {
   "cell_type": "code",
   "execution_count": null,
   "metadata": {},
   "outputs": [],
   "source": [
    "print(str(datetime.datetime.now()) + \"   start of baseline model\")\n",
    "#  CONTROL PARAMTERS\n",
    "size = 10\n",
    "tfTransform = True\n",
    "filename = \"GB_SIZE_FEATURE_\"+str(size)+\"_\"+str(int(time.time()))+\".txt\"\n",
    "print(filename)\n",
    "f = open(filename, \"w\")\n",
    "f.write('environment \\n')\n",
    "f.write(str(platform.uname()) + '\\n')\n",
    "f.write(str(psutil.virtual_memory()) + '\\n')\n",
    "f.write(str(psutil.disk_partitions()) + '\\n\\n')\n",
    "f.flush()"
   ]
  },
  {
   "cell_type": "code",
   "execution_count": null,
   "metadata": {},
   "outputs": [],
   "source": [
    "f.write( 'control parameter: size {} , tf transform {}\\n\\n'.format(size, tfTransform))"
   ]
  },
  {
   "cell_type": "code",
   "execution_count": null,
   "metadata": {},
   "outputs": [],
   "source": [
    "train_data = pd.read_csv('data/train.csv')\n",
    "test_data = pd.read_csv('data/test.csv')\n",
    "\n",
    "f.write(\"train_data shape: \"+str(train_data.shape)+ '\\n')\n",
    "f.write(\"test_data shape: \"+str(test_data.shape)+ '\\n\\n')"
   ]
  },
  {
   "cell_type": "code",
   "execution_count": null,
   "metadata": {},
   "outputs": [],
   "source": [
    "train_data = train_data[:len(train_data)//size] \n",
    "test_data = test_data[:len(test_data)//size] \n",
    "\n",
    "f.write(\"applied train_data shape: \"+str(train_data.shape)+ '\\n')\n",
    "f.write(\"applied test_data shape: \"+str(test_data.shape)+ '\\n\\n')\n",
    "f.flush()\n",
    "train_data.head()"
   ]
  },
  {
   "cell_type": "code",
   "execution_count": null,
   "metadata": {},
   "outputs": [],
   "source": [
    "train_data['target'].value_counts()"
   ]
  },
  {
   "cell_type": "code",
   "execution_count": null,
   "metadata": {},
   "outputs": [],
   "source": [
    "train_data['num_words'] = train_data['question_text'].apply(lambda x: len(str(x).split()) )"
   ]
  },
  {
   "cell_type": "code",
   "execution_count": null,
   "metadata": {},
   "outputs": [],
   "source": [
    "train_data['num_words'].describe()"
   ]
  },
  {
   "cell_type": "code",
   "execution_count": null,
   "metadata": {},
   "outputs": [],
   "source": [
    "start_time = time.time()\n",
    "\n",
    "train_text = train_data['question_text']\n",
    "test_text = test_data['question_text']\n",
    "train_target = train_data['target']\n",
    "all_text = train_text.append(test_text)\n",
    "\n",
    "#count_vectorizer = CountVectorizer(stop_words=stop_words.ENGLISH_STOP_WORDS)\n",
    "count_vectorizer = CountVectorizer()\n",
    "count_vectorizer.fit(all_text)\n",
    "\n",
    "elapsed_time = time.time() - start_time\n",
    "print(str(time.strftime(\"%H:%M:%S:%m\", time.gmtime(elapsed_time))))\n",
    "f.write(str(time.strftime(\"%H:%M:%S:%m\", time.gmtime(elapsed_time))) + \"   vectorization\\n\")\n",
    "f.flush()"
   ]
  },
  {
   "cell_type": "code",
   "execution_count": null,
   "metadata": {},
   "outputs": [],
   "source": [
    "start_time = time.time()\n",
    "\n",
    "train_text_features_cv = count_vectorizer.transform(train_text)\n",
    "test_text_features_cv = count_vectorizer.transform(test_text)\n",
    "\n",
    "print(train_text_features_cv.get_shape())\n",
    "print(test_text_features_cv.get_shape())\n",
    "\n",
    "tfidf_vectorizer = TfidfVectorizer()\n",
    "tfidf_vectorizer.fit(all_text)\n",
    "train_text_features_tf = tfidf_vectorizer.transform(train_text)\n",
    "test_text_features_tf = tfidf_vectorizer.transform(test_text)\n",
    "\n",
    "print(train_text_features_tf.get_shape())\n",
    "print(test_text_features_tf.get_shape())\n",
    "\n",
    "if tfTransform :\n",
    "    train_text_features = train_text_features_tf\n",
    "    test_text_features = test_text_features_tf\n",
    "else:\n",
    "    train_text_features = train_text_features_cv\n",
    "    test_text_features = test_text_features_cv\n",
    "\n",
    "    \n",
    "elapsed_time = time.time() - start_time\n",
    "print(train_text_features.get_shape())\n",
    "print(test_text_features.get_shape())\n",
    "print(str(time.strftime(\"%H:%M:%S:%m\", time.gmtime(elapsed_time))) + \"   feature transform\")\n",
    "\n",
    "f.write(\"train_text_features_cv\" +str(train_text_features_cv.get_shape())+\"\\n\")\n",
    "f.write(\"test_text_features_cv\" +str(test_text_features_cv.get_shape())+\"\\n\")\n",
    "f.write(\"train_text_features_tf\" +str(train_text_features_tf.get_shape())+\"\\n\")\n",
    "f.write(\"test_text_features_tf\" +str(test_text_features_tf.get_shape())+\"\\n\")\n",
    "f.write(\"train_text_features\" +str(train_text_features.get_shape())+\"\\n\")\n",
    "f.write(\"test_text_features\" +str(test_text_features.get_shape())+\"\\n\")\n",
    "f.write(str(time.strftime(\"%H:%M:%S:%m\", time.gmtime(elapsed_time))) + \"   feature transform\\n\")\n",
    "f.flush()"
   ]
  },
  {
   "cell_type": "code",
   "execution_count": null,
   "metadata": {},
   "outputs": [],
   "source": [
    "len(np.zeros([train_data.shape[0],]))"
   ]
  },
  {
   "cell_type": "code",
   "execution_count": null,
   "metadata": {},
   "outputs": [],
   "source": [
    "#BernoulliNB\n",
    "start_time = time.time()\n",
    "\n",
    "kfold = KFold(n_splits = 5, shuffle = True, random_state = 1)\n",
    "\n",
    "test_preds = 0\n",
    "oof_preds = np.zeros([train_data.shape[0],])\n",
    "\n",
    "for i, (train_idx,valid_idx) in enumerate(kfold.split(train_data)):\n",
    "    x_train, x_valid = train_text_features[train_idx,:], train_text_features[valid_idx,:]\n",
    "    y_train, y_valid = train_target[train_idx], train_target[valid_idx]\n",
    "    classifier = BernoulliNB()\n",
    "    classifier.fit(x_train,y_train)\n",
    "   \n",
    "    oof_preds[valid_idx] = classifier.predict_proba(x_valid)[:,1]\n",
    "    test_preds += 0.2*classifier.predict_proba(test_text_features)[:,1]\n",
    "\n",
    "pred_train = (oof_preds > 0.25).astype(np.int)\n",
    "\n",
    "\n",
    "elapsed_time = time.time() - start_time\n",
    "print(str(time.strftime(\"%H:%M:%S:%m\", time.gmtime(elapsed_time))) + \"   BernoulliNB\")\n",
    "print(\"f1_score: \" +str(f1_score(train_target, pred_train)))\n",
    "f.write(str(time.strftime(\"%H:%M:%S:%m\", time.gmtime(elapsed_time))) + \"   BernoulliNB\\n\")\n",
    "f.write(\"f1_score: \" +str(f1_score(train_target, pred_train)) +\"\\n\")\n",
    "f.flush()"
   ]
  },
  {
   "cell_type": "code",
   "execution_count": null,
   "metadata": {},
   "outputs": [],
   "source": [
    "#LogisticRegression\n",
    "start_time = time.time()\n",
    "\n",
    "kfold = KFold(n_splits = 5, shuffle = True, random_state = 1)\n",
    "\n",
    "test_preds = 0\n",
    "oof_preds = np.zeros([train_data.shape[0],])\n",
    "\n",
    "for i, (train_idx,valid_idx) in enumerate(kfold.split(train_data)):\n",
    "    x_train, x_valid = train_text_features[train_idx,:], train_text_features[valid_idx,:]\n",
    "    y_train, y_valid = train_target[train_idx], train_target[valid_idx]\n",
    "    classifier = LogisticRegression(solver='liblinear')\n",
    "    classifier.fit(x_train,y_train)\n",
    "   \n",
    "    oof_preds[valid_idx] = classifier.predict_proba(x_valid)[:,1]\n",
    "    test_preds += 0.2*classifier.predict_proba(test_text_features)[:,1]\n",
    "\n",
    "pred_train = (oof_preds > 0.25).astype(np.int)\n",
    "\n",
    "\n",
    "elapsed_time = time.time() - start_time\n",
    "print(str(time.strftime(\"%H:%M:%S:%m\", time.gmtime(elapsed_time))) + \"   LogisticRegression\")\n",
    "print(\"f1_score: \" +str(f1_score(train_target, pred_train)))\n",
    "f.write(str(time.strftime(\"%H:%M:%S:%m\", time.gmtime(elapsed_time))) + \"   LogisticRegression\\n\")\n",
    "f.write(\"f1_score: \" +str(f1_score(train_target, pred_train)) +\"\\n\")\n",
    "f.flush()"
   ]
  },
  {
   "cell_type": "code",
   "execution_count": null,
   "metadata": {},
   "outputs": [],
   "source": [
    "#GradientBoostingClassifier\n",
    "start_time = time.time()\n",
    "\n",
    "kfold = KFold(n_splits = 5, shuffle = True, random_state = 1)\n",
    "\n",
    "test_preds = 0\n",
    "oof_preds = np.zeros([train_data.shape[0],])\n",
    "\n",
    "for i, (train_idx,valid_idx) in enumerate(kfold.split(train_data)):\n",
    "    x_train, x_valid = train_text_features[train_idx,:], train_text_features[valid_idx,:]\n",
    "    y_train, y_valid = train_target[train_idx], train_target[valid_idx]\n",
    "    classifier = GradientBoostingClassifier(random_state=1)\n",
    "    classifier.fit(x_train,y_train)\n",
    "   \n",
    "    oof_preds[valid_idx] = classifier.predict_proba(x_valid)[:,1]\n",
    "    test_preds += 0.2*classifier.predict_proba(test_text_features)[:,1]\n",
    "\n",
    "pred_train = (oof_preds > 0.25).astype(np.int)\n",
    "\n",
    "\n",
    "elapsed_time = time.time() - start_time\n",
    "print(str(time.strftime(\"%H:%M:%S:%m\", time.gmtime(elapsed_time))) + \"   GradientBoostingClassifier\")\n",
    "print(\"f1_score: \" +str(f1_score(train_target, pred_train)))\n",
    "f.write(str(time.strftime(\"%H:%M:%S:%m\", time.gmtime(elapsed_time))) + \"   GradientBoostingClassifier\\n\")\n",
    "f.write(\"f1_score: \" +str(f1_score(train_target, pred_train)) +\"\\n\")\n",
    "f.flush()"
   ]
  },
  {
   "cell_type": "code",
   "execution_count": null,
   "metadata": {},
   "outputs": [],
   "source": [
    "print(str(datetime.datetime.now())+ \"   end of baseline model\")\n",
    "f.write(str(datetime.datetime.now())+ \"   end of baseline model\\n\\n\")"
   ]
  },
  {
   "cell_type": "code",
   "execution_count": null,
   "metadata": {},
   "outputs": [],
   "source": [
    "f.close()"
   ]
  },
  {
   "cell_type": "code",
   "execution_count": null,
   "metadata": {},
   "outputs": [],
   "source": []
  }
 ],
 "metadata": {
  "kernelspec": {
   "display_name": "Python 3",
   "language": "python",
   "name": "python3"
  },
  "language_info": {
   "codemirror_mode": {
    "name": "ipython",
    "version": 3
   },
   "file_extension": ".py",
   "mimetype": "text/x-python",
   "name": "python",
   "nbconvert_exporter": "python",
   "pygments_lexer": "ipython3",
   "version": "3.7.1"
  }
 },
 "nbformat": 4,
 "nbformat_minor": 2
}
