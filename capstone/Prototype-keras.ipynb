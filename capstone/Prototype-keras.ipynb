{
 "cells": [
  {
   "cell_type": "markdown",
   "metadata": {
    "colab_type": "text",
    "id": "Swdr_ozWPKT9"
   },
   "source": [
    "#SUMMARY \n",
    "This Notebook contains DNN, RNN and CNN models built via Keras API. \n",
    "The first step data clean up which is similar to early submission. The actual process is not performed here, instead, the data is loaded from disk to save time.\n",
    "The second step is a DNN model using BOW approach. Due to the memory limit, only 5000 words/features are used, which means the input layer for the DNN is 5000.  The small data set (94K data points) is used to train the 256 x 128 X 1 DNN model and only run 5 epochs. \n",
    "\n",
    "The third step is RNN model using the embedding layer. embedding size is 200, again, due to memory limit.  However, 10000 words/features were accomendated.  the input is prepad/postpad to 30 tokens (results does not show much different).  Both 16x8x8 GRU and LSTM cells been tested using the same small data set in the second step.  An embedding DNN (256X128 Dense cell) also been carried out in this step.\n",
    "\n",
    "The fourth step is a CNN model using the embedding  vector.  1D CNN follows by 256x128 Dense layers. \n",
    "\n",
    "All models using the hold-out data set (261K data points)  to plot the accuracy confusion matrix and ROC.  As only 5 epochs and no hyperparameters turning, their performances are very similar."
   ]
  },
  {
   "cell_type": "markdown",
   "metadata": {
    "colab_type": "text",
    "id": "MrBgM87PWjQN"
   },
   "source": [
    "# STEP 1 :  load Data and install Lib\n",
    "\n",
    "this section utilize the similar structure as the earlier submission, a quick data clean up has been performed and the data been saved for later reclaim"
   ]
  },
  {
   "cell_type": "code",
   "execution_count": 0,
   "metadata": {
    "colab": {
     "base_uri": "https://localhost:8080/",
     "height": 119
    },
    "colab_type": "code",
    "id": "DQPc0QRm-IVp",
    "outputId": "ba255ce1-5226-4557-ba66-3e010b12c129"
   },
   "outputs": [
    {
     "name": "stdout",
     "output_type": "stream",
     "text": [
      "Requirement already satisfied: nltk in /usr/local/lib/python3.6/dist-packages (3.2.5)\n",
      "Requirement already satisfied: six in /usr/local/lib/python3.6/dist-packages (from nltk) (1.12.0)\n",
      "Requirement already satisfied: contractions in /usr/local/lib/python3.6/dist-packages (0.0.21)\n",
      "Requirement already satisfied: textsearch in /usr/local/lib/python3.6/dist-packages (0.0.17)\n",
      "Requirement already satisfied: pyahocorasick in /usr/local/lib/python3.6/dist-packages (from textsearch) (1.4.0)\n",
      "Requirement already satisfied: Unidecode in /usr/local/lib/python3.6/dist-packages (from textsearch) (1.1.1)\n"
     ]
    }
   ],
   "source": [
    "!pip install nltk\n",
    "!pip install contractions\n",
    "!pip install textsearch"
   ]
  },
  {
   "cell_type": "code",
   "execution_count": 3,
   "metadata": {
    "colab": {
     "base_uri": "https://localhost:8080/",
     "height": 122
    },
    "colab_type": "code",
    "id": "qhoRkV_V4xZP",
    "outputId": "93cb5327-1c8a-4751-869c-76e4d66af031"
   },
   "outputs": [
    {
     "name": "stdout",
     "output_type": "stream",
     "text": [
      "Go to this URL in a browser: https://accounts.google.com/o/oauth2/auth?client_id=947318989803-6bn6qk8qdgf4n4g3pfee6491hc0brc4i.apps.googleusercontent.com&redirect_uri=urn%3Aietf%3Awg%3Aoauth%3A2.0%3Aoob&scope=email%20https%3A%2F%2Fwww.googleapis.com%2Fauth%2Fdocs.test%20https%3A%2F%2Fwww.googleapis.com%2Fauth%2Fdrive%20https%3A%2F%2Fwww.googleapis.com%2Fauth%2Fdrive.photos.readonly%20https%3A%2F%2Fwww.googleapis.com%2Fauth%2Fpeopleapi.readonly&response_type=code\n",
      "\n",
      "Enter your authorization code:\n",
      "··········\n",
      "Mounted at /content/gdrive\n"
     ]
    }
   ],
   "source": [
    "from google.colab import drive\n",
    "drive.mount('/content/gdrive')"
   ]
  },
  {
   "cell_type": "code",
   "execution_count": 0,
   "metadata": {
    "colab": {
     "base_uri": "https://localhost:8080/",
     "height": 204
    },
    "colab_type": "code",
    "id": "ejJwG_Pl7Mju",
    "outputId": "d184794e-973e-4350-8cc0-3f85785f4289"
   },
   "outputs": [
    {
     "name": "stdout",
     "output_type": "stream",
     "text": [
      "[nltk_data] Downloading package punkt to /root/nltk_data...\n",
      "[nltk_data]   Unzipping tokenizers/punkt.zip.\n",
      "[nltk_data] Downloading package wordnet to /root/nltk_data...\n",
      "[nltk_data]   Unzipping corpora/wordnet.zip.\n",
      "[nltk_data] Downloading package averaged_perceptron_tagger to\n",
      "[nltk_data]     /root/nltk_data...\n",
      "[nltk_data]   Unzipping taggers/averaged_perceptron_tagger.zip.\n",
      "[nltk_data] Downloading package stopwords to /root/nltk_data...\n",
      "[nltk_data]   Unzipping corpora/stopwords.zip.\n",
      "CPU times: user 1.1 s, sys: 216 ms, total: 1.32 s\n",
      "Wall time: 2.67 s\n"
     ]
    }
   ],
   "source": [
    "%%time\n",
    "\n",
    "import contractions\n",
    "import re\n",
    "import nltk\n",
    "nltk.download('punkt')\n",
    "nltk.download('wordnet')\n",
    "nltk.download('averaged_perceptron_tagger')\n",
    "nltk.download('stopwords')\n",
    "\n",
    "from nltk.stem import PorterStemmer, WordNetLemmatizer  \n",
    "from nltk.tokenize import word_tokenize \n",
    "from nltk.corpus import  wordnet, stopwords \n",
    "from joblib import dump, load\n",
    "\n",
    "stop_words = set(stopwords.words('english'))\n",
    "\n",
    "def remove_non_ascii(text):\n",
    "    return ''.join(i for i in text if ord(i)<128)\n",
    "\n",
    "def remove_white_space(text):\n",
    "    return text.strip().strip('\\t\\n')\n",
    "\n",
    "def remove_special_character(text):\n",
    "    return re.sub('[^A-Za-z0-9\\s]+', '', text)\n",
    "\n",
    "def porter_stemmer(text): #PorterStemmer\n",
    "    ps = PorterStemmer()\n",
    "    text = ' '.join([ps.stem(word) for word in word_tokenize(text)])\n",
    "    return text\n",
    "\n",
    "def lemmatizer(text): \n",
    "    lemmatizer = WordNetLemmatizer()\n",
    "    text = ' '.join([lemmatizer.lemmatize(w, get_wordnet_pos(w)) for w in nltk.word_tokenize(text)])\n",
    "    return text\n",
    "\n",
    "def get_wordnet_pos(word):\n",
    "    \"\"\"Map POS tag to first character lemmatize() accepts\"\"\"\n",
    "    tag = nltk.pos_tag([word])[0][1][0].upper()\n",
    "    tag_dict = {\"J\": wordnet.ADJ,\n",
    "                \"N\": wordnet.NOUN,\n",
    "                \"V\": wordnet.VERB,\n",
    "                \"R\": wordnet.ADV}\n",
    "    return tag_dict.get(tag, wordnet.NOUN)\n",
    "    \n",
    "def remove_stop_word(text): \n",
    "    text = ' '.join([w for w in nltk.word_tokenize(text) if w not in stop_words])\n",
    "    return text\n"
   ]
  },
  {
   "cell_type": "code",
   "execution_count": 0,
   "metadata": {
    "colab": {},
    "colab_type": "code",
    "id": "OJVikLaOfaBw"
   },
   "outputs": [],
   "source": [
    "from sklearn.metrics import roc_auc_score, roc_curve, auc, confusion_matrix, classification_report, accuracy_score\n",
    "import seaborn as sns\n",
    "import matplotlib.pyplot as plt\n",
    "\n",
    "def report(y, predicted):\n",
    "    target_names = ['Sincere', 'Insincere']\n",
    "        \n",
    "    #classification_report \n",
    "    report = classification_report(y, predicted, target_names = target_names)\n",
    "    print(report)\n",
    "    \n",
    "    #confusion matrix\n",
    "    matrix = confusion_matrix(y, predicted)\n",
    "    fig, ax = plt.subplots(figsize = (5,5))\n",
    "    sns.heatmap(matrix, annot = True, fmt = 'd')\n",
    "    plt.ylabel('Actual')\n",
    "    plt.xlabel('Predicted')\n",
    "    plt.show()\n",
    "    \n",
    "def plot_history(history):\n",
    "    acc = history.history['acc']\n",
    "    val_acc = history.history['val_acc']\n",
    "    loss = history.history['loss']\n",
    "    val_loss = history.history['val_loss']\n",
    "    x = range(1, len(acc) + 1)\n",
    "    plt.figure(figsize=(12, 5))\n",
    "    plt.subplot(1, 2, 1)\n",
    "    plt.plot(x, acc, 'b', label='Training acc')\n",
    "    plt.plot(x, val_acc, 'r', label='Validation acc')\n",
    "    plt.title('Training and validation accuracy')\n",
    "    plt.legend()\n",
    "    plt.subplot(1, 2, 2)\n",
    "    plt.plot(x, loss, 'b', label='Training loss')\n",
    "    plt.plot(x, val_loss, 'r', label='Validation loss')\n",
    "    plt.title('Training and validation loss')\n",
    "    plt.legend()\n",
    "    plt.show()\n",
    "    \n",
    "    \n",
    "def plot_roc(y, predicted):\n",
    "    #roc curve\n",
    "    fpr, tpr, thresholds = roc_curve(y, predicted, pos_label = 1)\n",
    "    roc_auc = auc(fpr, tpr)\n",
    "    fpr1, tpr1, thresholds1 = roc_curve(y, 1- predicted, pos_label = 0)\n",
    "    roc_auc1 = auc(fpr1, tpr1)\n",
    "\n",
    "    plt.figure()\n",
    "    plt.plot(fpr, tpr, color ='blue', lw = 1, label = 'ROC curve for sincere (area = %0.2f)' % roc_auc)\n",
    "    plt.plot(fpr1, tpr1, color ='red', lw = 1, label = 'ROC curve for insincere (area = %0.2f)' % roc_auc1)\n",
    "    plt.plot([0, 1], [0, 1], color ='black', lw = 1, linestyle = '--')\n",
    "    plt.xlim([0.0, 1.0])\n",
    "    plt.ylim([0.0, 1.05])\n",
    "    plt.xlabel('False Positive Rate')\n",
    "    plt.ylabel('True Positive Rate')\n",
    "    plt.legend(loc = \"lower right\")\n",
    "    plt.show()"
   ]
  },
  {
   "cell_type": "code",
   "execution_count": 0,
   "metadata": {
    "colab": {
     "base_uri": "https://localhost:8080/",
     "height": 68
    },
    "colab_type": "code",
    "id": "dcXhweY67Da3",
    "outputId": "e916b752-c91f-4032-c8d5-7203cce5c07f"
   },
   "outputs": [
    {
     "name": "stdout",
     "output_type": "stream",
     "text": [
      "Training data set: 1306122\n",
      "CPU times: user 2.59 s, sys: 210 ms, total: 2.8 s\n",
      "Wall time: 2.88 s\n"
     ]
    }
   ],
   "source": [
    "%%time\n",
    "\n",
    "import pandas as pd\n",
    "train_path = '/content/gdrive/My Drive/data/'\n",
    "train_data = pd.read_csv(train_path+'train.csv')\n",
    "print('Training data set: ' + str(len(train_data)))"
   ]
  },
  {
   "cell_type": "code",
   "execution_count": 0,
   "metadata": {
    "colab": {
     "base_uri": "https://localhost:8080/",
     "height": 269
    },
    "colab_type": "code",
    "id": "3WqWCqSbi-t5",
    "outputId": "059ee0ec-ff50-4b14-940d-9ebe784c2e3b"
   },
   "outputs": [
    {
     "data": {
      "image/png": "[encoded data removed]",
      "text/plain": [
       "<Figure size 432x288 with 1 Axes>"
      ]
     },
     "metadata": {
      "tags": []
     },
     "output_type": "display_data"
    }
   ],
   "source": [
    "import numpy as np\n",
    "import pandas as pd\n",
    "import seaborn as sns\n",
    "import matplotlib.pyplot as plt\n",
    "\n",
    "%matplotlib inline\n",
    "\n",
    "plt.style.use('seaborn-deep')\n",
    "bins = np.linspace(0, 70, 50)\n",
    "colors = ['b','g']\n",
    "\n",
    "plt.hist([train_data['word_count'], train_data['word_count_stopword']], bins, color=colors, alpha=0.4, label=['word','word_stop'])\n",
    "plt.legend(loc='upper right')\n",
    "plt.show()"
   ]
  },
  {
   "cell_type": "code",
   "execution_count": 0,
   "metadata": {
    "colab": {
     "base_uri": "https://localhost:8080/",
     "height": 301
    },
    "colab_type": "code",
    "id": "vs7NbIVijRIm",
    "outputId": "f75a3753-fe24-4663-b904-67ae549fecf2"
   },
   "outputs": [
    {
     "data": {
      "text/plain": [
       "<matplotlib.axes._subplots.AxesSubplot at 0x7fd738913e80>"
      ]
     },
     "execution_count": 48,
     "metadata": {
      "tags": []
     },
     "output_type": "execute_result"
    },
    {
     "data": {
      "image/png": "[encoded data removed]",
      "text/plain": [
       "<Figure size 432x288 with 1 Axes>"
      ]
     },
     "metadata": {
      "tags": []
     },
     "output_type": "display_data"
    }
   ],
   "source": [
    "sns.distplot(train_data['word_count_stopword'], bins=20, kde=True, rug=True)"
   ]
  },
  {
   "cell_type": "code",
   "execution_count": 0,
   "metadata": {
    "colab": {
     "base_uri": "https://localhost:8080/",
     "height": 301
    },
    "colab_type": "code",
    "id": "f_QT2qYojUGN",
    "outputId": "4a5133d6-70eb-4b7f-ff01-3763e211b28a"
   },
   "outputs": [
    {
     "data": {
      "text/plain": [
       "<matplotlib.axes._subplots.AxesSubplot at 0x7fd6eb830a90>"
      ]
     },
     "execution_count": 49,
     "metadata": {
      "tags": []
     },
     "output_type": "execute_result"
    },
    {
     "data": {
      "image/png": "[encoded data removed]",
      "text/plain": [
       "<Figure size 432x288 with 1 Axes>"
      ]
     },
     "metadata": {
      "tags": []
     },
     "output_type": "display_data"
    }
   ],
   "source": [
    "sns.distplot(train_data['word_count'], bins=20, kde=True, rug=True)"
   ]
  },
  {
   "cell_type": "code",
   "execution_count": 0,
   "metadata": {
    "colab": {
     "base_uri": "https://localhost:8080/",
     "height": 204
    },
    "colab_type": "code",
    "id": "NzprngiJ7TrO",
    "outputId": "c0dc4164-ea99-4864-9959-76644473cb13"
   },
   "outputs": [
    {
     "name": "stdout",
     "output_type": "stream",
     "text": [
      "Training data set: 1306020\n",
      "   index                   qid  ... word_count  word_count_stopword\n",
      "0      0  00002165364db923c7e6  ...          6                   13\n",
      "1      1  000032939017120e6e44  ...          7                   16\n",
      "2      2  0000412ca6e4628ce2cf  ...          7                   10\n",
      "3      3  000042bf85aa498cd78e  ...          6                    9\n",
      "4      4  0000455dfa3e01eae3af  ...          7                   15\n",
      "\n",
      "[5 rows x 11 columns]\n",
      "CPU times: user 1h 12min 21s, sys: 2min 39s, total: 1h 15min\n",
      "Wall time: 1h 15min 7s\n"
     ]
    }
   ],
   "source": [
    "%%time\n",
    "\n",
    "train_data['origin'] = train_data['question_text']\n",
    "train_data['question_text_stopword'] = train_data['question_text'].str.normalize('NFKD')\\\n",
    ".apply(remove_non_ascii).apply(remove_white_space).apply(contractions.fix).str.lower()\\\n",
    ".apply(remove_special_character)\n",
    "train_data['question_text'] = train_data['question_text_stopword'].apply(remove_stop_word)\n",
    "\n",
    "train_data['question_text_stem'] = train_data['question_text'].apply(porter_stemmer)\n",
    "train_data['question_text_lemma'] = train_data['question_text'].apply(lemmatizer)\n",
    "train_data['question_text_lemma_stopword'] = train_data['question_text_stopword'].apply(lemmatizer)\n",
    "train_data['word_count'] = train_data['question_text'].apply(lambda x: len(str(x).split()))\n",
    "train_data['word_count_stopword'] = train_data['question_text_lemma_stopword'].apply(lambda x: len(str(x).split()))\n",
    "\n",
    "train_data = train_data.loc[(train_data.word_count > 0)]\n",
    "train_data= train_data.reset_index()\n",
    "\n",
    "print('Training data set: ' + str(len(train_data)))\n",
    "print(train_data.head())\n",
    "\n",
    "dump(train_data, train_path+'train_data.sav')"
   ]
  },
  {
   "cell_type": "markdown",
   "metadata": {
    "colab_type": "text",
    "id": "1hPq6VeOkSYf"
   },
   "source": [
    "#STEP 2 : DNN Model Using Keras API\n",
    "for DNN algorithm, using the general data to prepare data and create model"
   ]
  },
  {
   "cell_type": "markdown",
   "metadata": {
    "colab_type": "text",
    "id": "2Gb1OGtLyaL9"
   },
   "source": [
    "###STEP 2.1  Data Preparation"
   ]
  },
  {
   "cell_type": "code",
   "execution_count": 0,
   "metadata": {
    "colab": {},
    "colab_type": "code",
    "id": "k1069sHnx9YY"
   },
   "outputs": [],
   "source": [
    "%matplotlib inline\n",
    "import matplotlib.pyplot as plt\n",
    "import tensorflow as tf\n",
    "import numpy as np\n",
    "from tensorflow.python.keras.models import Sequential, model_from_json\n",
    "from tensorflow.python.keras.layers import Dense, Embedding, Dropout, Activation\n",
    "from tensorflow.python.keras import metrics\n",
    "from tensorflow.python.keras.optimizers import Adam\n",
    "from tensorflow.python.keras.preprocessing.text import Tokenizer\n",
    "\n",
    "num_words = 5000 \n",
    "# due to limit on memory, number of words and layer of DNN is limited"
   ]
  },
  {
   "cell_type": "code",
   "execution_count": 0,
   "metadata": {
    "colab": {
     "base_uri": "https://localhost:8080/",
     "height": 34
    },
    "colab_type": "code",
    "id": "K72ZTaaCx9cM",
    "outputId": "bea58c69-1b0a-45f4-ee9b-dbe6d340dbd9"
   },
   "outputs": [
    {
     "name": "stdout",
     "output_type": "stream",
     "text": [
      "Training data set: 1306020\n"
     ]
    }
   ],
   "source": [
    "from joblib import dump, load\n",
    "\n",
    "train_path = '/content/gdrive/My Drive/data/'\n",
    "train_data = load(train_path+'train_data.sav')\n",
    "print('Training data set: ' + str(len(train_data)))"
   ]
  },
  {
   "cell_type": "code",
   "execution_count": 0,
   "metadata": {
    "colab": {},
    "colab_type": "code",
    "id": "pcj25CXzx9fY"
   },
   "outputs": [],
   "source": [
    "tokenizer = Tokenizer(num_words=num_words)"
   ]
  },
  {
   "cell_type": "code",
   "execution_count": 0,
   "metadata": {
    "colab": {
     "base_uri": "https://localhost:8080/",
     "height": 51
    },
    "colab_type": "code",
    "id": "tQgo9Qt71Gqg",
    "outputId": "1b42d61e-bd17-4d7a-c645-a9523dfb7412"
   },
   "outputs": [
    {
     "name": "stdout",
     "output_type": "stream",
     "text": [
      "CPU times: user 25.8 s, sys: 60.9 ms, total: 25.9 s\n",
      "Wall time: 25.9 s\n"
     ]
    }
   ],
   "source": [
    "%%time\n",
    "tokenizer.fit_on_texts(train_data['question_text_lemma_stopword'])"
   ]
  },
  {
   "cell_type": "code",
   "execution_count": 0,
   "metadata": {
    "colab": {
     "base_uri": "https://localhost:8080/",
     "height": 34
    },
    "colab_type": "code",
    "id": "wFtZuJiQx9ia",
    "outputId": "748f0aff-42d6-48a7-e720-a35b389ea437"
   },
   "outputs": [
    {
     "data": {
      "text/plain": [
       "['/content/gdrive/My Drive/data/tokenizer_keras_dnn.sav']"
      ]
     },
     "execution_count": 5,
     "metadata": {
      "tags": []
     },
     "output_type": "execute_result"
    }
   ],
   "source": [
    "dump(tokenizer, train_path+'tokenizer_keras_dnn.sav')"
   ]
  },
  {
   "cell_type": "code",
   "execution_count": 0,
   "metadata": {
    "colab": {
     "base_uri": "https://localhost:8080/",
     "height": 51
    },
    "colab_type": "code",
    "id": "nMAuVPLPx9my",
    "outputId": "0a87207f-92c3-49f7-d1dc-73ab534c146b"
   },
   "outputs": [
    {
     "name": "stdout",
     "output_type": "stream",
     "text": [
      "CPU times: user 1.22 s, sys: 180 ms, total: 1.4 s\n",
      "Wall time: 2.42 s\n"
     ]
    }
   ],
   "source": [
    "%%time\n",
    "\n",
    "train_text = train_data['question_text_lemma_stopword']\n",
    "train_target = train_data['target']\n",
    "\n",
    "dump(train_text, train_path+'train_text_keras_dnn.sav')\n",
    "dump(train_target, train_path+'target_keras_dnn.sav')"
   ]
  },
  {
   "cell_type": "markdown",
   "metadata": {
    "colab_type": "text",
    "id": "mcl4RNFg3vJz"
   },
   "source": [
    "###STEP 2.2 DNN Model "
   ]
  },
  {
   "cell_type": "code",
   "execution_count": 2,
   "metadata": {
    "colab": {
     "base_uri": "https://localhost:8080/",
     "height": 51
    },
    "colab_type": "code",
    "id": "6MM3FVxPx9qp",
    "outputId": "d3f2562d-8adc-4ff6-d040-f8adc0c593ab"
   },
   "outputs": [
    {
     "name": "stdout",
     "output_type": "stream",
     "text": [
      "CPU times: user 3.63 s, sys: 368 ms, total: 4 s\n",
      "Wall time: 6.32 s\n"
     ]
    }
   ],
   "source": [
    "%%time\n",
    "\n",
    "from joblib import dump, load\n",
    "\n",
    "train_path = '/content/gdrive/My Drive/data/'\n",
    "train_target =load(train_path +'target_keras_dnn.sav')\n",
    "train_text = load(train_path +'train_post_pad_keras_dnn.sav')\n",
    "tokenizer = load(train_path +'tokenizer_keras_dnn.sav')"
   ]
  },
  {
   "cell_type": "code",
   "execution_count": 0,
   "metadata": {
    "colab": {
     "base_uri": "https://localhost:8080/",
     "height": 68
    },
    "colab_type": "code",
    "id": "BfDVYjufx9uU",
    "outputId": "2bd634ff-e2c8-4492-f1c8-509c78d37440"
   },
   "outputs": [
    {
     "name": "stdout",
     "output_type": "stream",
     "text": [
      "261204 104482 94034 253890 592410 1306020\n",
      "CPU times: user 2.9 s, sys: 195 ms, total: 3.1 s\n",
      "Wall time: 3.14 s\n"
     ]
    }
   ],
   "source": [
    "%%time\n",
    "\n",
    "from sklearn.model_selection import train_test_split\n",
    "\n",
    "X_train, X_hold, y_train, y_hold  = train_test_split(train_text, train_target, \n",
    "                                                     train_size = 0.8, test_size = 0.2, \n",
    "                                                     random_state = 42, stratify = train_target)\n",
    "X_train, X_test, y_train, y_test  = train_test_split(X_train, y_train, \n",
    "                                                     train_size = 0.9, test_size = 0.1,  \n",
    "                                                     random_state = 42, stratify = y_train)\n",
    "X_train, X_small, y_train, y_small  = train_test_split(X_train, y_train, \n",
    "                                                       train_size = 0.9, test_size = 0.1,  \n",
    "                                                       random_state = 42, stratify = y_train)\n",
    "X_large, X_mid, y_large, y_mid  = train_test_split(X_train, y_train, \n",
    "                                                   train_size = 0.7, test_size = 0.3,  \n",
    "                                                   random_state = 42, stratify = y_train)\n",
    "\n",
    "print(len(X_hold),len(X_test), len(X_small), len(X_mid), len(X_large), len(train_text))"
   ]
  },
  {
   "cell_type": "code",
   "execution_count": 0,
   "metadata": {
    "colab": {
     "base_uri": "https://localhost:8080/",
     "height": 34
    },
    "colab_type": "code",
    "id": "EYkuEf124J6C",
    "outputId": "bad51ab8-6258-49fd-97cf-6ff14ece95d4"
   },
   "outputs": [
    {
     "data": {
      "text/plain": [
       "['/content/gdrive/My Drive/data/y_test_keras_dnn.sav']"
      ]
     },
     "execution_count": 9,
     "metadata": {
      "tags": []
     },
     "output_type": "execute_result"
    }
   ],
   "source": [
    "X_test  = tokenizer.texts_to_matrix(X_test, mode='count')\n",
    "\n",
    "dump(X_test, train_path+'X_test_keras_dnn.sav')\n",
    "dump(y_test, train_path+'y_test_keras_dnn.sav')"
   ]
  },
  {
   "cell_type": "code",
   "execution_count": 0,
   "metadata": {
    "colab": {
     "base_uri": "https://localhost:8080/",
     "height": 34
    },
    "colab_type": "code",
    "id": "1jFqNAAm_sUx",
    "outputId": "9c1fa52d-4f0b-47ce-ebac-94796ae8b0bb"
   },
   "outputs": [
    {
     "data": {
      "text/plain": [
       "['/content/gdrive/My Drive/data/y_hold_keras_dnn.sav']"
      ]
     },
     "execution_count": 3,
     "metadata": {
      "tags": []
     },
     "output_type": "execute_result"
    }
   ],
   "source": [
    "X_hold  = tokenizer.texts_to_matrix(X_hold, mode='count')\n",
    "\n",
    "dump(X_hold, train_path+'X_hold_keras_dnn.sav')\n",
    "dump(y_hold, train_path+'y_hold_keras_dnn.sav')"
   ]
  },
  {
   "cell_type": "code",
   "execution_count": 0,
   "metadata": {
    "colab": {
     "base_uri": "https://localhost:8080/",
     "height": 34
    },
    "colab_type": "code",
    "id": "FnVAc0ze4J9Q",
    "outputId": "295b57aa-3472-4e87-9e03-509a9a406d87"
   },
   "outputs": [
    {
     "data": {
      "text/plain": [
       "['/content/gdrive/My Drive/data/y_small_keras_dnn.sav']"
      ]
     },
     "execution_count": 10,
     "metadata": {
      "tags": []
     },
     "output_type": "execute_result"
    }
   ],
   "source": [
    "X_small  = tokenizer.texts_to_matrix(X_small, mode='count')\n",
    "\n",
    "dump(X_small, train_path+'X_small_keras_dnn.sav')\n",
    "dump(y_small, train_path+'y_small_keras_dnn.sav')"
   ]
  },
  {
   "cell_type": "code",
   "execution_count": 0,
   "metadata": {
    "colab": {},
    "colab_type": "code",
    "id": "vQM3D8Uw9As9"
   },
   "outputs": [],
   "source": [
    "from joblib import dump, load\n",
    "\n",
    "train_path = '/content/gdrive/My Drive/data/'\n",
    "X_small =load(train_path +'X_small_keras_dnn.sav')\n",
    "y_small = load(train_path +'y_small_keras_dnn.sav')"
   ]
  },
  {
   "cell_type": "code",
   "execution_count": 6,
   "metadata": {
    "colab": {
     "base_uri": "https://localhost:8080/",
     "height": 156
    },
    "colab_type": "code",
    "id": "Yzv69TfjG29z",
    "outputId": "2bc06891-1220-4cca-bc19-41e1f26d244a"
   },
   "outputs": [
    {
     "name": "stderr",
     "output_type": "stream",
     "text": [
      "WARNING: Logging before flag parsing goes to stderr.\n",
      "W0712 21:22:13.256209 140585913603968 deprecation.py:506] From /usr/local/lib/python3.6/dist-packages/tensorflow/python/ops/init_ops.py:1251: calling VarianceScaling.__init__ (from tensorflow.python.ops.init_ops) with dtype is deprecated and will be removed in a future version.\n",
      "Instructions for updating:\n",
      "Call initializer instance with the dtype argument instead of passing it to the constructor\n",
      "W0712 21:22:13.524844 140585913603968 deprecation.py:323] From /usr/local/lib/python3.6/dist-packages/tensorflow/python/ops/nn_impl.py:180: add_dispatch_support.<locals>.wrapper (from tensorflow.python.ops.array_ops) is deprecated and will be removed in a future version.\n",
      "Instructions for updating:\n",
      "Use tf.where in 2.0, which has the same broadcast rule as np.where\n"
     ]
    }
   ],
   "source": [
    "model = Sequential()\n",
    "optimizer = Adam(lr=1e-3)\n",
    "model.add(Dense(256, input_shape=(num_words,)))\n",
    "model.add(Activation('relu'))\n",
    "model.add(Dropout(0.5))\n",
    "model.add(Dense(128))\n",
    "model.add(Activation('relu'))\n",
    "model.add(Dropout(0.5))\n",
    "model.add(Dense(1, activation='sigmoid'))\n",
    "model.compile(loss='binary_crossentropy', optimizer=optimizer, metrics=['AUC', 'accuracy'])"
   ]
  },
  {
   "cell_type": "code",
   "execution_count": 7,
   "metadata": {
    "colab": {
     "base_uri": "https://localhost:8080/",
     "height": 391
    },
    "colab_type": "code",
    "id": "7IHF15jb4KDv",
    "outputId": "90abe164-79ad-47be-973b-18499c90ac58"
   },
   "outputs": [
    {
     "name": "stdout",
     "output_type": "stream",
     "text": [
      "Model: \"sequential\"\n",
      "_________________________________________________________________\n",
      "Layer (type)                 Output Shape              Param #   \n",
      "=================================================================\n",
      "dense (Dense)                (None, 256)               1280256   \n",
      "_________________________________________________________________\n",
      "activation (Activation)      (None, 256)               0         \n",
      "_________________________________________________________________\n",
      "dropout (Dropout)            (None, 256)               0         \n",
      "_________________________________________________________________\n",
      "dense_1 (Dense)              (None, 128)               32896     \n",
      "_________________________________________________________________\n",
      "activation_1 (Activation)    (None, 128)               0         \n",
      "_________________________________________________________________\n",
      "dropout_1 (Dropout)          (None, 128)               0         \n",
      "_________________________________________________________________\n",
      "dense_2 (Dense)              (None, 1)                 129       \n",
      "=================================================================\n",
      "Total params: 1,313,281\n",
      "Trainable params: 1,313,281\n",
      "Non-trainable params: 0\n",
      "_________________________________________________________________\n"
     ]
    }
   ],
   "source": [
    "model.summary()"
   ]
  },
  {
   "cell_type": "code",
   "execution_count": 8,
   "metadata": {
    "colab": {
     "base_uri": "https://localhost:8080/",
     "height": 258
    },
    "colab_type": "code",
    "id": "WSHZKM5X8zpp",
    "outputId": "23919826-87bc-474d-ebe9-b9c8316cc5d6"
   },
   "outputs": [
    {
     "name": "stdout",
     "output_type": "stream",
     "text": [
      "Train on 84630 samples, validate on 9404 samples\n",
      "Epoch 1/5\n",
      "84630/84630 [==============================] - 4s 53us/sample - loss: 0.2007 - auc: 0.8091 - acc: 0.9365 - val_loss: 0.1482 - val_auc: 0.9139 - val_acc: 0.9387\n",
      "Epoch 2/5\n",
      "84630/84630 [==============================] - 4s 42us/sample - loss: 0.1321 - auc: 0.9314 - acc: 0.9476 - val_loss: 0.1419 - val_auc: 0.9160 - val_acc: 0.9478\n",
      "Epoch 3/5\n",
      "84630/84630 [==============================] - 4s 43us/sample - loss: 0.1139 - auc: 0.9518 - acc: 0.9556 - val_loss: 0.1428 - val_auc: 0.9131 - val_acc: 0.9477\n",
      "Epoch 4/5\n",
      "84630/84630 [==============================] - 4s 42us/sample - loss: 0.0978 - auc: 0.9643 - acc: 0.9632 - val_loss: 0.1491 - val_auc: 0.9108 - val_acc: 0.9469\n",
      "Epoch 5/5\n",
      "84630/84630 [==============================] - 4s 43us/sample - loss: 0.0812 - auc: 0.9739 - acc: 0.9703 - val_loss: 0.1588 - val_auc: 0.9022 - val_acc: 0.9470\n",
      "CPU times: user 19.2 s, sys: 2.16 s, total: 21.3 s\n",
      "Wall time: 22.6 s\n"
     ]
    }
   ],
   "source": [
    "%%time\n",
    "history =  model.fit(X_small, y_small, validation_split=0.1, epochs=5, batch_size=500)\n"
   ]
  },
  {
   "cell_type": "code",
   "execution_count": 11,
   "metadata": {
    "colab": {
     "base_uri": "https://localhost:8080/",
     "height": 336
    },
    "colab_type": "code",
    "id": "8kHkC9SkvwIx",
    "outputId": "91458609-05e7-4234-ffa6-7766a7954996"
   },
   "outputs": [
    {
     "data": {
      "image/png": "[encoded data removed]",
      "text/plain": [
       "<Figure size 864x360 with 2 Axes>"
      ]
     },
     "metadata": {
      "tags": []
     },
     "output_type": "display_data"
    }
   ],
   "source": [
    "plot_history(history)"
   ]
  },
  {
   "cell_type": "code",
   "execution_count": 0,
   "metadata": {
    "colab": {},
    "colab_type": "code",
    "id": "mkvewCg58zy8"
   },
   "outputs": [],
   "source": [
    "file = '/content/gdrive/My Drive/data/model_keras_dnn.h5'\n",
    "model.save(file)"
   ]
  },
  {
   "cell_type": "code",
   "execution_count": 14,
   "metadata": {
    "colab": {
     "base_uri": "https://localhost:8080/",
     "height": 34
    },
    "colab_type": "code",
    "id": "9tWeZ4vLEYw_",
    "outputId": "f4745850-48d2-4b08-c949-b87cec1bb056"
   },
   "outputs": [
    {
     "name": "stdout",
     "output_type": "stream",
     "text": [
      "Saved model to disk\n"
     ]
    }
   ],
   "source": [
    "# serialize model to JSON\n",
    "model_json = model.to_json()\n",
    "with open(\"model.json\", \"w\") as json_file:\n",
    "    json_file.write(model_json)\n",
    "# serialize weights to HDF5\n",
    "model.save_weights(\"model.h5\")\n",
    "print(\"Saved model to disk\")"
   ]
  },
  {
   "cell_type": "code",
   "execution_count": 3,
   "metadata": {
    "colab": {
     "base_uri": "https://localhost:8080/",
     "height": 224
    },
    "colab_type": "code",
    "id": "iT041zbsEzom",
    "outputId": "9ac9ffe9-529a-4b55-8ccf-d00aafa6b81c"
   },
   "outputs": [
    {
     "name": "stderr",
     "output_type": "stream",
     "text": [
      "WARNING: Logging before flag parsing goes to stderr.\n",
      "W0712 21:29:06.524646 140058436462464 deprecation.py:506] From /usr/local/lib/python3.6/dist-packages/tensorflow/python/ops/init_ops.py:97: calling GlorotUniform.__init__ (from tensorflow.python.ops.init_ops) with dtype is deprecated and will be removed in a future version.\n",
      "Instructions for updating:\n",
      "Call initializer instance with the dtype argument instead of passing it to the constructor\n",
      "W0712 21:29:06.526243 140058436462464 deprecation.py:506] From /usr/local/lib/python3.6/dist-packages/tensorflow/python/ops/init_ops.py:1251: calling VarianceScaling.__init__ (from tensorflow.python.ops.init_ops) with dtype is deprecated and will be removed in a future version.\n",
      "Instructions for updating:\n",
      "Call initializer instance with the dtype argument instead of passing it to the constructor\n",
      "W0712 21:29:06.531107 140058436462464 deprecation.py:506] From /usr/local/lib/python3.6/dist-packages/tensorflow/python/ops/init_ops.py:97: calling Zeros.__init__ (from tensorflow.python.ops.init_ops) with dtype is deprecated and will be removed in a future version.\n",
      "Instructions for updating:\n",
      "Call initializer instance with the dtype argument instead of passing it to the constructor\n"
     ]
    },
    {
     "name": "stdout",
     "output_type": "stream",
     "text": [
      "Loaded model from disk\n"
     ]
    }
   ],
   "source": [
    "json_file = open('model.json', 'r')\n",
    "loaded_model_json = json_file.read()\n",
    "json_file.close()\n",
    "loaded_model = model_from_json(loaded_model_json)\n",
    "# load weights into new model\n",
    "loaded_model.load_weights(\"model.h5\")\n",
    "print(\"Loaded model from disk\")"
   ]
  },
  {
   "cell_type": "code",
   "execution_count": 4,
   "metadata": {
    "colab": {
     "base_uri": "https://localhost:8080/",
     "height": 88
    },
    "colab_type": "code",
    "id": "No1Xpy-2A7o2",
    "outputId": "6ddb90c4-edee-454d-d353-44623f820a5b"
   },
   "outputs": [
    {
     "name": "stderr",
     "output_type": "stream",
     "text": [
      "W0712 21:29:11.508565 140058436462464 deprecation.py:323] From /usr/local/lib/python3.6/dist-packages/tensorflow/python/ops/nn_impl.py:180: add_dispatch_support.<locals>.wrapper (from tensorflow.python.ops.array_ops) is deprecated and will be removed in a future version.\n",
      "Instructions for updating:\n",
      "Use tf.where in 2.0, which has the same broadcast rule as np.where\n"
     ]
    }
   ],
   "source": [
    "optimizer = Adam(lr=1e-3)\n",
    "loaded_model.compile(loss='binary_crossentropy', optimizer=optimizer, metrics=['AUC', 'accuracy'])"
   ]
  },
  {
   "cell_type": "code",
   "execution_count": 0,
   "metadata": {
    "colab": {},
    "colab_type": "code",
    "id": "BFzsYA138z-l"
   },
   "outputs": [],
   "source": [
    "from joblib import dump, load\n",
    "\n",
    "train_path = '/content/gdrive/My Drive/data/'\n",
    "X_hold =load(train_path +'X_hold_keras_dnn.sav')\n",
    "y_hold = load(train_path +'y_hold_keras_dnn.sav')"
   ]
  },
  {
   "cell_type": "code",
   "execution_count": 6,
   "metadata": {
    "colab": {
     "base_uri": "https://localhost:8080/",
     "height": 68
    },
    "colab_type": "code",
    "id": "futXDNgt8z7_",
    "outputId": "517ed4be-fc31-485b-91c9-e5908db36f24"
   },
   "outputs": [
    {
     "name": "stdout",
     "output_type": "stream",
     "text": [
      "261204/261204 [==============================] - 23s 88us/sample - loss: 0.1581 - auc: 0.9040 - acc: 0.9487\n",
      "CPU times: user 27.2 s, sys: 2.37 s, total: 29.5 s\n",
      "Wall time: 23.2 s\n"
     ]
    }
   ],
   "source": [
    "%%time\n",
    "result = loaded_model.evaluate(X_hold, y_hold)"
   ]
  },
  {
   "cell_type": "code",
   "execution_count": 7,
   "metadata": {
    "colab": {
     "base_uri": "https://localhost:8080/",
     "height": 51
    },
    "colab_type": "code",
    "id": "xDtVZyIav6mM",
    "outputId": "e78a125d-ff07-4230-cce4-1c81fe74ee6c"
   },
   "outputs": [
    {
     "name": "stdout",
     "output_type": "stream",
     "text": [
      "Accuracy: 94.87%\n",
      "AUC: 90.40%, \n"
     ]
    }
   ],
   "source": [
    "print(\"Accuracy: {0:.2%}\".format(result[2]))\n",
    "print(\"AUC: {0:.2%}, \".format(result[1]))"
   ]
  },
  {
   "cell_type": "code",
   "execution_count": 0,
   "metadata": {
    "colab": {},
    "colab_type": "code",
    "id": "6Q43zcJIvi4m"
   },
   "outputs": [],
   "source": [
    "predicted = loaded_model.predict(X_hold)\n",
    "predicted = predicted.T[0]\n",
    "cls_pred = np.array([1.0 if p>0.5 else 0.0 for p in predicted])"
   ]
  },
  {
   "cell_type": "code",
   "execution_count": 10,
   "metadata": {
    "colab": {
     "base_uri": "https://localhost:8080/",
     "height": 756
    },
    "colab_type": "code",
    "id": "3HfHbd_v8zvj",
    "outputId": "aa992d2f-2340-4bac-8b76-4b6429adadfe"
   },
   "outputs": [
    {
     "name": "stdout",
     "output_type": "stream",
     "text": [
      "              precision    recall  f1-score   support\n",
      "\n",
      "     Sincere       0.96      0.98      0.97    245044\n",
      "   Insincere       0.62      0.43      0.51     16160\n",
      "\n",
      "    accuracy                           0.95    261204\n",
      "   macro avg       0.79      0.71      0.74    261204\n",
      "weighted avg       0.94      0.95      0.94    261204\n",
      "\n"
     ]
    },
    {
     "data": {
      "image/png": "[encoded data removed]",
      "text/plain": [
       "<Figure size 360x360 with 2 Axes>"
      ]
     },
     "metadata": {
      "tags": []
     },
     "output_type": "display_data"
    },
    {
     "data": {
      "image/png": "[encoded data removed]",
      "text/plain": [
       "<Figure size 432x288 with 1 Axes>"
      ]
     },
     "metadata": {
      "tags": []
     },
     "output_type": "display_data"
    }
   ],
   "source": [
    "report(y_hold, cls_pred)\n",
    "plot_roc(y_hold, predicted)\n"
   ]
  },
  {
   "cell_type": "code",
   "execution_count": 0,
   "metadata": {
    "colab": {},
    "colab_type": "code",
    "id": "53NS6T7z8zsv"
   },
   "outputs": [],
   "source": []
  },
  {
   "cell_type": "markdown",
   "metadata": {
    "colab_type": "text",
    "id": "CP74DOJQYHn5"
   },
   "source": [
    "#STEP 3 : RNN (LSTM) Model Using Keras API\n",
    "for RNN algorithm, using the general data to prepare data and create model"
   ]
  },
  {
   "cell_type": "markdown",
   "metadata": {
    "colab_type": "text",
    "id": "J5I80f_KbTue"
   },
   "source": [
    "###STEP 3.1  Data Preparation"
   ]
  },
  {
   "cell_type": "code",
   "execution_count": 0,
   "metadata": {
    "colab": {},
    "colab_type": "code",
    "id": "mcmg0w6LurYr"
   },
   "outputs": [],
   "source": [
    "%matplotlib inline\n",
    "import matplotlib.pyplot as plt\n",
    "import tensorflow as tf\n",
    "import numpy as np\n",
    "from tensorflow.python.keras.models import Sequential\n",
    "from tensorflow.python.keras.layers import Dense, GRU, Embedding\n",
    "from tensorflow.python.keras import metrics\n",
    "from tensorflow.python.keras.optimizers import Adam\n",
    "from tensorflow.python.keras.preprocessing.text import Tokenizer\n",
    "from tensorflow.python.keras.preprocessing.sequence import pad_sequences"
   ]
  },
  {
   "cell_type": "code",
   "execution_count": 0,
   "metadata": {
    "colab": {
     "base_uri": "https://localhost:8080/",
     "height": 34
    },
    "colab_type": "code",
    "id": "ainkf-IIQHKn",
    "outputId": "e28e0494-fcc2-4556-bd61-ba0c096a9949"
   },
   "outputs": [
    {
     "name": "stdout",
     "output_type": "stream",
     "text": [
      "Training data set: 1306020\n"
     ]
    }
   ],
   "source": [
    "from joblib import dump, load\n",
    "\n",
    "train_path = '/content/gdrive/My Drive/data/'\n",
    "train_data = load(train_path+'train_data.sav')\n",
    "print('Training data set: ' + str(len(train_data)))"
   ]
  },
  {
   "cell_type": "code",
   "execution_count": 0,
   "metadata": {
    "colab": {},
    "colab_type": "code",
    "id": "bmeS4ltRy8i_"
   },
   "outputs": [],
   "source": [
    "num_words = 10000\n",
    "max_tokens = 30\n",
    "tokenizer = Tokenizer(num_words=num_words)"
   ]
  },
  {
   "cell_type": "code",
   "execution_count": 0,
   "metadata": {
    "colab": {
     "base_uri": "https://localhost:8080/",
     "height": 51
    },
    "colab_type": "code",
    "id": "HoK_ayXZ4bCd",
    "outputId": "6cde430b-4e6b-4169-8715-b58221798318"
   },
   "outputs": [
    {
     "name": "stdout",
     "output_type": "stream",
     "text": [
      "CPU times: user 26.4 s, sys: 39.8 ms, total: 26.4 s\n",
      "Wall time: 26.5 s\n"
     ]
    }
   ],
   "source": [
    "%%time\n",
    "tokenizer.fit_on_texts(train_data['question_text_lemma_stopword'])"
   ]
  },
  {
   "cell_type": "code",
   "execution_count": 0,
   "metadata": {
    "colab": {
     "base_uri": "https://localhost:8080/",
     "height": 34
    },
    "colab_type": "code",
    "id": "hgLYuEcoy8sA",
    "outputId": "584b7cb9-c993-44b1-cace-c97372e794d7"
   },
   "outputs": [
    {
     "data": {
      "text/plain": [
       "225357"
      ]
     },
     "execution_count": 76,
     "metadata": {
      "tags": []
     },
     "output_type": "execute_result"
    }
   ],
   "source": [
    "len(tokenizer.word_index)"
   ]
  },
  {
   "cell_type": "code",
   "execution_count": 0,
   "metadata": {
    "colab": {},
    "colab_type": "code",
    "id": "QqtwMikZ5xGk"
   },
   "outputs": [],
   "source": [
    "train_data['question_text_tokens'] = tokenizer.texts_to_sequences(train_data['question_text_lemma_stopword'])"
   ]
  },
  {
   "cell_type": "code",
   "execution_count": 0,
   "metadata": {
    "colab": {},
    "colab_type": "code",
    "id": "LII1Kocby8f1"
   },
   "outputs": [],
   "source": [
    "num_tokens = [len(tokens) for tokens in train_data['question_text_tokens']]\n",
    "num_tokens = np.array(num_tokens)\n"
   ]
  },
  {
   "cell_type": "code",
   "execution_count": 0,
   "metadata": {
    "colab": {
     "base_uri": "https://localhost:8080/",
     "height": 34
    },
    "colab_type": "code",
    "id": "i_zAfbw2CF3L",
    "outputId": "bf307f66-6819-423e-c961-91ae7e3c7fb9"
   },
   "outputs": [
    {
     "data": {
      "text/plain": [
       "0.9669423132876985"
      ]
     },
     "execution_count": 80,
     "metadata": {
      "tags": []
     },
     "output_type": "execute_result"
    }
   ],
   "source": [
    "np.sum(num_tokens < max_tokens) / len(num_tokens)"
   ]
  },
  {
   "cell_type": "code",
   "execution_count": 0,
   "metadata": {
    "colab": {},
    "colab_type": "code",
    "id": "OwBaNo9JC4XL"
   },
   "outputs": [],
   "source": [
    "pad = 'pre'"
   ]
  },
  {
   "cell_type": "code",
   "execution_count": 0,
   "metadata": {
    "colab": {
     "base_uri": "https://localhost:8080/",
     "height": 51
    },
    "colab_type": "code",
    "id": "BAcsz_Q5C4aH",
    "outputId": "c47ee419-c9e3-4fef-a5c1-b31922598e3f"
   },
   "outputs": [
    {
     "name": "stdout",
     "output_type": "stream",
     "text": [
      "CPU times: user 9.81 s, sys: 350 ms, total: 10.2 s\n",
      "Wall time: 10.2 s\n"
     ]
    }
   ],
   "source": [
    "%%time\n",
    "train_data['train_tokens_pre_pad'] = pad_sequences(train_data['question_text_tokens'], maxlen=max_tokens, padding=pad, truncating=pad).tolist()"
   ]
  },
  {
   "cell_type": "code",
   "execution_count": 0,
   "metadata": {
    "colab": {},
    "colab_type": "code",
    "id": "TtXo2zJDC4dE"
   },
   "outputs": [],
   "source": [
    "pad = 'post'"
   ]
  },
  {
   "cell_type": "code",
   "execution_count": 0,
   "metadata": {
    "colab": {
     "base_uri": "https://localhost:8080/",
     "height": 51
    },
    "colab_type": "code",
    "id": "maUXCSYfC4gA",
    "outputId": "ad6ae6e3-c956-4acb-f010-506389d9e353"
   },
   "outputs": [
    {
     "name": "stdout",
     "output_type": "stream",
     "text": [
      "CPU times: user 8.79 s, sys: 337 ms, total: 9.13 s\n",
      "Wall time: 9.13 s\n"
     ]
    }
   ],
   "source": [
    "%%time\n",
    "train_data['train_tokens_post_pad'] = pad_sequences(train_data['question_text_tokens'], maxlen=max_tokens, padding=pad, truncating=pad).tolist()"
   ]
  },
  {
   "cell_type": "code",
   "execution_count": 0,
   "metadata": {
    "colab": {
     "base_uri": "https://localhost:8080/",
     "height": 51
    },
    "colab_type": "code",
    "id": "DzqHGJTlC4sb",
    "outputId": "f693d44b-ea6f-4fff-a0a1-1c3ba9a39e6d"
   },
   "outputs": [
    {
     "name": "stdout",
     "output_type": "stream",
     "text": [
      "CPU times: user 26.5 s, sys: 3.06 s, total: 29.6 s\n",
      "Wall time: 36.9 s\n"
     ]
    }
   ],
   "source": [
    "%%time\n",
    "\n",
    "from joblib import dump, load\n",
    "\n",
    "dump(train_data, train_path+'train_data_with_token.sav')\n",
    "dump(tokenizer, train_path+'tokenizer_keras.sav')"
   ]
  },
  {
   "cell_type": "code",
   "execution_count": 0,
   "metadata": {
    "colab": {
     "base_uri": "https://localhost:8080/",
     "height": 51
    },
    "colab_type": "code",
    "id": "UNp9XyDuQYgk",
    "outputId": "25e2c04d-dd87-499d-84db-88d6b2c99305"
   },
   "outputs": [
    {
     "name": "stdout",
     "output_type": "stream",
     "text": [
      "CPU times: user 6.56 s, sys: 371 ms, total: 6.93 s\n",
      "Wall time: 8.8 s\n"
     ]
    }
   ],
   "source": [
    "%%time\n",
    "\n",
    "train_post_pad = train_data['train_tokens_post_pad']\n",
    "train_pre_pad = train_data['train_tokens_pre_pad']\n",
    "train_target = train_data['target']\n",
    "\n",
    "dump(train_post_pad, train_path+'train_post_pad_keras.sav')\n",
    "dump(train_pre_pad, train_path+'train_pre_pad_keras.sav')\n",
    "dump(train_target, train_path+'target_keras.sav')"
   ]
  },
  {
   "cell_type": "code",
   "execution_count": 0,
   "metadata": {
    "colab": {},
    "colab_type": "code",
    "id": "qETeVVrsC4vL"
   },
   "outputs": [],
   "source": [
    "idx = tokenizer.word_index\n",
    "inverse_map = dict(zip(idx.values(), idx.keys()))\n",
    "\n",
    "def tokens_to_string(tokens):\n",
    "    # Map from tokens back to words.\n",
    "    words = [inverse_map[token] for token in tokens if token != 0]\n",
    "    # Concatenate all words.\n",
    "    text = \" \".join(words)\n",
    "    return text"
   ]
  },
  {
   "cell_type": "code",
   "execution_count": 0,
   "metadata": {
    "colab": {
     "base_uri": "https://localhost:8080/",
     "height": 136
    },
    "colab_type": "code",
    "id": "lpzrNRnkC4yz",
    "outputId": "25746155-e737-4dd5-b290-62a94f820687"
   },
   "outputs": [
    {
     "name": "stdout",
     "output_type": "stream",
     "text": [
      "Do you have an adopted dog, how would you encourage people to adopt and not shop?\n",
      "do you have an adopt dog how would you encourage people to adopt and not shop\n",
      "[5, 13, 17, 28, 1660, 306, 10, 31, 13, 2474, 34, 6, 1660, 11, 20, 1360]\n",
      "[0, 0, 0, 0, 0, 0, 0, 0, 0, 0, 0, 0, 0, 0, 5, 13, 17, 28, 1660, 306, 10, 31, 13, 2474, 34, 6, 1660, 11, 20, 1360]\n",
      "[5, 13, 17, 28, 1660, 306, 10, 31, 13, 2474, 34, 6, 1660, 11, 20, 1360, 0, 0, 0, 0, 0, 0, 0, 0, 0, 0, 0, 0, 0, 0]\n",
      "do you have an adopt dog how would you encourage people to adopt and not shop\n",
      "do you have an adopt dog how would you encourage people to adopt and not shop\n"
     ]
    }
   ],
   "source": [
    "print(train_data['origin'][1])\n",
    "print(train_data['question_text_lemma_stopword'][1])\n",
    "print(train_data['question_text_tokens'][1])\n",
    "print(train_data['train_tokens_pre_pad'][1])\n",
    "print(train_data['train_tokens_post_pad'][1])\n",
    "print(tokens_to_string(train_data['train_tokens_pre_pad'][1]))\n",
    "print(tokens_to_string(train_data['train_tokens_post_pad'][1]))"
   ]
  },
  {
   "cell_type": "markdown",
   "metadata": {
    "colab_type": "text",
    "id": "9dWtJQycb10g"
   },
   "source": [
    "###STEP 3.2  RNN Model (pre padding and post padding)"
   ]
  },
  {
   "cell_type": "code",
   "execution_count": 70,
   "metadata": {
    "colab": {
     "base_uri": "https://localhost:8080/",
     "height": 51
    },
    "colab_type": "code",
    "id": "9-fyr9Bljb1M",
    "outputId": "13545bf0-fa40-42bc-971c-e5169d790beb"
   },
   "outputs": [
    {
     "name": "stdout",
     "output_type": "stream",
     "text": [
      "CPU times: user 6.25 s, sys: 607 ms, total: 6.86 s\n",
      "Wall time: 6.89 s\n"
     ]
    }
   ],
   "source": [
    "%%time\n",
    "\n",
    "from joblib import dump, load\n",
    "\n",
    "train_path = '/content/gdrive/My Drive/data/'\n",
    "train_target =load(train_path +'target_keras.sav')\n",
    "train_text = load(train_path +'train_post_pad_keras.sav')\n",
    "#train_text = load(train_path + 'train_pre_pad_keras.sav')"
   ]
  },
  {
   "cell_type": "code",
   "execution_count": 71,
   "metadata": {
    "colab": {
     "base_uri": "https://localhost:8080/",
     "height": 68
    },
    "colab_type": "code",
    "id": "d6RFe-AOjlx9",
    "outputId": "c71253f7-1832-455a-be5a-e7495c665d07"
   },
   "outputs": [
    {
     "name": "stdout",
     "output_type": "stream",
     "text": [
      "261204 104482 94034 253890 592410 1306020\n",
      "CPU times: user 3.27 s, sys: 61.7 ms, total: 3.33 s\n",
      "Wall time: 3.33 s\n"
     ]
    }
   ],
   "source": [
    "%%time\n",
    "\n",
    "from sklearn.model_selection import train_test_split\n",
    "\n",
    "X_train, X_hold, y_train, y_hold  = train_test_split(train_text, train_target, \n",
    "                                                     train_size = 0.8, test_size = 0.2, \n",
    "                                                     random_state = 42, stratify = train_target)\n",
    "X_train, X_test, y_train, y_test  = train_test_split(X_train, y_train, \n",
    "                                                     train_size = 0.9, test_size = 0.1,  \n",
    "                                                     random_state = 42, stratify = y_train)\n",
    "X_train, X_small, y_train, y_small  = train_test_split(X_train, y_train, \n",
    "                                                       train_size = 0.9, test_size = 0.1,  \n",
    "                                                       random_state = 42, stratify = y_train)\n",
    "X_large, X_mid, y_large, y_mid  = train_test_split(X_train, y_train, \n",
    "                                                   train_size = 0.7, test_size = 0.3,  \n",
    "                                                   random_state = 42, stratify = y_train)\n",
    "\n",
    "print(len(X_hold),len(X_test), len(X_small), len(X_mid), len(X_large), len(train_text))"
   ]
  },
  {
   "cell_type": "code",
   "execution_count": 0,
   "metadata": {
    "colab": {},
    "colab_type": "code",
    "id": "suazaLcHRbMX"
   },
   "outputs": [],
   "source": [
    "embedding_size = 200\n",
    "num_words = 10000\n",
    "max_tokens = 30"
   ]
  },
  {
   "cell_type": "code",
   "execution_count": 0,
   "metadata": {
    "colab": {},
    "colab_type": "code",
    "id": "Y982HmTnRbJT"
   },
   "outputs": [],
   "source": [
    "model = Sequential()\n",
    "optimizer = Adam(lr=1e-3)"
   ]
  },
  {
   "cell_type": "code",
   "execution_count": 0,
   "metadata": {
    "colab": {},
    "colab_type": "code",
    "id": "oJS8tZ3-RbPn"
   },
   "outputs": [],
   "source": [
    "model.add(Embedding(input_dim=num_words, output_dim=embedding_size, input_length=max_tokens, name='layer_embedding'))\n",
    "model.add(GRU(units=16, return_sequences=True))\n",
    "model.add(GRU(units=8, return_sequences=True))\n",
    "model.add(GRU(units=8, return_sequences=True))\n",
    "model.add(GRU(units=4))\n",
    "model.add(Dense(1, activation='sigmoid'))\n",
    "model.compile(loss='binary_crossentropy', optimizer=optimizer, metrics=['AUC', 'accuracy'])"
   ]
  },
  {
   "cell_type": "code",
   "execution_count": 75,
   "metadata": {
    "colab": {
     "base_uri": "https://localhost:8080/",
     "height": 357
    },
    "colab_type": "code",
    "id": "arEAT0pbSYtA",
    "outputId": "549a288d-2d04-42b4-a678-21ed99c789ba"
   },
   "outputs": [
    {
     "name": "stdout",
     "output_type": "stream",
     "text": [
      "Model: \"sequential_8\"\n",
      "_________________________________________________________________\n",
      "Layer (type)                 Output Shape              Param #   \n",
      "=================================================================\n",
      "layer_embedding (Embedding)  (None, 30, 200)           2000000   \n",
      "_________________________________________________________________\n",
      "gru_8 (GRU)                  (None, 30, 16)            10416     \n",
      "_________________________________________________________________\n",
      "gru_9 (GRU)                  (None, 30, 8)             600       \n",
      "_________________________________________________________________\n",
      "gru_10 (GRU)                 (None, 30, 8)             408       \n",
      "_________________________________________________________________\n",
      "gru_11 (GRU)                 (None, 4)                 156       \n",
      "_________________________________________________________________\n",
      "dense_13 (Dense)             (None, 1)                 5         \n",
      "=================================================================\n",
      "Total params: 2,011,585\n",
      "Trainable params: 2,011,585\n",
      "Non-trainable params: 0\n",
      "_________________________________________________________________\n"
     ]
    }
   ],
   "source": [
    "model.summary()"
   ]
  },
  {
   "cell_type": "code",
   "execution_count": 76,
   "metadata": {
    "colab": {
     "base_uri": "https://localhost:8080/",
     "height": 258
    },
    "colab_type": "code",
    "id": "pQVi8IaPSYwE",
    "outputId": "2ebee5e2-181f-4fb0-cad3-51a20de83987"
   },
   "outputs": [
    {
     "name": "stdout",
     "output_type": "stream",
     "text": [
      "Train on 94034 samples, validate on 104482 samples\n",
      "Epoch 1/5\n",
      "94034/94034 [==============================] - 48s 506us/sample - loss: 0.2617 - auc_10: 0.5966 - acc: 0.9339 - val_loss: 0.2118 - val_auc_10: 0.8627 - val_acc: 0.9401\n",
      "Epoch 2/5\n",
      "94034/94034 [==============================] - 45s 481us/sample - loss: 0.1683 - auc_10: 0.8753 - acc: 0.9468 - val_loss: 0.1577 - val_auc_10: 0.8990 - val_acc: 0.9471\n",
      "Epoch 3/5\n",
      "94034/94034 [==============================] - 45s 477us/sample - loss: 0.1320 - auc_10: 0.9174 - acc: 0.9564 - val_loss: 0.1445 - val_auc_10: 0.8967 - val_acc: 0.9497\n",
      "Epoch 4/5\n",
      "94034/94034 [==============================] - 45s 476us/sample - loss: 0.1116 - auc_10: 0.9302 - acc: 0.9629 - val_loss: 0.1455 - val_auc_10: 0.9074 - val_acc: 0.9461\n",
      "Epoch 5/5\n",
      "94034/94034 [==============================] - 45s 477us/sample - loss: 0.0965 - auc_10: 0.9392 - acc: 0.9695 - val_loss: 0.1554 - val_auc_10: 0.8984 - val_acc: 0.9463\n",
      "CPU times: user 5min 27s, sys: 19.4 s, total: 5min 47s\n",
      "Wall time: 3min 54s\n"
     ]
    }
   ],
   "source": [
    "%%time\n",
    "history = model.fit(np.array(X_small.tolist()), y_small, validation_data=(np.array(X_test.tolist()),y_test), epochs=5, batch_size=500)\n"
   ]
  },
  {
   "cell_type": "code",
   "execution_count": 77,
   "metadata": {
    "colab": {
     "base_uri": "https://localhost:8080/",
     "height": 68
    },
    "colab_type": "code",
    "id": "SmZshRNWTwuu",
    "outputId": "96d2bd20-8b0e-4a94-84c5-90180b8a67dd"
   },
   "outputs": [
    {
     "name": "stdout",
     "output_type": "stream",
     "text": [
      "261204/261204 [==============================] - 580s 2ms/sample - loss: 0.1544 - auc_10: 0.8986 - acc: 0.9465\n",
      "CPU times: user 13min 57s, sys: 1min 4s, total: 15min 2s\n",
      "Wall time: 9min 41s\n"
     ]
    }
   ],
   "source": [
    "%%time\n",
    "result = model.evaluate(np.array(X_hold.tolist()), y_hold)"
   ]
  },
  {
   "cell_type": "code",
   "execution_count": 78,
   "metadata": {
    "colab": {
     "base_uri": "https://localhost:8080/",
     "height": 51
    },
    "colab_type": "code",
    "id": "1BSediYvib2y",
    "outputId": "b43bd619-cfdf-415a-b0af-fa20ca061909"
   },
   "outputs": [
    {
     "name": "stdout",
     "output_type": "stream",
     "text": [
      "CPU times: user 13min 25s, sys: 51 s, total: 14min 16s\n",
      "Wall time: 8min 32s\n"
     ]
    }
   ],
   "source": [
    "%%time\n",
    "\n",
    "predicted = model.predict(np.array(X_hold.tolist()))\n",
    "predicted = predicted.T[0]\n",
    "cls_pred = np.array([1.0 if p>0.5 else 0.0 for p in predicted])"
   ]
  },
  {
   "cell_type": "code",
   "execution_count": 79,
   "metadata": {
    "colab": {
     "base_uri": "https://localhost:8080/",
     "height": 1000
    },
    "colab_type": "code",
    "id": "E8RzJAiIgQIH",
    "outputId": "8c46a6b7-98d4-45b1-8371-2a92c6384202"
   },
   "outputs": [
    {
     "name": "stdout",
     "output_type": "stream",
     "text": [
      "Accuracy: 94.65%\n",
      "AUC: 89.86%, \n",
      "              precision    recall  f1-score   support\n",
      "\n",
      "     Sincere       0.97      0.98      0.97    245044\n",
      "   Insincere       0.58      0.47      0.52     16160\n",
      "\n",
      "    accuracy                           0.95    261204\n",
      "   macro avg       0.77      0.73      0.75    261204\n",
      "weighted avg       0.94      0.95      0.94    261204\n",
      "\n"
     ]
    },
    {
     "data": {
      "image/png": "[encoded data removed]",
      "text/plain": [
       "<Figure size 360x360 with 2 Axes>"
      ]
     },
     "metadata": {
      "tags": []
     },
     "output_type": "display_data"
    },
    {
     "data": {
      "image/png": "[encoded data removed]",
      "text/plain": [
       "<Figure size 432x288 with 1 Axes>"
      ]
     },
     "metadata": {
      "tags": []
     },
     "output_type": "display_data"
    },
    {
     "data": {
      "image/png": "[encoded data removed]",
      "text/plain": [
       "<Figure size 864x360 with 2 Axes>"
      ]
     },
     "metadata": {
      "tags": []
     },
     "output_type": "display_data"
    }
   ],
   "source": [
    "print(\"Accuracy: {0:.2%}\".format(result[2]))\n",
    "print(\"AUC: {0:.2%}, \".format(result[1]))\n",
    "report(y_hold, cls_pred)\n",
    "plot_roc(y_hold, predicted)\n",
    "plot_history(history)"
   ]
  },
  {
   "cell_type": "code",
   "execution_count": 0,
   "metadata": {
    "colab": {},
    "colab_type": "code",
    "id": "afsESsBoYdcm"
   },
   "outputs": [],
   "source": []
  },
  {
   "cell_type": "code",
   "execution_count": 0,
   "metadata": {
    "colab": {},
    "colab_type": "code",
    "id": "uojWp-NFflc-"
   },
   "outputs": [],
   "source": [
    "train_text = load(train_path + 'train_pre_pad_keras.sav')"
   ]
  },
  {
   "cell_type": "code",
   "execution_count": 81,
   "metadata": {
    "colab": {
     "base_uri": "https://localhost:8080/",
     "height": 68
    },
    "colab_type": "code",
    "id": "cJ757rGhiEX_",
    "outputId": "e7778eb8-199d-47e0-9335-c7d679194e95"
   },
   "outputs": [
    {
     "name": "stdout",
     "output_type": "stream",
     "text": [
      "261204 104482 94034 253890 592410 1306020\n",
      "CPU times: user 3.14 s, sys: 102 ms, total: 3.24 s\n",
      "Wall time: 3.24 s\n"
     ]
    }
   ],
   "source": [
    "%%time\n",
    "\n",
    "from sklearn.model_selection import train_test_split\n",
    "\n",
    "X_train, X_hold, y_train, y_hold  = train_test_split(train_text, train_target, \n",
    "                                                     train_size = 0.8, test_size = 0.2, \n",
    "                                                     random_state = 42, stratify = train_target)\n",
    "X_train, X_test, y_train, y_test  = train_test_split(X_train, y_train, \n",
    "                                                     train_size = 0.9, test_size = 0.1,  \n",
    "                                                     random_state = 42, stratify = y_train)\n",
    "X_train, X_small, y_train, y_small  = train_test_split(X_train, y_train, \n",
    "                                                       train_size = 0.9, test_size = 0.1,  \n",
    "                                                       random_state = 42, stratify = y_train)\n",
    "X_large, X_mid, y_large, y_mid  = train_test_split(X_train, y_train, \n",
    "                                                   train_size = 0.7, test_size = 0.3,  \n",
    "                                                   random_state = 42, stratify = y_train)\n",
    "\n",
    "print(len(X_hold),len(X_test), len(X_small), len(X_mid), len(X_large), len(train_text))"
   ]
  },
  {
   "cell_type": "code",
   "execution_count": 0,
   "metadata": {
    "colab": {},
    "colab_type": "code",
    "id": "ijwm818_iHOU"
   },
   "outputs": [],
   "source": [
    "model = Sequential()\n",
    "optimizer = Adam(lr=1e-3)"
   ]
  },
  {
   "cell_type": "code",
   "execution_count": 0,
   "metadata": {
    "colab": {},
    "colab_type": "code",
    "id": "4TK66PBliHRT"
   },
   "outputs": [],
   "source": [
    "model.add(Embedding(input_dim=num_words, output_dim=embedding_size, input_length=max_tokens, name='layer_embedding'))\n",
    "model.add(GRU(units=16, return_sequences=True))\n",
    "model.add(GRU(units=8, return_sequences=True))\n",
    "model.add(GRU(units=8, return_sequences=True))\n",
    "model.add(GRU(units=4))\n",
    "model.add(Dense(1, activation='sigmoid'))\n",
    "model.compile(loss='binary_crossentropy', optimizer=optimizer, metrics=['AUC', 'accuracy'])"
   ]
  },
  {
   "cell_type": "code",
   "execution_count": 84,
   "metadata": {
    "colab": {
     "base_uri": "https://localhost:8080/",
     "height": 357
    },
    "colab_type": "code",
    "id": "WxizW70aiHVB",
    "outputId": "3a6bdcaf-7ed4-4799-f229-d2814bfdcc43"
   },
   "outputs": [
    {
     "name": "stdout",
     "output_type": "stream",
     "text": [
      "Model: \"sequential_9\"\n",
      "_________________________________________________________________\n",
      "Layer (type)                 Output Shape              Param #   \n",
      "=================================================================\n",
      "layer_embedding (Embedding)  (None, 30, 200)           2000000   \n",
      "_________________________________________________________________\n",
      "gru_12 (GRU)                 (None, 30, 16)            10416     \n",
      "_________________________________________________________________\n",
      "gru_13 (GRU)                 (None, 30, 8)             600       \n",
      "_________________________________________________________________\n",
      "gru_14 (GRU)                 (None, 30, 8)             408       \n",
      "_________________________________________________________________\n",
      "gru_15 (GRU)                 (None, 4)                 156       \n",
      "_________________________________________________________________\n",
      "dense_14 (Dense)             (None, 1)                 5         \n",
      "=================================================================\n",
      "Total params: 2,011,585\n",
      "Trainable params: 2,011,585\n",
      "Non-trainable params: 0\n",
      "_________________________________________________________________\n"
     ]
    }
   ],
   "source": [
    "model.summary()"
   ]
  },
  {
   "cell_type": "code",
   "execution_count": 85,
   "metadata": {
    "colab": {
     "base_uri": "https://localhost:8080/",
     "height": 258
    },
    "colab_type": "code",
    "id": "bQXaKqqmiRaP",
    "outputId": "aef1485e-7c65-4372-fc60-6450866c2990"
   },
   "outputs": [
    {
     "name": "stdout",
     "output_type": "stream",
     "text": [
      "Train on 94034 samples, validate on 104482 samples\n",
      "Epoch 1/5\n",
      "94034/94034 [==============================] - 48s 506us/sample - loss: 0.3329 - auc_12: 0.5133 - acc: 0.9365 - val_loss: 0.2420 - val_auc_12: 0.7734 - val_acc: 0.9382\n",
      "Epoch 2/5\n",
      "94034/94034 [==============================] - 45s 474us/sample - loss: 0.1917 - auc_12: 0.8585 - acc: 0.9446 - val_loss: 0.1649 - val_auc_12: 0.8959 - val_acc: 0.9482\n",
      "Epoch 3/5\n",
      "94034/94034 [==============================] - 45s 478us/sample - loss: 0.1440 - auc_12: 0.9057 - acc: 0.9546 - val_loss: 0.1472 - val_auc_12: 0.9035 - val_acc: 0.9499\n",
      "Epoch 4/5\n",
      "94034/94034 [==============================] - 45s 475us/sample - loss: 0.1224 - auc_12: 0.9203 - acc: 0.9611 - val_loss: 0.1460 - val_auc_12: 0.8919 - val_acc: 0.9498\n",
      "Epoch 5/5\n",
      "94034/94034 [==============================] - 45s 474us/sample - loss: 0.1075 - auc_12: 0.9276 - acc: 0.9662 - val_loss: 0.1492 - val_auc_12: 0.8760 - val_acc: 0.9485\n",
      "CPU times: user 5min 25s, sys: 20.7 s, total: 5min 46s\n",
      "Wall time: 3min 52s\n"
     ]
    }
   ],
   "source": [
    "%%time\n",
    "history = model.fit(np.array(X_small.tolist()), y_small, validation_data=(np.array(X_test.tolist()),y_test), epochs=5, batch_size=500)"
   ]
  },
  {
   "cell_type": "code",
   "execution_count": 86,
   "metadata": {
    "colab": {
     "base_uri": "https://localhost:8080/",
     "height": 68
    },
    "colab_type": "code",
    "id": "vCKYyqN1iRhZ",
    "outputId": "eeef4b58-c970-45e9-b180-6a68e1e649f2"
   },
   "outputs": [
    {
     "name": "stdout",
     "output_type": "stream",
     "text": [
      "261204/261204 [==============================] - 584s 2ms/sample - loss: 0.1494 - auc_12: 0.8763 - acc: 0.9480\n",
      "CPU times: user 14min, sys: 1min 4s, total: 15min 5s\n",
      "Wall time: 9min 44s\n"
     ]
    }
   ],
   "source": [
    "%%time\n",
    "result = model.evaluate(np.array(X_hold.tolist()), y_hold)"
   ]
  },
  {
   "cell_type": "code",
   "execution_count": 87,
   "metadata": {
    "colab": {
     "base_uri": "https://localhost:8080/",
     "height": 51
    },
    "colab_type": "code",
    "id": "I_F263-6hHli",
    "outputId": "19e23381-ced9-4cc8-9537-6564ef8b7f1c"
   },
   "outputs": [
    {
     "name": "stdout",
     "output_type": "stream",
     "text": [
      "CPU times: user 13min 30s, sys: 52.5 s, total: 14min 22s\n",
      "Wall time: 8min 35s\n"
     ]
    }
   ],
   "source": [
    "%%time\n",
    "predicted = model.predict(np.array(X_hold.tolist()))\n",
    "predicted = predicted.T[0]\n",
    "cls_pred = np.array([1.0 if p>0.5 else 0.0 for p in predicted])\n"
   ]
  },
  {
   "cell_type": "code",
   "execution_count": 88,
   "metadata": {
    "colab": {
     "base_uri": "https://localhost:8080/",
     "height": 1000
    },
    "colab_type": "code",
    "id": "ZehYjfLKiRkY",
    "outputId": "6106e4d8-0bfb-43b3-c861-04bdd07fd224"
   },
   "outputs": [
    {
     "name": "stdout",
     "output_type": "stream",
     "text": [
      "Accuracy: 94.80%\n",
      "AUC: 87.63%, \n",
      "              precision    recall  f1-score   support\n",
      "\n",
      "     Sincere       0.96      0.98      0.97    245044\n",
      "   Insincere       0.61      0.44      0.51     16160\n",
      "\n",
      "    accuracy                           0.95    261204\n",
      "   macro avg       0.79      0.71      0.74    261204\n",
      "weighted avg       0.94      0.95      0.94    261204\n",
      "\n"
     ]
    },
    {
     "data": {
      "image/png": "[encoded data removed]",
      "text/plain": [
       "<Figure size 360x360 with 2 Axes>"
      ]
     },
     "metadata": {
      "tags": []
     },
     "output_type": "display_data"
    },
    {
     "data": {
      "image/png": "[encoded data removed]",
      "text/plain": [
       "<Figure size 432x288 with 1 Axes>"
      ]
     },
     "metadata": {
      "tags": []
     },
     "output_type": "display_data"
    },
    {
     "data": {
      "image/png": "[encoded data removed]",
      "text/plain": [
       "<Figure size 864x360 with 2 Axes>"
      ]
     },
     "metadata": {
      "tags": []
     },
     "output_type": "display_data"
    }
   ],
   "source": [
    "print(\"Accuracy: {0:.2%}\".format(result[2]))\n",
    "print(\"AUC: {0:.2%}, \".format(result[1]))\n",
    "report(y_hold, cls_pred)\n",
    "plot_roc(y_hold, predicted)\n",
    "plot_history(history)"
   ]
  },
  {
   "cell_type": "code",
   "execution_count": 0,
   "metadata": {
    "colab": {},
    "colab_type": "code",
    "id": "FbVfIvyNiRY7"
   },
   "outputs": [],
   "source": []
  },
  {
   "cell_type": "code",
   "execution_count": 0,
   "metadata": {
    "colab": {},
    "colab_type": "code",
    "id": "iEJXQt3orCvf"
   },
   "outputs": [],
   "source": [
    "model = Sequential()\n",
    "optimizer = Adam(lr=1e-3)"
   ]
  },
  {
   "cell_type": "code",
   "execution_count": 0,
   "metadata": {
    "colab": {},
    "colab_type": "code",
    "id": "M_nPpUhLrCym"
   },
   "outputs": [],
   "source": [
    "from tensorflow.python.keras.layers import LSTM\n",
    "\n",
    "model.add(Embedding(input_dim=num_words, output_dim=embedding_size, input_length=max_tokens, name='layer_embedding'))\n",
    "model.add(LSTM(units=16, return_sequences=True))\n",
    "model.add(LSTM(units=8, return_sequences=True))\n",
    "model.add(LSTM(units=8, return_sequences=True))\n",
    "model.add(LSTM(units=4))\n",
    "model.add(Dense(1, activation='sigmoid'))\n",
    "model.compile(loss='binary_crossentropy', optimizer=optimizer, metrics=['AUC', 'accuracy'])"
   ]
  },
  {
   "cell_type": "code",
   "execution_count": 91,
   "metadata": {
    "colab": {
     "base_uri": "https://localhost:8080/",
     "height": 357
    },
    "colab_type": "code",
    "id": "uslwc0E4rC1m",
    "outputId": "96ea9d95-8d48-43c7-a282-e1461a2d5fa7"
   },
   "outputs": [
    {
     "name": "stdout",
     "output_type": "stream",
     "text": [
      "Model: \"sequential_10\"\n",
      "_________________________________________________________________\n",
      "Layer (type)                 Output Shape              Param #   \n",
      "=================================================================\n",
      "layer_embedding (Embedding)  (None, 30, 200)           2000000   \n",
      "_________________________________________________________________\n",
      "lstm_4 (LSTM)                (None, 30, 16)            13888     \n",
      "_________________________________________________________________\n",
      "lstm_5 (LSTM)                (None, 30, 8)             800       \n",
      "_________________________________________________________________\n",
      "lstm_6 (LSTM)                (None, 30, 8)             544       \n",
      "_________________________________________________________________\n",
      "lstm_7 (LSTM)                (None, 4)                 208       \n",
      "_________________________________________________________________\n",
      "dense_15 (Dense)             (None, 1)                 5         \n",
      "=================================================================\n",
      "Total params: 2,015,445\n",
      "Trainable params: 2,015,445\n",
      "Non-trainable params: 0\n",
      "_________________________________________________________________\n"
     ]
    }
   ],
   "source": [
    "model.summary()"
   ]
  },
  {
   "cell_type": "code",
   "execution_count": 92,
   "metadata": {
    "colab": {
     "base_uri": "https://localhost:8080/",
     "height": 258
    },
    "colab_type": "code",
    "id": "Wo9oFrtErIWn",
    "outputId": "2c3de79c-96a9-4fa8-d6b8-24fd34c36ff6"
   },
   "outputs": [
    {
     "name": "stdout",
     "output_type": "stream",
     "text": [
      "Train on 94034 samples, validate on 104482 samples\n",
      "Epoch 1/5\n",
      "94034/94034 [==============================] - 54s 574us/sample - loss: 0.3640 - auc_14: 0.4965 - acc: 0.9369 - val_loss: 0.2493 - val_auc_14: 0.5000 - val_acc: 0.9381\n",
      "Epoch 2/5\n",
      "94034/94034 [==============================] - 51s 538us/sample - loss: 0.2312 - auc_14: 0.6096 - acc: 0.9382 - val_loss: 0.1879 - val_auc_14: 0.8771 - val_acc: 0.9396\n",
      "Epoch 3/5\n",
      "94034/94034 [==============================] - 51s 540us/sample - loss: 0.1670 - auc_14: 0.8936 - acc: 0.9458 - val_loss: 0.1587 - val_auc_14: 0.8967 - val_acc: 0.9461\n",
      "Epoch 4/5\n",
      "94034/94034 [==============================] - 51s 538us/sample - loss: 0.1405 - auc_14: 0.9234 - acc: 0.9521 - val_loss: 0.1507 - val_auc_14: 0.8955 - val_acc: 0.9474\n",
      "Epoch 5/5\n",
      "94034/94034 [==============================] - 51s 538us/sample - loss: 0.1234 - auc_14: 0.9368 - acc: 0.9573 - val_loss: 0.1477 - val_auc_14: 0.9020 - val_acc: 0.9443\n",
      "CPU times: user 6min, sys: 24 s, total: 6min 24s\n",
      "Wall time: 4min 24s\n"
     ]
    }
   ],
   "source": [
    "%%time\n",
    "history = model.fit(np.array(X_small.tolist()), y_small, validation_data=(np.array(X_test.tolist()),y_test), epochs=5, batch_size=500)"
   ]
  },
  {
   "cell_type": "code",
   "execution_count": 93,
   "metadata": {
    "colab": {
     "base_uri": "https://localhost:8080/",
     "height": 68
    },
    "colab_type": "code",
    "id": "HgMRYQ3ErIZ1",
    "outputId": "59319a4c-6450-4c4f-834c-d6e767ec0b34"
   },
   "outputs": [
    {
     "name": "stdout",
     "output_type": "stream",
     "text": [
      "261204/261204 [==============================] - 620s 2ms/sample - loss: 0.1477 - auc_14: 0.9029 - acc: 0.9444\n",
      "CPU times: user 14min 43s, sys: 1min 3s, total: 15min 46s\n",
      "Wall time: 10min 20s\n"
     ]
    }
   ],
   "source": [
    "%%time\n",
    "result = model.evaluate(np.array(X_hold.tolist()), y_hold)"
   ]
  },
  {
   "cell_type": "code",
   "execution_count": 94,
   "metadata": {
    "colab": {
     "base_uri": "https://localhost:8080/",
     "height": 51
    },
    "colab_type": "code",
    "id": "kAqdTA3XhrAP",
    "outputId": "34cdc9f7-0292-448f-979f-84146854765f"
   },
   "outputs": [
    {
     "name": "stdout",
     "output_type": "stream",
     "text": [
      "CPU times: user 14min 4s, sys: 51.6 s, total: 14min 56s\n",
      "Wall time: 9min 11s\n"
     ]
    }
   ],
   "source": [
    "%%time \n",
    "predicted = model.predict(np.array(X_hold.tolist()))\n",
    "predicted = predicted.T[0]\n",
    "cls_pred = np.array([1.0 if p>0.5 else 0.0 for p in predicted])\n"
   ]
  },
  {
   "cell_type": "code",
   "execution_count": 95,
   "metadata": {
    "colab": {
     "base_uri": "https://localhost:8080/",
     "height": 1000
    },
    "colab_type": "code",
    "id": "WBEEZbZJrIdc",
    "outputId": "ab7d2fed-688c-4ee7-c9e6-7d2a3acf5b78"
   },
   "outputs": [
    {
     "name": "stdout",
     "output_type": "stream",
     "text": [
      "Accuracy: 94.44%\n",
      "AUC: 90.29%, \n",
      "              precision    recall  f1-score   support\n",
      "\n",
      "     Sincere       0.97      0.97      0.97    245044\n",
      "   Insincere       0.56      0.50      0.53     16160\n",
      "\n",
      "    accuracy                           0.94    261204\n",
      "   macro avg       0.76      0.74      0.75    261204\n",
      "weighted avg       0.94      0.94      0.94    261204\n",
      "\n"
     ]
    },
    {
     "data": {
      "image/png": "[encoded data removed]",
      "text/plain": [
       "<Figure size 360x360 with 2 Axes>"
      ]
     },
     "metadata": {
      "tags": []
     },
     "output_type": "display_data"
    },
    {
     "data": {
      "image/png": "[encoded data removed]",
      "text/plain": [
       "<Figure size 432x288 with 1 Axes>"
      ]
     },
     "metadata": {
      "tags": []
     },
     "output_type": "display_data"
    },
    {
     "data": {
      "image/png": "[encoded data removed]",
      "text/plain": [
       "<Figure size 864x360 with 2 Axes>"
      ]
     },
     "metadata": {
      "tags": []
     },
     "output_type": "display_data"
    }
   ],
   "source": [
    "print(\"Accuracy: {0:.2%}\".format(result[2]))\n",
    "print(\"AUC: {0:.2%}, \".format(result[1]))\n",
    "report(y_hold, cls_pred)\n",
    "plot_roc(y_hold, predicted)\n",
    "plot_history(history)"
   ]
  },
  {
   "cell_type": "code",
   "execution_count": 0,
   "metadata": {
    "colab": {},
    "colab_type": "code",
    "id": "Fe-10oOFrC43"
   },
   "outputs": [],
   "source": []
  },
  {
   "cell_type": "code",
   "execution_count": 0,
   "metadata": {
    "colab": {},
    "colab_type": "code",
    "id": "osZM9fXBh3gP"
   },
   "outputs": [],
   "source": [
    "model = Sequential()\n",
    "optimizer = Adam(lr=1e-3)"
   ]
  },
  {
   "cell_type": "code",
   "execution_count": 0,
   "metadata": {
    "colab": {},
    "colab_type": "code",
    "id": "6AA7TNmSh3jS"
   },
   "outputs": [],
   "source": [
    "from tensorflow.python.keras.layers import Flatten, Activation, Dense, Embedding, Dropout\n",
    "\n",
    "model.add(Embedding(input_dim=num_words, output_dim=embedding_size, input_length=max_tokens, name='layer_embedding'))\n",
    "model.add(Flatten())\n",
    "model.add(Dense(256))\n",
    "model.add(Activation('relu'))\n",
    "model.add(Dropout(0.5))\n",
    "model.add(Dense(128))\n",
    "model.add(Activation('relu'))\n",
    "model.add(Dropout(0.5))\n",
    "model.add(Dense(1, activation='sigmoid'))\n",
    "model.compile(loss='binary_crossentropy', optimizer=optimizer, metrics=['AUC', 'accuracy'])"
   ]
  },
  {
   "cell_type": "code",
   "execution_count": 98,
   "metadata": {
    "colab": {
     "base_uri": "https://localhost:8080/",
     "height": 459
    },
    "colab_type": "code",
    "id": "SzW74bH9h3nG",
    "outputId": "90fffca8-e0f4-4ac7-f2ab-78ece779fe50"
   },
   "outputs": [
    {
     "name": "stdout",
     "output_type": "stream",
     "text": [
      "Model: \"sequential_11\"\n",
      "_________________________________________________________________\n",
      "Layer (type)                 Output Shape              Param #   \n",
      "=================================================================\n",
      "layer_embedding (Embedding)  (None, 30, 200)           2000000   \n",
      "_________________________________________________________________\n",
      "flatten_2 (Flatten)          (None, 6000)              0         \n",
      "_________________________________________________________________\n",
      "dense_16 (Dense)             (None, 256)               1536256   \n",
      "_________________________________________________________________\n",
      "activation_2 (Activation)    (None, 256)               0         \n",
      "_________________________________________________________________\n",
      "dropout_6 (Dropout)          (None, 256)               0         \n",
      "_________________________________________________________________\n",
      "dense_17 (Dense)             (None, 128)               32896     \n",
      "_________________________________________________________________\n",
      "activation_3 (Activation)    (None, 128)               0         \n",
      "_________________________________________________________________\n",
      "dropout_7 (Dropout)          (None, 128)               0         \n",
      "_________________________________________________________________\n",
      "dense_18 (Dense)             (None, 1)                 129       \n",
      "=================================================================\n",
      "Total params: 3,569,281\n",
      "Trainable params: 3,569,281\n",
      "Non-trainable params: 0\n",
      "_________________________________________________________________\n"
     ]
    }
   ],
   "source": [
    "model.summary()"
   ]
  },
  {
   "cell_type": "code",
   "execution_count": 99,
   "metadata": {
    "colab": {
     "base_uri": "https://localhost:8080/",
     "height": 258
    },
    "colab_type": "code",
    "id": "sVxQFty2h3qi",
    "outputId": "79f66138-6902-440f-b00f-0fb9556cecbc"
   },
   "outputs": [
    {
     "name": "stdout",
     "output_type": "stream",
     "text": [
      "Train on 94034 samples, validate on 104482 samples\n",
      "Epoch 1/5\n",
      "94034/94034 [==============================] - 4s 42us/sample - loss: 0.1750 - auc_16: 0.8549 - acc: 0.9392 - val_loss: 0.1320 - val_auc_16: 0.9297 - val_acc: 0.9491\n",
      "Epoch 2/5\n",
      "94034/94034 [==============================] - 2s 20us/sample - loss: 0.1082 - auc_16: 0.9556 - acc: 0.9577 - val_loss: 0.1404 - val_auc_16: 0.9192 - val_acc: 0.9467\n",
      "Epoch 3/5\n",
      "94034/94034 [==============================] - 2s 20us/sample - loss: 0.0646 - auc_16: 0.9837 - acc: 0.9750 - val_loss: 0.1862 - val_auc_16: 0.8779 - val_acc: 0.9435\n",
      "Epoch 4/5\n",
      "94034/94034 [==============================] - 2s 20us/sample - loss: 0.0355 - auc_16: 0.9942 - acc: 0.9872 - val_loss: 0.2547 - val_auc_16: 0.8381 - val_acc: 0.9414\n",
      "Epoch 5/5\n",
      "94034/94034 [==============================] - 2s 20us/sample - loss: 0.0222 - auc_16: 0.9965 - acc: 0.9922 - val_loss: 0.3192 - val_auc_16: 0.8253 - val_acc: 0.9373\n",
      "CPU times: user 17.6 s, sys: 1.68 s, total: 19.3 s\n",
      "Wall time: 17.3 s\n"
     ]
    }
   ],
   "source": [
    "%%time\n",
    "history = model.fit(np.array(X_small.tolist()), y_small, validation_data=(np.array(X_test.tolist()),y_test), epochs=5, batch_size=500)"
   ]
  },
  {
   "cell_type": "code",
   "execution_count": 100,
   "metadata": {
    "colab": {
     "base_uri": "https://localhost:8080/",
     "height": 68
    },
    "colab_type": "code",
    "id": "Etg7Y6IeiHyT",
    "outputId": "30248569-4cc2-4656-8559-51bac9ef1d28"
   },
   "outputs": [
    {
     "name": "stdout",
     "output_type": "stream",
     "text": [
      "261204/261204 [==============================] - 18s 70us/sample - loss: 0.3170 - auc_16: 0.8270 - acc: 0.9374\n",
      "CPU times: user 23.3 s, sys: 1.71 s, total: 25.1 s\n",
      "Wall time: 19.2 s\n"
     ]
    }
   ],
   "source": [
    "%%time\n",
    "result = model.evaluate(np.array(X_hold.tolist()), y_hold)"
   ]
  },
  {
   "cell_type": "code",
   "execution_count": 101,
   "metadata": {
    "colab": {
     "base_uri": "https://localhost:8080/",
     "height": 51
    },
    "colab_type": "code",
    "id": "Jl2BR-4niH1L",
    "outputId": "78229227-114e-41aa-84e7-deb4b224efeb"
   },
   "outputs": [
    {
     "name": "stdout",
     "output_type": "stream",
     "text": [
      "CPU times: user 14.5 s, sys: 1.52 s, total: 16 s\n",
      "Wall time: 12.7 s\n"
     ]
    }
   ],
   "source": [
    "%%time \n",
    "predicted = model.predict(np.array(X_hold.tolist()))\n",
    "predicted = predicted.T[0]\n",
    "cls_pred = np.array([1.0 if p>0.5 else 0.0 for p in predicted])\n"
   ]
  },
  {
   "cell_type": "code",
   "execution_count": 102,
   "metadata": {
    "colab": {
     "base_uri": "https://localhost:8080/",
     "height": 1000
    },
    "colab_type": "code",
    "id": "JNhmFge1iH7j",
    "outputId": "0b9b9c6d-e697-4125-d822-58dbf9c58767"
   },
   "outputs": [
    {
     "name": "stdout",
     "output_type": "stream",
     "text": [
      "Accuracy: 93.74%\n",
      "AUC: 82.70%, \n",
      "              precision    recall  f1-score   support\n",
      "\n",
      "     Sincere       0.96      0.97      0.97    245044\n",
      "   Insincere       0.49      0.45      0.47     16160\n",
      "\n",
      "    accuracy                           0.94    261204\n",
      "   macro avg       0.73      0.71      0.72    261204\n",
      "weighted avg       0.93      0.94      0.94    261204\n",
      "\n"
     ]
    },
    {
     "data": {
      "image/png": "[encoded data removed]",
      "text/plain": [
       "<Figure size 360x360 with 2 Axes>"
      ]
     },
     "metadata": {
      "tags": []
     },
     "output_type": "display_data"
    },
    {
     "data": {
      "image/png": "[encoded data removed]",
      "text/plain": [
       "<Figure size 432x288 with 1 Axes>"
      ]
     },
     "metadata": {
      "tags": []
     },
     "output_type": "display_data"
    },
    {
     "data": {
      "image/png": "[encoded data removed]",
      "text/plain": [
       "<Figure size 864x360 with 2 Axes>"
      ]
     },
     "metadata": {
      "tags": []
     },
     "output_type": "display_data"
    }
   ],
   "source": [
    "print(\"Accuracy: {0:.2%}\".format(result[2]))\n",
    "print(\"AUC: {0:.2%}, \".format(result[1]))\n",
    "report(y_hold, cls_pred)\n",
    "plot_roc(y_hold, predicted)\n",
    "plot_history(history)"
   ]
  },
  {
   "cell_type": "code",
   "execution_count": 103,
   "metadata": {
    "colab": {
     "base_uri": "https://localhost:8080/",
     "height": 269
    },
    "colab_type": "code",
    "id": "ffJjT33BiH4g",
    "outputId": "68f2722d-1bb0-4fca-d40e-aedec1bcb352"
   },
   "outputs": [
    {
     "data": {
      "image/png": "[encoded data removed]",
      "text/plain": [
       "<Figure size 432x288 with 1 Axes>"
      ]
     },
     "metadata": {
      "tags": []
     },
     "output_type": "display_data"
    }
   ],
   "source": [
    "plt.hist(predicted)\n",
    "_ = plt.axvline(x=0.5, color='orange')\n",
    "plt.show()"
   ]
  },
  {
   "cell_type": "markdown",
   "metadata": {
    "colab_type": "text",
    "id": "qLL4URFJJ4Ur"
   },
   "source": [
    "###STEP 4 : CNN Model Using Keras API\n",
    "for CNN algorithm, using the data from step 3 and create model"
   ]
  },
  {
   "cell_type": "code",
   "execution_count": 0,
   "metadata": {
    "colab": {},
    "colab_type": "code",
    "id": "WKBb1T32iRXm"
   },
   "outputs": [],
   "source": [
    "model = Sequential()\n",
    "optimizer = Adam(lr=1e-3)\n",
    "drop_embed = 0.5\n",
    "dropout = 0.5\n",
    "n_conv = 256\n",
    "k_conv = 3"
   ]
  },
  {
   "cell_type": "code",
   "execution_count": 0,
   "metadata": {
    "colab": {},
    "colab_type": "code",
    "id": "8wbUcEN1jzNU"
   },
   "outputs": [],
   "source": [
    "from tensorflow.python.keras.layers import Embedding, Conv1D, SpatialDropout1D, GlobalMaxPool1D, Flatten, Dense, Dropout\n",
    "\n",
    "model.add(Embedding(input_dim=num_words, output_dim=embedding_size, input_length=max_tokens, name='layer_embedding'))\n",
    "model.add(SpatialDropout1D(drop_embed))\n",
    "model.add(Conv1D(n_conv, k_conv, activation='relu'))\n",
    "model.add(GlobalMaxPool1D())\n",
    "#model.add(Flatten())\n",
    "model.add(Dense(n_conv, activation='relu'))\n",
    "model.add(Dropout(dropout))\n",
    "model.add(Dense(n_conv/2, activation='relu'))\n",
    "model.add(Dropout(dropout))\n",
    "model.add(Dense(1, activation='sigmoid'))\n",
    "\n",
    "model.compile(loss='binary_crossentropy', optimizer=optimizer, metrics=['AUC', 'accuracy'])"
   ]
  },
  {
   "cell_type": "code",
   "execution_count": 106,
   "metadata": {
    "colab": {
     "base_uri": "https://localhost:8080/",
     "height": 459
    },
    "colab_type": "code",
    "id": "QNA1AUmijzQh",
    "outputId": "9f38f136-0ca2-4c00-a6a9-28670ac169f0"
   },
   "outputs": [
    {
     "name": "stdout",
     "output_type": "stream",
     "text": [
      "Model: \"sequential_12\"\n",
      "_________________________________________________________________\n",
      "Layer (type)                 Output Shape              Param #   \n",
      "=================================================================\n",
      "layer_embedding (Embedding)  (None, 30, 200)           2000000   \n",
      "_________________________________________________________________\n",
      "spatial_dropout1d_2 (Spatial (None, 30, 200)           0         \n",
      "_________________________________________________________________\n",
      "conv1d_2 (Conv1D)            (None, 28, 256)           153856    \n",
      "_________________________________________________________________\n",
      "global_max_pooling1d_2 (Glob (None, 256)               0         \n",
      "_________________________________________________________________\n",
      "dense_19 (Dense)             (None, 256)               65792     \n",
      "_________________________________________________________________\n",
      "dropout_8 (Dropout)          (None, 256)               0         \n",
      "_________________________________________________________________\n",
      "dense_20 (Dense)             (None, 128)               32896     \n",
      "_________________________________________________________________\n",
      "dropout_9 (Dropout)          (None, 128)               0         \n",
      "_________________________________________________________________\n",
      "dense_21 (Dense)             (None, 1)                 129       \n",
      "=================================================================\n",
      "Total params: 2,252,673\n",
      "Trainable params: 2,252,673\n",
      "Non-trainable params: 0\n",
      "_________________________________________________________________\n"
     ]
    }
   ],
   "source": [
    "model.summary()"
   ]
  },
  {
   "cell_type": "code",
   "execution_count": 107,
   "metadata": {
    "colab": {
     "base_uri": "https://localhost:8080/",
     "height": 258
    },
    "colab_type": "code",
    "id": "Laf3aentjzWp",
    "outputId": "48f9b610-6bb0-444b-9219-bca7e6d9a555"
   },
   "outputs": [
    {
     "name": "stdout",
     "output_type": "stream",
     "text": [
      "Train on 94034 samples, validate on 104482 samples\n",
      "Epoch 1/5\n",
      "94034/94034 [==============================] - 5s 55us/sample - loss: 0.1970 - auc_18: 0.8039 - acc: 0.9383 - val_loss: 0.1392 - val_auc_18: 0.9259 - val_acc: 0.9447\n",
      "Epoch 2/5\n",
      "94034/94034 [==============================] - 3s 31us/sample - loss: 0.1292 - auc_18: 0.9339 - acc: 0.9491 - val_loss: 0.1318 - val_auc_18: 0.9292 - val_acc: 0.9483\n",
      "Epoch 3/5\n",
      "94034/94034 [==============================] - 3s 31us/sample - loss: 0.1124 - auc_18: 0.9528 - acc: 0.9547 - val_loss: 0.1396 - val_auc_18: 0.9205 - val_acc: 0.9497\n",
      "Epoch 4/5\n",
      "94034/94034 [==============================] - 3s 31us/sample - loss: 0.0981 - auc_18: 0.9653 - acc: 0.9598 - val_loss: 0.1495 - val_auc_18: 0.9072 - val_acc: 0.9489\n",
      "Epoch 5/5\n",
      "94034/94034 [==============================] - 3s 31us/sample - loss: 0.0844 - auc_18: 0.9749 - acc: 0.9660 - val_loss: 0.1531 - val_auc_18: 0.9049 - val_acc: 0.9467\n",
      "CPU times: user 21.1 s, sys: 3.17 s, total: 24.3 s\n",
      "Wall time: 22.9 s\n"
     ]
    }
   ],
   "source": [
    "%%time\n",
    "history = model.fit(np.array(X_small.tolist()), y_small, validation_data=(np.array(X_test.tolist()),y_test), epochs=5, batch_size=500)"
   ]
  },
  {
   "cell_type": "code",
   "execution_count": 108,
   "metadata": {
    "colab": {
     "base_uri": "https://localhost:8080/",
     "height": 68
    },
    "colab_type": "code",
    "id": "xT6A9kT3jzjk",
    "outputId": "ec086221-c5a5-45c1-9d6f-a7010ae033ec"
   },
   "outputs": [
    {
     "name": "stdout",
     "output_type": "stream",
     "text": [
      "261204/261204 [==============================] - 20s 75us/sample - loss: 0.1516 - auc_18: 0.9087 - acc: 0.9469\n",
      "CPU times: user 24.3 s, sys: 2.1 s, total: 26.4 s\n",
      "Wall time: 20.4 s\n"
     ]
    }
   ],
   "source": [
    "%%time\n",
    "result = model.evaluate(np.array(X_hold.tolist()), y_hold)"
   ]
  },
  {
   "cell_type": "code",
   "execution_count": 109,
   "metadata": {
    "colab": {
     "base_uri": "https://localhost:8080/",
     "height": 51
    },
    "colab_type": "code",
    "id": "MpPagNtajztj",
    "outputId": "3ff4a432-2741-4b51-b488-35719a0ca619"
   },
   "outputs": [
    {
     "name": "stdout",
     "output_type": "stream",
     "text": [
      "CPU times: user 15.8 s, sys: 1.54 s, total: 17.3 s\n",
      "Wall time: 14.1 s\n"
     ]
    }
   ],
   "source": [
    "%%time \n",
    "predicted = model.predict(np.array(X_hold.tolist()))\n",
    "predicted = predicted.T[0]\n",
    "cls_pred = np.array([1.0 if p>0.5 else 0.0 for p in predicted])\n"
   ]
  },
  {
   "cell_type": "code",
   "execution_count": 110,
   "metadata": {
    "colab": {
     "base_uri": "https://localhost:8080/",
     "height": 1000
    },
    "colab_type": "code",
    "id": "Pw6mAT2wjzT2",
    "outputId": "7ecf09b5-bba3-4db9-e48f-5b841416bfed"
   },
   "outputs": [
    {
     "name": "stdout",
     "output_type": "stream",
     "text": [
      "Accuracy: 94.69%\n",
      "AUC: 90.87%, \n",
      "              precision    recall  f1-score   support\n",
      "\n",
      "     Sincere       0.97      0.98      0.97    245044\n",
      "   Insincere       0.58      0.49      0.53     16160\n",
      "\n",
      "    accuracy                           0.95    261204\n",
      "   macro avg       0.78      0.73      0.75    261204\n",
      "weighted avg       0.94      0.95      0.94    261204\n",
      "\n"
     ]
    },
    {
     "data": {
      "image/png": "[encoded data removed]",
      "text/plain": [
       "<Figure size 360x360 with 2 Axes>"
      ]
     },
     "metadata": {
      "tags": []
     },
     "output_type": "display_data"
    },
    {
     "data": {
      "image/png": "[encoded data removed]",
      "text/plain": [
       "<Figure size 432x288 with 1 Axes>"
      ]
     },
     "metadata": {
      "tags": []
     },
     "output_type": "display_data"
    },
    {
     "data": {
      "image/png": "[encoded data removed]",
      "text/plain": [
       "<Figure size 864x360 with 2 Axes>"
      ]
     },
     "metadata": {
      "tags": []
     },
     "output_type": "display_data"
    }
   ],
   "source": [
    "print(\"Accuracy: {0:.2%}\".format(result[2]))\n",
    "print(\"AUC: {0:.2%}, \".format(result[1]))\n",
    "report(y_hold, cls_pred)\n",
    "plot_roc(y_hold, predicted)\n",
    "plot_history(history)"
   ]
  },
  {
   "cell_type": "code",
   "execution_count": 0,
   "metadata": {
    "colab": {},
    "colab_type": "code",
    "id": "TsPPoF0cnX9Y"
   },
   "outputs": [],
   "source": []
  },
  {
   "cell_type": "markdown",
   "metadata": {
    "colab_type": "text",
    "id": "qzsDfOhZbFUC"
   },
   "source": [
    "###Reference\n",
    "\n",
    "[Practical Text Classification With Python and Keras](https://realpython.com/python-keras-text-classification/)\n",
    "\n",
    "[Getting started with Keras for NLP](https://nlpforhackers.io/keras-intro/)\n",
    "\n",
    "[TensorFlow Tutorial #20 Natural Language Processing](https://github.com/Hvass-Labs/TensorFlow-Tutorials/blob/master/20_Natural_Language_Processing.ipynb)\n",
    "\n",
    "[Deep Learning for Natural Language Processing — Part III](https://medium.com/cityai/deep-learning-for-natural-language-processing-part-iii-96cfc6acfcc3)\n",
    "\n",
    "[Introduction to 1D Convolutional Neural Networks for NLP](https://github.com/Tixierae/deep_learning_NLP/blob/master/cnn_imdb.ipynb)\n",
    "\n",
    "[How to Develop an Multichannel CNN Model for Text Classification](https://machinelearningmastery.com/develop-n-gram-multichannel-convolutional-neural-network-sentiment-analysis/)\n"
   ]
  },
  {
   "cell_type": "code",
   "execution_count": 0,
   "metadata": {
    "colab": {},
    "colab_type": "code",
    "id": "Xv4IZGApbP1X"
   },
   "outputs": [],
   "source": []
  }
 ],
 "metadata": {
  "accelerator": "GPU",
  "colab": {
   "collapsed_sections": [],
   "name": "prototype_keras.ipynb",
   "provenance": [],
   "version": "0.3.2"
  },
  "kernelspec": {
   "display_name": "Python 3",
   "language": "python",
   "name": "python3"
  },
  "language_info": {
   "codemirror_mode": {
    "name": "ipython",
    "version": 3
   },
   "file_extension": ".py",
   "mimetype": "text/x-python",
   "name": "python",
   "nbconvert_exporter": "python",
   "pygments_lexer": "ipython3",
   "version": "3.7.1"
  }
 },
 "nbformat": 4,
 "nbformat_minor": 1
}
