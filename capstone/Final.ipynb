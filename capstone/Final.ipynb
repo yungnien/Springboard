{
 "cells": [
  {
   "cell_type": "markdown",
   "metadata": {},
   "source": [
    "This capstone project started with the capstone ideas submission, through the prototyping phases, the model comparison, refactoring, to system deployment. The following briefly describes each step:"
   ]
  },
  {
   "cell_type": "markdown",
   "metadata": {},
   "source": [
    "# Capstone ideas and [proposal](https://github.com/yungnien/Springboard/blob/master/capstone/Capstone%20Proposal.ipynb):\n",
    "In the beginning,  three project proposals were required, via searching for possible data sets, several [possible data sources were identified](https://github.com/yungnien/Springboard/blob/master/capstone/Capstone%20ideas.ipynb), and later narrow down to [three candidate topics](https://github.com/yungnien/Springboard/blob/master/capstone/Capstone%20ideas%20v2.ipynb). The mentor recommends selecting NLP project based on popularity and resource constrain as image processing will require significant computation resources that might not be available for free. The proposal was submitted and been approved. \n"
   ]
  },
  {
   "cell_type": "markdown",
   "metadata": {},
   "source": [
    "# [Prototyping](https://github.com/yungnien/Springboard/tree/master/capstone/prototype):\n",
    "Following the progress of the curriculum, different data cleaning, and modeling approach been applied\n",
    "### [Data Wrangling](https://github.com/yungnien/Springboard/blob/master/capstone/prototype/Data%20Wrangling.ipynb):  \n",
    "although the primary data is question sentences that do not require feature engineering,  the basic data cleaning step has been applied and tested, including removing accented & foreign characters, expanding contractions, case unification, stemming, lemmatization and stop word removing.  The latter three did not been applied to the final modeling comparison for data consistency reason. \n",
    "\n",
    "### [Imbalance Treatment](https://github.com/yungnien/Springboard/blob/master/capstone/prototype/Prototype-Imbalance.ipynb):\n",
    "As only 10% of question sentences been labeled insincere,  several data augmentation attempts been tested. Unfortunately, the results show oversampling, under-sampling, nor SMOTE can significantly improve the accuracy of a simple regulation model.  \n",
    "\n",
    "### Machine Learning Modeling [1](https://github.com/yungnien/Springboard/blob/master/capstone/prototype/Prototype.ipynb) and [2](https://github.com/yungnien/Springboard/blob/master/capstone/prototype/Prototype-Sklearn.ipynb) :\n",
    "Using scikit-learn package, several machine learning modelings have been tested along with hyperparameter optimization.  scikit-learn also has MLP capability in which also the model been tested here.   The test results show similar performance among the gradient boosting, and logistic regression for this question besides the MLP model. \n",
    "\n",
    "### [Deep Learning Modeling](https://github.com/yungnien/Springboard/blob/master/capstone/prototype/Prototype-keras.ipynb):\n",
    "Different deep learning modelings have been tested in this section in which all of the deep learning models have to compare with the traditional machine learning approach. The RNN is the one been selected to carry on to the next step.  \n",
    "\n",
    "### [Transfer Learning Modeling](https://github.com/yungnien/Springboard/blob/master/capstone/prototype/Prototype_tansfer.ipynb):  \n",
    "Two major transfer learning approaches word embedding and prebuilt language modeling have also been tried out here. They provided much better performance-boosting among other available options (data manipulation,  modeling selection, and hyperparameter)"
   ]
  },
  {
   "cell_type": "markdown",
   "metadata": {},
   "source": [
    "# [Model comparison](https://github.com/yungnien/Springboard/blob/master/capstone/Capstone.ipynb) "
   ]
  },
  {
   "cell_type": "markdown",
   "metadata": {},
   "source": [
    "# Refactoring and deployment "
   ]
  },
  {
   "cell_type": "code",
   "execution_count": null,
   "metadata": {},
   "outputs": [],
   "source": []
  }
 ],
 "metadata": {
  "kernelspec": {
   "display_name": "Python 3",
   "language": "python",
   "name": "python3"
  },
  "language_info": {
   "codemirror_mode": {
    "name": "ipython",
    "version": 3
   },
   "file_extension": ".py",
   "mimetype": "text/x-python",
   "name": "python",
   "nbconvert_exporter": "python",
   "pygments_lexer": "ipython3",
   "version": "3.7.1"
  }
 },
 "nbformat": 4,
 "nbformat_minor": 2
}
