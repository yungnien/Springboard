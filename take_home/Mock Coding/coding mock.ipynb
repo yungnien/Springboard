{
 "cells": [
  {
   "cell_type": "code",
   "execution_count": 17,
   "metadata": {},
   "outputs": [],
   "source": [
    "#http://archive.ics.uci.edu/ml/datasets/Covertype "
   ]
  },
  {
   "cell_type": "markdown",
   "metadata": {},
   "source": [
    "Problem Statement\n",
    "\n",
    "This is a classification problem where we are going to use above CoverType Dataset.\n",
    "Covertype Data Set is a dataset describing cartographic features of areas of land in the USA and also its forest type according to the US Forest Service.\n",
    "The above dataset has 7 (1 to 7) classes but we are interested in only class 3.\n",
    "So our classification model should be binary that should classify whether the the new data input is class 3 or not.\n",
    "\n",
    "In this test we use the Covertype Data Set, a dataset describing cartographic features of areas of land in the USA and also its forest type according to the US Forest Service. There are seven classes(COVER_TYPE) (1-7), 581012 samples and 54 features. For this test, we're only interested in cover type 3.\n",
    "Note - COVER_TYPE is the last column\n",
    "\n",
    "1. Build the model and evaluate the accuracy"
   ]
  },
  {
   "cell_type": "code",
   "execution_count": 53,
   "metadata": {},
   "outputs": [],
   "source": [
    "import pandas as pd\n",
    "data = pd.read_csv('covtype.data', header=None)"
   ]
  },
  {
   "cell_type": "code",
   "execution_count": 66,
   "metadata": {},
   "outputs": [
    {
     "name": "stdout",
     "output_type": "stream",
     "text": [
      "(581012,)\n",
      "(581012, 54)\n",
      "(581012, 55)\n"
     ]
    }
   ],
   "source": [
    "y = data[54].apply(lambda x : 1 if x==3 else 0)\n",
    "y.value_counts()\n",
    "\n",
    "import numpy as np \n",
    "#y = np.where(data[54]==3, 1, 0)\n",
    "print(y.shape)\n",
    "x = data.drop(54, axis=1)\n",
    "print(x.shape)\n",
    "print(data.shape)"
   ]
  },
  {
   "cell_type": "code",
   "execution_count": 32,
   "metadata": {},
   "outputs": [
    {
     "data": {
      "image/png": "[encoded data removed]",
      "text/plain": [
       "<Figure size 432x288 with 2 Axes>"
      ]
     },
     "metadata": {
      "needs_background": "light"
     },
     "output_type": "display_data"
    }
   ],
   "source": [
    "import seaborn as sns\n",
    "import matplotlib.pyplot as plt\n",
    "%matplotlib inline\n",
    "sns.heatmap(data.corr())\n",
    "plt.show()\n"
   ]
  },
  {
   "cell_type": "code",
   "execution_count": 58,
   "metadata": {},
   "outputs": [],
   "source": [
    "from sklearn.model_selection import train_test_split\n",
    "x_train, x_test, y_train, y_test = train_test_split(x, y, test_size = 0.25, stratify=y)"
   ]
  },
  {
   "cell_type": "code",
   "execution_count": 59,
   "metadata": {},
   "outputs": [
    {
     "name": "stdout",
     "output_type": "stream",
     "text": [
      "(435759, 54) (145253, 54)\n"
     ]
    }
   ],
   "source": [
    "print(x_train.shape, x_test.shape) "
   ]
  },
  {
   "cell_type": "code",
   "execution_count": 27,
   "metadata": {},
   "outputs": [
    {
     "data": {
      "text/plain": [
       "2    283301\n",
       "1    211840\n",
       "3     35754\n",
       "7     20510\n",
       "6     17367\n",
       "5      9493\n",
       "4      2747\n",
       "Name: 54, dtype: int64"
      ]
     },
     "execution_count": 27,
     "metadata": {},
     "output_type": "execute_result"
    }
   ],
   "source": [
    "data[54].value_counts()"
   ]
  },
  {
   "cell_type": "code",
   "execution_count": 25,
   "metadata": {},
   "outputs": [
    {
     "name": "stderr",
     "output_type": "stream",
     "text": [
      "/Users/yang/anaconda3/lib/python3.7/site-packages/sklearn/linear_model/logistic.py:432: FutureWarning: Default solver will be changed to 'lbfgs' in 0.22. Specify a solver to silence this warning.\n",
      "  FutureWarning)\n"
     ]
    },
    {
     "data": {
      "text/plain": [
       "LogisticRegression(C=1.0, class_weight=None, dual=False, fit_intercept=True,\n",
       "                   intercept_scaling=1, l1_ratio=None, max_iter=100,\n",
       "                   multi_class='warn', n_jobs=None, penalty='l2',\n",
       "                   random_state=None, solver='warn', tol=0.0001, verbose=0,\n",
       "                   warm_start=False)"
      ]
     },
     "execution_count": 25,
     "metadata": {},
     "output_type": "execute_result"
    }
   ],
   "source": [
    "from sklearn.linear_model import LogisticRegression \n",
    "model = LogisticRegression()\n",
    "model.fit(x_train, y_train)"
   ]
  },
  {
   "cell_type": "code",
   "execution_count": 26,
   "metadata": {},
   "outputs": [
    {
     "data": {
      "text/plain": [
       "0.962541221179597"
      ]
     },
     "execution_count": 26,
     "metadata": {},
     "output_type": "execute_result"
    }
   ],
   "source": [
    "model.score(x_train, y_train)"
   ]
  },
  {
   "cell_type": "markdown",
   "metadata": {},
   "source": [
    "----"
   ]
  },
  {
   "cell_type": "markdown",
   "metadata": {},
   "source": [
    "2. Is accuracy is the correct measure of model performance here\n",
    "3. How would you select few important features out of given 54 features\n"
   ]
  },
  {
   "cell_type": "markdown",
   "metadata": {},
   "source": [
    "answer:\n",
    "\n",
    "    accuracy is not the best metric as \"type 3\" is only small percent in the training data, therefore, switch the metrix to f1_score\n",
    "\n",
    "    instead PCA, feature_selection, such as selectKBest or SelectPercentile, should be used as the requirement is to use few important features, not to generate few combinated feature. \n",
    "    "
   ]
  },
  {
   "cell_type": "code",
   "execution_count": 28,
   "metadata": {},
   "outputs": [
    {
     "name": "stdout",
     "output_type": "stream",
     "text": [
      "0.6860538918700594\n",
      "0.6852054007469118\n"
     ]
    }
   ],
   "source": [
    "from sklearn.metrics import f1_score\n",
    "print(f1_score(model.predict(x_train), y_train))\n",
    "print(f1_score(model.predict(x_test), y_test))"
   ]
  },
  {
   "cell_type": "code",
   "execution_count": 67,
   "metadata": {},
   "outputs": [
    {
     "data": {
      "text/plain": [
       "GradientBoostingClassifier(criterion='friedman_mse', init=None,\n",
       "                           learning_rate=0.1, loss='deviance', max_depth=3,\n",
       "                           max_features=None, max_leaf_nodes=None,\n",
       "                           min_impurity_decrease=0.0, min_impurity_split=None,\n",
       "                           min_samples_leaf=1, min_samples_split=2,\n",
       "                           min_weight_fraction_leaf=0.0, n_estimators=100,\n",
       "                           n_iter_no_change=None, presort='auto',\n",
       "                           random_state=None, subsample=1.0, tol=0.0001,\n",
       "                           validation_fraction=0.1, verbose=0,\n",
       "                           warm_start=False)"
      ]
     },
     "execution_count": 67,
     "metadata": {},
     "output_type": "execute_result"
    }
   ],
   "source": [
    "from sklearn.ensemble import GradientBoostingClassifier\n",
    "model2 = GradientBoostingClassifier()\n",
    "model2.fit(x_train, y_train)"
   ]
  },
  {
   "cell_type": "code",
   "execution_count": 69,
   "metadata": {},
   "outputs": [
    {
     "name": "stdout",
     "output_type": "stream",
     "text": [
      "0.9733545377146542\n",
      "0.7845785636097145\n",
      "0.7796496708691287\n"
     ]
    }
   ],
   "source": [
    "from sklearn.metrics import f1_score\n",
    "print(model2.score(x_train, y_train))\n",
    "print(f1_score(model2.predict(x_train), y_train))\n",
    "print(f1_score(model2.predict(x_test), y_test))"
   ]
  },
  {
   "cell_type": "code",
   "execution_count": 71,
   "metadata": {},
   "outputs": [
    {
     "data": {
      "text/plain": [
       "MLPClassifier(activation='relu', alpha=0.0001, batch_size='auto', beta_1=0.9,\n",
       "              beta_2=0.999, early_stopping=False, epsilon=1e-08,\n",
       "              hidden_layer_sizes=(32, 16), learning_rate='constant',\n",
       "              learning_rate_init=0.001, max_iter=200, momentum=0.9,\n",
       "              n_iter_no_change=10, nesterovs_momentum=True, power_t=0.5,\n",
       "              random_state=1, shuffle=True, solver='adam', tol=0.0001,\n",
       "              validation_fraction=0.1, verbose=False, warm_start=False)"
      ]
     },
     "execution_count": 71,
     "metadata": {},
     "output_type": "execute_result"
    }
   ],
   "source": [
    "from sklearn.neural_network import MLPClassifier\n",
    "model3 = MLPClassifier(hidden_layer_sizes=(32, 16), random_state=1)\n",
    "model3.fit(x_train, y_train)"
   ]
  },
  {
   "cell_type": "code",
   "execution_count": 72,
   "metadata": {},
   "outputs": [
    {
     "name": "stdout",
     "output_type": "stream",
     "text": [
      "0.9783091112289132\n",
      "0.8209848484848484\n",
      "0.8228296923252888\n"
     ]
    }
   ],
   "source": [
    "print(model3.score(x_train, y_train))\n",
    "print(f1_score(model3.predict(x_train), y_train))\n",
    "print(f1_score(model3.predict(x_test), y_test))"
   ]
  },
  {
   "cell_type": "code",
   "execution_count": 31,
   "metadata": {},
   "outputs": [
    {
     "data": {
      "text/plain": [
       "array([[ 5.91293019e-02, -1.60188918e-03, -1.08954635e-03,\n",
       "         1.02696267e-02, -2.17749868e-03,  8.49503437e-01,\n",
       "         1.29355184e-03,  2.02013707e-03,  1.44612183e-03,\n",
       "         5.24142910e-01,  1.50621010e-04, -1.86235398e-05,\n",
       "        -8.64640085e-05, -4.55334614e-05, -4.16822345e-06,\n",
       "        -6.99037435e-06, -5.38267208e-06, -8.60758927e-06,\n",
       "        -2.17630972e-06, -7.70530932e-06,  2.04404609e-07,\n",
       "         3.64972420e-07, -1.37152945e-06, -2.98943543e-05,\n",
       "        -8.28140435e-06,  1.92555611e-05, -8.20437608e-06,\n",
       "        -7.64397536e-07, -4.27242186e-09,  1.74571633e-06,\n",
       "        -2.25754654e-06,  9.98998936e-08,  2.68044524e-06,\n",
       "         6.41965634e-06, -4.81313092e-07,  4.07187741e-06,\n",
       "        -2.57593170e-06, -2.41634173e-06, -2.16178031e-07,\n",
       "         4.19879217e-07,  4.99380799e-08, -7.92869241e-07,\n",
       "         7.76589156e-05,  1.09101607e-05, -8.79742978e-06,\n",
       "        -1.77854562e-05, -1.40588495e-05, -2.76439368e-07,\n",
       "        -6.94014098e-08,  1.56801327e-08,  2.03662402e-07,\n",
       "         5.39815822e-06,  2.46311530e-06,  1.31652591e-06],\n",
       "       [-2.95882676e-02, -1.22205143e-02, -1.71361272e-04,\n",
       "        -6.08420887e-04, -1.85998342e-03, -5.23334895e-01,\n",
       "         2.44542916e-03, -1.37504724e-03, -4.10074976e-03,\n",
       "         8.51508796e-01,  2.10937219e-05,  3.21084858e-05,\n",
       "        -4.57126586e-05, -7.48954908e-06, -6.89659891e-07,\n",
       "        -1.59537903e-06, -1.01858447e-06, -1.34658192e-06,\n",
       "        -2.67344207e-07, -6.55094189e-07,  1.49673287e-07,\n",
       "         2.26629298e-07, -1.09672096e-07, -7.87116615e-06,\n",
       "         3.68587336e-06,  4.19336715e-05, -7.57182618e-06,\n",
       "        -2.12457475e-07, -3.16289117e-10,  3.48018143e-06,\n",
       "         1.12321476e-06,  7.05329504e-06, -2.91950035e-06,\n",
       "         7.26516166e-06, -4.33793007e-07, -1.19267459e-05,\n",
       "        -5.40088654e-06,  5.01036746e-06,  1.53302306e-06,\n",
       "         1.13551621e-06, -2.31495145e-07,  1.79928634e-07,\n",
       "        -2.87423706e-06, -8.25116264e-08, -4.25340998e-06,\n",
       "        -6.40935249e-06,  9.11610554e-08, -1.76748647e-06,\n",
       "         8.10054715e-08, -2.04762984e-07, -1.41806043e-07,\n",
       "        -1.08774057e-05, -3.64431666e-06, -4.42910335e-07],\n",
       "       [ 8.76511520e-01,  8.19613822e-03, -3.60186619e-03,\n",
       "         4.71792035e-01,  7.05774273e-02, -6.21687389e-02,\n",
       "         6.65887494e-03,  9.41316361e-03,  5.40897904e-03,\n",
       "        -7.12134984e-03, -1.67712565e-04,  2.40627150e-04,\n",
       "         3.52768711e-04, -4.25683296e-04, -4.22731585e-05,\n",
       "        -5.57040219e-05, -4.76623039e-05, -7.55906849e-05,\n",
       "        -2.12551936e-05, -5.91056780e-05, -3.83849089e-07,\n",
       "        -8.75793581e-07, -7.37779484e-06, -2.79241233e-04,\n",
       "        -4.34591446e-05, -1.03724326e-04, -9.48411019e-06,\n",
       "        -8.52779083e-06, -4.47274902e-08, -2.17423427e-05,\n",
       "        -2.87871841e-05, -1.32252848e-05, -3.09715375e-06,\n",
       "        -4.16149777e-05,  9.98162210e-07,  8.74737959e-05,\n",
       "         6.87933002e-05,  4.61400464e-05,  4.53146537e-06,\n",
       "        -2.73171694e-06,  8.15404005e-06, -4.40174276e-07,\n",
       "        -7.22543058e-05, -5.70955283e-05,  8.31837880e-05,\n",
       "         2.37538501e-04,  1.28859661e-04,  6.65350681e-06,\n",
       "         1.49880237e-05,  1.53019329e-06,  1.84318535e-06,\n",
       "         1.04841829e-04,  9.45447384e-05,  1.05624242e-04],\n",
       "       [-4.76079146e-01,  1.39348283e-02,  5.23903872e-03,\n",
       "         8.62471375e-01,  1.68348110e-01,  2.36611408e-02,\n",
       "        -1.61113818e-02, -6.84543964e-03,  7.85588444e-03,\n",
       "        -7.42665109e-04, -2.81662704e-04, -1.72825528e-04,\n",
       "         8.76918183e-05,  3.66796414e-04,  3.53003462e-05,\n",
       "         6.04831410e-05,  3.36614942e-05,  4.80055750e-05,\n",
       "         2.29145532e-05,  6.53618899e-05,  6.15769030e-07,\n",
       "         5.35770427e-07,  2.53470743e-06,  2.38045546e-04,\n",
       "         5.46891942e-05,  1.17173946e-04,  2.03413337e-05,\n",
       "         2.06888764e-06,  1.90396247e-08, -8.24824245e-06,\n",
       "        -1.50918046e-06,  9.29041485e-06, -2.29248326e-05,\n",
       "        -2.52152798e-05, -1.06036128e-05, -1.83365411e-04,\n",
       "        -3.43746939e-04, -1.87631897e-05, -1.86113867e-06,\n",
       "         8.25781953e-06,  7.16274719e-06,  8.94680067e-06,\n",
       "        -5.91938328e-07, -1.76548982e-05,  1.13075480e-05,\n",
       "        -1.36518015e-05,  5.64642808e-05,  1.66028902e-05,\n",
       "        -1.89021202e-05,  1.46119712e-06, -3.66912618e-06,\n",
       "        -8.05091166e-05, -7.40017228e-05,  3.97365877e-06],\n",
       "       [ 7.70587002e-04,  9.59409079e-01,  3.93587236e-03,\n",
       "        -2.45450236e-02,  2.71784010e-02, -5.60924429e-03,\n",
       "        -1.43853318e-01,  6.16937088e-02,  2.31302273e-01,\n",
       "         1.20177316e-02, -5.38589947e-04,  1.36580254e-04,\n",
       "         2.42249941e-04,  1.59759751e-04, -8.55268159e-06,\n",
       "        -1.18043139e-05, -8.72288075e-06,  1.93721376e-05,\n",
       "         3.08995417e-06,  6.69799182e-06, -3.82730895e-07,\n",
       "         2.02407137e-08, -8.64010673e-06,  9.12899092e-05,\n",
       "        -7.87446005e-05, -7.70541837e-05,  7.59160547e-05,\n",
       "         1.89347291e-06, -4.75927482e-08,  1.24690166e-05,\n",
       "         2.30251050e-06, -4.78874401e-06, -3.11960662e-06,\n",
       "        -1.78599680e-05,  1.10226158e-05,  3.51228856e-05,\n",
       "         4.93282812e-05,  3.89132685e-05,  9.64403363e-08,\n",
       "        -4.69128733e-06,  3.55747595e-06,  1.12209729e-05,\n",
       "        -2.05669364e-04, -6.82078943e-05, -4.62124840e-06,\n",
       "         1.23490943e-04,  2.92488523e-05,  1.47031022e-06,\n",
       "        -1.09848661e-05, -1.45292419e-07, -4.36804737e-06,\n",
       "         1.00426123e-05,  5.92488854e-06, -1.40854253e-05]])"
      ]
     },
     "execution_count": 31,
     "metadata": {},
     "output_type": "execute_result"
    }
   ],
   "source": [
    "from sklearn.decomposition import PCA\n",
    "pca = PCA(n_components=5, svd_solver='auto')\n",
    "x_pca = pca.fit(x_train)\n",
    "x_pca.components_"
   ]
  },
  {
   "cell_type": "code",
   "execution_count": null,
   "metadata": {},
   "outputs": [],
   "source": [
    "from sklearn.feature_selection import SelectKBest, chi2\n",
    "#kb = SelectKBest(chi2, k=27).fit(x_train, y_train)\n",
    "#chi2 requires non-negative value ??"
   ]
  },
  {
   "cell_type": "code",
   "execution_count": 36,
   "metadata": {},
   "outputs": [
    {
     "name": "stdout",
     "output_type": "stream",
     "text": [
      "[ True  True  True  True  True  True  True  True  True  True  True  True\n",
      "  True  True  True  True  True  True  True  True  True  True  True  True\n",
      "  True  True  True  True  True  True  True  True  True  True  True  True\n",
      "  True  True  True  True  True  True  True  True  True  True  True  True\n",
      "  True  True  True  True  True  True]\n",
      "[1 1 1 1 1 1 1 1 1 1 1 1 1 1 1 1 1 1 1 1 1 1 1 1 1 1 1 1 1 1 1 1 1 1 1 1 1\n",
      " 1 1 1 1 1 1 1 1 1 1 1 1 1 1 1 1 1]\n"
     ]
    }
   ],
   "source": [
    "from sklearn.feature_selection import RFECV\n",
    "import warnings\n",
    "warnings.filterwarnings('ignore')\n",
    "\n",
    "estimator = LogisticRegression()\n",
    "selector = RFECV(estimator, step=0.2, cv=5, min_features_to_select=27)\n",
    "selector = selector.fit(x_train, y_train)\n",
    "print(selector.support_)\n",
    "print(selector.ranking_)"
   ]
  },
  {
   "cell_type": "code",
   "execution_count": 43,
   "metadata": {},
   "outputs": [
    {
     "data": {
      "text/plain": [
       "array([ True, False,  True,  True,  True,  True,  True,  True, False,\n",
       "        True,  True,  True, False,  True,  True,  True,  True,  True,\n",
       "        True,  True, False, False, False,  True, False,  True, False,\n",
       "       False, False, False, False, False, False, False, False,  True,\n",
       "        True,  True, False, False, False, False,  True,  True,  True,\n",
       "        True,  True, False, False, False, False, False, False, False])"
      ]
     },
     "execution_count": 43,
     "metadata": {},
     "output_type": "execute_result"
    }
   ],
   "source": [
    "from sklearn.feature_selection import SelectKBest, f_classif\n",
    "kb = SelectKBest(f_classif, k=27).fit(x_train, y_train)\n",
    "kb.get_support()"
   ]
  },
  {
   "cell_type": "code",
   "execution_count": 50,
   "metadata": {},
   "outputs": [
    {
     "name": "stdout",
     "output_type": "stream",
     "text": [
      "0.956730669934528\n",
      "0.6112611591035605\n",
      "0.6140275121830856\n"
     ]
    }
   ],
   "source": [
    "new_x_train = kb.transform(x_train)\n",
    "new_x_test = kb.transform(x_test)\n",
    "\n",
    "model = LogisticRegression()\n",
    "model.fit(new_x_train, y_train)\n",
    "print(model.score(new_x_train, y_train))\n",
    "print(f1_score(model.predict(new_x_train), y_train))\n",
    "print(f1_score(model.predict(new_x_test), y_test))"
   ]
  },
  {
   "cell_type": "code",
   "execution_count": 51,
   "metadata": {},
   "outputs": [
    {
     "data": {
      "text/plain": [
       "array([ True, False,  True,  True,  True,  True,  True,  True, False,\n",
       "        True,  True,  True, False,  True,  True,  True,  True,  True,\n",
       "        True,  True, False, False, False,  True, False,  True, False,\n",
       "       False, False, False, False, False, False, False, False,  True,\n",
       "        True,  True, False, False, False, False,  True,  True,  True,\n",
       "        True,  True, False, False, False, False, False, False, False])"
      ]
     },
     "execution_count": 51,
     "metadata": {},
     "output_type": "execute_result"
    }
   ],
   "source": [
    "from sklearn.feature_selection import SelectPercentile, f_regression\n",
    "perc = SelectPercentile(f_regression, percentile=50).fit(x_train, y_train)\n",
    "perc.get_support()"
   ]
  },
  {
   "cell_type": "code",
   "execution_count": 52,
   "metadata": {},
   "outputs": [
    {
     "name": "stdout",
     "output_type": "stream",
     "text": [
      "0.956730669934528\n",
      "0.6112611591035605\n",
      "0.6140275121830856\n"
     ]
    }
   ],
   "source": [
    "new_x_train = perc.transform(x_train)\n",
    "new_x_test = perc.transform(x_test)\n",
    "\n",
    "model = LogisticRegression()\n",
    "model.fit(new_x_train, y_train)\n",
    "print(model.score(new_x_train, y_train))\n",
    "print(f1_score(model.predict(new_x_train), y_train))\n",
    "print(f1_score(model.predict(new_x_test), y_test))"
   ]
  },
  {
   "cell_type": "code",
   "execution_count": null,
   "metadata": {},
   "outputs": [],
   "source": []
  }
 ],
 "metadata": {
  "kernelspec": {
   "display_name": "Python 3",
   "language": "python",
   "name": "python3"
  },
  "language_info": {
   "codemirror_mode": {
    "name": "ipython",
    "version": 3
   },
   "file_extension": ".py",
   "mimetype": "text/x-python",
   "name": "python",
   "nbconvert_exporter": "python",
   "pygments_lexer": "ipython3",
   "version": "3.7.1"
  }
 },
 "nbformat": 4,
 "nbformat_minor": 2
}
