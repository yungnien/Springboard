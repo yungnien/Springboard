{
 "cells": [
  {
   "cell_type": "markdown",
   "metadata": {},
   "source": [
    "# This page is to document/verify the environment for ML/AI library\n",
    "\n",
    "Hardware:\n",
    "    MacOS High Sierra 10.13.6  (16GB DDR3 Intel Gore i7 mid 2014  NVIDIA GeForce GT 750M)\n",
    "    \n",
    "    NVIDIA GUP DRIVER https://docs.nvidia.com/cuda/cuda-installation-guide-mac-os-x/index.html \n",
    "    \n",
    "    NVIDIA GPU DRIVER FIX https://www.youtube.com/watch?v=9lKoko8O8F0 \n",
    "\n",
    "Libraries: "
   ]
  },
  {
   "cell_type": "code",
   "execution_count": 1,
   "metadata": {},
   "outputs": [
    {
     "data": {
      "text/plain": [
       "<Figure size 640x480 with 1 Axes>"
      ]
     },
     "metadata": {},
     "output_type": "display_data"
    }
   ],
   "source": [
    "# NumPy\n",
    "# http://www.numpy.org \n",
    "# https://docs.scipy.org/doc/numpy/reference/\n",
    "# https://docs.scipy.org/doc/numpy/user/quickstart.html\n",
    "import numpy as np\n",
    "import matplotlib.pyplot as plt\n",
    "\n",
    "def mandelbrot( h,w, maxit=20 ):\n",
    "    \"\"\"Returns an image of the Mandelbrot fractal of size (h,w).\"\"\"\n",
    "    y,x = np.ogrid[ -1.4:1.4:h*1j, -2:0.8:w*1j ]\n",
    "    c = x+y*1j\n",
    "    z = c\n",
    "    divtime = maxit + np.zeros(z.shape, dtype=int)\n",
    "    for i in range(maxit):\n",
    "        z = z**2 + c\n",
    "        diverge = z*np.conj(z) > 2**2            # who is diverging\n",
    "        div_now = diverge & (divtime==maxit)  # who is diverging now\n",
    "        divtime[div_now] = i                  # note when\n",
    "        z[diverge] = 2                        # avoid diverging too much\n",
    "\n",
    "    return divtime\n",
    "\n",
    "plt.imshow(mandelbrot(400,400))\n",
    "plt.show()\n"
   ]
  },
  {
   "cell_type": "code",
   "execution_count": 2,
   "metadata": {},
   "outputs": [
    {
     "data": {
      "image/png": "[encoded data removed]",
      "text/plain": [
       "<Figure size 432x288 with 1 Axes>"
      ]
     },
     "metadata": {
      "needs_background": "light"
     },
     "output_type": "display_data"
    }
   ],
   "source": [
    "# SciPy\n",
    "# https://docs.scipy.org/doc/scipy/reference/\n",
    "# https://docs.scipy.org/doc/scipy/reference/tutorial/index.html\n",
    "from scipy import stats\n",
    "import numpy as np\n",
    "from scipy.stats import norm\n",
    "import matplotlib.pyplot as plt\n",
    "\n",
    "x1 = np.array([-7, -5, 1, 4, 5], dtype=np.float)\n",
    "kde1 = stats.gaussian_kde(x1)\n",
    "kde2 = stats.gaussian_kde(x1, bw_method='silverman')\n",
    "fig = plt.figure()\n",
    "ax = fig.add_subplot(111)\n",
    "ax.plot(x1, np.zeros(x1.shape), 'b+', ms=20)  # rug plot\n",
    "x_eval = np.linspace(-10, 10, num=200)\n",
    "ax.plot(x_eval, kde1(x_eval), 'k-', label=\"Scott's Rule\")\n",
    "ax.plot(x_eval, kde2(x_eval), 'r-', label=\"Silverman's Rule\")\n",
    "plt.show()"
   ]
  },
  {
   "cell_type": "code",
   "execution_count": null,
   "metadata": {},
   "outputs": [
    {
     "name": "stdout",
     "output_type": "stream",
     "text": [
      "0    1.0\n",
      "1    3.0\n",
      "2    5.0\n",
      "3    NaN\n",
      "4    6.0\n",
      "5    8.0\n",
      "dtype: float64\n",
      "DatetimeIndex(['2013-01-01', '2013-01-02', '2013-01-03', '2013-01-04',\n",
      "               '2013-01-05', '2013-01-06'],\n",
      "              dtype='datetime64[ns]', freq='D')\n",
      "                   A         B         C         D\n",
      "2013-01-01 -1.076385  0.766340  0.104597 -0.196307\n",
      "2013-01-02 -0.958881  1.257573  1.538076 -1.900472\n",
      "2013-01-03 -0.341073 -0.091703  0.052676 -0.476867\n",
      "2013-01-04  0.782227  1.320200 -1.058530  1.196420\n",
      "2013-01-05 -1.709372 -1.214826  1.426749  1.249150\n",
      "2013-01-06 -0.214806  1.361363 -0.528825 -0.431877\n",
      "     A          B    C  D      E    F\n",
      "0  1.0 2013-01-02  1.0  3   test  foo\n",
      "1  1.0 2013-01-02  1.0  3  train  foo\n",
      "2  1.0 2013-01-02  1.0  3   test  foo\n",
      "3  1.0 2013-01-02  1.0  3  train  foo\n"
     ]
    },
    {
     "data": {
      "text/plain": [
       "A   -0.586382\n",
       "B    0.566491\n",
       "C    0.255791\n",
       "D   -0.093326\n",
       "dtype: float64"
      ]
     },
     "execution_count": 3,
     "metadata": {},
     "output_type": "execute_result"
    }
   ],
   "source": [
    "# pandas \n",
    "# data clean / transform / normalization on top of numpy \n",
    "# https://pandas.pydata.org\n",
    "# http://pandas.pydata.org/pandas-docs/stable/ \n",
    "# dataFrame should be the most import object\n",
    "import numpy as np\n",
    "import pandas as pd\n",
    "s = pd.Series([1, 3, 5, np.nan, 6, 8])\n",
    "dates = pd.date_range('20130101', periods=6)\n",
    "df = pd.DataFrame(np.random.randn(6, 4), index=dates, columns=list('ABCD'))\n",
    "df2 = pd.DataFrame({'A': 1.,\n",
    "                    'B': pd.Timestamp('20130102'),\n",
    "                    'C': pd.Series(1, index=list(range(4)), dtype='float32'),\n",
    "                    'D': np.array([3] * 4, dtype='int32'),\n",
    "                    'E': pd.Categorical([\"test\", \"train\", \"test\", \"train\"]),\n",
    "                    'F': 'foo'})\n",
    "print(s)\n",
    "print(dates)\n",
    "print(df)\n",
    "print(df2)\n",
    "df.mean()\n"
   ]
  },
  {
   "cell_type": "code",
   "execution_count": null,
   "metadata": {},
   "outputs": [
    {
     "name": "stdout",
     "output_type": "stream",
     "text": [
      "1.13.1\n",
      "tf.Tensor(-344.92053, shape=(), dtype=float32)\n",
      "WARNING:tensorflow:From /Users/yang/.local/lib/python3.7/site-packages/tensorflow/python/ops/resource_variable_ops.py:642: colocate_with (from tensorflow.python.framework.ops) is deprecated and will be removed in a future version.\n",
      "Instructions for updating:\n",
      "Colocations handled automatically by placer.\n",
      "WARNING:tensorflow:From /Users/yang/.local/lib/python3.7/site-packages/tensorflow/python/keras/layers/core.py:143: calling dropout (from tensorflow.python.ops.nn_ops) with keep_prob is deprecated and will be removed in a future version.\n",
      "Instructions for updating:\n",
      "Please use `rate` instead of `keep_prob`. Rate should be set to `rate = 1 - keep_prob`.\n",
      "Epoch 1/5\n",
      "60000/60000 [==============================] - 4s 59us/sample - loss: 0.3013 - acc: 0.9112\n",
      "Epoch 2/5\n",
      "60000/60000 [==============================] - 3s 54us/sample - loss: 0.1482 - acc: 0.9546\n",
      "Epoch 3/5\n",
      " 5728/60000 [=>............................] - ETA: 2s - loss: 0.1138 - acc: 0.9644"
     ]
    }
   ],
   "source": [
    "# tensorflow (google's deep learning )\n",
    "# https://www.tensorflow.org/install/pip (no GPU support in Mac)\n",
    "# https://www.tensorflow.org/overview/  \n",
    "# https://www.tensorflow.org/tutorials/   \n",
    "# https://www.tensorflow.org/guide/\n",
    "\n",
    "import tensorflow as tf\n",
    "print(tf.__version__)\n",
    "tf.enable_eager_execution()\n",
    "print(tf.reduce_sum(tf.random_normal([1000, 1000])))\n",
    "\n",
    "mnist = tf.keras.datasets.mnist\n",
    "(x_train, y_train),(x_test, y_test) = mnist.load_data()\n",
    "x_train, x_test = x_train / 255.0, x_test / 255.0\n",
    "\n",
    "model = tf.keras.models.Sequential([\n",
    "  tf.keras.layers.Flatten(input_shape=(28, 28)),\n",
    "  tf.keras.layers.Dense(128, activation='relu'),\n",
    "  tf.keras.layers.Dropout(0.2),\n",
    "  tf.keras.layers.Dense(10, activation='softmax')\n",
    "])\n",
    "\n",
    "model.compile(optimizer='adam', loss='sparse_categorical_crossentropy', metrics=['accuracy'])\n",
    "model.fit(x_train, y_train, epochs=5)\n",
    "model.evaluate(x_test, y_test)"
   ]
  },
  {
   "cell_type": "code",
   "execution_count": null,
   "metadata": {},
   "outputs": [],
   "source": [
    "# Theano (dead; low level as tnesorflow)\n",
    "# https://pypi.org/project/Theano/ (maintenance only)\n",
    "# http://deeplearning.net/software/theano/index.html\n",
    "# http://deeplearning.net/software/theano/tutorial/index.html\n",
    "from theano import *\n",
    "import theano.tensor as T\n",
    "x = T.dmatrix('x')\n",
    "s = 1 / (1 + T.exp(-x))\n",
    "logistic = theano.function([x], s)\n",
    "logistic([[0, 1], [-1, -2]])\n",
    "\n",
    "s2 = (1 + T.tanh(x / 2)) / 2\n",
    "logistic2 = theano.function([x], s2)\n",
    "logistic2([[0, 1], [-1, -2]])"
   ]
  },
  {
   "cell_type": "code",
   "execution_count": null,
   "metadata": {},
   "outputs": [],
   "source": [
    "# keras  (google's wrapper for tensorflow, Theano, & cntk(not available in mac))\n",
    "# install (CPU & GPU)   https://keras.io/#installation   (most likely has no GPU support)\n",
    "# https://keras.io/ \n",
    "# high level NN API\n",
    "# https://medium.com/coinmonks/8-things-to-do-differently-in-tensorflows-eager-execution-mode-47cf429aa3ad  \n",
    "\n",
    "import tensorflow as tf\n",
    "tf.enable_eager_execution()\n",
    "from keras.models import Sequential\n",
    "model = Sequential()\n",
    "# some complication on placeholder objct..."
   ]
  },
  {
   "cell_type": "code",
   "execution_count": null,
   "metadata": {},
   "outputs": [],
   "source": [
    "# PyPorch (facebook's deep learning for NN and NLP)\n",
    "# compiled locally to support CUDA https://pytorch.org/get-started/locally/\n",
    "# https://pytorch.org/tutorials/\n",
    "# https://pytorch.org/tutorials/beginner/ptcheat.html\n",
    "# impage processing \n",
    "#           https://www.analyticsvidhya.com/blog/2018/02/pytorch-tutorial/\n",
    "#           https://cs230-stanford.github.io/pytorch-getting-started.html\n",
    "from __future__ import print_function\n",
    "import torch\n",
    "x = torch.rand(5, 3)\n",
    "print(x)\n",
    "print(torch.cuda.is_available())\n",
    "matrix_a = torch.randn(3, 3)\n",
    "matrix_b = matrix_a.t()\n",
    "matrix_a + matrix_b"
   ]
  },
  {
   "cell_type": "code",
   "execution_count": null,
   "metadata": {},
   "outputs": [],
   "source": [
    "# scikit-learn (based on NumPy & SciPy and no GPU support)\n",
    "# https://scikit-learn.org/stable/install.html\n",
    "# https://scikit-learn.org/stable/index.html\n",
    "# https://scikit-learn.org/stable/documentation.html\n",
    "from sklearn import svm\n",
    "from sklearn import datasets\n",
    "clf = svm.SVC(gamma='scale')\n",
    "iris = datasets.load_iris()\n",
    "X, y = iris.data, iris.target\n",
    "print(clf.fit(X, y))  \n",
    "\n",
    "import pickle\n",
    "s = pickle.dumps(clf)\n",
    "clf2 = pickle.loads(s)\n",
    "clf2.predict(X[0:1])\n",
    "print(y[0])\n",
    "\n",
    "digits = datasets.load_digits()\n",
    "from sklearn import svm\n",
    "clf = svm.SVC(gamma=0.001, C=100.)\n",
    "clf.fit(digits.data[:-1], digits.target[:-1])  \n",
    "clf.predict(digits.data[-1:])"
   ]
  },
  {
   "cell_type": "code",
   "execution_count": null,
   "metadata": {},
   "outputs": [],
   "source": [
    "# no CNTK (microsoft) on mac,\n",
    "# nltk    ( corpora generate parse tree & stem)\n",
    "# https://www.nltk.org  (install & install data available in same link)\n",
    "\n",
    "import nltk\n",
    "# nltk.download()\n",
    "\n",
    "from nltk.corpus import brown\n",
    "print(brown.words())\n",
    "sentence = \"\"\"At eight o'clock on Thursday morning Arthur didn't feel very good.\"\"\"\n",
    "tokens = nltk.word_tokenize(sentence)\n",
    "print(tokens)\n",
    "tagged = nltk.pos_tag(tokens)\n",
    "print(tagged)\n",
    "entities = nltk.chunk.ne_chunk(tagged)\n",
    "print(entities)\n",
    "\n",
    "from nltk.corpus import treebank\n",
    "t = treebank.parsed_sents('wsj_0001.mrg')[1]\n",
    "t.draw()"
   ]
  },
  {
   "cell_type": "code",
   "execution_count": null,
   "metadata": {},
   "outputs": [],
   "source": [
    "#Caffe & Caffe2  for deep learning \n",
    "# excellent on vision project \n",
    "# http://caffe.berkeleyvision.org \n",
    "# http://caffe.berkeleyvision.org/tutorial/\n",
    "\n",
    "# https://caffe2.ai \n",
    "# https://caffe2.ai/docs/caffe-migration.html (caffe2 is new caffe and competitive with PyTorch)\n",
    "# https://caffe2.ai/docs/tutorials \n",
    "\n",
    "# caffe2 becomes pytorch !! \n",
    "# conda install pytorch-nightly-cpu -c pytorch  "
   ]
  },
  {
   "cell_type": "code",
   "execution_count": null,
   "metadata": {},
   "outputs": [],
   "source": [
    "# Matplotlib\n",
    "# https://matplotlib.org\n",
    "# visualization tool https://matplotlib.org/tutorials/index.html\n",
    "import matplotlib.pyplot as plt\n",
    "import matplotlib.image as mpimg\n",
    "import numpy as np\n",
    "img = mpimg.imread('panther.png')\n",
    "print(img)\n",
    "imgplot = plt.imshow(img)\n",
    "#lum_img = img[:, :, 0]\n",
    "#plt.imshow(lum_img)"
   ]
  },
  {
   "cell_type": "code",
   "execution_count": null,
   "metadata": {},
   "outputs": [],
   "source": [
    "!pwd\n",
    "#chatbot agent: cortana/siri/alexa/google  "
   ]
  },
  {
   "cell_type": "markdown",
   "metadata": {},
   "source": [
    "Support Libraries:\n",
    "\n",
    "    virtualenv  https://virtualenv.pypa.io/en/stable/installation/\n",
    "        doc. https://virtualenv.pypa.io/en/stable/userguide/\n",
    "        \n",
    "    anaconda  https://www.anaconda.com/distribution/\n",
    "        doc  https://docs.anaconda.com \n",
    "    \n",
    "    Jupyter \n",
    "        doc  https://jupyter.readthedocs.io/en/latest/\n",
    "        doc  https://jupyter.org/documentation\n",
    "    \n",
    "    git  https://git-scm.com/downloads \n",
    "        doc  https://git-scm.com/book/en/v2\n",
    "        doc  http://rogerdudler.github.io/git-guide/\n",
    "    \n",
    "    github  https://github.com/yungnien/Springboard \n",
    "    \n",
    "    Docker Desktop  https://hub.docker.com/editions/community/docker-ce-desktop-mac\n",
    "        doc  https://docs.docker.com/get-started/   \n",
    "        doc  https://docker-curriculum.com"
   ]
  },
  {
   "cell_type": "markdown",
   "metadata": {},
   "source": [
    "https://ml-cheatsheet.readthedocs.io/en/latest/index.html\n",
    "https://python.libhunt.com/categories/312-machine-learning\n",
    "http://deeplearning.net/software_links/\n",
    "\n",
    "\n",
    "\n",
    "MXNet (deep learning)\n",
    "https://mxnet.apache.org/versions/master/index.html\n",
    "https://mxnet.apache.org/versions/master/install/osx_setup.html\n",
    "http://mxnet.incubator.apache.org/versions/master/tutorials/index.html\n",
    "(model zoo)\n",
    "https://github.com/apache/incubator-mxnet/tree/master/example\n",
    "Yelp Restaurant Photo Classification\n",
    "\n",
    "\n",
    "Chainer  (deep learning)\n",
    "https://chainer.org\n",
    "https://docs.chainer.org/en/stable/\n",
    "https://docs.chainer.org/en/stable/install.html\n",
    "\n",
    "\n",
    "\n",
    "\n",
    "Spark MLlib (not for deep learning, RDD-based; pays-ark is the python version of spark  need Py4j)\n",
    "https://spark.apache.org/\n",
    "https://spark.apache.org/downloads.html\n",
    "https://spark.apache.org/docs/latest/ml-guide.html\n",
    "https://spark.apache.org/docs/latest/index.html\n",
    "\n",
    "\n",
    "DL4J  (Keras will serve as the Python API;  this can support the Spark’s short of deep learning model )\n",
    "https://deeplearning4j.org\n",
    "https://deeplearning4j.org/tutorials/setup\n",
    "\n",
    "\n",
    "Lasagne (deep learning)\n",
    "lightweight library to build and train neural networks in Theano\n",
    "https://github.com/Lasagne/Lasagne\n",
    "\n",
    "pylearn2 (also for Theano)\n",
    "http://deeplearning.net/software/pylearn2/\n",
    "http://deeplearning.net/software/pylearn2/overview.html\n",
    "\n",
    "blocks & fuel (also for Theano)\n",
    "https://github.com/mila-iqia/blocks\n",
    "https://blocks.readthedocs.io/en/latest/\n",
    "https://github.com/mila-iqia/fuel\n",
    "\n",
    "Dlib \n",
    "a modern C++ toolkit containing machine learning algorithms and tools \n",
    "http://dlib.net\n",
    "https://github.com/davisking/dlib\n",
    "\n",
    "\n",
    "PaddlePaddle  (PArallel Distributed Deep LEarning)\n",
    "http://paddlepaddle.org/en\n",
    "https://github.com/PaddlePaddle/Paddle\n",
    "http://paddlepaddle.org/documentation/docs/en/1.3/beginners_guide/index_en.html\n",
    "\n",
    "\n",
    "TFLearn  (computer of Keras)\n",
    "a modular and transparent deep learning library built on top of Tensorflow.\n",
    "http://tflearn.org\n",
    "http://tflearn.org/installation/\n",
    "http://tflearn.org/tutorials/\n",
    "https://github.com/tflearn/tflearn\n",
    "\n",
    "H2O (a platform for machine learning) \n",
    "(a jar package or pip or hadoop) \n",
    "https://www.h2o.ai\n",
    "http://h2o-release.s3.amazonaws.com/h2o/rel-xu/6/index.html\n",
    "http://h2o-release.s3.amazonaws.com/h2o/rel-xu/6/docs-website/h2o-py/docs/index.html\n",
    "\n",
    "\n",
    "\n",
    "gensim & fasttext\n",
    "installation \n",
    "\n",
    "for cuDNN \n",
    "To install it, copy the *.h files to /usr/local/cuda/include and the lib* files to /usr/local/cuda/lib64.\n"
   ]
  },
  {
   "cell_type": "code",
   "execution_count": null,
   "metadata": {},
   "outputs": [],
   "source": []
  }
 ],
 "metadata": {
  "kernelspec": {
   "display_name": "Python 3",
   "language": "python",
   "name": "python3"
  },
  "language_info": {
   "codemirror_mode": {
    "name": "ipython",
    "version": 3
   },
   "file_extension": ".py",
   "mimetype": "text/x-python",
   "name": "python",
   "nbconvert_exporter": "python",
   "pygments_lexer": "ipython3",
   "version": "3.7.1"
  }
 },
 "nbformat": 4,
 "nbformat_minor": 2
}
